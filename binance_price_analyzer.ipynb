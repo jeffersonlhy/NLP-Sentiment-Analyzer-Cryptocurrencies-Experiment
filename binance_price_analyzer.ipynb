{
 "cells": [
  {
   "cell_type": "code",
   "execution_count": 1,
   "metadata": {},
   "outputs": [],
   "source": [
    "import os\n",
    "import pandas as pd\n",
    "import numpy as np\n",
    "import pickle\n",
    "from string import digits\n",
    "import datetime\n",
    "import re\n",
    "from nltk.corpus import wordnet\n",
    "import string\n",
    "from nltk import pos_tag\n",
    "from nltk.corpus import stopwords\n",
    "from nltk.tokenize import WhitespaceTokenizer, TweetTokenizer\n",
    "from nltk.stem import WordNetLemmatizer\n",
    "import json\n",
    "import plotly.express as px\n",
    "from textblob import TextBlob\n",
    "from wordcloud import WordCloud\n",
    "import matplotlib.pyplot as plt"
   ]
  },
  {
   "cell_type": "code",
   "execution_count": 2,
   "metadata": {},
   "outputs": [],
   "source": [
    "df_tweets = pd.read_csv(os.path.join('data', 'binance', 'binance_tweets_original.csv'))\n",
    "df_price = pd.read_csv(os.path.join('data', 'binance', 'binance_coin_price_1_yr.csv'))"
   ]
  },
  {
   "cell_type": "code",
   "execution_count": 3,
   "metadata": {},
   "outputs": [
    {
     "data": {
      "text/html": [
       "<div>\n",
       "<style scoped>\n",
       "    .dataframe tbody tr th:only-of-type {\n",
       "        vertical-align: middle;\n",
       "    }\n",
       "\n",
       "    .dataframe tbody tr th {\n",
       "        vertical-align: top;\n",
       "    }\n",
       "\n",
       "    .dataframe thead th {\n",
       "        text-align: right;\n",
       "    }\n",
       "</style>\n",
       "<table border=\"1\" class=\"dataframe\">\n",
       "  <thead>\n",
       "    <tr style=\"text-align: right;\">\n",
       "      <th></th>\n",
       "      <th>Date</th>\n",
       "      <th>Close/Last</th>\n",
       "      <th>Volume</th>\n",
       "      <th>Open</th>\n",
       "      <th>High</th>\n",
       "      <th>Low</th>\n",
       "    </tr>\n",
       "  </thead>\n",
       "  <tbody>\n",
       "    <tr>\n",
       "      <th>0</th>\n",
       "      <td>06/02/2022</td>\n",
       "      <td>308.21</td>\n",
       "      <td>NaN</td>\n",
       "      <td>300.50</td>\n",
       "      <td>310.20</td>\n",
       "      <td>306.60</td>\n",
       "    </tr>\n",
       "    <tr>\n",
       "      <th>1</th>\n",
       "      <td>06/01/2022</td>\n",
       "      <td>300.02</td>\n",
       "      <td>NaN</td>\n",
       "      <td>319.21</td>\n",
       "      <td>303.81</td>\n",
       "      <td>298.38</td>\n",
       "    </tr>\n",
       "    <tr>\n",
       "      <th>2</th>\n",
       "      <td>05/31/2022</td>\n",
       "      <td>319.32</td>\n",
       "      <td>NaN</td>\n",
       "      <td>320.80</td>\n",
       "      <td>324.29</td>\n",
       "      <td>318.52</td>\n",
       "    </tr>\n",
       "    <tr>\n",
       "      <th>3</th>\n",
       "      <td>05/30/2022</td>\n",
       "      <td>315.60</td>\n",
       "      <td>NaN</td>\n",
       "      <td>302.72</td>\n",
       "      <td>321.21</td>\n",
       "      <td>304.10</td>\n",
       "    </tr>\n",
       "    <tr>\n",
       "      <th>4</th>\n",
       "      <td>05/29/2022</td>\n",
       "      <td>316.81</td>\n",
       "      <td>NaN</td>\n",
       "      <td>300.91</td>\n",
       "      <td>318.11</td>\n",
       "      <td>304.10</td>\n",
       "    </tr>\n",
       "    <tr>\n",
       "      <th>...</th>\n",
       "      <td>...</td>\n",
       "      <td>...</td>\n",
       "      <td>...</td>\n",
       "      <td>...</td>\n",
       "      <td>...</td>\n",
       "      <td>...</td>\n",
       "    </tr>\n",
       "    <tr>\n",
       "      <th>358</th>\n",
       "      <td>06/07/2021</td>\n",
       "      <td>345.92</td>\n",
       "      <td>NaN</td>\n",
       "      <td>399.23</td>\n",
       "      <td>365.89</td>\n",
       "      <td>332.03</td>\n",
       "    </tr>\n",
       "    <tr>\n",
       "      <th>359</th>\n",
       "      <td>06/06/2021</td>\n",
       "      <td>399.19</td>\n",
       "      <td>NaN</td>\n",
       "      <td>398.06</td>\n",
       "      <td>406.99</td>\n",
       "      <td>390.47</td>\n",
       "    </tr>\n",
       "    <tr>\n",
       "      <th>360</th>\n",
       "      <td>06/05/2021</td>\n",
       "      <td>392.32</td>\n",
       "      <td>NaN</td>\n",
       "      <td>412.46</td>\n",
       "      <td>399.77</td>\n",
       "      <td>387.18</td>\n",
       "    </tr>\n",
       "    <tr>\n",
       "      <th>361</th>\n",
       "      <td>06/04/2021</td>\n",
       "      <td>410.64</td>\n",
       "      <td>NaN</td>\n",
       "      <td>406.32</td>\n",
       "      <td>415.05</td>\n",
       "      <td>388.13</td>\n",
       "    </tr>\n",
       "    <tr>\n",
       "      <th>362</th>\n",
       "      <td>06/03/2021</td>\n",
       "      <td>409.11</td>\n",
       "      <td>NaN</td>\n",
       "      <td>393.57</td>\n",
       "      <td>428.71</td>\n",
       "      <td>394.86</td>\n",
       "    </tr>\n",
       "  </tbody>\n",
       "</table>\n",
       "<p>363 rows × 6 columns</p>\n",
       "</div>"
      ],
      "text/plain": [
       "           Date  Close/Last  Volume    Open    High     Low\n",
       "0    06/02/2022      308.21     NaN  300.50  310.20  306.60\n",
       "1    06/01/2022      300.02     NaN  319.21  303.81  298.38\n",
       "2    05/31/2022      319.32     NaN  320.80  324.29  318.52\n",
       "3    05/30/2022      315.60     NaN  302.72  321.21  304.10\n",
       "4    05/29/2022      316.81     NaN  300.91  318.11  304.10\n",
       "..          ...         ...     ...     ...     ...     ...\n",
       "358  06/07/2021      345.92     NaN  399.23  365.89  332.03\n",
       "359  06/06/2021      399.19     NaN  398.06  406.99  390.47\n",
       "360  06/05/2021      392.32     NaN  412.46  399.77  387.18\n",
       "361  06/04/2021      410.64     NaN  406.32  415.05  388.13\n",
       "362  06/03/2021      409.11     NaN  393.57  428.71  394.86\n",
       "\n",
       "[363 rows x 6 columns]"
      ]
     },
     "execution_count": 3,
     "metadata": {},
     "output_type": "execute_result"
    }
   ],
   "source": [
    "df_price"
   ]
  },
  {
   "cell_type": "code",
   "execution_count": 5,
   "metadata": {},
   "outputs": [
    {
     "data": {
      "text/html": [
       "<div>\n",
       "<style scoped>\n",
       "    .dataframe tbody tr th:only-of-type {\n",
       "        vertical-align: middle;\n",
       "    }\n",
       "\n",
       "    .dataframe tbody tr th {\n",
       "        vertical-align: top;\n",
       "    }\n",
       "\n",
       "    .dataframe thead th {\n",
       "        text-align: right;\n",
       "    }\n",
       "</style>\n",
       "<table border=\"1\" class=\"dataframe\">\n",
       "  <thead>\n",
       "    <tr style=\"text-align: right;\">\n",
       "      <th></th>\n",
       "      <th>re_tweeter</th>\n",
       "      <th>links</th>\n",
       "      <th>author</th>\n",
       "      <th>text</th>\n",
       "      <th>hashtags</th>\n",
       "      <th>reply_count</th>\n",
       "      <th>associated_tweet</th>\n",
       "      <th>timestamp</th>\n",
       "      <th>mentions</th>\n",
       "      <th>author_id</th>\n",
       "      <th>retweet_count</th>\n",
       "      <th>type</th>\n",
       "      <th>id</th>\n",
       "      <th>favorite_count</th>\n",
       "    </tr>\n",
       "  </thead>\n",
       "  <tbody>\n",
       "    <tr>\n",
       "      <th>0</th>\n",
       "      <td>NaN</td>\n",
       "      <td>NaN</td>\n",
       "      <td>CZ  Binance</td>\n",
       "      <td>I love most tihings in the world, but I hate j...</td>\n",
       "      <td>NaN</td>\n",
       "      <td>NaN</td>\n",
       "      <td>NaN</td>\n",
       "      <td>1654195218</td>\n",
       "      <td>NaN</td>\n",
       "      <td>NaN</td>\n",
       "      <td>NaN</td>\n",
       "      <td>Tweet</td>\n",
       "      <td>1532431931656261632</td>\n",
       "      <td>NaN</td>\n",
       "    </tr>\n",
       "    <tr>\n",
       "      <th>1</th>\n",
       "      <td>NaN</td>\n",
       "      <td>NaN</td>\n",
       "      <td>CZ  Binance</td>\n",
       "      <td>#MalaysiaBoleh</td>\n",
       "      <td>NaN</td>\n",
       "      <td>NaN</td>\n",
       "      <td>NaN</td>\n",
       "      <td>1654181362</td>\n",
       "      <td>NaN</td>\n",
       "      <td>NaN</td>\n",
       "      <td>NaN</td>\n",
       "      <td>Tweet</td>\n",
       "      <td>1532373816135008256</td>\n",
       "      <td>NaN</td>\n",
       "    </tr>\n",
       "    <tr>\n",
       "      <th>2</th>\n",
       "      <td>NaN</td>\n",
       "      <td>NaN</td>\n",
       "      <td>CZ  Binance</td>\n",
       "      <td>Just finished a live interview with CNBC Squaw...</td>\n",
       "      <td>NaN</td>\n",
       "      <td>NaN</td>\n",
       "      <td>NaN</td>\n",
       "      <td>1654167185</td>\n",
       "      <td>NaN</td>\n",
       "      <td>NaN</td>\n",
       "      <td>NaN</td>\n",
       "      <td>Tweet</td>\n",
       "      <td>1532314352384151552</td>\n",
       "      <td>NaN</td>\n",
       "    </tr>\n",
       "    <tr>\n",
       "      <th>3</th>\n",
       "      <td>NaN</td>\n",
       "      <td>['https:\\\\/\\\\/t.co\\\\/uh837JZjok']</td>\n",
       "      <td>CZ  Binance</td>\n",
       "      <td>I'll be speaking at the Point Zero Forum in Zu...</td>\n",
       "      <td>NaN</td>\n",
       "      <td>NaN</td>\n",
       "      <td>NaN</td>\n",
       "      <td>1654163469</td>\n",
       "      <td>NaN</td>\n",
       "      <td>NaN</td>\n",
       "      <td>NaN</td>\n",
       "      <td>Tweet</td>\n",
       "      <td>1532298767310929920</td>\n",
       "      <td>NaN</td>\n",
       "    </tr>\n",
       "    <tr>\n",
       "      <th>4</th>\n",
       "      <td>NaN</td>\n",
       "      <td>NaN</td>\n",
       "      <td>CZ  Binance</td>\n",
       "      <td>Humbled to receive this #cryptowarrior gift fr...</td>\n",
       "      <td>NaN</td>\n",
       "      <td>NaN</td>\n",
       "      <td>NaN</td>\n",
       "      <td>1654153218</td>\n",
       "      <td>NaN</td>\n",
       "      <td>NaN</td>\n",
       "      <td>NaN</td>\n",
       "      <td>Tweet</td>\n",
       "      <td>1532255772624580608</td>\n",
       "      <td>NaN</td>\n",
       "    </tr>\n",
       "  </tbody>\n",
       "</table>\n",
       "</div>"
      ],
      "text/plain": [
       "   re_tweeter                              links       author  \\\n",
       "0         NaN                                NaN  CZ  Binance   \n",
       "1         NaN                                NaN  CZ  Binance   \n",
       "2         NaN                                NaN  CZ  Binance   \n",
       "3         NaN  ['https:\\\\/\\\\/t.co\\\\/uh837JZjok']  CZ  Binance   \n",
       "4         NaN                                NaN  CZ  Binance   \n",
       "\n",
       "                                                text  hashtags  reply_count  \\\n",
       "0  I love most tihings in the world, but I hate j...       NaN          NaN   \n",
       "1                                     #MalaysiaBoleh       NaN          NaN   \n",
       "2  Just finished a live interview with CNBC Squaw...       NaN          NaN   \n",
       "3  I'll be speaking at the Point Zero Forum in Zu...       NaN          NaN   \n",
       "4  Humbled to receive this #cryptowarrior gift fr...       NaN          NaN   \n",
       "\n",
       "   associated_tweet   timestamp  mentions  author_id  retweet_count   type  \\\n",
       "0               NaN  1654195218       NaN        NaN            NaN  Tweet   \n",
       "1               NaN  1654181362       NaN        NaN            NaN  Tweet   \n",
       "2               NaN  1654167185       NaN        NaN            NaN  Tweet   \n",
       "3               NaN  1654163469       NaN        NaN            NaN  Tweet   \n",
       "4               NaN  1654153218       NaN        NaN            NaN  Tweet   \n",
       "\n",
       "                    id  favorite_count  \n",
       "0  1532431931656261632             NaN  \n",
       "1  1532373816135008256             NaN  \n",
       "2  1532314352384151552             NaN  \n",
       "3  1532298767310929920             NaN  \n",
       "4  1532255772624580608             NaN  "
      ]
     },
     "execution_count": 5,
     "metadata": {},
     "output_type": "execute_result"
    }
   ],
   "source": [
    "df_tweets.head()"
   ]
  },
  {
   "cell_type": "markdown",
   "metadata": {},
   "source": [
    "### Data Preprocessing on tweets"
   ]
  },
  {
   "cell_type": "code",
   "execution_count": 6,
   "metadata": {},
   "outputs": [],
   "source": [
    "df_tweets['datetime'] = pd.to_datetime(df_tweets['timestamp'], unit='s')"
   ]
  },
  {
   "cell_type": "code",
   "execution_count": 7,
   "metadata": {},
   "outputs": [],
   "source": [
    "df_tweets['date'] = df_tweets['datetime'].apply(lambda x: x.date())\n",
    "df_tweets['date'] = pd.to_datetime(df_tweets['date'])"
   ]
  },
  {
   "cell_type": "code",
   "execution_count": 8,
   "metadata": {},
   "outputs": [
    {
     "data": {
      "text/plain": [
       "Index(['re_tweeter', 'links', 'author', 'text', 'hashtags', 'reply_count',\n",
       "       'associated_tweet', 'timestamp', 'mentions', 'author_id',\n",
       "       'retweet_count', 'type', 'id', 'favorite_count', 'datetime', 'date'],\n",
       "      dtype='object')"
      ]
     },
     "execution_count": 8,
     "metadata": {},
     "output_type": "execute_result"
    }
   ],
   "source": [
    "df_tweets.columns"
   ]
  },
  {
   "cell_type": "code",
   "execution_count": 9,
   "metadata": {},
   "outputs": [],
   "source": [
    "df_tweets.drop(columns=['re_tweeter', 'links', 'hashtags', 'associated_tweet', 'mentions', 'author_id', 'reply_count', 'retweet_count', 'type', 'id', 'favorite_count'], inplace=True)"
   ]
  },
  {
   "cell_type": "code",
   "execution_count": 10,
   "metadata": {},
   "outputs": [],
   "source": [
    "df_tweets.dropna(inplace=True)"
   ]
  },
  {
   "cell_type": "code",
   "execution_count": 71,
   "metadata": {},
   "outputs": [],
   "source": [
    "def get_wordnet_pos(pos_tag):\n",
    "    if pos_tag.startswith('J'):\n",
    "        return wordnet.ADJ\n",
    "    elif pos_tag.startswith('V'):\n",
    "        return wordnet.VERB\n",
    "    elif pos_tag.startswith('N'):\n",
    "        return wordnet.NOUN\n",
    "    elif pos_tag.startswith('R'):\n",
    "        return wordnet.ADV\n",
    "    else:\n",
    "        return wordnet.NOUN\n",
    "\n",
    "def clean_text(text):\n",
    "    # remove punctuation\n",
    "    PUNCT_TO_REMOVE = string.punctuation\n",
    "    text = text.translate(str.maketrans('', '', PUNCT_TO_REMOVE))\n",
    "    # lower text\n",
    "    text = text.lower()\n",
    "    # remove new lines in the text \n",
    "    text = re.sub(r\"\\n+\", \" \", text)\n",
    "    tknzr = TweetTokenizer()\n",
    "    text = tknzr.tokenize(text)\n",
    "    # tokenize text and remove puncutation\n",
    "    text = [word.strip(string.punctuation) for word in text]\n",
    "    # remove words that contain numbers\n",
    "    text = [word for word in text if not any(c.isdigit() for c in word)]\n",
    "    # remove stop words\n",
    "    stop = stopwords.words('english')\n",
    "    text = [x for x in text if x not in stop]\n",
    "    # remove empty tokens\n",
    "    text = [t for t in text if len(t) > 0]\n",
    "    # pos tag text\n",
    "    pos_tags = pos_tag(text)\n",
    "    # lemmatize text\n",
    "    text = [WordNetLemmatizer().lemmatize(t[0], get_wordnet_pos(t[1])) for t in pos_tags]\n",
    "    # remove words with only one letter\n",
    "    text = [t for t in text if len(t) > 1]\n",
    "    # join all\n",
    "    text = \" \".join(text)\n",
    "    return(text)\n"
   ]
  },
  {
   "cell_type": "code",
   "execution_count": 72,
   "metadata": {},
   "outputs": [],
   "source": [
    "df_tweets[\"text_cleaned\"] = df_tweets[\"text\"].apply(lambda x: clean_text(x))"
   ]
  },
  {
   "cell_type": "code",
   "execution_count": 73,
   "metadata": {},
   "outputs": [
    {
     "name": "stderr",
     "output_type": "stream",
     "text": [
      "c:\\Users\\Jeff\\anaconda3\\envs\\machine-learning\\lib\\site-packages\\ipykernel_launcher.py:1: FutureWarning:\n",
      "\n",
      "Treating datetime data as categorical rather than numeric in `.describe` is deprecated and will be removed in a future version of pandas. Specify `datetime_is_numeric=True` to silence this warning and adopt the future behavior now.\n",
      "\n"
     ]
    },
    {
     "data": {
      "text/html": [
       "<div>\n",
       "<style scoped>\n",
       "    .dataframe tbody tr th:only-of-type {\n",
       "        vertical-align: middle;\n",
       "    }\n",
       "\n",
       "    .dataframe tbody tr th {\n",
       "        vertical-align: top;\n",
       "    }\n",
       "\n",
       "    .dataframe thead th {\n",
       "        text-align: right;\n",
       "    }\n",
       "</style>\n",
       "<table border=\"1\" class=\"dataframe\">\n",
       "  <thead>\n",
       "    <tr style=\"text-align: right;\">\n",
       "      <th></th>\n",
       "      <th>author</th>\n",
       "      <th>text</th>\n",
       "      <th>timestamp</th>\n",
       "      <th>datetime</th>\n",
       "      <th>date</th>\n",
       "      <th>text_cleaned</th>\n",
       "      <th>vader_sentiment</th>\n",
       "      <th>flair_classification</th>\n",
       "      <th>flair_classification_cleaned</th>\n",
       "    </tr>\n",
       "  </thead>\n",
       "  <tbody>\n",
       "    <tr>\n",
       "      <th>count</th>\n",
       "      <td>1672</td>\n",
       "      <td>1672</td>\n",
       "      <td>1.672000e+03</td>\n",
       "      <td>1672</td>\n",
       "      <td>1672</td>\n",
       "      <td>1672</td>\n",
       "      <td>1672.000000</td>\n",
       "      <td>1672.000000</td>\n",
       "      <td>1672.000000</td>\n",
       "    </tr>\n",
       "    <tr>\n",
       "      <th>unique</th>\n",
       "      <td>1</td>\n",
       "      <td>1628</td>\n",
       "      <td>NaN</td>\n",
       "      <td>1628</td>\n",
       "      <td>382</td>\n",
       "      <td>1602</td>\n",
       "      <td>NaN</td>\n",
       "      <td>NaN</td>\n",
       "      <td>NaN</td>\n",
       "    </tr>\n",
       "    <tr>\n",
       "      <th>top</th>\n",
       "      <td>CZ  Binance</td>\n",
       "      <td>#Binance</td>\n",
       "      <td>NaN</td>\n",
       "      <td>2022-05-15 08:27:39</td>\n",
       "      <td>2021-05-09 00:00:00</td>\n",
       "      <td>binance</td>\n",
       "      <td>NaN</td>\n",
       "      <td>NaN</td>\n",
       "      <td>NaN</td>\n",
       "    </tr>\n",
       "    <tr>\n",
       "      <th>freq</th>\n",
       "      <td>1672</td>\n",
       "      <td>13</td>\n",
       "      <td>NaN</td>\n",
       "      <td>3</td>\n",
       "      <td>18</td>\n",
       "      <td>15</td>\n",
       "      <td>NaN</td>\n",
       "      <td>NaN</td>\n",
       "      <td>NaN</td>\n",
       "    </tr>\n",
       "    <tr>\n",
       "      <th>first</th>\n",
       "      <td>NaN</td>\n",
       "      <td>NaN</td>\n",
       "      <td>NaN</td>\n",
       "      <td>2021-04-22 05:29:58</td>\n",
       "      <td>2021-04-22 00:00:00</td>\n",
       "      <td>NaN</td>\n",
       "      <td>NaN</td>\n",
       "      <td>NaN</td>\n",
       "      <td>NaN</td>\n",
       "    </tr>\n",
       "    <tr>\n",
       "      <th>last</th>\n",
       "      <td>NaN</td>\n",
       "      <td>NaN</td>\n",
       "      <td>NaN</td>\n",
       "      <td>2022-06-02 18:40:18</td>\n",
       "      <td>2022-06-02 00:00:00</td>\n",
       "      <td>NaN</td>\n",
       "      <td>NaN</td>\n",
       "      <td>NaN</td>\n",
       "      <td>NaN</td>\n",
       "    </tr>\n",
       "    <tr>\n",
       "      <th>mean</th>\n",
       "      <td>NaN</td>\n",
       "      <td>NaN</td>\n",
       "      <td>1.636896e+09</td>\n",
       "      <td>NaN</td>\n",
       "      <td>NaN</td>\n",
       "      <td>NaN</td>\n",
       "      <td>0.150127</td>\n",
       "      <td>0.018488</td>\n",
       "      <td>-0.035996</td>\n",
       "    </tr>\n",
       "    <tr>\n",
       "      <th>std</th>\n",
       "      <td>NaN</td>\n",
       "      <td>NaN</td>\n",
       "      <td>1.151217e+07</td>\n",
       "      <td>NaN</td>\n",
       "      <td>NaN</td>\n",
       "      <td>NaN</td>\n",
       "      <td>0.363920</td>\n",
       "      <td>0.931748</td>\n",
       "      <td>0.920180</td>\n",
       "    </tr>\n",
       "    <tr>\n",
       "      <th>min</th>\n",
       "      <td>NaN</td>\n",
       "      <td>NaN</td>\n",
       "      <td>1.619069e+09</td>\n",
       "      <td>NaN</td>\n",
       "      <td>NaN</td>\n",
       "      <td>NaN</td>\n",
       "      <td>-0.975000</td>\n",
       "      <td>-0.999997</td>\n",
       "      <td>-0.999991</td>\n",
       "    </tr>\n",
       "    <tr>\n",
       "      <th>25%</th>\n",
       "      <td>NaN</td>\n",
       "      <td>NaN</td>\n",
       "      <td>1.625884e+09</td>\n",
       "      <td>NaN</td>\n",
       "      <td>NaN</td>\n",
       "      <td>NaN</td>\n",
       "      <td>0.000000</td>\n",
       "      <td>-0.990662</td>\n",
       "      <td>-0.986202</td>\n",
       "    </tr>\n",
       "    <tr>\n",
       "      <th>50%</th>\n",
       "      <td>NaN</td>\n",
       "      <td>NaN</td>\n",
       "      <td>1.637249e+09</td>\n",
       "      <td>NaN</td>\n",
       "      <td>NaN</td>\n",
       "      <td>NaN</td>\n",
       "      <td>0.000000</td>\n",
       "      <td>0.569723</td>\n",
       "      <td>-0.577367</td>\n",
       "    </tr>\n",
       "    <tr>\n",
       "      <th>75%</th>\n",
       "      <td>NaN</td>\n",
       "      <td>NaN</td>\n",
       "      <td>1.648404e+09</td>\n",
       "      <td>NaN</td>\n",
       "      <td>NaN</td>\n",
       "      <td>NaN</td>\n",
       "      <td>0.433775</td>\n",
       "      <td>0.982729</td>\n",
       "      <td>0.971540</td>\n",
       "    </tr>\n",
       "    <tr>\n",
       "      <th>max</th>\n",
       "      <td>NaN</td>\n",
       "      <td>NaN</td>\n",
       "      <td>1.654195e+09</td>\n",
       "      <td>NaN</td>\n",
       "      <td>NaN</td>\n",
       "      <td>NaN</td>\n",
       "      <td>0.961800</td>\n",
       "      <td>0.999978</td>\n",
       "      <td>0.999959</td>\n",
       "    </tr>\n",
       "  </tbody>\n",
       "</table>\n",
       "</div>"
      ],
      "text/plain": [
       "             author      text     timestamp             datetime  \\\n",
       "count          1672      1672  1.672000e+03                 1672   \n",
       "unique            1      1628           NaN                 1628   \n",
       "top     CZ  Binance  #Binance           NaN  2022-05-15 08:27:39   \n",
       "freq           1672        13           NaN                    3   \n",
       "first           NaN       NaN           NaN  2021-04-22 05:29:58   \n",
       "last            NaN       NaN           NaN  2022-06-02 18:40:18   \n",
       "mean            NaN       NaN  1.636896e+09                  NaN   \n",
       "std             NaN       NaN  1.151217e+07                  NaN   \n",
       "min             NaN       NaN  1.619069e+09                  NaN   \n",
       "25%             NaN       NaN  1.625884e+09                  NaN   \n",
       "50%             NaN       NaN  1.637249e+09                  NaN   \n",
       "75%             NaN       NaN  1.648404e+09                  NaN   \n",
       "max             NaN       NaN  1.654195e+09                  NaN   \n",
       "\n",
       "                       date text_cleaned  vader_sentiment  \\\n",
       "count                  1672         1672      1672.000000   \n",
       "unique                  382         1602              NaN   \n",
       "top     2021-05-09 00:00:00      binance              NaN   \n",
       "freq                     18           15              NaN   \n",
       "first   2021-04-22 00:00:00          NaN              NaN   \n",
       "last    2022-06-02 00:00:00          NaN              NaN   \n",
       "mean                    NaN          NaN         0.150127   \n",
       "std                     NaN          NaN         0.363920   \n",
       "min                     NaN          NaN        -0.975000   \n",
       "25%                     NaN          NaN         0.000000   \n",
       "50%                     NaN          NaN         0.000000   \n",
       "75%                     NaN          NaN         0.433775   \n",
       "max                     NaN          NaN         0.961800   \n",
       "\n",
       "        flair_classification  flair_classification_cleaned  \n",
       "count            1672.000000                   1672.000000  \n",
       "unique                   NaN                           NaN  \n",
       "top                      NaN                           NaN  \n",
       "freq                     NaN                           NaN  \n",
       "first                    NaN                           NaN  \n",
       "last                     NaN                           NaN  \n",
       "mean                0.018488                     -0.035996  \n",
       "std                 0.931748                      0.920180  \n",
       "min                -0.999997                     -0.999991  \n",
       "25%                -0.990662                     -0.986202  \n",
       "50%                 0.569723                     -0.577367  \n",
       "75%                 0.982729                      0.971540  \n",
       "max                 0.999978                      0.999959  "
      ]
     },
     "execution_count": 73,
     "metadata": {},
     "output_type": "execute_result"
    }
   ],
   "source": [
    "df_tweets.describe(include='all')"
   ]
  },
  {
   "cell_type": "code",
   "execution_count": 74,
   "metadata": {},
   "outputs": [
    {
     "data": {
      "text/html": [
       "<div>\n",
       "<style scoped>\n",
       "    .dataframe tbody tr th:only-of-type {\n",
       "        vertical-align: middle;\n",
       "    }\n",
       "\n",
       "    .dataframe tbody tr th {\n",
       "        vertical-align: top;\n",
       "    }\n",
       "\n",
       "    .dataframe thead th {\n",
       "        text-align: right;\n",
       "    }\n",
       "</style>\n",
       "<table border=\"1\" class=\"dataframe\">\n",
       "  <thead>\n",
       "    <tr style=\"text-align: right;\">\n",
       "      <th></th>\n",
       "      <th>author</th>\n",
       "      <th>text</th>\n",
       "      <th>timestamp</th>\n",
       "      <th>datetime</th>\n",
       "      <th>date</th>\n",
       "      <th>text_cleaned</th>\n",
       "      <th>vader_sentiment</th>\n",
       "      <th>flair_classification</th>\n",
       "      <th>flair_classification_cleaned</th>\n",
       "    </tr>\n",
       "  </thead>\n",
       "  <tbody>\n",
       "    <tr>\n",
       "      <th>0</th>\n",
       "      <td>CZ  Binance</td>\n",
       "      <td>I love most tihings in the world, but I hate j...</td>\n",
       "      <td>1654195218</td>\n",
       "      <td>2022-06-02 18:40:18</td>\n",
       "      <td>2022-06-02</td>\n",
       "      <td>love tihings world hate jet lag</td>\n",
       "      <td>-0.7717</td>\n",
       "      <td>0.995204</td>\n",
       "      <td>0.990090</td>\n",
       "    </tr>\n",
       "    <tr>\n",
       "      <th>1</th>\n",
       "      <td>CZ  Binance</td>\n",
       "      <td>#MalaysiaBoleh</td>\n",
       "      <td>1654181362</td>\n",
       "      <td>2022-06-02 14:49:22</td>\n",
       "      <td>2022-06-02</td>\n",
       "      <td>malaysiaboleh</td>\n",
       "      <td>0.0000</td>\n",
       "      <td>0.583073</td>\n",
       "      <td>0.867735</td>\n",
       "    </tr>\n",
       "    <tr>\n",
       "      <th>2</th>\n",
       "      <td>CZ  Binance</td>\n",
       "      <td>Just finished a live interview with CNBC Squaw...</td>\n",
       "      <td>1654167185</td>\n",
       "      <td>2022-06-02 10:53:05</td>\n",
       "      <td>2022-06-02</td>\n",
       "      <td>finish live interview cnbc squawk box studio haha</td>\n",
       "      <td>0.4588</td>\n",
       "      <td>-0.642573</td>\n",
       "      <td>-0.965842</td>\n",
       "    </tr>\n",
       "    <tr>\n",
       "      <th>3</th>\n",
       "      <td>CZ  Binance</td>\n",
       "      <td>I'll be speaking at the Point Zero Forum in Zu...</td>\n",
       "      <td>1654163469</td>\n",
       "      <td>2022-06-02 09:51:09</td>\n",
       "      <td>2022-06-02</td>\n",
       "      <td>ill speak point zero forum zurich switzerland ...</td>\n",
       "      <td>0.0000</td>\n",
       "      <td>0.716512</td>\n",
       "      <td>-0.994749</td>\n",
       "    </tr>\n",
       "    <tr>\n",
       "      <th>4</th>\n",
       "      <td>CZ  Binance</td>\n",
       "      <td>Humbled to receive this #cryptowarrior gift fr...</td>\n",
       "      <td>1654153218</td>\n",
       "      <td>2022-06-02 07:00:18</td>\n",
       "      <td>2022-06-02</td>\n",
       "      <td>humble receive cryptowarrior gift malaysia par...</td>\n",
       "      <td>0.4404</td>\n",
       "      <td>0.997130</td>\n",
       "      <td>0.995697</td>\n",
       "    </tr>\n",
       "  </tbody>\n",
       "</table>\n",
       "</div>"
      ],
      "text/plain": [
       "        author                                               text   timestamp  \\\n",
       "0  CZ  Binance  I love most tihings in the world, but I hate j...  1654195218   \n",
       "1  CZ  Binance                                     #MalaysiaBoleh  1654181362   \n",
       "2  CZ  Binance  Just finished a live interview with CNBC Squaw...  1654167185   \n",
       "3  CZ  Binance  I'll be speaking at the Point Zero Forum in Zu...  1654163469   \n",
       "4  CZ  Binance  Humbled to receive this #cryptowarrior gift fr...  1654153218   \n",
       "\n",
       "             datetime       date  \\\n",
       "0 2022-06-02 18:40:18 2022-06-02   \n",
       "1 2022-06-02 14:49:22 2022-06-02   \n",
       "2 2022-06-02 10:53:05 2022-06-02   \n",
       "3 2022-06-02 09:51:09 2022-06-02   \n",
       "4 2022-06-02 07:00:18 2022-06-02   \n",
       "\n",
       "                                        text_cleaned  vader_sentiment  \\\n",
       "0                    love tihings world hate jet lag          -0.7717   \n",
       "1                                      malaysiaboleh           0.0000   \n",
       "2  finish live interview cnbc squawk box studio haha           0.4588   \n",
       "3  ill speak point zero forum zurich switzerland ...           0.0000   \n",
       "4  humble receive cryptowarrior gift malaysia par...           0.4404   \n",
       "\n",
       "   flair_classification  flair_classification_cleaned  \n",
       "0              0.995204                      0.990090  \n",
       "1              0.583073                      0.867735  \n",
       "2             -0.642573                     -0.965842  \n",
       "3              0.716512                     -0.994749  \n",
       "4              0.997130                      0.995697  "
      ]
     },
     "execution_count": 74,
     "metadata": {},
     "output_type": "execute_result"
    }
   ],
   "source": [
    "df_tweets.head()"
   ]
  },
  {
   "cell_type": "markdown",
   "metadata": {},
   "source": [
    "### Data Preprocess on Price"
   ]
  },
  {
   "cell_type": "code",
   "execution_count": 15,
   "metadata": {},
   "outputs": [],
   "source": [
    "df_price['date'] = pd.to_datetime(df_price['Date'], format=\"%m/%d/%Y\")"
   ]
  },
  {
   "cell_type": "markdown",
   "metadata": {},
   "source": [
    "### Exploration"
   ]
  },
  {
   "cell_type": "code",
   "execution_count": 64,
   "metadata": {},
   "outputs": [
    {
     "data": {
      "text/plain": [
       "'blockchain new technology money develop local crypto industry today devastate effect future local economy'"
      ]
     },
     "execution_count": 64,
     "metadata": {},
     "output_type": "execute_result"
    }
   ],
   "source": [
    "sentence = df_tweets['text_cleaned'][25]\n",
    "sentence\n"
   ]
  },
  {
   "cell_type": "code",
   "execution_count": 25,
   "metadata": {},
   "outputs": [
    {
     "name": "stderr",
     "output_type": "stream",
     "text": [
      "[nltk_data] Downloading package vader_lexicon to\n",
      "[nltk_data]     C:\\Users\\Jeff\\AppData\\Roaming\\nltk_data...\n",
      "[nltk_data]   Package vader_lexicon is already up-to-date!\n"
     ]
    },
    {
     "data": {
      "text/plain": [
       "{'neg': 0.0, 'neu': 1.0, 'pos': 0.0, 'compound': 0.0}"
      ]
     },
     "execution_count": 25,
     "metadata": {},
     "output_type": "execute_result"
    }
   ],
   "source": [
    "import nltk\n",
    "nltk.download('vader_lexicon')\n",
    "from nltk.sentiment.vader import SentimentIntensityAnalyzer\n",
    "sid = SentimentIntensityAnalyzer()\n",
    "sid.polarity_scores(sentence) # compound is the sentiment score"
   ]
  },
  {
   "cell_type": "code",
   "execution_count": 26,
   "metadata": {},
   "outputs": [
    {
     "name": "stderr",
     "output_type": "stream",
     "text": [
      "c:\\Users\\Jeff\\anaconda3\\envs\\machine-learning\\lib\\site-packages\\gensim\\similarities\\__init__.py:15: UserWarning: The gensim.similarities.levenshtein submodule is disabled, because the optional Levenshtein package <https://pypi.org/project/python-Levenshtein/> is unavailable. Install Levenhstein (e.g. `pip install python-Levenshtein`) to suppress this warning.\n",
      "  warnings.warn(msg)\n"
     ]
    },
    {
     "name": "stdout",
     "output_type": "stream",
     "text": [
      "2022-06-06 20:30:40,450 loading file C:\\Users\\Jeff\\.flair\\models\\sentiment-en-mix-distillbert_4.pt\n"
     ]
    }
   ],
   "source": [
    "import flair\n",
    "flair_sentiment = flair.models.TextClassifier.load('en-sentiment')"
   ]
  },
  {
   "cell_type": "code",
   "execution_count": 65,
   "metadata": {},
   "outputs": [
    {
     "data": {
      "text/plain": [
       "['Sentence: \"blockchain new technology money develop local crypto industry today devastate effect future local economy\"'/'NEGATIVE' (0.9989)]"
      ]
     },
     "execution_count": 65,
     "metadata": {},
     "output_type": "execute_result"
    }
   ],
   "source": [
    "s = flair.data.Sentence(sentence)\n",
    "flair_sentiment.predict(s)\n",
    "total_sentiment = s.labels\n",
    "total_sentiment"
   ]
  },
  {
   "cell_type": "code",
   "execution_count": 99,
   "metadata": {},
   "outputs": [
    {
     "data": {
      "text/plain": [
       "Sentiment(polarity=0.0, subjectivity=0.0)"
      ]
     },
     "execution_count": 99,
     "metadata": {},
     "output_type": "execute_result"
    }
   ],
   "source": [
    "from textblob import TextBlob\n",
    "TextBlob(sentence).sentiment"
   ]
  },
  {
   "cell_type": "code",
   "execution_count": 100,
   "metadata": {},
   "outputs": [
    {
     "data": {
      "image/png": "[encoded data removed]",
      "text/plain": [
       "<Figure size 1440x1440 with 1 Axes>"
      ]
     },
     "metadata": {
      "needs_background": "light"
     },
     "output_type": "display_data"
    }
   ],
   "source": [
    "# wordcloud function\n",
    "\n",
    "\n",
    "def show_wordcloud(data, title = None):\n",
    "    wordcloud = WordCloud(\n",
    "        background_color = 'white',\n",
    "        max_words =800,\n",
    "        max_font_size = 40, \n",
    "        scale = 3,\n",
    "        random_state = 42\n",
    "    ).generate(str(data))\n",
    "\n",
    "    fig = plt.figure(1, figsize = (20, 20))\n",
    "    plt.axis('off')\n",
    "    if title: \n",
    "        fig.suptitle(title, fontsize = 20)\n",
    "        fig.subplots_adjust(top = 2.3)\n",
    "\n",
    "    plt.imshow(wordcloud)\n",
    "    plt.show()\n",
    "    \n",
    "# print wordcloud\n",
    "show_wordcloud(df_tweets[\"text_cleaned\"])"
   ]
  },
  {
   "cell_type": "markdown",
   "metadata": {},
   "source": [
    "### Polarity score by Vader"
   ]
  },
  {
   "cell_type": "code",
   "execution_count": 27,
   "metadata": {},
   "outputs": [],
   "source": [
    "def add_vader_score(text):\n",
    "    # No need preprocessing\n",
    "    sid = SentimentIntensityAnalyzer()\n",
    "    return sid.polarity_scores(text)['compound']\n",
    "\n",
    "df_tweets['vader_sentiment'] = df_tweets['text'].apply(add_vader_score)\n"
   ]
  },
  {
   "cell_type": "code",
   "execution_count": 28,
   "metadata": {},
   "outputs": [
    {
     "data": {
      "application/vnd.plotly.v1+json": {
       "config": {
        "plotlyServerURL": "https://plot.ly"
       },
       "data": [
        {
         "alignmentgroup": "True",
         "bingroup": "x",
         "hovertemplate": "vader_sentiment=%{x}<br>count=%{y}<extra></extra>",
         "legendgroup": "",
         "marker": {
          "color": "#636efa"
         },
         "name": "",
         "nbinsx": 30,
         "offsetgroup": "",
         "orientation": "v",
         "showlegend": false,
         "type": "histogram",
         "x": [
          -0.7717,
          0,
          0.4588,
          0,
          0.4404,
          0,
          0,
          0,
          0,
          0,
          0,
          0.2732,
          0.3182,
          -0.0258,
          0.0772,
          -0.0258,
          0,
          0.4588,
          0,
          0,
          0.7088,
          0,
          0,
          -0.6486,
          0.5859,
          0,
          0.6249,
          0,
          0,
          0.3818,
          0.3612,
          0.7003,
          -0.296,
          -0.6124,
          0,
          0.4404,
          0,
          0,
          0.2235,
          0,
          0,
          0,
          0,
          0.6908,
          0.3818,
          -0.4019,
          0.2235,
          0.25,
          0.7845,
          0.7712,
          0.5106,
          0.4939,
          0.1779,
          -0.1027,
          0.3182,
          -0.3612,
          -0.7776,
          0.4404,
          0,
          0.6597,
          0,
          0.4404,
          0.6114,
          0,
          0.4588,
          0,
          0,
          0.0258,
          0.886,
          0,
          0,
          0.6808,
          0.7845,
          0,
          0.4404,
          0,
          -0.2263,
          0,
          0,
          0,
          0.8313,
          0.296,
          -0.3182,
          0.6808,
          0.4767,
          -0.4767,
          0,
          -0.3182,
          0.3818,
          0.5849,
          0,
          0.6486,
          0.4939,
          0,
          0,
          0.75,
          0,
          0.34,
          0.7351,
          0.6696,
          -0.3314,
          0.7783,
          0.4404,
          0.7086,
          0,
          0,
          0,
          0.0644,
          0,
          0.34,
          0,
          -0.5267,
          0.6597,
          0,
          0.2023,
          -0.2462,
          0,
          0.7783,
          0,
          0.4215,
          -0.627,
          -0.7845,
          -0.3182,
          -0.6486,
          0.8074,
          0,
          0,
          0.2023,
          0.5522,
          0.5057,
          -0.296,
          0.4767,
          0.3612,
          0.2023,
          0.2023,
          0,
          0.5574,
          0,
          -0.4767,
          0,
          0,
          0.0772,
          0,
          0.2732,
          0,
          0,
          0.2263,
          -0.2382,
          0,
          0.128,
          0.9217,
          0.3818,
          0,
          -0.3412,
          0,
          0.7184,
          0.7263,
          0,
          0.1779,
          0,
          0,
          0,
          -0.3804,
          0,
          0,
          0,
          0,
          0.4019,
          0.3818,
          0.6948,
          0.5267,
          0,
          0,
          0.7783,
          0,
          0,
          -0.214,
          0.4215,
          0,
          0,
          0,
          0,
          0,
          0,
          -0.1531,
          0,
          0.4588,
          0.4019,
          0.7783,
          -0.296,
          0.4144,
          0,
          0.25,
          0,
          0,
          0.1027,
          0,
          0.5423,
          -0.3875,
          -0.3182,
          0.705,
          0.6249,
          0,
          0,
          0,
          0.6369,
          0.2263,
          0.6908,
          -0.2732,
          0.3597,
          0.0772,
          -0.3447,
          0.5574,
          0,
          0.4329,
          0.8588,
          0,
          0,
          0.6486,
          -0.5267,
          0.25,
          0.4019,
          -0.6369,
          0,
          0.9152,
          0.4019,
          0,
          0.3182,
          0.2235,
          0,
          0,
          0,
          0.6369,
          0.8481,
          0,
          0,
          0,
          0,
          0,
          0,
          0,
          0,
          0.0516,
          0,
          -0.1779,
          -0.3089,
          0,
          0.1779,
          0,
          0,
          0,
          0.5719,
          0.0507,
          -0.0258,
          0.34,
          0,
          0.5574,
          0.5719,
          -0.7964,
          0.4588,
          0.34,
          -0.4404,
          0,
          0,
          -0.5683,
          0.0516,
          0.25,
          0,
          -0.7003,
          0.6249,
          0.5859,
          0.743,
          0,
          0,
          0,
          0,
          0.2144,
          0.6249,
          0,
          0.1689,
          0,
          0,
          -0.5423,
          0.3818,
          0,
          0.2263,
          0,
          0,
          0.4939,
          0.0258,
          0,
          0,
          0.4215,
          0,
          0,
          0.8428,
          0.3818,
          -0.4144,
          0.4939,
          0.4939,
          0.6249,
          0.6369,
          0.69,
          0.6124,
          0,
          -0.1027,
          0,
          0.296,
          0,
          0,
          -0.2235,
          0.4404,
          -0.3612,
          -0.3612,
          0,
          0,
          0,
          0.7579,
          0,
          0,
          0,
          -0.0258,
          0,
          0,
          -0.0516,
          0.3612,
          0.7241,
          0.296,
          0,
          0.8669,
          0.4588,
          0.3818,
          0.5927,
          0,
          0.296,
          0.2732,
          0,
          0,
          0.5994,
          0,
          0,
          0.0762,
          0,
          0.1531,
          0.8122,
          0.6369,
          0,
          -0.8885,
          0.3182,
          0.3182,
          -0.1511,
          0,
          0.6705,
          0.34,
          0.25,
          0,
          -0.6597,
          0.7783,
          -0.296,
          0.4019,
          0,
          -0.2411,
          0.8779,
          -0.2406,
          0,
          0.8481,
          0,
          -0.6652,
          0.34,
          0.5255,
          0.1779,
          0.4019,
          0,
          0.4588,
          0,
          -0.7906,
          0,
          0,
          0.2924,
          -0.25,
          0.1779,
          0.8268,
          0.296,
          0,
          0.3612,
          0,
          0,
          0,
          0.4767,
          0.6256,
          0.234,
          0.6249,
          -0.25,
          -0.6705,
          -0.3182,
          0,
          0.3919,
          0,
          0.6369,
          0.1779,
          0.8225,
          0,
          0,
          0.0772,
          0,
          0.6808,
          0.5719,
          0,
          -0.4479,
          0.5093,
          0.3612,
          0,
          0,
          0,
          0,
          0,
          -0.1531,
          0.5859,
          0.5859,
          0,
          0,
          0,
          0,
          -0.5719,
          0.3818,
          0.4215,
          0,
          -0.5423,
          0,
          0,
          0,
          -0.5267,
          0.3818,
          0,
          0,
          0.3182,
          0,
          0.5574,
          0,
          0,
          0.8519,
          0,
          0,
          0.1901,
          0.0772,
          0,
          0,
          0.4404,
          0.4939,
          0,
          0,
          0,
          0,
          0.636,
          0,
          0.6696,
          0,
          0,
          0,
          0,
          -0.5423,
          0,
          0,
          0,
          0.7003,
          0,
          0.1779,
          0.5719,
          0.25,
          0,
          -0.3182,
          0,
          0,
          0,
          0,
          0.3612,
          0.3384,
          0.5204,
          0.8595,
          -0.296,
          0.4201,
          0.7003,
          0,
          0.4019,
          0,
          -0.4817,
          0,
          0.7579,
          0.1779,
          0.7269,
          0,
          0,
          0.8858,
          0,
          0.4404,
          0,
          0.1154,
          0,
          -0.4717,
          0.3818,
          0,
          -0.4479,
          0.4019,
          0.7906,
          0,
          0,
          0,
          0,
          0,
          -0.128,
          -0.2173,
          0,
          -0.1027,
          0.6486,
          0,
          0,
          0.5023,
          -0.8057,
          -0.3182,
          0,
          0,
          0.7906,
          0,
          0,
          0,
          0.836,
          0.7096,
          0.6705,
          0,
          0.8689,
          0.5859,
          0.4215,
          0.6249,
          0.8748,
          0.6833,
          0,
          0.4215,
          0,
          -0.34,
          0,
          0.3182,
          -0.4215,
          0.2023,
          0,
          0.6369,
          0,
          0,
          0.3612,
          0,
          -0.0516,
          0.7506,
          0,
          0,
          0.6369,
          0,
          0.4404,
          0,
          0,
          0,
          0.5106,
          0,
          0,
          0,
          0,
          0.4291,
          0,
          0,
          0.6808,
          0.8705,
          0.5106,
          -0.296,
          -0.5574,
          -0.3052,
          0.3818,
          0,
          0.4588,
          0.6298,
          0,
          -0.5667,
          0.4019,
          0.4767,
          0.4939,
          0,
          0,
          -0.296,
          0,
          0,
          0,
          0,
          0.1027,
          0.6369,
          0.7242,
          -0.1531,
          0.3094,
          0.4215,
          0,
          0,
          0.5106,
          -0.2263,
          0,
          0.4939,
          0,
          0,
          -0.5267,
          0.6352,
          -0.7177,
          0.7783,
          0,
          0.6705,
          0,
          0.5106,
          0,
          -0.4939,
          0,
          0.3818,
          0.1027,
          0,
          0.5859,
          0.6114,
          0.7003,
          0.7384,
          0.4297,
          0.5267,
          0.2023,
          0,
          0,
          0,
          0,
          0,
          0,
          0,
          0,
          0,
          -0.4767,
          -0.0952,
          0.6355,
          -0.296,
          0,
          0.4404,
          -0.2944,
          0.5627,
          0.8941,
          0.6965,
          0,
          0.3182,
          0,
          0,
          0,
          0,
          0.296,
          0.4215,
          0,
          0,
          -0.0572,
          0,
          0,
          0,
          0.6249,
          0.4939,
          0,
          0,
          0.3412,
          0.4215,
          0,
          -0.0516,
          0,
          0,
          0.4019,
          -0.0572,
          0,
          0,
          -0.2411,
          0,
          0.4168,
          0,
          0.3818,
          0,
          0.5859,
          0.7184,
          0,
          0.4939,
          0,
          0,
          0,
          0.6256,
          0,
          0,
          0,
          0,
          0.4404,
          0,
          -0.4215,
          0,
          0,
          0,
          0,
          0.8004,
          0.5719,
          -0.0253,
          0,
          0.6597,
          0,
          0.5719,
          0.6114,
          0,
          0,
          0,
          0.5267,
          -0.6124,
          -0.7027,
          0,
          0,
          0.3612,
          0,
          0,
          -0.5423,
          0.1779,
          0,
          0.4728,
          0,
          0.8176,
          0,
          0,
          0,
          0,
          0,
          0,
          0,
          0.9468,
          0.8319,
          0.5848,
          0.3818,
          0.4939,
          0,
          0,
          -0.0951,
          0,
          0,
          0.9523,
          0.5204,
          0,
          0,
          0,
          0.4019,
          0.4019,
          0.4364,
          0.4939,
          -0.7351,
          0.5994,
          0.4767,
          -0.3999,
          0.3818,
          0.4767,
          0,
          -0.4215,
          0,
          0.6124,
          0,
          0.2732,
          0,
          -0.2037,
          0.3818,
          0.6588,
          0,
          0.0772,
          0,
          0,
          0,
          0.2023,
          0,
          0,
          0.5719,
          0.3818,
          -0.2732,
          0,
          0,
          0.6908,
          0,
          0,
          -0.5106,
          0,
          0,
          0.4767,
          0,
          0,
          0.2263,
          0.5267,
          0.3612,
          0.6486,
          0,
          0.1376,
          0,
          0,
          0,
          -0.2411,
          0.5719,
          0,
          0.0258,
          0,
          0.2263,
          0,
          0.9153,
          0,
          0.4404,
          0,
          0.5423,
          0.6908,
          -0.031,
          0.0258,
          0,
          0.9118,
          0.2649,
          0,
          0,
          0.4404,
          0.6124,
          0.3818,
          0,
          -0.1027,
          0,
          0.4019,
          0,
          0,
          0.4199,
          -0.3818,
          0,
          0,
          0,
          0.34,
          0,
          0.7906,
          0,
          -0.4939,
          -0.8519,
          0.6597,
          0,
          0.5106,
          0,
          0.4404,
          0.4404,
          0.6444,
          0.3612,
          0,
          0.4199,
          0.5859,
          0,
          0,
          0,
          0,
          0.4199,
          0.4404,
          0.3182,
          0,
          0.4588,
          0,
          0,
          0,
          0,
          -0.5448,
          0,
          0.9246,
          0,
          -0.5574,
          -0.6361,
          -0.3736,
          0.7645,
          0,
          0,
          0,
          0,
          0,
          -0.6705,
          0,
          0.3164,
          0,
          0,
          0.3182,
          -0.296,
          -0.2584,
          0.7184,
          0,
          0.2263,
          0.3612,
          0,
          -0.3291,
          0,
          0,
          0,
          0.5859,
          0.4019,
          0,
          0,
          0,
          0,
          0,
          0.4019,
          0.3182,
          0,
          0.3818,
          0.6948,
          0,
          0,
          -0.2057,
          0.5719,
          0,
          0,
          0,
          0.6239,
          0,
          0.4939,
          0.6249,
          0,
          0,
          0,
          0.6335,
          0,
          0,
          0.1779,
          -0.296,
          0.6249,
          -0.2577,
          0,
          0.7799,
          0,
          0,
          0.7845,
          0.2584,
          0,
          0,
          0,
          0.5423,
          0,
          0,
          0,
          0.4404,
          -0.3612,
          0.2263,
          0,
          0.7814,
          -0.4767,
          0,
          0.5859,
          0.4404,
          0,
          0.765,
          0,
          0.0772,
          0.296,
          0,
          0.7721,
          0,
          -0.5574,
          0.6369,
          0,
          0.4939,
          0.5642,
          0,
          0.6369,
          -0.1027,
          0.3182,
          0,
          0,
          0.3182,
          0.6597,
          -0.4404,
          0,
          0,
          0,
          0,
          0,
          0,
          0.128,
          0.7424,
          0.4019,
          0,
          0,
          0.2732,
          0,
          0,
          0,
          0,
          0,
          0.088,
          0.824,
          0.5563,
          0.5984,
          0,
          0,
          0.8016,
          0,
          0,
          0,
          0,
          0.2584,
          0,
          0,
          0.5719,
          0.8622,
          0,
          0.2294,
          0,
          0,
          0.3182,
          0,
          0.4019,
          0,
          0,
          0.6705,
          0.2732,
          0.5719,
          -0.5256,
          -0.4588,
          0.4019,
          0,
          0.3412,
          0.4574,
          -0.5106,
          0.5106,
          0.7644,
          0,
          -0.2732,
          0.128,
          0,
          -0.8555,
          -0.7845,
          0,
          0,
          0.0813,
          0,
          0.4404,
          0.3182,
          0.3818,
          0.2023,
          0.6993,
          0.4019,
          0,
          0,
          0.128,
          0.6369,
          0.3744,
          -0.5267,
          -0.2263,
          0,
          0.0772,
          0,
          0.9042,
          0,
          0.4588,
          0,
          0,
          -0.0772,
          0,
          0.4588,
          0,
          0,
          0,
          0.5093,
          0.5277,
          0,
          -0.6369,
          0,
          0.4019,
          0,
          0,
          0,
          -0.2263,
          0.7935,
          -0.296,
          0,
          0,
          0.5927,
          0.5106,
          0,
          0,
          0.4848,
          0.4404,
          0,
          0.3612,
          0.5093,
          0.9362,
          0,
          0,
          0,
          -0.3626,
          0,
          0.34,
          0.1779,
          0.7906,
          0,
          0,
          0.0772,
          0.4404,
          -0.2732,
          0,
          0.2023,
          0,
          0.7402,
          0.7402,
          0,
          -0.296,
          -0.8775,
          0,
          0,
          -0.5574,
          0.6103,
          0.6369,
          0.4404,
          0,
          0.7096,
          0,
          0.6114,
          0.4939,
          0,
          0,
          0,
          -0.3182,
          0,
          0,
          0,
          0.4696,
          0,
          -0.0772,
          0.7003,
          0,
          0.431,
          0,
          -0.2263,
          0,
          -0.4023,
          0.2987,
          0.5859,
          0.2144,
          0.6369,
          0.4497,
          0,
          0,
          0.807,
          0,
          0,
          0,
          0.7345,
          0.5719,
          0.6124,
          0,
          0,
          0.0258,
          0.8176,
          0.4215,
          0,
          0,
          0,
          -0.5994,
          0,
          0.3944,
          0.5994,
          0,
          0,
          -0.7165,
          -0.4519,
          -0.2987,
          0,
          0.8051,
          -0.1027,
          0.2023,
          0,
          0.1779,
          0,
          0,
          0.3818,
          -0.6077,
          0,
          0,
          0,
          0,
          -0.09,
          0,
          0.6369,
          0.5859,
          0.8062,
          0.6597,
          0.7506,
          0.8834,
          0.4767,
          0.4939,
          0.4215,
          0.0258,
          0.6369,
          0.8225,
          0,
          0,
          0.6674,
          0.7351,
          0,
          0.6369,
          0.4019,
          0.6077,
          0.1779,
          0.4172,
          0.296,
          0,
          0.4215,
          0.128,
          0,
          0,
          0.34,
          -0.2732,
          0,
          0,
          0.6369,
          0,
          -0.296,
          0.2023,
          0.128,
          0.2263,
          0,
          -0.3624,
          0.3818,
          -0.3412,
          0.7717,
          0,
          0.0951,
          0,
          0.1761,
          0.631,
          0,
          -0.4215,
          0,
          0,
          0,
          0.6369,
          0.4019,
          0.4588,
          0.4588,
          0.4404,
          0,
          0,
          0.5719,
          0,
          0,
          0,
          0.3384,
          0.6597,
          0.4404,
          0,
          0,
          0,
          0,
          0.5093,
          0.8198,
          0,
          0.7845,
          0.5719,
          0,
          0.6115,
          -0.2732,
          -0.2732,
          0.5255,
          0,
          -0.5719,
          0,
          0.3182,
          0,
          0,
          0.5859,
          0,
          -0.1926,
          0.6533,
          0.3403,
          0,
          0,
          0.504,
          0,
          0,
          0.5106,
          0.5859,
          0.7548,
          0.128,
          0.8481,
          0,
          0.6369,
          -0.2342,
          0.2003,
          0,
          0.7783,
          0,
          0,
          0,
          0,
          0.4019,
          0.6249,
          0,
          0,
          -0.4019,
          0,
          -0.296,
          -0.3164,
          0,
          0,
          0,
          0,
          0.8957,
          0.4019,
          0,
          0.4926,
          0,
          -0.0644,
          0,
          -0.8126,
          0,
          -0.6801,
          0.3818,
          0.3032,
          0.4767,
          -0.4404,
          -0.6494,
          -0.3612,
          -0.5622,
          -0.1027,
          0.1531,
          -0.1695,
          -0.0258,
          -0.6523,
          0.7876,
          0,
          0.8777,
          0.4019,
          0.4019,
          0,
          0.4019,
          0.3182,
          0.7184,
          0,
          -0.5106,
          0,
          0.4215,
          0,
          0,
          0.6674,
          0,
          0.8221,
          0.3612,
          0.4939,
          0,
          0.8357,
          0.3612,
          0.7845,
          0.128,
          -0.0572,
          -0.0258,
          0,
          0.3182,
          -0.3818,
          0.5423,
          0.9618,
          0.5719,
          0,
          0,
          0,
          -0.34,
          0,
          -0.3818,
          0,
          -0.1761,
          0,
          0.8338,
          0.4515,
          -0.4767,
          0.2732,
          0.8519,
          -0.0129,
          -0.0772,
          0.8974,
          0,
          -0.128,
          0,
          0,
          -0.0332,
          0,
          0.1779,
          0,
          0.4404,
          0.1531,
          0.3182,
          0.5563,
          0.128,
          0.636,
          0.128,
          0.128,
          0,
          0.0772,
          0.296,
          -0.2732,
          0,
          -0.6633,
          0,
          0.8957,
          0,
          -0.5267,
          0.9552,
          0.2924,
          0.0772,
          0.3612,
          0.7351,
          0,
          0,
          0.8481,
          0,
          0.9042,
          -0.296,
          0.9274,
          0,
          -0.3612,
          0,
          0,
          0.3612,
          0.4588,
          0,
          0.4767,
          0.296,
          0.1235,
          0.4754,
          0,
          0.6597,
          0.3612,
          0.3182,
          0.4404,
          0.1779,
          0,
          0.6249,
          -0.296,
          0.6486,
          0.7269,
          0,
          0.3818,
          0.6124,
          -0.34,
          0,
          0,
          -0.4019,
          0.4019,
          0.4927,
          0.47,
          0.4588,
          0.6369,
          -0.2755,
          0.0258,
          0.7783,
          0,
          0.4588,
          0,
          -0.8894,
          0.6908,
          0,
          0.4588,
          0,
          -0.5106,
          0.4215,
          0,
          0,
          0,
          0.0258,
          0,
          -0.296,
          0,
          0,
          0.9287,
          -0.2732,
          0,
          0.8934,
          0.5927,
          0.0772,
          -0.296,
          0,
          0.4404,
          0.0526,
          0,
          0.1531,
          0.7003,
          0,
          0.3818,
          0.8988,
          -0.2732,
          0,
          0.2023,
          0,
          0,
          -0.5106,
          0.4215,
          -0.0772,
          -0.4019,
          0.875,
          0.8922,
          0,
          0.2263,
          0.8934,
          0.2975,
          -0.2516,
          0,
          0,
          -0.4639,
          0.0675,
          0.3182,
          0.0191,
          0.5129,
          0.4854,
          0,
          0.0258,
          0,
          0,
          0,
          0.2928,
          0,
          0,
          0.6597,
          0.0258,
          0.6114,
          -0.1593,
          0.6697,
          -0.8422,
          -0.559,
          0.9542,
          -0.5423,
          0.8338,
          -0.4404,
          -0.3875,
          0,
          0.5267,
          0.2263,
          0.3603,
          0.3818,
          0,
          0.8316,
          0.1779,
          -0.6486,
          -0.3875,
          0.836,
          0.1531,
          0,
          0.296,
          0,
          0,
          0,
          0,
          -0.4215,
          0.3612,
          0.8226,
          0,
          -0.9118,
          -0.8126,
          0.0258,
          0.7393,
          0.5719,
          -0.6473,
          -0.7364,
          -0.7003,
          0.8436,
          -0.5719,
          0.8519,
          0.2354,
          0.4588,
          0.1744,
          0,
          0.6696,
          0.4404,
          0.836,
          0.5696,
          0.3612,
          0.5661,
          0.3094,
          -0.4404,
          0,
          0,
          0,
          0,
          0,
          0.3818,
          0.1531,
          0.5267,
          0,
          -0.0258,
          0,
          0,
          0,
          0,
          0.9601,
          0,
          0,
          0.4404,
          0,
          0.296,
          0,
          0.3818,
          0,
          0,
          0.6779,
          -0.2732,
          0,
          0,
          0,
          0.2115,
          0.4019,
          -0.2924,
          0.4939,
          0.6124,
          0.6486,
          -0.8888,
          0,
          0.3612,
          0,
          0.2732,
          0.8834,
          0.4939,
          0,
          -0.2584,
          -0.1119,
          0.1511,
          0,
          0,
          -0.5106,
          0,
          0.9064,
          0,
          0.6369,
          0,
          -0.0258,
          0.3612,
          0.5267,
          -0.1531,
          -0.8201,
          0.6924,
          -0.4019,
          0.2732,
          -0.1027,
          0,
          0.488,
          0,
          0,
          -0.0516,
          0.7096,
          0,
          0,
          0,
          0.6908,
          -0.3818,
          0,
          0,
          0,
          0,
          -0.9749,
          -0.25,
          0,
          0.4939,
          -0.5719,
          -0.3182,
          0,
          0,
          0.5267,
          0,
          -0.2023,
          0,
          0,
          0.1531,
          -0.0577,
          -0.5423,
          0,
          0.7088,
          -0.975,
          0.3612,
          0.4753,
          0,
          -0.5574,
          0.6956
         ],
         "xaxis": "x",
         "yaxis": "y"
        }
       ],
       "layout": {
        "barmode": "relative",
        "legend": {
         "tracegroupgap": 0
        },
        "margin": {
         "t": 60
        },
        "template": {
         "data": {
          "bar": [
           {
            "error_x": {
             "color": "#2a3f5f"
            },
            "error_y": {
             "color": "#2a3f5f"
            },
            "marker": {
             "line": {
              "color": "#E5ECF6",
              "width": 0.5
             }
            },
            "type": "bar"
           }
          ],
          "barpolar": [
           {
            "marker": {
             "line": {
              "color": "#E5ECF6",
              "width": 0.5
             }
            },
            "type": "barpolar"
           }
          ],
          "carpet": [
           {
            "aaxis": {
             "endlinecolor": "#2a3f5f",
             "gridcolor": "white",
             "linecolor": "white",
             "minorgridcolor": "white",
             "startlinecolor": "#2a3f5f"
            },
            "baxis": {
             "endlinecolor": "#2a3f5f",
             "gridcolor": "white",
             "linecolor": "white",
             "minorgridcolor": "white",
             "startlinecolor": "#2a3f5f"
            },
            "type": "carpet"
           }
          ],
          "choropleth": [
           {
            "colorbar": {
             "outlinewidth": 0,
             "ticks": ""
            },
            "type": "choropleth"
           }
          ],
          "contour": [
           {
            "colorbar": {
             "outlinewidth": 0,
             "ticks": ""
            },
            "colorscale": [
             [
              0,
              "#0d0887"
             ],
             [
              0.1111111111111111,
              "#46039f"
             ],
             [
              0.2222222222222222,
              "#7201a8"
             ],
             [
              0.3333333333333333,
              "#9c179e"
             ],
             [
              0.4444444444444444,
              "#bd3786"
             ],
             [
              0.5555555555555556,
              "#d8576b"
             ],
             [
              0.6666666666666666,
              "#ed7953"
             ],
             [
              0.7777777777777778,
              "#fb9f3a"
             ],
             [
              0.8888888888888888,
              "#fdca26"
             ],
             [
              1,
              "#f0f921"
             ]
            ],
            "type": "contour"
           }
          ],
          "contourcarpet": [
           {
            "colorbar": {
             "outlinewidth": 0,
             "ticks": ""
            },
            "type": "contourcarpet"
           }
          ],
          "heatmap": [
           {
            "colorbar": {
             "outlinewidth": 0,
             "ticks": ""
            },
            "colorscale": [
             [
              0,
              "#0d0887"
             ],
             [
              0.1111111111111111,
              "#46039f"
             ],
             [
              0.2222222222222222,
              "#7201a8"
             ],
             [
              0.3333333333333333,
              "#9c179e"
             ],
             [
              0.4444444444444444,
              "#bd3786"
             ],
             [
              0.5555555555555556,
              "#d8576b"
             ],
             [
              0.6666666666666666,
              "#ed7953"
             ],
             [
              0.7777777777777778,
              "#fb9f3a"
             ],
             [
              0.8888888888888888,
              "#fdca26"
             ],
             [
              1,
              "#f0f921"
             ]
            ],
            "type": "heatmap"
           }
          ],
          "heatmapgl": [
           {
            "colorbar": {
             "outlinewidth": 0,
             "ticks": ""
            },
            "colorscale": [
             [
              0,
              "#0d0887"
             ],
             [
              0.1111111111111111,
              "#46039f"
             ],
             [
              0.2222222222222222,
              "#7201a8"
             ],
             [
              0.3333333333333333,
              "#9c179e"
             ],
             [
              0.4444444444444444,
              "#bd3786"
             ],
             [
              0.5555555555555556,
              "#d8576b"
             ],
             [
              0.6666666666666666,
              "#ed7953"
             ],
             [
              0.7777777777777778,
              "#fb9f3a"
             ],
             [
              0.8888888888888888,
              "#fdca26"
             ],
             [
              1,
              "#f0f921"
             ]
            ],
            "type": "heatmapgl"
           }
          ],
          "histogram": [
           {
            "marker": {
             "colorbar": {
              "outlinewidth": 0,
              "ticks": ""
             }
            },
            "type": "histogram"
           }
          ],
          "histogram2d": [
           {
            "colorbar": {
             "outlinewidth": 0,
             "ticks": ""
            },
            "colorscale": [
             [
              0,
              "#0d0887"
             ],
             [
              0.1111111111111111,
              "#46039f"
             ],
             [
              0.2222222222222222,
              "#7201a8"
             ],
             [
              0.3333333333333333,
              "#9c179e"
             ],
             [
              0.4444444444444444,
              "#bd3786"
             ],
             [
              0.5555555555555556,
              "#d8576b"
             ],
             [
              0.6666666666666666,
              "#ed7953"
             ],
             [
              0.7777777777777778,
              "#fb9f3a"
             ],
             [
              0.8888888888888888,
              "#fdca26"
             ],
             [
              1,
              "#f0f921"
             ]
            ],
            "type": "histogram2d"
           }
          ],
          "histogram2dcontour": [
           {
            "colorbar": {
             "outlinewidth": 0,
             "ticks": ""
            },
            "colorscale": [
             [
              0,
              "#0d0887"
             ],
             [
              0.1111111111111111,
              "#46039f"
             ],
             [
              0.2222222222222222,
              "#7201a8"
             ],
             [
              0.3333333333333333,
              "#9c179e"
             ],
             [
              0.4444444444444444,
              "#bd3786"
             ],
             [
              0.5555555555555556,
              "#d8576b"
             ],
             [
              0.6666666666666666,
              "#ed7953"
             ],
             [
              0.7777777777777778,
              "#fb9f3a"
             ],
             [
              0.8888888888888888,
              "#fdca26"
             ],
             [
              1,
              "#f0f921"
             ]
            ],
            "type": "histogram2dcontour"
           }
          ],
          "mesh3d": [
           {
            "colorbar": {
             "outlinewidth": 0,
             "ticks": ""
            },
            "type": "mesh3d"
           }
          ],
          "parcoords": [
           {
            "line": {
             "colorbar": {
              "outlinewidth": 0,
              "ticks": ""
             }
            },
            "type": "parcoords"
           }
          ],
          "pie": [
           {
            "automargin": true,
            "type": "pie"
           }
          ],
          "scatter": [
           {
            "marker": {
             "colorbar": {
              "outlinewidth": 0,
              "ticks": ""
             }
            },
            "type": "scatter"
           }
          ],
          "scatter3d": [
           {
            "line": {
             "colorbar": {
              "outlinewidth": 0,
              "ticks": ""
             }
            },
            "marker": {
             "colorbar": {
              "outlinewidth": 0,
              "ticks": ""
             }
            },
            "type": "scatter3d"
           }
          ],
          "scattercarpet": [
           {
            "marker": {
             "colorbar": {
              "outlinewidth": 0,
              "ticks": ""
             }
            },
            "type": "scattercarpet"
           }
          ],
          "scattergeo": [
           {
            "marker": {
             "colorbar": {
              "outlinewidth": 0,
              "ticks": ""
             }
            },
            "type": "scattergeo"
           }
          ],
          "scattergl": [
           {
            "marker": {
             "colorbar": {
              "outlinewidth": 0,
              "ticks": ""
             }
            },
            "type": "scattergl"
           }
          ],
          "scattermapbox": [
           {
            "marker": {
             "colorbar": {
              "outlinewidth": 0,
              "ticks": ""
             }
            },
            "type": "scattermapbox"
           }
          ],
          "scatterpolar": [
           {
            "marker": {
             "colorbar": {
              "outlinewidth": 0,
              "ticks": ""
             }
            },
            "type": "scatterpolar"
           }
          ],
          "scatterpolargl": [
           {
            "marker": {
             "colorbar": {
              "outlinewidth": 0,
              "ticks": ""
             }
            },
            "type": "scatterpolargl"
           }
          ],
          "scatterternary": [
           {
            "marker": {
             "colorbar": {
              "outlinewidth": 0,
              "ticks": ""
             }
            },
            "type": "scatterternary"
           }
          ],
          "surface": [
           {
            "colorbar": {
             "outlinewidth": 0,
             "ticks": ""
            },
            "colorscale": [
             [
              0,
              "#0d0887"
             ],
             [
              0.1111111111111111,
              "#46039f"
             ],
             [
              0.2222222222222222,
              "#7201a8"
             ],
             [
              0.3333333333333333,
              "#9c179e"
             ],
             [
              0.4444444444444444,
              "#bd3786"
             ],
             [
              0.5555555555555556,
              "#d8576b"
             ],
             [
              0.6666666666666666,
              "#ed7953"
             ],
             [
              0.7777777777777778,
              "#fb9f3a"
             ],
             [
              0.8888888888888888,
              "#fdca26"
             ],
             [
              1,
              "#f0f921"
             ]
            ],
            "type": "surface"
           }
          ],
          "table": [
           {
            "cells": {
             "fill": {
              "color": "#EBF0F8"
             },
             "line": {
              "color": "white"
             }
            },
            "header": {
             "fill": {
              "color": "#C8D4E3"
             },
             "line": {
              "color": "white"
             }
            },
            "type": "table"
           }
          ]
         },
         "layout": {
          "annotationdefaults": {
           "arrowcolor": "#2a3f5f",
           "arrowhead": 0,
           "arrowwidth": 1
          },
          "coloraxis": {
           "colorbar": {
            "outlinewidth": 0,
            "ticks": ""
           }
          },
          "colorscale": {
           "diverging": [
            [
             0,
             "#8e0152"
            ],
            [
             0.1,
             "#c51b7d"
            ],
            [
             0.2,
             "#de77ae"
            ],
            [
             0.3,
             "#f1b6da"
            ],
            [
             0.4,
             "#fde0ef"
            ],
            [
             0.5,
             "#f7f7f7"
            ],
            [
             0.6,
             "#e6f5d0"
            ],
            [
             0.7,
             "#b8e186"
            ],
            [
             0.8,
             "#7fbc41"
            ],
            [
             0.9,
             "#4d9221"
            ],
            [
             1,
             "#276419"
            ]
           ],
           "sequential": [
            [
             0,
             "#0d0887"
            ],
            [
             0.1111111111111111,
             "#46039f"
            ],
            [
             0.2222222222222222,
             "#7201a8"
            ],
            [
             0.3333333333333333,
             "#9c179e"
            ],
            [
             0.4444444444444444,
             "#bd3786"
            ],
            [
             0.5555555555555556,
             "#d8576b"
            ],
            [
             0.6666666666666666,
             "#ed7953"
            ],
            [
             0.7777777777777778,
             "#fb9f3a"
            ],
            [
             0.8888888888888888,
             "#fdca26"
            ],
            [
             1,
             "#f0f921"
            ]
           ],
           "sequentialminus": [
            [
             0,
             "#0d0887"
            ],
            [
             0.1111111111111111,
             "#46039f"
            ],
            [
             0.2222222222222222,
             "#7201a8"
            ],
            [
             0.3333333333333333,
             "#9c179e"
            ],
            [
             0.4444444444444444,
             "#bd3786"
            ],
            [
             0.5555555555555556,
             "#d8576b"
            ],
            [
             0.6666666666666666,
             "#ed7953"
            ],
            [
             0.7777777777777778,
             "#fb9f3a"
            ],
            [
             0.8888888888888888,
             "#fdca26"
            ],
            [
             1,
             "#f0f921"
            ]
           ]
          },
          "colorway": [
           "#636efa",
           "#EF553B",
           "#00cc96",
           "#ab63fa",
           "#FFA15A",
           "#19d3f3",
           "#FF6692",
           "#B6E880",
           "#FF97FF",
           "#FECB52"
          ],
          "font": {
           "color": "#2a3f5f"
          },
          "geo": {
           "bgcolor": "white",
           "lakecolor": "white",
           "landcolor": "#E5ECF6",
           "showlakes": true,
           "showland": true,
           "subunitcolor": "white"
          },
          "hoverlabel": {
           "align": "left"
          },
          "hovermode": "closest",
          "mapbox": {
           "style": "light"
          },
          "paper_bgcolor": "white",
          "plot_bgcolor": "#E5ECF6",
          "polar": {
           "angularaxis": {
            "gridcolor": "white",
            "linecolor": "white",
            "ticks": ""
           },
           "bgcolor": "#E5ECF6",
           "radialaxis": {
            "gridcolor": "white",
            "linecolor": "white",
            "ticks": ""
           }
          },
          "scene": {
           "xaxis": {
            "backgroundcolor": "#E5ECF6",
            "gridcolor": "white",
            "gridwidth": 2,
            "linecolor": "white",
            "showbackground": true,
            "ticks": "",
            "zerolinecolor": "white"
           },
           "yaxis": {
            "backgroundcolor": "#E5ECF6",
            "gridcolor": "white",
            "gridwidth": 2,
            "linecolor": "white",
            "showbackground": true,
            "ticks": "",
            "zerolinecolor": "white"
           },
           "zaxis": {
            "backgroundcolor": "#E5ECF6",
            "gridcolor": "white",
            "gridwidth": 2,
            "linecolor": "white",
            "showbackground": true,
            "ticks": "",
            "zerolinecolor": "white"
           }
          },
          "shapedefaults": {
           "line": {
            "color": "#2a3f5f"
           }
          },
          "ternary": {
           "aaxis": {
            "gridcolor": "white",
            "linecolor": "white",
            "ticks": ""
           },
           "baxis": {
            "gridcolor": "white",
            "linecolor": "white",
            "ticks": ""
           },
           "bgcolor": "#E5ECF6",
           "caxis": {
            "gridcolor": "white",
            "linecolor": "white",
            "ticks": ""
           }
          },
          "title": {
           "x": 0.05
          },
          "xaxis": {
           "automargin": true,
           "gridcolor": "white",
           "linecolor": "white",
           "ticks": "",
           "title": {
            "standoff": 15
           },
           "zerolinecolor": "white",
           "zerolinewidth": 2
          },
          "yaxis": {
           "automargin": true,
           "gridcolor": "white",
           "linecolor": "white",
           "ticks": "",
           "title": {
            "standoff": 15
           },
           "zerolinecolor": "white",
           "zerolinewidth": 2
          }
         }
        },
        "xaxis": {
         "anchor": "y",
         "domain": [
          0,
          1
         ],
         "title": {
          "text": "vader_sentiment"
         }
        },
        "yaxis": {
         "anchor": "x",
         "domain": [
          0,
          1
         ],
         "title": {
          "text": "count"
         }
        }
       }
      }
     },
     "metadata": {},
     "output_type": "display_data"
    }
   ],
   "source": [
    "fig = px.histogram(df_tweets, x='vader_sentiment', nbins=30)\n",
    "fig.show()"
   ]
  },
  {
   "cell_type": "markdown",
   "metadata": {},
   "source": [
    "### Polarity score by Flair"
   ]
  },
  {
   "cell_type": "code",
   "execution_count": 29,
   "metadata": {},
   "outputs": [
    {
     "name": "stdout",
     "output_type": "stream",
     "text": [
      "2022-06-06 20:31:53,307 loading file C:\\Users\\Jeff\\.flair\\models\\sentiment-en-mix-distillbert_4.pt\n"
     ]
    }
   ],
   "source": [
    "from flair.models import TextClassifier\n",
    "from flair.data import Sentence\n",
    "classifier = TextClassifier.load('en-sentiment')"
   ]
  },
  {
   "cell_type": "code",
   "execution_count": 36,
   "metadata": {},
   "outputs": [],
   "source": [
    "def add_flair_score(text):\n",
    "    if len(text) == 0:\n",
    "        return 0\n",
    "    sentence = Sentence(text)\n",
    "    classifier.predict(sentence)\n",
    "    value = sentence.labels[0].to_dict()['value']\n",
    "    confidence = sentence.labels[0].to_dict()['confidence']\n",
    "    if value == 'POSITIVE':\n",
    "        return 1 * confidence\n",
    "    else:\n",
    "        return -1 * confidence\n",
    "\n",
    "    "
   ]
  },
  {
   "cell_type": "code",
   "execution_count": 81,
   "metadata": {},
   "outputs": [],
   "source": [
    "df_tweets['flair_sentiment'] = df_tweets['text'].apply(add_flair_score)"
   ]
  },
  {
   "cell_type": "code",
   "execution_count": 40,
   "metadata": {},
   "outputs": [
    {
     "data": {
      "application/vnd.plotly.v1+json": {
       "config": {
        "plotlyServerURL": "https://plot.ly"
       },
       "data": [
        {
         "alignmentgroup": "True",
         "bingroup": "x",
         "hovertemplate": "flair_classification=%{x}<br>count=%{y}<extra></extra>",
         "legendgroup": "",
         "marker": {
          "color": "#636efa"
         },
         "name": "",
         "offsetgroup": "",
         "orientation": "v",
         "showlegend": false,
         "type": "histogram",
         "x": [
          0.9952044486999512,
          0.58307284116745,
          -0.6425727009773254,
          0.7165116667747498,
          0.9971304535865784,
          -0.978741466999054,
          0.9977655410766602,
          -0.9704009890556335,
          0.9875966906547546,
          0.9700124859809875,
          0.9800835847854614,
          0.9846839308738708,
          0.9373642802238464,
          -0.9997841715812683,
          -0.999933123588562,
          -0.9980219602584839,
          -0.7889308929443359,
          0.9989622831344604,
          0.9053203463554382,
          0.8131701350212097,
          0.9996358156204224,
          0.9947007894515991,
          0.9972261786460876,
          0.5708822011947632,
          -0.9887304902076721,
          0.6276064515113831,
          0.9588884115219116,
          -0.9999327659606934,
          -0.9922592043876648,
          0.8484929800033569,
          0.9228530526161194,
          0.9757615923881531,
          -0.9998970031738281,
          0.9989930987358093,
          -0.6853777766227722,
          0.6966084837913513,
          -0.6567626595497131,
          -0.9973129630088806,
          -0.728049635887146,
          0.8399362564086914,
          0.9980025887489319,
          0.9761630296707153,
          -0.9982520937919617,
          -0.9720072150230408,
          0.9973914623260498,
          0.9393549561500549,
          -0.9907388687133789,
          -0.8228983283042908,
          -0.9982471466064453,
          0.9988691210746765,
          -0.9948354959487915,
          0.9905228018760681,
          -0.7945769429206848,
          0.9183835387229919,
          -0.8497557044029236,
          -0.9894745349884033,
          -0.6711176037788391,
          -0.9995844960212708,
          -0.9311763048171997,
          -0.8994570374488831,
          -0.965526282787323,
          0.9984392523765564,
          0.9942909479141235,
          0.9980384707450867,
          0.9901956915855408,
          0.9933595061302185,
          0.9983953833580017,
          -0.9983437061309814,
          0.9985712766647339,
          0.9989264607429504,
          0.7112500071525574,
          0.9624896049499512,
          0.9987751841545105,
          0.9952600598335266,
          0.9952303171157837,
          0.9888878464698792,
          -0.9981644749641418,
          0.9976595640182495,
          0.9301518797874451,
          0.9016439914703369,
          0.9901008605957031,
          0.9951779842376709,
          -0.8836382627487183,
          -0.9627020359039307,
          0.7742956280708313,
          -0.999990701675415,
          0.7639697194099426,
          -0.9604063630104065,
          0.9992259740829468,
          0.9976968169212341,
          -0.9999574422836304,
          -0.9967932105064392,
          -0.9999327659606934,
          0.9846674203872681,
          -0.8008066415786743,
          0.9762968420982361,
          -0.999944806098938,
          -0.9939054846763611,
          -0.9999911785125732,
          -0.8802740573883057,
          0.998681366443634,
          0.9978823065757751,
          -0.9992325305938721,
          0.9984930753707886,
          0.9953587651252747,
          -0.9998821020126343,
          -0.9992135763168335,
          -0.9998657703399658,
          -0.9904431700706482,
          -0.9999946355819702,
          0.944819986820221,
          -0.9998495578765869,
          0.691319465637207,
          0.9609785079956055,
          -0.9997178912162781,
          -0.9653141498565674,
          -0.9803593158721924,
          -0.7233284711837769,
          0.9997087121009827,
          -0.7923943400382996,
          -0.9999969005584717,
          -0.9999700784683228,
          -0.9987214207649231,
          -0.9999799728393555,
          -0.9998636245727539,
          0.9983347058296204,
          0.9990609288215637,
          -0.5695905089378357,
          0.9846497178077698,
          0.9816142916679382,
          0.9994309544563293,
          -0.9874021410942078,
          0.7536667585372925,
          0.9221517443656921,
          0.9830650091171265,
          -0.988965630531311,
          0.9779781699180603,
          -0.9108089804649353,
          -0.9983308911323547,
          0.5980798602104187,
          0.5980798602104187,
          0.5906602144241333,
          0.9995456337928772,
          0.9938961863517761,
          0.9835180044174194,
          -0.9286104440689087,
          -0.995366096496582,
          -0.999980092048645,
          0.9842736721038818,
          0.9676840305328369,
          0.9995279312133789,
          -0.8777992725372314,
          -0.9987536668777466,
          -0.9993103742599487,
          0.9761630296707153,
          -0.7285097241401672,
          0.8840621113777161,
          -0.8081767559051514,
          0.9955020546913147,
          0.9983810186386108,
          0.9971094727516174,
          0.9993371367454529,
          -0.9947242140769958,
          0.933384895324707,
          -0.9490343928337097,
          -0.9529985785484314,
          -0.999550998210907,
          0.9906318187713623,
          0.9993624091148376,
          -0.988150954246521,
          0.9991219639778137,
          0.9464694261550903,
          -0.5084373950958252,
          0.9827273488044739,
          0.8902431130409241,
          -0.9803148508071899,
          -0.9808619618415833,
          -0.7617524862289429,
          0.7639536261558533,
          -0.9949480295181274,
          -0.9948703050613403,
          -0.9745420217514038,
          0.8214867115020752,
          -0.9941331744194031,
          0.9300438761711121,
          0.8575299978256226,
          -0.9693511724472046,
          0.7191298604011536,
          0.9923620223999023,
          -0.9399482011795044,
          0.7357809543609619,
          0.9935507774353027,
          -0.8960708975791931,
          -0.9396373629570007,
          0.9371656179428101,
          -0.9998823404312134,
          0.9892242550849915,
          -0.955094575881958,
          -0.9401320219039917,
          0.8513212203979492,
          -0.9325985908508301,
          0.6026157140731812,
          -0.9992015957832336,
          -0.6276796460151672,
          0.9999784231185913,
          0.9925456643104553,
          0.9615949392318726,
          -0.9721115231513977,
          0.998883068561554,
          0.9850137829780579,
          -0.9946379065513611,
          0.7159648537635803,
          0.9851175546646118,
          -0.9995032548904419,
          -0.998967170715332,
          0.7933909296989441,
          0.9988579750061035,
          -0.9104115962982178,
          0.9982718229293823,
          0.9851499795913696,
          -0.8724839091300964,
          0.9941950440406799,
          -0.9987730383872986,
          -0.9688493609428406,
          0.8317447304725647,
          0.9921757578849792,
          -0.9955814480781555,
          -0.5141510963439941,
          -0.9822169542312622,
          0.9980918765068054,
          -0.999037504196167,
          -0.9706783294677734,
          0.5945094227790833,
          0.9205316305160522,
          -0.8530918955802917,
          0.9992703795433044,
          -0.9996008276939392,
          0.9986228942871094,
          -0.6143690943717957,
          -0.9998972415924072,
          0.9908400177955627,
          -0.9756754636764526,
          0.9235504865646362,
          -0.9909939169883728,
          -0.9999209642410278,
          0.9957730174064636,
          0.9993380904197693,
          -0.9992982149124146,
          0.635643720626831,
          0.998264729976654,
          -0.8435437083244324,
          0.9970868229866028,
          -0.9967125654220581,
          -0.9950501322746277,
          -0.5599066019058228,
          0.847828209400177,
          -0.5918515920639038,
          0.992735743522644,
          -0.9149256348609924,
          0.9379317164421082,
          -0.9998196959495544,
          0.8491337895393372,
          -0.954280436038971,
          0.769690215587616,
          0.9832738637924194,
          0.8046533465385437,
          0.9948005676269531,
          0.8294973373413086,
          -0.9817723035812378,
          0.9884352684020996,
          0.9964798092842102,
          0.9991877675056458,
          0.8690844178199768,
          0.590783417224884,
          0.9940150380134583,
          0.9761630296707153,
          0.999836802482605,
          0.9858545660972595,
          0.5228434205055237,
          -0.9985768795013428,
          -0.7197012901306152,
          0.8134313225746155,
          -0.9995966553688049,
          0.9956356883049011,
          -0.9978297352790833,
          -0.9999417066574097,
          0.9884103536605835,
          -0.9571552276611328,
          0.5672968029975891,
          0.9844191670417786,
          0.8792220950126648,
          -0.9618746638298035,
          0.9983099699020386,
          0.9988687634468079,
          0.6311104893684387,
          0.8194975256919861,
          -0.9792612195014954,
          -0.9999361038208008,
          0.9810323119163513,
          0.9100930690765381,
          0.9884225726127625,
          0.795609712600708,
          0.9995185136795044,
          0.6896011829376221,
          0.8375876545906067,
          0.540998101234436,
          -0.9913484454154968,
          0.9980735778808594,
          0.6411364078521729,
          -0.9966374635696411,
          -0.9953463673591614,
          0.9774793982505798,
          -0.9995083808898926,
          -0.9995083808898926,
          0.9993446469306946,
          -0.9964185953140259,
          -0.7197012901306152,
          0.9982185959815979,
          -0.9823095202445984,
          -0.9997000694274902,
          0.986443281173706,
          0.7282846570014954,
          0.9982022047042847,
          0.9868487119674683,
          0.8310257792472839,
          0.9948112964630127,
          0.9989472031593323,
          -0.9997969269752502,
          0.9995430707931519,
          -0.9993379712104797,
          0.9585793018341064,
          -0.7306738495826721,
          0.9364392757415771,
          -0.6709442138671875,
          0.9332243204116821,
          -0.8431978821754456,
          0.9345452189445496,
          0.986860454082489,
          -0.7643463611602783,
          -0.5284867286682129,
          -0.9996310472488403,
          0.9825628995895386,
          -0.7376608848571777,
          0.7120226621627808,
          0.9862582683563232,
          -0.9895448088645935,
          0.8805485367774963,
          -0.9957510232925415,
          -0.9908742904663086,
          0.9426043033599854,
          -0.9992846846580505,
          -0.8195769786834717,
          0.9985573887825012,
          0.9990691542625427,
          -0.7263773083686829,
          0.9775263071060181,
          -0.9726229310035706,
          0.9920454025268555,
          -0.9850265383720398,
          0.9353402853012085,
          0.918352484703064,
          -0.9708648324012756,
          -0.8416088223457336,
          -0.8360440731048584,
          -0.7197012901306152,
          0.9715811014175415,
          -0.8932937383651733,
          0.9762600064277649,
          -0.8450052738189697,
          0.9982132911682129,
          -0.8919731378555298,
          0.7413052916526794,
          -0.988661527633667,
          0.9614186882972717,
          0.9335963726043701,
          -0.9999549388885498,
          -0.809734046459198,
          0.9999629259109497,
          -0.9950862526893616,
          -0.9948981404304504,
          -0.998349666595459,
          0.9977890253067017,
          0.961043655872345,
          0.9590391516685486,
          -0.9950559139251709,
          0.9927998781204224,
          0.9917020201683044,
          -0.9540306925773621,
          -0.8557711839675903,
          -0.9054799675941467,
          -0.9990123510360718,
          0.9986686706542969,
          -0.9176034927368164,
          -0.9997521042823792,
          -0.9993942975997925,
          0.8953710794448853,
          -0.9999562501907349,
          0.9970790147781372,
          0.9853546619415283,
          -0.9992772936820984,
          0.9960479140281677,
          0.9924179315567017,
          -0.9292290806770325,
          0.5981985926628113,
          -0.6652763485908508,
          -0.9907751679420471,
          0.9987155199050903,
          0.6994544267654419,
          -0.9999932050704956,
          0.9983648657798767,
          -0.9998087286949158,
          0.9868175983428955,
          0.9916324019432068,
          0.9987605810165405,
          -0.9961884617805481,
          -0.6652763485908508,
          -0.955429196357727,
          0.98847895860672,
          0.9961547255516052,
          -0.9301225543022156,
          -0.8153712749481201,
          0.5952075719833374,
          0.9934014678001404,
          -0.9991540908813477,
          0.994813084602356,
          -0.8956131339073181,
          -0.8843351006507874,
          -0.9996907711029053,
          -0.9825189113616943,
          -0.9825189113616943,
          0.7300788760185242,
          -0.9996663331985474,
          -0.6480308771133423,
          -0.9945324659347534,
          -0.5078502893447876,
          0.8895264267921448,
          -0.9551788568496704,
          0.9972209930419922,
          0.9901034832000732,
          0.997810423374176,
          0.9588137865066528,
          0.9989250302314758,
          0.9995197057723999,
          0.8408606052398682,
          -0.9915387034416199,
          0.9992294311523438,
          -0.9801735877990723,
          -0.9993191957473755,
          -0.9908249974250793,
          0.817453145980835,
          -0.9949914813041687,
          0.8331607580184937,
          0.5627622008323669,
          0.9993832111358643,
          0.9209905862808228,
          0.9979713559150696,
          -0.7197012901306152,
          0.990195095539093,
          0.9622424244880676,
          0.7758901715278625,
          -0.9798674583435059,
          -0.7794910073280334,
          0.7506433129310608,
          0.9963197708129883,
          -0.9894535541534424,
          0.9977157115936279,
          0.9069390892982483,
          0.9935879707336426,
          0.9770326614379883,
          0.9859223365783691,
          -0.9980353713035583,
          -0.9122606515884399,
          0.5286502838134766,
          -0.8546005487442017,
          0.9882926344871521,
          -0.9545751810073853,
          0.5131857991218567,
          -0.9999456405639648,
          0.7751479148864746,
          -0.9216929078102112,
          0.9986262321472168,
          0.7888416647911072,
          0.994636595249176,
          0.8639832735061646,
          -0.9910558462142944,
          -0.990929901599884,
          0.8872296214103699,
          0.9982989430427551,
          -0.9999903440475464,
          0.9855825901031494,
          -0.6257855296134949,
          -0.666447103023529,
          0.9973680377006531,
          -0.6619403958320618,
          0.9852333664894104,
          -0.963360071182251,
          -0.9680363535881042,
          0.6951470375061035,
          -0.9952502250671387,
          -0.9981877207756042,
          -0.9731957912445068,
          -0.9999803304672241,
          -0.9980159997940063,
          0.9924203753471375,
          0.9945554733276367,
          0.9965946078300476,
          0.9880961179733276,
          0.9982183575630188,
          -0.8804395794868469,
          0.7274816036224365,
          -0.9999474287033081,
          -0.9738115072250366,
          0.792163074016571,
          0.7277333736419678,
          0.9217057228088379,
          0.9827339053153992,
          0.9995335340499878,
          0.9990286827087402,
          -0.9378024339675903,
          0.9943000078201294,
          -0.6227484345436096,
          0.9400790929794312,
          -0.986056923866272,
          -0.9985567927360535,
          -0.9987612962722778,
          0.8211984634399414,
          0.987027645111084,
          0.7620390057563782,
          -0.99854975938797,
          0.997012734413147,
          0.9993964433670044,
          0.9813084006309509,
          0.9908292293548584,
          0.9985449314117432,
          0.9848834872245789,
          -0.9964044094085693,
          0.9122625589370728,
          0.9995478987693787,
          -0.9959724545478821,
          0.9968037605285645,
          0.99581378698349,
          -0.9999911785125732,
          -0.9998354911804199,
          -0.999881386756897,
          0.9833299517631531,
          0.8525856137275696,
          -0.9995331764221191,
          0.9714264273643494,
          -0.9975696206092834,
          0.5831781625747681,
          -0.9373329877853394,
          0.7897171974182129,
          -0.9587394595146179,
          0.9971416592597961,
          0.9998762607574463,
          0.9958063364028931,
          -0.9884175658226013,
          -0.9884175658226013,
          0.9875072836875916,
          0.9600539803504944,
          -0.9948386549949646,
          0.9977391958236694,
          0.9993371367454529,
          0.887646496295929,
          -0.9114279747009277,
          0.9401212334632874,
          0.9959940910339355,
          -0.9994975328445435,
          0.9755174517631531,
          0.9957633018493652,
          0.9963147044181824,
          -0.9922012090682983,
          -0.9986289739608765,
          0.9989903569221497,
          0.9612608551979065,
          -0.9496687054634094,
          -0.9654567837715149,
          0.9997453093528748,
          -0.8116768002510071,
          0.9922125935554504,
          0.5528951287269592,
          -0.995380163192749,
          0.8762404322624207,
          -0.8439379334449768,
          0.9998040795326233,
          0.6756579279899597,
          0.9997770190238953,
          -0.7197012901306152,
          0.939087450504303,
          -0.9261279106140137,
          -0.999991774559021,
          0.9833986759185791,
          -0.8777265548706055,
          -0.999805748462677,
          0.999955415725708,
          0.9999215602874756,
          -0.99977046251297,
          0.9962971806526184,
          0.9934971332550049,
          -0.7197012901306152,
          -0.998324453830719,
          -0.9190782308578491,
          -0.9722617268562317,
          -0.999969482421875,
          0.9834242463111877,
          -0.999708354473114,
          0.8863947987556458,
          -0.9910059571266174,
          0.9413595199584961,
          0.994621992111206,
          -0.993216335773468,
          -0.9768831729888916,
          -0.8321623802185059,
          0.9896965026855469,
          0.9220139384269714,
          -0.8757503628730774,
          -0.5159672498703003,
          0.9893403649330139,
          0.9990707039833069,
          -0.8961645364761353,
          0.9355197548866272,
          -0.9093344211578369,
          -0.9999830722808838,
          -0.9999924898147583,
          0.9984880685806274,
          0.9992284774780273,
          -0.9990962743759155,
          0.9924607872962952,
          0.8401260375976562,
          -0.7603644132614136,
          -0.9988201260566711,
          -0.7197012901306152,
          -0.6406698822975159,
          -0.999990701675415,
          -0.999985933303833,
          -0.9617186188697815,
          0.9885227680206299,
          0.9808411002159119,
          0.9879733324050903,
          -0.5506386756896973,
          0.9990424513816833,
          0.9585310220718384,
          -0.9307122230529785,
          0.9625911116600037,
          0.9961127638816833,
          0.9909809231758118,
          0.5766885876655579,
          -0.9941933751106262,
          -0.7930867075920105,
          0.9636196494102478,
          -0.9982540011405945,
          0.993910551071167,
          -0.999996542930603,
          -0.8281198143959045,
          0.8937789797782898,
          0.999060332775116,
          0.9761630296707153,
          0.9878900647163391,
          -0.9962408542633057,
          0.9593052268028259,
          0.8938193321228027,
          0.9942930936813354,
          0.9988572597503662,
          0.9761630296707153,
          0.7412214279174805,
          0.9006021022796631,
          0.8183252811431885,
          0.9791578650474548,
          -0.5351816415786743,
          -0.9986637830734253,
          -0.5114417672157288,
          -0.9741699695587158,
          0.9891912341117859,
          0.999440610408783,
          0.5573043823242188,
          0.9883700609207153,
          -0.948228657245636,
          0.9798046350479126,
          -0.9989222288131714,
          0.9473425149917603,
          0.5574115514755249,
          0.9358400106430054,
          -0.9350423216819763,
          -0.7197012901306152,
          0.943755030632019,
          0.9688540697097778,
          0.9605373740196228,
          -0.9498425722122192,
          -0.6091049313545227,
          0.9949432015419006,
          0.9991533756256104,
          -0.9998691082000732,
          0.9977514147758484,
          -0.8653232455253601,
          -0.997454822063446,
          0.9570834636688232,
          -0.8505702614784241,
          0.9689590334892273,
          -0.9955599308013916,
          0.9999626874923706,
          0.9339165091514587,
          0.6150858402252197,
          0.9989342093467712,
          0.9978722333908081,
          0.9908547401428223,
          -0.7135578393936157,
          -0.9555512070655823,
          0.9936104416847229,
          -0.9998160004615784,
          -0.9999687671661377,
          -0.8116452693939209,
          0.989537239074707,
          0.9813627004623413,
          -0.9463136792182922,
          -0.7817040085792542,
          -0.9994051456451416,
          -0.9999358654022217,
          0.8935558199882507,
          0.929218053817749,
          0.8398996591567993,
          0.9922487735748291,
          -0.9980016350746155,
          0.980618953704834,
          0.6638790965080261,
          0.8934332132339478,
          0.8292832970619202,
          -0.5598441362380981,
          -0.6942611932754517,
          0.9897509217262268,
          0.9126797914505005,
          0.9990463852882385,
          0.9092190861701965,
          0.9836053252220154,
          0.9930635094642639,
          0.9999406337738037,
          -0.9910883903503418,
          -0.9611451625823975,
          -0.9267172813415527,
          0.9799324870109558,
          0.7772697806358337,
          0.9992294311523438,
          0.9394630193710327,
          0.8301571607589722,
          0.9939390420913696,
          0.9939390420913696,
          -0.9463777542114258,
          0.9165778160095215,
          -0.9964638352394104,
          0.9335883855819702,
          0.9903571009635925,
          -0.6644678711891174,
          0.9872356057167053,
          0.9998186230659485,
          0.9975500702857971,
          -0.9883294105529785,
          0.9990308284759521,
          0.9262210130691528,
          -0.9969756603240967,
          -0.9996713399887085,
          -0.9993104934692383,
          -0.9785016775131226,
          0.6979702711105347,
          0.9945100545883179,
          -0.9325594305992126,
          0.9686360359191895,
          0.9002628922462463,
          -0.9799845814704895,
          -0.7852823734283447,
          0.8985570669174194,
          -0.9996436834335327,
          0.9981476068496704,
          0.9343770146369934,
          -0.999167799949646,
          0.9855614304542542,
          -0.9997504353523254,
          0.9957297444343567,
          0.8933960199356079,
          0.7379665970802307,
          0.9278638958930969,
          0.994878888130188,
          -0.9993461966514587,
          0.6831080913543701,
          -0.8164348006248474,
          0.980618953704834,
          0.7990357875823975,
          0.7067614793777466,
          0.9994825124740601,
          -0.9997944235801697,
          0.834847629070282,
          -0.9868931770324707,
          -0.9999831914901733,
          0.9941214919090271,
          -0.9997072815895081,
          -0.7197012901306152,
          -0.9993401169776917,
          0.918645441532135,
          -0.9996532201766968,
          -0.9987229704856873,
          -0.963586151599884,
          -0.9997870326042175,
          0.9243559837341309,
          -0.9986652135848999,
          -0.9986862540245056,
          -0.9973650574684143,
          -0.999550998210907,
          0.9992069602012634,
          -0.9811123609542847,
          0.5903891921043396,
          -0.9533453583717346,
          -0.9597578644752502,
          -0.9988517761230469,
          0.8649125695228577,
          0.7647289037704468,
          0.9988958835601807,
          0.9993777275085449,
          0.9989181756973267,
          -0.9881864190101624,
          -0.9999871253967285,
          -0.9683459997177124,
          -0.9997034668922424,
          -0.9264362454414368,
          -0.9121840596199036,
          0.985993504524231,
          0.9736191034317017,
          0.9625433683395386,
          -0.9985480904579163,
          0.7171360850334167,
          0.9971203804016113,
          -0.9856605529785156,
          0.9895433187484741,
          -0.9985259175300598,
          -0.7157621383666992,
          -0.9766246676445007,
          -0.9919151067733765,
          0.9847667813301086,
          0.8073208928108215,
          -0.9929803013801575,
          0.9649465084075928,
          -0.7414763569831848,
          0.941933274269104,
          0.9954670667648315,
          -0.9798276424407959,
          -0.7998077273368835,
          -0.970922589302063,
          0.9406194686889648,
          -0.7765212059020996,
          0.710418701171875,
          -0.7197012901306152,
          -0.9952161312103271,
          0.9314462542533875,
          0.9050437808036804,
          -0.9999209642410278,
          0.7599778175354004,
          0.9331449270248413,
          0.9993371367454529,
          0.9389991164207458,
          0.9811656475067139,
          -0.5855939984321594,
          -0.999413251876831,
          -0.5576439499855042,
          0.9988349080085754,
          -0.9933587908744812,
          -0.9997358918190002,
          -0.9957826137542725,
          0.9993922710418701,
          0.9990365505218506,
          -0.9850017428398132,
          0.9947831034660339,
          0.8096984624862671,
          -0.9924606680870056,
          0.958220899105072,
          0.848214328289032,
          0.956517219543457,
          0.9988682270050049,
          -0.9868861436843872,
          0.6038331389427185,
          0.9996229410171509,
          0.9952284097671509,
          -0.7739956378936768,
          -0.9541121125221252,
          -0.9034345746040344,
          0.6499886512756348,
          -0.8853773474693298,
          -0.9125792980194092,
          0.9868643879890442,
          0.9761630296707153,
          -0.9989802241325378,
          0.9761630296707153,
          0.9991307854652405,
          0.9988204836845398,
          -0.999550998210907,
          -0.9999469518661499,
          0.8949746489524841,
          -0.7197012901306152,
          0.8935558199882507,
          -0.998252809047699,
          -0.9733014702796936,
          0.9978759288787842,
          -0.9204869866371155,
          0.9983527660369873,
          -0.9436438679695129,
          0.5736146569252014,
          -0.9996997117996216,
          0.9818922877311707,
          -0.9575830101966858,
          0.9007487297058105,
          0.9992133378982544,
          0.9996410608291626,
          -0.9631787538528442,
          -0.9238980412483215,
          0.9758341312408447,
          0.8120228052139282,
          0.8384817242622375,
          -0.9713382124900818,
          0.9952729344367981,
          0.9563584327697754,
          0.9612608551979065,
          0.9942529797554016,
          0.9768729209899902,
          0.9918932914733887,
          -0.9998087286949158,
          -0.6807717084884644,
          0.9479770064353943,
          0.9217057228088379,
          -0.820161759853363,
          -0.600652277469635,
          0.9962893724441528,
          0.8970695734024048,
          -0.9998168349266052,
          -0.9343348741531372,
          -0.670123279094696,
          -0.7902083992958069,
          -0.9500381350517273,
          -0.9326373934745789,
          0.9499715566635132,
          0.9905430674552917,
          -0.9991838335990906,
          -0.6678959727287292,
          -0.9803991913795471,
          -0.992805540561676,
          -0.999321460723877,
          0.9966555833816528,
          0.9940385818481445,
          0.8100876808166504,
          0.9713337421417236,
          0.9628592729568481,
          -0.9705833196640015,
          0.9947291016578674,
          -0.9846677184104919,
          0.9555360674858093,
          0.5543703436851501,
          -0.9963622689247131,
          0.9880776405334473,
          0.8991199135780334,
          -0.9919909834861755,
          -0.99983811378479,
          -0.8565891981124878,
          0.9989063739776611,
          0.9997310042381287,
          0.998262345790863,
          -0.908941388130188,
          0.651344895362854,
          -0.9921048879623413,
          -0.998895525932312,
          -0.9984568357467651,
          -0.6588464379310608,
          0.9762548208236694,
          0.9848272800445557,
          -0.9424217343330383,
          0.9544543027877808,
          -0.6953074932098389,
          0.998132050037384,
          0.9686713814735413,
          -0.9981746673583984,
          0.9759724140167236,
          -0.998539924621582,
          -0.9999473094940186,
          0.7051038146018982,
          0.9996833801269531,
          0.8755200505256653,
          0.9564217925071716,
          -0.9517806172370911,
          -0.99815434217453,
          0.8243109583854675,
          0.9993492960929871,
          0.9650188684463501,
          -0.8135743141174316,
          0.9993371367454529,
          0.9995600581169128,
          -0.5027173161506653,
          0.6156747341156006,
          0.9975348711013794,
          -0.9906361699104309,
          0.9663400053977966,
          0.9760299921035767,
          -0.7900755405426025,
          0.9960474371910095,
          -0.7398560047149658,
          -0.9197142720222473,
          -0.995471715927124,
          -0.9960259199142456,
          0.8125293850898743,
          -0.7565876245498657,
          0.8526376485824585,
          -0.7750553488731384,
          -0.5978619456291199,
          0.9671397805213928,
          -0.9867194294929504,
          0.9991409778594971,
          0.9908745288848877,
          -0.9994555115699768,
          -0.9983887672424316,
          -0.8450210690498352,
          -0.9485214352607727,
          0.9514919519424438,
          0.5960808992385864,
          0.9988431930541992,
          0.8404154777526855,
          0.8517858982086182,
          -0.9993440508842468,
          -0.7974491119384766,
          0.8579976558685303,
          0.9983865022659302,
          0.9983559250831604,
          0.8516113758087158,
          0.9916214942932129,
          -0.8096432685852051,
          -0.9274564385414124,
          -0.9543930292129517,
          -0.8905209898948669,
          -0.9293249845504761,
          -0.9688506126403809,
          -0.9998741149902344,
          0.9968734383583069,
          0.973682165145874,
          -0.9910064339637756,
          -0.7197012901306152,
          0.8369383811950684,
          -0.8304422497749329,
          0.833706259727478,
          -0.9993563294410706,
          0.9965110421180725,
          0.9092710018157959,
          -0.9732803702354431,
          0.8762156963348389,
          -0.9404235482215881,
          -0.9976904392242432,
          0.994853675365448,
          0.9983150959014893,
          -0.9975795149803162,
          -0.9995177984237671,
          0.657520055770874,
          -0.9842847585678101,
          -0.999573290348053,
          0.9529188871383667,
          0.9998154044151306,
          0.9957603812217712,
          -0.9924305081367493,
          -0.9919031262397766,
          -0.999981164932251,
          0.9414409399032593,
          -0.994746744632721,
          0.9890913963317871,
          0.9993371367454529,
          -0.5677375793457031,
          0.996088981628418,
          0.9994776844978333,
          0.8484724760055542,
          0.6436711549758911,
          -0.9990580677986145,
          0.9928126931190491,
          -0.9947890043258667,
          -0.9389480352401733,
          0.9141644835472107,
          0.9396447539329529,
          0.9599730968475342,
          0.9957489967346191,
          0.9909852743148804,
          0.997056245803833,
          -0.9937547445297241,
          -0.7571135759353638,
          0.7965800762176514,
          -0.8813552260398865,
          -0.9997500777244568,
          -0.9998049139976501,
          0.9992928504943848,
          -0.6979959011077881,
          -0.8674689531326294,
          0.6468985080718994,
          0.9984682202339172,
          0.9774954915046692,
          -0.9992187023162842,
          -0.8065333366394043,
          0.9676116108894348,
          0.7766313552856445,
          0.9976031184196472,
          0.9974513649940491,
          0.9966747760772705,
          -0.9997428059577942,
          -0.9019271731376648,
          0.6114521622657776,
          0.9491418600082397,
          0.9473782181739807,
          -0.804141640663147,
          0.9995273351669312,
          0.978766143321991,
          0.9599730968475342,
          -0.9993826150894165,
          0.9942401647567749,
          -0.8663697838783264,
          0.9969475865364075,
          0.503459632396698,
          0.7647289037704468,
          0.9490908980369568,
          0.999619722366333,
          0.9809016585350037,
          0.9556641578674316,
          0.8496159315109253,
          0.9294382929801941,
          -0.9974804520606995,
          0.8405643701553345,
          -0.9992807507514954,
          0.9858710169792175,
          0.5064045786857605,
          -0.9629345536231995,
          0.9583013653755188,
          0.9998096823692322,
          -0.9996649026870728,
          -0.9262862801551819,
          -0.9857250452041626,
          -0.9883529543876648,
          -0.9999425411224365,
          -0.999707043170929,
          -0.9982337951660156,
          0.9987949132919312,
          -0.933618426322937,
          0.930814802646637,
          0.7727762460708618,
          -0.56191486120224,
          -0.9126461148262024,
          0.999687910079956,
          0.9988201260566711,
          0.9987553358078003,
          0.6190553903579712,
          0.9921948909759521,
          0.9988480806350708,
          0.9950276017189026,
          0.9809631109237671,
          -0.9924860000610352,
          0.9058524966239929,
          0.9281942248344421,
          -0.9999892711639404,
          0.9869784116744995,
          0.9997043013572693,
          0.9747774004936218,
          -0.9996814727783203,
          -0.9972227811813354,
          -0.678049623966217,
          -0.9997046589851379,
          -0.9959999322891235,
          -0.9548271298408508,
          -0.9996705055236816,
          -0.9995700716972351,
          -0.6869307160377502,
          -0.9984885454177856,
          0.9984378218650818,
          0.6957440972328186,
          -0.9375582337379456,
          0.9992823004722595,
          -0.9999701976776123,
          -0.5715560913085938,
          0.9166891574859619,
          0.9746209383010864,
          0.9897935390472412,
          0.9765728116035461,
          0.8987159132957458,
          0.999401330947876,
          0.9981892704963684,
          -0.9995831847190857,
          -0.9961574673652649,
          0.9597985744476318,
          0.9993502497673035,
          -0.9980711340904236,
          0.9151208400726318,
          0.9976499676704407,
          0.9919754862785339,
          0.7974193692207336,
          0.763249933719635,
          -0.9958672523498535,
          0.5479850769042969,
          0.9847661256790161,
          -0.948636531829834,
          0.9947652816772461,
          0.8431680202484131,
          0.9995298385620117,
          -0.6862048506736755,
          -0.9718532562255859,
          -0.9999372959136963,
          -0.8905447125434875,
          0.9993371367454529,
          0.9902451038360596,
          -0.6464534997940063,
          -0.999338686466217,
          -0.685259997844696,
          -0.9673771262168884,
          0.9986169338226318,
          0.9993738532066345,
          -0.5195208191871643,
          0.9958130717277527,
          -0.7197012901306152,
          -0.999795138835907,
          0.9888894557952881,
          0.5268418192863464,
          -0.9982945322990417,
          -0.9999673366546631,
          -0.9998761415481567,
          0.9993256330490112,
          -0.9218613505363464,
          0.997144877910614,
          0.9974284768104553,
          -0.9998075366020203,
          -0.8415936231613159,
          0.9989945292472839,
          -0.98831707239151,
          0.9975378513336182,
          0.9977431297302246,
          -0.9999938011169434,
          0.9761630296707153,
          -0.9982929825782776,
          0.9974974989891052,
          0.9637441039085388,
          -0.8439958691596985,
          -0.8149904012680054,
          0.9828521609306335,
          -0.6567041873931885,
          0.911030650138855,
          0.9708013534545898,
          0.8429749608039856,
          -0.9011125564575195,
          0.7051038146018982,
          0.961366593837738,
          0.995254635810852,
          -0.8280420899391174,
          -0.9933631420135498,
          -0.99554044008255,
          -0.9965369701385498,
          0.9602640271186829,
          0.9948359727859497,
          0.9629577398300171,
          -0.99090975522995,
          -0.9999569654464722,
          0.9998496770858765,
          0.8893471956253052,
          0.8504534363746643,
          -0.9994275569915771,
          0.9413429498672485,
          0.998216450214386,
          -0.9998500347137451,
          -0.9997051358222961,
          -0.9990494847297668,
          0.9997654557228088,
          -0.8930290937423706,
          -0.9998075366020203,
          0.6682268381118774,
          -0.9971953630447388,
          -0.9999309778213501,
          -0.9998263716697693,
          -0.9999794960021973,
          -0.9988504648208618,
          0.9996079802513123,
          -0.9981934428215027,
          0.9884013533592224,
          0.5718526840209961,
          0.9382351040840149,
          -0.9842661619186401,
          0.9965419173240662,
          -0.9967658519744873,
          -0.9821919798851013,
          -0.9998774528503418,
          0.9996452331542969,
          0.8611403703689575,
          0.9972931742668152,
          0.6680872440338135,
          -0.9997343420982361,
          -0.9999732971191406,
          0.7122179865837097,
          0.9927682876586914,
          -0.6822481155395508,
          -0.9924600720405579,
          -0.9999749660491943,
          0.6773244142532349,
          -0.9999301433563232,
          0.6386523842811584,
          -0.8801165223121643,
          -0.9949782490730286,
          -0.9995676875114441,
          0.9595826268196106,
          -0.9992218017578125,
          0.9876614809036255,
          0.9493503570556641,
          0.9910995364189148,
          0.9455224275588989,
          0.7323108315467834,
          -0.9998767375946045,
          -0.9856239557266235,
          0.8772007822990417,
          -0.7766966223716736,
          0.9281793236732483,
          0.5668506026268005,
          -0.5201293230056763,
          0.8978053331375122,
          -0.9971919655799866,
          -0.9119892716407776,
          -0.8651211857795715,
          0.7719191908836365,
          -0.9926047325134277,
          -0.9999760389328003,
          0.9842553734779358,
          -0.6830686330795288,
          -0.9913781881332397,
          -0.9811042547225952,
          -0.9088179469108582,
          -0.9999921321868896,
          -0.9908899664878845,
          0.9678905606269836,
          0.9127922058105469,
          0.9990183115005493,
          -0.8432093858718872,
          0.7254086136817932,
          0.9984889030456543,
          0.8858056664466858,
          -0.9382725358009338,
          -0.9997230172157288,
          -0.993887722492218,
          0.9752119183540344,
          0.9204825758934021,
          -0.5843474268913269,
          0.514768123626709,
          0.5693504810333252,
          0.9987685084342957,
          -0.7891571521759033,
          -0.9996607303619385,
          -0.8116452693939209,
          0.9974619150161743,
          0.9965463280677795,
          0.8056155443191528,
          -0.999755322933197,
          -0.9992330074310303,
          -0.9995706677436829,
          0.9996342658996582,
          0.9703167080879211,
          -0.9996273517608643,
          -0.9991095662117004,
          -0.9976499676704407,
          0.9925937056541443,
          -0.9951528310775757,
          0.6872829794883728,
          -0.9994587302207947,
          -0.954904317855835,
          0.8366218209266663,
          -0.7661842703819275,
          -0.9992782473564148,
          -0.774555504322052,
          -0.9873538613319397,
          0.8279739618301392,
          -0.8678096532821655,
          -0.9986926913261414,
          0.9952141046524048,
          0.9793014526367188,
          -0.9934548735618591,
          -0.9999704360961914,
          -0.9956663846969604,
          -0.8881277441978455,
          -0.9950965046882629,
          -0.8715870380401611,
          -0.8416681289672852,
          -0.999890923500061,
          0.7231314182281494,
          -0.9295686483383179,
          -0.8143795132637024,
          -0.999473512172699,
          0.839932382106781,
          -0.9984160661697388,
          0.9487401843070984,
          -0.7592746019363403,
          0.9989787340164185,
          -0.97788405418396,
          0.983253538608551,
          -0.7717445492744446,
          0.9995892643928528,
          -0.999783456325531,
          0.9472174644470215,
          0.9761630296707153,
          -0.9943464398384094,
          0.9986363053321838,
          -0.9883850812911987,
          -0.9373849034309387,
          -0.9998800754547119,
          -0.9738851189613342,
          -0.9984533786773682,
          0.9989996552467346,
          0.9977686405181885,
          0.9920356869697571,
          -0.9971543550491333,
          0.9930616021156311,
          -0.9998574256896973,
          0.9926250576972961,
          0.9933550357818604,
          -0.9975408315658569,
          0.9927042722702026,
          0.9947505593299866,
          -0.9998986721038818,
          0.9118486046791077,
          0.9992756247520447,
          -0.9996938705444336,
          -0.8916996121406555,
          -0.9989190101623535,
          0.9752687215805054,
          0.99407958984375,
          -0.9998891353607178,
          0.9984101057052612,
          0.9860564470291138,
          -0.9920895099639893,
          -0.9868757724761963,
          -0.9995115995407104,
          -0.9984011054039001,
          0.998862624168396,
          0.5630382895469666,
          0.8553546667098999,
          -0.9996708631515503,
          0.9950833320617676,
          0.9197660684585571,
          0.9432336688041687,
          0.9978281855583191,
          -0.9998635053634644,
          -0.9999079704284668,
          0.9972561001777649,
          0.5088597536087036,
          0.8447739481925964,
          -0.9999780654907227,
          0.9933532476425171,
          -0.9999523162841797,
          -0.7372409701347351,
          -0.9912499189376831,
          -0.998759388923645,
          0.8861449360847473,
          0.8807892799377441,
          0.9276038408279419,
          0.9964074492454529,
          -0.99954754114151,
          -0.9795572757720947,
          -0.9971259236335754,
          -0.9420233964920044,
          0.9753507971763611,
          -0.8674248456954956,
          -0.9916742444038391,
          0.9847540855407715,
          0.9987939596176147,
          0.9742655754089355,
          -0.992882490158081,
          -0.5519696474075317,
          0.9550508260726929,
          -0.999962568283081,
          0.5575039386749268,
          -0.9778183698654175,
          -0.910815417766571,
          -0.9999924898147583,
          -0.8670953512191772,
          0.9123888611793518,
          -0.9998143315315247,
          -0.880867063999176,
          -0.9999938011169434,
          0.9994699358940125,
          0.996950626373291,
          -0.9240443706512451,
          -0.9650561809539795,
          -0.9996927976608276,
          0.7463245987892151,
          0.7367445230484009,
          0.7686684727668762,
          -0.893739640712738,
          -0.7898029685020447,
          0.5118152499198914,
          -0.9998291730880737,
          -0.9996284246444702,
          -0.989015519618988,
          0.948262631893158,
          0.9980085492134094,
          0.9982209801673889,
          -0.9984925985336304,
          -0.9999442100524902,
          0.9451597929000854,
          -0.9996999502182007,
          -0.9999479055404663,
          0.9761907458305359,
          -0.8871709108352661,
          0.8520850539207458,
          -0.9999905824661255,
          -0.9696043729782104,
          -0.9999784231185913,
          0.9861239194869995,
          -0.9962111711502075,
          -0.9985248446464539,
          -0.9836248159408569,
          -0.9978907704353333,
          0.5781135559082031,
          0.6978181004524231,
          -0.9932563304901123,
          -0.9538152813911438,
          -0.947188138961792,
          -0.9986523985862732,
          -0.9977328777313232,
          -0.9478798508644104,
          0.9969358444213867,
          0.6269881129264832,
          0.9988962411880493,
          -0.9765316247940063,
          0.9015910029411316,
          -0.999992847442627,
          -0.9999954700469971,
          -0.9992222785949707,
          -0.9993137121200562,
          -0.9988380074501038,
          -0.8763104677200317,
          -0.9999622106552124,
          0.9999076128005981,
          -0.9996132254600525,
          -0.8858590126037598,
          -0.9999839067459106,
          -0.9951422214508057,
          -0.9872561693191528,
          0.9481501579284668,
          0.8534882068634033,
          -0.9999698400497437,
          -0.9999902248382568,
          0.9973590970039368,
          -0.8196925520896912,
          -0.9997441172599792,
          -0.9986288547515869,
          -0.7154354453086853,
          0.9941501617431641,
          0.9946818947792053,
          -0.9985917210578918,
          -0.9890769720077515,
          0.9718205332756042,
          -0.6064177751541138,
          0.8589513301849365,
          -0.9986587762832642,
          -0.5396325588226318,
          -0.9972758889198303,
          -0.9953638315200806,
          0.9675737619400024,
          -0.9991477727890015,
          -0.9955910444259644,
          0.8905625939369202,
          0.9989590644836426,
          -0.9979464411735535,
          0.9964721202850342,
          0.9991043210029602,
          -0.999990701675415,
          -0.9999721050262451,
          -0.9998149275779724,
          0.918728232383728,
          -0.9994737505912781,
          0.9615622758865356,
          0.9982017278671265,
          -0.9945914149284363,
          -0.9985753297805786,
          0.7968630790710449,
          -0.9993718266487122,
          0.5819441676139832,
          -0.9319535493850708,
          -0.9989736080169678,
          0.9978000521659851,
          0.6653741598129272,
          0.9999024868011475,
          -0.9980144500732422,
          -0.9775609374046326,
          -0.9963082075119019,
          0.9998623132705688,
          0.9236174821853638,
          -0.8711259365081787,
          0.9761630296707153,
          -0.9996894598007202,
          0.7031777501106262,
          0.9914121627807617,
          -0.9718335866928101,
          0.998408854007721,
          -0.9942840933799744,
          0.5944210886955261,
          0.9560982584953308,
          -0.5496376752853394,
          -0.9735007286071777,
          -0.9989487528800964,
          -0.9916977882385254,
          -0.8219255805015564,
          -0.9984556436538696,
          0.9801881313323975,
          -0.99888676404953,
          0.9971573352813721,
          0.6585598587989807,
          -0.9992319345474243,
          -0.999430239200592,
          0.9051293134689331,
          -0.9899617433547974,
          -0.9999598264694214,
          -0.9986129999160767,
          -0.9805423021316528,
          0.9966132044792175,
          -0.9863729476928711,
          0.9992109537124634,
          -0.8449814915657043,
          0.9714767932891846,
          -0.9998162388801575,
          -0.9969913959503174,
          0.9810629487037659,
          -0.9530166387557983,
          -0.9999055862426758,
          -0.9975402355194092,
          -0.9972409009933472,
          0.9855058193206787,
          -0.9740657806396484,
          -0.9995260238647461,
          -0.8060702681541443,
          -0.9190055131912231,
          -0.5622943639755249,
          -0.9999884366989136,
          -0.9432670474052429,
          0.9180847406387329,
          0.6643286347389221,
          -0.9997697472572327,
          -0.8771244883537292,
          -0.8532994985580444,
          -0.701885461807251,
          -0.8851942420005798,
          -0.9999589920043945,
          -0.9998378753662109,
          -0.9993496537208557,
          -0.9547631144523621,
          0.9935431480407715,
          0.9763332009315491,
          -0.9734265208244324,
          0.9713299870491028,
          0.5700947046279907,
          -0.9096964001655579,
          0.9981558918952942,
          0.9567217230796814,
          -0.9994126558303833,
          -0.9983581900596619,
          -0.987716019153595,
          0.8646113276481628,
          0.8939287066459656,
          -0.9982675313949585,
          0.7993489503860474,
          -0.9974690675735474,
          -0.9127671718597412,
          0.9909434914588928,
          0.9963017702102661,
          -0.9969092011451721,
          0.9876227378845215,
          0.7647289037704468,
          -0.9999575614929199,
          -0.9997718930244446,
          -0.9995564818382263,
          0.8960838913917542,
          -0.9967069029808044,
          -0.996338963508606,
          -0.5650115609169006,
          0.9989362359046936,
          -0.9785666465759277,
          -0.985934317111969,
          -0.9999438524246216
         ],
         "xaxis": "x",
         "yaxis": "y"
        }
       ],
       "layout": {
        "barmode": "relative",
        "legend": {
         "tracegroupgap": 0
        },
        "margin": {
         "t": 60
        },
        "template": {
         "data": {
          "bar": [
           {
            "error_x": {
             "color": "#2a3f5f"
            },
            "error_y": {
             "color": "#2a3f5f"
            },
            "marker": {
             "line": {
              "color": "#E5ECF6",
              "width": 0.5
             }
            },
            "type": "bar"
           }
          ],
          "barpolar": [
           {
            "marker": {
             "line": {
              "color": "#E5ECF6",
              "width": 0.5
             }
            },
            "type": "barpolar"
           }
          ],
          "carpet": [
           {
            "aaxis": {
             "endlinecolor": "#2a3f5f",
             "gridcolor": "white",
             "linecolor": "white",
             "minorgridcolor": "white",
             "startlinecolor": "#2a3f5f"
            },
            "baxis": {
             "endlinecolor": "#2a3f5f",
             "gridcolor": "white",
             "linecolor": "white",
             "minorgridcolor": "white",
             "startlinecolor": "#2a3f5f"
            },
            "type": "carpet"
           }
          ],
          "choropleth": [
           {
            "colorbar": {
             "outlinewidth": 0,
             "ticks": ""
            },
            "type": "choropleth"
           }
          ],
          "contour": [
           {
            "colorbar": {
             "outlinewidth": 0,
             "ticks": ""
            },
            "colorscale": [
             [
              0,
              "#0d0887"
             ],
             [
              0.1111111111111111,
              "#46039f"
             ],
             [
              0.2222222222222222,
              "#7201a8"
             ],
             [
              0.3333333333333333,
              "#9c179e"
             ],
             [
              0.4444444444444444,
              "#bd3786"
             ],
             [
              0.5555555555555556,
              "#d8576b"
             ],
             [
              0.6666666666666666,
              "#ed7953"
             ],
             [
              0.7777777777777778,
              "#fb9f3a"
             ],
             [
              0.8888888888888888,
              "#fdca26"
             ],
             [
              1,
              "#f0f921"
             ]
            ],
            "type": "contour"
           }
          ],
          "contourcarpet": [
           {
            "colorbar": {
             "outlinewidth": 0,
             "ticks": ""
            },
            "type": "contourcarpet"
           }
          ],
          "heatmap": [
           {
            "colorbar": {
             "outlinewidth": 0,
             "ticks": ""
            },
            "colorscale": [
             [
              0,
              "#0d0887"
             ],
             [
              0.1111111111111111,
              "#46039f"
             ],
             [
              0.2222222222222222,
              "#7201a8"
             ],
             [
              0.3333333333333333,
              "#9c179e"
             ],
             [
              0.4444444444444444,
              "#bd3786"
             ],
             [
              0.5555555555555556,
              "#d8576b"
             ],
             [
              0.6666666666666666,
              "#ed7953"
             ],
             [
              0.7777777777777778,
              "#fb9f3a"
             ],
             [
              0.8888888888888888,
              "#fdca26"
             ],
             [
              1,
              "#f0f921"
             ]
            ],
            "type": "heatmap"
           }
          ],
          "heatmapgl": [
           {
            "colorbar": {
             "outlinewidth": 0,
             "ticks": ""
            },
            "colorscale": [
             [
              0,
              "#0d0887"
             ],
             [
              0.1111111111111111,
              "#46039f"
             ],
             [
              0.2222222222222222,
              "#7201a8"
             ],
             [
              0.3333333333333333,
              "#9c179e"
             ],
             [
              0.4444444444444444,
              "#bd3786"
             ],
             [
              0.5555555555555556,
              "#d8576b"
             ],
             [
              0.6666666666666666,
              "#ed7953"
             ],
             [
              0.7777777777777778,
              "#fb9f3a"
             ],
             [
              0.8888888888888888,
              "#fdca26"
             ],
             [
              1,
              "#f0f921"
             ]
            ],
            "type": "heatmapgl"
           }
          ],
          "histogram": [
           {
            "marker": {
             "colorbar": {
              "outlinewidth": 0,
              "ticks": ""
             }
            },
            "type": "histogram"
           }
          ],
          "histogram2d": [
           {
            "colorbar": {
             "outlinewidth": 0,
             "ticks": ""
            },
            "colorscale": [
             [
              0,
              "#0d0887"
             ],
             [
              0.1111111111111111,
              "#46039f"
             ],
             [
              0.2222222222222222,
              "#7201a8"
             ],
             [
              0.3333333333333333,
              "#9c179e"
             ],
             [
              0.4444444444444444,
              "#bd3786"
             ],
             [
              0.5555555555555556,
              "#d8576b"
             ],
             [
              0.6666666666666666,
              "#ed7953"
             ],
             [
              0.7777777777777778,
              "#fb9f3a"
             ],
             [
              0.8888888888888888,
              "#fdca26"
             ],
             [
              1,
              "#f0f921"
             ]
            ],
            "type": "histogram2d"
           }
          ],
          "histogram2dcontour": [
           {
            "colorbar": {
             "outlinewidth": 0,
             "ticks": ""
            },
            "colorscale": [
             [
              0,
              "#0d0887"
             ],
             [
              0.1111111111111111,
              "#46039f"
             ],
             [
              0.2222222222222222,
              "#7201a8"
             ],
             [
              0.3333333333333333,
              "#9c179e"
             ],
             [
              0.4444444444444444,
              "#bd3786"
             ],
             [
              0.5555555555555556,
              "#d8576b"
             ],
             [
              0.6666666666666666,
              "#ed7953"
             ],
             [
              0.7777777777777778,
              "#fb9f3a"
             ],
             [
              0.8888888888888888,
              "#fdca26"
             ],
             [
              1,
              "#f0f921"
             ]
            ],
            "type": "histogram2dcontour"
           }
          ],
          "mesh3d": [
           {
            "colorbar": {
             "outlinewidth": 0,
             "ticks": ""
            },
            "type": "mesh3d"
           }
          ],
          "parcoords": [
           {
            "line": {
             "colorbar": {
              "outlinewidth": 0,
              "ticks": ""
             }
            },
            "type": "parcoords"
           }
          ],
          "pie": [
           {
            "automargin": true,
            "type": "pie"
           }
          ],
          "scatter": [
           {
            "marker": {
             "colorbar": {
              "outlinewidth": 0,
              "ticks": ""
             }
            },
            "type": "scatter"
           }
          ],
          "scatter3d": [
           {
            "line": {
             "colorbar": {
              "outlinewidth": 0,
              "ticks": ""
             }
            },
            "marker": {
             "colorbar": {
              "outlinewidth": 0,
              "ticks": ""
             }
            },
            "type": "scatter3d"
           }
          ],
          "scattercarpet": [
           {
            "marker": {
             "colorbar": {
              "outlinewidth": 0,
              "ticks": ""
             }
            },
            "type": "scattercarpet"
           }
          ],
          "scattergeo": [
           {
            "marker": {
             "colorbar": {
              "outlinewidth": 0,
              "ticks": ""
             }
            },
            "type": "scattergeo"
           }
          ],
          "scattergl": [
           {
            "marker": {
             "colorbar": {
              "outlinewidth": 0,
              "ticks": ""
             }
            },
            "type": "scattergl"
           }
          ],
          "scattermapbox": [
           {
            "marker": {
             "colorbar": {
              "outlinewidth": 0,
              "ticks": ""
             }
            },
            "type": "scattermapbox"
           }
          ],
          "scatterpolar": [
           {
            "marker": {
             "colorbar": {
              "outlinewidth": 0,
              "ticks": ""
             }
            },
            "type": "scatterpolar"
           }
          ],
          "scatterpolargl": [
           {
            "marker": {
             "colorbar": {
              "outlinewidth": 0,
              "ticks": ""
             }
            },
            "type": "scatterpolargl"
           }
          ],
          "scatterternary": [
           {
            "marker": {
             "colorbar": {
              "outlinewidth": 0,
              "ticks": ""
             }
            },
            "type": "scatterternary"
           }
          ],
          "surface": [
           {
            "colorbar": {
             "outlinewidth": 0,
             "ticks": ""
            },
            "colorscale": [
             [
              0,
              "#0d0887"
             ],
             [
              0.1111111111111111,
              "#46039f"
             ],
             [
              0.2222222222222222,
              "#7201a8"
             ],
             [
              0.3333333333333333,
              "#9c179e"
             ],
             [
              0.4444444444444444,
              "#bd3786"
             ],
             [
              0.5555555555555556,
              "#d8576b"
             ],
             [
              0.6666666666666666,
              "#ed7953"
             ],
             [
              0.7777777777777778,
              "#fb9f3a"
             ],
             [
              0.8888888888888888,
              "#fdca26"
             ],
             [
              1,
              "#f0f921"
             ]
            ],
            "type": "surface"
           }
          ],
          "table": [
           {
            "cells": {
             "fill": {
              "color": "#EBF0F8"
             },
             "line": {
              "color": "white"
             }
            },
            "header": {
             "fill": {
              "color": "#C8D4E3"
             },
             "line": {
              "color": "white"
             }
            },
            "type": "table"
           }
          ]
         },
         "layout": {
          "annotationdefaults": {
           "arrowcolor": "#2a3f5f",
           "arrowhead": 0,
           "arrowwidth": 1
          },
          "coloraxis": {
           "colorbar": {
            "outlinewidth": 0,
            "ticks": ""
           }
          },
          "colorscale": {
           "diverging": [
            [
             0,
             "#8e0152"
            ],
            [
             0.1,
             "#c51b7d"
            ],
            [
             0.2,
             "#de77ae"
            ],
            [
             0.3,
             "#f1b6da"
            ],
            [
             0.4,
             "#fde0ef"
            ],
            [
             0.5,
             "#f7f7f7"
            ],
            [
             0.6,
             "#e6f5d0"
            ],
            [
             0.7,
             "#b8e186"
            ],
            [
             0.8,
             "#7fbc41"
            ],
            [
             0.9,
             "#4d9221"
            ],
            [
             1,
             "#276419"
            ]
           ],
           "sequential": [
            [
             0,
             "#0d0887"
            ],
            [
             0.1111111111111111,
             "#46039f"
            ],
            [
             0.2222222222222222,
             "#7201a8"
            ],
            [
             0.3333333333333333,
             "#9c179e"
            ],
            [
             0.4444444444444444,
             "#bd3786"
            ],
            [
             0.5555555555555556,
             "#d8576b"
            ],
            [
             0.6666666666666666,
             "#ed7953"
            ],
            [
             0.7777777777777778,
             "#fb9f3a"
            ],
            [
             0.8888888888888888,
             "#fdca26"
            ],
            [
             1,
             "#f0f921"
            ]
           ],
           "sequentialminus": [
            [
             0,
             "#0d0887"
            ],
            [
             0.1111111111111111,
             "#46039f"
            ],
            [
             0.2222222222222222,
             "#7201a8"
            ],
            [
             0.3333333333333333,
             "#9c179e"
            ],
            [
             0.4444444444444444,
             "#bd3786"
            ],
            [
             0.5555555555555556,
             "#d8576b"
            ],
            [
             0.6666666666666666,
             "#ed7953"
            ],
            [
             0.7777777777777778,
             "#fb9f3a"
            ],
            [
             0.8888888888888888,
             "#fdca26"
            ],
            [
             1,
             "#f0f921"
            ]
           ]
          },
          "colorway": [
           "#636efa",
           "#EF553B",
           "#00cc96",
           "#ab63fa",
           "#FFA15A",
           "#19d3f3",
           "#FF6692",
           "#B6E880",
           "#FF97FF",
           "#FECB52"
          ],
          "font": {
           "color": "#2a3f5f"
          },
          "geo": {
           "bgcolor": "white",
           "lakecolor": "white",
           "landcolor": "#E5ECF6",
           "showlakes": true,
           "showland": true,
           "subunitcolor": "white"
          },
          "hoverlabel": {
           "align": "left"
          },
          "hovermode": "closest",
          "mapbox": {
           "style": "light"
          },
          "paper_bgcolor": "white",
          "plot_bgcolor": "#E5ECF6",
          "polar": {
           "angularaxis": {
            "gridcolor": "white",
            "linecolor": "white",
            "ticks": ""
           },
           "bgcolor": "#E5ECF6",
           "radialaxis": {
            "gridcolor": "white",
            "linecolor": "white",
            "ticks": ""
           }
          },
          "scene": {
           "xaxis": {
            "backgroundcolor": "#E5ECF6",
            "gridcolor": "white",
            "gridwidth": 2,
            "linecolor": "white",
            "showbackground": true,
            "ticks": "",
            "zerolinecolor": "white"
           },
           "yaxis": {
            "backgroundcolor": "#E5ECF6",
            "gridcolor": "white",
            "gridwidth": 2,
            "linecolor": "white",
            "showbackground": true,
            "ticks": "",
            "zerolinecolor": "white"
           },
           "zaxis": {
            "backgroundcolor": "#E5ECF6",
            "gridcolor": "white",
            "gridwidth": 2,
            "linecolor": "white",
            "showbackground": true,
            "ticks": "",
            "zerolinecolor": "white"
           }
          },
          "shapedefaults": {
           "line": {
            "color": "#2a3f5f"
           }
          },
          "ternary": {
           "aaxis": {
            "gridcolor": "white",
            "linecolor": "white",
            "ticks": ""
           },
           "baxis": {
            "gridcolor": "white",
            "linecolor": "white",
            "ticks": ""
           },
           "bgcolor": "#E5ECF6",
           "caxis": {
            "gridcolor": "white",
            "linecolor": "white",
            "ticks": ""
           }
          },
          "title": {
           "x": 0.05
          },
          "xaxis": {
           "automargin": true,
           "gridcolor": "white",
           "linecolor": "white",
           "ticks": "",
           "title": {
            "standoff": 15
           },
           "zerolinecolor": "white",
           "zerolinewidth": 2
          },
          "yaxis": {
           "automargin": true,
           "gridcolor": "white",
           "linecolor": "white",
           "ticks": "",
           "title": {
            "standoff": 15
           },
           "zerolinecolor": "white",
           "zerolinewidth": 2
          }
         }
        },
        "xaxis": {
         "anchor": "y",
         "domain": [
          0,
          1
         ],
         "title": {
          "text": "flair_classification"
         }
        },
        "yaxis": {
         "anchor": "x",
         "domain": [
          0,
          1
         ],
         "title": {
          "text": "count"
         }
        }
       }
      }
     },
     "metadata": {},
     "output_type": "display_data"
    }
   ],
   "source": [
    "fig = px.histogram(df_tweets, x='flair_sentiment')\n",
    "fig.show()"
   ]
  },
  {
   "cell_type": "markdown",
   "metadata": {},
   "source": [
    "##### Inspection"
   ]
  },
  {
   "cell_type": "code",
   "execution_count": 69,
   "metadata": {},
   "outputs": [
    {
     "name": "stdout",
     "output_type": "stream",
     "text": [
      "Meeting the #Binance Angels in Germany yesterday.Binance Angels are community volunteers, not paid. They are mission driven.\n"
     ]
    }
   ],
   "source": [
    "print(df_tweets[df_tweets['flair_classification'] > 0.8]['text'].iloc[42])"
   ]
  },
  {
   "cell_type": "code",
   "execution_count": 108,
   "metadata": {},
   "outputs": [
    {
     "data": {
      "text/plain": [
       "'Actually, if you feel stressed out during every dip, you should probably reduce your position by 2x. Repeat until you no longer feel stressful.nfa.'"
      ]
     },
     "execution_count": 108,
     "metadata": {},
     "output_type": "execute_result"
    }
   ],
   "source": [
    "df_tweets.loc[1716].text"
   ]
  },
  {
   "cell_type": "markdown",
   "metadata": {},
   "source": [
    "### Polarity score by TextBlob\n"
   ]
  },
  {
   "cell_type": "code",
   "execution_count": 78,
   "metadata": {},
   "outputs": [],
   "source": [
    "def add_textBlob_sentiment(text):\n",
    "    return TextBlob(text).sentiment.polarity"
   ]
  },
  {
   "cell_type": "code",
   "execution_count": 82,
   "metadata": {},
   "outputs": [],
   "source": [
    "df_tweets['textBlob_sentiment'] = df_tweets['text'].apply(add_textBlob_sentiment)"
   ]
  },
  {
   "cell_type": "code",
   "execution_count": 83,
   "metadata": {},
   "outputs": [
    {
     "data": {
      "text/plain": [
       " 0.000000    751\n",
       " 0.500000     58\n",
       " 0.250000     41\n",
       " 0.136364     39\n",
       " 0.200000     34\n",
       "            ... \n",
       " 0.044444      1\n",
       " 0.118182      1\n",
       "-0.141667      1\n",
       " 0.393074      1\n",
       " 0.339394      1\n",
       "Name: textBlob_sentiment, Length: 380, dtype: int64"
      ]
     },
     "execution_count": 83,
     "metadata": {},
     "output_type": "execute_result"
    }
   ],
   "source": [
    "df_tweets['textBlob_sentiment'].value_counts()"
   ]
  },
  {
   "cell_type": "code",
   "execution_count": 84,
   "metadata": {},
   "outputs": [
    {
     "data": {
      "application/vnd.plotly.v1+json": {
       "config": {
        "plotlyServerURL": "https://plot.ly"
       },
       "data": [
        {
         "alignmentgroup": "True",
         "bingroup": "x",
         "hovertemplate": "textBlob_sentiment=%{x}<br>count=%{y}<extra></extra>",
         "legendgroup": "",
         "marker": {
          "color": "#636efa"
         },
         "name": "",
         "nbinsx": 30,
         "offsetgroup": "",
         "orientation": "v",
         "showlegend": false,
         "type": "histogram",
         "x": [
          0.06666666666666665,
          0,
          0.16818181818181818,
          0,
          0,
          0,
          0,
          0,
          0,
          0.25,
          0,
          -0.3888888888888889,
          0,
          -0.033333333333333326,
          0,
          -0.1875,
          0,
          -0.05,
          0,
          0.5,
          -0.15625,
          0,
          0,
          -0.17272727272727273,
          0.25,
          0.1,
          0,
          0,
          0,
          0,
          0,
          0.2,
          0,
          0.2857142857142857,
          0,
          0,
          0,
          0,
          0,
          0,
          0,
          0,
          0,
          0.5,
          -0.015909090909090914,
          0,
          -0.30000000000000004,
          0,
          0.2,
          0.8,
          0.4,
          0.1,
          0.14999999999999997,
          0.031249999999999986,
          0,
          0,
          0.03333333333333333,
          0.1361111111111111,
          0,
          0.09999999999999998,
          0,
          0.2,
          1,
          0.13636363636363635,
          0.4,
          0,
          0.1,
          -0.30000000000000004,
          0.4666666666666666,
          0,
          0.25,
          0.6,
          0.2625,
          0,
          0.39999999999999997,
          0.31666666666666665,
          0,
          0.13636363636363635,
          -0.2,
          0,
          0.47500000000000003,
          0,
          0.25,
          0,
          0,
          -0.4,
          0.1619047619047619,
          0,
          0,
          0.21666666666666667,
          0,
          0.3125,
          0.19166666666666665,
          0,
          0,
          0.25,
          -0.1,
          0,
          0.15000000000000002,
          0.29583333333333334,
          0.34285714285714286,
          0,
          -0.08194444444444444,
          0.16999999999999998,
          -0.012784090909090912,
          -0.05,
          0.25,
          -0.012499999999999997,
          0.125,
          0.07878787878787878,
          -0.1875,
          0,
          0,
          0,
          0.14444444444444443,
          -0.05156250000000001,
          0,
          0.5,
          -0.125,
          -0.14583333333333331,
          -0.08954545454545457,
          0.07508116883116883,
          0,
          0.0028409090909090884,
          0.09999999999999999,
          0,
          0,
          0.5,
          0.06666666666666667,
          0.033333333333333326,
          0.18939393939393936,
          0.11481481481481481,
          0,
          0.15055555555555555,
          0.05041666666666667,
          0,
          0.22727272727272727,
          0,
          -0.2222222222222222,
          0,
          0,
          0.5,
          0,
          0.16,
          0.1,
          0,
          0.25,
          -0.075,
          0.1,
          0.13636363636363635,
          0.4126666666666667,
          0,
          0.019999999999999983,
          -0.21666666666666667,
          0,
          0.3,
          0.875,
          0.2,
          0,
          0,
          0.13636363636363635,
          0.13636363636363635,
          -0.18154761904761907,
          0.2,
          0.8,
          0,
          0,
          0.14285714285714285,
          0,
          0.18154761904761907,
          0.6,
          0,
          0,
          0.41999999999999993,
          -0.25,
          0,
          0.2816666666666666,
          0,
          0,
          0.2857142857142857,
          0,
          0,
          -0.25,
          0,
          -0.12916666666666665,
          -0.1253787878787879,
          0,
          -0.05,
          0.3,
          0,
          0,
          0,
          0.07142857142857142,
          0,
          0,
          -0.25,
          0,
          0,
          0,
          0,
          0.08928571428571429,
          0.4000000000000001,
          0,
          0,
          0.2857142857142857,
          0.07777777777777778,
          0,
          0.2622727272727273,
          0.2,
          0.018750000000000003,
          0,
          -0.08333333333333333,
          0,
          0.5285714285714286,
          -0.016666666666666656,
          0.875,
          0,
          0,
          0,
          0.225,
          0.45,
          0.5,
          0,
          0,
          0.18333333333333335,
          0.5,
          0,
          0,
          0.05238095238095239,
          0.13636363636363635,
          0,
          0,
          0.08333333333333333,
          0.4,
          0,
          0,
          0,
          0,
          0.06818181818181818,
          0.13636363636363635,
          0,
          0,
          0.3666666666666667,
          0,
          -0.15,
          0.10999999999999999,
          0,
          0,
          0.325,
          0.3,
          0,
          0,
          -0.03181818181818183,
          -0.1806818181818182,
          0,
          0.55,
          0.05000000000000001,
          -0.13333333333333333,
          0.16666666666666666,
          0.08541666666666667,
          -0.13333333333333336,
          0,
          0.15833333333333333,
          0,
          -0.25,
          -0.025454545454545462,
          0.03333333333333333,
          0,
          0.041666666666666664,
          0.8,
          0,
          0.15,
          -0.4,
          0.10727272727272727,
          0,
          0,
          0.6666666666666666,
          0.8,
          0,
          0.125,
          0,
          0.5,
          -0.6999999999999998,
          0,
          0,
          0.25,
          0,
          0,
          0.14285714285714285,
          0.35714285714285715,
          0,
          0,
          0,
          0,
          0.125,
          0.09999999999999999,
          0,
          0,
          0,
          0,
          0.8,
          0.25,
          0.49583333333333335,
          0.14333333333333328,
          0,
          0,
          0,
          0,
          0,
          0,
          0,
          0.45,
          0,
          0,
          0,
          0,
          0,
          0.6666666666666666,
          -0.125,
          0.15555555555555553,
          0,
          -0.06861111111111111,
          0,
          0,
          0,
          0.1,
          0.609090909090909,
          -0.05,
          -0.125,
          0.13333333333333333,
          0.2,
          0.06818181818181818,
          0.09999999999999998,
          0,
          0.5,
          0.2,
          0,
          0,
          0.2523809523809524,
          0,
          0,
          0.25,
          0,
          0.0625,
          0.20529100529100527,
          0.25,
          0.13636363636363635,
          -0.12142857142857143,
          0,
          0,
          0.375,
          0,
          0.3,
          0.3371212121212121,
          0,
          -0.25,
          -0.2,
          0,
          0.13636363636363635,
          0,
          0,
          0,
          0.15,
          -0.01249999999999997,
          0,
          0.8,
          0,
          0.5,
          0,
          -0.1,
          0,
          0.13333333333333333,
          0.2,
          0.15,
          0,
          -1,
          0,
          0,
          0,
          0.65,
          -0.11581632653061225,
          1,
          0,
          0.0284090909090909,
          0.16666666666666666,
          0,
          0,
          0,
          0.09999999999999999,
          0.1375,
          0.02777777777777778,
          0.8,
          0,
          -0.375,
          -0.07692307692307693,
          0,
          -0.05,
          0,
          0.25,
          0.21071428571428572,
          0.8,
          0,
          0,
          0,
          0,
          0,
          0.8,
          0.3,
          0.1361111111111111,
          1,
          0.3,
          0,
          -0.125,
          0,
          0,
          0,
          0.6,
          0.8,
          0.8,
          0,
          0,
          0,
          0,
          -0.25,
          0,
          0.25,
          0.08333333333333333,
          -0.6999999999999998,
          0,
          0,
          0,
          -0.6999999999999998,
          0.3181818181818182,
          0.19318181818181818,
          0,
          0.5,
          0.2,
          0.4,
          0,
          0,
          0.21866666666666665,
          0,
          0,
          -0.09999999999999999,
          0,
          0,
          0,
          0,
          0.027777777777777773,
          0,
          0,
          0,
          0,
          1,
          0.5,
          0.625,
          0,
          0,
          0,
          0,
          0,
          0,
          0,
          0,
          -0.1,
          0,
          0.2,
          0.275,
          0.08333333333333333,
          0.25,
          -0.1,
          -0.2,
          0,
          0,
          0,
          -0.2,
          0,
          0.16727272727272727,
          0.26666666666666666,
          0,
          0.16,
          0.48333333333333334,
          0,
          0,
          0,
          -0.10714285714285714,
          -0.6,
          0.55,
          -0.004285714285714293,
          1,
          0,
          0,
          0.4454545454545455,
          0,
          0.7,
          0,
          0.1,
          0,
          0.3166666666666667,
          0,
          0,
          -0.3499999999999999,
          0,
          0,
          0,
          0,
          0.08333333333333334,
          0,
          0.13636363636363635,
          -0.3888888888888889,
          0.02083333333333333,
          0.11666666666666665,
          0.05416666666666667,
          0.1111111111111111,
          -0.3,
          0.25,
          0.5,
          0.25,
          0,
          0,
          0.3666666666666667,
          0.5,
          0,
          0,
          0.14285714285714285,
          0.8,
          0.3333333333333333,
          0,
          0,
          0.13896103896103895,
          0,
          0,
          0.8,
          0.5833333333333334,
          -0.125,
          0.5,
          0,
          0,
          -0.6,
          0,
          0,
          -0.5,
          -0.20833333333333331,
          0,
          1,
          0,
          0,
          0,
          0.1,
          0,
          0,
          0.06818181818181818,
          0.125,
          0,
          0.13636363636363635,
          0.32857142857142857,
          0,
          0,
          0,
          0.4,
          0,
          0.13636363636363635,
          0.13636363636363635,
          0,
          0,
          0,
          0,
          0,
          0.3930735930735931,
          0,
          0.5,
          -0.2,
          -0.3,
          0.04545454545454545,
          0,
          0,
          0,
          0,
          0,
          0,
          0.3333333333333333,
          0,
          -0.03181818181818183,
          0,
          -0.1416666666666667,
          0.11818181818181818,
          -0.125,
          0,
          0,
          0.2,
          0.04444444444444445,
          0.375,
          0,
          0.3,
          0,
          -0.125,
          0,
          0,
          0.11666666666666665,
          0,
          -0.16666666666666666,
          0,
          0,
          -0.10000000000000002,
          0.303125,
          0,
          0.5166666666666666,
          0,
          0.30000000000000004,
          0,
          0.36818181818181817,
          -0.09666666666666668,
          -0.10000000000000002,
          0,
          0,
          0.2,
          0,
          0.75,
          0.3234848484848485,
          0.4666666666666666,
          0.7,
          -0.5,
          0.10000000000000002,
          0.33333333333333337,
          0.024242424242424232,
          0,
          0,
          0,
          0,
          0,
          0.5,
          0,
          0,
          -0.4,
          -0.2,
          0.2375,
          0,
          0,
          0,
          0.20952380952380953,
          0,
          0.040000000000000036,
          0.4625,
          0,
          0.35,
          0.14583333333333334,
          0.5,
          0.13636363636363635,
          0,
          0.25,
          0.2,
          0,
          0,
          0,
          0,
          0.1,
          0,
          0.8,
          0,
          0,
          -0.29375,
          0,
          0.6,
          0,
          0,
          0,
          0,
          0.3666666666666667,
          0.06818181818181818,
          0,
          0.5,
          -0.10454545454545455,
          0.13636363636363635,
          0,
          0,
          0.3333333333333333,
          0,
          0.75,
          0,
          0,
          0,
          0,
          0,
          0,
          0.5,
          0,
          0,
          0,
          0.2,
          0.3,
          0.2857142857142857,
          -0.2,
          0,
          0.2,
          0,
          0,
          0.7,
          0.3,
          -0.5,
          0,
          0.23611111111111108,
          0,
          0.4681818181818182,
          0.48522727272727273,
          0.13636363636363635,
          0,
          0,
          0,
          -0.6,
          -0.625,
          0.5,
          0,
          0,
          0.05,
          -0.1875,
          0.11212121212121211,
          -0.2,
          0,
          0.2,
          0,
          0,
          0,
          0,
          0,
          0,
          0,
          0,
          0,
          0.85,
          0.5875,
          0,
          0.24829545454545454,
          0.3833333333333333,
          0,
          0.1,
          0,
          0,
          0.1875,
          0.4375,
          0.375,
          0,
          0,
          -0.15555555555555559,
          0,
          0,
          0.2,
          0,
          -0.45,
          0,
          0,
          0,
          0,
          0,
          0.13636363636363635,
          0.27499999999999997,
          0,
          0.45,
          0,
          0,
          0,
          0.3833333333333333,
          -0.125,
          0.6,
          0,
          0,
          -0.03181818181818183,
          -0.6,
          0.13333333333333333,
          0.125,
          0,
          0.25,
          -0.05000000000000002,
          0.5,
          0,
          0,
          0,
          0.05492424242424242,
          0,
          0,
          0.4,
          0,
          0,
          0.05925925925925924,
          0,
          0.5,
          0,
          0.15757575757575756,
          0,
          0,
          0.04545454545454545,
          -0.25,
          0,
          0.2,
          0,
          -0.25,
          0.2875,
          0,
          0,
          -0.2,
          0.0625,
          0.5,
          0.65,
          0,
          0.2,
          0,
          0.7,
          0.24444444444444444,
          -0.09999999999999992,
          -0.03125,
          0,
          0.2727272727272727,
          0.5,
          0,
          0,
          0.2333333333333333,
          0.2027777777777778,
          0,
          -0.15000000000000002,
          -0.2916666666666667,
          0,
          0.21428571428571427,
          -0.014772727272727285,
          0,
          0.27812500000000007,
          0,
          -0.16666666666666666,
          0,
          0,
          0.03333333333333333,
          0,
          0.08333333333333333,
          0,
          0,
          -0.4375,
          0,
          0.13636363636363635,
          -0.1,
          0,
          0.16666666666666666,
          0.3181818181818182,
          0.45,
          0,
          0,
          0,
          -0.06666666666666667,
          0.5,
          0,
          0,
          0,
          0,
          0.25,
          -0.05,
          0.125,
          0.4,
          0.13636363636363635,
          0.13636363636363635,
          0.5,
          0,
          0.4,
          0.13636363636363635,
          0.42857142857142866,
          0,
          0,
          0.3428571428571429,
          0.1,
          0.4375,
          0,
          0,
          0,
          0,
          0,
          0,
          0,
          0,
          0,
          0,
          -0.4,
          0,
          0.14166666666666666,
          0,
          0.11111111111111112,
          0.1,
          -0.03181818181818183,
          0,
          -0.8,
          0,
          0,
          0,
          0.5,
          0,
          0,
          0.11666666666666665,
          -0.4,
          0,
          0,
          -0.12916666666666665,
          0,
          0.35,
          -0.06666666666666667,
          0.4,
          0.025,
          0,
          -0.025,
          0.15,
          0,
          0,
          0,
          0.5681818181818181,
          0,
          0.1,
          0,
          0.5,
          -0.05,
          0,
          0.2833333333333333,
          0,
          0,
          0,
          0,
          0,
          0.3,
          0,
          0.32,
          -0.3,
          0,
          0.2965909090909091,
          0,
          0.5,
          0.002666666666666669,
          0,
          0.21666666666666667,
          0,
          0,
          0.5,
          0.7,
          0,
          0.3,
          0,
          0.8,
          -0.1,
          0,
          0.8,
          0.7,
          0,
          0.375,
          0,
          0,
          0,
          0,
          0.08333333333333333,
          0,
          -0.125,
          0,
          0,
          0.25,
          0.2142857142857143,
          0,
          0.5,
          -0.2916666666666667,
          0,
          0,
          0,
          0,
          -0.06851851851851853,
          0,
          0,
          0.1,
          0,
          0.25,
          0,
          0.4,
          0.16666666666666666,
          0.625,
          0.2142857142857143,
          -0.1,
          0,
          0,
          0,
          0.1,
          -0.07142857142857142,
          0,
          0.09047619047619047,
          -0.025,
          0.11363636363636363,
          0.16000000000000003,
          0.4666666666666666,
          -0.05,
          0.13636363636363635,
          0.4,
          0,
          0,
          0,
          0,
          0,
          0,
          0,
          0.3,
          0,
          0.06818181818181818,
          0.1327458256029685,
          0,
          0,
          0,
          0,
          0,
          0,
          0.25,
          0.1,
          0,
          0.8,
          -0.1,
          0,
          0.14545454545454545,
          0,
          0.25,
          0,
          0.5,
          0.3,
          0.25,
          0,
          0.75,
          0.10000000000000002,
          0,
          -0.1742857142857143,
          -0.1535714285714286,
          0.1,
          0,
          0,
          0,
          0.7,
          0,
          0.10000000000000002,
          0.5,
          0.1645833333333333,
          0,
          0,
          0,
          0.40952380952380957,
          0.3,
          0.425,
          -0.2380952380952381,
          0,
          0,
          0.5,
          0,
          -0.096875,
          0,
          0.5,
          0.20000000000000004,
          0,
          -0.5,
          0,
          0.7,
          -0.033333333333333326,
          0,
          0,
          1,
          0.3,
          0,
          -0.2714285714285714,
          0,
          0.13636363636363635,
          0.13636363636363635,
          0.13636363636363635,
          0,
          0,
          0.04431818181818181,
          -0.13571428571428573,
          0.5,
          -0.16666666666666666,
          0.09999999999999998,
          -0.1,
          0.13636363636363635,
          0,
          0.016666666666666653,
          0.7,
          0,
          0.14285714285714285,
          1,
          0.3833333333333333,
          0,
          0,
          0,
          0,
          0,
          0.020833333333333315,
          0,
          0.15,
          0,
          0,
          0,
          0.5,
          0,
          0,
          0,
          0,
          0.4,
          0.4,
          0.06818181818181818,
          0,
          0,
          0.4,
          0.13636363636363635,
          0,
          0.1090909090909091,
          0.06818181818181818,
          0.7,
          0,
          0.08055555555555555,
          0,
          1,
          0.06666666666666667,
          0,
          0.2857142857142857,
          0,
          -0.16666666666666666,
          0,
          0.15000000000000002,
          0,
          -0.4,
          0.2857142857142857,
          -0.4,
          0.32857142857142857,
          0.1,
          0.3499999999999999,
          0,
          0,
          0,
          0.26666666666666666,
          0.7,
          0.25333333333333335,
          0.21428571428571427,
          0.09761904761904763,
          0.28809523809523807,
          0.25,
          0,
          0.44166666666666665,
          0,
          0.13636363636363635,
          0,
          0.125,
          0.8,
          0.30476190476190473,
          0,
          0,
          -0.025,
          0.40909090909090906,
          0,
          0,
          0,
          0,
          0,
          0.13636363636363635,
          -0.3333333333333333,
          0.25,
          0.5,
          0,
          0,
          0.375,
          0.10000000000000005,
          0,
          0.18333333333333335,
          0,
          -0.3888888888888889,
          0,
          0,
          0,
          0.1875,
          -0.075,
          0,
          0.1,
          0,
          0,
          0,
          0,
          -0.25,
          0.5,
          0.2,
          0.3977777777777778,
          0.19346590909090905,
          -0.11111111111111112,
          0.44999999999999996,
          -0.09090909090909091,
          0.06818181818181818,
          0.18888888888888888,
          -0.025,
          0.40909090909090906,
          0.12222222222222223,
          0.5,
          0.2,
          0.5,
          0.21428571428571427,
          0,
          0,
          0.25,
          -0.033333333333333326,
          0,
          -0.015909090909090914,
          0.26666666666666666,
          0.13636363636363635,
          0.3,
          0,
          0.5,
          -0.03181818181818183,
          0,
          0,
          0.125,
          0,
          0,
          0,
          0,
          0.25,
          0.25,
          0.4,
          -0.5,
          -0.2722222222222222,
          0.13636363636363635,
          -0.21666666666666667,
          0.3111111111111111,
          0,
          0,
          0,
          1,
          0,
          -0.05,
          0.25,
          0.007142857142857145,
          0,
          0.1,
          0.5,
          0.35714285714285715,
          0.5,
          0.25,
          -0.25,
          0.13636363636363635,
          0,
          0,
          -0.07777777777777779,
          0,
          0,
          0.225,
          0,
          0,
          0,
          0.5,
          0.15,
          -0.05,
          0.75,
          0.35,
          0,
          -0.375,
          0.23333333333333336,
          0,
          0.35,
          0,
          0,
          0,
          0.25,
          0,
          0,
          0,
          0,
          0.024999999999999994,
          0.21616161616161617,
          0,
          0,
          0.1154761904761905,
          0.10000000000000002,
          0,
          0.2857142857142857,
          -0.4,
          0,
          0.13636363636363635,
          0.4333333333333333,
          0.11666666666666665,
          0,
          0.155,
          0.13229166666666664,
          0,
          0.23964285714285713,
          0,
          0.225,
          0,
          -0.055555555555555546,
          0.375,
          0,
          0,
          0,
          0.3770833333333333,
          0,
          -0.15,
          0,
          0,
          0.14285714285714285,
          0,
          0.175,
          -0.15555555555555559,
          0,
          0,
          0.4,
          0.20666666666666664,
          0.4,
          0,
          -0.030555555555555575,
          0.2857142857142857,
          0.8,
          0.5428571428571429,
          -0.6999999999999998,
          0.13636363636363635,
          -0.5,
          0.15,
          -0.16666666666666666,
          -0.30000000000000004,
          0.09999999999999998,
          -0.04111111111111108,
          -0.3,
          0.04999999999999999,
          -0.20833333333333334,
          0,
          -0.175,
          0.0875,
          0,
          0.26,
          0,
          0.85,
          0.2,
          0.005681818181818177,
          0,
          0,
          0.12424242424242422,
          0.22323232323232323,
          0.41666666666666663,
          -0.125,
          -0.6666666666666666,
          0.2,
          0,
          0,
          0.15714285714285714,
          0,
          -0.5,
          0,
          0,
          0.5,
          0.31766666666666665,
          0,
          -0.07685185185185188,
          -0.08833333333333333,
          0,
          0.25,
          -0.125,
          0,
          0,
          0,
          0,
          0.8,
          0,
          0.5,
          0.2,
          0,
          0,
          0,
          0,
          -0.038690476190476206,
          -0.033333333333333326,
          0,
          0,
          -0.25,
          0,
          0.27575757575757576,
          -0.023809523809523808,
          -0.08775510204081634,
          0.25,
          0,
          0.04,
          0,
          -0.05833333333333333,
          0.5666666666666667,
          0,
          0,
          0,
          0.5,
          -0.06666666666666665,
          -0.2916666666666667,
          0.32499999999999996,
          0.1,
          1,
          0.1,
          0.2,
          0,
          0.1,
          -0.24166666666666667,
          0.10714285714285714,
          0,
          0,
          0,
          0.25,
          0,
          -0.125,
          0.2678571428571429,
          0,
          0.2,
          0.2,
          0.125,
          0,
          0.1,
          0.3666666666666667,
          0,
          0.2465909090909091,
          0,
          0.29375,
          0,
          0.01666666666666667,
          0,
          0,
          0,
          0.5,
          0,
          0,
          0.4000000000000001,
          0,
          0.25,
          0.5,
          0.20875,
          0.3333333333333333,
          0.43333333333333335,
          0.6,
          0,
          0,
          0.08750000000000001,
          0,
          0.2583333333333333,
          0.21428571428571427,
          0,
          0.17083333333333336,
          0.07435897435897436,
          0.1814814814814815,
          0.13636363636363635,
          0.2,
          -0.06666666666666667,
          0,
          0.39249999999999996,
          0.05,
          0.175,
          0.09523809523809525,
          0.03409090909090909,
          0,
          0.25,
          0,
          0.3181818181818182,
          0.16818181818181818,
          0.3666666666666667,
          0,
          0.375,
          0.8,
          0,
          0.16666666666666666,
          0,
          0,
          0,
          0,
          -0.3,
          0,
          -0.05428571428571429,
          0.125,
          0,
          0.16354166666666667,
          -0.23333333333333328,
          0,
          0.4333333333333333,
          0.4375,
          0,
          -0.1,
          0,
          0.7,
          -0.11333333333333333,
          0,
          0,
          0.06666666666666667,
          0,
          0.13636363636363635,
          0.2,
          0,
          -0.051851851851851864,
          0.25,
          0,
          0,
          0,
          0,
          0.029166666666666646,
          0,
          0.43000000000000005,
          0.23333333333333334,
          0,
          0.04999999999999999,
          0.4,
          0,
          -0.7166666666666667,
          0.05,
          0,
          0.3,
          0.05000000000000001,
          0,
          0.16,
          0.5,
          0.3321428571428572,
          0,
          0,
          0.35,
          -0.1,
          0.1,
          -0.3499999999999999,
          0,
          0,
          0.12227272727272727,
          0.1,
          0.12833333333333335,
          0,
          0.5,
          -0.46666666666666656,
          0.2,
          0.38333333333333336,
          0,
          0.44000000000000006,
          0,
          0,
          0.2857142857142857,
          0.037500000000000006,
          0.4666666666666666,
          -0.14444444444444446,
          -0.25757575757575757,
          0,
          0.3333333333333333,
          0,
          -0.00416666666666667,
          0,
          0,
          0,
          -0.15,
          0.09152380952380952,
          0,
          0,
          0,
          0.16666666666666666,
          0,
          0.11297619047619048,
          0.06666666666666668,
          0,
          0.1,
          -0.2239583333333333,
          0.058080808080808066,
          0.2,
          0.15,
          -0.2,
          -0.00416666666666667,
          -0.29999999999999993,
          0.16666666666666666,
          0.012500000000000004,
          0.3333333333333333,
          0.1388888888888889,
          0.4,
          0.275,
          0,
          0,
          0.24999999999999997,
          0.43333333333333335,
          0,
          0.13636363636363635,
          0.25,
          0.2333333333333333,
          0,
          0,
          0,
          -0.15,
          0.13636363636363635,
          0.13636363636363635,
          0.5,
          0,
          -0.10916666666666665,
          0,
          0.23854166666666665,
          0.8,
          -0.25,
          0,
          0,
          0.475,
          -0.15000000000000002,
          0.25,
          0.7,
          0,
          0.25,
          0,
          0,
          0,
          0,
          0.27999999999999997,
          0,
          0,
          0,
          0,
          -0.075,
          0.17532467532467533,
          0,
          0.05,
          0.18727272727272726,
          0.32222222222222224,
          0,
          0.19285714285714287,
          -0.025,
          0,
          -0.1875,
          0.125,
          0.7,
          0.2,
          -0.1,
          0.10555555555555556,
          0.25625,
          0.1,
          0,
          -0.2,
          0,
          0.09226190476190477,
          0,
          -0.18749999999999997,
          0,
          0.5,
          0.5,
          0.1,
          0.02727272727272727,
          0,
          0.55,
          -0.145,
          0.13061224489795917,
          -0.2916666666666667,
          0,
          -0.125,
          0.03333333333333333,
          0,
          -0.125,
          0.018181818181818174,
          0,
          0,
          0,
          0.5,
          0,
          0,
          0,
          0,
          0,
          -0.4228571428571427,
          0,
          -0.25,
          0.4,
          -0.3,
          0,
          0,
          0,
          0,
          -0.2,
          0.5,
          0.30357142857142855,
          0,
          0.16666666666666666,
          0.35416666666666663,
          -0.6999999999999998,
          0,
          -0.16666666666666666,
          -0.31904761904761897,
          0.2,
          0.475,
          0,
          0,
          0.33939393939393936
         ],
         "xaxis": "x",
         "yaxis": "y"
        }
       ],
       "layout": {
        "barmode": "relative",
        "legend": {
         "tracegroupgap": 0
        },
        "margin": {
         "t": 60
        },
        "template": {
         "data": {
          "bar": [
           {
            "error_x": {
             "color": "#2a3f5f"
            },
            "error_y": {
             "color": "#2a3f5f"
            },
            "marker": {
             "line": {
              "color": "#E5ECF6",
              "width": 0.5
             }
            },
            "type": "bar"
           }
          ],
          "barpolar": [
           {
            "marker": {
             "line": {
              "color": "#E5ECF6",
              "width": 0.5
             }
            },
            "type": "barpolar"
           }
          ],
          "carpet": [
           {
            "aaxis": {
             "endlinecolor": "#2a3f5f",
             "gridcolor": "white",
             "linecolor": "white",
             "minorgridcolor": "white",
             "startlinecolor": "#2a3f5f"
            },
            "baxis": {
             "endlinecolor": "#2a3f5f",
             "gridcolor": "white",
             "linecolor": "white",
             "minorgridcolor": "white",
             "startlinecolor": "#2a3f5f"
            },
            "type": "carpet"
           }
          ],
          "choropleth": [
           {
            "colorbar": {
             "outlinewidth": 0,
             "ticks": ""
            },
            "type": "choropleth"
           }
          ],
          "contour": [
           {
            "colorbar": {
             "outlinewidth": 0,
             "ticks": ""
            },
            "colorscale": [
             [
              0,
              "#0d0887"
             ],
             [
              0.1111111111111111,
              "#46039f"
             ],
             [
              0.2222222222222222,
              "#7201a8"
             ],
             [
              0.3333333333333333,
              "#9c179e"
             ],
             [
              0.4444444444444444,
              "#bd3786"
             ],
             [
              0.5555555555555556,
              "#d8576b"
             ],
             [
              0.6666666666666666,
              "#ed7953"
             ],
             [
              0.7777777777777778,
              "#fb9f3a"
             ],
             [
              0.8888888888888888,
              "#fdca26"
             ],
             [
              1,
              "#f0f921"
             ]
            ],
            "type": "contour"
           }
          ],
          "contourcarpet": [
           {
            "colorbar": {
             "outlinewidth": 0,
             "ticks": ""
            },
            "type": "contourcarpet"
           }
          ],
          "heatmap": [
           {
            "colorbar": {
             "outlinewidth": 0,
             "ticks": ""
            },
            "colorscale": [
             [
              0,
              "#0d0887"
             ],
             [
              0.1111111111111111,
              "#46039f"
             ],
             [
              0.2222222222222222,
              "#7201a8"
             ],
             [
              0.3333333333333333,
              "#9c179e"
             ],
             [
              0.4444444444444444,
              "#bd3786"
             ],
             [
              0.5555555555555556,
              "#d8576b"
             ],
             [
              0.6666666666666666,
              "#ed7953"
             ],
             [
              0.7777777777777778,
              "#fb9f3a"
             ],
             [
              0.8888888888888888,
              "#fdca26"
             ],
             [
              1,
              "#f0f921"
             ]
            ],
            "type": "heatmap"
           }
          ],
          "heatmapgl": [
           {
            "colorbar": {
             "outlinewidth": 0,
             "ticks": ""
            },
            "colorscale": [
             [
              0,
              "#0d0887"
             ],
             [
              0.1111111111111111,
              "#46039f"
             ],
             [
              0.2222222222222222,
              "#7201a8"
             ],
             [
              0.3333333333333333,
              "#9c179e"
             ],
             [
              0.4444444444444444,
              "#bd3786"
             ],
             [
              0.5555555555555556,
              "#d8576b"
             ],
             [
              0.6666666666666666,
              "#ed7953"
             ],
             [
              0.7777777777777778,
              "#fb9f3a"
             ],
             [
              0.8888888888888888,
              "#fdca26"
             ],
             [
              1,
              "#f0f921"
             ]
            ],
            "type": "heatmapgl"
           }
          ],
          "histogram": [
           {
            "marker": {
             "colorbar": {
              "outlinewidth": 0,
              "ticks": ""
             }
            },
            "type": "histogram"
           }
          ],
          "histogram2d": [
           {
            "colorbar": {
             "outlinewidth": 0,
             "ticks": ""
            },
            "colorscale": [
             [
              0,
              "#0d0887"
             ],
             [
              0.1111111111111111,
              "#46039f"
             ],
             [
              0.2222222222222222,
              "#7201a8"
             ],
             [
              0.3333333333333333,
              "#9c179e"
             ],
             [
              0.4444444444444444,
              "#bd3786"
             ],
             [
              0.5555555555555556,
              "#d8576b"
             ],
             [
              0.6666666666666666,
              "#ed7953"
             ],
             [
              0.7777777777777778,
              "#fb9f3a"
             ],
             [
              0.8888888888888888,
              "#fdca26"
             ],
             [
              1,
              "#f0f921"
             ]
            ],
            "type": "histogram2d"
           }
          ],
          "histogram2dcontour": [
           {
            "colorbar": {
             "outlinewidth": 0,
             "ticks": ""
            },
            "colorscale": [
             [
              0,
              "#0d0887"
             ],
             [
              0.1111111111111111,
              "#46039f"
             ],
             [
              0.2222222222222222,
              "#7201a8"
             ],
             [
              0.3333333333333333,
              "#9c179e"
             ],
             [
              0.4444444444444444,
              "#bd3786"
             ],
             [
              0.5555555555555556,
              "#d8576b"
             ],
             [
              0.6666666666666666,
              "#ed7953"
             ],
             [
              0.7777777777777778,
              "#fb9f3a"
             ],
             [
              0.8888888888888888,
              "#fdca26"
             ],
             [
              1,
              "#f0f921"
             ]
            ],
            "type": "histogram2dcontour"
           }
          ],
          "mesh3d": [
           {
            "colorbar": {
             "outlinewidth": 0,
             "ticks": ""
            },
            "type": "mesh3d"
           }
          ],
          "parcoords": [
           {
            "line": {
             "colorbar": {
              "outlinewidth": 0,
              "ticks": ""
             }
            },
            "type": "parcoords"
           }
          ],
          "pie": [
           {
            "automargin": true,
            "type": "pie"
           }
          ],
          "scatter": [
           {
            "marker": {
             "colorbar": {
              "outlinewidth": 0,
              "ticks": ""
             }
            },
            "type": "scatter"
           }
          ],
          "scatter3d": [
           {
            "line": {
             "colorbar": {
              "outlinewidth": 0,
              "ticks": ""
             }
            },
            "marker": {
             "colorbar": {
              "outlinewidth": 0,
              "ticks": ""
             }
            },
            "type": "scatter3d"
           }
          ],
          "scattercarpet": [
           {
            "marker": {
             "colorbar": {
              "outlinewidth": 0,
              "ticks": ""
             }
            },
            "type": "scattercarpet"
           }
          ],
          "scattergeo": [
           {
            "marker": {
             "colorbar": {
              "outlinewidth": 0,
              "ticks": ""
             }
            },
            "type": "scattergeo"
           }
          ],
          "scattergl": [
           {
            "marker": {
             "colorbar": {
              "outlinewidth": 0,
              "ticks": ""
             }
            },
            "type": "scattergl"
           }
          ],
          "scattermapbox": [
           {
            "marker": {
             "colorbar": {
              "outlinewidth": 0,
              "ticks": ""
             }
            },
            "type": "scattermapbox"
           }
          ],
          "scatterpolar": [
           {
            "marker": {
             "colorbar": {
              "outlinewidth": 0,
              "ticks": ""
             }
            },
            "type": "scatterpolar"
           }
          ],
          "scatterpolargl": [
           {
            "marker": {
             "colorbar": {
              "outlinewidth": 0,
              "ticks": ""
             }
            },
            "type": "scatterpolargl"
           }
          ],
          "scatterternary": [
           {
            "marker": {
             "colorbar": {
              "outlinewidth": 0,
              "ticks": ""
             }
            },
            "type": "scatterternary"
           }
          ],
          "surface": [
           {
            "colorbar": {
             "outlinewidth": 0,
             "ticks": ""
            },
            "colorscale": [
             [
              0,
              "#0d0887"
             ],
             [
              0.1111111111111111,
              "#46039f"
             ],
             [
              0.2222222222222222,
              "#7201a8"
             ],
             [
              0.3333333333333333,
              "#9c179e"
             ],
             [
              0.4444444444444444,
              "#bd3786"
             ],
             [
              0.5555555555555556,
              "#d8576b"
             ],
             [
              0.6666666666666666,
              "#ed7953"
             ],
             [
              0.7777777777777778,
              "#fb9f3a"
             ],
             [
              0.8888888888888888,
              "#fdca26"
             ],
             [
              1,
              "#f0f921"
             ]
            ],
            "type": "surface"
           }
          ],
          "table": [
           {
            "cells": {
             "fill": {
              "color": "#EBF0F8"
             },
             "line": {
              "color": "white"
             }
            },
            "header": {
             "fill": {
              "color": "#C8D4E3"
             },
             "line": {
              "color": "white"
             }
            },
            "type": "table"
           }
          ]
         },
         "layout": {
          "annotationdefaults": {
           "arrowcolor": "#2a3f5f",
           "arrowhead": 0,
           "arrowwidth": 1
          },
          "coloraxis": {
           "colorbar": {
            "outlinewidth": 0,
            "ticks": ""
           }
          },
          "colorscale": {
           "diverging": [
            [
             0,
             "#8e0152"
            ],
            [
             0.1,
             "#c51b7d"
            ],
            [
             0.2,
             "#de77ae"
            ],
            [
             0.3,
             "#f1b6da"
            ],
            [
             0.4,
             "#fde0ef"
            ],
            [
             0.5,
             "#f7f7f7"
            ],
            [
             0.6,
             "#e6f5d0"
            ],
            [
             0.7,
             "#b8e186"
            ],
            [
             0.8,
             "#7fbc41"
            ],
            [
             0.9,
             "#4d9221"
            ],
            [
             1,
             "#276419"
            ]
           ],
           "sequential": [
            [
             0,
             "#0d0887"
            ],
            [
             0.1111111111111111,
             "#46039f"
            ],
            [
             0.2222222222222222,
             "#7201a8"
            ],
            [
             0.3333333333333333,
             "#9c179e"
            ],
            [
             0.4444444444444444,
             "#bd3786"
            ],
            [
             0.5555555555555556,
             "#d8576b"
            ],
            [
             0.6666666666666666,
             "#ed7953"
            ],
            [
             0.7777777777777778,
             "#fb9f3a"
            ],
            [
             0.8888888888888888,
             "#fdca26"
            ],
            [
             1,
             "#f0f921"
            ]
           ],
           "sequentialminus": [
            [
             0,
             "#0d0887"
            ],
            [
             0.1111111111111111,
             "#46039f"
            ],
            [
             0.2222222222222222,
             "#7201a8"
            ],
            [
             0.3333333333333333,
             "#9c179e"
            ],
            [
             0.4444444444444444,
             "#bd3786"
            ],
            [
             0.5555555555555556,
             "#d8576b"
            ],
            [
             0.6666666666666666,
             "#ed7953"
            ],
            [
             0.7777777777777778,
             "#fb9f3a"
            ],
            [
             0.8888888888888888,
             "#fdca26"
            ],
            [
             1,
             "#f0f921"
            ]
           ]
          },
          "colorway": [
           "#636efa",
           "#EF553B",
           "#00cc96",
           "#ab63fa",
           "#FFA15A",
           "#19d3f3",
           "#FF6692",
           "#B6E880",
           "#FF97FF",
           "#FECB52"
          ],
          "font": {
           "color": "#2a3f5f"
          },
          "geo": {
           "bgcolor": "white",
           "lakecolor": "white",
           "landcolor": "#E5ECF6",
           "showlakes": true,
           "showland": true,
           "subunitcolor": "white"
          },
          "hoverlabel": {
           "align": "left"
          },
          "hovermode": "closest",
          "mapbox": {
           "style": "light"
          },
          "paper_bgcolor": "white",
          "plot_bgcolor": "#E5ECF6",
          "polar": {
           "angularaxis": {
            "gridcolor": "white",
            "linecolor": "white",
            "ticks": ""
           },
           "bgcolor": "#E5ECF6",
           "radialaxis": {
            "gridcolor": "white",
            "linecolor": "white",
            "ticks": ""
           }
          },
          "scene": {
           "xaxis": {
            "backgroundcolor": "#E5ECF6",
            "gridcolor": "white",
            "gridwidth": 2,
            "linecolor": "white",
            "showbackground": true,
            "ticks": "",
            "zerolinecolor": "white"
           },
           "yaxis": {
            "backgroundcolor": "#E5ECF6",
            "gridcolor": "white",
            "gridwidth": 2,
            "linecolor": "white",
            "showbackground": true,
            "ticks": "",
            "zerolinecolor": "white"
           },
           "zaxis": {
            "backgroundcolor": "#E5ECF6",
            "gridcolor": "white",
            "gridwidth": 2,
            "linecolor": "white",
            "showbackground": true,
            "ticks": "",
            "zerolinecolor": "white"
           }
          },
          "shapedefaults": {
           "line": {
            "color": "#2a3f5f"
           }
          },
          "ternary": {
           "aaxis": {
            "gridcolor": "white",
            "linecolor": "white",
            "ticks": ""
           },
           "baxis": {
            "gridcolor": "white",
            "linecolor": "white",
            "ticks": ""
           },
           "bgcolor": "#E5ECF6",
           "caxis": {
            "gridcolor": "white",
            "linecolor": "white",
            "ticks": ""
           }
          },
          "title": {
           "x": 0.05
          },
          "xaxis": {
           "automargin": true,
           "gridcolor": "white",
           "linecolor": "white",
           "ticks": "",
           "title": {
            "standoff": 15
           },
           "zerolinecolor": "white",
           "zerolinewidth": 2
          },
          "yaxis": {
           "automargin": true,
           "gridcolor": "white",
           "linecolor": "white",
           "ticks": "",
           "title": {
            "standoff": 15
           },
           "zerolinecolor": "white",
           "zerolinewidth": 2
          }
         }
        },
        "xaxis": {
         "anchor": "y",
         "domain": [
          0,
          1
         ],
         "title": {
          "text": "textBlob_sentiment"
         }
        },
        "yaxis": {
         "anchor": "x",
         "domain": [
          0,
          1
         ],
         "title": {
          "text": "count"
         }
        }
       }
      }
     },
     "metadata": {},
     "output_type": "display_data"
    }
   ],
   "source": [
    "fig = px.histogram(df_tweets, x='textBlob_sentiment', nbins=30)\n",
    "fig.show()"
   ]
  },
  {
   "cell_type": "markdown",
   "metadata": {},
   "source": [
    "### Price Correlation with Sentiment"
   ]
  },
  {
   "cell_type": "code",
   "execution_count": 85,
   "metadata": {},
   "outputs": [
    {
     "data": {
      "text/html": [
       "<div>\n",
       "<style scoped>\n",
       "    .dataframe tbody tr th:only-of-type {\n",
       "        vertical-align: middle;\n",
       "    }\n",
       "\n",
       "    .dataframe tbody tr th {\n",
       "        vertical-align: top;\n",
       "    }\n",
       "\n",
       "    .dataframe thead th {\n",
       "        text-align: right;\n",
       "    }\n",
       "</style>\n",
       "<table border=\"1\" class=\"dataframe\">\n",
       "  <thead>\n",
       "    <tr style=\"text-align: right;\">\n",
       "      <th></th>\n",
       "      <th>author</th>\n",
       "      <th>text</th>\n",
       "      <th>timestamp</th>\n",
       "      <th>datetime</th>\n",
       "      <th>date</th>\n",
       "      <th>text_cleaned</th>\n",
       "      <th>vader_sentiment</th>\n",
       "      <th>flair_sentiment</th>\n",
       "      <th>textBlob_sentiment</th>\n",
       "    </tr>\n",
       "  </thead>\n",
       "  <tbody>\n",
       "    <tr>\n",
       "      <th>0</th>\n",
       "      <td>CZ  Binance</td>\n",
       "      <td>I love most tihings in the world, but I hate j...</td>\n",
       "      <td>1654195218</td>\n",
       "      <td>2022-06-02 18:40:18</td>\n",
       "      <td>2022-06-02</td>\n",
       "      <td>love tihings world hate jet lag</td>\n",
       "      <td>-0.7717</td>\n",
       "      <td>0.995204</td>\n",
       "      <td>0.066667</td>\n",
       "    </tr>\n",
       "    <tr>\n",
       "      <th>1</th>\n",
       "      <td>CZ  Binance</td>\n",
       "      <td>#MalaysiaBoleh</td>\n",
       "      <td>1654181362</td>\n",
       "      <td>2022-06-02 14:49:22</td>\n",
       "      <td>2022-06-02</td>\n",
       "      <td>malaysiaboleh</td>\n",
       "      <td>0.0000</td>\n",
       "      <td>0.583073</td>\n",
       "      <td>0.000000</td>\n",
       "    </tr>\n",
       "    <tr>\n",
       "      <th>2</th>\n",
       "      <td>CZ  Binance</td>\n",
       "      <td>Just finished a live interview with CNBC Squaw...</td>\n",
       "      <td>1654167185</td>\n",
       "      <td>2022-06-02 10:53:05</td>\n",
       "      <td>2022-06-02</td>\n",
       "      <td>finish live interview cnbc squawk box studio haha</td>\n",
       "      <td>0.4588</td>\n",
       "      <td>-0.642573</td>\n",
       "      <td>0.168182</td>\n",
       "    </tr>\n",
       "    <tr>\n",
       "      <th>3</th>\n",
       "      <td>CZ  Binance</td>\n",
       "      <td>I'll be speaking at the Point Zero Forum in Zu...</td>\n",
       "      <td>1654163469</td>\n",
       "      <td>2022-06-02 09:51:09</td>\n",
       "      <td>2022-06-02</td>\n",
       "      <td>ill speak point zero forum zurich switzerland ...</td>\n",
       "      <td>0.0000</td>\n",
       "      <td>0.716512</td>\n",
       "      <td>0.000000</td>\n",
       "    </tr>\n",
       "    <tr>\n",
       "      <th>4</th>\n",
       "      <td>CZ  Binance</td>\n",
       "      <td>Humbled to receive this #cryptowarrior gift fr...</td>\n",
       "      <td>1654153218</td>\n",
       "      <td>2022-06-02 07:00:18</td>\n",
       "      <td>2022-06-02</td>\n",
       "      <td>humble receive cryptowarrior gift malaysia par...</td>\n",
       "      <td>0.4404</td>\n",
       "      <td>0.997130</td>\n",
       "      <td>0.000000</td>\n",
       "    </tr>\n",
       "  </tbody>\n",
       "</table>\n",
       "</div>"
      ],
      "text/plain": [
       "        author                                               text   timestamp  \\\n",
       "0  CZ  Binance  I love most tihings in the world, but I hate j...  1654195218   \n",
       "1  CZ  Binance                                     #MalaysiaBoleh  1654181362   \n",
       "2  CZ  Binance  Just finished a live interview with CNBC Squaw...  1654167185   \n",
       "3  CZ  Binance  I'll be speaking at the Point Zero Forum in Zu...  1654163469   \n",
       "4  CZ  Binance  Humbled to receive this #cryptowarrior gift fr...  1654153218   \n",
       "\n",
       "             datetime       date  \\\n",
       "0 2022-06-02 18:40:18 2022-06-02   \n",
       "1 2022-06-02 14:49:22 2022-06-02   \n",
       "2 2022-06-02 10:53:05 2022-06-02   \n",
       "3 2022-06-02 09:51:09 2022-06-02   \n",
       "4 2022-06-02 07:00:18 2022-06-02   \n",
       "\n",
       "                                        text_cleaned  vader_sentiment  \\\n",
       "0                    love tihings world hate jet lag          -0.7717   \n",
       "1                                      malaysiaboleh           0.0000   \n",
       "2  finish live interview cnbc squawk box studio haha           0.4588   \n",
       "3  ill speak point zero forum zurich switzerland ...           0.0000   \n",
       "4  humble receive cryptowarrior gift malaysia par...           0.4404   \n",
       "\n",
       "   flair_sentiment  textBlob_sentiment  \n",
       "0         0.995204            0.066667  \n",
       "1         0.583073            0.000000  \n",
       "2        -0.642573            0.168182  \n",
       "3         0.716512            0.000000  \n",
       "4         0.997130            0.000000  "
      ]
     },
     "execution_count": 85,
     "metadata": {},
     "output_type": "execute_result"
    }
   ],
   "source": [
    "df_tweets.head()"
   ]
  },
  {
   "cell_type": "code",
   "execution_count": 87,
   "metadata": {},
   "outputs": [
    {
     "data": {
      "text/html": [
       "<div>\n",
       "<style scoped>\n",
       "    .dataframe tbody tr th:only-of-type {\n",
       "        vertical-align: middle;\n",
       "    }\n",
       "\n",
       "    .dataframe tbody tr th {\n",
       "        vertical-align: top;\n",
       "    }\n",
       "\n",
       "    .dataframe thead th {\n",
       "        text-align: right;\n",
       "    }\n",
       "</style>\n",
       "<table border=\"1\" class=\"dataframe\">\n",
       "  <thead>\n",
       "    <tr style=\"text-align: right;\">\n",
       "      <th></th>\n",
       "      <th>Date</th>\n",
       "      <th>Close/Last</th>\n",
       "      <th>Volume</th>\n",
       "      <th>Open</th>\n",
       "      <th>High</th>\n",
       "      <th>Low</th>\n",
       "      <th>date</th>\n",
       "    </tr>\n",
       "  </thead>\n",
       "  <tbody>\n",
       "    <tr>\n",
       "      <th>0</th>\n",
       "      <td>06/02/2022</td>\n",
       "      <td>308.21</td>\n",
       "      <td>NaN</td>\n",
       "      <td>300.50</td>\n",
       "      <td>310.20</td>\n",
       "      <td>306.60</td>\n",
       "      <td>2022-06-02</td>\n",
       "    </tr>\n",
       "    <tr>\n",
       "      <th>1</th>\n",
       "      <td>06/01/2022</td>\n",
       "      <td>300.02</td>\n",
       "      <td>NaN</td>\n",
       "      <td>319.21</td>\n",
       "      <td>303.81</td>\n",
       "      <td>298.38</td>\n",
       "      <td>2022-06-01</td>\n",
       "    </tr>\n",
       "    <tr>\n",
       "      <th>2</th>\n",
       "      <td>05/31/2022</td>\n",
       "      <td>319.32</td>\n",
       "      <td>NaN</td>\n",
       "      <td>320.80</td>\n",
       "      <td>324.29</td>\n",
       "      <td>318.52</td>\n",
       "      <td>2022-05-31</td>\n",
       "    </tr>\n",
       "    <tr>\n",
       "      <th>3</th>\n",
       "      <td>05/30/2022</td>\n",
       "      <td>315.60</td>\n",
       "      <td>NaN</td>\n",
       "      <td>302.72</td>\n",
       "      <td>321.21</td>\n",
       "      <td>304.10</td>\n",
       "      <td>2022-05-30</td>\n",
       "    </tr>\n",
       "    <tr>\n",
       "      <th>4</th>\n",
       "      <td>05/29/2022</td>\n",
       "      <td>316.81</td>\n",
       "      <td>NaN</td>\n",
       "      <td>300.91</td>\n",
       "      <td>318.11</td>\n",
       "      <td>304.10</td>\n",
       "      <td>2022-05-29</td>\n",
       "    </tr>\n",
       "  </tbody>\n",
       "</table>\n",
       "</div>"
      ],
      "text/plain": [
       "         Date  Close/Last  Volume    Open    High     Low       date\n",
       "0  06/02/2022      308.21     NaN  300.50  310.20  306.60 2022-06-02\n",
       "1  06/01/2022      300.02     NaN  319.21  303.81  298.38 2022-06-01\n",
       "2  05/31/2022      319.32     NaN  320.80  324.29  318.52 2022-05-31\n",
       "3  05/30/2022      315.60     NaN  302.72  321.21  304.10 2022-05-30\n",
       "4  05/29/2022      316.81     NaN  300.91  318.11  304.10 2022-05-29"
      ]
     },
     "execution_count": 87,
     "metadata": {},
     "output_type": "execute_result"
    }
   ],
   "source": [
    "df_price.head()"
   ]
  },
  {
   "cell_type": "code",
   "execution_count": 88,
   "metadata": {},
   "outputs": [],
   "source": [
    "df_tweets['date'] = pd.to_datetime(df_tweets['date'])"
   ]
  },
  {
   "cell_type": "code",
   "execution_count": 90,
   "metadata": {},
   "outputs": [],
   "source": [
    "df_combined = pd.merge(df_tweets, df_price, on=\"date\")\n",
    "# df_combined = df_tweets.merge(df_price, on='date', how='outer')"
   ]
  },
  {
   "cell_type": "code",
   "execution_count": 91,
   "metadata": {},
   "outputs": [
    {
     "data": {
      "text/html": [
       "<div>\n",
       "<style scoped>\n",
       "    .dataframe tbody tr th:only-of-type {\n",
       "        vertical-align: middle;\n",
       "    }\n",
       "\n",
       "    .dataframe tbody tr th {\n",
       "        vertical-align: top;\n",
       "    }\n",
       "\n",
       "    .dataframe thead th {\n",
       "        text-align: right;\n",
       "    }\n",
       "</style>\n",
       "<table border=\"1\" class=\"dataframe\">\n",
       "  <thead>\n",
       "    <tr style=\"text-align: right;\">\n",
       "      <th></th>\n",
       "      <th>author</th>\n",
       "      <th>text</th>\n",
       "      <th>timestamp</th>\n",
       "      <th>datetime</th>\n",
       "      <th>date</th>\n",
       "      <th>text_cleaned</th>\n",
       "      <th>vader_sentiment</th>\n",
       "      <th>flair_sentiment</th>\n",
       "      <th>textBlob_sentiment</th>\n",
       "      <th>Date</th>\n",
       "      <th>Close/Last</th>\n",
       "      <th>Volume</th>\n",
       "      <th>Open</th>\n",
       "      <th>High</th>\n",
       "      <th>Low</th>\n",
       "    </tr>\n",
       "  </thead>\n",
       "  <tbody>\n",
       "    <tr>\n",
       "      <th>0</th>\n",
       "      <td>CZ  Binance</td>\n",
       "      <td>I love most tihings in the world, but I hate j...</td>\n",
       "      <td>1654195218</td>\n",
       "      <td>2022-06-02 18:40:18</td>\n",
       "      <td>2022-06-02</td>\n",
       "      <td>love tihings world hate jet lag</td>\n",
       "      <td>-0.7717</td>\n",
       "      <td>0.995204</td>\n",
       "      <td>0.066667</td>\n",
       "      <td>06/02/2022</td>\n",
       "      <td>308.21</td>\n",
       "      <td>NaN</td>\n",
       "      <td>300.5</td>\n",
       "      <td>310.2</td>\n",
       "      <td>306.6</td>\n",
       "    </tr>\n",
       "    <tr>\n",
       "      <th>1</th>\n",
       "      <td>CZ  Binance</td>\n",
       "      <td>#MalaysiaBoleh</td>\n",
       "      <td>1654181362</td>\n",
       "      <td>2022-06-02 14:49:22</td>\n",
       "      <td>2022-06-02</td>\n",
       "      <td>malaysiaboleh</td>\n",
       "      <td>0.0000</td>\n",
       "      <td>0.583073</td>\n",
       "      <td>0.000000</td>\n",
       "      <td>06/02/2022</td>\n",
       "      <td>308.21</td>\n",
       "      <td>NaN</td>\n",
       "      <td>300.5</td>\n",
       "      <td>310.2</td>\n",
       "      <td>306.6</td>\n",
       "    </tr>\n",
       "    <tr>\n",
       "      <th>2</th>\n",
       "      <td>CZ  Binance</td>\n",
       "      <td>Just finished a live interview with CNBC Squaw...</td>\n",
       "      <td>1654167185</td>\n",
       "      <td>2022-06-02 10:53:05</td>\n",
       "      <td>2022-06-02</td>\n",
       "      <td>finish live interview cnbc squawk box studio haha</td>\n",
       "      <td>0.4588</td>\n",
       "      <td>-0.642573</td>\n",
       "      <td>0.168182</td>\n",
       "      <td>06/02/2022</td>\n",
       "      <td>308.21</td>\n",
       "      <td>NaN</td>\n",
       "      <td>300.5</td>\n",
       "      <td>310.2</td>\n",
       "      <td>306.6</td>\n",
       "    </tr>\n",
       "    <tr>\n",
       "      <th>3</th>\n",
       "      <td>CZ  Binance</td>\n",
       "      <td>I'll be speaking at the Point Zero Forum in Zu...</td>\n",
       "      <td>1654163469</td>\n",
       "      <td>2022-06-02 09:51:09</td>\n",
       "      <td>2022-06-02</td>\n",
       "      <td>ill speak point zero forum zurich switzerland ...</td>\n",
       "      <td>0.0000</td>\n",
       "      <td>0.716512</td>\n",
       "      <td>0.000000</td>\n",
       "      <td>06/02/2022</td>\n",
       "      <td>308.21</td>\n",
       "      <td>NaN</td>\n",
       "      <td>300.5</td>\n",
       "      <td>310.2</td>\n",
       "      <td>306.6</td>\n",
       "    </tr>\n",
       "    <tr>\n",
       "      <th>4</th>\n",
       "      <td>CZ  Binance</td>\n",
       "      <td>Humbled to receive this #cryptowarrior gift fr...</td>\n",
       "      <td>1654153218</td>\n",
       "      <td>2022-06-02 07:00:18</td>\n",
       "      <td>2022-06-02</td>\n",
       "      <td>humble receive cryptowarrior gift malaysia par...</td>\n",
       "      <td>0.4404</td>\n",
       "      <td>0.997130</td>\n",
       "      <td>0.000000</td>\n",
       "      <td>06/02/2022</td>\n",
       "      <td>308.21</td>\n",
       "      <td>NaN</td>\n",
       "      <td>300.5</td>\n",
       "      <td>310.2</td>\n",
       "      <td>306.6</td>\n",
       "    </tr>\n",
       "  </tbody>\n",
       "</table>\n",
       "</div>"
      ],
      "text/plain": [
       "        author                                               text   timestamp  \\\n",
       "0  CZ  Binance  I love most tihings in the world, but I hate j...  1654195218   \n",
       "1  CZ  Binance                                     #MalaysiaBoleh  1654181362   \n",
       "2  CZ  Binance  Just finished a live interview with CNBC Squaw...  1654167185   \n",
       "3  CZ  Binance  I'll be speaking at the Point Zero Forum in Zu...  1654163469   \n",
       "4  CZ  Binance  Humbled to receive this #cryptowarrior gift fr...  1654153218   \n",
       "\n",
       "             datetime       date  \\\n",
       "0 2022-06-02 18:40:18 2022-06-02   \n",
       "1 2022-06-02 14:49:22 2022-06-02   \n",
       "2 2022-06-02 10:53:05 2022-06-02   \n",
       "3 2022-06-02 09:51:09 2022-06-02   \n",
       "4 2022-06-02 07:00:18 2022-06-02   \n",
       "\n",
       "                                        text_cleaned  vader_sentiment  \\\n",
       "0                    love tihings world hate jet lag          -0.7717   \n",
       "1                                      malaysiaboleh           0.0000   \n",
       "2  finish live interview cnbc squawk box studio haha           0.4588   \n",
       "3  ill speak point zero forum zurich switzerland ...           0.0000   \n",
       "4  humble receive cryptowarrior gift malaysia par...           0.4404   \n",
       "\n",
       "   flair_sentiment  textBlob_sentiment        Date  Close/Last  Volume   Open  \\\n",
       "0         0.995204            0.066667  06/02/2022      308.21     NaN  300.5   \n",
       "1         0.583073            0.000000  06/02/2022      308.21     NaN  300.5   \n",
       "2        -0.642573            0.168182  06/02/2022      308.21     NaN  300.5   \n",
       "3         0.716512            0.000000  06/02/2022      308.21     NaN  300.5   \n",
       "4         0.997130            0.000000  06/02/2022      308.21     NaN  300.5   \n",
       "\n",
       "    High    Low  \n",
       "0  310.2  306.6  \n",
       "1  310.2  306.6  \n",
       "2  310.2  306.6  \n",
       "3  310.2  306.6  \n",
       "4  310.2  306.6  "
      ]
     },
     "execution_count": 91,
     "metadata": {},
     "output_type": "execute_result"
    }
   ],
   "source": [
    "df_combined.head()"
   ]
  },
  {
   "cell_type": "markdown",
   "metadata": {},
   "source": [
    "### Group the data by Week"
   ]
  },
  {
   "cell_type": "code",
   "execution_count": 94,
   "metadata": {},
   "outputs": [],
   "source": [
    "df_resampled = df_combined.resample('W', on='date').mean().dropna(how='all')"
   ]
  },
  {
   "cell_type": "code",
   "execution_count": 95,
   "metadata": {},
   "outputs": [
    {
     "data": {
      "text/html": [
       "<div>\n",
       "<style scoped>\n",
       "    .dataframe tbody tr th:only-of-type {\n",
       "        vertical-align: middle;\n",
       "    }\n",
       "\n",
       "    .dataframe tbody tr th {\n",
       "        vertical-align: top;\n",
       "    }\n",
       "\n",
       "    .dataframe thead th {\n",
       "        text-align: right;\n",
       "    }\n",
       "</style>\n",
       "<table border=\"1\" class=\"dataframe\">\n",
       "  <thead>\n",
       "    <tr style=\"text-align: right;\">\n",
       "      <th></th>\n",
       "      <th>timestamp</th>\n",
       "      <th>vader_sentiment</th>\n",
       "      <th>flair_sentiment</th>\n",
       "      <th>textBlob_sentiment</th>\n",
       "      <th>Close/Last</th>\n",
       "      <th>Volume</th>\n",
       "      <th>Open</th>\n",
       "      <th>High</th>\n",
       "      <th>Low</th>\n",
       "    </tr>\n",
       "    <tr>\n",
       "      <th>date</th>\n",
       "      <th></th>\n",
       "      <th></th>\n",
       "      <th></th>\n",
       "      <th></th>\n",
       "      <th></th>\n",
       "      <th></th>\n",
       "      <th></th>\n",
       "      <th></th>\n",
       "      <th></th>\n",
       "    </tr>\n",
       "  </thead>\n",
       "  <tbody>\n",
       "    <tr>\n",
       "      <th>2021-06-06</th>\n",
       "      <td>1.622862e+09</td>\n",
       "      <td>0.161474</td>\n",
       "      <td>-0.029036</td>\n",
       "      <td>0.130702</td>\n",
       "      <td>401.680526</td>\n",
       "      <td>NaN</td>\n",
       "      <td>404.743158</td>\n",
       "      <td>409.541579</td>\n",
       "      <td>389.154211</td>\n",
       "    </tr>\n",
       "    <tr>\n",
       "      <th>2021-06-13</th>\n",
       "      <td>1.623317e+09</td>\n",
       "      <td>0.106596</td>\n",
       "      <td>-0.518206</td>\n",
       "      <td>0.037776</td>\n",
       "      <td>349.472692</td>\n",
       "      <td>NaN</td>\n",
       "      <td>358.276538</td>\n",
       "      <td>362.160385</td>\n",
       "      <td>343.480000</td>\n",
       "    </tr>\n",
       "    <tr>\n",
       "      <th>2021-06-20</th>\n",
       "      <td>1.623931e+09</td>\n",
       "      <td>0.285282</td>\n",
       "      <td>0.059619</td>\n",
       "      <td>0.089781</td>\n",
       "      <td>345.945152</td>\n",
       "      <td>NaN</td>\n",
       "      <td>352.927879</td>\n",
       "      <td>349.909091</td>\n",
       "      <td>341.653030</td>\n",
       "    </tr>\n",
       "    <tr>\n",
       "      <th>2021-06-27</th>\n",
       "      <td>1.624520e+09</td>\n",
       "      <td>-0.049767</td>\n",
       "      <td>-0.219633</td>\n",
       "      <td>0.035144</td>\n",
       "      <td>287.689394</td>\n",
       "      <td>NaN</td>\n",
       "      <td>298.202121</td>\n",
       "      <td>293.185152</td>\n",
       "      <td>277.330000</td>\n",
       "    </tr>\n",
       "    <tr>\n",
       "      <th>2021-07-04</th>\n",
       "      <td>1.625150e+09</td>\n",
       "      <td>0.249543</td>\n",
       "      <td>-0.010062</td>\n",
       "      <td>0.081328</td>\n",
       "      <td>290.061739</td>\n",
       "      <td>NaN</td>\n",
       "      <td>290.590435</td>\n",
       "      <td>298.854348</td>\n",
       "      <td>287.977826</td>\n",
       "    </tr>\n",
       "  </tbody>\n",
       "</table>\n",
       "</div>"
      ],
      "text/plain": [
       "               timestamp  vader_sentiment  flair_sentiment  \\\n",
       "date                                                         \n",
       "2021-06-06  1.622862e+09         0.161474        -0.029036   \n",
       "2021-06-13  1.623317e+09         0.106596        -0.518206   \n",
       "2021-06-20  1.623931e+09         0.285282         0.059619   \n",
       "2021-06-27  1.624520e+09        -0.049767        -0.219633   \n",
       "2021-07-04  1.625150e+09         0.249543        -0.010062   \n",
       "\n",
       "            textBlob_sentiment  Close/Last  Volume        Open        High  \\\n",
       "date                                                                         \n",
       "2021-06-06            0.130702  401.680526     NaN  404.743158  409.541579   \n",
       "2021-06-13            0.037776  349.472692     NaN  358.276538  362.160385   \n",
       "2021-06-20            0.089781  345.945152     NaN  352.927879  349.909091   \n",
       "2021-06-27            0.035144  287.689394     NaN  298.202121  293.185152   \n",
       "2021-07-04            0.081328  290.061739     NaN  290.590435  298.854348   \n",
       "\n",
       "                   Low  \n",
       "date                    \n",
       "2021-06-06  389.154211  \n",
       "2021-06-13  343.480000  \n",
       "2021-06-20  341.653030  \n",
       "2021-06-27  277.330000  \n",
       "2021-07-04  287.977826  "
      ]
     },
     "execution_count": 95,
     "metadata": {},
     "output_type": "execute_result"
    }
   ],
   "source": [
    "df_resampled.head()"
   ]
  },
  {
   "cell_type": "markdown",
   "metadata": {},
   "source": [
    "### Visualization"
   ]
  },
  {
   "cell_type": "code",
   "execution_count": 97,
   "metadata": {},
   "outputs": [],
   "source": [
    "# Multiply the column to make the magnitude comparable\n",
    "df_plot = df_resampled.copy()\n",
    "df_plot['vader_sentiment_1000'] = df_plot['vader_sentiment'].apply(lambda x: x * 1000)\n",
    "df_plot['flair_sentiment_1000'] = df_plot['flair_sentiment'].apply(lambda x: x * 1000)\n",
    "df_plot['textBlob_sentiment_1000'] = df_plot['textBlob_sentiment'].apply(lambda x: x * 1000)"
   ]
  },
  {
   "cell_type": "code",
   "execution_count": 99,
   "metadata": {},
   "outputs": [
    {
     "data": {
      "application/vnd.plotly.v1+json": {
       "config": {
        "plotlyServerURL": "https://plot.ly"
       },
       "data": [
        {
         "hovertemplate": "variable=vader_sentiment_1000<br>date=%{x}<br>value=%{y}<extra></extra>",
         "legendgroup": "vader_sentiment_1000",
         "line": {
          "color": "#636efa",
          "dash": "solid"
         },
         "mode": "lines",
         "name": "vader_sentiment_1000",
         "orientation": "v",
         "showlegend": true,
         "type": "scatter",
         "x": [
          "2021-06-06T00:00:00",
          "2021-06-13T00:00:00",
          "2021-06-20T00:00:00",
          "2021-06-27T00:00:00",
          "2021-07-04T00:00:00",
          "2021-07-11T00:00:00",
          "2021-07-18T00:00:00",
          "2021-07-25T00:00:00",
          "2021-08-01T00:00:00",
          "2021-08-08T00:00:00",
          "2021-08-15T00:00:00",
          "2021-08-22T00:00:00",
          "2021-08-29T00:00:00",
          "2021-09-05T00:00:00",
          "2021-09-12T00:00:00",
          "2021-09-19T00:00:00",
          "2021-09-26T00:00:00",
          "2021-10-03T00:00:00",
          "2021-10-10T00:00:00",
          "2021-10-17T00:00:00",
          "2021-10-24T00:00:00",
          "2021-10-31T00:00:00",
          "2021-11-07T00:00:00",
          "2021-11-14T00:00:00",
          "2021-11-21T00:00:00",
          "2021-11-28T00:00:00",
          "2021-12-05T00:00:00",
          "2021-12-12T00:00:00",
          "2021-12-19T00:00:00",
          "2021-12-26T00:00:00",
          "2022-01-02T00:00:00",
          "2022-01-09T00:00:00",
          "2022-01-16T00:00:00",
          "2022-01-23T00:00:00",
          "2022-01-30T00:00:00",
          "2022-02-06T00:00:00",
          "2022-02-13T00:00:00",
          "2022-02-20T00:00:00",
          "2022-02-27T00:00:00",
          "2022-03-06T00:00:00",
          "2022-03-13T00:00:00",
          "2022-03-20T00:00:00",
          "2022-03-27T00:00:00",
          "2022-04-03T00:00:00",
          "2022-04-10T00:00:00",
          "2022-04-17T00:00:00",
          "2022-04-24T00:00:00",
          "2022-05-01T00:00:00",
          "2022-05-08T00:00:00",
          "2022-05-15T00:00:00",
          "2022-05-22T00:00:00",
          "2022-05-29T00:00:00",
          "2022-06-05T00:00:00"
         ],
         "xaxis": "x",
         "y": [
          161.47368421052633,
          106.59615384615385,
          285.2818181818182,
          -49.766666666666666,
          249.54347826086956,
          200.4227272727273,
          172.18709677419352,
          106.45882352941177,
          271.505,
          97.2,
          196.78823529411764,
          104.80370370370372,
          183.29583333333332,
          174.84814814814817,
          69.73928571428571,
          192.19,
          220.63846153846154,
          171.72222222222223,
          -73.4,
          217.11199999999997,
          167.77142857142857,
          193.02,
          137.82,
          10.844444444444447,
          195.87857142857143,
          177.57307692307694,
          125.83076923076922,
          163.16842105263154,
          132.416,
          271.03,
          93.67200000000001,
          91.05999999999999,
          184.1392857142857,
          141.9904761904762,
          122.54374999999999,
          186.615,
          104.91666666666667,
          223.4391304347826,
          277.36,
          132.75238095238095,
          181.74499999999998,
          140.28387096774193,
          97,
          138.9205128205128,
          167.875,
          191.6829268292683,
          99.69318181818181,
          129.99714285714288,
          148.02033898305083,
          134.29285714285714,
          206.34565217391304,
          161.553125,
          66.85000000000001
         ],
         "yaxis": "y"
        },
        {
         "hovertemplate": "variable=flair_sentiment_1000<br>date=%{x}<br>value=%{y}<extra></extra>",
         "legendgroup": "flair_sentiment_1000",
         "line": {
          "color": "#EF553B",
          "dash": "solid"
         },
         "mode": "lines",
         "name": "flair_sentiment_1000",
         "orientation": "v",
         "showlegend": true,
         "type": "scatter",
         "x": [
          "2021-06-06T00:00:00",
          "2021-06-13T00:00:00",
          "2021-06-20T00:00:00",
          "2021-06-27T00:00:00",
          "2021-07-04T00:00:00",
          "2021-07-11T00:00:00",
          "2021-07-18T00:00:00",
          "2021-07-25T00:00:00",
          "2021-08-01T00:00:00",
          "2021-08-08T00:00:00",
          "2021-08-15T00:00:00",
          "2021-08-22T00:00:00",
          "2021-08-29T00:00:00",
          "2021-09-05T00:00:00",
          "2021-09-12T00:00:00",
          "2021-09-19T00:00:00",
          "2021-09-26T00:00:00",
          "2021-10-03T00:00:00",
          "2021-10-10T00:00:00",
          "2021-10-17T00:00:00",
          "2021-10-24T00:00:00",
          "2021-10-31T00:00:00",
          "2021-11-07T00:00:00",
          "2021-11-14T00:00:00",
          "2021-11-21T00:00:00",
          "2021-11-28T00:00:00",
          "2021-12-05T00:00:00",
          "2021-12-12T00:00:00",
          "2021-12-19T00:00:00",
          "2021-12-26T00:00:00",
          "2022-01-02T00:00:00",
          "2022-01-09T00:00:00",
          "2022-01-16T00:00:00",
          "2022-01-23T00:00:00",
          "2022-01-30T00:00:00",
          "2022-02-06T00:00:00",
          "2022-02-13T00:00:00",
          "2022-02-20T00:00:00",
          "2022-02-27T00:00:00",
          "2022-03-06T00:00:00",
          "2022-03-13T00:00:00",
          "2022-03-20T00:00:00",
          "2022-03-27T00:00:00",
          "2022-04-03T00:00:00",
          "2022-04-10T00:00:00",
          "2022-04-17T00:00:00",
          "2022-04-24T00:00:00",
          "2022-05-01T00:00:00",
          "2022-05-08T00:00:00",
          "2022-05-15T00:00:00",
          "2022-05-22T00:00:00",
          "2022-05-29T00:00:00",
          "2022-06-05T00:00:00"
         ],
         "xaxis": "x",
         "y": [
          -29.035518043919613,
          -518.2062272842114,
          59.61925333196467,
          -219.63288206042665,
          -10.061756424281908,
          -118.79127404906532,
          48.8688753497216,
          -113.3609273854424,
          87.5409722328186,
          357.0576310157776,
          140.6880722326391,
          171.98610526544076,
          165.72928180297217,
          -48.46386114756266,
          16.427331737109593,
          -168.0832803249359,
          382.0385520274823,
          106.17707173029582,
          52.6352326075236,
          83.31808567047119,
          -159.7004703113011,
          367.50688552856445,
          110.13137340545654,
          43.72622348644115,
          5.646516169820513,
          -108.81612392572256,
          -525.301286807427,
          403.0148418326127,
          37.70990610122681,
          499.87313747406006,
          179.5251226425171,
          105.30131657918294,
          340.3750785759517,
          341.5626315843491,
          -326.4896310865879,
          -163.2285088300705,
          72.1760074297587,
          273.9384718563246,
          273.20949733257294,
          125.56181919007075,
          -81.89290761947632,
          237.09820739684568,
          -94.04823184013367,
          -24.85177455804287,
          -0.9731934829191727,
          257.22255357881875,
          236.404378305782,
          -26.518419810703822,
          16.089162584078515,
          -83.51137914827892,
          177.0796309346738,
          163.41846249997616,
          209.44460564189487
         ],
         "yaxis": "y"
        },
        {
         "hovertemplate": "variable=textBlob_sentiment_1000<br>date=%{x}<br>value=%{y}<extra></extra>",
         "legendgroup": "textBlob_sentiment_1000",
         "line": {
          "color": "#00cc96",
          "dash": "solid"
         },
         "mode": "lines",
         "name": "textBlob_sentiment_1000",
         "orientation": "v",
         "showlegend": true,
         "type": "scatter",
         "x": [
          "2021-06-06T00:00:00",
          "2021-06-13T00:00:00",
          "2021-06-20T00:00:00",
          "2021-06-27T00:00:00",
          "2021-07-04T00:00:00",
          "2021-07-11T00:00:00",
          "2021-07-18T00:00:00",
          "2021-07-25T00:00:00",
          "2021-08-01T00:00:00",
          "2021-08-08T00:00:00",
          "2021-08-15T00:00:00",
          "2021-08-22T00:00:00",
          "2021-08-29T00:00:00",
          "2021-09-05T00:00:00",
          "2021-09-12T00:00:00",
          "2021-09-19T00:00:00",
          "2021-09-26T00:00:00",
          "2021-10-03T00:00:00",
          "2021-10-10T00:00:00",
          "2021-10-17T00:00:00",
          "2021-10-24T00:00:00",
          "2021-10-31T00:00:00",
          "2021-11-07T00:00:00",
          "2021-11-14T00:00:00",
          "2021-11-21T00:00:00",
          "2021-11-28T00:00:00",
          "2021-12-05T00:00:00",
          "2021-12-12T00:00:00",
          "2021-12-19T00:00:00",
          "2021-12-26T00:00:00",
          "2022-01-02T00:00:00",
          "2022-01-09T00:00:00",
          "2022-01-16T00:00:00",
          "2022-01-23T00:00:00",
          "2022-01-30T00:00:00",
          "2022-02-06T00:00:00",
          "2022-02-13T00:00:00",
          "2022-02-20T00:00:00",
          "2022-02-27T00:00:00",
          "2022-03-06T00:00:00",
          "2022-03-13T00:00:00",
          "2022-03-20T00:00:00",
          "2022-03-27T00:00:00",
          "2022-04-03T00:00:00",
          "2022-04-10T00:00:00",
          "2022-04-17T00:00:00",
          "2022-04-24T00:00:00",
          "2022-05-01T00:00:00",
          "2022-05-08T00:00:00",
          "2022-05-15T00:00:00",
          "2022-05-22T00:00:00",
          "2022-05-29T00:00:00",
          "2022-06-05T00:00:00"
         ],
         "xaxis": "x",
         "y": [
          130.7017543859649,
          37.77573616859331,
          89.78123952366376,
          35.143534916262205,
          81.32783581153146,
          89.31686999868816,
          114.72443327282038,
          99.77718360071302,
          103.73987644300145,
          77.6176948051948,
          154.5172311348782,
          109.35746352413018,
          127.45084776334775,
          145.58531746031747,
          136.34276437847868,
          50.09276437847867,
          93.90109890109889,
          156.21693121693121,
          58.33333333333333,
          93.4973544973545,
          173.13924963924964,
          83.33333333333334,
          27.56060606060606,
          83.93525199080754,
          74.33712121212122,
          80.436056998557,
          80.41958041958041,
          98.51364522417154,
          43.848484848484844,
          150.6786616161616,
          23.02020202020202,
          85.71428571428571,
          130.58035714285714,
          114.01051329622757,
          49.69223484848484,
          138.23958333333334,
          36.986531986531986,
          79.30077169207604,
          79.44805194805197,
          133.12547241118668,
          144.2012987012987,
          94.42815249266862,
          73.36503928170596,
          127.2933212493652,
          100.51379596834141,
          94.15126878541513,
          85.3348829201102,
          124.71985157699444,
          81.89800547851395,
          72.72208640400605,
          134.28245969006838,
          68.46337256493507,
          -9.7152076318743
         ],
         "yaxis": "y"
        },
        {
         "hovertemplate": "variable=Close/Last<br>date=%{x}<br>value=%{y}<extra></extra>",
         "legendgroup": "Close/Last",
         "line": {
          "color": "#ab63fa",
          "dash": "solid"
         },
         "mode": "lines",
         "name": "Close/Last",
         "orientation": "v",
         "showlegend": true,
         "type": "scatter",
         "x": [
          "2021-06-06T00:00:00",
          "2021-06-13T00:00:00",
          "2021-06-20T00:00:00",
          "2021-06-27T00:00:00",
          "2021-07-04T00:00:00",
          "2021-07-11T00:00:00",
          "2021-07-18T00:00:00",
          "2021-07-25T00:00:00",
          "2021-08-01T00:00:00",
          "2021-08-08T00:00:00",
          "2021-08-15T00:00:00",
          "2021-08-22T00:00:00",
          "2021-08-29T00:00:00",
          "2021-09-05T00:00:00",
          "2021-09-12T00:00:00",
          "2021-09-19T00:00:00",
          "2021-09-26T00:00:00",
          "2021-10-03T00:00:00",
          "2021-10-10T00:00:00",
          "2021-10-17T00:00:00",
          "2021-10-24T00:00:00",
          "2021-10-31T00:00:00",
          "2021-11-07T00:00:00",
          "2021-11-14T00:00:00",
          "2021-11-21T00:00:00",
          "2021-11-28T00:00:00",
          "2021-12-05T00:00:00",
          "2021-12-12T00:00:00",
          "2021-12-19T00:00:00",
          "2021-12-26T00:00:00",
          "2022-01-02T00:00:00",
          "2022-01-09T00:00:00",
          "2022-01-16T00:00:00",
          "2022-01-23T00:00:00",
          "2022-01-30T00:00:00",
          "2022-02-06T00:00:00",
          "2022-02-13T00:00:00",
          "2022-02-20T00:00:00",
          "2022-02-27T00:00:00",
          "2022-03-06T00:00:00",
          "2022-03-13T00:00:00",
          "2022-03-20T00:00:00",
          "2022-03-27T00:00:00",
          "2022-04-03T00:00:00",
          "2022-04-10T00:00:00",
          "2022-04-17T00:00:00",
          "2022-04-24T00:00:00",
          "2022-05-01T00:00:00",
          "2022-05-08T00:00:00",
          "2022-05-15T00:00:00",
          "2022-05-22T00:00:00",
          "2022-05-29T00:00:00",
          "2022-06-05T00:00:00"
         ],
         "xaxis": "x",
         "y": [
          401.6805263157895,
          349.47269230769234,
          345.94515151515145,
          287.68939393939394,
          290.0617391304348,
          314.95727272727277,
          305.5,
          287.2741176470588,
          318.9435,
          338.520625,
          389.1841176470588,
          424.8848148148148,
          485.9558333333334,
          484.8440740740741,
          433.9121428571429,
          412.774,
          360.29,
          380.9244444444445,
          425.52666666666664,
          466.8868,
          486.3561904761905,
          505.4309999999999,
          594.1892,
          633.5714814814814,
          573.3714285714285,
          595.5807692307692,
          586.8538461538462,
          572.978947368421,
          529.4536,
          537.013,
          530.2532,
          479.4706666666667,
          469.58964285714285,
          423.8114285714286,
          377.444375,
          391.781,
          411.6603333333333,
          416.87,
          362.351,
          398.0614285714286,
          378.21999999999997,
          379.318064516129,
          415.4608333333333,
          438.4553846153847,
          432.4277272727273,
          413.6792682926829,
          408.42204545454547,
          394.398,
          379.2550847457627,
          290.61285714285714,
          305.64260869565214,
          313.09499999999997,
          312.48333333333335
         ],
         "yaxis": "y"
        }
       ],
       "layout": {
        "legend": {
         "title": {
          "text": "variable"
         },
         "tracegroupgap": 0
        },
        "margin": {
         "t": 60
        },
        "template": {
         "data": {
          "bar": [
           {
            "error_x": {
             "color": "#2a3f5f"
            },
            "error_y": {
             "color": "#2a3f5f"
            },
            "marker": {
             "line": {
              "color": "#E5ECF6",
              "width": 0.5
             }
            },
            "type": "bar"
           }
          ],
          "barpolar": [
           {
            "marker": {
             "line": {
              "color": "#E5ECF6",
              "width": 0.5
             }
            },
            "type": "barpolar"
           }
          ],
          "carpet": [
           {
            "aaxis": {
             "endlinecolor": "#2a3f5f",
             "gridcolor": "white",
             "linecolor": "white",
             "minorgridcolor": "white",
             "startlinecolor": "#2a3f5f"
            },
            "baxis": {
             "endlinecolor": "#2a3f5f",
             "gridcolor": "white",
             "linecolor": "white",
             "minorgridcolor": "white",
             "startlinecolor": "#2a3f5f"
            },
            "type": "carpet"
           }
          ],
          "choropleth": [
           {
            "colorbar": {
             "outlinewidth": 0,
             "ticks": ""
            },
            "type": "choropleth"
           }
          ],
          "contour": [
           {
            "colorbar": {
             "outlinewidth": 0,
             "ticks": ""
            },
            "colorscale": [
             [
              0,
              "#0d0887"
             ],
             [
              0.1111111111111111,
              "#46039f"
             ],
             [
              0.2222222222222222,
              "#7201a8"
             ],
             [
              0.3333333333333333,
              "#9c179e"
             ],
             [
              0.4444444444444444,
              "#bd3786"
             ],
             [
              0.5555555555555556,
              "#d8576b"
             ],
             [
              0.6666666666666666,
              "#ed7953"
             ],
             [
              0.7777777777777778,
              "#fb9f3a"
             ],
             [
              0.8888888888888888,
              "#fdca26"
             ],
             [
              1,
              "#f0f921"
             ]
            ],
            "type": "contour"
           }
          ],
          "contourcarpet": [
           {
            "colorbar": {
             "outlinewidth": 0,
             "ticks": ""
            },
            "type": "contourcarpet"
           }
          ],
          "heatmap": [
           {
            "colorbar": {
             "outlinewidth": 0,
             "ticks": ""
            },
            "colorscale": [
             [
              0,
              "#0d0887"
             ],
             [
              0.1111111111111111,
              "#46039f"
             ],
             [
              0.2222222222222222,
              "#7201a8"
             ],
             [
              0.3333333333333333,
              "#9c179e"
             ],
             [
              0.4444444444444444,
              "#bd3786"
             ],
             [
              0.5555555555555556,
              "#d8576b"
             ],
             [
              0.6666666666666666,
              "#ed7953"
             ],
             [
              0.7777777777777778,
              "#fb9f3a"
             ],
             [
              0.8888888888888888,
              "#fdca26"
             ],
             [
              1,
              "#f0f921"
             ]
            ],
            "type": "heatmap"
           }
          ],
          "heatmapgl": [
           {
            "colorbar": {
             "outlinewidth": 0,
             "ticks": ""
            },
            "colorscale": [
             [
              0,
              "#0d0887"
             ],
             [
              0.1111111111111111,
              "#46039f"
             ],
             [
              0.2222222222222222,
              "#7201a8"
             ],
             [
              0.3333333333333333,
              "#9c179e"
             ],
             [
              0.4444444444444444,
              "#bd3786"
             ],
             [
              0.5555555555555556,
              "#d8576b"
             ],
             [
              0.6666666666666666,
              "#ed7953"
             ],
             [
              0.7777777777777778,
              "#fb9f3a"
             ],
             [
              0.8888888888888888,
              "#fdca26"
             ],
             [
              1,
              "#f0f921"
             ]
            ],
            "type": "heatmapgl"
           }
          ],
          "histogram": [
           {
            "marker": {
             "colorbar": {
              "outlinewidth": 0,
              "ticks": ""
             }
            },
            "type": "histogram"
           }
          ],
          "histogram2d": [
           {
            "colorbar": {
             "outlinewidth": 0,
             "ticks": ""
            },
            "colorscale": [
             [
              0,
              "#0d0887"
             ],
             [
              0.1111111111111111,
              "#46039f"
             ],
             [
              0.2222222222222222,
              "#7201a8"
             ],
             [
              0.3333333333333333,
              "#9c179e"
             ],
             [
              0.4444444444444444,
              "#bd3786"
             ],
             [
              0.5555555555555556,
              "#d8576b"
             ],
             [
              0.6666666666666666,
              "#ed7953"
             ],
             [
              0.7777777777777778,
              "#fb9f3a"
             ],
             [
              0.8888888888888888,
              "#fdca26"
             ],
             [
              1,
              "#f0f921"
             ]
            ],
            "type": "histogram2d"
           }
          ],
          "histogram2dcontour": [
           {
            "colorbar": {
             "outlinewidth": 0,
             "ticks": ""
            },
            "colorscale": [
             [
              0,
              "#0d0887"
             ],
             [
              0.1111111111111111,
              "#46039f"
             ],
             [
              0.2222222222222222,
              "#7201a8"
             ],
             [
              0.3333333333333333,
              "#9c179e"
             ],
             [
              0.4444444444444444,
              "#bd3786"
             ],
             [
              0.5555555555555556,
              "#d8576b"
             ],
             [
              0.6666666666666666,
              "#ed7953"
             ],
             [
              0.7777777777777778,
              "#fb9f3a"
             ],
             [
              0.8888888888888888,
              "#fdca26"
             ],
             [
              1,
              "#f0f921"
             ]
            ],
            "type": "histogram2dcontour"
           }
          ],
          "mesh3d": [
           {
            "colorbar": {
             "outlinewidth": 0,
             "ticks": ""
            },
            "type": "mesh3d"
           }
          ],
          "parcoords": [
           {
            "line": {
             "colorbar": {
              "outlinewidth": 0,
              "ticks": ""
             }
            },
            "type": "parcoords"
           }
          ],
          "pie": [
           {
            "automargin": true,
            "type": "pie"
           }
          ],
          "scatter": [
           {
            "marker": {
             "colorbar": {
              "outlinewidth": 0,
              "ticks": ""
             }
            },
            "type": "scatter"
           }
          ],
          "scatter3d": [
           {
            "line": {
             "colorbar": {
              "outlinewidth": 0,
              "ticks": ""
             }
            },
            "marker": {
             "colorbar": {
              "outlinewidth": 0,
              "ticks": ""
             }
            },
            "type": "scatter3d"
           }
          ],
          "scattercarpet": [
           {
            "marker": {
             "colorbar": {
              "outlinewidth": 0,
              "ticks": ""
             }
            },
            "type": "scattercarpet"
           }
          ],
          "scattergeo": [
           {
            "marker": {
             "colorbar": {
              "outlinewidth": 0,
              "ticks": ""
             }
            },
            "type": "scattergeo"
           }
          ],
          "scattergl": [
           {
            "marker": {
             "colorbar": {
              "outlinewidth": 0,
              "ticks": ""
             }
            },
            "type": "scattergl"
           }
          ],
          "scattermapbox": [
           {
            "marker": {
             "colorbar": {
              "outlinewidth": 0,
              "ticks": ""
             }
            },
            "type": "scattermapbox"
           }
          ],
          "scatterpolar": [
           {
            "marker": {
             "colorbar": {
              "outlinewidth": 0,
              "ticks": ""
             }
            },
            "type": "scatterpolar"
           }
          ],
          "scatterpolargl": [
           {
            "marker": {
             "colorbar": {
              "outlinewidth": 0,
              "ticks": ""
             }
            },
            "type": "scatterpolargl"
           }
          ],
          "scatterternary": [
           {
            "marker": {
             "colorbar": {
              "outlinewidth": 0,
              "ticks": ""
             }
            },
            "type": "scatterternary"
           }
          ],
          "surface": [
           {
            "colorbar": {
             "outlinewidth": 0,
             "ticks": ""
            },
            "colorscale": [
             [
              0,
              "#0d0887"
             ],
             [
              0.1111111111111111,
              "#46039f"
             ],
             [
              0.2222222222222222,
              "#7201a8"
             ],
             [
              0.3333333333333333,
              "#9c179e"
             ],
             [
              0.4444444444444444,
              "#bd3786"
             ],
             [
              0.5555555555555556,
              "#d8576b"
             ],
             [
              0.6666666666666666,
              "#ed7953"
             ],
             [
              0.7777777777777778,
              "#fb9f3a"
             ],
             [
              0.8888888888888888,
              "#fdca26"
             ],
             [
              1,
              "#f0f921"
             ]
            ],
            "type": "surface"
           }
          ],
          "table": [
           {
            "cells": {
             "fill": {
              "color": "#EBF0F8"
             },
             "line": {
              "color": "white"
             }
            },
            "header": {
             "fill": {
              "color": "#C8D4E3"
             },
             "line": {
              "color": "white"
             }
            },
            "type": "table"
           }
          ]
         },
         "layout": {
          "annotationdefaults": {
           "arrowcolor": "#2a3f5f",
           "arrowhead": 0,
           "arrowwidth": 1
          },
          "coloraxis": {
           "colorbar": {
            "outlinewidth": 0,
            "ticks": ""
           }
          },
          "colorscale": {
           "diverging": [
            [
             0,
             "#8e0152"
            ],
            [
             0.1,
             "#c51b7d"
            ],
            [
             0.2,
             "#de77ae"
            ],
            [
             0.3,
             "#f1b6da"
            ],
            [
             0.4,
             "#fde0ef"
            ],
            [
             0.5,
             "#f7f7f7"
            ],
            [
             0.6,
             "#e6f5d0"
            ],
            [
             0.7,
             "#b8e186"
            ],
            [
             0.8,
             "#7fbc41"
            ],
            [
             0.9,
             "#4d9221"
            ],
            [
             1,
             "#276419"
            ]
           ],
           "sequential": [
            [
             0,
             "#0d0887"
            ],
            [
             0.1111111111111111,
             "#46039f"
            ],
            [
             0.2222222222222222,
             "#7201a8"
            ],
            [
             0.3333333333333333,
             "#9c179e"
            ],
            [
             0.4444444444444444,
             "#bd3786"
            ],
            [
             0.5555555555555556,
             "#d8576b"
            ],
            [
             0.6666666666666666,
             "#ed7953"
            ],
            [
             0.7777777777777778,
             "#fb9f3a"
            ],
            [
             0.8888888888888888,
             "#fdca26"
            ],
            [
             1,
             "#f0f921"
            ]
           ],
           "sequentialminus": [
            [
             0,
             "#0d0887"
            ],
            [
             0.1111111111111111,
             "#46039f"
            ],
            [
             0.2222222222222222,
             "#7201a8"
            ],
            [
             0.3333333333333333,
             "#9c179e"
            ],
            [
             0.4444444444444444,
             "#bd3786"
            ],
            [
             0.5555555555555556,
             "#d8576b"
            ],
            [
             0.6666666666666666,
             "#ed7953"
            ],
            [
             0.7777777777777778,
             "#fb9f3a"
            ],
            [
             0.8888888888888888,
             "#fdca26"
            ],
            [
             1,
             "#f0f921"
            ]
           ]
          },
          "colorway": [
           "#636efa",
           "#EF553B",
           "#00cc96",
           "#ab63fa",
           "#FFA15A",
           "#19d3f3",
           "#FF6692",
           "#B6E880",
           "#FF97FF",
           "#FECB52"
          ],
          "font": {
           "color": "#2a3f5f"
          },
          "geo": {
           "bgcolor": "white",
           "lakecolor": "white",
           "landcolor": "#E5ECF6",
           "showlakes": true,
           "showland": true,
           "subunitcolor": "white"
          },
          "hoverlabel": {
           "align": "left"
          },
          "hovermode": "closest",
          "mapbox": {
           "style": "light"
          },
          "paper_bgcolor": "white",
          "plot_bgcolor": "#E5ECF6",
          "polar": {
           "angularaxis": {
            "gridcolor": "white",
            "linecolor": "white",
            "ticks": ""
           },
           "bgcolor": "#E5ECF6",
           "radialaxis": {
            "gridcolor": "white",
            "linecolor": "white",
            "ticks": ""
           }
          },
          "scene": {
           "xaxis": {
            "backgroundcolor": "#E5ECF6",
            "gridcolor": "white",
            "gridwidth": 2,
            "linecolor": "white",
            "showbackground": true,
            "ticks": "",
            "zerolinecolor": "white"
           },
           "yaxis": {
            "backgroundcolor": "#E5ECF6",
            "gridcolor": "white",
            "gridwidth": 2,
            "linecolor": "white",
            "showbackground": true,
            "ticks": "",
            "zerolinecolor": "white"
           },
           "zaxis": {
            "backgroundcolor": "#E5ECF6",
            "gridcolor": "white",
            "gridwidth": 2,
            "linecolor": "white",
            "showbackground": true,
            "ticks": "",
            "zerolinecolor": "white"
           }
          },
          "shapedefaults": {
           "line": {
            "color": "#2a3f5f"
           }
          },
          "ternary": {
           "aaxis": {
            "gridcolor": "white",
            "linecolor": "white",
            "ticks": ""
           },
           "baxis": {
            "gridcolor": "white",
            "linecolor": "white",
            "ticks": ""
           },
           "bgcolor": "#E5ECF6",
           "caxis": {
            "gridcolor": "white",
            "linecolor": "white",
            "ticks": ""
           }
          },
          "title": {
           "x": 0.05
          },
          "xaxis": {
           "automargin": true,
           "gridcolor": "white",
           "linecolor": "white",
           "ticks": "",
           "title": {
            "standoff": 15
           },
           "zerolinecolor": "white",
           "zerolinewidth": 2
          },
          "yaxis": {
           "automargin": true,
           "gridcolor": "white",
           "linecolor": "white",
           "ticks": "",
           "title": {
            "standoff": 15
           },
           "zerolinecolor": "white",
           "zerolinewidth": 2
          }
         }
        },
        "xaxis": {
         "anchor": "y",
         "domain": [
          0,
          1
         ],
         "title": {
          "text": "date"
         }
        },
        "yaxis": {
         "anchor": "x",
         "domain": [
          0,
          1
         ],
         "title": {
          "text": "value"
         }
        }
       }
      }
     },
     "metadata": {},
     "output_type": "display_data"
    }
   ],
   "source": [
    "fig = px.line(df_plot, y=['vader_sentiment_1000', 'flair_sentiment_1000', 'textBlob_sentiment_1000', 'Close/Last'])\n",
    "fig.show()"
   ]
  },
  {
   "cell_type": "code",
   "execution_count": 100,
   "metadata": {},
   "outputs": [
    {
     "data": {
      "application/vnd.plotly.v1+json": {
       "config": {
        "plotlyServerURL": "https://plot.ly"
       },
       "data": [
        {
         "hovertemplate": "variable=Close/Last<br>date=%{x}<br>value=%{y}<extra></extra>",
         "legendgroup": "Close/Last",
         "line": {
          "color": "#636efa",
          "dash": "solid"
         },
         "mode": "lines",
         "name": "Close/Last",
         "orientation": "v",
         "showlegend": true,
         "type": "scatter",
         "x": [
          "2021-06-06T00:00:00",
          "2021-06-13T00:00:00",
          "2021-06-20T00:00:00",
          "2021-06-27T00:00:00",
          "2021-07-04T00:00:00",
          "2021-07-11T00:00:00",
          "2021-07-18T00:00:00",
          "2021-07-25T00:00:00",
          "2021-08-01T00:00:00",
          "2021-08-08T00:00:00",
          "2021-08-15T00:00:00",
          "2021-08-22T00:00:00",
          "2021-08-29T00:00:00",
          "2021-09-05T00:00:00",
          "2021-09-12T00:00:00",
          "2021-09-19T00:00:00",
          "2021-09-26T00:00:00",
          "2021-10-03T00:00:00",
          "2021-10-10T00:00:00",
          "2021-10-17T00:00:00",
          "2021-10-24T00:00:00",
          "2021-10-31T00:00:00",
          "2021-11-07T00:00:00",
          "2021-11-14T00:00:00",
          "2021-11-21T00:00:00",
          "2021-11-28T00:00:00",
          "2021-12-05T00:00:00",
          "2021-12-12T00:00:00",
          "2021-12-19T00:00:00",
          "2021-12-26T00:00:00",
          "2022-01-02T00:00:00",
          "2022-01-09T00:00:00",
          "2022-01-16T00:00:00",
          "2022-01-23T00:00:00",
          "2022-01-30T00:00:00",
          "2022-02-06T00:00:00",
          "2022-02-13T00:00:00",
          "2022-02-20T00:00:00",
          "2022-02-27T00:00:00",
          "2022-03-06T00:00:00",
          "2022-03-13T00:00:00",
          "2022-03-20T00:00:00",
          "2022-03-27T00:00:00",
          "2022-04-03T00:00:00",
          "2022-04-10T00:00:00",
          "2022-04-17T00:00:00",
          "2022-04-24T00:00:00",
          "2022-05-01T00:00:00",
          "2022-05-08T00:00:00",
          "2022-05-15T00:00:00",
          "2022-05-22T00:00:00",
          "2022-05-29T00:00:00",
          "2022-06-05T00:00:00"
         ],
         "xaxis": "x",
         "y": [
          401.6805263157895,
          349.47269230769234,
          345.94515151515145,
          287.68939393939394,
          290.0617391304348,
          314.95727272727277,
          305.5,
          287.2741176470588,
          318.9435,
          338.520625,
          389.1841176470588,
          424.8848148148148,
          485.9558333333334,
          484.8440740740741,
          433.9121428571429,
          412.774,
          360.29,
          380.9244444444445,
          425.52666666666664,
          466.8868,
          486.3561904761905,
          505.4309999999999,
          594.1892,
          633.5714814814814,
          573.3714285714285,
          595.5807692307692,
          586.8538461538462,
          572.978947368421,
          529.4536,
          537.013,
          530.2532,
          479.4706666666667,
          469.58964285714285,
          423.8114285714286,
          377.444375,
          391.781,
          411.6603333333333,
          416.87,
          362.351,
          398.0614285714286,
          378.21999999999997,
          379.318064516129,
          415.4608333333333,
          438.4553846153847,
          432.4277272727273,
          413.6792682926829,
          408.42204545454547,
          394.398,
          379.2550847457627,
          290.61285714285714,
          305.64260869565214,
          313.09499999999997,
          312.48333333333335
         ],
         "yaxis": "y"
        }
       ],
       "layout": {
        "legend": {
         "title": {
          "text": "variable"
         },
         "tracegroupgap": 0
        },
        "margin": {
         "t": 60
        },
        "template": {
         "data": {
          "bar": [
           {
            "error_x": {
             "color": "#2a3f5f"
            },
            "error_y": {
             "color": "#2a3f5f"
            },
            "marker": {
             "line": {
              "color": "#E5ECF6",
              "width": 0.5
             }
            },
            "type": "bar"
           }
          ],
          "barpolar": [
           {
            "marker": {
             "line": {
              "color": "#E5ECF6",
              "width": 0.5
             }
            },
            "type": "barpolar"
           }
          ],
          "carpet": [
           {
            "aaxis": {
             "endlinecolor": "#2a3f5f",
             "gridcolor": "white",
             "linecolor": "white",
             "minorgridcolor": "white",
             "startlinecolor": "#2a3f5f"
            },
            "baxis": {
             "endlinecolor": "#2a3f5f",
             "gridcolor": "white",
             "linecolor": "white",
             "minorgridcolor": "white",
             "startlinecolor": "#2a3f5f"
            },
            "type": "carpet"
           }
          ],
          "choropleth": [
           {
            "colorbar": {
             "outlinewidth": 0,
             "ticks": ""
            },
            "type": "choropleth"
           }
          ],
          "contour": [
           {
            "colorbar": {
             "outlinewidth": 0,
             "ticks": ""
            },
            "colorscale": [
             [
              0,
              "#0d0887"
             ],
             [
              0.1111111111111111,
              "#46039f"
             ],
             [
              0.2222222222222222,
              "#7201a8"
             ],
             [
              0.3333333333333333,
              "#9c179e"
             ],
             [
              0.4444444444444444,
              "#bd3786"
             ],
             [
              0.5555555555555556,
              "#d8576b"
             ],
             [
              0.6666666666666666,
              "#ed7953"
             ],
             [
              0.7777777777777778,
              "#fb9f3a"
             ],
             [
              0.8888888888888888,
              "#fdca26"
             ],
             [
              1,
              "#f0f921"
             ]
            ],
            "type": "contour"
           }
          ],
          "contourcarpet": [
           {
            "colorbar": {
             "outlinewidth": 0,
             "ticks": ""
            },
            "type": "contourcarpet"
           }
          ],
          "heatmap": [
           {
            "colorbar": {
             "outlinewidth": 0,
             "ticks": ""
            },
            "colorscale": [
             [
              0,
              "#0d0887"
             ],
             [
              0.1111111111111111,
              "#46039f"
             ],
             [
              0.2222222222222222,
              "#7201a8"
             ],
             [
              0.3333333333333333,
              "#9c179e"
             ],
             [
              0.4444444444444444,
              "#bd3786"
             ],
             [
              0.5555555555555556,
              "#d8576b"
             ],
             [
              0.6666666666666666,
              "#ed7953"
             ],
             [
              0.7777777777777778,
              "#fb9f3a"
             ],
             [
              0.8888888888888888,
              "#fdca26"
             ],
             [
              1,
              "#f0f921"
             ]
            ],
            "type": "heatmap"
           }
          ],
          "heatmapgl": [
           {
            "colorbar": {
             "outlinewidth": 0,
             "ticks": ""
            },
            "colorscale": [
             [
              0,
              "#0d0887"
             ],
             [
              0.1111111111111111,
              "#46039f"
             ],
             [
              0.2222222222222222,
              "#7201a8"
             ],
             [
              0.3333333333333333,
              "#9c179e"
             ],
             [
              0.4444444444444444,
              "#bd3786"
             ],
             [
              0.5555555555555556,
              "#d8576b"
             ],
             [
              0.6666666666666666,
              "#ed7953"
             ],
             [
              0.7777777777777778,
              "#fb9f3a"
             ],
             [
              0.8888888888888888,
              "#fdca26"
             ],
             [
              1,
              "#f0f921"
             ]
            ],
            "type": "heatmapgl"
           }
          ],
          "histogram": [
           {
            "marker": {
             "colorbar": {
              "outlinewidth": 0,
              "ticks": ""
             }
            },
            "type": "histogram"
           }
          ],
          "histogram2d": [
           {
            "colorbar": {
             "outlinewidth": 0,
             "ticks": ""
            },
            "colorscale": [
             [
              0,
              "#0d0887"
             ],
             [
              0.1111111111111111,
              "#46039f"
             ],
             [
              0.2222222222222222,
              "#7201a8"
             ],
             [
              0.3333333333333333,
              "#9c179e"
             ],
             [
              0.4444444444444444,
              "#bd3786"
             ],
             [
              0.5555555555555556,
              "#d8576b"
             ],
             [
              0.6666666666666666,
              "#ed7953"
             ],
             [
              0.7777777777777778,
              "#fb9f3a"
             ],
             [
              0.8888888888888888,
              "#fdca26"
             ],
             [
              1,
              "#f0f921"
             ]
            ],
            "type": "histogram2d"
           }
          ],
          "histogram2dcontour": [
           {
            "colorbar": {
             "outlinewidth": 0,
             "ticks": ""
            },
            "colorscale": [
             [
              0,
              "#0d0887"
             ],
             [
              0.1111111111111111,
              "#46039f"
             ],
             [
              0.2222222222222222,
              "#7201a8"
             ],
             [
              0.3333333333333333,
              "#9c179e"
             ],
             [
              0.4444444444444444,
              "#bd3786"
             ],
             [
              0.5555555555555556,
              "#d8576b"
             ],
             [
              0.6666666666666666,
              "#ed7953"
             ],
             [
              0.7777777777777778,
              "#fb9f3a"
             ],
             [
              0.8888888888888888,
              "#fdca26"
             ],
             [
              1,
              "#f0f921"
             ]
            ],
            "type": "histogram2dcontour"
           }
          ],
          "mesh3d": [
           {
            "colorbar": {
             "outlinewidth": 0,
             "ticks": ""
            },
            "type": "mesh3d"
           }
          ],
          "parcoords": [
           {
            "line": {
             "colorbar": {
              "outlinewidth": 0,
              "ticks": ""
             }
            },
            "type": "parcoords"
           }
          ],
          "pie": [
           {
            "automargin": true,
            "type": "pie"
           }
          ],
          "scatter": [
           {
            "marker": {
             "colorbar": {
              "outlinewidth": 0,
              "ticks": ""
             }
            },
            "type": "scatter"
           }
          ],
          "scatter3d": [
           {
            "line": {
             "colorbar": {
              "outlinewidth": 0,
              "ticks": ""
             }
            },
            "marker": {
             "colorbar": {
              "outlinewidth": 0,
              "ticks": ""
             }
            },
            "type": "scatter3d"
           }
          ],
          "scattercarpet": [
           {
            "marker": {
             "colorbar": {
              "outlinewidth": 0,
              "ticks": ""
             }
            },
            "type": "scattercarpet"
           }
          ],
          "scattergeo": [
           {
            "marker": {
             "colorbar": {
              "outlinewidth": 0,
              "ticks": ""
             }
            },
            "type": "scattergeo"
           }
          ],
          "scattergl": [
           {
            "marker": {
             "colorbar": {
              "outlinewidth": 0,
              "ticks": ""
             }
            },
            "type": "scattergl"
           }
          ],
          "scattermapbox": [
           {
            "marker": {
             "colorbar": {
              "outlinewidth": 0,
              "ticks": ""
             }
            },
            "type": "scattermapbox"
           }
          ],
          "scatterpolar": [
           {
            "marker": {
             "colorbar": {
              "outlinewidth": 0,
              "ticks": ""
             }
            },
            "type": "scatterpolar"
           }
          ],
          "scatterpolargl": [
           {
            "marker": {
             "colorbar": {
              "outlinewidth": 0,
              "ticks": ""
             }
            },
            "type": "scatterpolargl"
           }
          ],
          "scatterternary": [
           {
            "marker": {
             "colorbar": {
              "outlinewidth": 0,
              "ticks": ""
             }
            },
            "type": "scatterternary"
           }
          ],
          "surface": [
           {
            "colorbar": {
             "outlinewidth": 0,
             "ticks": ""
            },
            "colorscale": [
             [
              0,
              "#0d0887"
             ],
             [
              0.1111111111111111,
              "#46039f"
             ],
             [
              0.2222222222222222,
              "#7201a8"
             ],
             [
              0.3333333333333333,
              "#9c179e"
             ],
             [
              0.4444444444444444,
              "#bd3786"
             ],
             [
              0.5555555555555556,
              "#d8576b"
             ],
             [
              0.6666666666666666,
              "#ed7953"
             ],
             [
              0.7777777777777778,
              "#fb9f3a"
             ],
             [
              0.8888888888888888,
              "#fdca26"
             ],
             [
              1,
              "#f0f921"
             ]
            ],
            "type": "surface"
           }
          ],
          "table": [
           {
            "cells": {
             "fill": {
              "color": "#EBF0F8"
             },
             "line": {
              "color": "white"
             }
            },
            "header": {
             "fill": {
              "color": "#C8D4E3"
             },
             "line": {
              "color": "white"
             }
            },
            "type": "table"
           }
          ]
         },
         "layout": {
          "annotationdefaults": {
           "arrowcolor": "#2a3f5f",
           "arrowhead": 0,
           "arrowwidth": 1
          },
          "coloraxis": {
           "colorbar": {
            "outlinewidth": 0,
            "ticks": ""
           }
          },
          "colorscale": {
           "diverging": [
            [
             0,
             "#8e0152"
            ],
            [
             0.1,
             "#c51b7d"
            ],
            [
             0.2,
             "#de77ae"
            ],
            [
             0.3,
             "#f1b6da"
            ],
            [
             0.4,
             "#fde0ef"
            ],
            [
             0.5,
             "#f7f7f7"
            ],
            [
             0.6,
             "#e6f5d0"
            ],
            [
             0.7,
             "#b8e186"
            ],
            [
             0.8,
             "#7fbc41"
            ],
            [
             0.9,
             "#4d9221"
            ],
            [
             1,
             "#276419"
            ]
           ],
           "sequential": [
            [
             0,
             "#0d0887"
            ],
            [
             0.1111111111111111,
             "#46039f"
            ],
            [
             0.2222222222222222,
             "#7201a8"
            ],
            [
             0.3333333333333333,
             "#9c179e"
            ],
            [
             0.4444444444444444,
             "#bd3786"
            ],
            [
             0.5555555555555556,
             "#d8576b"
            ],
            [
             0.6666666666666666,
             "#ed7953"
            ],
            [
             0.7777777777777778,
             "#fb9f3a"
            ],
            [
             0.8888888888888888,
             "#fdca26"
            ],
            [
             1,
             "#f0f921"
            ]
           ],
           "sequentialminus": [
            [
             0,
             "#0d0887"
            ],
            [
             0.1111111111111111,
             "#46039f"
            ],
            [
             0.2222222222222222,
             "#7201a8"
            ],
            [
             0.3333333333333333,
             "#9c179e"
            ],
            [
             0.4444444444444444,
             "#bd3786"
            ],
            [
             0.5555555555555556,
             "#d8576b"
            ],
            [
             0.6666666666666666,
             "#ed7953"
            ],
            [
             0.7777777777777778,
             "#fb9f3a"
            ],
            [
             0.8888888888888888,
             "#fdca26"
            ],
            [
             1,
             "#f0f921"
            ]
           ]
          },
          "colorway": [
           "#636efa",
           "#EF553B",
           "#00cc96",
           "#ab63fa",
           "#FFA15A",
           "#19d3f3",
           "#FF6692",
           "#B6E880",
           "#FF97FF",
           "#FECB52"
          ],
          "font": {
           "color": "#2a3f5f"
          },
          "geo": {
           "bgcolor": "white",
           "lakecolor": "white",
           "landcolor": "#E5ECF6",
           "showlakes": true,
           "showland": true,
           "subunitcolor": "white"
          },
          "hoverlabel": {
           "align": "left"
          },
          "hovermode": "closest",
          "mapbox": {
           "style": "light"
          },
          "paper_bgcolor": "white",
          "plot_bgcolor": "#E5ECF6",
          "polar": {
           "angularaxis": {
            "gridcolor": "white",
            "linecolor": "white",
            "ticks": ""
           },
           "bgcolor": "#E5ECF6",
           "radialaxis": {
            "gridcolor": "white",
            "linecolor": "white",
            "ticks": ""
           }
          },
          "scene": {
           "xaxis": {
            "backgroundcolor": "#E5ECF6",
            "gridcolor": "white",
            "gridwidth": 2,
            "linecolor": "white",
            "showbackground": true,
            "ticks": "",
            "zerolinecolor": "white"
           },
           "yaxis": {
            "backgroundcolor": "#E5ECF6",
            "gridcolor": "white",
            "gridwidth": 2,
            "linecolor": "white",
            "showbackground": true,
            "ticks": "",
            "zerolinecolor": "white"
           },
           "zaxis": {
            "backgroundcolor": "#E5ECF6",
            "gridcolor": "white",
            "gridwidth": 2,
            "linecolor": "white",
            "showbackground": true,
            "ticks": "",
            "zerolinecolor": "white"
           }
          },
          "shapedefaults": {
           "line": {
            "color": "#2a3f5f"
           }
          },
          "ternary": {
           "aaxis": {
            "gridcolor": "white",
            "linecolor": "white",
            "ticks": ""
           },
           "baxis": {
            "gridcolor": "white",
            "linecolor": "white",
            "ticks": ""
           },
           "bgcolor": "#E5ECF6",
           "caxis": {
            "gridcolor": "white",
            "linecolor": "white",
            "ticks": ""
           }
          },
          "title": {
           "x": 0.05
          },
          "xaxis": {
           "automargin": true,
           "gridcolor": "white",
           "linecolor": "white",
           "ticks": "",
           "title": {
            "standoff": 15
           },
           "zerolinecolor": "white",
           "zerolinewidth": 2
          },
          "yaxis": {
           "automargin": true,
           "gridcolor": "white",
           "linecolor": "white",
           "ticks": "",
           "title": {
            "standoff": 15
           },
           "zerolinecolor": "white",
           "zerolinewidth": 2
          }
         }
        },
        "xaxis": {
         "anchor": "y",
         "domain": [
          0,
          1
         ],
         "title": {
          "text": "date"
         }
        },
        "yaxis": {
         "anchor": "x",
         "domain": [
          0,
          1
         ],
         "title": {
          "text": "value"
         }
        }
       }
      }
     },
     "metadata": {},
     "output_type": "display_data"
    }
   ],
   "source": [
    "fig = px.line(df_plot, y=['Close/Last'])\n",
    "fig.show()\n"
   ]
  },
  {
   "cell_type": "markdown",
   "metadata": {},
   "source": [
    "#### Correlation - Numerical Analysis"
   ]
  },
  {
   "cell_type": "code",
   "execution_count": 101,
   "metadata": {},
   "outputs": [],
   "source": [
    "df_resampled_1 = df_resampled.drop(columns=['timestamp', 'Volume', 'Open', 'High', 'Low'])\n",
    "df_resampled_corr = df_resampled_1.corr()"
   ]
  },
  {
   "cell_type": "code",
   "execution_count": 102,
   "metadata": {},
   "outputs": [
    {
     "data": {
      "text/html": [
       "<div>\n",
       "<style scoped>\n",
       "    .dataframe tbody tr th:only-of-type {\n",
       "        vertical-align: middle;\n",
       "    }\n",
       "\n",
       "    .dataframe tbody tr th {\n",
       "        vertical-align: top;\n",
       "    }\n",
       "\n",
       "    .dataframe thead th {\n",
       "        text-align: right;\n",
       "    }\n",
       "</style>\n",
       "<table border=\"1\" class=\"dataframe\">\n",
       "  <thead>\n",
       "    <tr style=\"text-align: right;\">\n",
       "      <th></th>\n",
       "      <th>vader_sentiment</th>\n",
       "      <th>flair_sentiment</th>\n",
       "      <th>textBlob_sentiment</th>\n",
       "      <th>Close/Last</th>\n",
       "    </tr>\n",
       "  </thead>\n",
       "  <tbody>\n",
       "    <tr>\n",
       "      <th>vader_sentiment</th>\n",
       "      <td>1.000000</td>\n",
       "      <td>0.254265</td>\n",
       "      <td>0.380334</td>\n",
       "      <td>-0.066857</td>\n",
       "    </tr>\n",
       "    <tr>\n",
       "      <th>flair_sentiment</th>\n",
       "      <td>0.254265</td>\n",
       "      <td>1.000000</td>\n",
       "      <td>0.144934</td>\n",
       "      <td>0.082361</td>\n",
       "    </tr>\n",
       "    <tr>\n",
       "      <th>textBlob_sentiment</th>\n",
       "      <td>0.380334</td>\n",
       "      <td>0.144934</td>\n",
       "      <td>1.000000</td>\n",
       "      <td>0.015206</td>\n",
       "    </tr>\n",
       "    <tr>\n",
       "      <th>Close/Last</th>\n",
       "      <td>-0.066857</td>\n",
       "      <td>0.082361</td>\n",
       "      <td>0.015206</td>\n",
       "      <td>1.000000</td>\n",
       "    </tr>\n",
       "  </tbody>\n",
       "</table>\n",
       "</div>"
      ],
      "text/plain": [
       "                    vader_sentiment  flair_sentiment  textBlob_sentiment  \\\n",
       "vader_sentiment            1.000000         0.254265            0.380334   \n",
       "flair_sentiment            0.254265         1.000000            0.144934   \n",
       "textBlob_sentiment         0.380334         0.144934            1.000000   \n",
       "Close/Last                -0.066857         0.082361            0.015206   \n",
       "\n",
       "                    Close/Last  \n",
       "vader_sentiment      -0.066857  \n",
       "flair_sentiment       0.082361  \n",
       "textBlob_sentiment    0.015206  \n",
       "Close/Last            1.000000  "
      ]
     },
     "execution_count": 102,
     "metadata": {},
     "output_type": "execute_result"
    }
   ],
   "source": [
    "df_resampled_corr"
   ]
  },
  {
   "cell_type": "code",
   "execution_count": 103,
   "metadata": {},
   "outputs": [
    {
     "data": {
      "application/vnd.plotly.v1+json": {
       "config": {
        "plotlyServerURL": "https://plot.ly"
       },
       "data": [
        {
         "coloraxis": "coloraxis",
         "hovertemplate": "x: %{x}<br>y: %{y}<br>color: %{z}<extra></extra>",
         "type": "heatmap",
         "x": [
          "vader_sentiment",
          "flair_sentiment",
          "textBlob_sentiment",
          "Close/Last"
         ],
         "y": [
          "vader_sentiment",
          "flair_sentiment",
          "textBlob_sentiment",
          "Close/Last"
         ],
         "z": [
          [
           1,
           0.2542654424771572,
           0.38033419534403395,
           -0.06685660478459887
          ],
          [
           0.2542654424771572,
           1,
           0.14493370734279193,
           0.08236135276457329
          ],
          [
           0.38033419534403395,
           0.14493370734279193,
           1,
           0.015206164255160661
          ],
          [
           -0.06685660478459887,
           0.08236135276457329,
           0.015206164255160661,
           1
          ]
         ]
        }
       ],
       "layout": {
        "coloraxis": {
         "colorscale": [
          [
           0,
           "#0d0887"
          ],
          [
           0.1111111111111111,
           "#46039f"
          ],
          [
           0.2222222222222222,
           "#7201a8"
          ],
          [
           0.3333333333333333,
           "#9c179e"
          ],
          [
           0.4444444444444444,
           "#bd3786"
          ],
          [
           0.5555555555555556,
           "#d8576b"
          ],
          [
           0.6666666666666666,
           "#ed7953"
          ],
          [
           0.7777777777777778,
           "#fb9f3a"
          ],
          [
           0.8888888888888888,
           "#fdca26"
          ],
          [
           1,
           "#f0f921"
          ]
         ]
        },
        "margin": {
         "t": 60
        },
        "template": {
         "data": {
          "bar": [
           {
            "error_x": {
             "color": "#2a3f5f"
            },
            "error_y": {
             "color": "#2a3f5f"
            },
            "marker": {
             "line": {
              "color": "#E5ECF6",
              "width": 0.5
             }
            },
            "type": "bar"
           }
          ],
          "barpolar": [
           {
            "marker": {
             "line": {
              "color": "#E5ECF6",
              "width": 0.5
             }
            },
            "type": "barpolar"
           }
          ],
          "carpet": [
           {
            "aaxis": {
             "endlinecolor": "#2a3f5f",
             "gridcolor": "white",
             "linecolor": "white",
             "minorgridcolor": "white",
             "startlinecolor": "#2a3f5f"
            },
            "baxis": {
             "endlinecolor": "#2a3f5f",
             "gridcolor": "white",
             "linecolor": "white",
             "minorgridcolor": "white",
             "startlinecolor": "#2a3f5f"
            },
            "type": "carpet"
           }
          ],
          "choropleth": [
           {
            "colorbar": {
             "outlinewidth": 0,
             "ticks": ""
            },
            "type": "choropleth"
           }
          ],
          "contour": [
           {
            "colorbar": {
             "outlinewidth": 0,
             "ticks": ""
            },
            "colorscale": [
             [
              0,
              "#0d0887"
             ],
             [
              0.1111111111111111,
              "#46039f"
             ],
             [
              0.2222222222222222,
              "#7201a8"
             ],
             [
              0.3333333333333333,
              "#9c179e"
             ],
             [
              0.4444444444444444,
              "#bd3786"
             ],
             [
              0.5555555555555556,
              "#d8576b"
             ],
             [
              0.6666666666666666,
              "#ed7953"
             ],
             [
              0.7777777777777778,
              "#fb9f3a"
             ],
             [
              0.8888888888888888,
              "#fdca26"
             ],
             [
              1,
              "#f0f921"
             ]
            ],
            "type": "contour"
           }
          ],
          "contourcarpet": [
           {
            "colorbar": {
             "outlinewidth": 0,
             "ticks": ""
            },
            "type": "contourcarpet"
           }
          ],
          "heatmap": [
           {
            "colorbar": {
             "outlinewidth": 0,
             "ticks": ""
            },
            "colorscale": [
             [
              0,
              "#0d0887"
             ],
             [
              0.1111111111111111,
              "#46039f"
             ],
             [
              0.2222222222222222,
              "#7201a8"
             ],
             [
              0.3333333333333333,
              "#9c179e"
             ],
             [
              0.4444444444444444,
              "#bd3786"
             ],
             [
              0.5555555555555556,
              "#d8576b"
             ],
             [
              0.6666666666666666,
              "#ed7953"
             ],
             [
              0.7777777777777778,
              "#fb9f3a"
             ],
             [
              0.8888888888888888,
              "#fdca26"
             ],
             [
              1,
              "#f0f921"
             ]
            ],
            "type": "heatmap"
           }
          ],
          "heatmapgl": [
           {
            "colorbar": {
             "outlinewidth": 0,
             "ticks": ""
            },
            "colorscale": [
             [
              0,
              "#0d0887"
             ],
             [
              0.1111111111111111,
              "#46039f"
             ],
             [
              0.2222222222222222,
              "#7201a8"
             ],
             [
              0.3333333333333333,
              "#9c179e"
             ],
             [
              0.4444444444444444,
              "#bd3786"
             ],
             [
              0.5555555555555556,
              "#d8576b"
             ],
             [
              0.6666666666666666,
              "#ed7953"
             ],
             [
              0.7777777777777778,
              "#fb9f3a"
             ],
             [
              0.8888888888888888,
              "#fdca26"
             ],
             [
              1,
              "#f0f921"
             ]
            ],
            "type": "heatmapgl"
           }
          ],
          "histogram": [
           {
            "marker": {
             "colorbar": {
              "outlinewidth": 0,
              "ticks": ""
             }
            },
            "type": "histogram"
           }
          ],
          "histogram2d": [
           {
            "colorbar": {
             "outlinewidth": 0,
             "ticks": ""
            },
            "colorscale": [
             [
              0,
              "#0d0887"
             ],
             [
              0.1111111111111111,
              "#46039f"
             ],
             [
              0.2222222222222222,
              "#7201a8"
             ],
             [
              0.3333333333333333,
              "#9c179e"
             ],
             [
              0.4444444444444444,
              "#bd3786"
             ],
             [
              0.5555555555555556,
              "#d8576b"
             ],
             [
              0.6666666666666666,
              "#ed7953"
             ],
             [
              0.7777777777777778,
              "#fb9f3a"
             ],
             [
              0.8888888888888888,
              "#fdca26"
             ],
             [
              1,
              "#f0f921"
             ]
            ],
            "type": "histogram2d"
           }
          ],
          "histogram2dcontour": [
           {
            "colorbar": {
             "outlinewidth": 0,
             "ticks": ""
            },
            "colorscale": [
             [
              0,
              "#0d0887"
             ],
             [
              0.1111111111111111,
              "#46039f"
             ],
             [
              0.2222222222222222,
              "#7201a8"
             ],
             [
              0.3333333333333333,
              "#9c179e"
             ],
             [
              0.4444444444444444,
              "#bd3786"
             ],
             [
              0.5555555555555556,
              "#d8576b"
             ],
             [
              0.6666666666666666,
              "#ed7953"
             ],
             [
              0.7777777777777778,
              "#fb9f3a"
             ],
             [
              0.8888888888888888,
              "#fdca26"
             ],
             [
              1,
              "#f0f921"
             ]
            ],
            "type": "histogram2dcontour"
           }
          ],
          "mesh3d": [
           {
            "colorbar": {
             "outlinewidth": 0,
             "ticks": ""
            },
            "type": "mesh3d"
           }
          ],
          "parcoords": [
           {
            "line": {
             "colorbar": {
              "outlinewidth": 0,
              "ticks": ""
             }
            },
            "type": "parcoords"
           }
          ],
          "pie": [
           {
            "automargin": true,
            "type": "pie"
           }
          ],
          "scatter": [
           {
            "marker": {
             "colorbar": {
              "outlinewidth": 0,
              "ticks": ""
             }
            },
            "type": "scatter"
           }
          ],
          "scatter3d": [
           {
            "line": {
             "colorbar": {
              "outlinewidth": 0,
              "ticks": ""
             }
            },
            "marker": {
             "colorbar": {
              "outlinewidth": 0,
              "ticks": ""
             }
            },
            "type": "scatter3d"
           }
          ],
          "scattercarpet": [
           {
            "marker": {
             "colorbar": {
              "outlinewidth": 0,
              "ticks": ""
             }
            },
            "type": "scattercarpet"
           }
          ],
          "scattergeo": [
           {
            "marker": {
             "colorbar": {
              "outlinewidth": 0,
              "ticks": ""
             }
            },
            "type": "scattergeo"
           }
          ],
          "scattergl": [
           {
            "marker": {
             "colorbar": {
              "outlinewidth": 0,
              "ticks": ""
             }
            },
            "type": "scattergl"
           }
          ],
          "scattermapbox": [
           {
            "marker": {
             "colorbar": {
              "outlinewidth": 0,
              "ticks": ""
             }
            },
            "type": "scattermapbox"
           }
          ],
          "scatterpolar": [
           {
            "marker": {
             "colorbar": {
              "outlinewidth": 0,
              "ticks": ""
             }
            },
            "type": "scatterpolar"
           }
          ],
          "scatterpolargl": [
           {
            "marker": {
             "colorbar": {
              "outlinewidth": 0,
              "ticks": ""
             }
            },
            "type": "scatterpolargl"
           }
          ],
          "scatterternary": [
           {
            "marker": {
             "colorbar": {
              "outlinewidth": 0,
              "ticks": ""
             }
            },
            "type": "scatterternary"
           }
          ],
          "surface": [
           {
            "colorbar": {
             "outlinewidth": 0,
             "ticks": ""
            },
            "colorscale": [
             [
              0,
              "#0d0887"
             ],
             [
              0.1111111111111111,
              "#46039f"
             ],
             [
              0.2222222222222222,
              "#7201a8"
             ],
             [
              0.3333333333333333,
              "#9c179e"
             ],
             [
              0.4444444444444444,
              "#bd3786"
             ],
             [
              0.5555555555555556,
              "#d8576b"
             ],
             [
              0.6666666666666666,
              "#ed7953"
             ],
             [
              0.7777777777777778,
              "#fb9f3a"
             ],
             [
              0.8888888888888888,
              "#fdca26"
             ],
             [
              1,
              "#f0f921"
             ]
            ],
            "type": "surface"
           }
          ],
          "table": [
           {
            "cells": {
             "fill": {
              "color": "#EBF0F8"
             },
             "line": {
              "color": "white"
             }
            },
            "header": {
             "fill": {
              "color": "#C8D4E3"
             },
             "line": {
              "color": "white"
             }
            },
            "type": "table"
           }
          ]
         },
         "layout": {
          "annotationdefaults": {
           "arrowcolor": "#2a3f5f",
           "arrowhead": 0,
           "arrowwidth": 1
          },
          "coloraxis": {
           "colorbar": {
            "outlinewidth": 0,
            "ticks": ""
           }
          },
          "colorscale": {
           "diverging": [
            [
             0,
             "#8e0152"
            ],
            [
             0.1,
             "#c51b7d"
            ],
            [
             0.2,
             "#de77ae"
            ],
            [
             0.3,
             "#f1b6da"
            ],
            [
             0.4,
             "#fde0ef"
            ],
            [
             0.5,
             "#f7f7f7"
            ],
            [
             0.6,
             "#e6f5d0"
            ],
            [
             0.7,
             "#b8e186"
            ],
            [
             0.8,
             "#7fbc41"
            ],
            [
             0.9,
             "#4d9221"
            ],
            [
             1,
             "#276419"
            ]
           ],
           "sequential": [
            [
             0,
             "#0d0887"
            ],
            [
             0.1111111111111111,
             "#46039f"
            ],
            [
             0.2222222222222222,
             "#7201a8"
            ],
            [
             0.3333333333333333,
             "#9c179e"
            ],
            [
             0.4444444444444444,
             "#bd3786"
            ],
            [
             0.5555555555555556,
             "#d8576b"
            ],
            [
             0.6666666666666666,
             "#ed7953"
            ],
            [
             0.7777777777777778,
             "#fb9f3a"
            ],
            [
             0.8888888888888888,
             "#fdca26"
            ],
            [
             1,
             "#f0f921"
            ]
           ],
           "sequentialminus": [
            [
             0,
             "#0d0887"
            ],
            [
             0.1111111111111111,
             "#46039f"
            ],
            [
             0.2222222222222222,
             "#7201a8"
            ],
            [
             0.3333333333333333,
             "#9c179e"
            ],
            [
             0.4444444444444444,
             "#bd3786"
            ],
            [
             0.5555555555555556,
             "#d8576b"
            ],
            [
             0.6666666666666666,
             "#ed7953"
            ],
            [
             0.7777777777777778,
             "#fb9f3a"
            ],
            [
             0.8888888888888888,
             "#fdca26"
            ],
            [
             1,
             "#f0f921"
            ]
           ]
          },
          "colorway": [
           "#636efa",
           "#EF553B",
           "#00cc96",
           "#ab63fa",
           "#FFA15A",
           "#19d3f3",
           "#FF6692",
           "#B6E880",
           "#FF97FF",
           "#FECB52"
          ],
          "font": {
           "color": "#2a3f5f"
          },
          "geo": {
           "bgcolor": "white",
           "lakecolor": "white",
           "landcolor": "#E5ECF6",
           "showlakes": true,
           "showland": true,
           "subunitcolor": "white"
          },
          "hoverlabel": {
           "align": "left"
          },
          "hovermode": "closest",
          "mapbox": {
           "style": "light"
          },
          "paper_bgcolor": "white",
          "plot_bgcolor": "#E5ECF6",
          "polar": {
           "angularaxis": {
            "gridcolor": "white",
            "linecolor": "white",
            "ticks": ""
           },
           "bgcolor": "#E5ECF6",
           "radialaxis": {
            "gridcolor": "white",
            "linecolor": "white",
            "ticks": ""
           }
          },
          "scene": {
           "xaxis": {
            "backgroundcolor": "#E5ECF6",
            "gridcolor": "white",
            "gridwidth": 2,
            "linecolor": "white",
            "showbackground": true,
            "ticks": "",
            "zerolinecolor": "white"
           },
           "yaxis": {
            "backgroundcolor": "#E5ECF6",
            "gridcolor": "white",
            "gridwidth": 2,
            "linecolor": "white",
            "showbackground": true,
            "ticks": "",
            "zerolinecolor": "white"
           },
           "zaxis": {
            "backgroundcolor": "#E5ECF6",
            "gridcolor": "white",
            "gridwidth": 2,
            "linecolor": "white",
            "showbackground": true,
            "ticks": "",
            "zerolinecolor": "white"
           }
          },
          "shapedefaults": {
           "line": {
            "color": "#2a3f5f"
           }
          },
          "ternary": {
           "aaxis": {
            "gridcolor": "white",
            "linecolor": "white",
            "ticks": ""
           },
           "baxis": {
            "gridcolor": "white",
            "linecolor": "white",
            "ticks": ""
           },
           "bgcolor": "#E5ECF6",
           "caxis": {
            "gridcolor": "white",
            "linecolor": "white",
            "ticks": ""
           }
          },
          "title": {
           "x": 0.05
          },
          "xaxis": {
           "automargin": true,
           "gridcolor": "white",
           "linecolor": "white",
           "ticks": "",
           "title": {
            "standoff": 15
           },
           "zerolinecolor": "white",
           "zerolinewidth": 2
          },
          "yaxis": {
           "automargin": true,
           "gridcolor": "white",
           "linecolor": "white",
           "ticks": "",
           "title": {
            "standoff": 15
           },
           "zerolinecolor": "white",
           "zerolinewidth": 2
          }
         }
        },
        "xaxis": {
         "constrain": "domain",
         "scaleanchor": "y"
        },
        "yaxis": {
         "autorange": "reversed",
         "constrain": "domain"
        }
       }
      }
     },
     "metadata": {},
     "output_type": "display_data"
    }
   ],
   "source": [
    "px.imshow(df_resampled_corr)"
   ]
  },
  {
   "cell_type": "markdown",
   "metadata": {},
   "source": [
    "### Analysis on Price Change\n",
    "Sentiment may not directly indicate a high or low price in the market, but an possible underlying movement in the market. So I proceed to check \n",
    "- whether price change is correlated to the polarity of the sentiment score\n",
    "- whether the text sentiment could be used to predict the price movement\n",
    "\n",
    "The second question turns this into a supervised machine learning problem. Logistic Regression, SVM, Decision Tree, Random Forest and even Deep Learning could be applied to classify if the text would belong to the 'upward' class or 'downward' class. "
   ]
  },
  {
   "cell_type": "code",
   "execution_count": 105,
   "metadata": {},
   "outputs": [],
   "source": [
    "df_resampled['price_change'] = df_resampled['Close/Last'] - df_resampled['Open']\n",
    "df_resampled['movement'] = df_resampled['price_change'].apply(lambda x: 1 if x >= 0 else 0)"
   ]
  },
  {
   "cell_type": "code",
   "execution_count": 106,
   "metadata": {},
   "outputs": [
    {
     "data": {
      "text/html": [
       "<div>\n",
       "<style scoped>\n",
       "    .dataframe tbody tr th:only-of-type {\n",
       "        vertical-align: middle;\n",
       "    }\n",
       "\n",
       "    .dataframe tbody tr th {\n",
       "        vertical-align: top;\n",
       "    }\n",
       "\n",
       "    .dataframe thead th {\n",
       "        text-align: right;\n",
       "    }\n",
       "</style>\n",
       "<table border=\"1\" class=\"dataframe\">\n",
       "  <thead>\n",
       "    <tr style=\"text-align: right;\">\n",
       "      <th></th>\n",
       "      <th>timestamp</th>\n",
       "      <th>vader_sentiment</th>\n",
       "      <th>flair_sentiment</th>\n",
       "      <th>textBlob_sentiment</th>\n",
       "      <th>Close/Last</th>\n",
       "      <th>Volume</th>\n",
       "      <th>Open</th>\n",
       "      <th>High</th>\n",
       "      <th>Low</th>\n",
       "      <th>price_change</th>\n",
       "      <th>movement</th>\n",
       "    </tr>\n",
       "    <tr>\n",
       "      <th>date</th>\n",
       "      <th></th>\n",
       "      <th></th>\n",
       "      <th></th>\n",
       "      <th></th>\n",
       "      <th></th>\n",
       "      <th></th>\n",
       "      <th></th>\n",
       "      <th></th>\n",
       "      <th></th>\n",
       "      <th></th>\n",
       "      <th></th>\n",
       "    </tr>\n",
       "  </thead>\n",
       "  <tbody>\n",
       "    <tr>\n",
       "      <th>2021-06-06</th>\n",
       "      <td>1.622862e+09</td>\n",
       "      <td>0.161474</td>\n",
       "      <td>-0.029036</td>\n",
       "      <td>0.130702</td>\n",
       "      <td>401.680526</td>\n",
       "      <td>NaN</td>\n",
       "      <td>404.743158</td>\n",
       "      <td>409.541579</td>\n",
       "      <td>389.154211</td>\n",
       "      <td>-3.062632</td>\n",
       "      <td>0</td>\n",
       "    </tr>\n",
       "    <tr>\n",
       "      <th>2021-06-13</th>\n",
       "      <td>1.623317e+09</td>\n",
       "      <td>0.106596</td>\n",
       "      <td>-0.518206</td>\n",
       "      <td>0.037776</td>\n",
       "      <td>349.472692</td>\n",
       "      <td>NaN</td>\n",
       "      <td>358.276538</td>\n",
       "      <td>362.160385</td>\n",
       "      <td>343.480000</td>\n",
       "      <td>-8.803846</td>\n",
       "      <td>0</td>\n",
       "    </tr>\n",
       "    <tr>\n",
       "      <th>2021-06-20</th>\n",
       "      <td>1.623931e+09</td>\n",
       "      <td>0.285282</td>\n",
       "      <td>0.059619</td>\n",
       "      <td>0.089781</td>\n",
       "      <td>345.945152</td>\n",
       "      <td>NaN</td>\n",
       "      <td>352.927879</td>\n",
       "      <td>349.909091</td>\n",
       "      <td>341.653030</td>\n",
       "      <td>-6.982727</td>\n",
       "      <td>0</td>\n",
       "    </tr>\n",
       "    <tr>\n",
       "      <th>2021-06-27</th>\n",
       "      <td>1.624520e+09</td>\n",
       "      <td>-0.049767</td>\n",
       "      <td>-0.219633</td>\n",
       "      <td>0.035144</td>\n",
       "      <td>287.689394</td>\n",
       "      <td>NaN</td>\n",
       "      <td>298.202121</td>\n",
       "      <td>293.185152</td>\n",
       "      <td>277.330000</td>\n",
       "      <td>-10.512727</td>\n",
       "      <td>0</td>\n",
       "    </tr>\n",
       "    <tr>\n",
       "      <th>2021-07-04</th>\n",
       "      <td>1.625150e+09</td>\n",
       "      <td>0.249543</td>\n",
       "      <td>-0.010062</td>\n",
       "      <td>0.081328</td>\n",
       "      <td>290.061739</td>\n",
       "      <td>NaN</td>\n",
       "      <td>290.590435</td>\n",
       "      <td>298.854348</td>\n",
       "      <td>287.977826</td>\n",
       "      <td>-0.528696</td>\n",
       "      <td>0</td>\n",
       "    </tr>\n",
       "  </tbody>\n",
       "</table>\n",
       "</div>"
      ],
      "text/plain": [
       "               timestamp  vader_sentiment  flair_sentiment  \\\n",
       "date                                                         \n",
       "2021-06-06  1.622862e+09         0.161474        -0.029036   \n",
       "2021-06-13  1.623317e+09         0.106596        -0.518206   \n",
       "2021-06-20  1.623931e+09         0.285282         0.059619   \n",
       "2021-06-27  1.624520e+09        -0.049767        -0.219633   \n",
       "2021-07-04  1.625150e+09         0.249543        -0.010062   \n",
       "\n",
       "            textBlob_sentiment  Close/Last  Volume        Open        High  \\\n",
       "date                                                                         \n",
       "2021-06-06            0.130702  401.680526     NaN  404.743158  409.541579   \n",
       "2021-06-13            0.037776  349.472692     NaN  358.276538  362.160385   \n",
       "2021-06-20            0.089781  345.945152     NaN  352.927879  349.909091   \n",
       "2021-06-27            0.035144  287.689394     NaN  298.202121  293.185152   \n",
       "2021-07-04            0.081328  290.061739     NaN  290.590435  298.854348   \n",
       "\n",
       "                   Low  price_change  movement  \n",
       "date                                            \n",
       "2021-06-06  389.154211     -3.062632         0  \n",
       "2021-06-13  343.480000     -8.803846         0  \n",
       "2021-06-20  341.653030     -6.982727         0  \n",
       "2021-06-27  277.330000    -10.512727         0  \n",
       "2021-07-04  287.977826     -0.528696         0  "
      ]
     },
     "execution_count": 106,
     "metadata": {},
     "output_type": "execute_result"
    }
   ],
   "source": [
    "# Delta\n",
    "df_resampled.head()"
   ]
  },
  {
   "cell_type": "markdown",
   "metadata": {},
   "source": [
    "#### Visualization"
   ]
  },
  {
   "cell_type": "code",
   "execution_count": 107,
   "metadata": {},
   "outputs": [],
   "source": [
    "df_resampled_2 = df_resampled.drop(columns=['timestamp', 'Volume', 'Open', 'High', 'Low'])"
   ]
  },
  {
   "cell_type": "code",
   "execution_count": 109,
   "metadata": {},
   "outputs": [
    {
     "data": {
      "application/vnd.plotly.v1+json": {
       "config": {
        "plotlyServerURL": "https://plot.ly"
       },
       "data": [
        {
         "hovertemplate": "variable=vader_sentiment<br>date=%{x}<br>value=%{y}<extra></extra>",
         "legendgroup": "vader_sentiment",
         "line": {
          "color": "#636efa",
          "dash": "solid"
         },
         "mode": "lines",
         "name": "vader_sentiment",
         "orientation": "v",
         "showlegend": true,
         "type": "scatter",
         "x": [
          "2021-06-06T00:00:00",
          "2021-06-13T00:00:00",
          "2021-06-20T00:00:00",
          "2021-06-27T00:00:00",
          "2021-07-04T00:00:00",
          "2021-07-11T00:00:00",
          "2021-07-18T00:00:00",
          "2021-07-25T00:00:00",
          "2021-08-01T00:00:00",
          "2021-08-08T00:00:00",
          "2021-08-15T00:00:00",
          "2021-08-22T00:00:00",
          "2021-08-29T00:00:00",
          "2021-09-05T00:00:00",
          "2021-09-12T00:00:00",
          "2021-09-19T00:00:00",
          "2021-09-26T00:00:00",
          "2021-10-03T00:00:00",
          "2021-10-10T00:00:00",
          "2021-10-17T00:00:00",
          "2021-10-24T00:00:00",
          "2021-10-31T00:00:00",
          "2021-11-07T00:00:00",
          "2021-11-14T00:00:00",
          "2021-11-21T00:00:00",
          "2021-11-28T00:00:00",
          "2021-12-05T00:00:00",
          "2021-12-12T00:00:00",
          "2021-12-19T00:00:00",
          "2021-12-26T00:00:00",
          "2022-01-02T00:00:00",
          "2022-01-09T00:00:00",
          "2022-01-16T00:00:00",
          "2022-01-23T00:00:00",
          "2022-01-30T00:00:00",
          "2022-02-06T00:00:00",
          "2022-02-13T00:00:00",
          "2022-02-20T00:00:00",
          "2022-02-27T00:00:00",
          "2022-03-06T00:00:00",
          "2022-03-13T00:00:00",
          "2022-03-20T00:00:00",
          "2022-03-27T00:00:00",
          "2022-04-03T00:00:00",
          "2022-04-10T00:00:00",
          "2022-04-17T00:00:00",
          "2022-04-24T00:00:00",
          "2022-05-01T00:00:00",
          "2022-05-08T00:00:00",
          "2022-05-15T00:00:00",
          "2022-05-22T00:00:00",
          "2022-05-29T00:00:00",
          "2022-06-05T00:00:00"
         ],
         "xaxis": "x",
         "y": [
          0.16147368421052632,
          0.10659615384615385,
          0.2852818181818182,
          -0.04976666666666667,
          0.24954347826086956,
          0.20042272727272728,
          0.17218709677419353,
          0.10645882352941177,
          0.271505,
          0.09720000000000001,
          0.19678823529411765,
          0.10480370370370372,
          0.18329583333333332,
          0.17484814814814817,
          0.06973928571428571,
          0.19219,
          0.22063846153846153,
          0.17172222222222222,
          -0.0734,
          0.21711199999999997,
          0.16777142857142857,
          0.19302,
          0.13782,
          0.010844444444444446,
          0.19587857142857143,
          0.17757307692307694,
          0.12583076923076922,
          0.16316842105263155,
          0.132416,
          0.27103,
          0.093672,
          0.09105999999999999,
          0.1841392857142857,
          0.1419904761904762,
          0.12254374999999999,
          0.186615,
          0.10491666666666667,
          0.2234391304347826,
          0.27736,
          0.13275238095238096,
          0.181745,
          0.14028387096774192,
          0.097,
          0.13892051282051282,
          0.167875,
          0.1916829268292683,
          0.09969318181818182,
          0.12999714285714287,
          0.14802033898305084,
          0.13429285714285716,
          0.20634565217391304,
          0.161553125,
          0.06685
         ],
         "yaxis": "y"
        },
        {
         "hovertemplate": "variable=flair_sentiment<br>date=%{x}<br>value=%{y}<extra></extra>",
         "legendgroup": "flair_sentiment",
         "line": {
          "color": "#EF553B",
          "dash": "solid"
         },
         "mode": "lines",
         "name": "flair_sentiment",
         "orientation": "v",
         "showlegend": true,
         "type": "scatter",
         "x": [
          "2021-06-06T00:00:00",
          "2021-06-13T00:00:00",
          "2021-06-20T00:00:00",
          "2021-06-27T00:00:00",
          "2021-07-04T00:00:00",
          "2021-07-11T00:00:00",
          "2021-07-18T00:00:00",
          "2021-07-25T00:00:00",
          "2021-08-01T00:00:00",
          "2021-08-08T00:00:00",
          "2021-08-15T00:00:00",
          "2021-08-22T00:00:00",
          "2021-08-29T00:00:00",
          "2021-09-05T00:00:00",
          "2021-09-12T00:00:00",
          "2021-09-19T00:00:00",
          "2021-09-26T00:00:00",
          "2021-10-03T00:00:00",
          "2021-10-10T00:00:00",
          "2021-10-17T00:00:00",
          "2021-10-24T00:00:00",
          "2021-10-31T00:00:00",
          "2021-11-07T00:00:00",
          "2021-11-14T00:00:00",
          "2021-11-21T00:00:00",
          "2021-11-28T00:00:00",
          "2021-12-05T00:00:00",
          "2021-12-12T00:00:00",
          "2021-12-19T00:00:00",
          "2021-12-26T00:00:00",
          "2022-01-02T00:00:00",
          "2022-01-09T00:00:00",
          "2022-01-16T00:00:00",
          "2022-01-23T00:00:00",
          "2022-01-30T00:00:00",
          "2022-02-06T00:00:00",
          "2022-02-13T00:00:00",
          "2022-02-20T00:00:00",
          "2022-02-27T00:00:00",
          "2022-03-06T00:00:00",
          "2022-03-13T00:00:00",
          "2022-03-20T00:00:00",
          "2022-03-27T00:00:00",
          "2022-04-03T00:00:00",
          "2022-04-10T00:00:00",
          "2022-04-17T00:00:00",
          "2022-04-24T00:00:00",
          "2022-05-01T00:00:00",
          "2022-05-08T00:00:00",
          "2022-05-15T00:00:00",
          "2022-05-22T00:00:00",
          "2022-05-29T00:00:00",
          "2022-06-05T00:00:00"
         ],
         "xaxis": "x",
         "y": [
          -0.029035518043919614,
          -0.5182062272842114,
          0.05961925333196467,
          -0.21963288206042667,
          -0.010061756424281908,
          -0.11879127404906532,
          0.0488688753497216,
          -0.1133609273854424,
          0.0875409722328186,
          0.3570576310157776,
          0.1406880722326391,
          0.17198610526544075,
          0.16572928180297217,
          -0.04846386114756266,
          0.016427331737109592,
          -0.1680832803249359,
          0.38203855202748227,
          0.10617707173029582,
          0.0526352326075236,
          0.08331808567047119,
          -0.1597004703113011,
          0.3675068855285645,
          0.11013137340545655,
          0.04372622348644115,
          0.005646516169820513,
          -0.10881612392572257,
          -0.525301286807427,
          0.4030148418326127,
          0.037709906101226806,
          0.49987313747406004,
          0.17952512264251708,
          0.10530131657918294,
          0.34037507857595173,
          0.34156263158434913,
          -0.3264896310865879,
          -0.1632285088300705,
          0.0721760074297587,
          0.2739384718563246,
          0.27320949733257294,
          0.12556181919007076,
          -0.08189290761947632,
          0.23709820739684567,
          -0.09404823184013367,
          -0.02485177455804287,
          -0.0009731934829191728,
          0.25722255357881874,
          0.23640437830578198,
          -0.02651841981070382,
          0.016089162584078515,
          -0.08351137914827891,
          0.1770796309346738,
          0.16341846249997616,
          0.20944460564189488
         ],
         "yaxis": "y"
        },
        {
         "hovertemplate": "variable=textBlob_sentiment<br>date=%{x}<br>value=%{y}<extra></extra>",
         "legendgroup": "textBlob_sentiment",
         "line": {
          "color": "#00cc96",
          "dash": "solid"
         },
         "mode": "lines",
         "name": "textBlob_sentiment",
         "orientation": "v",
         "showlegend": true,
         "type": "scatter",
         "x": [
          "2021-06-06T00:00:00",
          "2021-06-13T00:00:00",
          "2021-06-20T00:00:00",
          "2021-06-27T00:00:00",
          "2021-07-04T00:00:00",
          "2021-07-11T00:00:00",
          "2021-07-18T00:00:00",
          "2021-07-25T00:00:00",
          "2021-08-01T00:00:00",
          "2021-08-08T00:00:00",
          "2021-08-15T00:00:00",
          "2021-08-22T00:00:00",
          "2021-08-29T00:00:00",
          "2021-09-05T00:00:00",
          "2021-09-12T00:00:00",
          "2021-09-19T00:00:00",
          "2021-09-26T00:00:00",
          "2021-10-03T00:00:00",
          "2021-10-10T00:00:00",
          "2021-10-17T00:00:00",
          "2021-10-24T00:00:00",
          "2021-10-31T00:00:00",
          "2021-11-07T00:00:00",
          "2021-11-14T00:00:00",
          "2021-11-21T00:00:00",
          "2021-11-28T00:00:00",
          "2021-12-05T00:00:00",
          "2021-12-12T00:00:00",
          "2021-12-19T00:00:00",
          "2021-12-26T00:00:00",
          "2022-01-02T00:00:00",
          "2022-01-09T00:00:00",
          "2022-01-16T00:00:00",
          "2022-01-23T00:00:00",
          "2022-01-30T00:00:00",
          "2022-02-06T00:00:00",
          "2022-02-13T00:00:00",
          "2022-02-20T00:00:00",
          "2022-02-27T00:00:00",
          "2022-03-06T00:00:00",
          "2022-03-13T00:00:00",
          "2022-03-20T00:00:00",
          "2022-03-27T00:00:00",
          "2022-04-03T00:00:00",
          "2022-04-10T00:00:00",
          "2022-04-17T00:00:00",
          "2022-04-24T00:00:00",
          "2022-05-01T00:00:00",
          "2022-05-08T00:00:00",
          "2022-05-15T00:00:00",
          "2022-05-22T00:00:00",
          "2022-05-29T00:00:00",
          "2022-06-05T00:00:00"
         ],
         "xaxis": "x",
         "y": [
          0.1307017543859649,
          0.03777573616859331,
          0.08978123952366376,
          0.0351435349162622,
          0.08132783581153145,
          0.08931686999868817,
          0.11472443327282038,
          0.09977718360071301,
          0.10373987644300145,
          0.0776176948051948,
          0.1545172311348782,
          0.10935746352413019,
          0.12745084776334775,
          0.14558531746031747,
          0.13634276437847867,
          0.05009276437847867,
          0.09390109890109889,
          0.15621693121693123,
          0.05833333333333333,
          0.0934973544973545,
          0.17313924963924965,
          0.08333333333333334,
          0.02756060606060606,
          0.08393525199080755,
          0.07433712121212122,
          0.080436056998557,
          0.08041958041958042,
          0.09851364522417154,
          0.043848484848484845,
          0.1506786616161616,
          0.02302020202020202,
          0.0857142857142857,
          0.13058035714285715,
          0.11401051329622758,
          0.04969223484848484,
          0.13823958333333333,
          0.036986531986531984,
          0.07930077169207604,
          0.07944805194805196,
          0.1331254724111867,
          0.1442012987012987,
          0.09442815249266862,
          0.07336503928170596,
          0.1272933212493652,
          0.10051379596834141,
          0.09415126878541513,
          0.0853348829201102,
          0.12471985157699444,
          0.08189800547851395,
          0.07272208640400604,
          0.13428245969006838,
          0.06846337256493507,
          -0.0097152076318743
         ],
         "yaxis": "y"
        },
        {
         "hovertemplate": "variable=movement<br>date=%{x}<br>value=%{y}<extra></extra>",
         "legendgroup": "movement",
         "line": {
          "color": "#ab63fa",
          "dash": "solid"
         },
         "mode": "lines",
         "name": "movement",
         "orientation": "v",
         "showlegend": true,
         "type": "scatter",
         "x": [
          "2021-06-06T00:00:00",
          "2021-06-13T00:00:00",
          "2021-06-20T00:00:00",
          "2021-06-27T00:00:00",
          "2021-07-04T00:00:00",
          "2021-07-11T00:00:00",
          "2021-07-18T00:00:00",
          "2021-07-25T00:00:00",
          "2021-08-01T00:00:00",
          "2021-08-08T00:00:00",
          "2021-08-15T00:00:00",
          "2021-08-22T00:00:00",
          "2021-08-29T00:00:00",
          "2021-09-05T00:00:00",
          "2021-09-12T00:00:00",
          "2021-09-19T00:00:00",
          "2021-09-26T00:00:00",
          "2021-10-03T00:00:00",
          "2021-10-10T00:00:00",
          "2021-10-17T00:00:00",
          "2021-10-24T00:00:00",
          "2021-10-31T00:00:00",
          "2021-11-07T00:00:00",
          "2021-11-14T00:00:00",
          "2021-11-21T00:00:00",
          "2021-11-28T00:00:00",
          "2021-12-05T00:00:00",
          "2021-12-12T00:00:00",
          "2021-12-19T00:00:00",
          "2021-12-26T00:00:00",
          "2022-01-02T00:00:00",
          "2022-01-09T00:00:00",
          "2022-01-16T00:00:00",
          "2022-01-23T00:00:00",
          "2022-01-30T00:00:00",
          "2022-02-06T00:00:00",
          "2022-02-13T00:00:00",
          "2022-02-20T00:00:00",
          "2022-02-27T00:00:00",
          "2022-03-06T00:00:00",
          "2022-03-13T00:00:00",
          "2022-03-20T00:00:00",
          "2022-03-27T00:00:00",
          "2022-04-03T00:00:00",
          "2022-04-10T00:00:00",
          "2022-04-17T00:00:00",
          "2022-04-24T00:00:00",
          "2022-05-01T00:00:00",
          "2022-05-08T00:00:00",
          "2022-05-15T00:00:00",
          "2022-05-22T00:00:00",
          "2022-05-29T00:00:00",
          "2022-06-05T00:00:00"
         ],
         "xaxis": "x",
         "y": [
          0,
          0,
          0,
          0,
          0,
          0,
          0,
          1,
          1,
          1,
          1,
          1,
          1,
          1,
          0,
          0,
          0,
          1,
          0,
          1,
          0,
          1,
          1,
          0,
          0,
          1,
          0,
          0,
          0,
          1,
          0,
          0,
          1,
          0,
          0,
          1,
          0,
          1,
          0,
          1,
          0,
          1,
          1,
          1,
          0,
          1,
          0,
          0,
          0,
          0,
          1,
          0,
          1
         ],
         "yaxis": "y"
        }
       ],
       "layout": {
        "legend": {
         "title": {
          "text": "variable"
         },
         "tracegroupgap": 0
        },
        "margin": {
         "t": 60
        },
        "template": {
         "data": {
          "bar": [
           {
            "error_x": {
             "color": "#2a3f5f"
            },
            "error_y": {
             "color": "#2a3f5f"
            },
            "marker": {
             "line": {
              "color": "#E5ECF6",
              "width": 0.5
             }
            },
            "type": "bar"
           }
          ],
          "barpolar": [
           {
            "marker": {
             "line": {
              "color": "#E5ECF6",
              "width": 0.5
             }
            },
            "type": "barpolar"
           }
          ],
          "carpet": [
           {
            "aaxis": {
             "endlinecolor": "#2a3f5f",
             "gridcolor": "white",
             "linecolor": "white",
             "minorgridcolor": "white",
             "startlinecolor": "#2a3f5f"
            },
            "baxis": {
             "endlinecolor": "#2a3f5f",
             "gridcolor": "white",
             "linecolor": "white",
             "minorgridcolor": "white",
             "startlinecolor": "#2a3f5f"
            },
            "type": "carpet"
           }
          ],
          "choropleth": [
           {
            "colorbar": {
             "outlinewidth": 0,
             "ticks": ""
            },
            "type": "choropleth"
           }
          ],
          "contour": [
           {
            "colorbar": {
             "outlinewidth": 0,
             "ticks": ""
            },
            "colorscale": [
             [
              0,
              "#0d0887"
             ],
             [
              0.1111111111111111,
              "#46039f"
             ],
             [
              0.2222222222222222,
              "#7201a8"
             ],
             [
              0.3333333333333333,
              "#9c179e"
             ],
             [
              0.4444444444444444,
              "#bd3786"
             ],
             [
              0.5555555555555556,
              "#d8576b"
             ],
             [
              0.6666666666666666,
              "#ed7953"
             ],
             [
              0.7777777777777778,
              "#fb9f3a"
             ],
             [
              0.8888888888888888,
              "#fdca26"
             ],
             [
              1,
              "#f0f921"
             ]
            ],
            "type": "contour"
           }
          ],
          "contourcarpet": [
           {
            "colorbar": {
             "outlinewidth": 0,
             "ticks": ""
            },
            "type": "contourcarpet"
           }
          ],
          "heatmap": [
           {
            "colorbar": {
             "outlinewidth": 0,
             "ticks": ""
            },
            "colorscale": [
             [
              0,
              "#0d0887"
             ],
             [
              0.1111111111111111,
              "#46039f"
             ],
             [
              0.2222222222222222,
              "#7201a8"
             ],
             [
              0.3333333333333333,
              "#9c179e"
             ],
             [
              0.4444444444444444,
              "#bd3786"
             ],
             [
              0.5555555555555556,
              "#d8576b"
             ],
             [
              0.6666666666666666,
              "#ed7953"
             ],
             [
              0.7777777777777778,
              "#fb9f3a"
             ],
             [
              0.8888888888888888,
              "#fdca26"
             ],
             [
              1,
              "#f0f921"
             ]
            ],
            "type": "heatmap"
           }
          ],
          "heatmapgl": [
           {
            "colorbar": {
             "outlinewidth": 0,
             "ticks": ""
            },
            "colorscale": [
             [
              0,
              "#0d0887"
             ],
             [
              0.1111111111111111,
              "#46039f"
             ],
             [
              0.2222222222222222,
              "#7201a8"
             ],
             [
              0.3333333333333333,
              "#9c179e"
             ],
             [
              0.4444444444444444,
              "#bd3786"
             ],
             [
              0.5555555555555556,
              "#d8576b"
             ],
             [
              0.6666666666666666,
              "#ed7953"
             ],
             [
              0.7777777777777778,
              "#fb9f3a"
             ],
             [
              0.8888888888888888,
              "#fdca26"
             ],
             [
              1,
              "#f0f921"
             ]
            ],
            "type": "heatmapgl"
           }
          ],
          "histogram": [
           {
            "marker": {
             "colorbar": {
              "outlinewidth": 0,
              "ticks": ""
             }
            },
            "type": "histogram"
           }
          ],
          "histogram2d": [
           {
            "colorbar": {
             "outlinewidth": 0,
             "ticks": ""
            },
            "colorscale": [
             [
              0,
              "#0d0887"
             ],
             [
              0.1111111111111111,
              "#46039f"
             ],
             [
              0.2222222222222222,
              "#7201a8"
             ],
             [
              0.3333333333333333,
              "#9c179e"
             ],
             [
              0.4444444444444444,
              "#bd3786"
             ],
             [
              0.5555555555555556,
              "#d8576b"
             ],
             [
              0.6666666666666666,
              "#ed7953"
             ],
             [
              0.7777777777777778,
              "#fb9f3a"
             ],
             [
              0.8888888888888888,
              "#fdca26"
             ],
             [
              1,
              "#f0f921"
             ]
            ],
            "type": "histogram2d"
           }
          ],
          "histogram2dcontour": [
           {
            "colorbar": {
             "outlinewidth": 0,
             "ticks": ""
            },
            "colorscale": [
             [
              0,
              "#0d0887"
             ],
             [
              0.1111111111111111,
              "#46039f"
             ],
             [
              0.2222222222222222,
              "#7201a8"
             ],
             [
              0.3333333333333333,
              "#9c179e"
             ],
             [
              0.4444444444444444,
              "#bd3786"
             ],
             [
              0.5555555555555556,
              "#d8576b"
             ],
             [
              0.6666666666666666,
              "#ed7953"
             ],
             [
              0.7777777777777778,
              "#fb9f3a"
             ],
             [
              0.8888888888888888,
              "#fdca26"
             ],
             [
              1,
              "#f0f921"
             ]
            ],
            "type": "histogram2dcontour"
           }
          ],
          "mesh3d": [
           {
            "colorbar": {
             "outlinewidth": 0,
             "ticks": ""
            },
            "type": "mesh3d"
           }
          ],
          "parcoords": [
           {
            "line": {
             "colorbar": {
              "outlinewidth": 0,
              "ticks": ""
             }
            },
            "type": "parcoords"
           }
          ],
          "pie": [
           {
            "automargin": true,
            "type": "pie"
           }
          ],
          "scatter": [
           {
            "marker": {
             "colorbar": {
              "outlinewidth": 0,
              "ticks": ""
             }
            },
            "type": "scatter"
           }
          ],
          "scatter3d": [
           {
            "line": {
             "colorbar": {
              "outlinewidth": 0,
              "ticks": ""
             }
            },
            "marker": {
             "colorbar": {
              "outlinewidth": 0,
              "ticks": ""
             }
            },
            "type": "scatter3d"
           }
          ],
          "scattercarpet": [
           {
            "marker": {
             "colorbar": {
              "outlinewidth": 0,
              "ticks": ""
             }
            },
            "type": "scattercarpet"
           }
          ],
          "scattergeo": [
           {
            "marker": {
             "colorbar": {
              "outlinewidth": 0,
              "ticks": ""
             }
            },
            "type": "scattergeo"
           }
          ],
          "scattergl": [
           {
            "marker": {
             "colorbar": {
              "outlinewidth": 0,
              "ticks": ""
             }
            },
            "type": "scattergl"
           }
          ],
          "scattermapbox": [
           {
            "marker": {
             "colorbar": {
              "outlinewidth": 0,
              "ticks": ""
             }
            },
            "type": "scattermapbox"
           }
          ],
          "scatterpolar": [
           {
            "marker": {
             "colorbar": {
              "outlinewidth": 0,
              "ticks": ""
             }
            },
            "type": "scatterpolar"
           }
          ],
          "scatterpolargl": [
           {
            "marker": {
             "colorbar": {
              "outlinewidth": 0,
              "ticks": ""
             }
            },
            "type": "scatterpolargl"
           }
          ],
          "scatterternary": [
           {
            "marker": {
             "colorbar": {
              "outlinewidth": 0,
              "ticks": ""
             }
            },
            "type": "scatterternary"
           }
          ],
          "surface": [
           {
            "colorbar": {
             "outlinewidth": 0,
             "ticks": ""
            },
            "colorscale": [
             [
              0,
              "#0d0887"
             ],
             [
              0.1111111111111111,
              "#46039f"
             ],
             [
              0.2222222222222222,
              "#7201a8"
             ],
             [
              0.3333333333333333,
              "#9c179e"
             ],
             [
              0.4444444444444444,
              "#bd3786"
             ],
             [
              0.5555555555555556,
              "#d8576b"
             ],
             [
              0.6666666666666666,
              "#ed7953"
             ],
             [
              0.7777777777777778,
              "#fb9f3a"
             ],
             [
              0.8888888888888888,
              "#fdca26"
             ],
             [
              1,
              "#f0f921"
             ]
            ],
            "type": "surface"
           }
          ],
          "table": [
           {
            "cells": {
             "fill": {
              "color": "#EBF0F8"
             },
             "line": {
              "color": "white"
             }
            },
            "header": {
             "fill": {
              "color": "#C8D4E3"
             },
             "line": {
              "color": "white"
             }
            },
            "type": "table"
           }
          ]
         },
         "layout": {
          "annotationdefaults": {
           "arrowcolor": "#2a3f5f",
           "arrowhead": 0,
           "arrowwidth": 1
          },
          "coloraxis": {
           "colorbar": {
            "outlinewidth": 0,
            "ticks": ""
           }
          },
          "colorscale": {
           "diverging": [
            [
             0,
             "#8e0152"
            ],
            [
             0.1,
             "#c51b7d"
            ],
            [
             0.2,
             "#de77ae"
            ],
            [
             0.3,
             "#f1b6da"
            ],
            [
             0.4,
             "#fde0ef"
            ],
            [
             0.5,
             "#f7f7f7"
            ],
            [
             0.6,
             "#e6f5d0"
            ],
            [
             0.7,
             "#b8e186"
            ],
            [
             0.8,
             "#7fbc41"
            ],
            [
             0.9,
             "#4d9221"
            ],
            [
             1,
             "#276419"
            ]
           ],
           "sequential": [
            [
             0,
             "#0d0887"
            ],
            [
             0.1111111111111111,
             "#46039f"
            ],
            [
             0.2222222222222222,
             "#7201a8"
            ],
            [
             0.3333333333333333,
             "#9c179e"
            ],
            [
             0.4444444444444444,
             "#bd3786"
            ],
            [
             0.5555555555555556,
             "#d8576b"
            ],
            [
             0.6666666666666666,
             "#ed7953"
            ],
            [
             0.7777777777777778,
             "#fb9f3a"
            ],
            [
             0.8888888888888888,
             "#fdca26"
            ],
            [
             1,
             "#f0f921"
            ]
           ],
           "sequentialminus": [
            [
             0,
             "#0d0887"
            ],
            [
             0.1111111111111111,
             "#46039f"
            ],
            [
             0.2222222222222222,
             "#7201a8"
            ],
            [
             0.3333333333333333,
             "#9c179e"
            ],
            [
             0.4444444444444444,
             "#bd3786"
            ],
            [
             0.5555555555555556,
             "#d8576b"
            ],
            [
             0.6666666666666666,
             "#ed7953"
            ],
            [
             0.7777777777777778,
             "#fb9f3a"
            ],
            [
             0.8888888888888888,
             "#fdca26"
            ],
            [
             1,
             "#f0f921"
            ]
           ]
          },
          "colorway": [
           "#636efa",
           "#EF553B",
           "#00cc96",
           "#ab63fa",
           "#FFA15A",
           "#19d3f3",
           "#FF6692",
           "#B6E880",
           "#FF97FF",
           "#FECB52"
          ],
          "font": {
           "color": "#2a3f5f"
          },
          "geo": {
           "bgcolor": "white",
           "lakecolor": "white",
           "landcolor": "#E5ECF6",
           "showlakes": true,
           "showland": true,
           "subunitcolor": "white"
          },
          "hoverlabel": {
           "align": "left"
          },
          "hovermode": "closest",
          "mapbox": {
           "style": "light"
          },
          "paper_bgcolor": "white",
          "plot_bgcolor": "#E5ECF6",
          "polar": {
           "angularaxis": {
            "gridcolor": "white",
            "linecolor": "white",
            "ticks": ""
           },
           "bgcolor": "#E5ECF6",
           "radialaxis": {
            "gridcolor": "white",
            "linecolor": "white",
            "ticks": ""
           }
          },
          "scene": {
           "xaxis": {
            "backgroundcolor": "#E5ECF6",
            "gridcolor": "white",
            "gridwidth": 2,
            "linecolor": "white",
            "showbackground": true,
            "ticks": "",
            "zerolinecolor": "white"
           },
           "yaxis": {
            "backgroundcolor": "#E5ECF6",
            "gridcolor": "white",
            "gridwidth": 2,
            "linecolor": "white",
            "showbackground": true,
            "ticks": "",
            "zerolinecolor": "white"
           },
           "zaxis": {
            "backgroundcolor": "#E5ECF6",
            "gridcolor": "white",
            "gridwidth": 2,
            "linecolor": "white",
            "showbackground": true,
            "ticks": "",
            "zerolinecolor": "white"
           }
          },
          "shapedefaults": {
           "line": {
            "color": "#2a3f5f"
           }
          },
          "ternary": {
           "aaxis": {
            "gridcolor": "white",
            "linecolor": "white",
            "ticks": ""
           },
           "baxis": {
            "gridcolor": "white",
            "linecolor": "white",
            "ticks": ""
           },
           "bgcolor": "#E5ECF6",
           "caxis": {
            "gridcolor": "white",
            "linecolor": "white",
            "ticks": ""
           }
          },
          "title": {
           "x": 0.05
          },
          "xaxis": {
           "automargin": true,
           "gridcolor": "white",
           "linecolor": "white",
           "ticks": "",
           "title": {
            "standoff": 15
           },
           "zerolinecolor": "white",
           "zerolinewidth": 2
          },
          "yaxis": {
           "automargin": true,
           "gridcolor": "white",
           "linecolor": "white",
           "ticks": "",
           "title": {
            "standoff": 15
           },
           "zerolinecolor": "white",
           "zerolinewidth": 2
          }
         }
        },
        "xaxis": {
         "anchor": "y",
         "domain": [
          0,
          1
         ],
         "title": {
          "text": "date"
         }
        },
        "yaxis": {
         "anchor": "x",
         "domain": [
          0,
          1
         ],
         "title": {
          "text": "value"
         }
        }
       }
      }
     },
     "metadata": {},
     "output_type": "display_data"
    }
   ],
   "source": [
    "fig = px.line(df_resampled, y=['vader_sentiment', 'flair_sentiment', 'textBlob_sentiment', 'movement'])\n",
    "fig.show()\n"
   ]
  },
  {
   "cell_type": "code",
   "execution_count": 157,
   "metadata": {},
   "outputs": [
    {
     "data": {
      "application/vnd.plotly.v1+json": {
       "config": {
        "plotlyServerURL": "https://plot.ly"
       },
       "data": [
        {
         "coloraxis": "coloraxis",
         "hovertemplate": "x: %{x}<br>y: %{y}<br>color: %{z}<extra></extra>",
         "type": "heatmap",
         "x": [
          "vader_sentiment",
          "flair_classification",
          "textBlob_sentiment",
          "Close/Last",
          "price_change",
          "movement"
         ],
         "y": [
          "vader_sentiment",
          "flair_classification",
          "textBlob_sentiment",
          "Close/Last",
          "price_change",
          "movement"
         ],
         "z": [
          [
           1,
           0.2542654424771572,
           0.38033419534403395,
           -0.06685660478459887,
           0.2225678260292157,
           0.20371499528634554
          ],
          [
           0.2542654424771572,
           1,
           0.14493370734279193,
           0.08236135276457329,
           0.34235094652503983,
           0.3124512648501882
          ],
          [
           0.38033419534403395,
           0.14493370734279193,
           1,
           0.015206164255160661,
           0.2506070046532981,
           0.2582950056546537
          ],
          [
           -0.06685660478459887,
           0.08236135276457329,
           0.015206164255160661,
           1,
           0.05650755853518452,
           0.04191562765389458
          ],
          [
           0.2225678260292157,
           0.34235094652503983,
           0.2506070046532981,
           0.05650755853518452,
           1,
           0.7692346719854924
          ],
          [
           0.20371499528634554,
           0.3124512648501882,
           0.2582950056546537,
           0.04191562765389458,
           0.7692346719854924,
           1
          ]
         ]
        }
       ],
       "layout": {
        "coloraxis": {
         "colorscale": [
          [
           0,
           "rgb(3, 5, 18)"
          ],
          [
           0.09090909090909091,
           "rgb(25, 25, 51)"
          ],
          [
           0.18181818181818182,
           "rgb(44, 42, 87)"
          ],
          [
           0.2727272727272727,
           "rgb(58, 60, 125)"
          ],
          [
           0.36363636363636365,
           "rgb(62, 83, 160)"
          ],
          [
           0.45454545454545453,
           "rgb(62, 109, 178)"
          ],
          [
           0.5454545454545454,
           "rgb(72, 134, 187)"
          ],
          [
           0.6363636363636364,
           "rgb(89, 159, 196)"
          ],
          [
           0.7272727272727273,
           "rgb(114, 184, 205)"
          ],
          [
           0.8181818181818182,
           "rgb(149, 207, 216)"
          ],
          [
           0.9090909090909091,
           "rgb(192, 229, 232)"
          ],
          [
           1,
           "rgb(234, 252, 253)"
          ]
         ]
        },
        "margin": {
         "t": 60
        },
        "template": {
         "data": {
          "bar": [
           {
            "error_x": {
             "color": "#2a3f5f"
            },
            "error_y": {
             "color": "#2a3f5f"
            },
            "marker": {
             "line": {
              "color": "#E5ECF6",
              "width": 0.5
             }
            },
            "type": "bar"
           }
          ],
          "barpolar": [
           {
            "marker": {
             "line": {
              "color": "#E5ECF6",
              "width": 0.5
             }
            },
            "type": "barpolar"
           }
          ],
          "carpet": [
           {
            "aaxis": {
             "endlinecolor": "#2a3f5f",
             "gridcolor": "white",
             "linecolor": "white",
             "minorgridcolor": "white",
             "startlinecolor": "#2a3f5f"
            },
            "baxis": {
             "endlinecolor": "#2a3f5f",
             "gridcolor": "white",
             "linecolor": "white",
             "minorgridcolor": "white",
             "startlinecolor": "#2a3f5f"
            },
            "type": "carpet"
           }
          ],
          "choropleth": [
           {
            "colorbar": {
             "outlinewidth": 0,
             "ticks": ""
            },
            "type": "choropleth"
           }
          ],
          "contour": [
           {
            "colorbar": {
             "outlinewidth": 0,
             "ticks": ""
            },
            "colorscale": [
             [
              0,
              "#0d0887"
             ],
             [
              0.1111111111111111,
              "#46039f"
             ],
             [
              0.2222222222222222,
              "#7201a8"
             ],
             [
              0.3333333333333333,
              "#9c179e"
             ],
             [
              0.4444444444444444,
              "#bd3786"
             ],
             [
              0.5555555555555556,
              "#d8576b"
             ],
             [
              0.6666666666666666,
              "#ed7953"
             ],
             [
              0.7777777777777778,
              "#fb9f3a"
             ],
             [
              0.8888888888888888,
              "#fdca26"
             ],
             [
              1,
              "#f0f921"
             ]
            ],
            "type": "contour"
           }
          ],
          "contourcarpet": [
           {
            "colorbar": {
             "outlinewidth": 0,
             "ticks": ""
            },
            "type": "contourcarpet"
           }
          ],
          "heatmap": [
           {
            "colorbar": {
             "outlinewidth": 0,
             "ticks": ""
            },
            "colorscale": [
             [
              0,
              "#0d0887"
             ],
             [
              0.1111111111111111,
              "#46039f"
             ],
             [
              0.2222222222222222,
              "#7201a8"
             ],
             [
              0.3333333333333333,
              "#9c179e"
             ],
             [
              0.4444444444444444,
              "#bd3786"
             ],
             [
              0.5555555555555556,
              "#d8576b"
             ],
             [
              0.6666666666666666,
              "#ed7953"
             ],
             [
              0.7777777777777778,
              "#fb9f3a"
             ],
             [
              0.8888888888888888,
              "#fdca26"
             ],
             [
              1,
              "#f0f921"
             ]
            ],
            "type": "heatmap"
           }
          ],
          "heatmapgl": [
           {
            "colorbar": {
             "outlinewidth": 0,
             "ticks": ""
            },
            "colorscale": [
             [
              0,
              "#0d0887"
             ],
             [
              0.1111111111111111,
              "#46039f"
             ],
             [
              0.2222222222222222,
              "#7201a8"
             ],
             [
              0.3333333333333333,
              "#9c179e"
             ],
             [
              0.4444444444444444,
              "#bd3786"
             ],
             [
              0.5555555555555556,
              "#d8576b"
             ],
             [
              0.6666666666666666,
              "#ed7953"
             ],
             [
              0.7777777777777778,
              "#fb9f3a"
             ],
             [
              0.8888888888888888,
              "#fdca26"
             ],
             [
              1,
              "#f0f921"
             ]
            ],
            "type": "heatmapgl"
           }
          ],
          "histogram": [
           {
            "marker": {
             "colorbar": {
              "outlinewidth": 0,
              "ticks": ""
             }
            },
            "type": "histogram"
           }
          ],
          "histogram2d": [
           {
            "colorbar": {
             "outlinewidth": 0,
             "ticks": ""
            },
            "colorscale": [
             [
              0,
              "#0d0887"
             ],
             [
              0.1111111111111111,
              "#46039f"
             ],
             [
              0.2222222222222222,
              "#7201a8"
             ],
             [
              0.3333333333333333,
              "#9c179e"
             ],
             [
              0.4444444444444444,
              "#bd3786"
             ],
             [
              0.5555555555555556,
              "#d8576b"
             ],
             [
              0.6666666666666666,
              "#ed7953"
             ],
             [
              0.7777777777777778,
              "#fb9f3a"
             ],
             [
              0.8888888888888888,
              "#fdca26"
             ],
             [
              1,
              "#f0f921"
             ]
            ],
            "type": "histogram2d"
           }
          ],
          "histogram2dcontour": [
           {
            "colorbar": {
             "outlinewidth": 0,
             "ticks": ""
            },
            "colorscale": [
             [
              0,
              "#0d0887"
             ],
             [
              0.1111111111111111,
              "#46039f"
             ],
             [
              0.2222222222222222,
              "#7201a8"
             ],
             [
              0.3333333333333333,
              "#9c179e"
             ],
             [
              0.4444444444444444,
              "#bd3786"
             ],
             [
              0.5555555555555556,
              "#d8576b"
             ],
             [
              0.6666666666666666,
              "#ed7953"
             ],
             [
              0.7777777777777778,
              "#fb9f3a"
             ],
             [
              0.8888888888888888,
              "#fdca26"
             ],
             [
              1,
              "#f0f921"
             ]
            ],
            "type": "histogram2dcontour"
           }
          ],
          "mesh3d": [
           {
            "colorbar": {
             "outlinewidth": 0,
             "ticks": ""
            },
            "type": "mesh3d"
           }
          ],
          "parcoords": [
           {
            "line": {
             "colorbar": {
              "outlinewidth": 0,
              "ticks": ""
             }
            },
            "type": "parcoords"
           }
          ],
          "pie": [
           {
            "automargin": true,
            "type": "pie"
           }
          ],
          "scatter": [
           {
            "marker": {
             "colorbar": {
              "outlinewidth": 0,
              "ticks": ""
             }
            },
            "type": "scatter"
           }
          ],
          "scatter3d": [
           {
            "line": {
             "colorbar": {
              "outlinewidth": 0,
              "ticks": ""
             }
            },
            "marker": {
             "colorbar": {
              "outlinewidth": 0,
              "ticks": ""
             }
            },
            "type": "scatter3d"
           }
          ],
          "scattercarpet": [
           {
            "marker": {
             "colorbar": {
              "outlinewidth": 0,
              "ticks": ""
             }
            },
            "type": "scattercarpet"
           }
          ],
          "scattergeo": [
           {
            "marker": {
             "colorbar": {
              "outlinewidth": 0,
              "ticks": ""
             }
            },
            "type": "scattergeo"
           }
          ],
          "scattergl": [
           {
            "marker": {
             "colorbar": {
              "outlinewidth": 0,
              "ticks": ""
             }
            },
            "type": "scattergl"
           }
          ],
          "scattermapbox": [
           {
            "marker": {
             "colorbar": {
              "outlinewidth": 0,
              "ticks": ""
             }
            },
            "type": "scattermapbox"
           }
          ],
          "scatterpolar": [
           {
            "marker": {
             "colorbar": {
              "outlinewidth": 0,
              "ticks": ""
             }
            },
            "type": "scatterpolar"
           }
          ],
          "scatterpolargl": [
           {
            "marker": {
             "colorbar": {
              "outlinewidth": 0,
              "ticks": ""
             }
            },
            "type": "scatterpolargl"
           }
          ],
          "scatterternary": [
           {
            "marker": {
             "colorbar": {
              "outlinewidth": 0,
              "ticks": ""
             }
            },
            "type": "scatterternary"
           }
          ],
          "surface": [
           {
            "colorbar": {
             "outlinewidth": 0,
             "ticks": ""
            },
            "colorscale": [
             [
              0,
              "#0d0887"
             ],
             [
              0.1111111111111111,
              "#46039f"
             ],
             [
              0.2222222222222222,
              "#7201a8"
             ],
             [
              0.3333333333333333,
              "#9c179e"
             ],
             [
              0.4444444444444444,
              "#bd3786"
             ],
             [
              0.5555555555555556,
              "#d8576b"
             ],
             [
              0.6666666666666666,
              "#ed7953"
             ],
             [
              0.7777777777777778,
              "#fb9f3a"
             ],
             [
              0.8888888888888888,
              "#fdca26"
             ],
             [
              1,
              "#f0f921"
             ]
            ],
            "type": "surface"
           }
          ],
          "table": [
           {
            "cells": {
             "fill": {
              "color": "#EBF0F8"
             },
             "line": {
              "color": "white"
             }
            },
            "header": {
             "fill": {
              "color": "#C8D4E3"
             },
             "line": {
              "color": "white"
             }
            },
            "type": "table"
           }
          ]
         },
         "layout": {
          "annotationdefaults": {
           "arrowcolor": "#2a3f5f",
           "arrowhead": 0,
           "arrowwidth": 1
          },
          "coloraxis": {
           "colorbar": {
            "outlinewidth": 0,
            "ticks": ""
           }
          },
          "colorscale": {
           "diverging": [
            [
             0,
             "#8e0152"
            ],
            [
             0.1,
             "#c51b7d"
            ],
            [
             0.2,
             "#de77ae"
            ],
            [
             0.3,
             "#f1b6da"
            ],
            [
             0.4,
             "#fde0ef"
            ],
            [
             0.5,
             "#f7f7f7"
            ],
            [
             0.6,
             "#e6f5d0"
            ],
            [
             0.7,
             "#b8e186"
            ],
            [
             0.8,
             "#7fbc41"
            ],
            [
             0.9,
             "#4d9221"
            ],
            [
             1,
             "#276419"
            ]
           ],
           "sequential": [
            [
             0,
             "#0d0887"
            ],
            [
             0.1111111111111111,
             "#46039f"
            ],
            [
             0.2222222222222222,
             "#7201a8"
            ],
            [
             0.3333333333333333,
             "#9c179e"
            ],
            [
             0.4444444444444444,
             "#bd3786"
            ],
            [
             0.5555555555555556,
             "#d8576b"
            ],
            [
             0.6666666666666666,
             "#ed7953"
            ],
            [
             0.7777777777777778,
             "#fb9f3a"
            ],
            [
             0.8888888888888888,
             "#fdca26"
            ],
            [
             1,
             "#f0f921"
            ]
           ],
           "sequentialminus": [
            [
             0,
             "#0d0887"
            ],
            [
             0.1111111111111111,
             "#46039f"
            ],
            [
             0.2222222222222222,
             "#7201a8"
            ],
            [
             0.3333333333333333,
             "#9c179e"
            ],
            [
             0.4444444444444444,
             "#bd3786"
            ],
            [
             0.5555555555555556,
             "#d8576b"
            ],
            [
             0.6666666666666666,
             "#ed7953"
            ],
            [
             0.7777777777777778,
             "#fb9f3a"
            ],
            [
             0.8888888888888888,
             "#fdca26"
            ],
            [
             1,
             "#f0f921"
            ]
           ]
          },
          "colorway": [
           "#636efa",
           "#EF553B",
           "#00cc96",
           "#ab63fa",
           "#FFA15A",
           "#19d3f3",
           "#FF6692",
           "#B6E880",
           "#FF97FF",
           "#FECB52"
          ],
          "font": {
           "color": "#2a3f5f"
          },
          "geo": {
           "bgcolor": "white",
           "lakecolor": "white",
           "landcolor": "#E5ECF6",
           "showlakes": true,
           "showland": true,
           "subunitcolor": "white"
          },
          "hoverlabel": {
           "align": "left"
          },
          "hovermode": "closest",
          "mapbox": {
           "style": "light"
          },
          "paper_bgcolor": "white",
          "plot_bgcolor": "#E5ECF6",
          "polar": {
           "angularaxis": {
            "gridcolor": "white",
            "linecolor": "white",
            "ticks": ""
           },
           "bgcolor": "#E5ECF6",
           "radialaxis": {
            "gridcolor": "white",
            "linecolor": "white",
            "ticks": ""
           }
          },
          "scene": {
           "xaxis": {
            "backgroundcolor": "#E5ECF6",
            "gridcolor": "white",
            "gridwidth": 2,
            "linecolor": "white",
            "showbackground": true,
            "ticks": "",
            "zerolinecolor": "white"
           },
           "yaxis": {
            "backgroundcolor": "#E5ECF6",
            "gridcolor": "white",
            "gridwidth": 2,
            "linecolor": "white",
            "showbackground": true,
            "ticks": "",
            "zerolinecolor": "white"
           },
           "zaxis": {
            "backgroundcolor": "#E5ECF6",
            "gridcolor": "white",
            "gridwidth": 2,
            "linecolor": "white",
            "showbackground": true,
            "ticks": "",
            "zerolinecolor": "white"
           }
          },
          "shapedefaults": {
           "line": {
            "color": "#2a3f5f"
           }
          },
          "ternary": {
           "aaxis": {
            "gridcolor": "white",
            "linecolor": "white",
            "ticks": ""
           },
           "baxis": {
            "gridcolor": "white",
            "linecolor": "white",
            "ticks": ""
           },
           "bgcolor": "#E5ECF6",
           "caxis": {
            "gridcolor": "white",
            "linecolor": "white",
            "ticks": ""
           }
          },
          "title": {
           "x": 0.05
          },
          "xaxis": {
           "automargin": true,
           "gridcolor": "white",
           "linecolor": "white",
           "ticks": "",
           "title": {
            "standoff": 15
           },
           "zerolinecolor": "white",
           "zerolinewidth": 2
          },
          "yaxis": {
           "automargin": true,
           "gridcolor": "white",
           "linecolor": "white",
           "ticks": "",
           "title": {
            "standoff": 15
           },
           "zerolinecolor": "white",
           "zerolinewidth": 2
          }
         }
        },
        "xaxis": {
         "constrain": "domain",
         "scaleanchor": "y"
        },
        "yaxis": {
         "autorange": "reversed",
         "constrain": "domain"
        }
       }
      }
     },
     "metadata": {},
     "output_type": "display_data"
    }
   ],
   "source": [
    "px.imshow(df_resampled_2.corr(), color_continuous_scale='ice')"
   ]
  },
  {
   "cell_type": "markdown",
   "metadata": {},
   "source": [
    "### Findings\n",
    "- Among the three classifier, Flair's sentiment score (continous variable) is the mostly correlated to the price movement (binary variable). \n",
    "- Flair's sentiment score (continous variable) is also mostly correlated to the price change (continous variable).\n",
    "- A considerable amount of noise is presented in the sentiment rating as some of the negative meanings is expressed towards traditional finance which should be bullish to the crypto market. This may require further labeling to training a good model. \n",
    "- TextBlob and Vader shows similar trend due their simple schema is ranking the positive and negative words. Flair reasonably gives different socres compared to the other two since it is trained with a LSTM model. \n",
    "- Classification on the text by price movement will be done in another file."
   ]
  },
  {
   "cell_type": "markdown",
   "metadata": {},
   "source": [
    "### Suggestions\n",
    "- A critical point for sentiment analysis would be there are a lot of neutral tweets but we do not have this label since it is impossible for close and open price to be the same, not to mention this would not necessarily imply neutral sentiment. \n",
    "\n",
    "- Use tweets from a wider range of accounts so as to populate a larger dataset\n",
    "- Use mannual labeling of positive/negative sentiment instead of relying on the price movement.\n",
    "- May use other correlation metrics but not only the Pearson's\n",
    "- Use different metrics to weight the sentiment score of different tweets of the same day\n",
    "\n"
   ]
  }
 ],
 "metadata": {
  "interpreter": {
   "hash": "fb9b181dcbd39eacef24ee486e750dc4ac48903d518c6507fd286447bc6edab3"
  },
  "kernelspec": {
   "display_name": "Python 3.7.11 ('machine-learning')",
   "language": "python",
   "name": "python3"
  },
  "language_info": {
   "codemirror_mode": {
    "name": "ipython",
    "version": 3
   },
   "file_extension": ".py",
   "mimetype": "text/x-python",
   "name": "python",
   "nbconvert_exporter": "python",
   "pygments_lexer": "ipython3",
   "version": "3.7.11"
  },
  "orig_nbformat": 4
 },
 "nbformat": 4,
 "nbformat_minor": 2
}
