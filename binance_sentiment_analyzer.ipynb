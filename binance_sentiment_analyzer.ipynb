{
 "cells": [
  {
   "cell_type": "markdown",
   "metadata": {},
   "source": [
    "# Tweet Sentiment Analyzer for Binance Coin (BNB)\n",
    "\n",
    "Market sentiment may be one of the important indicators for predicting the price of the token on the market. We hope to build a sentiment classifier on the tweets of Binance Coin using various models including Logistic Regression, SVM, Decision Tree and Deep Learning. The data is collected from OpenBlender.io and the data contains around 1,300 tweets from `BZ_Binance`. "
   ]
  },
  {
   "cell_type": "code",
   "execution_count": 8,
   "metadata": {},
   "outputs": [],
   "source": [
    "import os\n",
    "import pandas as pd\n",
    "import numpy as np\n",
    "import json\n",
    "import plotly.express as px\n",
    "import seaborn as sns\n",
    "\n",
    "from sklearn.dummy import DummyClassifier\n",
    "from sklearn.model_selection import train_test_split, GridSearchCV, cross_val_score\n",
    "from sklearn.neighbors import KNeighborsClassifier\n",
    "from sklearn.ensemble import RandomForestClassifier, BaggingClassifier\n",
    "from sklearn.pipeline import Pipeline\n",
    "from sklearn.tree import DecisionTreeClassifier \n",
    "from sklearn.metrics import accuracy_score, roc_curve, auc, confusion_matrix, classification_report\n",
    "from sklearn.metrics import precision_score, recall_score, f1_score\n",
    "from sklearn.metrics import roc_auc_score\n",
    "from sklearn import tree\n",
    "from sklearn.linear_model import LogisticRegression\n",
    "from sklearn.feature_extraction.text import CountVectorizer, TfidfVectorizer\n",
    "\n",
    "from nltk.sentiment.vader import SentimentIntensityAnalyzer\n",
    "from nltk import pos_tag\n",
    "from nltk.corpus import stopwords\n",
    "from nltk.tokenize import WhitespaceTokenizer\n",
    "from nltk.stem import WordNetLemmatizer\n",
    "\n",
    "#Tensorflow / Keras\n",
    "import tensorflow as tf\n",
    "from tensorflow.keras.preprocessing.text import Tokenizer\n",
    "from tensorflow.keras.preprocessing.sequence import pad_sequences\n",
    "\n",
    "#Test\n",
    "import matplotlib.pyplot as plt\n",
    "from sklearn.model_selection import GridSearchCV\n",
    "from sklearn.metrics import plot_confusion_matrix\n",
    "from sklearn import svm\n",
    "\n",
    "from sklearn.decomposition import PCA\n",
    "from sklearn.manifold import TSNE"
   ]
  },
  {
   "cell_type": "code",
   "execution_count": 9,
   "metadata": {},
   "outputs": [
    {
     "data": {
      "text/html": [
       "<div>\n",
       "<style scoped>\n",
       "    .dataframe tbody tr th:only-of-type {\n",
       "        vertical-align: middle;\n",
       "    }\n",
       "\n",
       "    .dataframe tbody tr th {\n",
       "        vertical-align: top;\n",
       "    }\n",
       "\n",
       "    .dataframe thead th {\n",
       "        text-align: right;\n",
       "    }\n",
       "</style>\n",
       "<table border=\"1\" class=\"dataframe\">\n",
       "  <thead>\n",
       "    <tr style=\"text-align: right;\">\n",
       "      <th></th>\n",
       "      <th>author</th>\n",
       "      <th>text</th>\n",
       "      <th>timestamp</th>\n",
       "      <th>datetime</th>\n",
       "      <th>text_cleaned</th>\n",
       "      <th>vader_sentiment</th>\n",
       "      <th>flair_sentiment</th>\n",
       "      <th>textBlob_sentiment</th>\n",
       "      <th>Date</th>\n",
       "      <th>Close/Last</th>\n",
       "      <th>Volume</th>\n",
       "      <th>Open</th>\n",
       "      <th>High</th>\n",
       "      <th>Low</th>\n",
       "    </tr>\n",
       "    <tr>\n",
       "      <th>date</th>\n",
       "      <th></th>\n",
       "      <th></th>\n",
       "      <th></th>\n",
       "      <th></th>\n",
       "      <th></th>\n",
       "      <th></th>\n",
       "      <th></th>\n",
       "      <th></th>\n",
       "      <th></th>\n",
       "      <th></th>\n",
       "      <th></th>\n",
       "      <th></th>\n",
       "      <th></th>\n",
       "      <th></th>\n",
       "    </tr>\n",
       "  </thead>\n",
       "  <tbody>\n",
       "    <tr>\n",
       "      <th>2022-06-02 00:00:00</th>\n",
       "      <td>CZ  Binance</td>\n",
       "      <td>I love most tihings in the world, but I hate j...</td>\n",
       "      <td>1654195218</td>\n",
       "      <td>2022-06-02 18:40:18</td>\n",
       "      <td>love tihings world hate jet lag</td>\n",
       "      <td>-0.7717</td>\n",
       "      <td>0.995204</td>\n",
       "      <td>0.066667</td>\n",
       "      <td>06/02/2022</td>\n",
       "      <td>308.21</td>\n",
       "      <td>NaN</td>\n",
       "      <td>300.50</td>\n",
       "      <td>310.20</td>\n",
       "      <td>306.60</td>\n",
       "    </tr>\n",
       "    <tr>\n",
       "      <th>2022-06-02 00:00:00</th>\n",
       "      <td>CZ  Binance</td>\n",
       "      <td>#MalaysiaBoleh</td>\n",
       "      <td>1654181362</td>\n",
       "      <td>2022-06-02 14:49:22</td>\n",
       "      <td>malaysiaboleh</td>\n",
       "      <td>0.0000</td>\n",
       "      <td>0.583073</td>\n",
       "      <td>0.000000</td>\n",
       "      <td>06/02/2022</td>\n",
       "      <td>308.21</td>\n",
       "      <td>NaN</td>\n",
       "      <td>300.50</td>\n",
       "      <td>310.20</td>\n",
       "      <td>306.60</td>\n",
       "    </tr>\n",
       "    <tr>\n",
       "      <th>2022-06-02 00:00:00</th>\n",
       "      <td>CZ  Binance</td>\n",
       "      <td>Just finished a live interview with CNBC Squaw...</td>\n",
       "      <td>1654167185</td>\n",
       "      <td>2022-06-02 10:53:05</td>\n",
       "      <td>finish live interview cnbc squawk box studio haha</td>\n",
       "      <td>0.4588</td>\n",
       "      <td>-0.642573</td>\n",
       "      <td>0.168182</td>\n",
       "      <td>06/02/2022</td>\n",
       "      <td>308.21</td>\n",
       "      <td>NaN</td>\n",
       "      <td>300.50</td>\n",
       "      <td>310.20</td>\n",
       "      <td>306.60</td>\n",
       "    </tr>\n",
       "    <tr>\n",
       "      <th>2022-06-02 00:00:00</th>\n",
       "      <td>CZ  Binance</td>\n",
       "      <td>I'll be speaking at the Point Zero Forum in Zu...</td>\n",
       "      <td>1654163469</td>\n",
       "      <td>2022-06-02 09:51:09</td>\n",
       "      <td>ill speak point zero forum zurich switzerland ...</td>\n",
       "      <td>0.0000</td>\n",
       "      <td>0.716512</td>\n",
       "      <td>0.000000</td>\n",
       "      <td>06/02/2022</td>\n",
       "      <td>308.21</td>\n",
       "      <td>NaN</td>\n",
       "      <td>300.50</td>\n",
       "      <td>310.20</td>\n",
       "      <td>306.60</td>\n",
       "    </tr>\n",
       "    <tr>\n",
       "      <th>2022-06-02 00:00:00</th>\n",
       "      <td>CZ  Binance</td>\n",
       "      <td>Humbled to receive this #cryptowarrior gift fr...</td>\n",
       "      <td>1654153218</td>\n",
       "      <td>2022-06-02 07:00:18</td>\n",
       "      <td>humble receive cryptowarrior gift malaysia par...</td>\n",
       "      <td>0.4404</td>\n",
       "      <td>0.997130</td>\n",
       "      <td>0.000000</td>\n",
       "      <td>06/02/2022</td>\n",
       "      <td>308.21</td>\n",
       "      <td>NaN</td>\n",
       "      <td>300.50</td>\n",
       "      <td>310.20</td>\n",
       "      <td>306.60</td>\n",
       "    </tr>\n",
       "    <tr>\n",
       "      <th>...</th>\n",
       "      <td>...</td>\n",
       "      <td>...</td>\n",
       "      <td>...</td>\n",
       "      <td>...</td>\n",
       "      <td>...</td>\n",
       "      <td>...</td>\n",
       "      <td>...</td>\n",
       "      <td>...</td>\n",
       "      <td>...</td>\n",
       "      <td>...</td>\n",
       "      <td>...</td>\n",
       "      <td>...</td>\n",
       "      <td>...</td>\n",
       "      <td>...</td>\n",
       "    </tr>\n",
       "    <tr>\n",
       "      <th>2021-06-04 00:00:00</th>\n",
       "      <td>CZ  Binance</td>\n",
       "      <td>Tweets that hurt other people's finances are n...</td>\n",
       "      <td>1622799722</td>\n",
       "      <td>2021-06-04 09:42:02</td>\n",
       "      <td>tweet hurt people finance funny irresponsible</td>\n",
       "      <td>-0.5267</td>\n",
       "      <td>-0.999880</td>\n",
       "      <td>-0.125000</td>\n",
       "      <td>06/04/2021</td>\n",
       "      <td>410.64</td>\n",
       "      <td>NaN</td>\n",
       "      <td>406.32</td>\n",
       "      <td>415.05</td>\n",
       "      <td>388.13</td>\n",
       "    </tr>\n",
       "    <tr>\n",
       "      <th>2021-06-04 00:00:00</th>\n",
       "      <td>CZ  Binance</td>\n",
       "      <td>Greater power with great responsibility, great...</td>\n",
       "      <td>1622798109</td>\n",
       "      <td>2021-06-04 09:15:09</td>\n",
       "      <td>great power great responsibility great great p...</td>\n",
       "      <td>0.9552</td>\n",
       "      <td>-0.973885</td>\n",
       "      <td>0.267857</td>\n",
       "      <td>06/04/2021</td>\n",
       "      <td>410.64</td>\n",
       "      <td>NaN</td>\n",
       "      <td>406.32</td>\n",
       "      <td>415.05</td>\n",
       "      <td>388.13</td>\n",
       "    </tr>\n",
       "    <tr>\n",
       "      <th>2021-06-04 00:00:00</th>\n",
       "      <td>CZ  Binance</td>\n",
       "      <td>Don't be manipulated. #HODL Not financial advice.</td>\n",
       "      <td>1622789397</td>\n",
       "      <td>2021-06-04 06:49:57</td>\n",
       "      <td>dont manipulate hodl financial advice</td>\n",
       "      <td>0.2924</td>\n",
       "      <td>-0.998453</td>\n",
       "      <td>0.000000</td>\n",
       "      <td>06/04/2021</td>\n",
       "      <td>410.64</td>\n",
       "      <td>NaN</td>\n",
       "      <td>406.32</td>\n",
       "      <td>415.05</td>\n",
       "      <td>388.13</td>\n",
       "    </tr>\n",
       "    <tr>\n",
       "      <th>2021-06-03 00:00:00</th>\n",
       "      <td>CZ  Binance</td>\n",
       "      <td>Want to see photos from Miami, of real people ...</td>\n",
       "      <td>1622733347</td>\n",
       "      <td>2021-06-03 15:15:47</td>\n",
       "      <td>want see photo miami real people hang</td>\n",
       "      <td>0.0772</td>\n",
       "      <td>0.999000</td>\n",
       "      <td>0.200000</td>\n",
       "      <td>06/03/2021</td>\n",
       "      <td>409.11</td>\n",
       "      <td>NaN</td>\n",
       "      <td>393.57</td>\n",
       "      <td>428.71</td>\n",
       "      <td>394.86</td>\n",
       "    </tr>\n",
       "    <tr>\n",
       "      <th>2021-06-03 00:00:00</th>\n",
       "      <td>CZ  Binance</td>\n",
       "      <td>I am ready. #BNBNFA</td>\n",
       "      <td>1622728704</td>\n",
       "      <td>2021-06-03 13:58:24</td>\n",
       "      <td>ready bnbnfa</td>\n",
       "      <td>0.3612</td>\n",
       "      <td>0.997769</td>\n",
       "      <td>0.200000</td>\n",
       "      <td>06/03/2021</td>\n",
       "      <td>409.11</td>\n",
       "      <td>NaN</td>\n",
       "      <td>393.57</td>\n",
       "      <td>428.71</td>\n",
       "      <td>394.86</td>\n",
       "    </tr>\n",
       "  </tbody>\n",
       "</table>\n",
       "<p>1397 rows × 14 columns</p>\n",
       "</div>"
      ],
      "text/plain": [
       "                          author  \\\n",
       "date                               \n",
       "2022-06-02 00:00:00  CZ  Binance   \n",
       "2022-06-02 00:00:00  CZ  Binance   \n",
       "2022-06-02 00:00:00  CZ  Binance   \n",
       "2022-06-02 00:00:00  CZ  Binance   \n",
       "2022-06-02 00:00:00  CZ  Binance   \n",
       "...                          ...   \n",
       "2021-06-04 00:00:00  CZ  Binance   \n",
       "2021-06-04 00:00:00  CZ  Binance   \n",
       "2021-06-04 00:00:00  CZ  Binance   \n",
       "2021-06-03 00:00:00  CZ  Binance   \n",
       "2021-06-03 00:00:00  CZ  Binance   \n",
       "\n",
       "                                                                  text  \\\n",
       "date                                                                     \n",
       "2022-06-02 00:00:00  I love most tihings in the world, but I hate j...   \n",
       "2022-06-02 00:00:00                                     #MalaysiaBoleh   \n",
       "2022-06-02 00:00:00  Just finished a live interview with CNBC Squaw...   \n",
       "2022-06-02 00:00:00  I'll be speaking at the Point Zero Forum in Zu...   \n",
       "2022-06-02 00:00:00  Humbled to receive this #cryptowarrior gift fr...   \n",
       "...                                                                ...   \n",
       "2021-06-04 00:00:00  Tweets that hurt other people's finances are n...   \n",
       "2021-06-04 00:00:00  Greater power with great responsibility, great...   \n",
       "2021-06-04 00:00:00  Don't be manipulated. #HODL Not financial advice.   \n",
       "2021-06-03 00:00:00  Want to see photos from Miami, of real people ...   \n",
       "2021-06-03 00:00:00                                I am ready. #BNBNFA   \n",
       "\n",
       "                      timestamp             datetime  \\\n",
       "date                                                   \n",
       "2022-06-02 00:00:00  1654195218  2022-06-02 18:40:18   \n",
       "2022-06-02 00:00:00  1654181362  2022-06-02 14:49:22   \n",
       "2022-06-02 00:00:00  1654167185  2022-06-02 10:53:05   \n",
       "2022-06-02 00:00:00  1654163469  2022-06-02 09:51:09   \n",
       "2022-06-02 00:00:00  1654153218  2022-06-02 07:00:18   \n",
       "...                         ...                  ...   \n",
       "2021-06-04 00:00:00  1622799722  2021-06-04 09:42:02   \n",
       "2021-06-04 00:00:00  1622798109  2021-06-04 09:15:09   \n",
       "2021-06-04 00:00:00  1622789397  2021-06-04 06:49:57   \n",
       "2021-06-03 00:00:00  1622733347  2021-06-03 15:15:47   \n",
       "2021-06-03 00:00:00  1622728704  2021-06-03 13:58:24   \n",
       "\n",
       "                                                          text_cleaned  \\\n",
       "date                                                                     \n",
       "2022-06-02 00:00:00                    love tihings world hate jet lag   \n",
       "2022-06-02 00:00:00                                      malaysiaboleh   \n",
       "2022-06-02 00:00:00  finish live interview cnbc squawk box studio haha   \n",
       "2022-06-02 00:00:00  ill speak point zero forum zurich switzerland ...   \n",
       "2022-06-02 00:00:00  humble receive cryptowarrior gift malaysia par...   \n",
       "...                                                                ...   \n",
       "2021-06-04 00:00:00      tweet hurt people finance funny irresponsible   \n",
       "2021-06-04 00:00:00  great power great responsibility great great p...   \n",
       "2021-06-04 00:00:00              dont manipulate hodl financial advice   \n",
       "2021-06-03 00:00:00              want see photo miami real people hang   \n",
       "2021-06-03 00:00:00                                       ready bnbnfa   \n",
       "\n",
       "                     vader_sentiment  flair_sentiment  textBlob_sentiment  \\\n",
       "date                                                                        \n",
       "2022-06-02 00:00:00          -0.7717         0.995204            0.066667   \n",
       "2022-06-02 00:00:00           0.0000         0.583073            0.000000   \n",
       "2022-06-02 00:00:00           0.4588        -0.642573            0.168182   \n",
       "2022-06-02 00:00:00           0.0000         0.716512            0.000000   \n",
       "2022-06-02 00:00:00           0.4404         0.997130            0.000000   \n",
       "...                              ...              ...                 ...   \n",
       "2021-06-04 00:00:00          -0.5267        -0.999880           -0.125000   \n",
       "2021-06-04 00:00:00           0.9552        -0.973885            0.267857   \n",
       "2021-06-04 00:00:00           0.2924        -0.998453            0.000000   \n",
       "2021-06-03 00:00:00           0.0772         0.999000            0.200000   \n",
       "2021-06-03 00:00:00           0.3612         0.997769            0.200000   \n",
       "\n",
       "                           Date  Close/Last  Volume    Open    High     Low  \n",
       "date                                                                         \n",
       "2022-06-02 00:00:00  06/02/2022      308.21     NaN  300.50  310.20  306.60  \n",
       "2022-06-02 00:00:00  06/02/2022      308.21     NaN  300.50  310.20  306.60  \n",
       "2022-06-02 00:00:00  06/02/2022      308.21     NaN  300.50  310.20  306.60  \n",
       "2022-06-02 00:00:00  06/02/2022      308.21     NaN  300.50  310.20  306.60  \n",
       "2022-06-02 00:00:00  06/02/2022      308.21     NaN  300.50  310.20  306.60  \n",
       "...                         ...         ...     ...     ...     ...     ...  \n",
       "2021-06-04 00:00:00  06/04/2021      410.64     NaN  406.32  415.05  388.13  \n",
       "2021-06-04 00:00:00  06/04/2021      410.64     NaN  406.32  415.05  388.13  \n",
       "2021-06-04 00:00:00  06/04/2021      410.64     NaN  406.32  415.05  388.13  \n",
       "2021-06-03 00:00:00  06/03/2021      409.11     NaN  393.57  428.71  394.86  \n",
       "2021-06-03 00:00:00  06/03/2021      409.11     NaN  393.57  428.71  394.86  \n",
       "\n",
       "[1397 rows x 14 columns]"
      ]
     },
     "execution_count": 9,
     "metadata": {},
     "output_type": "execute_result"
    }
   ],
   "source": [
    "df = pd.read_csv(os.path.join('data', 'binance', 'binance_tweets_combined.csv'), index_col='date')\n",
    "df"
   ]
  },
  {
   "cell_type": "code",
   "execution_count": 5,
   "metadata": {},
   "outputs": [
    {
     "data": {
      "text/plain": [
       "Index(['author', 'text', 'timestamp', 'datetime', 'text_cleaned',\n",
       "       'vader_sentiment', 'flair_sentiment', 'textBlob_sentiment', 'Date',\n",
       "       'Close/Last', 'Volume', 'Open', 'High', 'Low'],\n",
       "      dtype='object')"
      ]
     },
     "execution_count": 5,
     "metadata": {},
     "output_type": "execute_result"
    }
   ],
   "source": [
    "df.columns"
   ]
  },
  {
   "cell_type": "code",
   "execution_count": 20,
   "metadata": {},
   "outputs": [],
   "source": [
    "df.drop(columns=['author', 'text', 'datetime', 'Date', 'Volume', 'High', 'Low', 'timestamp'], inplace=True)"
   ]
  },
  {
   "cell_type": "code",
   "execution_count": 21,
   "metadata": {},
   "outputs": [
    {
     "data": {
      "text/html": [
       "<div>\n",
       "<style scoped>\n",
       "    .dataframe tbody tr th:only-of-type {\n",
       "        vertical-align: middle;\n",
       "    }\n",
       "\n",
       "    .dataframe tbody tr th {\n",
       "        vertical-align: top;\n",
       "    }\n",
       "\n",
       "    .dataframe thead th {\n",
       "        text-align: right;\n",
       "    }\n",
       "</style>\n",
       "<table border=\"1\" class=\"dataframe\">\n",
       "  <thead>\n",
       "    <tr style=\"text-align: right;\">\n",
       "      <th></th>\n",
       "      <th>text_cleaned</th>\n",
       "      <th>vader_sentiment</th>\n",
       "      <th>flair_sentiment</th>\n",
       "      <th>textBlob_sentiment</th>\n",
       "      <th>Close/Last</th>\n",
       "      <th>Open</th>\n",
       "      <th>movement</th>\n",
       "    </tr>\n",
       "    <tr>\n",
       "      <th>date</th>\n",
       "      <th></th>\n",
       "      <th></th>\n",
       "      <th></th>\n",
       "      <th></th>\n",
       "      <th></th>\n",
       "      <th></th>\n",
       "      <th></th>\n",
       "    </tr>\n",
       "  </thead>\n",
       "  <tbody>\n",
       "    <tr>\n",
       "      <th>2022-06-02</th>\n",
       "      <td>love tihings world hate jet lag</td>\n",
       "      <td>-0.7717</td>\n",
       "      <td>0.995204</td>\n",
       "      <td>0.066667</td>\n",
       "      <td>308.21</td>\n",
       "      <td>300.50</td>\n",
       "      <td>1</td>\n",
       "    </tr>\n",
       "    <tr>\n",
       "      <th>2022-06-02</th>\n",
       "      <td>malaysiaboleh</td>\n",
       "      <td>0.0000</td>\n",
       "      <td>0.583073</td>\n",
       "      <td>0.000000</td>\n",
       "      <td>308.21</td>\n",
       "      <td>300.50</td>\n",
       "      <td>1</td>\n",
       "    </tr>\n",
       "    <tr>\n",
       "      <th>2022-06-02</th>\n",
       "      <td>finish live interview cnbc squawk box studio haha</td>\n",
       "      <td>0.4588</td>\n",
       "      <td>-0.642573</td>\n",
       "      <td>0.168182</td>\n",
       "      <td>308.21</td>\n",
       "      <td>300.50</td>\n",
       "      <td>1</td>\n",
       "    </tr>\n",
       "    <tr>\n",
       "      <th>2022-06-02</th>\n",
       "      <td>ill speak point zero forum zurich switzerland ...</td>\n",
       "      <td>0.0000</td>\n",
       "      <td>0.716512</td>\n",
       "      <td>0.000000</td>\n",
       "      <td>308.21</td>\n",
       "      <td>300.50</td>\n",
       "      <td>1</td>\n",
       "    </tr>\n",
       "    <tr>\n",
       "      <th>2022-06-02</th>\n",
       "      <td>humble receive cryptowarrior gift malaysia par...</td>\n",
       "      <td>0.4404</td>\n",
       "      <td>0.997130</td>\n",
       "      <td>0.000000</td>\n",
       "      <td>308.21</td>\n",
       "      <td>300.50</td>\n",
       "      <td>1</td>\n",
       "    </tr>\n",
       "    <tr>\n",
       "      <th>...</th>\n",
       "      <td>...</td>\n",
       "      <td>...</td>\n",
       "      <td>...</td>\n",
       "      <td>...</td>\n",
       "      <td>...</td>\n",
       "      <td>...</td>\n",
       "      <td>...</td>\n",
       "    </tr>\n",
       "    <tr>\n",
       "      <th>2021-06-04</th>\n",
       "      <td>tweet hurt people finance funny irresponsible</td>\n",
       "      <td>-0.5267</td>\n",
       "      <td>-0.999880</td>\n",
       "      <td>-0.125000</td>\n",
       "      <td>410.64</td>\n",
       "      <td>406.32</td>\n",
       "      <td>1</td>\n",
       "    </tr>\n",
       "    <tr>\n",
       "      <th>2021-06-04</th>\n",
       "      <td>great power great responsibility great great p...</td>\n",
       "      <td>0.9552</td>\n",
       "      <td>-0.973885</td>\n",
       "      <td>0.267857</td>\n",
       "      <td>410.64</td>\n",
       "      <td>406.32</td>\n",
       "      <td>1</td>\n",
       "    </tr>\n",
       "    <tr>\n",
       "      <th>2021-06-04</th>\n",
       "      <td>dont manipulate hodl financial advice</td>\n",
       "      <td>0.2924</td>\n",
       "      <td>-0.998453</td>\n",
       "      <td>0.000000</td>\n",
       "      <td>410.64</td>\n",
       "      <td>406.32</td>\n",
       "      <td>1</td>\n",
       "    </tr>\n",
       "    <tr>\n",
       "      <th>2021-06-03</th>\n",
       "      <td>want see photo miami real people hang</td>\n",
       "      <td>0.0772</td>\n",
       "      <td>0.999000</td>\n",
       "      <td>0.200000</td>\n",
       "      <td>409.11</td>\n",
       "      <td>393.57</td>\n",
       "      <td>1</td>\n",
       "    </tr>\n",
       "    <tr>\n",
       "      <th>2021-06-03</th>\n",
       "      <td>ready bnbnfa</td>\n",
       "      <td>0.3612</td>\n",
       "      <td>0.997769</td>\n",
       "      <td>0.200000</td>\n",
       "      <td>409.11</td>\n",
       "      <td>393.57</td>\n",
       "      <td>1</td>\n",
       "    </tr>\n",
       "  </tbody>\n",
       "</table>\n",
       "<p>1397 rows × 7 columns</p>\n",
       "</div>"
      ],
      "text/plain": [
       "                                                 text_cleaned  \\\n",
       "date                                                            \n",
       "2022-06-02                    love tihings world hate jet lag   \n",
       "2022-06-02                                      malaysiaboleh   \n",
       "2022-06-02  finish live interview cnbc squawk box studio haha   \n",
       "2022-06-02  ill speak point zero forum zurich switzerland ...   \n",
       "2022-06-02  humble receive cryptowarrior gift malaysia par...   \n",
       "...                                                       ...   \n",
       "2021-06-04      tweet hurt people finance funny irresponsible   \n",
       "2021-06-04  great power great responsibility great great p...   \n",
       "2021-06-04              dont manipulate hodl financial advice   \n",
       "2021-06-03              want see photo miami real people hang   \n",
       "2021-06-03                                       ready bnbnfa   \n",
       "\n",
       "            vader_sentiment  flair_sentiment  textBlob_sentiment  Close/Last  \\\n",
       "date                                                                           \n",
       "2022-06-02          -0.7717         0.995204            0.066667      308.21   \n",
       "2022-06-02           0.0000         0.583073            0.000000      308.21   \n",
       "2022-06-02           0.4588        -0.642573            0.168182      308.21   \n",
       "2022-06-02           0.0000         0.716512            0.000000      308.21   \n",
       "2022-06-02           0.4404         0.997130            0.000000      308.21   \n",
       "...                     ...              ...                 ...         ...   \n",
       "2021-06-04          -0.5267        -0.999880           -0.125000      410.64   \n",
       "2021-06-04           0.9552        -0.973885            0.267857      410.64   \n",
       "2021-06-04           0.2924        -0.998453            0.000000      410.64   \n",
       "2021-06-03           0.0772         0.999000            0.200000      409.11   \n",
       "2021-06-03           0.3612         0.997769            0.200000      409.11   \n",
       "\n",
       "              Open  movement  \n",
       "date                          \n",
       "2022-06-02  300.50         1  \n",
       "2022-06-02  300.50         1  \n",
       "2022-06-02  300.50         1  \n",
       "2022-06-02  300.50         1  \n",
       "2022-06-02  300.50         1  \n",
       "...            ...       ...  \n",
       "2021-06-04  406.32         1  \n",
       "2021-06-04  406.32         1  \n",
       "2021-06-04  406.32         1  \n",
       "2021-06-03  393.57         1  \n",
       "2021-06-03  393.57         1  \n",
       "\n",
       "[1397 rows x 7 columns]"
      ]
     },
     "execution_count": 21,
     "metadata": {},
     "output_type": "execute_result"
    }
   ],
   "source": [
    "df"
   ]
  },
  {
   "cell_type": "markdown",
   "metadata": {},
   "source": [
    "### Preprocessing\n",
    "\n",
    "The process of pre-processing on the text is done on the `binance_price_analyzer.ipynb`."
   ]
  },
  {
   "cell_type": "markdown",
   "metadata": {},
   "source": [
    "### Check the temporal distribution of tweets"
   ]
  },
  {
   "cell_type": "code",
   "execution_count": 22,
   "metadata": {},
   "outputs": [
    {
     "data": {
      "application/vnd.plotly.v1+json": {
       "config": {
        "plotlyServerURL": "https://plot.ly"
       },
       "data": [
        {
         "alignmentgroup": "True",
         "bingroup": "x",
         "hovertemplate": "date=%{x}<br>count=%{y}<extra></extra>",
         "legendgroup": "",
         "marker": {
          "color": "#636efa",
          "pattern": {
           "shape": ""
          }
         },
         "name": "",
         "offsetgroup": "",
         "orientation": "v",
         "showlegend": false,
         "type": "histogram",
         "x": [
          "2022-06-02T00:00:00",
          "2022-06-02T00:00:00",
          "2022-06-02T00:00:00",
          "2022-06-02T00:00:00",
          "2022-06-02T00:00:00",
          "2022-06-02T00:00:00",
          "2022-06-02T00:00:00",
          "2022-06-02T00:00:00",
          "2022-06-01T00:00:00",
          "2022-05-31T00:00:00",
          "2022-05-31T00:00:00",
          "2022-05-31T00:00:00",
          "2022-05-31T00:00:00",
          "2022-05-31T00:00:00",
          "2022-05-30T00:00:00",
          "2022-05-30T00:00:00",
          "2022-05-30T00:00:00",
          "2022-05-30T00:00:00",
          "2022-05-29T00:00:00",
          "2022-05-28T00:00:00",
          "2022-05-28T00:00:00",
          "2022-05-28T00:00:00",
          "2022-05-28T00:00:00",
          "2022-05-28T00:00:00",
          "2022-05-28T00:00:00",
          "2022-05-27T00:00:00",
          "2022-05-27T00:00:00",
          "2022-05-27T00:00:00",
          "2022-05-27T00:00:00",
          "2022-05-27T00:00:00",
          "2022-05-27T00:00:00",
          "2022-05-27T00:00:00",
          "2022-05-26T00:00:00",
          "2022-05-26T00:00:00",
          "2022-05-26T00:00:00",
          "2022-05-26T00:00:00",
          "2022-05-26T00:00:00",
          "2022-05-25T00:00:00",
          "2022-05-25T00:00:00",
          "2022-05-25T00:00:00",
          "2022-05-24T00:00:00",
          "2022-05-24T00:00:00",
          "2022-05-24T00:00:00",
          "2022-05-24T00:00:00",
          "2022-05-23T00:00:00",
          "2022-05-23T00:00:00",
          "2022-05-23T00:00:00",
          "2022-05-23T00:00:00",
          "2022-05-23T00:00:00",
          "2022-05-23T00:00:00",
          "2022-05-22T00:00:00",
          "2022-05-22T00:00:00",
          "2022-05-22T00:00:00",
          "2022-05-22T00:00:00",
          "2022-05-22T00:00:00",
          "2022-05-21T00:00:00",
          "2022-05-21T00:00:00",
          "2022-05-21T00:00:00",
          "2022-05-21T00:00:00",
          "2022-05-21T00:00:00",
          "2022-05-21T00:00:00",
          "2022-05-20T00:00:00",
          "2022-05-20T00:00:00",
          "2022-05-20T00:00:00",
          "2022-05-19T00:00:00",
          "2022-05-19T00:00:00",
          "2022-05-19T00:00:00",
          "2022-05-19T00:00:00",
          "2022-05-18T00:00:00",
          "2022-05-18T00:00:00",
          "2022-05-18T00:00:00",
          "2022-05-18T00:00:00",
          "2022-05-18T00:00:00",
          "2022-05-18T00:00:00",
          "2022-05-18T00:00:00",
          "2022-05-18T00:00:00",
          "2022-05-18T00:00:00",
          "2022-05-18T00:00:00",
          "2022-05-18T00:00:00",
          "2022-05-18T00:00:00",
          "2022-05-17T00:00:00",
          "2022-05-17T00:00:00",
          "2022-05-17T00:00:00",
          "2022-05-17T00:00:00",
          "2022-05-17T00:00:00",
          "2022-05-17T00:00:00",
          "2022-05-16T00:00:00",
          "2022-05-16T00:00:00",
          "2022-05-16T00:00:00",
          "2022-05-16T00:00:00",
          "2022-05-16T00:00:00",
          "2022-05-16T00:00:00",
          "2022-05-16T00:00:00",
          "2022-05-16T00:00:00",
          "2022-05-16T00:00:00",
          "2022-05-16T00:00:00",
          "2022-05-15T00:00:00",
          "2022-05-15T00:00:00",
          "2022-05-15T00:00:00",
          "2022-05-15T00:00:00",
          "2022-05-15T00:00:00",
          "2022-05-15T00:00:00",
          "2022-05-15T00:00:00",
          "2022-05-15T00:00:00",
          "2022-05-15T00:00:00",
          "2022-05-15T00:00:00",
          "2022-05-15T00:00:00",
          "2022-05-14T00:00:00",
          "2022-05-14T00:00:00",
          "2022-05-14T00:00:00",
          "2022-05-14T00:00:00",
          "2022-05-13T00:00:00",
          "2022-05-13T00:00:00",
          "2022-05-13T00:00:00",
          "2022-05-13T00:00:00",
          "2022-05-13T00:00:00",
          "2022-05-13T00:00:00",
          "2022-05-13T00:00:00",
          "2022-05-13T00:00:00",
          "2022-05-13T00:00:00",
          "2022-05-13T00:00:00",
          "2022-05-13T00:00:00",
          "2022-05-13T00:00:00",
          "2022-05-13T00:00:00",
          "2022-05-12T00:00:00",
          "2022-05-12T00:00:00",
          "2022-05-12T00:00:00",
          "2022-05-12T00:00:00",
          "2022-05-11T00:00:00",
          "2022-05-11T00:00:00",
          "2022-05-11T00:00:00",
          "2022-05-11T00:00:00",
          "2022-05-11T00:00:00",
          "2022-05-11T00:00:00",
          "2022-05-11T00:00:00",
          "2022-05-11T00:00:00",
          "2022-05-11T00:00:00",
          "2022-05-11T00:00:00",
          "2022-05-11T00:00:00",
          "2022-05-11T00:00:00",
          "2022-05-11T00:00:00",
          "2022-05-11T00:00:00",
          "2022-05-10T00:00:00",
          "2022-05-10T00:00:00",
          "2022-05-10T00:00:00",
          "2022-05-10T00:00:00",
          "2022-05-10T00:00:00",
          "2022-05-10T00:00:00",
          "2022-05-09T00:00:00",
          "2022-05-09T00:00:00",
          "2022-05-09T00:00:00",
          "2022-05-09T00:00:00",
          "2022-05-08T00:00:00",
          "2022-05-08T00:00:00",
          "2022-05-08T00:00:00",
          "2022-05-08T00:00:00",
          "2022-05-08T00:00:00",
          "2022-05-07T00:00:00",
          "2022-05-07T00:00:00",
          "2022-05-07T00:00:00",
          "2022-05-07T00:00:00",
          "2022-05-07T00:00:00",
          "2022-05-07T00:00:00",
          "2022-05-07T00:00:00",
          "2022-05-07T00:00:00",
          "2022-05-07T00:00:00",
          "2022-05-06T00:00:00",
          "2022-05-06T00:00:00",
          "2022-05-06T00:00:00",
          "2022-05-06T00:00:00",
          "2022-05-06T00:00:00",
          "2022-05-06T00:00:00",
          "2022-05-06T00:00:00",
          "2022-05-06T00:00:00",
          "2022-05-06T00:00:00",
          "2022-05-06T00:00:00",
          "2022-05-06T00:00:00",
          "2022-05-06T00:00:00",
          "2022-05-06T00:00:00",
          "2022-05-05T00:00:00",
          "2022-05-05T00:00:00",
          "2022-05-05T00:00:00",
          "2022-05-05T00:00:00",
          "2022-05-05T00:00:00",
          "2022-05-05T00:00:00",
          "2022-05-05T00:00:00",
          "2022-05-05T00:00:00",
          "2022-05-05T00:00:00",
          "2022-05-05T00:00:00",
          "2022-05-04T00:00:00",
          "2022-05-04T00:00:00",
          "2022-05-04T00:00:00",
          "2022-05-04T00:00:00",
          "2022-05-04T00:00:00",
          "2022-05-04T00:00:00",
          "2022-05-04T00:00:00",
          "2022-05-04T00:00:00",
          "2022-05-04T00:00:00",
          "2022-05-04T00:00:00",
          "2022-05-04T00:00:00",
          "2022-05-04T00:00:00",
          "2022-05-03T00:00:00",
          "2022-05-03T00:00:00",
          "2022-05-03T00:00:00",
          "2022-05-03T00:00:00",
          "2022-05-03T00:00:00",
          "2022-05-03T00:00:00",
          "2022-05-03T00:00:00",
          "2022-05-02T00:00:00",
          "2022-05-02T00:00:00",
          "2022-05-02T00:00:00",
          "2022-05-01T00:00:00",
          "2022-05-01T00:00:00",
          "2022-05-01T00:00:00",
          "2022-05-01T00:00:00",
          "2022-05-01T00:00:00",
          "2022-05-01T00:00:00",
          "2022-04-30T00:00:00",
          "2022-04-30T00:00:00",
          "2022-04-30T00:00:00",
          "2022-04-29T00:00:00",
          "2022-04-29T00:00:00",
          "2022-04-29T00:00:00",
          "2022-04-29T00:00:00",
          "2022-04-29T00:00:00",
          "2022-04-28T00:00:00",
          "2022-04-28T00:00:00",
          "2022-04-28T00:00:00",
          "2022-04-28T00:00:00",
          "2022-04-28T00:00:00",
          "2022-04-28T00:00:00",
          "2022-04-27T00:00:00",
          "2022-04-27T00:00:00",
          "2022-04-27T00:00:00",
          "2022-04-26T00:00:00",
          "2022-04-26T00:00:00",
          "2022-04-26T00:00:00",
          "2022-04-26T00:00:00",
          "2022-04-26T00:00:00",
          "2022-04-26T00:00:00",
          "2022-04-26T00:00:00",
          "2022-04-25T00:00:00",
          "2022-04-25T00:00:00",
          "2022-04-25T00:00:00",
          "2022-04-25T00:00:00",
          "2022-04-25T00:00:00",
          "2022-04-24T00:00:00",
          "2022-04-24T00:00:00",
          "2022-04-24T00:00:00",
          "2022-04-24T00:00:00",
          "2022-04-24T00:00:00",
          "2022-04-24T00:00:00",
          "2022-04-24T00:00:00",
          "2022-04-24T00:00:00",
          "2022-04-23T00:00:00",
          "2022-04-23T00:00:00",
          "2022-04-23T00:00:00",
          "2022-04-23T00:00:00",
          "2022-04-23T00:00:00",
          "2022-04-23T00:00:00",
          "2022-04-23T00:00:00",
          "2022-04-23T00:00:00",
          "2022-04-23T00:00:00",
          "2022-04-22T00:00:00",
          "2022-04-22T00:00:00",
          "2022-04-22T00:00:00",
          "2022-04-22T00:00:00",
          "2022-04-22T00:00:00",
          "2022-04-22T00:00:00",
          "2022-04-22T00:00:00",
          "2022-04-21T00:00:00",
          "2022-04-21T00:00:00",
          "2022-04-21T00:00:00",
          "2022-04-21T00:00:00",
          "2022-04-21T00:00:00",
          "2022-04-21T00:00:00",
          "2022-04-20T00:00:00",
          "2022-04-20T00:00:00",
          "2022-04-20T00:00:00",
          "2022-04-20T00:00:00",
          "2022-04-20T00:00:00",
          "2022-04-20T00:00:00",
          "2022-04-19T00:00:00",
          "2022-04-19T00:00:00",
          "2022-04-19T00:00:00",
          "2022-04-19T00:00:00",
          "2022-04-18T00:00:00",
          "2022-04-18T00:00:00",
          "2022-04-18T00:00:00",
          "2022-04-18T00:00:00",
          "2022-04-17T00:00:00",
          "2022-04-17T00:00:00",
          "2022-04-16T00:00:00",
          "2022-04-16T00:00:00",
          "2022-04-16T00:00:00",
          "2022-04-16T00:00:00",
          "2022-04-16T00:00:00",
          "2022-04-15T00:00:00",
          "2022-04-15T00:00:00",
          "2022-04-15T00:00:00",
          "2022-04-15T00:00:00",
          "2022-04-15T00:00:00",
          "2022-04-15T00:00:00",
          "2022-04-15T00:00:00",
          "2022-04-15T00:00:00",
          "2022-04-14T00:00:00",
          "2022-04-14T00:00:00",
          "2022-04-14T00:00:00",
          "2022-04-13T00:00:00",
          "2022-04-13T00:00:00",
          "2022-04-13T00:00:00",
          "2022-04-13T00:00:00",
          "2022-04-12T00:00:00",
          "2022-04-12T00:00:00",
          "2022-04-12T00:00:00",
          "2022-04-12T00:00:00",
          "2022-04-12T00:00:00",
          "2022-04-12T00:00:00",
          "2022-04-12T00:00:00",
          "2022-04-12T00:00:00",
          "2022-04-12T00:00:00",
          "2022-04-12T00:00:00",
          "2022-04-12T00:00:00",
          "2022-04-11T00:00:00",
          "2022-04-11T00:00:00",
          "2022-04-11T00:00:00",
          "2022-04-11T00:00:00",
          "2022-04-11T00:00:00",
          "2022-04-11T00:00:00",
          "2022-04-11T00:00:00",
          "2022-04-11T00:00:00",
          "2022-04-10T00:00:00",
          "2022-04-10T00:00:00",
          "2022-04-10T00:00:00",
          "2022-04-09T00:00:00",
          "2022-04-09T00:00:00",
          "2022-04-09T00:00:00",
          "2022-04-09T00:00:00",
          "2022-04-08T00:00:00",
          "2022-04-08T00:00:00",
          "2022-04-08T00:00:00",
          "2022-04-08T00:00:00",
          "2022-04-07T00:00:00",
          "2022-04-07T00:00:00",
          "2022-04-07T00:00:00",
          "2022-04-07T00:00:00",
          "2022-04-07T00:00:00",
          "2022-04-07T00:00:00",
          "2022-04-07T00:00:00",
          "2022-04-07T00:00:00",
          "2022-04-07T00:00:00",
          "2022-04-07T00:00:00",
          "2022-04-07T00:00:00",
          "2022-04-06T00:00:00",
          "2022-04-06T00:00:00",
          "2022-04-06T00:00:00",
          "2022-04-06T00:00:00",
          "2022-04-06T00:00:00",
          "2022-04-06T00:00:00",
          "2022-04-06T00:00:00",
          "2022-04-06T00:00:00",
          "2022-04-06T00:00:00",
          "2022-04-06T00:00:00",
          "2022-04-06T00:00:00",
          "2022-04-05T00:00:00",
          "2022-04-05T00:00:00",
          "2022-04-05T00:00:00",
          "2022-04-05T00:00:00",
          "2022-04-05T00:00:00",
          "2022-04-05T00:00:00",
          "2022-04-05T00:00:00",
          "2022-04-05T00:00:00",
          "2022-04-04T00:00:00",
          "2022-04-04T00:00:00",
          "2022-04-04T00:00:00",
          "2022-04-03T00:00:00",
          "2022-04-03T00:00:00",
          "2022-04-02T00:00:00",
          "2022-04-02T00:00:00",
          "2022-04-02T00:00:00",
          "2022-04-02T00:00:00",
          "2022-04-02T00:00:00",
          "2022-04-02T00:00:00",
          "2022-04-02T00:00:00",
          "2022-04-01T00:00:00",
          "2022-04-01T00:00:00",
          "2022-04-01T00:00:00",
          "2022-04-01T00:00:00",
          "2022-03-31T00:00:00",
          "2022-03-31T00:00:00",
          "2022-03-30T00:00:00",
          "2022-03-30T00:00:00",
          "2022-03-30T00:00:00",
          "2022-03-30T00:00:00",
          "2022-03-30T00:00:00",
          "2022-03-30T00:00:00",
          "2022-03-30T00:00:00",
          "2022-03-29T00:00:00",
          "2022-03-29T00:00:00",
          "2022-03-29T00:00:00",
          "2022-03-29T00:00:00",
          "2022-03-28T00:00:00",
          "2022-03-28T00:00:00",
          "2022-03-28T00:00:00",
          "2022-03-28T00:00:00",
          "2022-03-28T00:00:00",
          "2022-03-28T00:00:00",
          "2022-03-28T00:00:00",
          "2022-03-28T00:00:00",
          "2022-03-28T00:00:00",
          "2022-03-28T00:00:00",
          "2022-03-28T00:00:00",
          "2022-03-28T00:00:00",
          "2022-03-28T00:00:00",
          "2022-03-27T00:00:00",
          "2022-03-27T00:00:00",
          "2022-03-27T00:00:00",
          "2022-03-27T00:00:00",
          "2022-03-27T00:00:00",
          "2022-03-27T00:00:00",
          "2022-03-27T00:00:00",
          "2022-03-26T00:00:00",
          "2022-03-26T00:00:00",
          "2022-03-26T00:00:00",
          "2022-03-26T00:00:00",
          "2022-03-26T00:00:00",
          "2022-03-26T00:00:00",
          "2022-03-26T00:00:00",
          "2022-03-26T00:00:00",
          "2022-03-26T00:00:00",
          "2022-03-25T00:00:00",
          "2022-03-25T00:00:00",
          "2022-03-25T00:00:00",
          "2022-03-25T00:00:00",
          "2022-03-25T00:00:00",
          "2022-03-25T00:00:00",
          "2022-03-25T00:00:00",
          "2022-03-25T00:00:00",
          "2022-03-24T00:00:00",
          "2022-03-24T00:00:00",
          "2022-03-24T00:00:00",
          "2022-03-24T00:00:00",
          "2022-03-24T00:00:00",
          "2022-03-24T00:00:00",
          "2022-03-24T00:00:00",
          "2022-03-24T00:00:00",
          "2022-03-22T00:00:00",
          "2022-03-22T00:00:00",
          "2022-03-22T00:00:00",
          "2022-03-21T00:00:00",
          "2022-03-20T00:00:00",
          "2022-03-19T00:00:00",
          "2022-03-19T00:00:00",
          "2022-03-19T00:00:00",
          "2022-03-18T00:00:00",
          "2022-03-18T00:00:00",
          "2022-03-18T00:00:00",
          "2022-03-18T00:00:00",
          "2022-03-18T00:00:00",
          "2022-03-17T00:00:00",
          "2022-03-17T00:00:00",
          "2022-03-17T00:00:00",
          "2022-03-17T00:00:00",
          "2022-03-17T00:00:00",
          "2022-03-17T00:00:00",
          "2022-03-17T00:00:00",
          "2022-03-14T00:00:00",
          "2022-03-14T00:00:00",
          "2022-03-14T00:00:00",
          "2022-03-14T00:00:00",
          "2022-03-14T00:00:00",
          "2022-03-14T00:00:00",
          "2022-03-14T00:00:00",
          "2022-03-14T00:00:00",
          "2022-03-14T00:00:00",
          "2022-03-14T00:00:00",
          "2022-03-14T00:00:00",
          "2022-03-14T00:00:00",
          "2022-03-14T00:00:00",
          "2022-03-14T00:00:00",
          "2022-03-14T00:00:00",
          "2022-03-13T00:00:00",
          "2022-03-12T00:00:00",
          "2022-03-12T00:00:00",
          "2022-03-12T00:00:00",
          "2022-03-12T00:00:00",
          "2022-03-11T00:00:00",
          "2022-03-11T00:00:00",
          "2022-03-10T00:00:00",
          "2022-03-10T00:00:00",
          "2022-03-09T00:00:00",
          "2022-03-09T00:00:00",
          "2022-03-09T00:00:00",
          "2022-03-09T00:00:00",
          "2022-03-09T00:00:00",
          "2022-03-08T00:00:00",
          "2022-03-08T00:00:00",
          "2022-03-07T00:00:00",
          "2022-03-07T00:00:00",
          "2022-03-07T00:00:00",
          "2022-03-07T00:00:00",
          "2022-03-06T00:00:00",
          "2022-03-06T00:00:00",
          "2022-03-06T00:00:00",
          "2022-03-06T00:00:00",
          "2022-03-03T00:00:00",
          "2022-03-03T00:00:00",
          "2022-03-03T00:00:00",
          "2022-03-03T00:00:00",
          "2022-03-02T00:00:00",
          "2022-03-02T00:00:00",
          "2022-03-02T00:00:00",
          "2022-03-01T00:00:00",
          "2022-03-01T00:00:00",
          "2022-03-01T00:00:00",
          "2022-03-01T00:00:00",
          "2022-03-01T00:00:00",
          "2022-03-01T00:00:00",
          "2022-02-28T00:00:00",
          "2022-02-28T00:00:00",
          "2022-02-28T00:00:00",
          "2022-02-28T00:00:00",
          "2022-02-27T00:00:00",
          "2022-02-27T00:00:00",
          "2022-02-26T00:00:00",
          "2022-02-26T00:00:00",
          "2022-02-25T00:00:00",
          "2022-02-25T00:00:00",
          "2022-02-24T00:00:00",
          "2022-02-24T00:00:00",
          "2022-02-24T00:00:00",
          "2022-02-23T00:00:00",
          "2022-02-23T00:00:00",
          "2022-02-23T00:00:00",
          "2022-02-22T00:00:00",
          "2022-02-22T00:00:00",
          "2022-02-22T00:00:00",
          "2022-02-22T00:00:00",
          "2022-02-21T00:00:00",
          "2022-02-21T00:00:00",
          "2022-02-21T00:00:00",
          "2022-02-21T00:00:00",
          "2022-02-20T00:00:00",
          "2022-02-20T00:00:00",
          "2022-02-19T00:00:00",
          "2022-02-18T00:00:00",
          "2022-02-18T00:00:00",
          "2022-02-18T00:00:00",
          "2022-02-18T00:00:00",
          "2022-02-17T00:00:00",
          "2022-02-16T00:00:00",
          "2022-02-15T00:00:00",
          "2022-02-15T00:00:00",
          "2022-02-15T00:00:00",
          "2022-02-15T00:00:00",
          "2022-02-15T00:00:00",
          "2022-02-15T00:00:00",
          "2022-02-15T00:00:00",
          "2022-02-15T00:00:00",
          "2022-02-15T00:00:00",
          "2022-02-14T00:00:00",
          "2022-02-14T00:00:00",
          "2022-02-14T00:00:00",
          "2022-02-14T00:00:00",
          "2022-02-14T00:00:00",
          "2022-02-13T00:00:00",
          "2022-02-13T00:00:00",
          "2022-02-13T00:00:00",
          "2022-02-12T00:00:00",
          "2022-02-11T00:00:00",
          "2022-02-11T00:00:00",
          "2022-02-11T00:00:00",
          "2022-02-10T00:00:00",
          "2022-02-10T00:00:00",
          "2022-02-10T00:00:00",
          "2022-02-10T00:00:00",
          "2022-02-10T00:00:00",
          "2022-02-10T00:00:00",
          "2022-02-10T00:00:00",
          "2022-02-10T00:00:00",
          "2022-02-10T00:00:00",
          "2022-02-10T00:00:00",
          "2022-02-10T00:00:00",
          "2022-02-10T00:00:00",
          "2022-02-09T00:00:00",
          "2022-02-09T00:00:00",
          "2022-02-09T00:00:00",
          "2022-02-08T00:00:00",
          "2022-02-08T00:00:00",
          "2022-02-08T00:00:00",
          "2022-02-08T00:00:00",
          "2022-02-08T00:00:00",
          "2022-02-07T00:00:00",
          "2022-02-07T00:00:00",
          "2022-02-07T00:00:00",
          "2022-02-06T00:00:00",
          "2022-02-05T00:00:00",
          "2022-02-05T00:00:00",
          "2022-02-04T00:00:00",
          "2022-02-04T00:00:00",
          "2022-02-04T00:00:00",
          "2022-02-04T00:00:00",
          "2022-02-03T00:00:00",
          "2022-02-03T00:00:00",
          "2022-02-03T00:00:00",
          "2022-02-02T00:00:00",
          "2022-02-02T00:00:00",
          "2022-02-01T00:00:00",
          "2022-02-01T00:00:00",
          "2022-02-01T00:00:00",
          "2022-02-01T00:00:00",
          "2022-02-01T00:00:00",
          "2022-02-01T00:00:00",
          "2022-01-31T00:00:00",
          "2022-01-31T00:00:00",
          "2022-01-29T00:00:00",
          "2022-01-29T00:00:00",
          "2022-01-29T00:00:00",
          "2022-01-29T00:00:00",
          "2022-01-28T00:00:00",
          "2022-01-28T00:00:00",
          "2022-01-28T00:00:00",
          "2022-01-28T00:00:00",
          "2022-01-27T00:00:00",
          "2022-01-26T00:00:00",
          "2022-01-26T00:00:00",
          "2022-01-26T00:00:00",
          "2022-01-25T00:00:00",
          "2022-01-25T00:00:00",
          "2022-01-24T00:00:00",
          "2022-01-24T00:00:00",
          "2022-01-23T00:00:00",
          "2022-01-22T00:00:00",
          "2022-01-22T00:00:00",
          "2022-01-22T00:00:00",
          "2022-01-22T00:00:00",
          "2022-01-22T00:00:00",
          "2022-01-21T00:00:00",
          "2022-01-21T00:00:00",
          "2022-01-20T00:00:00",
          "2022-01-20T00:00:00",
          "2022-01-20T00:00:00",
          "2022-01-20T00:00:00",
          "2022-01-19T00:00:00",
          "2022-01-19T00:00:00",
          "2022-01-19T00:00:00",
          "2022-01-18T00:00:00",
          "2022-01-18T00:00:00",
          "2022-01-18T00:00:00",
          "2022-01-17T00:00:00",
          "2022-01-17T00:00:00",
          "2022-01-17T00:00:00",
          "2022-01-16T00:00:00",
          "2022-01-15T00:00:00",
          "2022-01-15T00:00:00",
          "2022-01-15T00:00:00",
          "2022-01-14T00:00:00",
          "2022-01-14T00:00:00",
          "2022-01-13T00:00:00",
          "2022-01-13T00:00:00",
          "2022-01-13T00:00:00",
          "2022-01-13T00:00:00",
          "2022-01-13T00:00:00",
          "2022-01-13T00:00:00",
          "2022-01-12T00:00:00",
          "2022-01-12T00:00:00",
          "2022-01-12T00:00:00",
          "2022-01-12T00:00:00",
          "2022-01-12T00:00:00",
          "2022-01-11T00:00:00",
          "2022-01-11T00:00:00",
          "2022-01-11T00:00:00",
          "2022-01-11T00:00:00",
          "2022-01-11T00:00:00",
          "2022-01-11T00:00:00",
          "2022-01-10T00:00:00",
          "2022-01-10T00:00:00",
          "2022-01-10T00:00:00",
          "2022-01-10T00:00:00",
          "2022-01-10T00:00:00",
          "2022-01-09T00:00:00",
          "2022-01-09T00:00:00",
          "2022-01-09T00:00:00",
          "2022-01-08T00:00:00",
          "2022-01-08T00:00:00",
          "2022-01-06T00:00:00",
          "2022-01-05T00:00:00",
          "2022-01-04T00:00:00",
          "2022-01-04T00:00:00",
          "2022-01-04T00:00:00",
          "2022-01-04T00:00:00",
          "2022-01-04T00:00:00",
          "2022-01-03T00:00:00",
          "2022-01-03T00:00:00",
          "2022-01-03T00:00:00",
          "2022-01-02T00:00:00",
          "2022-01-01T00:00:00",
          "2021-12-31T00:00:00",
          "2021-12-31T00:00:00",
          "2021-12-31T00:00:00",
          "2021-12-31T00:00:00",
          "2021-12-30T00:00:00",
          "2021-12-30T00:00:00",
          "2021-12-30T00:00:00",
          "2021-12-29T00:00:00",
          "2021-12-29T00:00:00",
          "2021-12-29T00:00:00",
          "2021-12-28T00:00:00",
          "2021-12-28T00:00:00",
          "2021-12-28T00:00:00",
          "2021-12-28T00:00:00",
          "2021-12-28T00:00:00",
          "2021-12-28T00:00:00",
          "2021-12-27T00:00:00",
          "2021-12-27T00:00:00",
          "2021-12-27T00:00:00",
          "2021-12-27T00:00:00",
          "2021-12-27T00:00:00",
          "2021-12-27T00:00:00",
          "2021-12-27T00:00:00",
          "2021-12-26T00:00:00",
          "2021-12-25T00:00:00",
          "2021-12-25T00:00:00",
          "2021-12-25T00:00:00",
          "2021-12-24T00:00:00",
          "2021-12-24T00:00:00",
          "2021-12-24T00:00:00",
          "2021-12-23T00:00:00",
          "2021-12-23T00:00:00",
          "2021-12-22T00:00:00",
          "2021-12-22T00:00:00",
          "2021-12-22T00:00:00",
          "2021-12-22T00:00:00",
          "2021-12-22T00:00:00",
          "2021-12-22T00:00:00",
          "2021-12-21T00:00:00",
          "2021-12-21T00:00:00",
          "2021-12-21T00:00:00",
          "2021-12-20T00:00:00",
          "2021-12-20T00:00:00",
          "2021-12-18T00:00:00",
          "2021-12-18T00:00:00",
          "2021-12-17T00:00:00",
          "2021-12-17T00:00:00",
          "2021-12-17T00:00:00",
          "2021-12-17T00:00:00",
          "2021-12-16T00:00:00",
          "2021-12-16T00:00:00",
          "2021-12-15T00:00:00",
          "2021-12-15T00:00:00",
          "2021-12-14T00:00:00",
          "2021-12-14T00:00:00",
          "2021-12-14T00:00:00",
          "2021-12-14T00:00:00",
          "2021-12-14T00:00:00",
          "2021-12-13T00:00:00",
          "2021-12-13T00:00:00",
          "2021-12-13T00:00:00",
          "2021-12-13T00:00:00",
          "2021-12-13T00:00:00",
          "2021-12-13T00:00:00",
          "2021-12-13T00:00:00",
          "2021-12-13T00:00:00",
          "2021-12-13T00:00:00",
          "2021-12-13T00:00:00",
          "2021-12-12T00:00:00",
          "2021-12-12T00:00:00",
          "2021-12-11T00:00:00",
          "2021-12-11T00:00:00",
          "2021-12-11T00:00:00",
          "2021-12-10T00:00:00",
          "2021-12-10T00:00:00",
          "2021-12-10T00:00:00",
          "2021-12-10T00:00:00",
          "2021-12-09T00:00:00",
          "2021-12-08T00:00:00",
          "2021-12-08T00:00:00",
          "2021-12-07T00:00:00",
          "2021-12-07T00:00:00",
          "2021-12-07T00:00:00",
          "2021-12-07T00:00:00",
          "2021-12-07T00:00:00",
          "2021-12-06T00:00:00",
          "2021-12-06T00:00:00",
          "2021-12-04T00:00:00",
          "2021-12-04T00:00:00",
          "2021-12-04T00:00:00",
          "2021-12-03T00:00:00",
          "2021-12-03T00:00:00",
          "2021-12-03T00:00:00",
          "2021-12-03T00:00:00",
          "2021-12-01T00:00:00",
          "2021-12-01T00:00:00",
          "2021-12-01T00:00:00",
          "2021-11-30T00:00:00",
          "2021-11-29T00:00:00",
          "2021-11-29T00:00:00",
          "2021-11-28T00:00:00",
          "2021-11-28T00:00:00",
          "2021-11-27T00:00:00",
          "2021-11-27T00:00:00",
          "2021-11-26T00:00:00",
          "2021-11-26T00:00:00",
          "2021-11-26T00:00:00",
          "2021-11-26T00:00:00",
          "2021-11-25T00:00:00",
          "2021-11-25T00:00:00",
          "2021-11-25T00:00:00",
          "2021-11-25T00:00:00",
          "2021-11-24T00:00:00",
          "2021-11-24T00:00:00",
          "2021-11-24T00:00:00",
          "2021-11-24T00:00:00",
          "2021-11-24T00:00:00",
          "2021-11-24T00:00:00",
          "2021-11-23T00:00:00",
          "2021-11-23T00:00:00",
          "2021-11-23T00:00:00",
          "2021-11-23T00:00:00",
          "2021-11-23T00:00:00",
          "2021-11-22T00:00:00",
          "2021-11-22T00:00:00",
          "2021-11-22T00:00:00",
          "2021-11-21T00:00:00",
          "2021-11-21T00:00:00",
          "2021-11-21T00:00:00",
          "2021-11-20T00:00:00",
          "2021-11-20T00:00:00",
          "2021-11-19T00:00:00",
          "2021-11-19T00:00:00",
          "2021-11-19T00:00:00",
          "2021-11-18T00:00:00",
          "2021-11-18T00:00:00",
          "2021-11-17T00:00:00",
          "2021-11-17T00:00:00",
          "2021-11-17T00:00:00",
          "2021-11-17T00:00:00",
          "2021-11-17T00:00:00",
          "2021-11-17T00:00:00",
          "2021-11-17T00:00:00",
          "2021-11-17T00:00:00",
          "2021-11-17T00:00:00",
          "2021-11-17T00:00:00",
          "2021-11-16T00:00:00",
          "2021-11-16T00:00:00",
          "2021-11-16T00:00:00",
          "2021-11-16T00:00:00",
          "2021-11-16T00:00:00",
          "2021-11-16T00:00:00",
          "2021-11-15T00:00:00",
          "2021-11-15T00:00:00",
          "2021-11-14T00:00:00",
          "2021-11-14T00:00:00",
          "2021-11-14T00:00:00",
          "2021-11-14T00:00:00",
          "2021-11-13T00:00:00",
          "2021-11-13T00:00:00",
          "2021-11-12T00:00:00",
          "2021-11-11T00:00:00",
          "2021-11-11T00:00:00",
          "2021-11-11T00:00:00",
          "2021-11-11T00:00:00",
          "2021-11-10T00:00:00",
          "2021-11-10T00:00:00",
          "2021-11-10T00:00:00",
          "2021-11-10T00:00:00",
          "2021-11-10T00:00:00",
          "2021-11-10T00:00:00",
          "2021-11-09T00:00:00",
          "2021-11-09T00:00:00",
          "2021-11-09T00:00:00",
          "2021-11-09T00:00:00",
          "2021-11-09T00:00:00",
          "2021-11-09T00:00:00",
          "2021-11-08T00:00:00",
          "2021-11-08T00:00:00",
          "2021-11-08T00:00:00",
          "2021-11-08T00:00:00",
          "2021-11-07T00:00:00",
          "2021-11-07T00:00:00",
          "2021-11-06T00:00:00",
          "2021-11-06T00:00:00",
          "2021-11-06T00:00:00",
          "2021-11-06T00:00:00",
          "2021-11-06T00:00:00",
          "2021-11-05T00:00:00",
          "2021-11-05T00:00:00",
          "2021-11-05T00:00:00",
          "2021-11-05T00:00:00",
          "2021-11-05T00:00:00",
          "2021-11-05T00:00:00",
          "2021-11-04T00:00:00",
          "2021-11-04T00:00:00",
          "2021-11-04T00:00:00",
          "2021-11-03T00:00:00",
          "2021-11-03T00:00:00",
          "2021-11-03T00:00:00",
          "2021-11-03T00:00:00",
          "2021-11-02T00:00:00",
          "2021-11-01T00:00:00",
          "2021-11-01T00:00:00",
          "2021-11-01T00:00:00",
          "2021-11-01T00:00:00",
          "2021-10-31T00:00:00",
          "2021-10-31T00:00:00",
          "2021-10-31T00:00:00",
          "2021-10-29T00:00:00",
          "2021-10-29T00:00:00",
          "2021-10-28T00:00:00",
          "2021-10-28T00:00:00",
          "2021-10-28T00:00:00",
          "2021-10-28T00:00:00",
          "2021-10-26T00:00:00",
          "2021-10-24T00:00:00",
          "2021-10-23T00:00:00",
          "2021-10-23T00:00:00",
          "2021-10-22T00:00:00",
          "2021-10-22T00:00:00",
          "2021-10-21T00:00:00",
          "2021-10-21T00:00:00",
          "2021-10-21T00:00:00",
          "2021-10-21T00:00:00",
          "2021-10-21T00:00:00",
          "2021-10-21T00:00:00",
          "2021-10-21T00:00:00",
          "2021-10-20T00:00:00",
          "2021-10-20T00:00:00",
          "2021-10-20T00:00:00",
          "2021-10-20T00:00:00",
          "2021-10-19T00:00:00",
          "2021-10-19T00:00:00",
          "2021-10-18T00:00:00",
          "2021-10-18T00:00:00",
          "2021-10-18T00:00:00",
          "2021-10-17T00:00:00",
          "2021-10-17T00:00:00",
          "2021-10-17T00:00:00",
          "2021-10-17T00:00:00",
          "2021-10-17T00:00:00",
          "2021-10-16T00:00:00",
          "2021-10-16T00:00:00",
          "2021-10-16T00:00:00",
          "2021-10-16T00:00:00",
          "2021-10-16T00:00:00",
          "2021-10-16T00:00:00",
          "2021-10-15T00:00:00",
          "2021-10-14T00:00:00",
          "2021-10-14T00:00:00",
          "2021-10-14T00:00:00",
          "2021-10-14T00:00:00",
          "2021-10-14T00:00:00",
          "2021-10-13T00:00:00",
          "2021-10-13T00:00:00",
          "2021-10-13T00:00:00",
          "2021-10-13T00:00:00",
          "2021-10-13T00:00:00",
          "2021-10-12T00:00:00",
          "2021-10-12T00:00:00",
          "2021-10-12T00:00:00",
          "2021-10-09T00:00:00",
          "2021-10-08T00:00:00",
          "2021-10-08T00:00:00",
          "2021-10-06T00:00:00",
          "2021-10-06T00:00:00",
          "2021-10-04T00:00:00",
          "2021-10-03T00:00:00",
          "2021-10-03T00:00:00",
          "2021-10-02T00:00:00",
          "2021-09-30T00:00:00",
          "2021-09-29T00:00:00",
          "2021-09-29T00:00:00",
          "2021-09-28T00:00:00",
          "2021-09-28T00:00:00",
          "2021-09-27T00:00:00",
          "2021-09-26T00:00:00",
          "2021-09-26T00:00:00",
          "2021-09-25T00:00:00",
          "2021-09-25T00:00:00",
          "2021-09-23T00:00:00",
          "2021-09-23T00:00:00",
          "2021-09-23T00:00:00",
          "2021-09-22T00:00:00",
          "2021-09-21T00:00:00",
          "2021-09-21T00:00:00",
          "2021-09-21T00:00:00",
          "2021-09-20T00:00:00",
          "2021-09-20T00:00:00",
          "2021-09-18T00:00:00",
          "2021-09-18T00:00:00",
          "2021-09-18T00:00:00",
          "2021-09-17T00:00:00",
          "2021-09-17T00:00:00",
          "2021-09-16T00:00:00",
          "2021-09-16T00:00:00",
          "2021-09-16T00:00:00",
          "2021-09-16T00:00:00",
          "2021-09-13T00:00:00",
          "2021-09-12T00:00:00",
          "2021-09-11T00:00:00",
          "2021-09-11T00:00:00",
          "2021-09-11T00:00:00",
          "2021-09-11T00:00:00",
          "2021-09-10T00:00:00",
          "2021-09-10T00:00:00",
          "2021-09-09T00:00:00",
          "2021-09-09T00:00:00",
          "2021-09-09T00:00:00",
          "2021-09-09T00:00:00",
          "2021-09-09T00:00:00",
          "2021-09-08T00:00:00",
          "2021-09-08T00:00:00",
          "2021-09-08T00:00:00",
          "2021-09-08T00:00:00",
          "2021-09-08T00:00:00",
          "2021-09-08T00:00:00",
          "2021-09-07T00:00:00",
          "2021-09-07T00:00:00",
          "2021-09-07T00:00:00",
          "2021-09-06T00:00:00",
          "2021-09-06T00:00:00",
          "2021-09-06T00:00:00",
          "2021-09-06T00:00:00",
          "2021-09-06T00:00:00",
          "2021-09-06T00:00:00",
          "2021-09-06T00:00:00",
          "2021-09-05T00:00:00",
          "2021-09-05T00:00:00",
          "2021-09-05T00:00:00",
          "2021-09-05T00:00:00",
          "2021-09-04T00:00:00",
          "2021-09-03T00:00:00",
          "2021-09-03T00:00:00",
          "2021-09-02T00:00:00",
          "2021-09-02T00:00:00",
          "2021-09-01T00:00:00",
          "2021-09-01T00:00:00",
          "2021-09-01T00:00:00",
          "2021-09-01T00:00:00",
          "2021-09-01T00:00:00",
          "2021-09-01T00:00:00",
          "2021-09-01T00:00:00",
          "2021-09-01T00:00:00",
          "2021-09-01T00:00:00",
          "2021-09-01T00:00:00",
          "2021-09-01T00:00:00",
          "2021-08-31T00:00:00",
          "2021-08-31T00:00:00",
          "2021-08-31T00:00:00",
          "2021-08-30T00:00:00",
          "2021-08-30T00:00:00",
          "2021-08-30T00:00:00",
          "2021-08-30T00:00:00",
          "2021-08-28T00:00:00",
          "2021-08-28T00:00:00",
          "2021-08-26T00:00:00",
          "2021-08-26T00:00:00",
          "2021-08-26T00:00:00",
          "2021-08-26T00:00:00",
          "2021-08-26T00:00:00",
          "2021-08-26T00:00:00",
          "2021-08-26T00:00:00",
          "2021-08-25T00:00:00",
          "2021-08-25T00:00:00",
          "2021-08-24T00:00:00",
          "2021-08-24T00:00:00",
          "2021-08-24T00:00:00",
          "2021-08-24T00:00:00",
          "2021-08-24T00:00:00",
          "2021-08-23T00:00:00",
          "2021-08-23T00:00:00",
          "2021-08-23T00:00:00",
          "2021-08-23T00:00:00",
          "2021-08-23T00:00:00",
          "2021-08-23T00:00:00",
          "2021-08-23T00:00:00",
          "2021-08-23T00:00:00",
          "2021-08-22T00:00:00",
          "2021-08-22T00:00:00",
          "2021-08-22T00:00:00",
          "2021-08-21T00:00:00",
          "2021-08-21T00:00:00",
          "2021-08-21T00:00:00",
          "2021-08-21T00:00:00",
          "2021-08-20T00:00:00",
          "2021-08-20T00:00:00",
          "2021-08-20T00:00:00",
          "2021-08-19T00:00:00",
          "2021-08-19T00:00:00",
          "2021-08-19T00:00:00",
          "2021-08-19T00:00:00",
          "2021-08-18T00:00:00",
          "2021-08-18T00:00:00",
          "2021-08-18T00:00:00",
          "2021-08-18T00:00:00",
          "2021-08-17T00:00:00",
          "2021-08-17T00:00:00",
          "2021-08-17T00:00:00",
          "2021-08-17T00:00:00",
          "2021-08-17T00:00:00",
          "2021-08-17T00:00:00",
          "2021-08-16T00:00:00",
          "2021-08-16T00:00:00",
          "2021-08-16T00:00:00",
          "2021-08-15T00:00:00",
          "2021-08-15T00:00:00",
          "2021-08-15T00:00:00",
          "2021-08-15T00:00:00",
          "2021-08-14T00:00:00",
          "2021-08-14T00:00:00",
          "2021-08-14T00:00:00",
          "2021-08-13T00:00:00",
          "2021-08-13T00:00:00",
          "2021-08-13T00:00:00",
          "2021-08-13T00:00:00",
          "2021-08-13T00:00:00",
          "2021-08-11T00:00:00",
          "2021-08-11T00:00:00",
          "2021-08-11T00:00:00",
          "2021-08-11T00:00:00",
          "2021-08-11T00:00:00",
          "2021-08-11T00:00:00",
          "2021-08-11T00:00:00",
          "2021-08-10T00:00:00",
          "2021-08-10T00:00:00",
          "2021-08-10T00:00:00",
          "2021-08-10T00:00:00",
          "2021-08-10T00:00:00",
          "2021-08-10T00:00:00",
          "2021-08-10T00:00:00",
          "2021-08-10T00:00:00",
          "2021-08-10T00:00:00",
          "2021-08-09T00:00:00",
          "2021-08-09T00:00:00",
          "2021-08-09T00:00:00",
          "2021-08-09T00:00:00",
          "2021-08-09T00:00:00",
          "2021-08-09T00:00:00",
          "2021-08-07T00:00:00",
          "2021-08-07T00:00:00",
          "2021-08-06T00:00:00",
          "2021-08-06T00:00:00",
          "2021-08-06T00:00:00",
          "2021-08-06T00:00:00",
          "2021-08-05T00:00:00",
          "2021-08-05T00:00:00",
          "2021-08-05T00:00:00",
          "2021-08-05T00:00:00",
          "2021-08-05T00:00:00",
          "2021-08-05T00:00:00",
          "2021-08-04T00:00:00",
          "2021-08-03T00:00:00",
          "2021-08-02T00:00:00",
          "2021-08-02T00:00:00",
          "2021-08-01T00:00:00",
          "2021-08-01T00:00:00",
          "2021-08-01T00:00:00",
          "2021-07-31T00:00:00",
          "2021-07-31T00:00:00",
          "2021-07-31T00:00:00",
          "2021-07-31T00:00:00",
          "2021-07-31T00:00:00",
          "2021-07-31T00:00:00",
          "2021-07-30T00:00:00",
          "2021-07-30T00:00:00",
          "2021-07-30T00:00:00",
          "2021-07-29T00:00:00",
          "2021-07-29T00:00:00",
          "2021-07-29T00:00:00",
          "2021-07-29T00:00:00",
          "2021-07-28T00:00:00",
          "2021-07-27T00:00:00",
          "2021-07-27T00:00:00",
          "2021-07-27T00:00:00",
          "2021-07-27T00:00:00",
          "2021-07-27T00:00:00",
          "2021-07-27T00:00:00",
          "2021-07-27T00:00:00",
          "2021-07-27T00:00:00",
          "2021-07-27T00:00:00",
          "2021-07-27T00:00:00",
          "2021-07-27T00:00:00",
          "2021-07-27T00:00:00",
          "2021-07-27T00:00:00",
          "2021-07-27T00:00:00",
          "2021-07-27T00:00:00",
          "2021-07-27T00:00:00",
          "2021-07-27T00:00:00",
          "2021-07-27T00:00:00",
          "2021-07-26T00:00:00",
          "2021-07-26T00:00:00",
          "2021-07-26T00:00:00",
          "2021-07-26T00:00:00",
          "2021-07-26T00:00:00",
          "2021-07-24T00:00:00",
          "2021-07-24T00:00:00",
          "2021-07-24T00:00:00",
          "2021-07-24T00:00:00",
          "2021-07-24T00:00:00",
          "2021-07-23T00:00:00",
          "2021-07-23T00:00:00",
          "2021-07-22T00:00:00",
          "2021-07-21T00:00:00",
          "2021-07-21T00:00:00",
          "2021-07-21T00:00:00",
          "2021-07-21T00:00:00",
          "2021-07-20T00:00:00",
          "2021-07-20T00:00:00",
          "2021-07-20T00:00:00",
          "2021-07-19T00:00:00",
          "2021-07-19T00:00:00",
          "2021-07-18T00:00:00",
          "2021-07-18T00:00:00",
          "2021-07-18T00:00:00",
          "2021-07-18T00:00:00",
          "2021-07-18T00:00:00",
          "2021-07-18T00:00:00",
          "2021-07-18T00:00:00",
          "2021-07-18T00:00:00",
          "2021-07-18T00:00:00",
          "2021-07-18T00:00:00",
          "2021-07-18T00:00:00",
          "2021-07-18T00:00:00",
          "2021-07-18T00:00:00",
          "2021-07-17T00:00:00",
          "2021-07-16T00:00:00",
          "2021-07-15T00:00:00",
          "2021-07-15T00:00:00",
          "2021-07-15T00:00:00",
          "2021-07-15T00:00:00",
          "2021-07-15T00:00:00",
          "2021-07-14T00:00:00",
          "2021-07-14T00:00:00",
          "2021-07-14T00:00:00",
          "2021-07-14T00:00:00",
          "2021-07-13T00:00:00",
          "2021-07-13T00:00:00",
          "2021-07-13T00:00:00",
          "2021-07-12T00:00:00",
          "2021-07-12T00:00:00",
          "2021-07-12T00:00:00",
          "2021-07-12T00:00:00",
          "2021-07-11T00:00:00",
          "2021-07-11T00:00:00",
          "2021-07-10T00:00:00",
          "2021-07-10T00:00:00",
          "2021-07-10T00:00:00",
          "2021-07-10T00:00:00",
          "2021-07-10T00:00:00",
          "2021-07-10T00:00:00",
          "2021-07-09T00:00:00",
          "2021-07-09T00:00:00",
          "2021-07-09T00:00:00",
          "2021-07-08T00:00:00",
          "2021-07-08T00:00:00",
          "2021-07-08T00:00:00",
          "2021-07-08T00:00:00",
          "2021-07-08T00:00:00",
          "2021-07-08T00:00:00",
          "2021-07-08T00:00:00",
          "2021-07-07T00:00:00",
          "2021-07-07T00:00:00",
          "2021-07-06T00:00:00",
          "2021-07-05T00:00:00",
          "2021-07-04T00:00:00",
          "2021-07-04T00:00:00",
          "2021-07-04T00:00:00",
          "2021-07-03T00:00:00",
          "2021-07-03T00:00:00",
          "2021-07-02T00:00:00",
          "2021-07-02T00:00:00",
          "2021-07-02T00:00:00",
          "2021-07-01T00:00:00",
          "2021-07-01T00:00:00",
          "2021-07-01T00:00:00",
          "2021-07-01T00:00:00",
          "2021-07-01T00:00:00",
          "2021-06-30T00:00:00",
          "2021-06-30T00:00:00",
          "2021-06-30T00:00:00",
          "2021-06-30T00:00:00",
          "2021-06-30T00:00:00",
          "2021-06-30T00:00:00",
          "2021-06-30T00:00:00",
          "2021-06-29T00:00:00",
          "2021-06-29T00:00:00",
          "2021-06-28T00:00:00",
          "2021-06-27T00:00:00",
          "2021-06-27T00:00:00",
          "2021-06-26T00:00:00",
          "2021-06-26T00:00:00",
          "2021-06-26T00:00:00",
          "2021-06-26T00:00:00",
          "2021-06-26T00:00:00",
          "2021-06-25T00:00:00",
          "2021-06-25T00:00:00",
          "2021-06-25T00:00:00",
          "2021-06-25T00:00:00",
          "2021-06-25T00:00:00",
          "2021-06-25T00:00:00",
          "2021-06-25T00:00:00",
          "2021-06-25T00:00:00",
          "2021-06-25T00:00:00",
          "2021-06-24T00:00:00",
          "2021-06-24T00:00:00",
          "2021-06-24T00:00:00",
          "2021-06-24T00:00:00",
          "2021-06-23T00:00:00",
          "2021-06-23T00:00:00",
          "2021-06-23T00:00:00",
          "2021-06-23T00:00:00",
          "2021-06-23T00:00:00",
          "2021-06-22T00:00:00",
          "2021-06-22T00:00:00",
          "2021-06-22T00:00:00",
          "2021-06-21T00:00:00",
          "2021-06-21T00:00:00",
          "2021-06-21T00:00:00",
          "2021-06-21T00:00:00",
          "2021-06-21T00:00:00",
          "2021-06-20T00:00:00",
          "2021-06-19T00:00:00",
          "2021-06-19T00:00:00",
          "2021-06-19T00:00:00",
          "2021-06-19T00:00:00",
          "2021-06-19T00:00:00",
          "2021-06-19T00:00:00",
          "2021-06-19T00:00:00",
          "2021-06-19T00:00:00",
          "2021-06-18T00:00:00",
          "2021-06-18T00:00:00",
          "2021-06-18T00:00:00",
          "2021-06-18T00:00:00",
          "2021-06-18T00:00:00",
          "2021-06-18T00:00:00",
          "2021-06-18T00:00:00",
          "2021-06-18T00:00:00",
          "2021-06-17T00:00:00",
          "2021-06-17T00:00:00",
          "2021-06-16T00:00:00",
          "2021-06-16T00:00:00",
          "2021-06-16T00:00:00",
          "2021-06-16T00:00:00",
          "2021-06-16T00:00:00",
          "2021-06-16T00:00:00",
          "2021-06-16T00:00:00",
          "2021-06-15T00:00:00",
          "2021-06-15T00:00:00",
          "2021-06-15T00:00:00",
          "2021-06-15T00:00:00",
          "2021-06-15T00:00:00",
          "2021-06-14T00:00:00",
          "2021-06-14T00:00:00",
          "2021-06-13T00:00:00",
          "2021-06-13T00:00:00",
          "2021-06-13T00:00:00",
          "2021-06-13T00:00:00",
          "2021-06-13T00:00:00",
          "2021-06-13T00:00:00",
          "2021-06-13T00:00:00",
          "2021-06-12T00:00:00",
          "2021-06-11T00:00:00",
          "2021-06-11T00:00:00",
          "2021-06-11T00:00:00",
          "2021-06-10T00:00:00",
          "2021-06-10T00:00:00",
          "2021-06-09T00:00:00",
          "2021-06-09T00:00:00",
          "2021-06-09T00:00:00",
          "2021-06-08T00:00:00",
          "2021-06-08T00:00:00",
          "2021-06-08T00:00:00",
          "2021-06-08T00:00:00",
          "2021-06-07T00:00:00",
          "2021-06-07T00:00:00",
          "2021-06-07T00:00:00",
          "2021-06-07T00:00:00",
          "2021-06-07T00:00:00",
          "2021-06-07T00:00:00",
          "2021-06-06T00:00:00",
          "2021-06-06T00:00:00",
          "2021-06-06T00:00:00",
          "2021-06-06T00:00:00",
          "2021-06-06T00:00:00",
          "2021-06-05T00:00:00",
          "2021-06-05T00:00:00",
          "2021-06-05T00:00:00",
          "2021-06-05T00:00:00",
          "2021-06-05T00:00:00",
          "2021-06-05T00:00:00",
          "2021-06-04T00:00:00",
          "2021-06-04T00:00:00",
          "2021-06-04T00:00:00",
          "2021-06-04T00:00:00",
          "2021-06-04T00:00:00",
          "2021-06-04T00:00:00",
          "2021-06-03T00:00:00",
          "2021-06-03T00:00:00"
         ],
         "xaxis": "x",
         "yaxis": "y"
        }
       ],
       "layout": {
        "barmode": "relative",
        "legend": {
         "tracegroupgap": 0
        },
        "margin": {
         "t": 60
        },
        "template": {
         "data": {
          "bar": [
           {
            "error_x": {
             "color": "#2a3f5f"
            },
            "error_y": {
             "color": "#2a3f5f"
            },
            "marker": {
             "line": {
              "color": "#E5ECF6",
              "width": 0.5
             },
             "pattern": {
              "fillmode": "overlay",
              "size": 10,
              "solidity": 0.2
             }
            },
            "type": "bar"
           }
          ],
          "barpolar": [
           {
            "marker": {
             "line": {
              "color": "#E5ECF6",
              "width": 0.5
             },
             "pattern": {
              "fillmode": "overlay",
              "size": 10,
              "solidity": 0.2
             }
            },
            "type": "barpolar"
           }
          ],
          "carpet": [
           {
            "aaxis": {
             "endlinecolor": "#2a3f5f",
             "gridcolor": "white",
             "linecolor": "white",
             "minorgridcolor": "white",
             "startlinecolor": "#2a3f5f"
            },
            "baxis": {
             "endlinecolor": "#2a3f5f",
             "gridcolor": "white",
             "linecolor": "white",
             "minorgridcolor": "white",
             "startlinecolor": "#2a3f5f"
            },
            "type": "carpet"
           }
          ],
          "choropleth": [
           {
            "colorbar": {
             "outlinewidth": 0,
             "ticks": ""
            },
            "type": "choropleth"
           }
          ],
          "contour": [
           {
            "colorbar": {
             "outlinewidth": 0,
             "ticks": ""
            },
            "colorscale": [
             [
              0,
              "#0d0887"
             ],
             [
              0.1111111111111111,
              "#46039f"
             ],
             [
              0.2222222222222222,
              "#7201a8"
             ],
             [
              0.3333333333333333,
              "#9c179e"
             ],
             [
              0.4444444444444444,
              "#bd3786"
             ],
             [
              0.5555555555555556,
              "#d8576b"
             ],
             [
              0.6666666666666666,
              "#ed7953"
             ],
             [
              0.7777777777777778,
              "#fb9f3a"
             ],
             [
              0.8888888888888888,
              "#fdca26"
             ],
             [
              1,
              "#f0f921"
             ]
            ],
            "type": "contour"
           }
          ],
          "contourcarpet": [
           {
            "colorbar": {
             "outlinewidth": 0,
             "ticks": ""
            },
            "type": "contourcarpet"
           }
          ],
          "heatmap": [
           {
            "colorbar": {
             "outlinewidth": 0,
             "ticks": ""
            },
            "colorscale": [
             [
              0,
              "#0d0887"
             ],
             [
              0.1111111111111111,
              "#46039f"
             ],
             [
              0.2222222222222222,
              "#7201a8"
             ],
             [
              0.3333333333333333,
              "#9c179e"
             ],
             [
              0.4444444444444444,
              "#bd3786"
             ],
             [
              0.5555555555555556,
              "#d8576b"
             ],
             [
              0.6666666666666666,
              "#ed7953"
             ],
             [
              0.7777777777777778,
              "#fb9f3a"
             ],
             [
              0.8888888888888888,
              "#fdca26"
             ],
             [
              1,
              "#f0f921"
             ]
            ],
            "type": "heatmap"
           }
          ],
          "heatmapgl": [
           {
            "colorbar": {
             "outlinewidth": 0,
             "ticks": ""
            },
            "colorscale": [
             [
              0,
              "#0d0887"
             ],
             [
              0.1111111111111111,
              "#46039f"
             ],
             [
              0.2222222222222222,
              "#7201a8"
             ],
             [
              0.3333333333333333,
              "#9c179e"
             ],
             [
              0.4444444444444444,
              "#bd3786"
             ],
             [
              0.5555555555555556,
              "#d8576b"
             ],
             [
              0.6666666666666666,
              "#ed7953"
             ],
             [
              0.7777777777777778,
              "#fb9f3a"
             ],
             [
              0.8888888888888888,
              "#fdca26"
             ],
             [
              1,
              "#f0f921"
             ]
            ],
            "type": "heatmapgl"
           }
          ],
          "histogram": [
           {
            "marker": {
             "pattern": {
              "fillmode": "overlay",
              "size": 10,
              "solidity": 0.2
             }
            },
            "type": "histogram"
           }
          ],
          "histogram2d": [
           {
            "colorbar": {
             "outlinewidth": 0,
             "ticks": ""
            },
            "colorscale": [
             [
              0,
              "#0d0887"
             ],
             [
              0.1111111111111111,
              "#46039f"
             ],
             [
              0.2222222222222222,
              "#7201a8"
             ],
             [
              0.3333333333333333,
              "#9c179e"
             ],
             [
              0.4444444444444444,
              "#bd3786"
             ],
             [
              0.5555555555555556,
              "#d8576b"
             ],
             [
              0.6666666666666666,
              "#ed7953"
             ],
             [
              0.7777777777777778,
              "#fb9f3a"
             ],
             [
              0.8888888888888888,
              "#fdca26"
             ],
             [
              1,
              "#f0f921"
             ]
            ],
            "type": "histogram2d"
           }
          ],
          "histogram2dcontour": [
           {
            "colorbar": {
             "outlinewidth": 0,
             "ticks": ""
            },
            "colorscale": [
             [
              0,
              "#0d0887"
             ],
             [
              0.1111111111111111,
              "#46039f"
             ],
             [
              0.2222222222222222,
              "#7201a8"
             ],
             [
              0.3333333333333333,
              "#9c179e"
             ],
             [
              0.4444444444444444,
              "#bd3786"
             ],
             [
              0.5555555555555556,
              "#d8576b"
             ],
             [
              0.6666666666666666,
              "#ed7953"
             ],
             [
              0.7777777777777778,
              "#fb9f3a"
             ],
             [
              0.8888888888888888,
              "#fdca26"
             ],
             [
              1,
              "#f0f921"
             ]
            ],
            "type": "histogram2dcontour"
           }
          ],
          "mesh3d": [
           {
            "colorbar": {
             "outlinewidth": 0,
             "ticks": ""
            },
            "type": "mesh3d"
           }
          ],
          "parcoords": [
           {
            "line": {
             "colorbar": {
              "outlinewidth": 0,
              "ticks": ""
             }
            },
            "type": "parcoords"
           }
          ],
          "pie": [
           {
            "automargin": true,
            "type": "pie"
           }
          ],
          "scatter": [
           {
            "marker": {
             "colorbar": {
              "outlinewidth": 0,
              "ticks": ""
             }
            },
            "type": "scatter"
           }
          ],
          "scatter3d": [
           {
            "line": {
             "colorbar": {
              "outlinewidth": 0,
              "ticks": ""
             }
            },
            "marker": {
             "colorbar": {
              "outlinewidth": 0,
              "ticks": ""
             }
            },
            "type": "scatter3d"
           }
          ],
          "scattercarpet": [
           {
            "marker": {
             "colorbar": {
              "outlinewidth": 0,
              "ticks": ""
             }
            },
            "type": "scattercarpet"
           }
          ],
          "scattergeo": [
           {
            "marker": {
             "colorbar": {
              "outlinewidth": 0,
              "ticks": ""
             }
            },
            "type": "scattergeo"
           }
          ],
          "scattergl": [
           {
            "marker": {
             "colorbar": {
              "outlinewidth": 0,
              "ticks": ""
             }
            },
            "type": "scattergl"
           }
          ],
          "scattermapbox": [
           {
            "marker": {
             "colorbar": {
              "outlinewidth": 0,
              "ticks": ""
             }
            },
            "type": "scattermapbox"
           }
          ],
          "scatterpolar": [
           {
            "marker": {
             "colorbar": {
              "outlinewidth": 0,
              "ticks": ""
             }
            },
            "type": "scatterpolar"
           }
          ],
          "scatterpolargl": [
           {
            "marker": {
             "colorbar": {
              "outlinewidth": 0,
              "ticks": ""
             }
            },
            "type": "scatterpolargl"
           }
          ],
          "scatterternary": [
           {
            "marker": {
             "colorbar": {
              "outlinewidth": 0,
              "ticks": ""
             }
            },
            "type": "scatterternary"
           }
          ],
          "surface": [
           {
            "colorbar": {
             "outlinewidth": 0,
             "ticks": ""
            },
            "colorscale": [
             [
              0,
              "#0d0887"
             ],
             [
              0.1111111111111111,
              "#46039f"
             ],
             [
              0.2222222222222222,
              "#7201a8"
             ],
             [
              0.3333333333333333,
              "#9c179e"
             ],
             [
              0.4444444444444444,
              "#bd3786"
             ],
             [
              0.5555555555555556,
              "#d8576b"
             ],
             [
              0.6666666666666666,
              "#ed7953"
             ],
             [
              0.7777777777777778,
              "#fb9f3a"
             ],
             [
              0.8888888888888888,
              "#fdca26"
             ],
             [
              1,
              "#f0f921"
             ]
            ],
            "type": "surface"
           }
          ],
          "table": [
           {
            "cells": {
             "fill": {
              "color": "#EBF0F8"
             },
             "line": {
              "color": "white"
             }
            },
            "header": {
             "fill": {
              "color": "#C8D4E3"
             },
             "line": {
              "color": "white"
             }
            },
            "type": "table"
           }
          ]
         },
         "layout": {
          "annotationdefaults": {
           "arrowcolor": "#2a3f5f",
           "arrowhead": 0,
           "arrowwidth": 1
          },
          "autotypenumbers": "strict",
          "coloraxis": {
           "colorbar": {
            "outlinewidth": 0,
            "ticks": ""
           }
          },
          "colorscale": {
           "diverging": [
            [
             0,
             "#8e0152"
            ],
            [
             0.1,
             "#c51b7d"
            ],
            [
             0.2,
             "#de77ae"
            ],
            [
             0.3,
             "#f1b6da"
            ],
            [
             0.4,
             "#fde0ef"
            ],
            [
             0.5,
             "#f7f7f7"
            ],
            [
             0.6,
             "#e6f5d0"
            ],
            [
             0.7,
             "#b8e186"
            ],
            [
             0.8,
             "#7fbc41"
            ],
            [
             0.9,
             "#4d9221"
            ],
            [
             1,
             "#276419"
            ]
           ],
           "sequential": [
            [
             0,
             "#0d0887"
            ],
            [
             0.1111111111111111,
             "#46039f"
            ],
            [
             0.2222222222222222,
             "#7201a8"
            ],
            [
             0.3333333333333333,
             "#9c179e"
            ],
            [
             0.4444444444444444,
             "#bd3786"
            ],
            [
             0.5555555555555556,
             "#d8576b"
            ],
            [
             0.6666666666666666,
             "#ed7953"
            ],
            [
             0.7777777777777778,
             "#fb9f3a"
            ],
            [
             0.8888888888888888,
             "#fdca26"
            ],
            [
             1,
             "#f0f921"
            ]
           ],
           "sequentialminus": [
            [
             0,
             "#0d0887"
            ],
            [
             0.1111111111111111,
             "#46039f"
            ],
            [
             0.2222222222222222,
             "#7201a8"
            ],
            [
             0.3333333333333333,
             "#9c179e"
            ],
            [
             0.4444444444444444,
             "#bd3786"
            ],
            [
             0.5555555555555556,
             "#d8576b"
            ],
            [
             0.6666666666666666,
             "#ed7953"
            ],
            [
             0.7777777777777778,
             "#fb9f3a"
            ],
            [
             0.8888888888888888,
             "#fdca26"
            ],
            [
             1,
             "#f0f921"
            ]
           ]
          },
          "colorway": [
           "#636efa",
           "#EF553B",
           "#00cc96",
           "#ab63fa",
           "#FFA15A",
           "#19d3f3",
           "#FF6692",
           "#B6E880",
           "#FF97FF",
           "#FECB52"
          ],
          "font": {
           "color": "#2a3f5f"
          },
          "geo": {
           "bgcolor": "white",
           "lakecolor": "white",
           "landcolor": "#E5ECF6",
           "showlakes": true,
           "showland": true,
           "subunitcolor": "white"
          },
          "hoverlabel": {
           "align": "left"
          },
          "hovermode": "closest",
          "mapbox": {
           "style": "light"
          },
          "paper_bgcolor": "white",
          "plot_bgcolor": "#E5ECF6",
          "polar": {
           "angularaxis": {
            "gridcolor": "white",
            "linecolor": "white",
            "ticks": ""
           },
           "bgcolor": "#E5ECF6",
           "radialaxis": {
            "gridcolor": "white",
            "linecolor": "white",
            "ticks": ""
           }
          },
          "scene": {
           "xaxis": {
            "backgroundcolor": "#E5ECF6",
            "gridcolor": "white",
            "gridwidth": 2,
            "linecolor": "white",
            "showbackground": true,
            "ticks": "",
            "zerolinecolor": "white"
           },
           "yaxis": {
            "backgroundcolor": "#E5ECF6",
            "gridcolor": "white",
            "gridwidth": 2,
            "linecolor": "white",
            "showbackground": true,
            "ticks": "",
            "zerolinecolor": "white"
           },
           "zaxis": {
            "backgroundcolor": "#E5ECF6",
            "gridcolor": "white",
            "gridwidth": 2,
            "linecolor": "white",
            "showbackground": true,
            "ticks": "",
            "zerolinecolor": "white"
           }
          },
          "shapedefaults": {
           "line": {
            "color": "#2a3f5f"
           }
          },
          "ternary": {
           "aaxis": {
            "gridcolor": "white",
            "linecolor": "white",
            "ticks": ""
           },
           "baxis": {
            "gridcolor": "white",
            "linecolor": "white",
            "ticks": ""
           },
           "bgcolor": "#E5ECF6",
           "caxis": {
            "gridcolor": "white",
            "linecolor": "white",
            "ticks": ""
           }
          },
          "title": {
           "x": 0.05
          },
          "xaxis": {
           "automargin": true,
           "gridcolor": "white",
           "linecolor": "white",
           "ticks": "",
           "title": {
            "standoff": 15
           },
           "zerolinecolor": "white",
           "zerolinewidth": 2
          },
          "yaxis": {
           "automargin": true,
           "gridcolor": "white",
           "linecolor": "white",
           "ticks": "",
           "title": {
            "standoff": 15
           },
           "zerolinecolor": "white",
           "zerolinewidth": 2
          }
         }
        },
        "xaxis": {
         "anchor": "y",
         "domain": [
          0,
          1
         ],
         "title": {
          "text": "date"
         }
        },
        "yaxis": {
         "anchor": "x",
         "domain": [
          0,
          1
         ],
         "title": {
          "text": "count"
         }
        }
       }
      }
     },
     "metadata": {},
     "output_type": "display_data"
    }
   ],
   "source": [
    "fig = px.histogram(df, x=df.index)\n",
    "fig.show()"
   ]
  },
  {
   "cell_type": "markdown",
   "metadata": {},
   "source": [
    "### Create labels\n",
    "Here we labeled price increased as `1` and price decreased as `0` in a day"
   ]
  },
  {
   "cell_type": "code",
   "execution_count": 23,
   "metadata": {},
   "outputs": [],
   "source": [
    "# Label 1 for price increase, 0 for price decrease\n",
    "df['movement'] = df.apply(lambda x: 1 if x['Close/Last'] - x['Open'] >= 0 else 0 ,axis=1)"
   ]
  },
  {
   "cell_type": "code",
   "execution_count": 24,
   "metadata": {},
   "outputs": [],
   "source": [
    "# Converting index as datetime object\n",
    "df.index = pd.to_datetime(df.index)"
   ]
  },
  {
   "cell_type": "code",
   "execution_count": 25,
   "metadata": {},
   "outputs": [],
   "source": [
    "# Optional: We may perform sentiment analysis on weekly basis\n",
    "df_resample = df.resample('D').mean().dropna()"
   ]
  },
  {
   "cell_type": "code",
   "execution_count": 26,
   "metadata": {},
   "outputs": [
    {
     "data": {
      "application/vnd.plotly.v1+json": {
       "config": {
        "plotlyServerURL": "https://plot.ly"
       },
       "data": [
        {
         "alignmentgroup": "True",
         "bingroup": "x",
         "hovertemplate": "date=%{x}<br>count=%{y}<extra></extra>",
         "legendgroup": "",
         "marker": {
          "color": "#636efa",
          "pattern": {
           "shape": ""
          }
         },
         "name": "",
         "offsetgroup": "",
         "orientation": "v",
         "showlegend": false,
         "type": "histogram",
         "x": [
          "2021-06-03T00:00:00",
          "2021-06-04T00:00:00",
          "2021-06-05T00:00:00",
          "2021-06-06T00:00:00",
          "2021-06-07T00:00:00",
          "2021-06-08T00:00:00",
          "2021-06-09T00:00:00",
          "2021-06-10T00:00:00",
          "2021-06-11T00:00:00",
          "2021-06-12T00:00:00",
          "2021-06-13T00:00:00",
          "2021-06-14T00:00:00",
          "2021-06-15T00:00:00",
          "2021-06-16T00:00:00",
          "2021-06-17T00:00:00",
          "2021-06-18T00:00:00",
          "2021-06-19T00:00:00",
          "2021-06-20T00:00:00",
          "2021-06-21T00:00:00",
          "2021-06-22T00:00:00",
          "2021-06-23T00:00:00",
          "2021-06-24T00:00:00",
          "2021-06-25T00:00:00",
          "2021-06-26T00:00:00",
          "2021-06-27T00:00:00",
          "2021-06-28T00:00:00",
          "2021-06-29T00:00:00",
          "2021-06-30T00:00:00",
          "2021-07-01T00:00:00",
          "2021-07-02T00:00:00",
          "2021-07-03T00:00:00",
          "2021-07-04T00:00:00",
          "2021-07-05T00:00:00",
          "2021-07-06T00:00:00",
          "2021-07-07T00:00:00",
          "2021-07-08T00:00:00",
          "2021-07-09T00:00:00",
          "2021-07-10T00:00:00",
          "2021-07-11T00:00:00",
          "2021-07-12T00:00:00",
          "2021-07-13T00:00:00",
          "2021-07-14T00:00:00",
          "2021-07-15T00:00:00",
          "2021-07-16T00:00:00",
          "2021-07-17T00:00:00",
          "2021-07-18T00:00:00",
          "2021-07-19T00:00:00",
          "2021-07-20T00:00:00",
          "2021-07-21T00:00:00",
          "2021-07-22T00:00:00",
          "2021-07-23T00:00:00",
          "2021-07-24T00:00:00",
          "2021-07-26T00:00:00",
          "2021-07-27T00:00:00",
          "2021-07-28T00:00:00",
          "2021-07-29T00:00:00",
          "2021-07-30T00:00:00",
          "2021-07-31T00:00:00",
          "2021-08-01T00:00:00",
          "2021-08-02T00:00:00",
          "2021-08-03T00:00:00",
          "2021-08-04T00:00:00",
          "2021-08-05T00:00:00",
          "2021-08-06T00:00:00",
          "2021-08-07T00:00:00",
          "2021-08-09T00:00:00",
          "2021-08-10T00:00:00",
          "2021-08-11T00:00:00",
          "2021-08-13T00:00:00",
          "2021-08-14T00:00:00",
          "2021-08-15T00:00:00",
          "2021-08-16T00:00:00",
          "2021-08-17T00:00:00",
          "2021-08-18T00:00:00",
          "2021-08-19T00:00:00",
          "2021-08-20T00:00:00",
          "2021-08-21T00:00:00",
          "2021-08-22T00:00:00",
          "2021-08-23T00:00:00",
          "2021-08-24T00:00:00",
          "2021-08-25T00:00:00",
          "2021-08-26T00:00:00",
          "2021-08-28T00:00:00",
          "2021-08-30T00:00:00",
          "2021-08-31T00:00:00",
          "2021-09-01T00:00:00",
          "2021-09-02T00:00:00",
          "2021-09-03T00:00:00",
          "2021-09-04T00:00:00",
          "2021-09-05T00:00:00",
          "2021-09-06T00:00:00",
          "2021-09-07T00:00:00",
          "2021-09-08T00:00:00",
          "2021-09-09T00:00:00",
          "2021-09-10T00:00:00",
          "2021-09-11T00:00:00",
          "2021-09-12T00:00:00",
          "2021-09-13T00:00:00",
          "2021-09-16T00:00:00",
          "2021-09-17T00:00:00",
          "2021-09-18T00:00:00",
          "2021-09-20T00:00:00",
          "2021-09-21T00:00:00",
          "2021-09-22T00:00:00",
          "2021-09-23T00:00:00",
          "2021-09-25T00:00:00",
          "2021-09-26T00:00:00",
          "2021-09-27T00:00:00",
          "2021-09-28T00:00:00",
          "2021-09-29T00:00:00",
          "2021-09-30T00:00:00",
          "2021-10-02T00:00:00",
          "2021-10-03T00:00:00",
          "2021-10-04T00:00:00",
          "2021-10-06T00:00:00",
          "2021-10-08T00:00:00",
          "2021-10-09T00:00:00",
          "2021-10-12T00:00:00",
          "2021-10-13T00:00:00",
          "2021-10-14T00:00:00",
          "2021-10-15T00:00:00",
          "2021-10-16T00:00:00",
          "2021-10-17T00:00:00",
          "2021-10-18T00:00:00",
          "2021-10-19T00:00:00",
          "2021-10-20T00:00:00",
          "2021-10-21T00:00:00",
          "2021-10-22T00:00:00",
          "2021-10-23T00:00:00",
          "2021-10-24T00:00:00",
          "2021-10-26T00:00:00",
          "2021-10-28T00:00:00",
          "2021-10-29T00:00:00",
          "2021-10-31T00:00:00",
          "2021-11-01T00:00:00",
          "2021-11-02T00:00:00",
          "2021-11-03T00:00:00",
          "2021-11-04T00:00:00",
          "2021-11-05T00:00:00",
          "2021-11-06T00:00:00",
          "2021-11-07T00:00:00",
          "2021-11-08T00:00:00",
          "2021-11-09T00:00:00",
          "2021-11-10T00:00:00",
          "2021-11-11T00:00:00",
          "2021-11-12T00:00:00",
          "2021-11-13T00:00:00",
          "2021-11-14T00:00:00",
          "2021-11-15T00:00:00",
          "2021-11-16T00:00:00",
          "2021-11-17T00:00:00",
          "2021-11-18T00:00:00",
          "2021-11-19T00:00:00",
          "2021-11-20T00:00:00",
          "2021-11-21T00:00:00",
          "2021-11-22T00:00:00",
          "2021-11-23T00:00:00",
          "2021-11-24T00:00:00",
          "2021-11-25T00:00:00",
          "2021-11-26T00:00:00",
          "2021-11-27T00:00:00",
          "2021-11-28T00:00:00",
          "2021-11-29T00:00:00",
          "2021-11-30T00:00:00",
          "2021-12-01T00:00:00",
          "2021-12-03T00:00:00",
          "2021-12-04T00:00:00",
          "2021-12-06T00:00:00",
          "2021-12-07T00:00:00",
          "2021-12-08T00:00:00",
          "2021-12-09T00:00:00",
          "2021-12-10T00:00:00",
          "2021-12-11T00:00:00",
          "2021-12-12T00:00:00",
          "2021-12-13T00:00:00",
          "2021-12-14T00:00:00",
          "2021-12-15T00:00:00",
          "2021-12-16T00:00:00",
          "2021-12-17T00:00:00",
          "2021-12-18T00:00:00",
          "2021-12-20T00:00:00",
          "2021-12-21T00:00:00",
          "2021-12-22T00:00:00",
          "2021-12-23T00:00:00",
          "2021-12-24T00:00:00",
          "2021-12-25T00:00:00",
          "2021-12-26T00:00:00",
          "2021-12-27T00:00:00",
          "2021-12-28T00:00:00",
          "2021-12-29T00:00:00",
          "2021-12-30T00:00:00",
          "2021-12-31T00:00:00",
          "2022-01-01T00:00:00",
          "2022-01-02T00:00:00",
          "2022-01-03T00:00:00",
          "2022-01-04T00:00:00",
          "2022-01-05T00:00:00",
          "2022-01-06T00:00:00",
          "2022-01-08T00:00:00",
          "2022-01-09T00:00:00",
          "2022-01-10T00:00:00",
          "2022-01-11T00:00:00",
          "2022-01-12T00:00:00",
          "2022-01-13T00:00:00",
          "2022-01-14T00:00:00",
          "2022-01-15T00:00:00",
          "2022-01-16T00:00:00",
          "2022-01-17T00:00:00",
          "2022-01-18T00:00:00",
          "2022-01-19T00:00:00",
          "2022-01-20T00:00:00",
          "2022-01-21T00:00:00",
          "2022-01-22T00:00:00",
          "2022-01-23T00:00:00",
          "2022-01-24T00:00:00",
          "2022-01-25T00:00:00",
          "2022-01-26T00:00:00",
          "2022-01-27T00:00:00",
          "2022-01-28T00:00:00",
          "2022-01-29T00:00:00",
          "2022-01-31T00:00:00",
          "2022-02-01T00:00:00",
          "2022-02-02T00:00:00",
          "2022-02-03T00:00:00",
          "2022-02-04T00:00:00",
          "2022-02-05T00:00:00",
          "2022-02-06T00:00:00",
          "2022-02-07T00:00:00",
          "2022-02-08T00:00:00",
          "2022-02-09T00:00:00",
          "2022-02-10T00:00:00",
          "2022-02-11T00:00:00",
          "2022-02-12T00:00:00",
          "2022-02-13T00:00:00",
          "2022-02-14T00:00:00",
          "2022-02-15T00:00:00",
          "2022-02-16T00:00:00",
          "2022-02-17T00:00:00",
          "2022-02-18T00:00:00",
          "2022-02-19T00:00:00",
          "2022-02-20T00:00:00",
          "2022-02-21T00:00:00",
          "2022-02-22T00:00:00",
          "2022-02-23T00:00:00",
          "2022-02-24T00:00:00",
          "2022-02-25T00:00:00",
          "2022-02-26T00:00:00",
          "2022-02-27T00:00:00",
          "2022-02-28T00:00:00",
          "2022-03-01T00:00:00",
          "2022-03-02T00:00:00",
          "2022-03-03T00:00:00",
          "2022-03-06T00:00:00",
          "2022-03-07T00:00:00",
          "2022-03-08T00:00:00",
          "2022-03-09T00:00:00",
          "2022-03-10T00:00:00",
          "2022-03-11T00:00:00",
          "2022-03-12T00:00:00",
          "2022-03-13T00:00:00",
          "2022-03-14T00:00:00",
          "2022-03-17T00:00:00",
          "2022-03-18T00:00:00",
          "2022-03-19T00:00:00",
          "2022-03-20T00:00:00",
          "2022-03-21T00:00:00",
          "2022-03-22T00:00:00",
          "2022-03-24T00:00:00",
          "2022-03-25T00:00:00",
          "2022-03-26T00:00:00",
          "2022-03-27T00:00:00",
          "2022-03-28T00:00:00",
          "2022-03-29T00:00:00",
          "2022-03-30T00:00:00",
          "2022-03-31T00:00:00",
          "2022-04-01T00:00:00",
          "2022-04-02T00:00:00",
          "2022-04-03T00:00:00",
          "2022-04-04T00:00:00",
          "2022-04-05T00:00:00",
          "2022-04-06T00:00:00",
          "2022-04-07T00:00:00",
          "2022-04-08T00:00:00",
          "2022-04-09T00:00:00",
          "2022-04-10T00:00:00",
          "2022-04-11T00:00:00",
          "2022-04-12T00:00:00",
          "2022-04-13T00:00:00",
          "2022-04-14T00:00:00",
          "2022-04-15T00:00:00",
          "2022-04-16T00:00:00",
          "2022-04-17T00:00:00",
          "2022-04-18T00:00:00",
          "2022-04-19T00:00:00",
          "2022-04-20T00:00:00",
          "2022-04-21T00:00:00",
          "2022-04-22T00:00:00",
          "2022-04-23T00:00:00",
          "2022-04-24T00:00:00",
          "2022-04-25T00:00:00",
          "2022-04-26T00:00:00",
          "2022-04-27T00:00:00",
          "2022-04-28T00:00:00",
          "2022-04-29T00:00:00",
          "2022-04-30T00:00:00",
          "2022-05-01T00:00:00",
          "2022-05-02T00:00:00",
          "2022-05-03T00:00:00",
          "2022-05-04T00:00:00",
          "2022-05-05T00:00:00",
          "2022-05-06T00:00:00",
          "2022-05-07T00:00:00",
          "2022-05-08T00:00:00",
          "2022-05-09T00:00:00",
          "2022-05-10T00:00:00",
          "2022-05-11T00:00:00",
          "2022-05-12T00:00:00",
          "2022-05-13T00:00:00",
          "2022-05-14T00:00:00",
          "2022-05-15T00:00:00",
          "2022-05-16T00:00:00",
          "2022-05-17T00:00:00",
          "2022-05-18T00:00:00",
          "2022-05-19T00:00:00",
          "2022-05-20T00:00:00",
          "2022-05-21T00:00:00",
          "2022-05-22T00:00:00",
          "2022-05-23T00:00:00",
          "2022-05-24T00:00:00",
          "2022-05-25T00:00:00",
          "2022-05-26T00:00:00",
          "2022-05-27T00:00:00",
          "2022-05-28T00:00:00",
          "2022-05-29T00:00:00",
          "2022-05-30T00:00:00",
          "2022-05-31T00:00:00",
          "2022-06-01T00:00:00",
          "2022-06-02T00:00:00"
         ],
         "xaxis": "x",
         "yaxis": "y"
        }
       ],
       "layout": {
        "barmode": "relative",
        "legend": {
         "tracegroupgap": 0
        },
        "margin": {
         "t": 60
        },
        "template": {
         "data": {
          "bar": [
           {
            "error_x": {
             "color": "#2a3f5f"
            },
            "error_y": {
             "color": "#2a3f5f"
            },
            "marker": {
             "line": {
              "color": "#E5ECF6",
              "width": 0.5
             },
             "pattern": {
              "fillmode": "overlay",
              "size": 10,
              "solidity": 0.2
             }
            },
            "type": "bar"
           }
          ],
          "barpolar": [
           {
            "marker": {
             "line": {
              "color": "#E5ECF6",
              "width": 0.5
             },
             "pattern": {
              "fillmode": "overlay",
              "size": 10,
              "solidity": 0.2
             }
            },
            "type": "barpolar"
           }
          ],
          "carpet": [
           {
            "aaxis": {
             "endlinecolor": "#2a3f5f",
             "gridcolor": "white",
             "linecolor": "white",
             "minorgridcolor": "white",
             "startlinecolor": "#2a3f5f"
            },
            "baxis": {
             "endlinecolor": "#2a3f5f",
             "gridcolor": "white",
             "linecolor": "white",
             "minorgridcolor": "white",
             "startlinecolor": "#2a3f5f"
            },
            "type": "carpet"
           }
          ],
          "choropleth": [
           {
            "colorbar": {
             "outlinewidth": 0,
             "ticks": ""
            },
            "type": "choropleth"
           }
          ],
          "contour": [
           {
            "colorbar": {
             "outlinewidth": 0,
             "ticks": ""
            },
            "colorscale": [
             [
              0,
              "#0d0887"
             ],
             [
              0.1111111111111111,
              "#46039f"
             ],
             [
              0.2222222222222222,
              "#7201a8"
             ],
             [
              0.3333333333333333,
              "#9c179e"
             ],
             [
              0.4444444444444444,
              "#bd3786"
             ],
             [
              0.5555555555555556,
              "#d8576b"
             ],
             [
              0.6666666666666666,
              "#ed7953"
             ],
             [
              0.7777777777777778,
              "#fb9f3a"
             ],
             [
              0.8888888888888888,
              "#fdca26"
             ],
             [
              1,
              "#f0f921"
             ]
            ],
            "type": "contour"
           }
          ],
          "contourcarpet": [
           {
            "colorbar": {
             "outlinewidth": 0,
             "ticks": ""
            },
            "type": "contourcarpet"
           }
          ],
          "heatmap": [
           {
            "colorbar": {
             "outlinewidth": 0,
             "ticks": ""
            },
            "colorscale": [
             [
              0,
              "#0d0887"
             ],
             [
              0.1111111111111111,
              "#46039f"
             ],
             [
              0.2222222222222222,
              "#7201a8"
             ],
             [
              0.3333333333333333,
              "#9c179e"
             ],
             [
              0.4444444444444444,
              "#bd3786"
             ],
             [
              0.5555555555555556,
              "#d8576b"
             ],
             [
              0.6666666666666666,
              "#ed7953"
             ],
             [
              0.7777777777777778,
              "#fb9f3a"
             ],
             [
              0.8888888888888888,
              "#fdca26"
             ],
             [
              1,
              "#f0f921"
             ]
            ],
            "type": "heatmap"
           }
          ],
          "heatmapgl": [
           {
            "colorbar": {
             "outlinewidth": 0,
             "ticks": ""
            },
            "colorscale": [
             [
              0,
              "#0d0887"
             ],
             [
              0.1111111111111111,
              "#46039f"
             ],
             [
              0.2222222222222222,
              "#7201a8"
             ],
             [
              0.3333333333333333,
              "#9c179e"
             ],
             [
              0.4444444444444444,
              "#bd3786"
             ],
             [
              0.5555555555555556,
              "#d8576b"
             ],
             [
              0.6666666666666666,
              "#ed7953"
             ],
             [
              0.7777777777777778,
              "#fb9f3a"
             ],
             [
              0.8888888888888888,
              "#fdca26"
             ],
             [
              1,
              "#f0f921"
             ]
            ],
            "type": "heatmapgl"
           }
          ],
          "histogram": [
           {
            "marker": {
             "pattern": {
              "fillmode": "overlay",
              "size": 10,
              "solidity": 0.2
             }
            },
            "type": "histogram"
           }
          ],
          "histogram2d": [
           {
            "colorbar": {
             "outlinewidth": 0,
             "ticks": ""
            },
            "colorscale": [
             [
              0,
              "#0d0887"
             ],
             [
              0.1111111111111111,
              "#46039f"
             ],
             [
              0.2222222222222222,
              "#7201a8"
             ],
             [
              0.3333333333333333,
              "#9c179e"
             ],
             [
              0.4444444444444444,
              "#bd3786"
             ],
             [
              0.5555555555555556,
              "#d8576b"
             ],
             [
              0.6666666666666666,
              "#ed7953"
             ],
             [
              0.7777777777777778,
              "#fb9f3a"
             ],
             [
              0.8888888888888888,
              "#fdca26"
             ],
             [
              1,
              "#f0f921"
             ]
            ],
            "type": "histogram2d"
           }
          ],
          "histogram2dcontour": [
           {
            "colorbar": {
             "outlinewidth": 0,
             "ticks": ""
            },
            "colorscale": [
             [
              0,
              "#0d0887"
             ],
             [
              0.1111111111111111,
              "#46039f"
             ],
             [
              0.2222222222222222,
              "#7201a8"
             ],
             [
              0.3333333333333333,
              "#9c179e"
             ],
             [
              0.4444444444444444,
              "#bd3786"
             ],
             [
              0.5555555555555556,
              "#d8576b"
             ],
             [
              0.6666666666666666,
              "#ed7953"
             ],
             [
              0.7777777777777778,
              "#fb9f3a"
             ],
             [
              0.8888888888888888,
              "#fdca26"
             ],
             [
              1,
              "#f0f921"
             ]
            ],
            "type": "histogram2dcontour"
           }
          ],
          "mesh3d": [
           {
            "colorbar": {
             "outlinewidth": 0,
             "ticks": ""
            },
            "type": "mesh3d"
           }
          ],
          "parcoords": [
           {
            "line": {
             "colorbar": {
              "outlinewidth": 0,
              "ticks": ""
             }
            },
            "type": "parcoords"
           }
          ],
          "pie": [
           {
            "automargin": true,
            "type": "pie"
           }
          ],
          "scatter": [
           {
            "marker": {
             "colorbar": {
              "outlinewidth": 0,
              "ticks": ""
             }
            },
            "type": "scatter"
           }
          ],
          "scatter3d": [
           {
            "line": {
             "colorbar": {
              "outlinewidth": 0,
              "ticks": ""
             }
            },
            "marker": {
             "colorbar": {
              "outlinewidth": 0,
              "ticks": ""
             }
            },
            "type": "scatter3d"
           }
          ],
          "scattercarpet": [
           {
            "marker": {
             "colorbar": {
              "outlinewidth": 0,
              "ticks": ""
             }
            },
            "type": "scattercarpet"
           }
          ],
          "scattergeo": [
           {
            "marker": {
             "colorbar": {
              "outlinewidth": 0,
              "ticks": ""
             }
            },
            "type": "scattergeo"
           }
          ],
          "scattergl": [
           {
            "marker": {
             "colorbar": {
              "outlinewidth": 0,
              "ticks": ""
             }
            },
            "type": "scattergl"
           }
          ],
          "scattermapbox": [
           {
            "marker": {
             "colorbar": {
              "outlinewidth": 0,
              "ticks": ""
             }
            },
            "type": "scattermapbox"
           }
          ],
          "scatterpolar": [
           {
            "marker": {
             "colorbar": {
              "outlinewidth": 0,
              "ticks": ""
             }
            },
            "type": "scatterpolar"
           }
          ],
          "scatterpolargl": [
           {
            "marker": {
             "colorbar": {
              "outlinewidth": 0,
              "ticks": ""
             }
            },
            "type": "scatterpolargl"
           }
          ],
          "scatterternary": [
           {
            "marker": {
             "colorbar": {
              "outlinewidth": 0,
              "ticks": ""
             }
            },
            "type": "scatterternary"
           }
          ],
          "surface": [
           {
            "colorbar": {
             "outlinewidth": 0,
             "ticks": ""
            },
            "colorscale": [
             [
              0,
              "#0d0887"
             ],
             [
              0.1111111111111111,
              "#46039f"
             ],
             [
              0.2222222222222222,
              "#7201a8"
             ],
             [
              0.3333333333333333,
              "#9c179e"
             ],
             [
              0.4444444444444444,
              "#bd3786"
             ],
             [
              0.5555555555555556,
              "#d8576b"
             ],
             [
              0.6666666666666666,
              "#ed7953"
             ],
             [
              0.7777777777777778,
              "#fb9f3a"
             ],
             [
              0.8888888888888888,
              "#fdca26"
             ],
             [
              1,
              "#f0f921"
             ]
            ],
            "type": "surface"
           }
          ],
          "table": [
           {
            "cells": {
             "fill": {
              "color": "#EBF0F8"
             },
             "line": {
              "color": "white"
             }
            },
            "header": {
             "fill": {
              "color": "#C8D4E3"
             },
             "line": {
              "color": "white"
             }
            },
            "type": "table"
           }
          ]
         },
         "layout": {
          "annotationdefaults": {
           "arrowcolor": "#2a3f5f",
           "arrowhead": 0,
           "arrowwidth": 1
          },
          "autotypenumbers": "strict",
          "coloraxis": {
           "colorbar": {
            "outlinewidth": 0,
            "ticks": ""
           }
          },
          "colorscale": {
           "diverging": [
            [
             0,
             "#8e0152"
            ],
            [
             0.1,
             "#c51b7d"
            ],
            [
             0.2,
             "#de77ae"
            ],
            [
             0.3,
             "#f1b6da"
            ],
            [
             0.4,
             "#fde0ef"
            ],
            [
             0.5,
             "#f7f7f7"
            ],
            [
             0.6,
             "#e6f5d0"
            ],
            [
             0.7,
             "#b8e186"
            ],
            [
             0.8,
             "#7fbc41"
            ],
            [
             0.9,
             "#4d9221"
            ],
            [
             1,
             "#276419"
            ]
           ],
           "sequential": [
            [
             0,
             "#0d0887"
            ],
            [
             0.1111111111111111,
             "#46039f"
            ],
            [
             0.2222222222222222,
             "#7201a8"
            ],
            [
             0.3333333333333333,
             "#9c179e"
            ],
            [
             0.4444444444444444,
             "#bd3786"
            ],
            [
             0.5555555555555556,
             "#d8576b"
            ],
            [
             0.6666666666666666,
             "#ed7953"
            ],
            [
             0.7777777777777778,
             "#fb9f3a"
            ],
            [
             0.8888888888888888,
             "#fdca26"
            ],
            [
             1,
             "#f0f921"
            ]
           ],
           "sequentialminus": [
            [
             0,
             "#0d0887"
            ],
            [
             0.1111111111111111,
             "#46039f"
            ],
            [
             0.2222222222222222,
             "#7201a8"
            ],
            [
             0.3333333333333333,
             "#9c179e"
            ],
            [
             0.4444444444444444,
             "#bd3786"
            ],
            [
             0.5555555555555556,
             "#d8576b"
            ],
            [
             0.6666666666666666,
             "#ed7953"
            ],
            [
             0.7777777777777778,
             "#fb9f3a"
            ],
            [
             0.8888888888888888,
             "#fdca26"
            ],
            [
             1,
             "#f0f921"
            ]
           ]
          },
          "colorway": [
           "#636efa",
           "#EF553B",
           "#00cc96",
           "#ab63fa",
           "#FFA15A",
           "#19d3f3",
           "#FF6692",
           "#B6E880",
           "#FF97FF",
           "#FECB52"
          ],
          "font": {
           "color": "#2a3f5f"
          },
          "geo": {
           "bgcolor": "white",
           "lakecolor": "white",
           "landcolor": "#E5ECF6",
           "showlakes": true,
           "showland": true,
           "subunitcolor": "white"
          },
          "hoverlabel": {
           "align": "left"
          },
          "hovermode": "closest",
          "mapbox": {
           "style": "light"
          },
          "paper_bgcolor": "white",
          "plot_bgcolor": "#E5ECF6",
          "polar": {
           "angularaxis": {
            "gridcolor": "white",
            "linecolor": "white",
            "ticks": ""
           },
           "bgcolor": "#E5ECF6",
           "radialaxis": {
            "gridcolor": "white",
            "linecolor": "white",
            "ticks": ""
           }
          },
          "scene": {
           "xaxis": {
            "backgroundcolor": "#E5ECF6",
            "gridcolor": "white",
            "gridwidth": 2,
            "linecolor": "white",
            "showbackground": true,
            "ticks": "",
            "zerolinecolor": "white"
           },
           "yaxis": {
            "backgroundcolor": "#E5ECF6",
            "gridcolor": "white",
            "gridwidth": 2,
            "linecolor": "white",
            "showbackground": true,
            "ticks": "",
            "zerolinecolor": "white"
           },
           "zaxis": {
            "backgroundcolor": "#E5ECF6",
            "gridcolor": "white",
            "gridwidth": 2,
            "linecolor": "white",
            "showbackground": true,
            "ticks": "",
            "zerolinecolor": "white"
           }
          },
          "shapedefaults": {
           "line": {
            "color": "#2a3f5f"
           }
          },
          "ternary": {
           "aaxis": {
            "gridcolor": "white",
            "linecolor": "white",
            "ticks": ""
           },
           "baxis": {
            "gridcolor": "white",
            "linecolor": "white",
            "ticks": ""
           },
           "bgcolor": "#E5ECF6",
           "caxis": {
            "gridcolor": "white",
            "linecolor": "white",
            "ticks": ""
           }
          },
          "title": {
           "x": 0.05
          },
          "xaxis": {
           "automargin": true,
           "gridcolor": "white",
           "linecolor": "white",
           "ticks": "",
           "title": {
            "standoff": 15
           },
           "zerolinecolor": "white",
           "zerolinewidth": 2
          },
          "yaxis": {
           "automargin": true,
           "gridcolor": "white",
           "linecolor": "white",
           "ticks": "",
           "title": {
            "standoff": 15
           },
           "zerolinecolor": "white",
           "zerolinewidth": 2
          }
         }
        },
        "xaxis": {
         "anchor": "y",
         "domain": [
          0,
          1
         ],
         "title": {
          "text": "date"
         }
        },
        "yaxis": {
         "anchor": "x",
         "domain": [
          0,
          1
         ],
         "title": {
          "text": "count"
         }
        }
       }
      }
     },
     "metadata": {},
     "output_type": "display_data"
    }
   ],
   "source": [
    "# Check the tweet distribution\n",
    "fig = px.histogram(df_resample, x=df_resample.index)\n",
    "fig.show()"
   ]
  },
  {
   "cell_type": "markdown",
   "metadata": {},
   "source": [
    "### Generate Embeddings using Vectorizer\n",
    "\n",
    "We first attempt by using the easiest way of generating a vector for a sentence. "
   ]
  },
  {
   "cell_type": "markdown",
   "metadata": {},
   "source": [
    "#### Tfidf Vectorizer\n",
    "There are several commmonly used vectorizer such as `CountVectorizer`, `TfidfVectorizer`, `Word2Vec` (pre-trained), `GloVe` (pre-trained). To my understanding, the first two vectorizer is the easier and simplest method to directly create a vector for a **sentence**. The latter vectorizers are used to create vectors for each **words** of a sentence which would lead to further complexity. "
   ]
  },
  {
   "cell_type": "code",
   "execution_count": 27,
   "metadata": {},
   "outputs": [],
   "source": [
    "# Type conversion\n",
    "df['text_cleaned'] = df['text_cleaned'].astype(str)"
   ]
  },
  {
   "cell_type": "code",
   "execution_count": 15,
   "metadata": {},
   "outputs": [],
   "source": [
    "# We may tune the number of features by adjusting the following parameters\n",
    "tfidf_vectorizer = TfidfVectorizer(min_df=5, max_df=100, ngram_range=(1,3))"
   ]
  },
  {
   "cell_type": "code",
   "execution_count": 16,
   "metadata": {},
   "outputs": [],
   "source": [
    "# X = vectorizer.fit_transform(df_combine['text_cleaned'])\n",
    "X1 = tfidf_vectorizer.fit_transform(df['text_cleaned'])"
   ]
  },
  {
   "cell_type": "markdown",
   "metadata": {},
   "source": [
    "Checking the number of features is important since it determines the amount of resources and the training speed of the model, particulary for deep learning. After experimenting, it is found that 200,000 * 10,000 is the upper limit for a 32GB RAM Intel i5 machine. "
   ]
  },
  {
   "cell_type": "code",
   "execution_count": 16,
   "metadata": {},
   "outputs": [
    {
     "data": {
      "text/plain": [
       "543"
      ]
     },
     "execution_count": 16,
     "metadata": {},
     "output_type": "execute_result"
    }
   ],
   "source": [
    "len(tfidf_vectorizer.get_feature_names())"
   ]
  },
  {
   "cell_type": "code",
   "execution_count": 17,
   "metadata": {},
   "outputs": [],
   "source": [
    "# tfidf_vectorizer.get_feature_names()\n",
    "X1 = X1.toarray()"
   ]
  },
  {
   "cell_type": "code",
   "execution_count": 18,
   "metadata": {},
   "outputs": [
    {
     "data": {
      "text/plain": [
       "(1397, 543)"
      ]
     },
     "execution_count": 18,
     "metadata": {},
     "output_type": "execute_result"
    }
   ],
   "source": [
    "X1.shape"
   ]
  },
  {
   "cell_type": "code",
   "execution_count": 19,
   "metadata": {},
   "outputs": [],
   "source": [
    "df_vec = pd.DataFrame(X1)"
   ]
  },
  {
   "cell_type": "code",
   "execution_count": 21,
   "metadata": {},
   "outputs": [],
   "source": [
    "df_vec.set_index(pd.to_datetime(df.index), inplace=True)"
   ]
  },
  {
   "cell_type": "code",
   "execution_count": 22,
   "metadata": {},
   "outputs": [
    {
     "data": {
      "text/html": [
       "<div>\n",
       "<style scoped>\n",
       "    .dataframe tbody tr th:only-of-type {\n",
       "        vertical-align: middle;\n",
       "    }\n",
       "\n",
       "    .dataframe tbody tr th {\n",
       "        vertical-align: top;\n",
       "    }\n",
       "\n",
       "    .dataframe thead th {\n",
       "        text-align: right;\n",
       "    }\n",
       "</style>\n",
       "<table border=\"1\" class=\"dataframe\">\n",
       "  <thead>\n",
       "    <tr style=\"text-align: right;\">\n",
       "      <th></th>\n",
       "      <th>0</th>\n",
       "      <th>1</th>\n",
       "      <th>2</th>\n",
       "      <th>3</th>\n",
       "      <th>4</th>\n",
       "      <th>5</th>\n",
       "      <th>6</th>\n",
       "      <th>7</th>\n",
       "      <th>8</th>\n",
       "      <th>9</th>\n",
       "      <th>...</th>\n",
       "      <th>533</th>\n",
       "      <th>534</th>\n",
       "      <th>535</th>\n",
       "      <th>536</th>\n",
       "      <th>537</th>\n",
       "      <th>538</th>\n",
       "      <th>539</th>\n",
       "      <th>540</th>\n",
       "      <th>541</th>\n",
       "      <th>542</th>\n",
       "    </tr>\n",
       "    <tr>\n",
       "      <th>date</th>\n",
       "      <th></th>\n",
       "      <th></th>\n",
       "      <th></th>\n",
       "      <th></th>\n",
       "      <th></th>\n",
       "      <th></th>\n",
       "      <th></th>\n",
       "      <th></th>\n",
       "      <th></th>\n",
       "      <th></th>\n",
       "      <th></th>\n",
       "      <th></th>\n",
       "      <th></th>\n",
       "      <th></th>\n",
       "      <th></th>\n",
       "      <th></th>\n",
       "      <th></th>\n",
       "      <th></th>\n",
       "      <th></th>\n",
       "      <th></th>\n",
       "      <th></th>\n",
       "    </tr>\n",
       "  </thead>\n",
       "  <tbody>\n",
       "    <tr>\n",
       "      <th>2022-06-02</th>\n",
       "      <td>0.0</td>\n",
       "      <td>0.0</td>\n",
       "      <td>0.0</td>\n",
       "      <td>0.0</td>\n",
       "      <td>0.0</td>\n",
       "      <td>0.0</td>\n",
       "      <td>0.0</td>\n",
       "      <td>0.0</td>\n",
       "      <td>0.0</td>\n",
       "      <td>0.0</td>\n",
       "      <td>...</td>\n",
       "      <td>0.0</td>\n",
       "      <td>0.0</td>\n",
       "      <td>0.0</td>\n",
       "      <td>0.0</td>\n",
       "      <td>0.0</td>\n",
       "      <td>0.0</td>\n",
       "      <td>0.0</td>\n",
       "      <td>0.0</td>\n",
       "      <td>0.0</td>\n",
       "      <td>0.0</td>\n",
       "    </tr>\n",
       "    <tr>\n",
       "      <th>2022-06-02</th>\n",
       "      <td>0.0</td>\n",
       "      <td>0.0</td>\n",
       "      <td>0.0</td>\n",
       "      <td>0.0</td>\n",
       "      <td>0.0</td>\n",
       "      <td>0.0</td>\n",
       "      <td>0.0</td>\n",
       "      <td>0.0</td>\n",
       "      <td>0.0</td>\n",
       "      <td>0.0</td>\n",
       "      <td>...</td>\n",
       "      <td>0.0</td>\n",
       "      <td>0.0</td>\n",
       "      <td>0.0</td>\n",
       "      <td>0.0</td>\n",
       "      <td>0.0</td>\n",
       "      <td>0.0</td>\n",
       "      <td>0.0</td>\n",
       "      <td>0.0</td>\n",
       "      <td>0.0</td>\n",
       "      <td>0.0</td>\n",
       "    </tr>\n",
       "    <tr>\n",
       "      <th>2022-06-02</th>\n",
       "      <td>0.0</td>\n",
       "      <td>0.0</td>\n",
       "      <td>0.0</td>\n",
       "      <td>0.0</td>\n",
       "      <td>0.0</td>\n",
       "      <td>0.0</td>\n",
       "      <td>0.0</td>\n",
       "      <td>0.0</td>\n",
       "      <td>0.0</td>\n",
       "      <td>0.0</td>\n",
       "      <td>...</td>\n",
       "      <td>0.0</td>\n",
       "      <td>0.0</td>\n",
       "      <td>0.0</td>\n",
       "      <td>0.0</td>\n",
       "      <td>0.0</td>\n",
       "      <td>0.0</td>\n",
       "      <td>0.0</td>\n",
       "      <td>0.0</td>\n",
       "      <td>0.0</td>\n",
       "      <td>0.0</td>\n",
       "    </tr>\n",
       "    <tr>\n",
       "      <th>2022-06-02</th>\n",
       "      <td>0.0</td>\n",
       "      <td>0.0</td>\n",
       "      <td>0.0</td>\n",
       "      <td>0.0</td>\n",
       "      <td>0.0</td>\n",
       "      <td>0.0</td>\n",
       "      <td>0.0</td>\n",
       "      <td>0.0</td>\n",
       "      <td>0.0</td>\n",
       "      <td>0.0</td>\n",
       "      <td>...</td>\n",
       "      <td>0.0</td>\n",
       "      <td>0.0</td>\n",
       "      <td>0.0</td>\n",
       "      <td>0.0</td>\n",
       "      <td>0.0</td>\n",
       "      <td>0.0</td>\n",
       "      <td>0.0</td>\n",
       "      <td>0.0</td>\n",
       "      <td>0.0</td>\n",
       "      <td>0.0</td>\n",
       "    </tr>\n",
       "    <tr>\n",
       "      <th>2022-06-02</th>\n",
       "      <td>0.0</td>\n",
       "      <td>0.0</td>\n",
       "      <td>0.0</td>\n",
       "      <td>0.0</td>\n",
       "      <td>0.0</td>\n",
       "      <td>0.0</td>\n",
       "      <td>0.0</td>\n",
       "      <td>0.0</td>\n",
       "      <td>0.0</td>\n",
       "      <td>0.0</td>\n",
       "      <td>...</td>\n",
       "      <td>0.0</td>\n",
       "      <td>0.0</td>\n",
       "      <td>0.0</td>\n",
       "      <td>0.0</td>\n",
       "      <td>0.0</td>\n",
       "      <td>0.0</td>\n",
       "      <td>0.0</td>\n",
       "      <td>0.0</td>\n",
       "      <td>0.0</td>\n",
       "      <td>0.0</td>\n",
       "    </tr>\n",
       "    <tr>\n",
       "      <th>...</th>\n",
       "      <td>...</td>\n",
       "      <td>...</td>\n",
       "      <td>...</td>\n",
       "      <td>...</td>\n",
       "      <td>...</td>\n",
       "      <td>...</td>\n",
       "      <td>...</td>\n",
       "      <td>...</td>\n",
       "      <td>...</td>\n",
       "      <td>...</td>\n",
       "      <td>...</td>\n",
       "      <td>...</td>\n",
       "      <td>...</td>\n",
       "      <td>...</td>\n",
       "      <td>...</td>\n",
       "      <td>...</td>\n",
       "      <td>...</td>\n",
       "      <td>...</td>\n",
       "      <td>...</td>\n",
       "      <td>...</td>\n",
       "      <td>...</td>\n",
       "    </tr>\n",
       "    <tr>\n",
       "      <th>2021-06-04</th>\n",
       "      <td>0.0</td>\n",
       "      <td>0.0</td>\n",
       "      <td>0.0</td>\n",
       "      <td>0.0</td>\n",
       "      <td>0.0</td>\n",
       "      <td>0.0</td>\n",
       "      <td>0.0</td>\n",
       "      <td>0.0</td>\n",
       "      <td>0.0</td>\n",
       "      <td>0.0</td>\n",
       "      <td>...</td>\n",
       "      <td>0.0</td>\n",
       "      <td>0.0</td>\n",
       "      <td>0.0</td>\n",
       "      <td>0.0</td>\n",
       "      <td>0.0</td>\n",
       "      <td>0.0</td>\n",
       "      <td>0.0</td>\n",
       "      <td>0.0</td>\n",
       "      <td>0.0</td>\n",
       "      <td>0.0</td>\n",
       "    </tr>\n",
       "    <tr>\n",
       "      <th>2021-06-04</th>\n",
       "      <td>0.0</td>\n",
       "      <td>0.0</td>\n",
       "      <td>0.0</td>\n",
       "      <td>0.0</td>\n",
       "      <td>0.0</td>\n",
       "      <td>0.0</td>\n",
       "      <td>0.0</td>\n",
       "      <td>0.0</td>\n",
       "      <td>0.0</td>\n",
       "      <td>0.0</td>\n",
       "      <td>...</td>\n",
       "      <td>0.0</td>\n",
       "      <td>0.0</td>\n",
       "      <td>0.0</td>\n",
       "      <td>0.0</td>\n",
       "      <td>0.0</td>\n",
       "      <td>0.0</td>\n",
       "      <td>0.0</td>\n",
       "      <td>0.0</td>\n",
       "      <td>0.0</td>\n",
       "      <td>0.0</td>\n",
       "    </tr>\n",
       "    <tr>\n",
       "      <th>2021-06-04</th>\n",
       "      <td>0.0</td>\n",
       "      <td>0.0</td>\n",
       "      <td>0.0</td>\n",
       "      <td>0.0</td>\n",
       "      <td>0.0</td>\n",
       "      <td>0.0</td>\n",
       "      <td>0.0</td>\n",
       "      <td>0.0</td>\n",
       "      <td>0.0</td>\n",
       "      <td>0.0</td>\n",
       "      <td>...</td>\n",
       "      <td>0.0</td>\n",
       "      <td>0.0</td>\n",
       "      <td>0.0</td>\n",
       "      <td>0.0</td>\n",
       "      <td>0.0</td>\n",
       "      <td>0.0</td>\n",
       "      <td>0.0</td>\n",
       "      <td>0.0</td>\n",
       "      <td>0.0</td>\n",
       "      <td>0.0</td>\n",
       "    </tr>\n",
       "    <tr>\n",
       "      <th>2021-06-03</th>\n",
       "      <td>0.0</td>\n",
       "      <td>0.0</td>\n",
       "      <td>0.0</td>\n",
       "      <td>0.0</td>\n",
       "      <td>0.0</td>\n",
       "      <td>0.0</td>\n",
       "      <td>0.0</td>\n",
       "      <td>0.0</td>\n",
       "      <td>0.0</td>\n",
       "      <td>0.0</td>\n",
       "      <td>...</td>\n",
       "      <td>0.0</td>\n",
       "      <td>0.0</td>\n",
       "      <td>0.0</td>\n",
       "      <td>0.0</td>\n",
       "      <td>0.0</td>\n",
       "      <td>0.0</td>\n",
       "      <td>0.0</td>\n",
       "      <td>0.0</td>\n",
       "      <td>0.0</td>\n",
       "      <td>0.0</td>\n",
       "    </tr>\n",
       "    <tr>\n",
       "      <th>2021-06-03</th>\n",
       "      <td>0.0</td>\n",
       "      <td>0.0</td>\n",
       "      <td>0.0</td>\n",
       "      <td>0.0</td>\n",
       "      <td>0.0</td>\n",
       "      <td>0.0</td>\n",
       "      <td>0.0</td>\n",
       "      <td>0.0</td>\n",
       "      <td>0.0</td>\n",
       "      <td>0.0</td>\n",
       "      <td>...</td>\n",
       "      <td>0.0</td>\n",
       "      <td>0.0</td>\n",
       "      <td>0.0</td>\n",
       "      <td>0.0</td>\n",
       "      <td>0.0</td>\n",
       "      <td>0.0</td>\n",
       "      <td>0.0</td>\n",
       "      <td>0.0</td>\n",
       "      <td>0.0</td>\n",
       "      <td>0.0</td>\n",
       "    </tr>\n",
       "  </tbody>\n",
       "</table>\n",
       "<p>1397 rows × 543 columns</p>\n",
       "</div>"
      ],
      "text/plain": [
       "            0    1    2    3    4    5    6    7    8    9    ...  533  534  \\\n",
       "date                                                          ...             \n",
       "2022-06-02  0.0  0.0  0.0  0.0  0.0  0.0  0.0  0.0  0.0  0.0  ...  0.0  0.0   \n",
       "2022-06-02  0.0  0.0  0.0  0.0  0.0  0.0  0.0  0.0  0.0  0.0  ...  0.0  0.0   \n",
       "2022-06-02  0.0  0.0  0.0  0.0  0.0  0.0  0.0  0.0  0.0  0.0  ...  0.0  0.0   \n",
       "2022-06-02  0.0  0.0  0.0  0.0  0.0  0.0  0.0  0.0  0.0  0.0  ...  0.0  0.0   \n",
       "2022-06-02  0.0  0.0  0.0  0.0  0.0  0.0  0.0  0.0  0.0  0.0  ...  0.0  0.0   \n",
       "...         ...  ...  ...  ...  ...  ...  ...  ...  ...  ...  ...  ...  ...   \n",
       "2021-06-04  0.0  0.0  0.0  0.0  0.0  0.0  0.0  0.0  0.0  0.0  ...  0.0  0.0   \n",
       "2021-06-04  0.0  0.0  0.0  0.0  0.0  0.0  0.0  0.0  0.0  0.0  ...  0.0  0.0   \n",
       "2021-06-04  0.0  0.0  0.0  0.0  0.0  0.0  0.0  0.0  0.0  0.0  ...  0.0  0.0   \n",
       "2021-06-03  0.0  0.0  0.0  0.0  0.0  0.0  0.0  0.0  0.0  0.0  ...  0.0  0.0   \n",
       "2021-06-03  0.0  0.0  0.0  0.0  0.0  0.0  0.0  0.0  0.0  0.0  ...  0.0  0.0   \n",
       "\n",
       "            535  536  537  538  539  540  541  542  \n",
       "date                                                \n",
       "2022-06-02  0.0  0.0  0.0  0.0  0.0  0.0  0.0  0.0  \n",
       "2022-06-02  0.0  0.0  0.0  0.0  0.0  0.0  0.0  0.0  \n",
       "2022-06-02  0.0  0.0  0.0  0.0  0.0  0.0  0.0  0.0  \n",
       "2022-06-02  0.0  0.0  0.0  0.0  0.0  0.0  0.0  0.0  \n",
       "2022-06-02  0.0  0.0  0.0  0.0  0.0  0.0  0.0  0.0  \n",
       "...         ...  ...  ...  ...  ...  ...  ...  ...  \n",
       "2021-06-04  0.0  0.0  0.0  0.0  0.0  0.0  0.0  0.0  \n",
       "2021-06-04  0.0  0.0  0.0  0.0  0.0  0.0  0.0  0.0  \n",
       "2021-06-04  0.0  0.0  0.0  0.0  0.0  0.0  0.0  0.0  \n",
       "2021-06-03  0.0  0.0  0.0  0.0  0.0  0.0  0.0  0.0  \n",
       "2021-06-03  0.0  0.0  0.0  0.0  0.0  0.0  0.0  0.0  \n",
       "\n",
       "[1397 rows x 543 columns]"
      ]
     },
     "execution_count": 22,
     "metadata": {},
     "output_type": "execute_result"
    }
   ],
   "source": [
    "df_vec"
   ]
  },
  {
   "cell_type": "markdown",
   "metadata": {},
   "source": [
    "#### Resampling the embeddings\n",
    "There could be multiple tweets in one day. Different methods could be chosen to weight them such as `max()`, `min()`, `mean()`. Here we use `mean()` for capturing the semantic meaning from all the samples. However, the sentiment may be diluted by the amount of tweets in a day. "
   ]
  },
  {
   "cell_type": "code",
   "execution_count": 23,
   "metadata": {},
   "outputs": [],
   "source": [
    "df_vec_resample = df_vec.resample('D').max().dropna(how='all')"
   ]
  },
  {
   "cell_type": "code",
   "execution_count": 24,
   "metadata": {},
   "outputs": [
    {
     "data": {
      "text/html": [
       "<div>\n",
       "<style scoped>\n",
       "    .dataframe tbody tr th:only-of-type {\n",
       "        vertical-align: middle;\n",
       "    }\n",
       "\n",
       "    .dataframe tbody tr th {\n",
       "        vertical-align: top;\n",
       "    }\n",
       "\n",
       "    .dataframe thead th {\n",
       "        text-align: right;\n",
       "    }\n",
       "</style>\n",
       "<table border=\"1\" class=\"dataframe\">\n",
       "  <thead>\n",
       "    <tr style=\"text-align: right;\">\n",
       "      <th></th>\n",
       "      <th>0</th>\n",
       "      <th>1</th>\n",
       "      <th>2</th>\n",
       "      <th>3</th>\n",
       "      <th>4</th>\n",
       "      <th>5</th>\n",
       "      <th>6</th>\n",
       "      <th>7</th>\n",
       "      <th>8</th>\n",
       "      <th>9</th>\n",
       "      <th>...</th>\n",
       "      <th>533</th>\n",
       "      <th>534</th>\n",
       "      <th>535</th>\n",
       "      <th>536</th>\n",
       "      <th>537</th>\n",
       "      <th>538</th>\n",
       "      <th>539</th>\n",
       "      <th>540</th>\n",
       "      <th>541</th>\n",
       "      <th>542</th>\n",
       "    </tr>\n",
       "    <tr>\n",
       "      <th>date</th>\n",
       "      <th></th>\n",
       "      <th></th>\n",
       "      <th></th>\n",
       "      <th></th>\n",
       "      <th></th>\n",
       "      <th></th>\n",
       "      <th></th>\n",
       "      <th></th>\n",
       "      <th></th>\n",
       "      <th></th>\n",
       "      <th></th>\n",
       "      <th></th>\n",
       "      <th></th>\n",
       "      <th></th>\n",
       "      <th></th>\n",
       "      <th></th>\n",
       "      <th></th>\n",
       "      <th></th>\n",
       "      <th></th>\n",
       "      <th></th>\n",
       "      <th></th>\n",
       "    </tr>\n",
       "  </thead>\n",
       "  <tbody>\n",
       "    <tr>\n",
       "      <th>2021-06-03</th>\n",
       "      <td>0.000000</td>\n",
       "      <td>0.000000</td>\n",
       "      <td>0.0</td>\n",
       "      <td>0.0</td>\n",
       "      <td>0.0</td>\n",
       "      <td>0.0</td>\n",
       "      <td>0.0</td>\n",
       "      <td>0.000000</td>\n",
       "      <td>0.0</td>\n",
       "      <td>0.000000</td>\n",
       "      <td>...</td>\n",
       "      <td>0.0</td>\n",
       "      <td>0.0</td>\n",
       "      <td>0.000000</td>\n",
       "      <td>0.0</td>\n",
       "      <td>0.0</td>\n",
       "      <td>0.000000</td>\n",
       "      <td>0.000000</td>\n",
       "      <td>0.0</td>\n",
       "      <td>0.0</td>\n",
       "      <td>0.0</td>\n",
       "    </tr>\n",
       "    <tr>\n",
       "      <th>2021-06-04</th>\n",
       "      <td>0.000000</td>\n",
       "      <td>0.000000</td>\n",
       "      <td>0.0</td>\n",
       "      <td>0.0</td>\n",
       "      <td>0.0</td>\n",
       "      <td>0.0</td>\n",
       "      <td>0.0</td>\n",
       "      <td>0.000000</td>\n",
       "      <td>0.0</td>\n",
       "      <td>0.000000</td>\n",
       "      <td>...</td>\n",
       "      <td>0.0</td>\n",
       "      <td>0.0</td>\n",
       "      <td>0.000000</td>\n",
       "      <td>0.0</td>\n",
       "      <td>0.0</td>\n",
       "      <td>0.000000</td>\n",
       "      <td>0.000000</td>\n",
       "      <td>0.0</td>\n",
       "      <td>0.0</td>\n",
       "      <td>0.0</td>\n",
       "    </tr>\n",
       "    <tr>\n",
       "      <th>2021-06-05</th>\n",
       "      <td>0.000000</td>\n",
       "      <td>0.000000</td>\n",
       "      <td>0.0</td>\n",
       "      <td>0.0</td>\n",
       "      <td>0.0</td>\n",
       "      <td>0.0</td>\n",
       "      <td>0.0</td>\n",
       "      <td>0.000000</td>\n",
       "      <td>0.0</td>\n",
       "      <td>0.000000</td>\n",
       "      <td>...</td>\n",
       "      <td>0.0</td>\n",
       "      <td>0.0</td>\n",
       "      <td>0.000000</td>\n",
       "      <td>0.0</td>\n",
       "      <td>0.0</td>\n",
       "      <td>0.000000</td>\n",
       "      <td>0.000000</td>\n",
       "      <td>0.0</td>\n",
       "      <td>0.0</td>\n",
       "      <td>0.0</td>\n",
       "    </tr>\n",
       "    <tr>\n",
       "      <th>2021-06-06</th>\n",
       "      <td>0.000000</td>\n",
       "      <td>0.000000</td>\n",
       "      <td>0.0</td>\n",
       "      <td>0.0</td>\n",
       "      <td>0.0</td>\n",
       "      <td>0.0</td>\n",
       "      <td>0.0</td>\n",
       "      <td>0.000000</td>\n",
       "      <td>0.0</td>\n",
       "      <td>0.000000</td>\n",
       "      <td>...</td>\n",
       "      <td>0.0</td>\n",
       "      <td>0.0</td>\n",
       "      <td>0.000000</td>\n",
       "      <td>0.0</td>\n",
       "      <td>0.0</td>\n",
       "      <td>0.000000</td>\n",
       "      <td>0.000000</td>\n",
       "      <td>0.0</td>\n",
       "      <td>0.0</td>\n",
       "      <td>0.0</td>\n",
       "    </tr>\n",
       "    <tr>\n",
       "      <th>2021-06-07</th>\n",
       "      <td>0.000000</td>\n",
       "      <td>0.000000</td>\n",
       "      <td>0.0</td>\n",
       "      <td>0.0</td>\n",
       "      <td>0.0</td>\n",
       "      <td>0.0</td>\n",
       "      <td>0.0</td>\n",
       "      <td>0.000000</td>\n",
       "      <td>0.0</td>\n",
       "      <td>0.000000</td>\n",
       "      <td>...</td>\n",
       "      <td>0.0</td>\n",
       "      <td>0.0</td>\n",
       "      <td>0.304608</td>\n",
       "      <td>0.0</td>\n",
       "      <td>0.0</td>\n",
       "      <td>0.506814</td>\n",
       "      <td>0.637186</td>\n",
       "      <td>0.0</td>\n",
       "      <td>0.0</td>\n",
       "      <td>0.0</td>\n",
       "    </tr>\n",
       "    <tr>\n",
       "      <th>...</th>\n",
       "      <td>...</td>\n",
       "      <td>...</td>\n",
       "      <td>...</td>\n",
       "      <td>...</td>\n",
       "      <td>...</td>\n",
       "      <td>...</td>\n",
       "      <td>...</td>\n",
       "      <td>...</td>\n",
       "      <td>...</td>\n",
       "      <td>...</td>\n",
       "      <td>...</td>\n",
       "      <td>...</td>\n",
       "      <td>...</td>\n",
       "      <td>...</td>\n",
       "      <td>...</td>\n",
       "      <td>...</td>\n",
       "      <td>...</td>\n",
       "      <td>...</td>\n",
       "      <td>...</td>\n",
       "      <td>...</td>\n",
       "      <td>...</td>\n",
       "    </tr>\n",
       "    <tr>\n",
       "      <th>2022-05-29</th>\n",
       "      <td>0.000000</td>\n",
       "      <td>0.000000</td>\n",
       "      <td>0.0</td>\n",
       "      <td>0.0</td>\n",
       "      <td>0.0</td>\n",
       "      <td>0.0</td>\n",
       "      <td>0.0</td>\n",
       "      <td>0.000000</td>\n",
       "      <td>0.0</td>\n",
       "      <td>0.000000</td>\n",
       "      <td>...</td>\n",
       "      <td>0.0</td>\n",
       "      <td>0.0</td>\n",
       "      <td>0.000000</td>\n",
       "      <td>0.0</td>\n",
       "      <td>0.0</td>\n",
       "      <td>0.506814</td>\n",
       "      <td>0.637186</td>\n",
       "      <td>0.0</td>\n",
       "      <td>0.0</td>\n",
       "      <td>0.0</td>\n",
       "    </tr>\n",
       "    <tr>\n",
       "      <th>2022-05-30</th>\n",
       "      <td>0.000000</td>\n",
       "      <td>0.000000</td>\n",
       "      <td>0.0</td>\n",
       "      <td>0.0</td>\n",
       "      <td>0.0</td>\n",
       "      <td>0.0</td>\n",
       "      <td>0.0</td>\n",
       "      <td>0.423463</td>\n",
       "      <td>0.0</td>\n",
       "      <td>0.000000</td>\n",
       "      <td>...</td>\n",
       "      <td>0.0</td>\n",
       "      <td>0.0</td>\n",
       "      <td>0.000000</td>\n",
       "      <td>0.0</td>\n",
       "      <td>0.0</td>\n",
       "      <td>0.000000</td>\n",
       "      <td>0.000000</td>\n",
       "      <td>0.0</td>\n",
       "      <td>0.0</td>\n",
       "      <td>0.0</td>\n",
       "    </tr>\n",
       "    <tr>\n",
       "      <th>2022-05-31</th>\n",
       "      <td>0.493306</td>\n",
       "      <td>0.513813</td>\n",
       "      <td>0.0</td>\n",
       "      <td>0.0</td>\n",
       "      <td>0.0</td>\n",
       "      <td>0.0</td>\n",
       "      <td>0.0</td>\n",
       "      <td>0.000000</td>\n",
       "      <td>0.0</td>\n",
       "      <td>0.000000</td>\n",
       "      <td>...</td>\n",
       "      <td>0.0</td>\n",
       "      <td>0.0</td>\n",
       "      <td>0.000000</td>\n",
       "      <td>0.0</td>\n",
       "      <td>0.0</td>\n",
       "      <td>0.000000</td>\n",
       "      <td>0.000000</td>\n",
       "      <td>0.0</td>\n",
       "      <td>0.0</td>\n",
       "      <td>0.0</td>\n",
       "    </tr>\n",
       "    <tr>\n",
       "      <th>2022-06-01</th>\n",
       "      <td>0.000000</td>\n",
       "      <td>0.000000</td>\n",
       "      <td>0.0</td>\n",
       "      <td>0.0</td>\n",
       "      <td>0.0</td>\n",
       "      <td>0.0</td>\n",
       "      <td>0.0</td>\n",
       "      <td>0.000000</td>\n",
       "      <td>0.0</td>\n",
       "      <td>0.491908</td>\n",
       "      <td>...</td>\n",
       "      <td>0.0</td>\n",
       "      <td>0.0</td>\n",
       "      <td>0.000000</td>\n",
       "      <td>0.0</td>\n",
       "      <td>0.0</td>\n",
       "      <td>0.000000</td>\n",
       "      <td>0.000000</td>\n",
       "      <td>0.0</td>\n",
       "      <td>0.0</td>\n",
       "      <td>0.0</td>\n",
       "    </tr>\n",
       "    <tr>\n",
       "      <th>2022-06-02</th>\n",
       "      <td>0.000000</td>\n",
       "      <td>0.000000</td>\n",
       "      <td>0.0</td>\n",
       "      <td>0.0</td>\n",
       "      <td>0.0</td>\n",
       "      <td>0.0</td>\n",
       "      <td>0.0</td>\n",
       "      <td>0.000000</td>\n",
       "      <td>0.0</td>\n",
       "      <td>0.000000</td>\n",
       "      <td>...</td>\n",
       "      <td>0.0</td>\n",
       "      <td>0.0</td>\n",
       "      <td>0.000000</td>\n",
       "      <td>0.0</td>\n",
       "      <td>0.0</td>\n",
       "      <td>0.000000</td>\n",
       "      <td>0.000000</td>\n",
       "      <td>0.0</td>\n",
       "      <td>0.0</td>\n",
       "      <td>0.0</td>\n",
       "    </tr>\n",
       "  </tbody>\n",
       "</table>\n",
       "<p>338 rows × 543 columns</p>\n",
       "</div>"
      ],
      "text/plain": [
       "                 0         1    2    3    4    5    6         7    8    \\\n",
       "date                                                                     \n",
       "2021-06-03  0.000000  0.000000  0.0  0.0  0.0  0.0  0.0  0.000000  0.0   \n",
       "2021-06-04  0.000000  0.000000  0.0  0.0  0.0  0.0  0.0  0.000000  0.0   \n",
       "2021-06-05  0.000000  0.000000  0.0  0.0  0.0  0.0  0.0  0.000000  0.0   \n",
       "2021-06-06  0.000000  0.000000  0.0  0.0  0.0  0.0  0.0  0.000000  0.0   \n",
       "2021-06-07  0.000000  0.000000  0.0  0.0  0.0  0.0  0.0  0.000000  0.0   \n",
       "...              ...       ...  ...  ...  ...  ...  ...       ...  ...   \n",
       "2022-05-29  0.000000  0.000000  0.0  0.0  0.0  0.0  0.0  0.000000  0.0   \n",
       "2022-05-30  0.000000  0.000000  0.0  0.0  0.0  0.0  0.0  0.423463  0.0   \n",
       "2022-05-31  0.493306  0.513813  0.0  0.0  0.0  0.0  0.0  0.000000  0.0   \n",
       "2022-06-01  0.000000  0.000000  0.0  0.0  0.0  0.0  0.0  0.000000  0.0   \n",
       "2022-06-02  0.000000  0.000000  0.0  0.0  0.0  0.0  0.0  0.000000  0.0   \n",
       "\n",
       "                 9    ...  533  534       535  536  537       538       539  \\\n",
       "date                  ...                                                     \n",
       "2021-06-03  0.000000  ...  0.0  0.0  0.000000  0.0  0.0  0.000000  0.000000   \n",
       "2021-06-04  0.000000  ...  0.0  0.0  0.000000  0.0  0.0  0.000000  0.000000   \n",
       "2021-06-05  0.000000  ...  0.0  0.0  0.000000  0.0  0.0  0.000000  0.000000   \n",
       "2021-06-06  0.000000  ...  0.0  0.0  0.000000  0.0  0.0  0.000000  0.000000   \n",
       "2021-06-07  0.000000  ...  0.0  0.0  0.304608  0.0  0.0  0.506814  0.637186   \n",
       "...              ...  ...  ...  ...       ...  ...  ...       ...       ...   \n",
       "2022-05-29  0.000000  ...  0.0  0.0  0.000000  0.0  0.0  0.506814  0.637186   \n",
       "2022-05-30  0.000000  ...  0.0  0.0  0.000000  0.0  0.0  0.000000  0.000000   \n",
       "2022-05-31  0.000000  ...  0.0  0.0  0.000000  0.0  0.0  0.000000  0.000000   \n",
       "2022-06-01  0.491908  ...  0.0  0.0  0.000000  0.0  0.0  0.000000  0.000000   \n",
       "2022-06-02  0.000000  ...  0.0  0.0  0.000000  0.0  0.0  0.000000  0.000000   \n",
       "\n",
       "            540  541  542  \n",
       "date                       \n",
       "2021-06-03  0.0  0.0  0.0  \n",
       "2021-06-04  0.0  0.0  0.0  \n",
       "2021-06-05  0.0  0.0  0.0  \n",
       "2021-06-06  0.0  0.0  0.0  \n",
       "2021-06-07  0.0  0.0  0.0  \n",
       "...         ...  ...  ...  \n",
       "2022-05-29  0.0  0.0  0.0  \n",
       "2022-05-30  0.0  0.0  0.0  \n",
       "2022-05-31  0.0  0.0  0.0  \n",
       "2022-06-01  0.0  0.0  0.0  \n",
       "2022-06-02  0.0  0.0  0.0  \n",
       "\n",
       "[338 rows x 543 columns]"
      ]
     },
     "execution_count": 24,
     "metadata": {},
     "output_type": "execute_result"
    }
   ],
   "source": [
    "df_vec_resample"
   ]
  },
  {
   "cell_type": "code",
   "execution_count": 25,
   "metadata": {},
   "outputs": [
    {
     "data": {
      "text/html": [
       "<div>\n",
       "<style scoped>\n",
       "    .dataframe tbody tr th:only-of-type {\n",
       "        vertical-align: middle;\n",
       "    }\n",
       "\n",
       "    .dataframe tbody tr th {\n",
       "        vertical-align: top;\n",
       "    }\n",
       "\n",
       "    .dataframe thead th {\n",
       "        text-align: right;\n",
       "    }\n",
       "</style>\n",
       "<table border=\"1\" class=\"dataframe\">\n",
       "  <thead>\n",
       "    <tr style=\"text-align: right;\">\n",
       "      <th></th>\n",
       "      <th>0</th>\n",
       "      <th>1</th>\n",
       "      <th>2</th>\n",
       "      <th>3</th>\n",
       "      <th>4</th>\n",
       "      <th>5</th>\n",
       "      <th>6</th>\n",
       "      <th>7</th>\n",
       "      <th>8</th>\n",
       "      <th>9</th>\n",
       "      <th>...</th>\n",
       "      <th>533</th>\n",
       "      <th>534</th>\n",
       "      <th>535</th>\n",
       "      <th>536</th>\n",
       "      <th>537</th>\n",
       "      <th>538</th>\n",
       "      <th>539</th>\n",
       "      <th>540</th>\n",
       "      <th>541</th>\n",
       "      <th>542</th>\n",
       "    </tr>\n",
       "    <tr>\n",
       "      <th>date</th>\n",
       "      <th></th>\n",
       "      <th></th>\n",
       "      <th></th>\n",
       "      <th></th>\n",
       "      <th></th>\n",
       "      <th></th>\n",
       "      <th></th>\n",
       "      <th></th>\n",
       "      <th></th>\n",
       "      <th></th>\n",
       "      <th></th>\n",
       "      <th></th>\n",
       "      <th></th>\n",
       "      <th></th>\n",
       "      <th></th>\n",
       "      <th></th>\n",
       "      <th></th>\n",
       "      <th></th>\n",
       "      <th></th>\n",
       "      <th></th>\n",
       "      <th></th>\n",
       "    </tr>\n",
       "  </thead>\n",
       "  <tbody>\n",
       "    <tr>\n",
       "      <th>2021-06-03</th>\n",
       "      <td>0.000000</td>\n",
       "      <td>0.000000</td>\n",
       "      <td>0.0</td>\n",
       "      <td>0.0</td>\n",
       "      <td>0.0</td>\n",
       "      <td>0.0</td>\n",
       "      <td>0.0</td>\n",
       "      <td>0.000000</td>\n",
       "      <td>0.0</td>\n",
       "      <td>0.000000</td>\n",
       "      <td>...</td>\n",
       "      <td>0.0</td>\n",
       "      <td>0.0</td>\n",
       "      <td>0.000000</td>\n",
       "      <td>0.0</td>\n",
       "      <td>0.0</td>\n",
       "      <td>0.000000</td>\n",
       "      <td>0.000000</td>\n",
       "      <td>0.0</td>\n",
       "      <td>0.0</td>\n",
       "      <td>0.0</td>\n",
       "    </tr>\n",
       "    <tr>\n",
       "      <th>2021-06-04</th>\n",
       "      <td>0.000000</td>\n",
       "      <td>0.000000</td>\n",
       "      <td>0.0</td>\n",
       "      <td>0.0</td>\n",
       "      <td>0.0</td>\n",
       "      <td>0.0</td>\n",
       "      <td>0.0</td>\n",
       "      <td>0.000000</td>\n",
       "      <td>0.0</td>\n",
       "      <td>0.000000</td>\n",
       "      <td>...</td>\n",
       "      <td>0.0</td>\n",
       "      <td>0.0</td>\n",
       "      <td>0.000000</td>\n",
       "      <td>0.0</td>\n",
       "      <td>0.0</td>\n",
       "      <td>0.000000</td>\n",
       "      <td>0.000000</td>\n",
       "      <td>0.0</td>\n",
       "      <td>0.0</td>\n",
       "      <td>0.0</td>\n",
       "    </tr>\n",
       "    <tr>\n",
       "      <th>2021-06-05</th>\n",
       "      <td>0.000000</td>\n",
       "      <td>0.000000</td>\n",
       "      <td>0.0</td>\n",
       "      <td>0.0</td>\n",
       "      <td>0.0</td>\n",
       "      <td>0.0</td>\n",
       "      <td>0.0</td>\n",
       "      <td>0.000000</td>\n",
       "      <td>0.0</td>\n",
       "      <td>0.000000</td>\n",
       "      <td>...</td>\n",
       "      <td>0.0</td>\n",
       "      <td>0.0</td>\n",
       "      <td>0.000000</td>\n",
       "      <td>0.0</td>\n",
       "      <td>0.0</td>\n",
       "      <td>0.000000</td>\n",
       "      <td>0.000000</td>\n",
       "      <td>0.0</td>\n",
       "      <td>0.0</td>\n",
       "      <td>0.0</td>\n",
       "    </tr>\n",
       "    <tr>\n",
       "      <th>2021-06-06</th>\n",
       "      <td>0.000000</td>\n",
       "      <td>0.000000</td>\n",
       "      <td>0.0</td>\n",
       "      <td>0.0</td>\n",
       "      <td>0.0</td>\n",
       "      <td>0.0</td>\n",
       "      <td>0.0</td>\n",
       "      <td>0.000000</td>\n",
       "      <td>0.0</td>\n",
       "      <td>0.000000</td>\n",
       "      <td>...</td>\n",
       "      <td>0.0</td>\n",
       "      <td>0.0</td>\n",
       "      <td>0.000000</td>\n",
       "      <td>0.0</td>\n",
       "      <td>0.0</td>\n",
       "      <td>0.000000</td>\n",
       "      <td>0.000000</td>\n",
       "      <td>0.0</td>\n",
       "      <td>0.0</td>\n",
       "      <td>0.0</td>\n",
       "    </tr>\n",
       "    <tr>\n",
       "      <th>2021-06-07</th>\n",
       "      <td>0.000000</td>\n",
       "      <td>0.000000</td>\n",
       "      <td>0.0</td>\n",
       "      <td>0.0</td>\n",
       "      <td>0.0</td>\n",
       "      <td>0.0</td>\n",
       "      <td>0.0</td>\n",
       "      <td>0.000000</td>\n",
       "      <td>0.0</td>\n",
       "      <td>0.000000</td>\n",
       "      <td>...</td>\n",
       "      <td>0.0</td>\n",
       "      <td>0.0</td>\n",
       "      <td>0.304608</td>\n",
       "      <td>0.0</td>\n",
       "      <td>0.0</td>\n",
       "      <td>0.506814</td>\n",
       "      <td>0.637186</td>\n",
       "      <td>0.0</td>\n",
       "      <td>0.0</td>\n",
       "      <td>0.0</td>\n",
       "    </tr>\n",
       "    <tr>\n",
       "      <th>...</th>\n",
       "      <td>...</td>\n",
       "      <td>...</td>\n",
       "      <td>...</td>\n",
       "      <td>...</td>\n",
       "      <td>...</td>\n",
       "      <td>...</td>\n",
       "      <td>...</td>\n",
       "      <td>...</td>\n",
       "      <td>...</td>\n",
       "      <td>...</td>\n",
       "      <td>...</td>\n",
       "      <td>...</td>\n",
       "      <td>...</td>\n",
       "      <td>...</td>\n",
       "      <td>...</td>\n",
       "      <td>...</td>\n",
       "      <td>...</td>\n",
       "      <td>...</td>\n",
       "      <td>...</td>\n",
       "      <td>...</td>\n",
       "      <td>...</td>\n",
       "    </tr>\n",
       "    <tr>\n",
       "      <th>2022-05-29</th>\n",
       "      <td>0.000000</td>\n",
       "      <td>0.000000</td>\n",
       "      <td>0.0</td>\n",
       "      <td>0.0</td>\n",
       "      <td>0.0</td>\n",
       "      <td>0.0</td>\n",
       "      <td>0.0</td>\n",
       "      <td>0.000000</td>\n",
       "      <td>0.0</td>\n",
       "      <td>0.000000</td>\n",
       "      <td>...</td>\n",
       "      <td>0.0</td>\n",
       "      <td>0.0</td>\n",
       "      <td>0.000000</td>\n",
       "      <td>0.0</td>\n",
       "      <td>0.0</td>\n",
       "      <td>0.506814</td>\n",
       "      <td>0.637186</td>\n",
       "      <td>0.0</td>\n",
       "      <td>0.0</td>\n",
       "      <td>0.0</td>\n",
       "    </tr>\n",
       "    <tr>\n",
       "      <th>2022-05-30</th>\n",
       "      <td>0.000000</td>\n",
       "      <td>0.000000</td>\n",
       "      <td>0.0</td>\n",
       "      <td>0.0</td>\n",
       "      <td>0.0</td>\n",
       "      <td>0.0</td>\n",
       "      <td>0.0</td>\n",
       "      <td>0.423463</td>\n",
       "      <td>0.0</td>\n",
       "      <td>0.000000</td>\n",
       "      <td>...</td>\n",
       "      <td>0.0</td>\n",
       "      <td>0.0</td>\n",
       "      <td>0.000000</td>\n",
       "      <td>0.0</td>\n",
       "      <td>0.0</td>\n",
       "      <td>0.000000</td>\n",
       "      <td>0.000000</td>\n",
       "      <td>0.0</td>\n",
       "      <td>0.0</td>\n",
       "      <td>0.0</td>\n",
       "    </tr>\n",
       "    <tr>\n",
       "      <th>2022-05-31</th>\n",
       "      <td>0.493306</td>\n",
       "      <td>0.513813</td>\n",
       "      <td>0.0</td>\n",
       "      <td>0.0</td>\n",
       "      <td>0.0</td>\n",
       "      <td>0.0</td>\n",
       "      <td>0.0</td>\n",
       "      <td>0.000000</td>\n",
       "      <td>0.0</td>\n",
       "      <td>0.000000</td>\n",
       "      <td>...</td>\n",
       "      <td>0.0</td>\n",
       "      <td>0.0</td>\n",
       "      <td>0.000000</td>\n",
       "      <td>0.0</td>\n",
       "      <td>0.0</td>\n",
       "      <td>0.000000</td>\n",
       "      <td>0.000000</td>\n",
       "      <td>0.0</td>\n",
       "      <td>0.0</td>\n",
       "      <td>0.0</td>\n",
       "    </tr>\n",
       "    <tr>\n",
       "      <th>2022-06-01</th>\n",
       "      <td>0.000000</td>\n",
       "      <td>0.000000</td>\n",
       "      <td>0.0</td>\n",
       "      <td>0.0</td>\n",
       "      <td>0.0</td>\n",
       "      <td>0.0</td>\n",
       "      <td>0.0</td>\n",
       "      <td>0.000000</td>\n",
       "      <td>0.0</td>\n",
       "      <td>0.491908</td>\n",
       "      <td>...</td>\n",
       "      <td>0.0</td>\n",
       "      <td>0.0</td>\n",
       "      <td>0.000000</td>\n",
       "      <td>0.0</td>\n",
       "      <td>0.0</td>\n",
       "      <td>0.000000</td>\n",
       "      <td>0.000000</td>\n",
       "      <td>0.0</td>\n",
       "      <td>0.0</td>\n",
       "      <td>0.0</td>\n",
       "    </tr>\n",
       "    <tr>\n",
       "      <th>2022-06-02</th>\n",
       "      <td>0.000000</td>\n",
       "      <td>0.000000</td>\n",
       "      <td>0.0</td>\n",
       "      <td>0.0</td>\n",
       "      <td>0.0</td>\n",
       "      <td>0.0</td>\n",
       "      <td>0.0</td>\n",
       "      <td>0.000000</td>\n",
       "      <td>0.0</td>\n",
       "      <td>0.000000</td>\n",
       "      <td>...</td>\n",
       "      <td>0.0</td>\n",
       "      <td>0.0</td>\n",
       "      <td>0.000000</td>\n",
       "      <td>0.0</td>\n",
       "      <td>0.0</td>\n",
       "      <td>0.000000</td>\n",
       "      <td>0.000000</td>\n",
       "      <td>0.0</td>\n",
       "      <td>0.0</td>\n",
       "      <td>0.0</td>\n",
       "    </tr>\n",
       "  </tbody>\n",
       "</table>\n",
       "<p>338 rows × 543 columns</p>\n",
       "</div>"
      ],
      "text/plain": [
       "                 0         1    2    3    4    5    6         7    8    \\\n",
       "date                                                                     \n",
       "2021-06-03  0.000000  0.000000  0.0  0.0  0.0  0.0  0.0  0.000000  0.0   \n",
       "2021-06-04  0.000000  0.000000  0.0  0.0  0.0  0.0  0.0  0.000000  0.0   \n",
       "2021-06-05  0.000000  0.000000  0.0  0.0  0.0  0.0  0.0  0.000000  0.0   \n",
       "2021-06-06  0.000000  0.000000  0.0  0.0  0.0  0.0  0.0  0.000000  0.0   \n",
       "2021-06-07  0.000000  0.000000  0.0  0.0  0.0  0.0  0.0  0.000000  0.0   \n",
       "...              ...       ...  ...  ...  ...  ...  ...       ...  ...   \n",
       "2022-05-29  0.000000  0.000000  0.0  0.0  0.0  0.0  0.0  0.000000  0.0   \n",
       "2022-05-30  0.000000  0.000000  0.0  0.0  0.0  0.0  0.0  0.423463  0.0   \n",
       "2022-05-31  0.493306  0.513813  0.0  0.0  0.0  0.0  0.0  0.000000  0.0   \n",
       "2022-06-01  0.000000  0.000000  0.0  0.0  0.0  0.0  0.0  0.000000  0.0   \n",
       "2022-06-02  0.000000  0.000000  0.0  0.0  0.0  0.0  0.0  0.000000  0.0   \n",
       "\n",
       "                 9    ...  533  534       535  536  537       538       539  \\\n",
       "date                  ...                                                     \n",
       "2021-06-03  0.000000  ...  0.0  0.0  0.000000  0.0  0.0  0.000000  0.000000   \n",
       "2021-06-04  0.000000  ...  0.0  0.0  0.000000  0.0  0.0  0.000000  0.000000   \n",
       "2021-06-05  0.000000  ...  0.0  0.0  0.000000  0.0  0.0  0.000000  0.000000   \n",
       "2021-06-06  0.000000  ...  0.0  0.0  0.000000  0.0  0.0  0.000000  0.000000   \n",
       "2021-06-07  0.000000  ...  0.0  0.0  0.304608  0.0  0.0  0.506814  0.637186   \n",
       "...              ...  ...  ...  ...       ...  ...  ...       ...       ...   \n",
       "2022-05-29  0.000000  ...  0.0  0.0  0.000000  0.0  0.0  0.506814  0.637186   \n",
       "2022-05-30  0.000000  ...  0.0  0.0  0.000000  0.0  0.0  0.000000  0.000000   \n",
       "2022-05-31  0.000000  ...  0.0  0.0  0.000000  0.0  0.0  0.000000  0.000000   \n",
       "2022-06-01  0.491908  ...  0.0  0.0  0.000000  0.0  0.0  0.000000  0.000000   \n",
       "2022-06-02  0.000000  ...  0.0  0.0  0.000000  0.0  0.0  0.000000  0.000000   \n",
       "\n",
       "            540  541  542  \n",
       "date                       \n",
       "2021-06-03  0.0  0.0  0.0  \n",
       "2021-06-04  0.0  0.0  0.0  \n",
       "2021-06-05  0.0  0.0  0.0  \n",
       "2021-06-06  0.0  0.0  0.0  \n",
       "2021-06-07  0.0  0.0  0.0  \n",
       "...         ...  ...  ...  \n",
       "2022-05-29  0.0  0.0  0.0  \n",
       "2022-05-30  0.0  0.0  0.0  \n",
       "2022-05-31  0.0  0.0  0.0  \n",
       "2022-06-01  0.0  0.0  0.0  \n",
       "2022-06-02  0.0  0.0  0.0  \n",
       "\n",
       "[338 rows x 543 columns]"
      ]
     },
     "execution_count": 25,
     "metadata": {},
     "output_type": "execute_result"
    }
   ],
   "source": [
    "df_vec_resample"
   ]
  },
  {
   "cell_type": "code",
   "execution_count": 27,
   "metadata": {},
   "outputs": [],
   "source": [
    "df_train_test = pd.merge(df_vec_resample, df_resample, left_index=True, right_index=True, how='inner')\n",
    "df_train_test.drop(columns=['vader_sentiment', 'flair_sentiment', 'textBlob_sentiment', 'Close/Last', 'Open'], inplace=True)"
   ]
  },
  {
   "cell_type": "markdown",
   "metadata": {},
   "source": [
    "### Train Test Split"
   ]
  },
  {
   "cell_type": "code",
   "execution_count": 29,
   "metadata": {},
   "outputs": [],
   "source": [
    "X = df_train_test.iloc[:, :-1]\n",
    "y = df_train_test.iloc[:, -1:].values.ravel()"
   ]
  },
  {
   "cell_type": "code",
   "execution_count": 30,
   "metadata": {},
   "outputs": [],
   "source": [
    "X_train, X_test, y_train, y_test = train_test_split(X, y, test_size=0.2)"
   ]
  },
  {
   "cell_type": "markdown",
   "metadata": {},
   "source": [
    "### Logistic Regression"
   ]
  },
  {
   "cell_type": "code",
   "execution_count": 31,
   "metadata": {},
   "outputs": [],
   "source": [
    "def scoring(train, pred):\n",
    "    \n",
    "    accuracy = accuracy_score(train, pred)\n",
    "    f1 = f1_score(train, pred)\n",
    "    precision = precision_score(train, pred)\n",
    "    recall = recall_score(train, pred)\n",
    "    \n",
    "    print(f'Accuracy score is: {accuracy}')\n",
    "    print('---')\n",
    "    print(f'F1 score is: {f1}')\n",
    "    print(f'Precision score is: {precision}')\n",
    "    print(f'Recall score is: {recall}')"
   ]
  },
  {
   "cell_type": "code",
   "execution_count": 32,
   "metadata": {},
   "outputs": [
    {
     "name": "stdout",
     "output_type": "stream",
     "text": [
      "tuned hpyerparameters :(best parameters)  {'C': 10000000000.0, 'penalty': 'l1'}\n",
      "accuracy : 0.5592592592592592\n"
     ]
    }
   ],
   "source": [
    "# Using Grid Search for finding the best parameter\n",
    "grid={\"C\": np.logspace(-10, 10, 7), \"penalty\":[\"l1\",\"l2\"]}# l1 lasso l2 ridge\n",
    "logreg=LogisticRegression(fit_intercept=False, solver='liblinear')\n",
    "logreg_cv=GridSearchCV(logreg, grid, cv=5)\n",
    "logreg_cv.fit(X_train, y_train)\n",
    "\n",
    "print(\"tuned hpyerparameters :(best parameters) \",logreg_cv.best_params_)\n",
    "print(\"accuracy :\",logreg_cv.best_score_)"
   ]
  },
  {
   "cell_type": "code",
   "execution_count": 33,
   "metadata": {},
   "outputs": [
    {
     "name": "stdout",
     "output_type": "stream",
     "text": [
      "Accuracy score is: 0.5588235294117647\n",
      "---\n",
      "F1 score is: 0.5161290322580646\n",
      "Precision score is: 0.5333333333333333\n",
      "Recall score is: 0.5\n"
     ]
    }
   ],
   "source": [
    "log_reg = LogisticRegression(fit_intercept=False, C=4641588, solver='liblinear', penalty=\"l2\")\n",
    "model_log = log_reg.fit(X_train, y_train)\n",
    "log_test_preds = log_reg.predict(X_test)\n",
    "scoring(y_test, log_test_preds)"
   ]
  },
  {
   "cell_type": "markdown",
   "metadata": {},
   "source": [
    "### Decision Tree"
   ]
  },
  {
   "cell_type": "code",
   "execution_count": 34,
   "metadata": {},
   "outputs": [],
   "source": [
    "grid = {'n_estimators': np.arange(1, 100, 2)}"
   ]
  },
  {
   "cell_type": "code",
   "execution_count": 35,
   "metadata": {},
   "outputs": [],
   "source": [
    "forest_classifier = RandomForestClassifier()\n",
    "forest_model = forest_classifier.fit(X_train, y_train)"
   ]
  },
  {
   "cell_type": "code",
   "execution_count": 36,
   "metadata": {},
   "outputs": [
    {
     "name": "stdout",
     "output_type": "stream",
     "text": [
      "tuned hpyerparameters :(best parameters)  {'n_estimators': 23}\n",
      "accuracy : 0.5555555555555556\n"
     ]
    }
   ],
   "source": [
    "logreg_cv=GridSearchCV(forest_classifier, grid, cv=5)\n",
    "logreg_cv.fit(X_train, y_train)\n",
    "print(\"tuned hpyerparameters :(best parameters) \", logreg_cv.best_params_)\n",
    "print(\"accuracy :\", logreg_cv.best_score_)"
   ]
  },
  {
   "cell_type": "code",
   "execution_count": 37,
   "metadata": {},
   "outputs": [
    {
     "name": "stdout",
     "output_type": "stream",
     "text": [
      "Accuracy score is: 0.6323529411764706\n",
      "---\n",
      "F1 score is: 0.626865671641791\n",
      "Precision score is: 0.6\n",
      "Recall score is: 0.65625\n"
     ]
    }
   ],
   "source": [
    "forest_classifier_tuned = RandomForestClassifier(n_estimators=80)\n",
    "forest_model = forest_classifier_tuned.fit(X_train, y_train)\n",
    "forest_preds = forest_model.predict(X_test)\n",
    "scoring(y_test, forest_preds)\n"
   ]
  },
  {
   "cell_type": "markdown",
   "metadata": {},
   "source": [
    "### SVM"
   ]
  },
  {
   "cell_type": "code",
   "execution_count": 38,
   "metadata": {},
   "outputs": [
    {
     "name": "stdout",
     "output_type": "stream",
     "text": [
      "Accuracy score is: 0.6029411764705882\n",
      "---\n",
      "F1 score is: 0.6666666666666666\n",
      "Precision score is: 0.5510204081632653\n",
      "Recall score is: 0.84375\n"
     ]
    }
   ],
   "source": [
    "clf = svm.SVC()\n",
    "clf.fit(X_train, y_train)\n",
    "svm_pred = clf.predict(X_test)\n",
    "scoring(y_test, svm_pred)"
   ]
  },
  {
   "cell_type": "markdown",
   "metadata": {},
   "source": [
    "### Deep Learning: Sequential Model"
   ]
  },
  {
   "cell_type": "code",
   "execution_count": 29,
   "metadata": {},
   "outputs": [
    {
     "data": {
      "text/html": [
       "<div>\n",
       "<style scoped>\n",
       "    .dataframe tbody tr th:only-of-type {\n",
       "        vertical-align: middle;\n",
       "    }\n",
       "\n",
       "    .dataframe tbody tr th {\n",
       "        vertical-align: top;\n",
       "    }\n",
       "\n",
       "    .dataframe thead th {\n",
       "        text-align: right;\n",
       "    }\n",
       "</style>\n",
       "<table border=\"1\" class=\"dataframe\">\n",
       "  <thead>\n",
       "    <tr style=\"text-align: right;\">\n",
       "      <th></th>\n",
       "      <th>text_cleaned</th>\n",
       "      <th>vader_sentiment</th>\n",
       "      <th>flair_sentiment</th>\n",
       "      <th>textBlob_sentiment</th>\n",
       "      <th>Close/Last</th>\n",
       "      <th>Open</th>\n",
       "      <th>movement</th>\n",
       "    </tr>\n",
       "    <tr>\n",
       "      <th>date</th>\n",
       "      <th></th>\n",
       "      <th></th>\n",
       "      <th></th>\n",
       "      <th></th>\n",
       "      <th></th>\n",
       "      <th></th>\n",
       "      <th></th>\n",
       "    </tr>\n",
       "  </thead>\n",
       "  <tbody>\n",
       "    <tr>\n",
       "      <th>2022-06-02</th>\n",
       "      <td>love tihings world hate jet lag</td>\n",
       "      <td>-0.7717</td>\n",
       "      <td>0.995204</td>\n",
       "      <td>0.066667</td>\n",
       "      <td>308.21</td>\n",
       "      <td>300.50</td>\n",
       "      <td>1</td>\n",
       "    </tr>\n",
       "    <tr>\n",
       "      <th>2022-06-02</th>\n",
       "      <td>malaysiaboleh</td>\n",
       "      <td>0.0000</td>\n",
       "      <td>0.583073</td>\n",
       "      <td>0.000000</td>\n",
       "      <td>308.21</td>\n",
       "      <td>300.50</td>\n",
       "      <td>1</td>\n",
       "    </tr>\n",
       "    <tr>\n",
       "      <th>2022-06-02</th>\n",
       "      <td>finish live interview cnbc squawk box studio haha</td>\n",
       "      <td>0.4588</td>\n",
       "      <td>-0.642573</td>\n",
       "      <td>0.168182</td>\n",
       "      <td>308.21</td>\n",
       "      <td>300.50</td>\n",
       "      <td>1</td>\n",
       "    </tr>\n",
       "    <tr>\n",
       "      <th>2022-06-02</th>\n",
       "      <td>ill speak point zero forum zurich switzerland ...</td>\n",
       "      <td>0.0000</td>\n",
       "      <td>0.716512</td>\n",
       "      <td>0.000000</td>\n",
       "      <td>308.21</td>\n",
       "      <td>300.50</td>\n",
       "      <td>1</td>\n",
       "    </tr>\n",
       "    <tr>\n",
       "      <th>2022-06-02</th>\n",
       "      <td>humble receive cryptowarrior gift malaysia par...</td>\n",
       "      <td>0.4404</td>\n",
       "      <td>0.997130</td>\n",
       "      <td>0.000000</td>\n",
       "      <td>308.21</td>\n",
       "      <td>300.50</td>\n",
       "      <td>1</td>\n",
       "    </tr>\n",
       "    <tr>\n",
       "      <th>...</th>\n",
       "      <td>...</td>\n",
       "      <td>...</td>\n",
       "      <td>...</td>\n",
       "      <td>...</td>\n",
       "      <td>...</td>\n",
       "      <td>...</td>\n",
       "      <td>...</td>\n",
       "    </tr>\n",
       "    <tr>\n",
       "      <th>2021-06-04</th>\n",
       "      <td>tweet hurt people finance funny irresponsible</td>\n",
       "      <td>-0.5267</td>\n",
       "      <td>-0.999880</td>\n",
       "      <td>-0.125000</td>\n",
       "      <td>410.64</td>\n",
       "      <td>406.32</td>\n",
       "      <td>1</td>\n",
       "    </tr>\n",
       "    <tr>\n",
       "      <th>2021-06-04</th>\n",
       "      <td>great power great responsibility great great p...</td>\n",
       "      <td>0.9552</td>\n",
       "      <td>-0.973885</td>\n",
       "      <td>0.267857</td>\n",
       "      <td>410.64</td>\n",
       "      <td>406.32</td>\n",
       "      <td>1</td>\n",
       "    </tr>\n",
       "    <tr>\n",
       "      <th>2021-06-04</th>\n",
       "      <td>dont manipulate hodl financial advice</td>\n",
       "      <td>0.2924</td>\n",
       "      <td>-0.998453</td>\n",
       "      <td>0.000000</td>\n",
       "      <td>410.64</td>\n",
       "      <td>406.32</td>\n",
       "      <td>1</td>\n",
       "    </tr>\n",
       "    <tr>\n",
       "      <th>2021-06-03</th>\n",
       "      <td>want see photo miami real people hang</td>\n",
       "      <td>0.0772</td>\n",
       "      <td>0.999000</td>\n",
       "      <td>0.200000</td>\n",
       "      <td>409.11</td>\n",
       "      <td>393.57</td>\n",
       "      <td>1</td>\n",
       "    </tr>\n",
       "    <tr>\n",
       "      <th>2021-06-03</th>\n",
       "      <td>ready bnbnfa</td>\n",
       "      <td>0.3612</td>\n",
       "      <td>0.997769</td>\n",
       "      <td>0.200000</td>\n",
       "      <td>409.11</td>\n",
       "      <td>393.57</td>\n",
       "      <td>1</td>\n",
       "    </tr>\n",
       "  </tbody>\n",
       "</table>\n",
       "<p>1397 rows × 7 columns</p>\n",
       "</div>"
      ],
      "text/plain": [
       "                                                 text_cleaned  \\\n",
       "date                                                            \n",
       "2022-06-02                    love tihings world hate jet lag   \n",
       "2022-06-02                                      malaysiaboleh   \n",
       "2022-06-02  finish live interview cnbc squawk box studio haha   \n",
       "2022-06-02  ill speak point zero forum zurich switzerland ...   \n",
       "2022-06-02  humble receive cryptowarrior gift malaysia par...   \n",
       "...                                                       ...   \n",
       "2021-06-04      tweet hurt people finance funny irresponsible   \n",
       "2021-06-04  great power great responsibility great great p...   \n",
       "2021-06-04              dont manipulate hodl financial advice   \n",
       "2021-06-03              want see photo miami real people hang   \n",
       "2021-06-03                                       ready bnbnfa   \n",
       "\n",
       "            vader_sentiment  flair_sentiment  textBlob_sentiment  Close/Last  \\\n",
       "date                                                                           \n",
       "2022-06-02          -0.7717         0.995204            0.066667      308.21   \n",
       "2022-06-02           0.0000         0.583073            0.000000      308.21   \n",
       "2022-06-02           0.4588        -0.642573            0.168182      308.21   \n",
       "2022-06-02           0.0000         0.716512            0.000000      308.21   \n",
       "2022-06-02           0.4404         0.997130            0.000000      308.21   \n",
       "...                     ...              ...                 ...         ...   \n",
       "2021-06-04          -0.5267        -0.999880           -0.125000      410.64   \n",
       "2021-06-04           0.9552        -0.973885            0.267857      410.64   \n",
       "2021-06-04           0.2924        -0.998453            0.000000      410.64   \n",
       "2021-06-03           0.0772         0.999000            0.200000      409.11   \n",
       "2021-06-03           0.3612         0.997769            0.200000      409.11   \n",
       "\n",
       "              Open  movement  \n",
       "date                          \n",
       "2022-06-02  300.50         1  \n",
       "2022-06-02  300.50         1  \n",
       "2022-06-02  300.50         1  \n",
       "2022-06-02  300.50         1  \n",
       "2022-06-02  300.50         1  \n",
       "...            ...       ...  \n",
       "2021-06-04  406.32         1  \n",
       "2021-06-04  406.32         1  \n",
       "2021-06-04  406.32         1  \n",
       "2021-06-03  393.57         1  \n",
       "2021-06-03  393.57         1  \n",
       "\n",
       "[1397 rows x 7 columns]"
      ]
     },
     "execution_count": 29,
     "metadata": {},
     "output_type": "execute_result"
    }
   ],
   "source": [
    "df"
   ]
  },
  {
   "cell_type": "markdown",
   "metadata": {},
   "source": [
    "#### Generating word embeddings by Keras Tokenizer"
   ]
  },
  {
   "cell_type": "code",
   "execution_count": 30,
   "metadata": {},
   "outputs": [],
   "source": [
    "tokenizer_obj = Tokenizer()\n",
    "tokenizer_obj.fit_on_texts(df['text_cleaned'])"
   ]
  },
  {
   "cell_type": "code",
   "execution_count": 31,
   "metadata": {},
   "outputs": [],
   "source": [
    "max_length = max([len(s.split()) for s in df['text_cleaned']])"
   ]
  },
  {
   "cell_type": "code",
   "execution_count": 32,
   "metadata": {},
   "outputs": [],
   "source": [
    "vocab_size = len(tokenizer_obj.word_index) + 1"
   ]
  },
  {
   "cell_type": "code",
   "execution_count": 34,
   "metadata": {},
   "outputs": [],
   "source": [
    "df_deep = df[['text_cleaned', 'movement']]"
   ]
  },
  {
   "cell_type": "code",
   "execution_count": 36,
   "metadata": {},
   "outputs": [],
   "source": [
    "X_deep_train, X_deep_test, y_deep_train, y_deep_test = train_test_split(df_deep.iloc[:, :-1], df_deep.iloc[:, -1:], test_size=0.2)"
   ]
  },
  {
   "cell_type": "code",
   "execution_count": 47,
   "metadata": {},
   "outputs": [
    {
     "data": {
      "text/html": [
       "<div>\n",
       "<style scoped>\n",
       "    .dataframe tbody tr th:only-of-type {\n",
       "        vertical-align: middle;\n",
       "    }\n",
       "\n",
       "    .dataframe tbody tr th {\n",
       "        vertical-align: top;\n",
       "    }\n",
       "\n",
       "    .dataframe thead th {\n",
       "        text-align: right;\n",
       "    }\n",
       "</style>\n",
       "<table border=\"1\" class=\"dataframe\">\n",
       "  <thead>\n",
       "    <tr style=\"text-align: right;\">\n",
       "      <th></th>\n",
       "      <th>text_cleaned</th>\n",
       "    </tr>\n",
       "    <tr>\n",
       "      <th>date</th>\n",
       "      <th></th>\n",
       "    </tr>\n",
       "  </thead>\n",
       "  <tbody>\n",
       "    <tr>\n",
       "      <th>2022-05-23</th>\n",
       "      <td>alright time upgrade something say</td>\n",
       "    </tr>\n",
       "    <tr>\n",
       "      <th>2022-05-21</th>\n",
       "      <td>please help upvote good question downvote blat...</td>\n",
       "    </tr>\n",
       "    <tr>\n",
       "      <th>2021-09-09</th>\n",
       "      <td>happy birthday binancetr</td>\n",
       "    </tr>\n",
       "    <tr>\n",
       "      <th>2021-12-22</th>\n",
       "      <td>big step bnb move close dao structure exchange...</td>\n",
       "    </tr>\n",
       "    <tr>\n",
       "      <th>2022-05-15</th>\n",
       "      <td>always right perspective failure canwill happe...</td>\n",
       "    </tr>\n",
       "    <tr>\n",
       "      <th>...</th>\n",
       "      <td>...</td>\n",
       "    </tr>\n",
       "    <tr>\n",
       "      <th>2021-07-11</th>\n",
       "      <td>get taxi driver say thank make app honestly ma...</td>\n",
       "    </tr>\n",
       "    <tr>\n",
       "      <th>2022-01-22</th>\n",
       "      <td>suspect bad guy create account bank crypto exc...</td>\n",
       "    </tr>\n",
       "    <tr>\n",
       "      <th>2021-10-16</th>\n",
       "      <td>burn bnb</td>\n",
       "    </tr>\n",
       "    <tr>\n",
       "      <th>2021-07-18</th>\n",
       "      <td>look back pro improve time</td>\n",
       "    </tr>\n",
       "    <tr>\n",
       "      <th>2021-11-14</th>\n",
       "      <td>crypto never sleep</td>\n",
       "    </tr>\n",
       "  </tbody>\n",
       "</table>\n",
       "<p>1117 rows × 1 columns</p>\n",
       "</div>"
      ],
      "text/plain": [
       "                                                 text_cleaned\n",
       "date                                                         \n",
       "2022-05-23                 alright time upgrade something say\n",
       "2022-05-21  please help upvote good question downvote blat...\n",
       "2021-09-09                           happy birthday binancetr\n",
       "2021-12-22  big step bnb move close dao structure exchange...\n",
       "2022-05-15  always right perspective failure canwill happe...\n",
       "...                                                       ...\n",
       "2021-07-11  get taxi driver say thank make app honestly ma...\n",
       "2022-01-22  suspect bad guy create account bank crypto exc...\n",
       "2021-10-16                                           burn bnb\n",
       "2021-07-18                         look back pro improve time\n",
       "2021-11-14                                 crypto never sleep\n",
       "\n",
       "[1117 rows x 1 columns]"
      ]
     },
     "execution_count": 47,
     "metadata": {},
     "output_type": "execute_result"
    }
   ],
   "source": [
    "X_deep_train"
   ]
  },
  {
   "cell_type": "code",
   "execution_count": 50,
   "metadata": {},
   "outputs": [],
   "source": [
    "X_deep_train_tokens = tokenizer_obj.texts_to_sequences(X_deep_train['text_cleaned'])\n",
    "X_deep_test_tokens = tokenizer_obj.texts_to_sequences(X_deep_test['text_cleaned'])\n",
    "\n",
    "X_deep_train_pad = pad_sequences(X_deep_train_tokens, maxlen=max_length, padding='post')\n",
    "X_deep_test_pad = pad_sequences(X_deep_test_tokens, maxlen=max_length, padding='post')"
   ]
  },
  {
   "cell_type": "code",
   "execution_count": 76,
   "metadata": {},
   "outputs": [
    {
     "data": {
      "text/plain": [
       "array([[1390,    9,  456, ...,    0,    0,    0],\n",
       "       [ 326,   37, 1415, ...,    0,    0,    0],\n",
       "       [ 111,  836, 2611, ...,    0,    0,    0],\n",
       "       ...,\n",
       "       [ 149,    5,    0, ...,    0,    0,    0],\n",
       "       [  63,   82, 2853, ...,    0,    0,    0],\n",
       "       [   2,   39,  852, ...,    0,    0,    0]])"
      ]
     },
     "execution_count": 76,
     "metadata": {},
     "output_type": "execute_result"
    }
   ],
   "source": [
    "X_deep_train_pad"
   ]
  },
  {
   "cell_type": "code",
   "execution_count": 61,
   "metadata": {},
   "outputs": [],
   "source": [
    "model = tf.keras.models.Sequential([\n",
    "     tf.keras.layers.Embedding(vocab_size, 100, input_length=max_length),\n",
    "     tf.keras.layers.GlobalAveragePooling1D(),\n",
    "     tf.keras.layers.Dense(6, activation='relu'),\n",
    "     tf.keras.layers.Dense(1, activation='sigmoid')\n",
    "\n",
    "])\n",
    "model.compile(\n",
    "     loss='sparse_categorical_crossentropy',\n",
    "     optimizer='adam',\n",
    "     metrics=['accuracy']\n",
    ")"
   ]
  },
  {
   "cell_type": "code",
   "execution_count": 63,
   "metadata": {},
   "outputs": [
    {
     "name": "stdout",
     "output_type": "stream",
     "text": [
      "Model: \"sequential_4\"\n",
      "_________________________________________________________________\n",
      "Layer (type)                 Output Shape              Param #   \n",
      "=================================================================\n",
      "embedding_5 (Embedding)      (None, 29, 100)           308800    \n",
      "_________________________________________________________________\n",
      "global_average_pooling1d (Gl (None, 100)               0         \n",
      "_________________________________________________________________\n",
      "dense_7 (Dense)              (None, 6)                 606       \n",
      "_________________________________________________________________\n",
      "dense_8 (Dense)              (None, 1)                 7         \n",
      "=================================================================\n",
      "Total params: 309,413\n",
      "Trainable params: 309,413\n",
      "Non-trainable params: 0\n",
      "_________________________________________________________________\n"
     ]
    }
   ],
   "source": [
    "model.summary()"
   ]
  },
  {
   "cell_type": "code",
   "execution_count": 62,
   "metadata": {},
   "outputs": [
    {
     "name": "stdout",
     "output_type": "stream",
     "text": [
      "Epoch 1/15\n",
      "35/35 [==============================] - 1s 23ms/step - loss: nan - accuracy: 0.4960 - val_loss: nan - val_accuracy: 0.5286\n",
      "Epoch 2/15\n",
      "35/35 [==============================] - 0s 12ms/step - loss: nan - accuracy: 0.4960 - val_loss: nan - val_accuracy: 0.5286\n",
      "Epoch 3/15\n",
      "35/35 [==============================] - 0s 9ms/step - loss: nan - accuracy: 0.4960 - val_loss: nan - val_accuracy: 0.5286\n",
      "Epoch 4/15\n",
      "35/35 [==============================] - 0s 9ms/step - loss: nan - accuracy: 0.4960 - val_loss: nan - val_accuracy: 0.5286\n",
      "Epoch 5/15\n",
      "35/35 [==============================] - 0s 9ms/step - loss: nan - accuracy: 0.4960 - val_loss: nan - val_accuracy: 0.5286\n",
      "Epoch 6/15\n",
      "35/35 [==============================] - 0s 9ms/step - loss: nan - accuracy: 0.4960 - val_loss: nan - val_accuracy: 0.5286\n"
     ]
    }
   ],
   "source": [
    "h = model.fit(\n",
    "     X_deep_train_pad, y_deep_train,\n",
    "     validation_data=(X_deep_test_pad, y_deep_test),\n",
    "     epochs=15,\n",
    "     callbacks=[tf.keras.callbacks.EarlyStopping(monitor='accuracy', patience=5)]\n",
    ")"
   ]
  },
  {
   "cell_type": "markdown",
   "metadata": {},
   "source": [
    "### Visualization t-SNE"
   ]
  },
  {
   "cell_type": "code",
   "execution_count": 65,
   "metadata": {},
   "outputs": [],
   "source": [
    "tsne = TSNE(n_components=3, verbose=0, perplexity=40, n_iter=300)\n"
   ]
  },
  {
   "cell_type": "code",
   "execution_count": 68,
   "metadata": {},
   "outputs": [
    {
     "data": {
      "text/plain": [
       "array([[  48,  406,  304, ...,    0,    0,    0],\n",
       "       [   5,    0,    0, ...,    0,    0,    0],\n",
       "       [ 402, 3087,    0, ...,    0,    0,    0],\n",
       "       ...,\n",
       "       [ 149,    5,    0, ...,    0,    0,    0],\n",
       "       [  63,   82, 2853, ...,    0,    0,    0],\n",
       "       [   2,   39,  852, ...,    0,    0,    0]])"
      ]
     },
     "execution_count": 68,
     "metadata": {},
     "output_type": "execute_result"
    }
   ],
   "source": [
    "np.concatenate((X_deep_test_pad, X_deep_train_pad))"
   ]
  },
  {
   "cell_type": "code",
   "execution_count": 69,
   "metadata": {},
   "outputs": [],
   "source": [
    "df_embeddings = pd.DataFrame(np.concatenate((X_deep_test_pad, X_deep_train_pad)))"
   ]
  },
  {
   "cell_type": "code",
   "execution_count": 71,
   "metadata": {},
   "outputs": [],
   "source": [
    "tsne_results = tsne.fit_transform(df_embeddings)"
   ]
  },
  {
   "cell_type": "code",
   "execution_count": 72,
   "metadata": {},
   "outputs": [],
   "source": [
    "df_subset = df.copy()\n",
    "df_subset['tsne-2d-one'] = tsne_results[:, 0]\n",
    "df_subset['tsne-2d-two'] = tsne_results[:, 1]\n"
   ]
  },
  {
   "cell_type": "code",
   "execution_count": 73,
   "metadata": {},
   "outputs": [
    {
     "data": {
      "text/html": [
       "<div>\n",
       "<style scoped>\n",
       "    .dataframe tbody tr th:only-of-type {\n",
       "        vertical-align: middle;\n",
       "    }\n",
       "\n",
       "    .dataframe tbody tr th {\n",
       "        vertical-align: top;\n",
       "    }\n",
       "\n",
       "    .dataframe thead th {\n",
       "        text-align: right;\n",
       "    }\n",
       "</style>\n",
       "<table border=\"1\" class=\"dataframe\">\n",
       "  <thead>\n",
       "    <tr style=\"text-align: right;\">\n",
       "      <th></th>\n",
       "      <th>text_cleaned</th>\n",
       "      <th>vader_sentiment</th>\n",
       "      <th>flair_sentiment</th>\n",
       "      <th>textBlob_sentiment</th>\n",
       "      <th>Close/Last</th>\n",
       "      <th>Open</th>\n",
       "      <th>movement</th>\n",
       "      <th>tsne-2d-one</th>\n",
       "      <th>tsne-2d-two</th>\n",
       "    </tr>\n",
       "    <tr>\n",
       "      <th>date</th>\n",
       "      <th></th>\n",
       "      <th></th>\n",
       "      <th></th>\n",
       "      <th></th>\n",
       "      <th></th>\n",
       "      <th></th>\n",
       "      <th></th>\n",
       "      <th></th>\n",
       "      <th></th>\n",
       "    </tr>\n",
       "  </thead>\n",
       "  <tbody>\n",
       "    <tr>\n",
       "      <th>2022-06-02</th>\n",
       "      <td>love tihings world hate jet lag</td>\n",
       "      <td>-0.7717</td>\n",
       "      <td>0.995204</td>\n",
       "      <td>0.066667</td>\n",
       "      <td>308.21</td>\n",
       "      <td>300.50</td>\n",
       "      <td>1</td>\n",
       "      <td>0.614203</td>\n",
       "      <td>0.791021</td>\n",
       "    </tr>\n",
       "    <tr>\n",
       "      <th>2022-06-02</th>\n",
       "      <td>malaysiaboleh</td>\n",
       "      <td>0.0000</td>\n",
       "      <td>0.583073</td>\n",
       "      <td>0.000000</td>\n",
       "      <td>308.21</td>\n",
       "      <td>300.50</td>\n",
       "      <td>1</td>\n",
       "      <td>-13.264234</td>\n",
       "      <td>2.525984</td>\n",
       "    </tr>\n",
       "    <tr>\n",
       "      <th>2022-06-02</th>\n",
       "      <td>finish live interview cnbc squawk box studio haha</td>\n",
       "      <td>0.4588</td>\n",
       "      <td>-0.642573</td>\n",
       "      <td>0.168182</td>\n",
       "      <td>308.21</td>\n",
       "      <td>300.50</td>\n",
       "      <td>1</td>\n",
       "      <td>11.259660</td>\n",
       "      <td>-1.540276</td>\n",
       "    </tr>\n",
       "    <tr>\n",
       "      <th>2022-06-02</th>\n",
       "      <td>ill speak point zero forum zurich switzerland ...</td>\n",
       "      <td>0.0000</td>\n",
       "      <td>0.716512</td>\n",
       "      <td>0.000000</td>\n",
       "      <td>308.21</td>\n",
       "      <td>300.50</td>\n",
       "      <td>1</td>\n",
       "      <td>-0.562552</td>\n",
       "      <td>-1.592566</td>\n",
       "    </tr>\n",
       "    <tr>\n",
       "      <th>2022-06-02</th>\n",
       "      <td>humble receive cryptowarrior gift malaysia par...</td>\n",
       "      <td>0.4404</td>\n",
       "      <td>0.997130</td>\n",
       "      <td>0.000000</td>\n",
       "      <td>308.21</td>\n",
       "      <td>300.50</td>\n",
       "      <td>1</td>\n",
       "      <td>-11.062160</td>\n",
       "      <td>-1.518840</td>\n",
       "    </tr>\n",
       "    <tr>\n",
       "      <th>...</th>\n",
       "      <td>...</td>\n",
       "      <td>...</td>\n",
       "      <td>...</td>\n",
       "      <td>...</td>\n",
       "      <td>...</td>\n",
       "      <td>...</td>\n",
       "      <td>...</td>\n",
       "      <td>...</td>\n",
       "      <td>...</td>\n",
       "    </tr>\n",
       "    <tr>\n",
       "      <th>2021-06-04</th>\n",
       "      <td>tweet hurt people finance funny irresponsible</td>\n",
       "      <td>-0.5267</td>\n",
       "      <td>-0.999880</td>\n",
       "      <td>-0.125000</td>\n",
       "      <td>410.64</td>\n",
       "      <td>406.32</td>\n",
       "      <td>1</td>\n",
       "      <td>10.381190</td>\n",
       "      <td>3.661389</td>\n",
       "    </tr>\n",
       "    <tr>\n",
       "      <th>2021-06-04</th>\n",
       "      <td>great power great responsibility great great p...</td>\n",
       "      <td>0.9552</td>\n",
       "      <td>-0.973885</td>\n",
       "      <td>0.267857</td>\n",
       "      <td>410.64</td>\n",
       "      <td>406.32</td>\n",
       "      <td>1</td>\n",
       "      <td>-0.635920</td>\n",
       "      <td>-5.695401</td>\n",
       "    </tr>\n",
       "    <tr>\n",
       "      <th>2021-06-04</th>\n",
       "      <td>dont manipulate hodl financial advice</td>\n",
       "      <td>0.2924</td>\n",
       "      <td>-0.998453</td>\n",
       "      <td>0.000000</td>\n",
       "      <td>410.64</td>\n",
       "      <td>406.32</td>\n",
       "      <td>1</td>\n",
       "      <td>-9.905621</td>\n",
       "      <td>-3.049061</td>\n",
       "    </tr>\n",
       "    <tr>\n",
       "      <th>2021-06-03</th>\n",
       "      <td>want see photo miami real people hang</td>\n",
       "      <td>0.0772</td>\n",
       "      <td>0.999000</td>\n",
       "      <td>0.200000</td>\n",
       "      <td>409.11</td>\n",
       "      <td>393.57</td>\n",
       "      <td>1</td>\n",
       "      <td>8.728004</td>\n",
       "      <td>6.010097</td>\n",
       "    </tr>\n",
       "    <tr>\n",
       "      <th>2021-06-03</th>\n",
       "      <td>ready bnbnfa</td>\n",
       "      <td>0.3612</td>\n",
       "      <td>0.997769</td>\n",
       "      <td>0.200000</td>\n",
       "      <td>409.11</td>\n",
       "      <td>393.57</td>\n",
       "      <td>1</td>\n",
       "      <td>-4.449071</td>\n",
       "      <td>9.087892</td>\n",
       "    </tr>\n",
       "  </tbody>\n",
       "</table>\n",
       "<p>1397 rows × 9 columns</p>\n",
       "</div>"
      ],
      "text/plain": [
       "                                                 text_cleaned  \\\n",
       "date                                                            \n",
       "2022-06-02                    love tihings world hate jet lag   \n",
       "2022-06-02                                      malaysiaboleh   \n",
       "2022-06-02  finish live interview cnbc squawk box studio haha   \n",
       "2022-06-02  ill speak point zero forum zurich switzerland ...   \n",
       "2022-06-02  humble receive cryptowarrior gift malaysia par...   \n",
       "...                                                       ...   \n",
       "2021-06-04      tweet hurt people finance funny irresponsible   \n",
       "2021-06-04  great power great responsibility great great p...   \n",
       "2021-06-04              dont manipulate hodl financial advice   \n",
       "2021-06-03              want see photo miami real people hang   \n",
       "2021-06-03                                       ready bnbnfa   \n",
       "\n",
       "            vader_sentiment  flair_sentiment  textBlob_sentiment  Close/Last  \\\n",
       "date                                                                           \n",
       "2022-06-02          -0.7717         0.995204            0.066667      308.21   \n",
       "2022-06-02           0.0000         0.583073            0.000000      308.21   \n",
       "2022-06-02           0.4588        -0.642573            0.168182      308.21   \n",
       "2022-06-02           0.0000         0.716512            0.000000      308.21   \n",
       "2022-06-02           0.4404         0.997130            0.000000      308.21   \n",
       "...                     ...              ...                 ...         ...   \n",
       "2021-06-04          -0.5267        -0.999880           -0.125000      410.64   \n",
       "2021-06-04           0.9552        -0.973885            0.267857      410.64   \n",
       "2021-06-04           0.2924        -0.998453            0.000000      410.64   \n",
       "2021-06-03           0.0772         0.999000            0.200000      409.11   \n",
       "2021-06-03           0.3612         0.997769            0.200000      409.11   \n",
       "\n",
       "              Open  movement  tsne-2d-one  tsne-2d-two  \n",
       "date                                                    \n",
       "2022-06-02  300.50         1     0.614203     0.791021  \n",
       "2022-06-02  300.50         1   -13.264234     2.525984  \n",
       "2022-06-02  300.50         1    11.259660    -1.540276  \n",
       "2022-06-02  300.50         1    -0.562552    -1.592566  \n",
       "2022-06-02  300.50         1   -11.062160    -1.518840  \n",
       "...            ...       ...          ...          ...  \n",
       "2021-06-04  406.32         1    10.381190     3.661389  \n",
       "2021-06-04  406.32         1    -0.635920    -5.695401  \n",
       "2021-06-04  406.32         1    -9.905621    -3.049061  \n",
       "2021-06-03  393.57         1     8.728004     6.010097  \n",
       "2021-06-03  393.57         1    -4.449071     9.087892  \n",
       "\n",
       "[1397 rows x 9 columns]"
      ]
     },
     "execution_count": 73,
     "metadata": {},
     "output_type": "execute_result"
    }
   ],
   "source": [
    "df_subset"
   ]
  },
  {
   "cell_type": "code",
   "execution_count": 74,
   "metadata": {},
   "outputs": [
    {
     "data": {
      "text/plain": [
       "1332"
      ]
     },
     "execution_count": 74,
     "metadata": {},
     "output_type": "execute_result"
    }
   ],
   "source": [
    "len(df_subset.text_cleaned.value_counts())"
   ]
  },
  {
   "cell_type": "code",
   "execution_count": 75,
   "metadata": {},
   "outputs": [
    {
     "data": {
      "application/vnd.plotly.v1+json": {
       "config": {
        "plotlyServerURL": "https://plot.ly"
       },
       "data": [
        {
         "customdata": [
          [
           "love tihings world hate jet lag"
          ],
          [
           "malaysiaboleh"
          ],
          [
           "finish live interview cnbc squawk box studio haha"
          ],
          [
           "ill speak point zero forum zurich switzerland later month discuss decentralize finance web embed finance sustainable finance"
          ],
          [
           "humble receive cryptowarrior gift malaysia partner"
          ],
          [
           "tweet comment"
          ],
          [
           "continue invest industry"
          ],
          [
           "czinmy"
          ],
          [
           "adoption take time stoppedsiri answer"
          ],
          [
           "author whose name first program language learnt pascal"
          ],
          [
           "lhomme est un roseau pensant"
          ],
          [
           "go get tough builder shine even bright"
          ],
          [
           "shop mall hotel four mixeduse community accept crypto binance payadoption continue bnb"
          ],
          [
           "crypto money launder inconvenient truth spoiler overwhelming majority money launder go traditional banking system crypto"
          ],
          [
           "avoid like plague"
          ],
          [
           "bear market actually easy spot weak project founder money drive instead mission driven"
          ],
          [
           "track hour"
          ],
          [
           "staff el salvador grow long term commitment solve problem"
          ],
          [
           "year ago istanbul"
          ],
          [
           "info"
          ],
          [
           "team work flat distribute luna airdrop binance user big user base please bear process airdrop need bit time execute thanks"
          ],
          [
           "credibility ultimate currency"
          ],
          [
           "binance ottiene la registrazione italia"
          ],
          [
           "blockchain new technology money develop local crypto industry today devastate effect future local economy"
          ],
          [
           "play table tennis minister digital bagdat mussin kazakhstan suitbefore time also play minister dubai oncei lose time well keep job"
          ],
          [
           "action speaks louder word"
          ],
          [
           "binance grant regulatory approval italy"
          ],
          [
           "break binance register italy"
          ],
          [
           "ja hotel one old chain uae hotel dubai maldives seychelles etc sign binance paypushing adoption"
          ],
          [
           "credit"
          ],
          [
           "look like binancepizza"
          ],
          [
           "success come many thing come well select thing focus"
          ],
          [
           "one control bitcoin network"
          ],
          [
           "right thing stress"
          ],
          [
           "know category binance"
          ],
          [
           "gift"
          ],
          [
           "kazakhstan"
          ],
          [
           "crypto music"
          ],
          [
           "push adoption never stop"
          ],
          [
           "president republic kazakhstan kassymjomart tokayev meet ceo binance changpeng zhao"
          ],
          [
           "build"
          ],
          [
           "bnb"
          ],
          [
           "year ago bnb price"
          ],
          [
           "growth exponential halfway mark cross chasm soonin adult hold used crypto mostly investment say used crypto buy something make payment send money friend family"
          ],
          [
           "hodl hold dear lifei learn day ago learn something new everyday"
          ],
          [
           "user shareholdersif problem bye"
          ],
          [
           "quickly slowly dont stop"
          ],
          [
           "alright time upgrade something say"
          ],
          [
           "someone send picture claim know well treat scammersmy real friend dont dont need"
          ],
          [
           "welcome dubaidubai grant exsingapore parliamentarian calvin chengs web company virtual asset license"
          ],
          [
           "hear free pizza"
          ],
          [
           "bless busy sunday"
          ],
          [
           "casually say leadership chat money lol"
          ],
          [
           "see sign tell work extraordinary company usually decision make thing hard say never work anywhere make quickly"
          ],
          [
           "let increase financial inclusion cryptodata source global findex"
          ],
          [
           "saw article insider trading zerotolerance policy hold high standard investigator review wallet none associate binance employeesif see anything suspicious email auditbinancecom"
          ],
          [
           "even try let project team know list sometimes completely avoided require technical assistance wallet integration etcplease use whistleblower email notice suspicious activity"
          ],
          [
           "thanks question answer many could seem reddit take ama thread work get back see answer"
          ],
          [
           "reddit ama start soon ask question"
          ],
          [
           "please help upvote good question downvote blatant spam"
          ],
          [
           "ama reddit later"
          ],
          [
           "thanks mister pizza let use shop teach make pizza"
          ],
          [
           "happy bitcoinpizzaday"
          ],
          [
           "new job binancepizza"
          ],
          [
           "charlieshrem talk year ago finally meet person welcome crypto"
          ],
          [
           "je suis cannes avec davidlisnard merci pour le vin"
          ],
          [
           "bnb chain offer another lifeline terra ecosystem project"
          ],
          [
           "experience withdrawal slow down check blockchain"
          ],
          [
           "maverick great movie must admit watch movie cast beside pretty cool experience"
          ],
          [
           "idol tomcruise cannesfilmfestival"
          ],
          [
           "first time tux life go see movielet bring movie web"
          ],
          [
           "nice nice"
          ],
          [
           "dubai museum future impressive definitely worth visit do twice already usually thing"
          ],
          [
           "dubai museum future binance nft launch firstever nft collection"
          ],
          [
           "good old day"
          ],
          [
           "whole place pack first many people audience"
          ],
          [
           "ask want put make go stage say"
          ],
          [
           "go live"
          ],
          [
           "hour"
          ],
          [
           "meet binance angel germany yesterdaybinance angel community volunteer pay mission driven"
          ],
          [
           "welcome bnb chain rough time bnb community ready welcome project need assistance"
          ],
          [
           "focus help project build grow crypto together"
          ],
          [
           "hire aggressively find apply first testfilter"
          ],
          [
           "diamond hand look like coin never move receive addressthis nontrader hold strategy adopt strategy also diversification nfa"
          ],
          [
           "lot people reassure fact unlike traditional finance even big player like cz end bag holder crypto industry lesson manage risk handle"
          ],
          [
           "poor"
          ],
          [
           "take break different topic tech real use blockchain fund type research manufacturing right"
          ],
          [
           "smh"
          ],
          [
           "protect user"
          ],
          [
           "important partto lead example protect user binance let go ask terra project team compensate retail user first binance last ever binance min discussion fully support proposal"
          ],
          [
           "address ust staking time buy also never move sell"
          ],
          [
           "interest update full transparency lead protect usersas turn ust pair fee begin didnt know team tell much ust therewe"
          ],
          [
           "binance receive luna peak worth billion usd much part original invest return peak still sit address receive never move sell address"
          ],
          [
           "adoption"
          ],
          [
           "francescoberti"
          ],
          [
           "honor chat mp francesco others italy last week many thanks write summary"
          ],
          [
           "ask rumor round investment ust discussion never closedbinance buy ust"
          ],
          [
           "read comment twitter occur havent ask team binance ust dont access admin backend security reason always ask someone get info ask"
          ],
          [
           "probably trading fee probably value close think free trading past haha wasnt mind prioritize thing user first"
          ],
          [
           "regard would like see transparency much include specific onchain transaction txids fund rely party analysis sufficient accurate first thing happen"
          ],
          [
           "always right perspective failure canwill happen transparency speedy communication own responsibility community extremely important"
          ],
          [
           "hop project team rise ash rebuild proper sensible way regardless personal view solution choose end always support community way"
          ],
          [
           "last day try hard support terra community tweet simply point potential issue understand mint fork create value buy back burn require fund fund project team may"
          ],
          [
           "binance lab invest hundred project last year include exchange competitor many compete blockchains fall wayside extremely successful investment work"
          ],
          [
           "past week proven watershed moment crypto industry witness rapid decline major project send ripple across industry also new found resiliency market exist last market downswing"
          ],
          [
           "binance participate round luna fund raise acquire ust binance lab invest usd terra layer blockchain ust come much later initial investment"
          ],
          [
           "first need address falsehood circulate crypto twitter"
          ],
          [
           "dont hold ust never dont know well usually busy thing drag"
          ],
          [
           "shouldnt btc use buy back ust first"
          ],
          [
           "personal opinion nfa wont work fork give new fork value thats wishful think one cannot void transaction old snapshot onchain offchain exchangeswhere btc suppose use reserve"
          ],
          [
           "learn little bit every daydead cat bounce binance academy"
          ],
          [
           "design flaw mint coin print money create value dilute exist coin holder incentives create value bootstrap mechanism build product people use"
          ],
          [
           "million reason thank support million reason fight safety user"
          ],
          [
           "cant mint way bankruptcy time"
          ],
          [
           "many people dont get point didnt push issue terra blockchain may still halt mode bad super minting"
          ],
          [
           "nophone meeting least progressluna blockchain resume mintingand deposit withdrawal trading resume trade important exist holdersplease buy coin trading dyor extreme caution"
          ],
          [
           "nan"
          ],
          [
           "know different opinion community felt suspend trading best way protect user time continue monitor situation closely action announce binance cz"
          ],
          [
           "sharp contrast axie infinity team take accountability plan communicate proactively help"
          ],
          [
           "binance always aim neutral helpful protective user industry peer typically refrain comment project break rule time"
          ],
          [
           "disappointed ustluna incident handle handled terra team request team restore network burn extra mint luna recover ust peg far gotten positive response much response"
          ],
          [
           "user unaware large amount newly mint luna outside exchange start buy luna without understand soon deposit allow price likely crash due significant risk suspend trading"
          ],
          [
           "binance prioritize user protection make decision suspend luna ust trading here thread"
          ],
          [
           "exponential amount new luna mint due flaw design terra protocol validators suspend entire network result deposit withdrawal possible exchange"
          ],
          [
           "fun visit training center lazio pepe reina hand shake like robot arm nothing get hand"
          ],
          [
           "still"
          ],
          [
           "every seller buyer"
          ],
          [
           "think crypto volatile look stock make situation well crypto zoom learn risk management"
          ],
          [
           "end day need go back fundamental build real product reliant short term incentive promotion intrinsic value people use"
          ],
          [
           "anything else need humbly respect market cocky build step step day day leave rest market timestay safu"
          ],
          [
           "new market many innovation algo stable coin one hot rage drop vicious circle innovation become successful many"
          ],
          [
           "many ask market today need respect market level caution go cycle especially fact always make sense"
          ],
          [
           "importance fiat reservebacked stablecoins"
          ],
          [
           "high system blockchain load today binance trading server issue maintenance mode team recover min system spot future fine"
          ],
          [
           "blockchain congestion node sync issue eth also high fee luna deposit withdrawal may take long usual process network work fine team monitor closely fund safu"
          ],
          [
           "forbes incontra changpeng zao il fondatore dellexchange di criptovalue binance"
          ],
          [
           "positive side crypto stay"
          ],
          [
           "one leverage stable coin"
          ],
          [
           "previous wrong post big intern cz"
          ],
          [
           "il di binance cerca spazio italia le crypto rivoluzionano il denaro il sole ore"
          ],
          [
           "il di binance cerca spazio italia le crypto rivoluzionano il denaro il sole ore"
          ],
          [
           "many country want web"
          ],
          [
           "enlightenment"
          ],
          [
           "bit packed high energy though binance meet"
          ],
          [
           "binancians italy early bird see event soon"
          ],
          [
           "buongiorno"
          ],
          [
           "emotion panic dip probably invest try reduce investment size much good position control emotions increase position handle emotion"
          ],
          [
           "might first time painful first time bitcoin look flat look flat year"
          ],
          [
           "last day binance get france registration binance invests twitter elon binance sponsor argentina national football team binance sponsor brasileirão bnb thanks stocksno sweat build continue"
          ],
          [
           "bnb binance new exclusive crypto sponsor brasileirão binance blog"
          ],
          [
           "best super power human ability formlead teamsnegative people dont make far life nice people"
          ],
          [
           "narrativeshaters flee restaurantlovers buy restaurant make accept cryptojoggers run restaurant lunch"
          ],
          [
           "maybe many traditional medium still bitcoin use drug lord narrative head completely false actually look data"
          ],
          [
           "hodl never easy"
          ],
          [
           "bnb"
          ],
          [
           "binance invests twittersupport free speechsmall entrepreneur support big entrepreneursinvest tool use myselfmission alignment bring web web crypto funding societal platform video"
          ],
          [
           "hope dip people sell crypto buy gift mother good son daughtershappy mother day"
          ],
          [
           "adoption haha"
          ],
          [
           "staff el salvador grow"
          ],
          [
           "look forward spot binance miamigp weekend alpinef car"
          ],
          [
           "live ama"
          ],
          [
           "live"
          ],
          [
           "unlimited supply money limit supply money hard choose"
          ],
          [
           "ask anything try cover much see hour"
          ],
          [
           "imagine twitter suggest tweet lol"
          ],
          [
           "havent type email age thing change seem gmail know say"
          ],
          [
           "probably nothing"
          ],
          [
           "web swipe right leave anywhere wish web hold"
          ],
          [
           "get use become strong"
          ],
          [
           "lol blank check smart business instead help web tackle web issue social medium like bot privacy grow adoption crypto blockchain"
          ],
          [
           "burj al arab dubai nice sunny beach shadow"
          ],
          [
           "typo cause"
          ],
          [
           "sometimes feel like journalist wish fight others story write write story cause fight"
          ],
          [
           "good article title viewdo thing binance work closely country let double effort push industry france uk beyond binance warm welcome france financial time"
          ],
          [
           "usually dont read news"
          ],
          [
           "basically people join crypto uae beyond"
          ],
          [
           "good content article choice word try really hard paint negative narrative burj al arab nice sunny beach shadowsmany country embrace crypto tighteningoverall good coverage though"
          ],
          [
           "crypto safer fiatchainalysis transaction involve illicit address represent cryptocurrency transaction volume nation estimate money launder globally one year global gdp trillion usdsources"
          ],
          [
           "know get chart one screen"
          ],
          [
           "crypto shouldnt correlate stock right another moment know right world hasnt caught yet stock plunge trader fret feed quagmire market wrap"
          ],
          [
           "market doesnt make sense later always"
          ],
          [
           "crypto twitter"
          ],
          [
           "small contribution cause"
          ],
          [
           "country move crypto"
          ],
          [
           "nice little video nasdaily story stupid kid conviction"
          ],
          [
           "go live bloomberg min set studio mean laptoplink"
          ],
          [
           "last day sofeb dubai pass virtual asset lawmar issue eo cbdcmar binance get bahrain licensemar binance get dubai licensemar rio accept crypto tax paymentsapr binance get sweden registration"
          ],
          [
           "apr uk plan crypto hubapr sec approve bitcoin future etfapr sweden completes phase cbdc testsapr binance get abu dhabi inprinciple approvalmay binance get france vasp registrationbuild continue"
          ],
          [
           "crypto exchange binance win regulatory approval france"
          ],
          [
           "blockchains stop neither"
          ],
          [
           "binance fully regulate digital asset service provider france binance blog"
          ],
          [
           "binance pick paris regional hub europe wsj"
          ],
          [
           "company binance say would make paris european hub france financial market regulator formally grant binance right offer market service local customer"
          ],
          [
           "hows français"
          ],
          [
           "crypto exchange binance get french regulatory nod european push bloomberg"
          ],
          [
           "small edit binance grant digital asset service provider dasp registration operate france get one letter wrong tweet"
          ],
          [
           "que la force soit avec toi"
          ],
          [
           "binance get approved france vasp virtual asset service provider registration"
          ],
          [
           "dont learn crypto dont care money"
          ],
          [
           "blockchain disruptive potential pay uae"
          ],
          [
           "characteristic money durability portability divisibility uniformity limit supply acceptabilitythink miss freedom transaction invest pretty close"
          ],
          [
           "make plan huge opportunity cost execute"
          ],
          [
           "still omit bnb"
          ],
          [
           "type people know need bitcoin dont know yet"
          ],
          [
           "right place crypto regulator"
          ],
          [
           "read finance relate book min everyday one sure way make richif dont know start economics one lesson henry hazlitt easy read"
          ],
          [
           "revenue anything user spend coin pay developer virtual good network fee etc sustainability revenue incentive"
          ],
          [
           "incentive like playtoearn stake airdrop etc great attract new user project dont revenue model great incentive coin price eventually crash due supplythe key build product people use"
          ],
          [
           "blockchains low fee always available"
          ],
          [
           "someone else want something mean must itjust someone want something mean discard fact opportunity contrarian situation discover understand hold want"
          ],
          [
           "wenbinance want list coin binance read"
          ],
          [
           "need sellpromote bitcoin people already make mind dont want itwe dont need adoption currently adoption probably less teach others may need"
          ],
          [
           "dont need otherwarren enough paper money happybitcoin enough supporter grow"
          ],
          [
           "issue coin coin experienced inflation right"
          ],
          [
           "measure inflation use vague carefully select easily manipulate item priceswhy dont measure inflation directly money supply"
          ],
          [
           "may peace safety good health prosperity eid mubarak"
          ],
          [
           "binance drive crypto blockchain awareness among indian investor"
          ],
          [
           "everything volatile relative"
          ],
          [
           "protect user help grow"
          ],
          [
           "one want first one dare lastmore soon"
          ],
          [
           "call advance specie dont understand money educate"
          ],
          [
           "interesting opinion piece"
          ],
          [
           "poyraz say binance block peskova march try use exchange thirdparty brokerage sanction treasury department march war people"
          ],
          [
           "crypto traceable tigran gambaryan key law enforcement figure story work binance keep crypto safu"
          ],
          [
           "country achieve best balance encourage technology innovation fight bad actor protect user win current fintech evolution advantage result benefit local economy"
          ],
          [
           "binance award reputable crypto exchange turkey i̇tibar akademisi"
          ],
          [
           "btc mining hash rate ath know follow"
          ],
          [
           "damac one large property developer middle east accepts crypto payment"
          ],
          [
           "virtual real right real"
          ],
          [
           "binance introduces new crypto card ukrainian refugee"
          ],
          [
           "wen launchpool"
          ],
          [
           "knew recently follow guy reason know"
          ],
          [
           "twitter feature call quote tweet provide freedom speech comment tweet follower occasionally look evident last tweet"
          ],
          [
           "free speech free economy strong country"
          ],
          [
           "crypto big case heard yet"
          ],
          [
           "let grow industry together"
          ],
          [
           "record chat ft early skip"
          ],
          [
           "legend"
          ],
          [
           "live ft soon anyone public link"
          ],
          [
           "probably nothing fidelity new offering invest bitcoin"
          ],
          [
           "changpeng zhao binance las criptomonedas estarán por toda part economía el país"
          ],
          [
           "two royal family member ambassador binancian hang bar binancian ask hold"
          ],
          [
           "wait clean spam comment"
          ],
          [
           "need crypto strategy"
          ],
          [
           "leonid volkov manage fundraise campaign tell coindesk doesnt believe binance actually share navalny donor data fordinmonitoring believe reuters wrong also multiple inconsistency article"
          ],
          [
           "cant fake good person least long good person"
          ],
          [
           "vive la france"
          ],
          [
           "central african republic adopts bitcoin"
          ],
          [
           "never live different country experience could experience earth life"
          ],
          [
           "know early others still wake follow hold"
          ],
          [
           "vote crypto"
          ],
          [
           "youve never do move different country experience world broaden horizon view world increase value"
          ],
          [
           "pity guy negative focused job change job find something positive passionate life get good thati pity jealousy guy almost hopeless read book infinite game"
          ],
          [
           "lot negative energy miserable lifebe full positive energy let negative go"
          ],
          [
           "web security need overhaul service web"
          ],
          [
           "read article include email exchange journalist find opinion"
          ],
          [
           "share data government law enforcement agency world request user data binance long accompany proper legal authority"
          ],
          [
           "also donate time humanitarian effort help ukrainian desperate need move recognize appreciated person zoom cz mykhailo fedorov minister digital transformation ukraine"
          ],
          [
           "soon war start stop work russia instead aggressively implemented sanction russia today binance crypto exchange world implement late eu package measure russian account holder"
          ],
          [
           "like every blockchain company operate russia prior war ukraine binance actively push russia develop effective crypto regulatory framework effort undertake every market operate"
          ],
          [
           "suggestion binance share user data include alexei navalny russian fsb control agency russian regulator categorically false"
          ],
          [
           "open response recent inaccurate article irresponsible journalist reuters lot detail"
          ],
          [
           "isnt direct measure definition inflationwhy inflation always measure roundabout way"
          ],
          [
           "fred st louis feed"
          ],
          [
           "world leader need necessary put end brutal conflict bring peace region user employee countless blockchain community member"
          ],
          [
           "feel need address announcement yesterday regard regard eus new crypto sanction believe crypto exchange power unilaterally freeze entire nation user account must follow sanction rule old new"
          ],
          [
           "eu take historic aggressive action place cap every russianresident user wallet binance give word global community would implement sanction action live commitment"
          ],
          [
           "hrh crown prince prime minister bahrain meet founder ceo binance together central bank governor"
          ],
          [
           "dprk hack group start move axie infinity steal fund today part make binance spread across account recover do many time project past stay safu"
          ],
          [
           "great chat jerallaire"
          ],
          [
           "bahrain adopt crypto big way honor meet hrh salman bin hamad al khalifa"
          ],
          [
           "emmanuel macron french innovation audacity genius make greatness success"
          ],
          [
           "stablecoin become burn cash faster game remember web"
          ],
          [
           "launch kick new productproject binance ecosystemmy total time spend minmy total word say go"
          ],
          [
           "road iese business school spain"
          ],
          [
           "bnb"
          ],
          [
           "even best intern make mistake fix quickly binance bnb"
          ],
          [
           "great fireside chat iese business school"
          ],
          [
           "put tie btw"
          ],
          [
           "tie non esg friendly invention everwhy tie piece useless rope around neck"
          ],
          [
           "binance"
          ],
          [
           "license"
          ],
          [
           "cloud storage wallet bad idea"
          ],
          [
           "whitepaper commitment"
          ],
          [
           "burn million dollar iykyk bnb"
          ],
          [
           "worth bnb take circulation soon real time info"
          ],
          [
           "country"
          ],
          [
           "see"
          ],
          [
           "สวัสดี gulf energy large energy company thailand large investor thailand telecom buy large chunk bnb publicly list company invest binanceus launch jv binance"
          ],
          [
           "crypto make money meeting celebritiespoliticians matter right thing right reason"
          ],
          [
           "espero que hayas tenido un buen día"
          ],
          [
           "dome run web startup"
          ],
          [
           "long term crypto also improve financial inclusion"
          ],
          [
           "train program learn crypto service community"
          ],
          [
           "hire spanish line roles come"
          ],
          [
           "binance take different approach help gang issue el salvadorcreate job youthlast week hire staff offer opening hopefully get hundred year endlong term solution crypto create job"
          ],
          [
           "business global accept crypto"
          ],
          [
           "totally choose ignore crypto youd look bit date"
          ],
          [
           "amcs let buy ticket crypto surprise surprise"
          ],
          [
           "russia legalize crypto payment surprise surprise"
          ],
          [
           "france great place entrepreneurship"
          ],
          [
           "love public take twitter use twitter"
          ],
          [
           "clean mixer compliant provide privacy never use one interesting"
          ],
          [
           "look worklifebalance year still work hard get good lifelife becomes well work hard early"
          ],
          [
           "video interview crypto france"
          ],
          [
           "binance pool officially support litecoins mimblewimble extension block mweb upgrade"
          ],
          [
           "privatize issue token decentralize itcost per blue tick account reduce spamscam nfts metaverse"
          ],
          [
           "entrepreneurship physical job gotta stamen"
          ],
          [
           "earlier today"
          ],
          [
           "binance booth"
          ],
          [
           "never understood people think fiat money stable nothing stable benchmarked something else something else purchase power"
          ],
          [
           "web sound well crypto ask everyone around still web use web"
          ],
          [
           "become poor hold fiat"
          ],
          [
           "become poor hold fiat"
          ],
          [
           "dont know stock exchange building paris progressive enough let crypto exchange hang banner building"
          ],
          [
           "bitcoin volatile go away"
          ],
          [
           "binance"
          ],
          [
           "good see get top building lol"
          ],
          [
           "crypto startup fund invest startup"
          ],
          [
           "dont say make presentation quick say waste time make quick"
          ],
          [
           "see soon"
          ],
          [
           "titanic sink little float near get drag float eventually come back untethered"
          ],
          [
           "jétudie le français"
          ],
          [
           "abu dhabi"
          ],
          [
           "damn look like need sharesource"
          ],
          [
           "india natural frontrunner web startup binance ceo"
          ],
          [
           "great title good see collaboration industry policymakers crypto industry help write pas agenda state capitol new york time"
          ],
          [
           "join board sit long meeting tweet"
          ],
          [
           "build thing people use"
          ],
          [
           "come bitcoin real like gold valueif something use people value many nonphysical tool value google facebook bitcoin dont physical stuff people use value utility value"
          ],
          [
           "bitcoincrypto use tool transaction domestic international globally fundraise startups donation sell art content hedge inflation provide liquidity earn interest much million people"
          ],
          [
           "come across new term impact invest google put maximize shareholder value low priority guess issue token raise fund dont shareholder token holder likely user maximize user value"
          ],
          [
           "slowly surely binance get abu dhabi crypto nod"
          ],
          [
           "wasnt obvious year ago"
          ],
          [
           "team member bos know havent take vacation yearsme oh didnt youa never didme oha need take vacation man toome ok"
          ],
          [
           "people shanghai really run food havent figure help yet tricky"
          ],
          [
           "binance poaches fca official global regulation head"
          ],
          [
           "bit"
          ],
          [
           "honduran special economic zone adopts bitcoin legal tender"
          ],
          [
           "global food price rise march rise fast rate year publish un food agricultural organisation"
          ],
          [
           "wenbinance"
          ],
          [
           "bitcoin dont pay anyone salaries yet work willingly"
          ],
          [
           "binancebcf"
          ],
          [
           "adoption continue one everyone jump want first one want lastimagine last country adopt crypto legal tender say"
          ],
          [
           "khabib one humble downtoearth smart guy meet perfect fight machine course low key person oh think ask come along mike tyson send slightly ambiguous fun message haha"
          ],
          [
           "ufc pay fighter bonuses cryptophoto take back still hair think appropriate share"
          ],
          [
           "live cnbc soon"
          ],
          [
           "two choice expose early constant stream small disruption wait get shocked big disruption sooner later choice disruption happen"
          ],
          [
           "un accepts crypto"
          ],
          [
           "solution inflation"
          ],
          [
           "yellen havent see significant evasion sanction use crypto decrypt"
          ],
          [
           "fortune changpeng zhao profile learn binance"
          ],
          [
           "iron man bitcoin bull pretty cool"
          ],
          [
           "excited new chapterthanks brianshroder binanceus team bring crypto people keep building"
          ],
          [
           "cefi come defi rescue crypto exchange binance among investor bail victim mln heist reuters"
          ],
          [
           "small step towards"
          ],
          [
           "sky mavis raise round lead binance reimburse ronin attack victim"
          ],
          [
           "protect user protect project protect industry"
          ],
          [
           "new technology money want ignore"
          ],
          [
           "worry wealth ranking opinionsfocus build value building product people use"
          ],
          [
           "dubai lure clutch big crypto firm tailor regulation financial time"
          ],
          [
           "incumbent dont embrace innovation wont exist tomorrow anyway"
          ],
          [
           "protect incumbent winner tomorrow embrace innovationdisruption rarely tomorrow big reward though"
          ],
          [
           "small exchange owner say binance bad good ask real motive people choose binance"
          ],
          [
           "binance"
          ],
          [
           "great chat matthancock month ago london expert crypto forward think mindset great see push crypto adoption"
          ],
          [
           "dont buy dip dont fiat"
          ],
          [
           "many people talk buy dip dip come panic sell oppose buythis"
          ],
          [
           "talk later washingtonpost postlive blockchain security"
          ],
          [
           "dog house finally thank everyones support covid mild sorry miss guy bbw boredom serious"
          ],
          [
           "binance ceo cant use cryptocurrency escape sanction"
          ],
          [
           "security guard wow send money wife use crypto go instantly fee use take day lot feesi smile adoption one time"
          ],
          [
           "uk want crypto hub"
          ],
          [
           "talk miketyson twitter space minute glad virtual wear box wear phew"
          ],
          [
           "music crypto"
          ],
          [
           "beware phishing attack never click link email message bad twitter comment"
          ],
          [
           "mike say respond"
          ],
          [
           "difference narrative"
          ],
          [
           "thing often seem surface dont fool one side narrative"
          ],
          [
           "accord book number dont lie electricity use power ev electric vehicle come fossil carbon still coal car ev tech great still need fix problem source"
          ],
          [
           "unreasonable restriction local economy often cause talent drain smart young kid go work country weaken local economy cause vicious cycle may take decade reverse"
          ],
          [
           "happy ramadan celebrate month"
          ],
          [
           "builder binance product lead mayur kamat help build future web binance blog"
          ],
          [
           "zoom live city country live little ball call earth"
          ],
          [
           "might buy fiat today look like decent investment"
          ],
          [
           "eye opener"
          ],
          [
           "record academy partner binance grammys"
          ],
          [
           "twitter"
          ],
          [
           "traditional medium friend bloomberg ft fortune say crypto article read probably nothing"
          ],
          [
           "really rich honor featured cover fortunemagazine"
          ],
          [
           "wow damn easy playing defense apple meta give user data hacker forge legal request aapl fb bloomberg"
          ],
          [
           "bitcoin mining great planet jason deane quantum economics mar medium"
          ],
          [
           "binance already low fee market lower againme protect user"
          ],
          [
           "crypto terrible avoid sanction simple reason traceablecash hand"
          ],
          [
           "intern let loose binanceblockchainweek"
          ],
          [
           "binance launch binance bridge integrate cefi defi"
          ],
          [
           "tried subscribe online magazine read article payment process take way long accept crypto would year"
          ],
          [
           "team touch axieinfinity team provide assistance track issue"
          ],
          [
           "love panel people different view learn lot"
          ],
          [
           "many people spend much time jealous people success instead work initiative latter way"
          ],
          [
           "win heart user win"
          ],
          [
           "video community contribution think get message"
          ],
          [
           "sell btc"
          ],
          [
           "understated number"
          ],
          [
           "binanceblockchainweek"
          ],
          [
           "imagine country push internet talent year agokeep blockchain talent"
          ],
          [
           "lead follow happy"
          ],
          [
           "tax expert far know country tax crypto transaction transfer today"
          ],
          [
           "bitcoin transaction yesterday start tax today much tax collect today close whythere bird tree bang shoot one many bird leave tree"
          ],
          [
           "welcome dubai"
          ],
          [
           "real estate list company safer crypto rightthis stock price top list real estate company china drop year"
          ],
          [
           "self custody wallets future bnb"
          ],
          [
           "small culture reminder dont cross legs stage wont show sole foot every culture etiquettes"
          ],
          [
           "watch livestream"
          ],
          [
           "imagine crypto"
          ],
          [
           "binanceblockchainweek"
          ],
          [
           "dont let others tell think say opinion almost never correct affected context intentionsthink"
          ],
          [
           "dont tell people thinkdo thing win heartsbitcoin never tell think"
          ],
          [
           "tell people think thing win heartsbitcoin never tell think"
          ],
          [
           "video perridonhldgs"
          ],
          [
           "video mperridon"
          ],
          [
           "entrepreneurship crypto physical job combine exponentially"
          ],
          [
           "edufi bnb"
          ],
          [
           "covid suck miss"
          ],
          [
           "day ago make handshake deal mayor eduardopaes rio de janeiro accept crypto tax payment binance open office rio hes do part work"
          ],
          [
           "overall ok still twitter"
          ],
          [
           "arrive back dubai last night lot people meet need recover quickly"
          ],
          [
           "shit bad timing"
          ],
          [
           "need learn spanish portuguese"
          ],
          [
           "need learn spanish portuguese"
          ],
          [
           "heard dubai"
          ],
          [
           "waste people time bad take money efficient"
          ],
          [
           "many country want embrace new technology money crypto"
          ],
          [
           "effect ban bitcoin mining bitcoin hash rate new ath high ban happen"
          ],
          [
           "nayibbukele"
          ],
          [
           "pic phone come soon sure"
          ],
          [
           "talk bond word never come much talk adoption"
          ],
          [
           "fantastic meeting"
          ],
          [
           "crypto pay world"
          ],
          [
           "bnb coinbase"
          ],
          [
           "pleasure meeting president luislacallepou uruguay day ago strong confident chill give card hold like discussed high level blockchain economy etc specific endorsement"
          ],
          [
           "idol"
          ],
          [
           "idol"
          ],
          [
           "always feel like late crypto still early day"
          ],
          [
           "man number scamspam comment"
          ],
          [
           "keep building bnb"
          ],
          [
           "bitcoin force anything"
          ],
          [
           "tried get financeeconomics book gift teenagerguess dont exist"
          ],
          [
           "state obvious hard rich dont understand money"
          ],
          [
           "argentina"
          ],
          [
           "dont understand bitcoin dont understand money"
          ],
          [
           "moon rio"
          ],
          [
           "let grow rio crypto"
          ],
          [
           "rio beautiful"
          ],
          [
           "grudge let go achieve life"
          ],
          [
           "gm love color"
          ],
          [
           "binance"
          ],
          [
           "binance custody crypto wallet institution multiple approver insurance etc fit corporate need"
          ],
          [
           "binancearabic sponsor firstever nft event bahrain week teambahrain"
          ],
          [
           "week farbinance get bahrain licensebinance get dubai licensebinanceus get louisiana licensebinance acquire brokerage brazilits thursday build"
          ],
          [
           "matter blame inflation fact itbtc inflation bnb deflationary"
          ],
          [
           "let give key mayor rio eduardopaes rio de janeiro blockchain"
          ],
          [
           "bridge defi cex"
          ],
          [
           "bridge tradifi crypto"
          ],
          [
           "spent bit time take selfies strong supporter photos"
          ],
          [
           "people read news doubt meet person like"
          ],
          [
           "binance mention barbados budget prime minister mia mottley miaamormottley thanks effort sirbitt"
          ],
          [
           "binance win first gulf crypto license bahrain"
          ],
          [
           "teambahrainbinance grant first license global cryptoasset provider cooperation council arab state gulf gcc central bank bahrain"
          ],
          [
           "humanity first"
          ],
          [
           "curious want ban pow ever try bitcoin transaction yet"
          ],
          [
           "understand"
          ],
          [
           "binance announces plan buy simpaul brokerage brazil"
          ],
          [
           "wonder"
          ],
          [
           "tesla typo"
          ],
          [
           "something use electricity doesnt make nongreentelsas use electricitylightbulbs use electricitywe need measure efficiency compare alternative determine green"
          ],
          [
           "believe bitcoin efficient financial network existence ever term cost per value transact store cost per level reliability resilienceprove wrong"
          ],
          [
           "come across chart bitcoin use electricity denmark badnot apple appledenmarks gdp market cap total value transact bitcoin last yearand much revenue fee new btcanyone data"
          ],
          [
           "surprised isnt conclusive article debunk bitcoin mining energy use env unfriendly ogs know bitcoin mine efficient id like see data support ask question"
          ],
          [
           "bitcoin bnb inflation"
          ],
          [
           "highly recommend book"
          ],
          [
           "get thirsty keep give wine keep drinking become happy thirsty fked"
          ],
          [
           "amigo"
          ],
          [
           "keep hearing siri background zoom people say help sir"
          ],
          [
           "say hey cz siri pop"
          ],
          [
           "know smart sometimes get feeling must think way dumber"
          ],
          [
           "binance custody obtain cold storage insurance"
          ],
          [
           "blockchain excellent tool charity enable complete fund distribution transparency"
          ],
          [
           "minute response later find single useful response first time twitter fail way might well turn comment"
          ],
          [
           "best article clarifies crypto mining esg"
          ],
          [
           "thing go away tend grow"
          ],
          [
           "guess crypto go away"
          ],
          [
           "regulatory clarity important new virtual asset law dubai great step forward"
          ],
          [
           "bitcoin"
          ],
          [
           "good morning binance"
          ],
          [
           "hand decision"
          ],
          [
           "respect people prototype pay people build real application people use"
          ],
          [
           "binance fully reopen eur gbp deposit withdrawal"
          ],
          [
           "previously politician dont use internet wont winnow politician dont use crypto wont funding thus wont win"
          ],
          [
           "fact bank russia dozen sanction list everyones focus crypto none work crypto exchange"
          ],
          [
           "trend follower contrarian"
          ],
          [
           "chainalysis transaction involve illicit address represent crypto tx volume time low show bad guy move away crypto traceablewhat bank transaction illicit size asset bank vs cryptoanyone know"
          ],
          [
           "binance founder say cryptocurrencies help russia evade sanction cryptocurrencies guardian"
          ],
          [
           "binance charity support unicef effort help child ukraine unicef"
          ],
          [
           "meet binance intern tonight"
          ],
          [
           "base past history view future world never spot sometimes bit often way ability see future matter humility adjust quickly"
          ],
          [
           "factbanks hope follow sanction rulescrypto exchange least binance follow sanction rulesmediacrypto exchange dont sanction russia normal peoplecrypto exchange dont follow sanction rule"
          ],
          [
           "money detail work hard work team make impactful"
          ],
          [
           "read someone news think crazy meet person super nice people"
          ],
          [
           "dont late"
          ],
          [
           "basic thing crypto"
          ],
          [
           "many people never use crypto talk crypto like know dont seem know dont need exchange use cryptoall need wallet opensource software"
          ],
          [
           "war people love russian"
          ],
          [
           "supply low demand hmm"
          ],
          [
           "hello malaysia"
          ],
          [
           "everyone different world view yet still many people try force worldviews onto"
          ],
          [
           "layahheilpern great job explain bitcoin simple understand term book keep good work"
          ],
          [
           "often take week market understand"
          ],
          [
           "didnt typo"
          ],
          [
           "remember may right bitcoin halve everyone ask bitcoin price double immediately bitcoin piece"
          ],
          [
           "anyone post pic claim know supportpartnership etc treat scammersi happily take photo anyone conferences street etc dont know scammer notlearn protect"
          ],
          [
           "wont let scammer prevent take photo many good supporter"
          ],
          [
           "binance donate help humanitarian crisis ukraine binancebcf launch cryptofirst crowdfunding ukraine emergency relief fund focus provide ontheground support care people"
          ],
          [
           "money"
          ],
          [
           "blockchain shine global fundraise even strong method issue new coin future utility benefit icodonation good way let people help new coin bind people emotionally financially globally"
          ],
          [
           "team work multiple charity effort non stop moneycryptofees key issue logistics ground food fuel supply refugees place stay visa etc stay tunedbinance apolitical care people"
          ],
          [
           "sm entertainment collaborate binance businesskorea"
          ],
          [
           "cryptodad book giancarlomkts great read lot insight learn"
          ],
          [
           "contact team member ukraine today ensure safety first priority overwhelming support colleague nearby country offer transportation logistics home stay etc safuly accounted proud binancian"
          ],
          [
           "day like help people way keep building"
          ],
          [
           "people world still dont understand bitcoin"
          ],
          [
           "large korean entertainment company day adoption bnb"
          ],
          [
           "kpop bnb"
          ],
          [
           "crazy world bitcoin bnb neutral"
          ],
          [
           "see museum future dubai"
          ],
          [
           "blackpink fan"
          ],
          [
           "useless tweet"
          ],
          [
           "thing dont understand id thought unpredictable geopolitical situation would increase demand crypto either usually opportunity"
          ],
          [
           "bitcoin borderless"
          ],
          [
           "learn best protection"
          ],
          [
           "binance"
          ],
          [
           "bulgaria stock exchange list bitcoin ethereum etns"
          ],
          [
           "trustwallet support blockchains"
          ],
          [
           "people talk still understand anyone download software generate address keep use word account still early day"
          ],
          [
           "want fintech leader tomorrow allow blockchain disruption today"
          ],
          [
           "kudos jesse transparent user respect binance shoe use cex"
          ],
          [
           "crypto giant binance arm hire new compliance chief wsj"
          ],
          [
           "dex trading volume cex small defi"
          ],
          [
           "crypto increase freedom"
          ],
          [
           "new hairstyle"
          ],
          [
           "financial inclusion good thing right"
          ],
          [
           "bitcoin apolitical always neutral"
          ],
          [
           "bitcoin apolitical always neutral"
          ],
          [
           "see dubai"
          ],
          [
           "since january binance provide free crypto education africans binance masterclass"
          ],
          [
           "bnb partition chainbnb chain defi leaguebnb foundation"
          ],
          [
           "live"
          ],
          [
           "live"
          ],
          [
           "binance take crypto education nigerian university campus"
          ],
          [
           "launchpad fan token race"
          ],
          [
           "binance card"
          ],
          [
           "let post icrypto todayhappy valentine"
          ],
          [
           "value create issue coin value create people use build use case"
          ],
          [
           "new attention good adoption sure people need join space right wayi stand binance message new crypto user research trust"
          ],
          [
           "trust dyor cryptocelebalert"
          ],
          [
           "keep many thing longer need"
          ],
          [
           "hair use mammal keep warmth human longer see reason miss thing"
          ],
          [
           "feel weird talk work person remote work"
          ],
          [
           "live multiple dynamic world"
          ],
          [
           "bonjour"
          ],
          [
           "hire people smarter ceo"
          ],
          [
           "close friend cz talk forbes get deal doneme onea speak dont know thema team deal involve ask go tv take credit"
          ],
          [
           "build bnb"
          ],
          [
           "word people use hope wish predict could planwords people use execute"
          ],
          [
           "blockchain company investment forbes help build web infrastructure come year"
          ],
          [
           "like many fastgrowing innovative company binance use medium scrutiny necessary reality leader disruptive industry"
          ],
          [
           "question dms forbes editorial independence always sacrosanct strength forbes brand investment depend continued independence"
          ],
          [
           "live cnbc min"
          ],
          [
           "bitcoin bnb dont inflation"
          ],
          [
           "crypto longer niche vertical industry base layer powersfunds many industry"
          ],
          [
           "invest new old bridge cryptobinance take million stake forbes"
          ],
          [
           "let bring crypto game way around either way work"
          ],
          [
           "binance"
          ],
          [
           "learn crypto decide"
          ],
          [
           "bitcoin legally recognize russia currency"
          ],
          [
           "old tweet half joke might spot haha bitcoin"
          ],
          [
           "good book ray dalio go lot detail money work doesnt surprised keep refer gold mentioning bitcoin guess history future focus book good read everyone"
          ],
          [
           "crypto tricky sometimes"
          ],
          [
           "didnt time research detail honest question bitfinex lose make money hackif get btc back split leo holder people take loss accept leo time hack sell leo"
          ],
          [
           "crypto easy track fiat"
          ],
          [
           "bring crypto kpop way around either way work"
          ],
          [
           "indirect people waste much time"
          ],
          [
           "trust"
          ],
          [
           "thing quickly drag"
          ],
          [
           "binance"
          ],
          [
           "spend less earn learn invest difference wealth follow"
          ],
          [
           "web blockchain"
          ],
          [
           "bank dont work weekend"
          ],
          [
           "human human communication painfully slow"
          ],
          [
           "little product improvement suggest make detailed good"
          ],
          [
           "massive phishing scam via sms link cancel withdrawal lead phishing website harvest credential screenshot belownever click link sms always go"
          ],
          [
           "advertising good let responsibly super bowl call crypto bowl upstart finance firm spend million tv ad fortune"
          ],
          [
           "meet roughly people report directly person"
          ],
          [
           "watch amaze clip keep ask dont use blockchain fundraise type project push boundary human specie"
          ],
          [
           "blockchain allow global commerce"
          ],
          [
           "dyornew campaign binance urge consumer trust research"
          ],
          [
           "yield farm transaction mining airdrop decent way jump start project attract initial user base still need build real use case otherwise project wont sustainable long run"
          ],
          [
           "early adopter risk get leave behind also risk"
          ],
          [
           "cant blockchain without crypto"
          ],
          [
           "want next fintech industry flourish area embrace blockchain"
          ],
          [
           "crypto legally recognize india tax"
          ],
          [
           "fund safu billion safu insurance fund transparent address blockchain"
          ],
          [
           "say do often successful"
          ],
          [
           "happy chinese new year"
          ],
          [
           "opposite good idea also good idea rory"
          ],
          [
           "good trader might want join binance hiring"
          ],
          [
           "perfect transparent apology inconvenience thank support understanding"
          ],
          [
           "binance nowhere near cod standard team require build regardless haha"
          ],
          [
           "fine saturday write python code first time cod year rusty pun intend"
          ],
          [
           "binance live new product everyday buidl"
          ],
          [
           "liquidity accessibility"
          ],
          [
           "imagine access internet imagine access blockchain"
          ],
          [
           "future decentralize bnb binance"
          ],
          [
           "liquidity king"
          ],
          [
           "nowadays fund invest startup fund invest startup"
          ],
          [
           "way many todo list"
          ],
          [
           "binance"
          ],
          [
           "two exemployers troll twitter follow back adoption"
          ],
          [
           "poor"
          ],
          [
           "tweet come chat friend habit read news every morning like would waste high quality hour thing important"
          ],
          [
           "less know trivia mei read newsi check emailsi check ims except onebeen like year life seem fine never miss much tend get do"
          ],
          [
           "drama execute"
          ],
          [
           "might follower soon"
          ],
          [
           "vitalikbuterin thank time last month let build together eth bnb"
          ],
          [
           "everyone want time limited resource"
          ],
          [
           "build service protect user dont get distract"
          ],
          [
           "suspect bad guy create account bank crypto exchange bank ok crypto exchange badbinance use strong aml tool banksbinance help law enforcement agency world wide case get many thank letter"
          ],
          [
           "fud journalist talk people let go binance partner work try smear focus antimoney laundering transparent welcome regulation action speak loud word thank unwavering support"
          ],
          [
           "binance officially launch trading service connecticut"
          ],
          [
           "cool"
          ],
          [
           "binance world large cryptocurrency platform join aliança portuguesa de blockchain nonprofit association include among company microsoft vodafone bbva everis major law firm operate portugal"
          ],
          [
           "people ask crypto"
          ],
          [
           "finish live interview cnbc talk bitcoin one mention bnb"
          ],
          [
           "guest appearance push crypto adoption everywhere"
          ],
          [
           "binance becomes first company crypto blockchain industry join national cyberforensics train alliance ncfta"
          ],
          [
           "raise money project much easy use crypto"
          ],
          [
           "dubai"
          ],
          [
           "million usd equivalent burn bnb deflationary"
          ],
          [
           "people want crypto"
          ],
          [
           "bitcoin mine hash rate recover hit ath"
          ],
          [
           "epic"
          ],
          [
           "bnb"
          ],
          [
           "meet great people"
          ],
          [
           "control money control wealth bitcoin"
          ],
          [
           "photographer cz"
          ],
          [
           "tell little secret"
          ],
          [
           "dont worry title focus"
          ],
          [
           "nice binance afcon"
          ],
          [
           "bnb"
          ],
          [
           "binance lab back oasis ecosystem fund"
          ],
          [
           "binance incorporates alberta hire exsecurities regulator canadian strategy financial post"
          ],
          [
           "binance tap former government official russia ukraine post"
          ],
          [
           "let work together keep industry clean"
          ],
          [
           "live interview fox news yesterdaytopicsdont worry wealth estimateschinaregulationgrowth adoption minute total"
          ],
          [
           "sponsor organic binance spot"
          ],
          [
           "content crypto user"
          ],
          [
           "live fox business minute sure link though"
          ],
          [
           "get new bookshelf book get"
          ],
          [
           "cant beat inflation wont fight crypto"
          ],
          [
           "spot binance"
          ],
          [
           "bald bold hold"
          ],
          [
           "launchpad"
          ],
          [
           "cz faq make binance successful binance blog"
          ],
          [
           "unpopular opinion instead wealth ranking rank charity philanthropy effort"
          ],
          [
           "intern job writer fortune"
          ],
          [
           "quote friend talk today"
          ],
          [
           "believe decentralization"
          ],
          [
           "finish speak oddo bhf digital forum talk lot bnb crypto"
          ],
          [
           "binance"
          ],
          [
           "dont worry ranking focus many people help"
          ],
          [
           "software eat world crypto sponsor world"
          ],
          [
           "let bring sport crypto crypto world"
          ],
          [
           "binance"
          ],
          [
           "bnb burn info real time"
          ],
          [
           "make useful use"
          ],
          [
           "binance take step right direction compliance mechanism ambcrypto"
          ],
          [
           "fancy ppts waste time use bullet point bar chart"
          ],
          [
           "credibility ultimate currency earn itprotect itdeserve"
          ],
          [
           "guy say gotta really smarti show calendarawkward silence moment"
          ],
          [
           "use"
          ],
          [
           "invest industry"
          ],
          [
           "trade look price really really good trader winif hold look utility growth well life lot simpler"
          ],
          [
           "happy birthday bitcoinstill teen yet early day"
          ],
          [
           "perfect still lot room improve let continue build"
          ],
          [
           "master blockchain crypto nuclio digital school binance"
          ],
          [
           "work hard good others well"
          ],
          [
           "binance hasnt list anything year list"
          ],
          [
           "happy new year binance"
          ],
          [
           "happy new year"
          ],
          [
           "receive feedback keep work new year binance user"
          ],
          [
           "rain dubai"
          ],
          [
           "checked"
          ],
          [
           "altcoin bnb smoke bitcoin ether gain year strait time"
          ],
          [
           "learn crypto self destructive"
          ],
          [
           "elevator without close door button feel serve press anything wtf"
          ],
          [
           "people use crypto"
          ],
          [
           "life simple hodlbnb btc"
          ],
          [
           "like joe"
          ],
          [
           "year ago today bnb eth busy last year"
          ],
          [
           "bahrain little crypto company"
          ],
          [
           "risk warn invest portfolio new crypto take slow"
          ],
          [
           "want waste time use internetif want improve finance use crypto"
          ],
          [
           "follow user"
          ],
          [
           "pay crypto much easy learn use"
          ],
          [
           "tide turn"
          ],
          [
           "boom binance award inprinciple approval cryptoasset service provider kingdom bahrain binance support"
          ],
          [
           "dont plan adapt go flow"
          ],
          [
           "protect user"
          ],
          [
           "cz faq binance embrace regulation binance blog"
          ],
          [
           "box day"
          ],
          [
           "let get adoption"
          ],
          [
           "bnb"
          ],
          [
           "binance moscow"
          ],
          [
           "crypto gift card binance may best gift give love one christmasthey remember thank year come"
          ],
          [
           "christmas eve team dinner way meet couple twitter friends supporter never meet excited work great life thankful"
          ],
          [
           "merry christmas bnb"
          ],
          [
           "many people include senior official talk dont understand important entrepreneur issue coin explain usually whole new perspective crypto important future economy"
          ],
          [
           "binance late agreement show dubai fast become crypto hub"
          ],
          [
           "binance sign dubai deal work international crypto framework garage business time"
          ],
          [
           "big step bnb move close dao structure exchange coinopen transparent burn algorithm base blockchain activity calculate real timefirst industry exchange token lead"
          ],
          [
           "dont enter exclusive contractsbinance"
          ],
          [
           "bnb big binance"
          ],
          [
           "term condition apply also way enter see link detail"
          ],
          [
           "want make wish binance user come true holidayshow share wishretweetfollow binance czbinancetweet wish hashtags mycryptowish binance tag friendour team pick winner bonus point creativity"
          ],
          [
           "tell rich allow invest youd piss rightok accredit investor investhow become accredit investoryou rich protection"
          ],
          [
           "keep building bnb"
          ],
          [
           "dubai"
          ],
          [
           "thought cbdcs get ask lot write"
          ],
          [
           "dubai world trade centre become comprehensive zone regulator virtual asset crypto"
          ],
          [
           "dubai world trade centre become comprehensive zone regulator virtual asset crypto"
          ],
          [
           "thing matter much like hair"
          ],
          [
           "get inspire meme thread"
          ],
          [
           "believe fake news poor"
          ],
          [
           "congratulation justinsuntron appointment ambassador grenada wto crypto og turn ambassador nation let keep go"
          ],
          [
           "winner announce thread"
          ],
          [
           "fake news fud sg ignoretruth binance commit help make sg crypto hub asia"
          ],
          [
           "hope get shake"
          ],
          [
           "respect hustler"
          ],
          [
           "adoption continue binance partner indonesian telco develop new crypto exchange"
          ],
          [
           "crypto adoption progress people heard crypto still really understand yet idea full potential crypto still early day"
          ],
          [
           "trail blazer lead"
          ],
          [
           "user protection measuresproject shield part binance ongoing effort protect user provide access secure project"
          ],
          [
           "intern send"
          ],
          [
           "launchpadnow bnb commit already"
          ],
          [
           "see binance sock"
          ],
          [
           "think guy buy dip get lucky never easy"
          ],
          [
           "endless opportunity work"
          ],
          [
           "congrats nice hair cut man elonmusk"
          ],
          [
           "log scale ladder"
          ],
          [
           "do want get clarification recent news tune watch"
          ],
          [
           "live bloomberg minute"
          ],
          [
           "abu dhabi crazy"
          ],
          [
           "clarification binance make sizable investment regulate exchange hgx last week investment make application somewhat redundant continue work partner grow crypto industry singapore onwards"
          ],
          [
           "read news together one last week different path destination binance acquires stake singaporeregulated hg exchange company market news top story straits time"
          ],
          [
           "dont strategize focus part"
          ],
          [
           "turned radio first time year heard host talk hodl world change"
          ],
          [
           "secret binances success binance angel"
          ],
          [
           "love ai doesnt want"
          ],
          [
           "learn manage risk"
          ],
          [
           "probably werent allow invest internet company seed round reason"
          ],
          [
           "глава криптобиржи binance чанпэн чжао не покупайте то чего не понимаете риа новости"
          ],
          [
           "try improve tiny bit every day learn something change small habit try something new every day get lucky"
          ],
          [
           "go exit crypto positionme crypto exit"
          ],
          [
           "heard bit bsc team future plan"
          ],
          [
           "sell bitcoin cheap saylor always buy panic sell"
          ],
          [
           "follower count follow bitcoin chart seem begin year"
          ],
          [
           "binance acquires stake singaporeregulated hg exchange"
          ],
          [
           "incident happen outside binance help one loyal community member track fund"
          ],
          [
           "protect user"
          ],
          [
           "whats thing think understand others dont"
          ],
          [
           "yellow hoodie want want want"
          ],
          [
           "new productbusiness whole new level security institutional readiness"
          ],
          [
           "never meet bitcoin person need everyone else like"
          ],
          [
           "binance give away crypto gift card christmas stay tune"
          ],
          [
           "old less hair new profile pic"
          ],
          [
           "sure guy remember btc around year ago every dip accompany article like bitcoin use drug lord crash"
          ],
          [
           "still buidling bnb"
          ],
          [
           "type bnb doc type bnb use much twitter"
          ],
          [
           "binance"
          ],
          [
           "sure"
          ],
          [
           "best thing cut hair normally see"
          ],
          [
           "head state tweet see"
          ],
          [
           "covid resilience rank best bad place"
          ],
          [
           "understand"
          ],
          [
           "sell company equity someone dollar company worth issue coin supply sell someone dollar trillion dollar coin valuation without liquidity mean much"
          ],
          [
           "term condition apply see link detail"
          ],
          [
           "im give away doge tesla doge wantto enterretweetfollow elonmusk binance czbinancehave kycd binance accounttweet prize want hashtags dogeortesla binanceour favorite answer team win"
          ],
          [
           "bitcoin never"
          ],
          [
           "get cab driver say cz professor talk lot follow twitter thanks much crypto world floor"
          ],
          [
           "probably nothing"
          ],
          [
           "chat crypto people fascinate"
          ],
          [
           "unpopular opinion center universewe lucky participates make litter bit well"
          ],
          [
           "risk tolerance maximum amount lose without feel bad impacting life style never invest"
          ],
          [
           "follow people investment advice especially public one know specific situation risk tolerance different everyone else"
          ],
          [
           "buidl relentlessly bnb"
          ],
          [
           "unpopular opinion new industry startup success depend much industry succeed startup ie depend competitor succeed success undermine competitor understand"
          ],
          [
           "say without give reason improve"
          ],
          [
           "follow"
          ],
          [
           "meet ivan longestserving binance angel"
          ],
          [
           "good meet finally even voice"
          ],
          [
           "also many genuine people work hard progress innovation"
          ],
          [
           "lot scammer internet look comment learn protect"
          ],
          [
           "human sync information head speed talk slow"
          ],
          [
           "doge update work hard reopen withdrawal"
          ],
          [
           "another day another ath bsc know know"
          ],
          [
           "binance smart chain onchain activity explodes ahead bruno upgrade november"
          ],
          [
           "live video interview yahoo finance min schedule day ago wonder ask"
          ],
          [
           "one team inteam chat"
          ],
          [
           "fairly accurate description happen doge transparent shady thank"
          ],
          [
           "try predict future fight either go along"
          ],
          [
           "need body sleep less"
          ],
          [
           "binance binancefantoken"
          ],
          [
           "list"
          ],
          [
           "early day people use describe amazon digital version barn noblelater people use describe amazon digital version walmart"
          ],
          [
           "book"
          ],
          [
           "read book warren buffett clear one know value stock decade ago maybe even today modelsformulae represent true value calculation arrive one opinion"
          ],
          [
           "change air"
          ],
          [
           "thing risk thing usually big risk"
          ],
          [
           "weve notice small problem causing withdrawal fail work itif withdrawal fail please resubmit withdrawal request sorry inconvenience"
          ],
          [
           "support layer support multiple blockchains inclusive platform"
          ],
          [
           "live bloomberg conference minute"
          ],
          [
           "careful wish"
          ],
          [
           "qa binance ceo bubble meme coin cryptos swing"
          ],
          [
           "busy useful busy bnb"
          ],
          [
           "meet person well live tv flacqua"
          ],
          [
           "old bos bos mr bloomberg ask hope offend ask selfie say would offend great dude"
          ],
          [
           "also talk decentralized organization meet person like hmm meet lot people person"
          ],
          [
           "pm lee mention nft bitcoin gala dinner min ago photo take"
          ],
          [
           "get ig account back thank"
          ],
          [
           "bsc ath txs daily active address user"
          ],
          [
           "many many dip correction bearbull market regardless technology industry continue grow"
          ],
          [
           "bloomberg interview"
          ],
          [
           "binance"
          ],
          [
           "way explain crypto newcomer"
          ],
          [
           "thank follow"
          ],
          [
           "would love blue tick get greedy"
          ],
          [
           "instagram account lock minute give account detail intern week ago anyone know anyone ig help unlock tried official channel luck dont direct channel zuck instagram id changpengzhao"
          ],
          [
           "first ad ever financial time"
          ],
          [
           "binance plan welcome next billion crypto user"
          ],
          [
           "live"
          ],
          [
           "live cnbc minute"
          ],
          [
           "coinmarketcap visit website world accord alexa"
          ],
          [
           "crypto never sleep"
          ],
          [
           "comment twitter useful agree"
          ],
          [
           "learn something new today study earn damn"
          ],
          [
           "spent week france super impress vibrant tech ecosystem talent president macron incredible job much come"
          ],
          [
           "marketing team send binance taxi ukraine"
          ],
          [
           "cto say look internet would probably fire spot cfo look"
          ],
          [
           "spend time attack people spend time people hateinstead spend time building product spend time yourselfsome people still get thistime limited resource"
          ],
          [
           "binance become world large exchange logo color yellow rightme hmm fancyhow basic product service protect usersthere secret sauce"
          ],
          [
           "season extremely well include best project go binance launchpad"
          ],
          [
           "crypto change sport economy"
          ],
          [
           "keep building"
          ],
          [
           "let make trend"
          ],
          [
           "bitcoin"
          ],
          [
           "manchester"
          ],
          [
           "binancebcf blockchain technology help combat modernday slavery"
          ],
          [
           "binanceforall binance"
          ],
          [
           "worry competition make industry big turn help embrace"
          ],
          [
           "probably big deal"
          ],
          [
           "person ama hour see"
          ],
          [
           "kpop nft always secret fan"
          ],
          [
           "fight technology innovation stop"
          ],
          [
           "normal expect dont get overly excited keep building"
          ],
          [
           "want help person day give crypto want help person life time teach crypto"
          ],
          [
           "price take short term analysis approach take slightly longer onebitcoin halve year agodefinftsgamefifan tokensand course etfs much"
          ],
          [
           "surprised didnt ask price"
          ],
          [
           "look like live bloomberg tv london minute put binance polo shirt"
          ],
          [
           "gm"
          ],
          [
           "hate anyone invent tie"
          ],
          [
           "bnb"
          ],
          [
           "ask waiter bill ask back coin"
          ],
          [
           "bnb"
          ],
          [
           "fast quality faster qualityand win"
          ],
          [
           "help grow every blockchain"
          ],
          [
           "probably nothing"
          ],
          [
           "begin scratch surface full potential blockchain"
          ],
          [
           "game"
          ],
          [
           "binance"
          ],
          [
           "follow user"
          ],
          [
           "bsc active address yesterday blockchains"
          ],
          [
           "fomo please"
          ],
          [
           "many museum paris unfathomable much nft"
          ],
          [
           "cofounder binance heyibinance talk regulation global growth crypto market firm search physical headquarters mktsinsider"
          ],
          [
           "binance team member meet say cz happy meet work binance year guy meet person decentralization downside"
          ],
          [
           "brag crypto come long way people meet ups coffee shop livestreaming event directly ministry economy finance keep building"
          ],
          [
           "always big bos"
          ],
          [
           "wifiinternet still dont work well times year build take time focus long term"
          ],
          [
           "nation become leader crypto win simple"
          ],
          [
           "defaultmetaverse crypto bnb"
          ],
          [
           "nan"
          ],
          [
           "fund safu"
          ],
          [
           "new intern listing team brilliant"
          ],
          [
           "photo snowbird utah year ago old"
          ],
          [
           "old photo friend immediately point binance logo come"
          ],
          [
           "want king simple treat user god"
          ],
          [
           "much build"
          ],
          [
           "focus long term"
          ],
          [
           "launchpool"
          ],
          [
           "business communication tip distill message important point say concise manner possible make everything much easy"
          ],
          [
           "voilà"
          ],
          [
           "bonjour"
          ],
          [
           "industry grow"
          ],
          [
           "buy van toyota alphard longer say car"
          ],
          [
           "flatter floor humbled thank"
          ],
          [
           "lot fud around coinmarketcap best knowledge leak cmc partial match email password likely collect mail list etc still investigate"
          ],
          [
           "btc"
          ],
          [
           "top bnb burn commit binance may understand burn make even attractive"
          ],
          [
           "dont late"
          ],
          [
           "billion yesterday binance"
          ],
          [
           "first minute trade lazio usd worth trading increase price launchpad give close billion market capa new chapter begin fan token"
          ],
          [
           "dont get distract keep building"
          ],
          [
           "lazio fan token participate launchpad project ever trading start minute"
          ],
          [
           "expect high volatility crypto next month"
          ],
          [
           "billion trade yesterday binance"
          ],
          [
           "risk management ready enjoy best case ready handle bad case invest lose"
          ],
          [
           "ever sell bitcoin"
          ],
          [
           "ath"
          ],
          [
           "people still bitcoin"
          ],
          [
           "good morning"
          ],
          [
           "ever doubt"
          ],
          [
           "take usd worth bnb circulation permanently"
          ],
          [
           "smell bnb"
          ],
          [
           "happy talk anyone conferences self intro great please pitch project work conference environment look project anyway"
          ],
          [
           "subscribe break fix subscribe disrupt disruptedthe world change fast day"
          ],
          [
           "dont put one leg especially stage"
          ],
          [
           "win officialsslazio"
          ],
          [
           "good morning humble"
          ],
          [
           "work pleasureme"
          ],
          [
           "thank come binance meetup today great see long"
          ],
          [
           "see trend"
          ],
          [
           "finish ama come back later hang want disrupt flow meetup"
          ],
          [
           "yalla join"
          ],
          [
           "burn bnb"
          ],
          [
           "always opportunities future pastdont worry miss opportunitiesdont worry small temporary setbacksideas worthlessexecution keybuild"
          ],
          [
           "yalla"
          ],
          [
           "issue future small number user affect compensate loss incur affect detail announcedcommunicated"
          ],
          [
           "sit beside eljaboom dinner meet person rock finally put face name thank support always"
          ],
          [
           "nan"
          ],
          [
           "bitcoin pretty close though"
          ],
          [
           "bitcoin limit supply asset time"
          ],
          [
           "officialsslazio"
          ],
          [
           "gotta love jersey"
          ],
          [
           "work hard build bnb"
          ],
          [
           "fan token"
          ],
          [
           "crypto cex icoieo defi nfts gamefi metaverse whats next"
          ],
          [
           "billion reason buidl bsc"
          ],
          [
           "coin list increase pair next"
          ],
          [
           "price swing technology innovation progress one direction focus long term bitcoin"
          ],
          [
           "irresponsible learn blockchain"
          ],
          [
           "try"
          ],
          [
           "keep simple keep fast"
          ],
          [
           "need"
          ],
          [
           "first bitcoin"
          ],
          [
           "inshallah"
          ],
          [
           "binance academy available arabic"
          ],
          [
           "interesting discussion put embassy metaverseimmersive experienceeasier access globallytrendy next generationblockchain level authenticitymuch low cost physical buildingswhat else"
          ],
          [
           "coinmarketcap top website world rank alexa thank support"
          ],
          [
           "binance world big cryptocurrency exchange hire former internal revenue service special agent work digitalasset world highprofile investigation"
          ],
          [
           "blockchain future presentquoting traditional investor meet todaydon leave behind"
          ],
          [
           "binance launchpad"
          ],
          [
           "year ago month bitcoin make ath sept crash sept rest well know"
          ],
          [
           "binancesmartchain"
          ],
          [
           "begin spot wild"
          ],
          [
           "purpose single plural typo"
          ],
          [
           "everybody need purpose"
          ],
          [
           "esop typically vest year period usually dont liquidity ipo usually take year best tokens different liquidity soon unlock"
          ],
          [
           "unpopular opinion project founder token unlock year period shorter ie year definitely year period must long term commitment"
          ],
          [
           "yesterday action take treasury department bulletproof exchanger like suex positive development industry future trajectory crypto"
          ],
          [
           "binance partner law enforcement agency across globe daily basis stamp illicit activity crypto ecosystem confident sophisticated process technology place identify thwart bad actor industry"
          ],
          [
           "imperative industry continue partner regulator law enforcement pursuit mutual goal create secure ecosystem user today announcement sign industry stay"
          ],
          [
           "long run call dip"
          ],
          [
           "live"
          ],
          [
           "happy mid autumn moon festival"
          ],
          [
           "still one give away"
          ],
          [
           "bitcoin never anyone"
          ],
          [
           "legend"
          ],
          [
           "bullish"
          ],
          [
           "dont get distract noise"
          ],
          [
           "nan"
          ],
          [
           "invest industry blockchain agnostic"
          ],
          [
           "success get involve"
          ],
          [
           "ama use livestream miniapp binance mini program market place screenshot colleague focus talk thank tune thank support"
          ],
          [
           "ama binance live later today"
          ],
          [
           "live world bad discriminate base color age sex etc ok label someone accredit investor default assumption like say someone smart enough invest manage finance education need"
          ],
          [
           "binance coin return whop financial mirror"
          ],
          [
           "panic"
          ],
          [
           "gocrypto binance pay alliance could boost crypto mass adoption"
          ],
          [
           "red pill always"
          ],
          [
           "last week saw traffic user customer support number close ath let see follow"
          ],
          [
           "bitcoin continue grow"
          ],
          [
           "language add coinmarketcap mobile app last weekportuguesehindichinese traditionalpolishukrainian"
          ],
          [
           "send crypto friend get easy binance pay directly binance app"
          ],
          [
           "nfts create next renaissance art period"
          ],
          [
           "happy birthday binancetr"
          ],
          [
           "much misinformation world believe everything read quite poor"
          ],
          [
           "news binance ban sgfacts binance singapore independent entity operate singapore operate specific exemption ma go license application process"
          ],
          [
           "go live cnbc street sign asia minute wait room probably interesting question"
          ],
          [
           "russian state hermitage raise via binance nft auction"
          ],
          [
           "dont panic likely regret thing panic include panic sell call panic sell reason"
          ],
          [
           "let support decentralize future exchange future"
          ],
          [
           "regardless people panic sell still work build use case crypto"
          ],
          [
           "fun one coauthor bill ukraine wear binance hoodie"
          ],
          [
           "today verkhovna rada ukraine parliament adopt draft law virtual asset regulate operation cryptoregulatory clarity crypto undoubtedly bullish space thanks ukraine"
          ],
          [
           "dexes switch bsc infrastructure"
          ],
          [
           "successful trader need handle two emotion greed fear"
          ],
          [
           "far country world use crypto legal tender beginning"
          ],
          [
           "message keep go binance"
          ],
          [
           "people force use currency unlimited supply print arbitrarily dont complainwhen force use currency limit supply cant print arbitrarily complain"
          ],
          [
           "people force use currency unlimited supply print arbitrarily small group people dont complainwhen force use currency limit supply cant print arbitrarily complainstill early day"
          ],
          [
           "never enough people much"
          ],
          [
           "week binance aug sep binance blog"
          ],
          [
           "invest risk invest also risk cant avoid risk worldlearn risk management"
          ],
          [
           "bitcoin binance"
          ],
          [
           "woke good morning"
          ],
          [
           "sg user please use"
          ],
          [
           "clear binance"
          ],
          [
           "may restriction sg user binance com dont make rule ma follow ask understandingif happen always grace period cancel orderspositions withdrawal fund always safu"
          ],
          [
           "honestly still ton room improve service user simultaneously realtime trading platform easy try thank feedback keep go even sunday"
          ],
          [
           "axie infinity ax binance launchpad project help build industry gamefi"
          ],
          [
           "gm"
          ],
          [
           "binance"
          ],
          [
           "make sure one lose limit downside one win unlimited upside"
          ],
          [
           "crypto smooth love potion"
          ],
          [
           "bitcoin adoption cool"
          ],
          [
           "sorry wrong link july upstairs right link"
          ],
          [
           "solve problem build product people use bnb"
          ],
          [
           "july"
          ],
          [
           "interest exclude binance data graph aug make rest chart readable"
          ],
          [
           "june"
          ],
          [
           "id like thank support binance market share continue grow last monthsjune much little bit time earn user trust key thread"
          ],
          [
           "think slide mean internal"
          ],
          [
           "favorite hashtags trend bitcoin binance metaverse nfts"
          ],
          [
           "metaverse real real economy real money"
          ],
          [
           "unpopular opinion dont ape research"
          ],
          [
           "sorry team say asia"
          ],
          [
           "heard somewhere south america bnb"
          ],
          [
           "bookstore laugh website"
          ],
          [
           "binancesmartchain le year old"
          ],
          [
           "accumulate"
          ],
          [
           "shine binance"
          ],
          [
           "welcome"
          ],
          [
           "never worry protect idea worth anything execution matter bnb"
          ],
          [
           "use case bnb"
          ],
          [
           "poor people try say bad thing binance proven wrong short period time action binance take get people waste time energy reputation like"
          ],
          [
           "apparently international dog day"
          ],
          [
           "yes tweet live streaming"
          ],
          [
           "whether know already live one metaverse"
          ],
          [
           "live"
          ],
          [
           "experience data center issue affect user team fix soon"
          ],
          [
           "solve problem move forward bnb"
          ],
          [
           "positive progress one small step time slowly surely bnb"
          ],
          [
           "august update june fca impose requirement binance market limit firm comply aspect requirement"
          ],
          [
           "shill"
          ],
          [
           "need less meeting think"
          ],
          [
           "build slowly surely bnb"
          ],
          [
           "careful wish bnb"
          ],
          [
           "crypto live video stream"
          ],
          [
           "let use next ama"
          ],
          [
           "make pivot crypto traditional finance company easy one dont leave behind good see visa make transition"
          ],
          [
           "good morning"
          ],
          [
           "binance tap former sgx chief regulatory officer singapore ceo"
          ],
          [
           "like number start right"
          ],
          [
           "richard teng year mas director year sgx chief regulatory officer year adgm ceonow ceo binance singapore welcome"
          ],
          [
           "want rich dont ignore moneyif want rich free dont ignore crypto"
          ],
          [
           "busd voucher verify account binance"
          ],
          [
           "begin"
          ],
          [
           "bnb price year ago"
          ],
          [
           "start weekly yoga class last sunday almost puked shape"
          ],
          [
           "bitcoin neutral"
          ],
          [
           "work hard get lucky"
          ],
          [
           "issue complete kyc binance start chat cs team drop case id always work improve product"
          ],
          [
           "binance australia win digital currency gong finder innovation award restrict derivative option stockhead"
          ],
          [
           "let go home meet metaverse"
          ],
          [
           "look forward"
          ],
          [
           "mandatory kyc service binanceaction speak loud word"
          ],
          [
           "think internet well way send mail"
          ],
          [
           "action speak loud fud"
          ],
          [
           "launchpool"
          ],
          [
           "binance appoints former treasury enforcer antimoney launder role coindesk"
          ],
          [
           "vogue nfts binances helen hai everything need know"
          ],
          [
           "credibility always worth credit money haveearn protect"
          ],
          [
           "credibility always worth credit haveearn protect"
          ],
          [
           "video live streaming mini app binance app market place dont even know make maybe try next time"
          ],
          [
           "work life balance find something give life purpose work"
          ],
          [
           "binanceangel community volunteer pay help user retrieve fundsa competitorpeer say recently binanceangel program killer weapon cant replicate thank angel"
          ],
          [
           "finish detailed question regulation etc"
          ],
          [
           "live bloomberg minute"
          ],
          [
           "doubt learn understand risk know knowbitcoin"
          ],
          [
           "mvb season come secure infra gamefi advance defi legos new focus building infinite game"
          ],
          [
           "binance support new payment method african country binance support"
          ],
          [
           "good morning"
          ],
          [
           "bitcoin doesnt force anything"
          ],
          [
           "choose interest choses youlearn work hard ready lucky"
          ],
          [
           "let river run bitcoin"
          ],
          [
           "happy independence day india"
          ],
          [
           "money make lose short term wealth build long run learn consistently accumulate"
          ],
          [
           "follow"
          ],
          [
           "impartial coinmarketcap see two number bottom right"
          ],
          [
           "build adoption bnb"
          ],
          [
           "slight delay withdrawal open work itfunds safu"
          ],
          [
           "get back work"
          ],
          [
           "something keep busy upgrade market wont move much word safu come"
          ],
          [
           "big upgrade fund safu"
          ],
          [
           "poorly help"
          ],
          [
           "technology right right"
          ],
          [
           "poor guy spend time energy create problem others guy solve problem"
          ],
          [
           "bottom line good hacker responds publicly hope hedo right thing"
          ],
          [
           "midnight cant sleep much build"
          ],
          [
           "bad either nft"
          ],
          [
           "coinmarketcap color chart build"
          ],
          [
           "solve problem build bnb"
          ],
          [
           "typo"
          ],
          [
           "cex ceo busy defi get hack try help cant freeze fund blockchains fund land cex binance try freeze lot blockchain analysis nothing easy try"
          ],
          [
           "unpopular opinion nothing risk free educationlearning best protection read learn risk manage itstay safu"
          ],
          [
           "fiat safer well different judgement inflation high fee bank prevent spending money"
          ],
          [
           "people freeze fund blockchain well depend smart contract write guess even native blockchains without smart contract risk attack kinda tabooed word industry read"
          ],
          [
           "big defi hack bring controversial topic cex defi safer well different different risk characteristic learn use safely use read previous tweet"
          ],
          [
           "long article still miss defi smart contract risk might good time read keep crypto safu czs tip binance blog"
          ],
          [
           "aware"
          ],
          [
           "let go"
          ],
          [
           "congrats sirbitt become ambassador barbados united arab emirates uaefew people know significant contribution crypto people need know"
          ],
          [
           "everyone need learn bitcoin"
          ],
          [
           "live cnbc minute"
          ],
          [
           "nan"
          ],
          [
           "wow well do"
          ],
          [
           "happy national day singapore"
          ],
          [
           "binance smart chain beat ethereum metric thanks late gamefi craze coindesk"
          ],
          [
           "tokenized art state hermitage museum include leonardo da vinci feature binance nft marketplace keep building"
          ],
          [
           "brians work"
          ],
          [
           "short term pain apology long term gain leading volume lead compliance"
          ],
          [
           "new binance user hong kong longer open future account winddown access exist usersthis one many proactive measure binance take help establish crypto compliance best practice worldwide"
          ],
          [
           "binance pivot reactive compliance proactive compliance stay tune"
          ],
          [
           "word dont say crypto"
          ],
          [
           "market say"
          ],
          [
           "another"
          ],
          [
           "fuds die bitcoin"
          ],
          [
           "binance bring bitcoin payment shopify via new partnership"
          ],
          [
           "gamefi way beyond virtual coin buy asset game heavily integrate every aspect game spend earn exchange player acquisition retention everything power cannot ignored game maker go forward"
          ],
          [
           "defi full exchange run blockchain line code without human intervention simplicity beautiful"
          ],
          [
           "probably simplify life factor become productive process"
          ],
          [
           "btc btcits everything else thats volatile"
          ],
          [
           "reason trader fail avoid binance blog"
          ],
          [
           "fund without ability allocate crypto go significant disadvantage"
          ],
          [
           "cant stop bitcoin talk badly talk spread"
          ],
          [
           "compare use crypto fiat send money internationally know differencelower feesfastereasier"
          ],
          [
           "active trader yes please stay chart rest zoom hodl"
          ],
          [
           "cryptocurrency take way pay vacation getaway disclaimer minority investor"
          ],
          [
           "tough time make hero proverb"
          ],
          [
           "expert think find soon enough"
          ],
          [
           "defi gamefi grow"
          ],
          [
           "binancesmartchain handle transaction yesterdayethereum handle"
          ],
          [
           "regulatory compliance must decision lead market access adoption lesscrypto adoption probably around let go get onboard"
          ],
          [
           "sometimes small setback necessary big long term growth keep building bnb"
          ],
          [
           "advisor project project claim scam stay safu"
          ],
          [
           "bitcoin digital real estate udiwertheimer"
          ],
          [
           "binance lab invest nft creatives production company nfkings cryptoninjas"
          ],
          [
           "crypto alter gaming landscape"
          ],
          [
           "gamefi binancesmartchain bnb"
          ],
          [
           "many thing world weird keep buidling bnb"
          ],
          [
           "usually precursor"
          ],
          [
           "love binancesmartchain"
          ],
          [
           "always hire ceosi dont need ceo leave always find way contribute community behind logo tattooed forearmi proud member binance ecosystem let keep grow"
          ],
          [
           "misquote another thread ceosthere immediate plan replace ceoiwe would much like hire strong compliance background ceo show commitment compliance top priority organizationmore"
          ],
          [
           "ceo contingency planning start day rolei feel ceos stay year ideally around year live dynamic world need new think president serve year"
          ],
          [
           "actively hire leadership regulatory compliance experiencethere immediate plan replace ceo journalist like misquote always humbly invite everyone binance outside raise hand job"
          ],
          [
           "come stay tune binance ready assist regulator around world together find optimal way set fair play field consumer protection important want create sustainable ecosystem around blockchain technology"
          ],
          [
           "share earlier week binance future limit new future account open within past day leverage july july extend limit account open within past day"
          ],
          [
           "launch new tax reporting tool api use track crypto activity connect third party tax vendor streamline reporting requirement"
          ],
          [
           "commenced process license approval exist legal framework crypto exchange include ongoing work across asiapacific emea latin americawe actively work regulator cryptospecific framework introduce"
          ],
          [
           "enhance kyc effort leadership areadaily withdrawal limit adjust btc btc roughly usd account pass basic account verification"
          ],
          [
           "binance continue adapt new regulation order best serve user actually thing announce come"
          ],
          [
           "thread host press conference share active step take build upon effort compliant local regulation everywhere like share update"
          ],
          [
           "every time turn comment many czs commentsi follow people guess"
          ],
          [
           "binance say want license everywhere reuters"
          ],
          [
           "fiat crypto bitcoin energy efficient money network"
          ],
          [
           "binance smart chain create million bug bounty fund tighten protocol security technology bitcoin news"
          ],
          [
           "binance australia partner koinly tax report ato ramp compliance"
          ],
          [
           "intern tell liampayne snoopdogg parishilton big follower follow back immediately thank support"
          ],
          [
           "interest transformation necessary one"
          ],
          [
           "think get invited nft poker thingy philivey crazy hope last one hand"
          ],
          [
           "year ago binance ceo predict amazon coin come sooner later ethereum world news"
          ],
          [
           "binance future start limit new user max leverage last monday jul day ago didnt want make thingyin interest consumer protection apply exist user progressively next weeksstay safu"
          ],
          [
           "ok minute seem"
          ],
          [
           "live"
          ],
          [
           "binance nft marketplace launch golden ticket nft virtue poker tournament phil ivey vince vaughn others dailycoin"
          ],
          [
           "seascape network binance nft release exclusive zombie mystery box nfts"
          ],
          [
           "heard bank get crypto"
          ],
          [
           "live mintues"
          ],
          [
           "bitcoin value binance academy"
          ],
          [
           "key difference stablecoins learn mange risk"
          ],
          [
           "first native international currency"
          ],
          [
           "link see video talk"
          ],
          [
           "market like play emotion"
          ],
          [
           "binance"
          ],
          [
           "remember year ago worry bitcoin drop"
          ],
          [
           "cryptocurrency platform binance focus compliance amid global scrutiny ceo bank news top story straits time"
          ],
          [
           "million follower tiktok magician launch first set nonfungible token nfts binance nft platform june"
          ],
          [
           "time crypto guess debate may could bitcoin worth dollar sustainable"
          ],
          [
           "bitcoin fail may price time fail"
          ],
          [
           "say tweet midnight sunday good social engagement let prove wrong"
          ],
          [
           "begin new chapter await embrace compliance regulation"
          ],
          [
           "never easy"
          ],
          [
           "build dex super popular yet binancesmartchain many dexes"
          ],
          [
           "one still progress"
          ],
          [
           "deliver one get discount year onwards never lower"
          ],
          [
           "ramp schedule one guess"
          ],
          [
           "damn even deliver one proud"
          ],
          [
           "look back pro improve time"
          ],
          [
           "always international always wide coverage"
          ],
          [
           "year believe binance tick box white paper year ago"
          ],
          [
           "summary bnb usd burn binancethe remain bnb unlock move team address accord schedule white paperbinance team never use sell single team bnb thus far burn"
          ],
          [
           "bnb"
          ],
          [
           "bnb probably couldnt even make chart yet still early day"
          ],
          [
           "year later best time buy bitcoin nfa"
          ],
          [
           "binance smart chain bsc use blockchain ethereum world news"
          ],
          [
           "top coin market cap stable coin"
          ],
          [
           "favorite colorme bnb yellow"
          ],
          [
           "small pleasure life bnb"
          ],
          [
           "new feature coinmarketcap"
          ],
          [
           "im binancian"
          ],
          [
           "letter ceo celebrate year journey together binance blog"
          ],
          [
           "go actually didnt see cake person saw image one group side decentralize work force"
          ],
          [
           "july"
          ],
          [
           "binancesmartchain"
          ],
          [
           "first season binance incubation year ago turn really well let continue build apply season binance incubation program binance blog"
          ],
          [
           "god trust everything else use blockchain"
          ],
          [
           "relax yourselfmep selfhardest part job photo shoot"
          ],
          [
           "find dress shoe go sneaker"
          ],
          [
           "look regulate already"
          ],
          [
           "let make crypto green"
          ],
          [
           "meet people long business card"
          ],
          [
           "get taxi driver say thank make app honestly make day"
          ],
          [
           "get feeling bloomberg doesnt like much thats ok still thankful exemployer stay compliant work together grow industry"
          ],
          [
           "use twitteryou talk binance bnb bsc crypto retweet"
          ],
          [
           "would like thank read tweet bore tweet thank follow million timesthank support bnb bsc binance crypto"
          ],
          [
           "stable good bad price wise"
          ],
          [
           "let build"
          ],
          [
           "economy able support initiative time make advanced civilization"
          ],
          [
           "fud"
          ],
          [
           "stay humblestay low keyfix problembuidl"
          ],
          [
           "low key celebration time thank support"
          ],
          [
           "many different builderincubation program binance ecosystem cant keep track keep buidling"
          ],
          [
           "inflation make poor bitcoin inflation"
          ],
          [
           "think saw bnb logo"
          ],
          [
           "crypto stay embrace"
          ],
          [
           "build buy burn bnb"
          ],
          [
           "didnt look pancakeswap week much happen go defi"
          ],
          [
           "june month nothing new stood pancakeswap defi bsc rank exchange big many cex amaze"
          ],
          [
           "still money cant use itbitcoin fix"
          ],
          [
           "pay people fiat claim hold cryptome hmm use exchange"
          ],
          [
           "honestly learn efoils recently similar snowboard love less impactful fall less stress back think lose courage post pic social medium unforgiving"
          ],
          [
           "bitcoin bore great thing"
          ],
          [
           "charge list binance list"
          ],
          [
           "stay ground right thing build"
          ],
          [
           "poorly improve"
          ],
          [
           "buildnbuild"
          ],
          [
           "coinmarketcap new token swap feature use defi protocol liqudity"
          ],
          [
           "ape strong together"
          ],
          [
           "dang agree let make binance small decentralize make defi bsc bnb big cool"
          ],
          [
           "followingsupporting know dont engage debatesfights focus solve problem always thank trust support continue grow together"
          ],
          [
           "bnb actually call bnc back name change due conflict another coin almost forget thisi think bnb sound well unbiased opinion"
          ],
          [
           "thing dont changean ico valuable tool use correctlywe plan itwe get lucky lot place also step mine luckily nothing major"
          ],
          [
           "july year ago today finish bnb ico experience write year ago uneditted"
          ],
          [
           "remote work best way reduce call schedule overhead right amount recur call much little"
          ],
          [
           "lot fud lot problem solve lot opportunity"
          ],
          [
           "fast coinmarketcap rank legal tender country go look"
          ],
          [
           "buidl guess come next coinmarketcap launch token swap feature"
          ],
          [
           "impossible delete technology innovation idea people headsthe earlier embrace well bitcoin"
          ],
          [
           "many scammer target people follow instagram follow someone tell first thing watch scammer never send anyone coin without video call confirm stay safu"
          ],
          [
           "bnb binance cex"
          ],
          [
           "fund safu always"
          ],
          [
           "elons mom us bsc"
          ],
          [
           "dont understand something easily influence people opinion understand opinionsyou want opinion money learn bitcoin"
          ],
          [
           "doesnt produce anything virtual move dataelectrons around value yes facebook hit trillion market cap"
          ],
          [
           "dont average uniquenft thebinancenft featuredbinance"
          ],
          [
           "bnb ath dip nfa"
          ],
          [
           "everyone talk bitcoin problem everyone talk bitcoin"
          ],
          [
           "nft leave nft right"
          ],
          [
           "people worry bitcoin"
          ],
          [
           "still worried bitcoin go zerorelax think wont top many reason legal tender country"
          ],
          [
           "binance assist take cybercriminal ring"
          ],
          [
           "binance retrospect inevitable front month"
          ],
          [
           "nan"
          ],
          [
           "binance team autonomous learn organization"
          ],
          [
           "many thanks slightly glorify story appreciate deep dive many place still learn evolve still lots room improve grow"
          ],
          [
           "low fee win"
          ],
          [
           "million people added crypto ecosystem one go"
          ],
          [
           "people el salvador receive bitcoin government isnt money print thin air el salvador also dont currency hard money kudos"
          ],
          [
           "bitcoin right btw"
          ],
          [
           "focus buildingfreedom speech great dont let others say distract youfocus building product people use"
          ],
          [
           "let meme fly bitcoin right btw"
          ],
          [
           "binance receive letter commendation uk south east regional organise crime unit effort help fight bad player cyber spacelets make crypto safu"
          ],
          [
           "binance cex nft marketplace go live bnb"
          ],
          [
           "sad hear officialmcafee deep condolence family forever miss"
          ],
          [
           "low fee win"
          ],
          [
           "try less thing less thing well"
          ],
          [
           "heard coinmarketcap start rank country accept crypto legal tender"
          ],
          [
           "idea worthless execution priceless"
          ],
          [
           "learn past mistake write panic sell bad importantly structure risk dont need"
          ],
          [
           "time dip yet people complain lack opportunity late etc"
          ],
          [
           "sell fud sure way poor"
          ],
          [
           "hard time focus team build thing people use"
          ],
          [
           "want achieve big thing focus big picture want make big money look longer horizon"
          ],
          [
           "probably true heard michaelsaylor satoshi"
          ],
          [
           "michaelsaylor buy bitcoinsfor billion average price next guy want pay lot"
          ],
          [
           "ignore fud keep stack keep building bnb"
          ],
          [
           "people keep ask price prediction keep explain predict itmaybe moderately conservative precise answer make easy like dec utc even name coin"
          ],
          [
           "take multiple dip ath people believe"
          ],
          [
           "dad hold bnb daughter nowbe good dad save kid happy father day"
          ],
          [
           "preview develop app real device developer preview develop app ide help debug real device"
          ],
          [
           "new feature pv uv tracker mini program apps navigation bar set front color animation run background support"
          ],
          [
           "jump mini program developer jump mini program api mini program high permission even jump deeplink inside binance app"
          ],
          [
           "log panel preview trial audit mini program open log panel show log message help developer debug"
          ],
          [
           "native input mini program use new native input instead old web one lots new feature component support auto focus auto height confirm type keyboard"
          ],
          [
           "binance mini program update webview app framework support new type webview app developer directly reuse web app run binance app jssdk developer easily integrate functionality like login binance pay"
          ],
          [
           "binance app updateadd quick entry kline margin tradingadd entry future trade chat roomlite version coinsoptimized workflow forpending order walletongoing deposit withdrawalskyc verificationswallets"
          ],
          [
           "dumb question go back buy bitcoin peak hold multiple year bear cycle till ithodl"
          ],
          [
           "impossible prove something impossible keep building"
          ],
          [
           "binance accepts bitcoin legal tender since"
          ],
          [
           "friday night actually already sat morning follow"
          ],
          [
           "paraguayan congressman introduce bitcoin legislation"
          ],
          [
           "digital money energy efficient physical money obvious right"
          ],
          [
           "stay safu"
          ],
          [
           "lot people work behind scenes increase adoption crypto truly respect"
          ],
          [
           "onchain nft platform endorse binance launch today who avatar"
          ],
          [
           "save tweet"
          ],
          [
           "people use crypto"
          ],
          [
           "binance sendreceive feature cool simple fast easy use maybe promote top level"
          ],
          [
           "know binance exchange support currency payment option use people around world try"
          ],
          [
           "time binance super meetup taiwan hot rush back another venue could make people wait minute expensive time probably wont last time hate short trade love leg"
          ],
          [
           "weak defense short often call bermuda high sock formal wear bermuda go bermudapremiers aide day specifically buy occasion turn everyone else wear long pant"
          ],
          [
           "dont think authority comment"
          ],
          [
           "todayq cz whats difference crypto well one thing back one ct crypto twitter follower"
          ],
          [
           "keep building keep creatingbinance launch nfts street artist lushsux carltons eddie betts aussie stockhead"
          ],
          [
           "el salvador purchase power increase time"
          ],
          [
           "risk reminder stable coin lose purchase power timenfa"
          ],
          [
           "pay bitcoin people convert stable coin wish"
          ],
          [
           "bitcoin wish get earlier wish get earlier wish get earlier wish get earlier wish get earlier wish get earlier wish get earlier wish get earlier"
          ],
          [
           "happy birthday apompliano"
          ],
          [
           "people try front run michaelsaylor"
          ],
          [
           "need hire"
          ],
          [
           "confirm tweet responsibly without move market"
          ],
          [
           "try make mistake twice"
          ],
          [
           "thought"
          ],
          [
           "consider follow comment restrict tweet vs follower ratio ratio vote something"
          ],
          [
           "prefer tweet"
          ],
          [
           "still wonder email largely replace postal mail hard tell"
          ],
          [
           "study show people buy bitcoin bnb people sell less frequently richernfa"
          ],
          [
           "message still message technology transfer improve timemoney still money technology transfer improve"
          ],
          [
           "technology innovation suddenly endnowill crypto suddenly endit technology"
          ],
          [
           "wrong answer nft stand"
          ],
          [
           "nfts get start uganda museum create nfts display binance marketplace"
          ],
          [
           "contrary popular misconception bitcoin incentivizefund new era clean energy research development help advance civilization"
          ],
          [
           "anyone buy volcano yetuntil day ago didnt cross mind crypto provide monetization model volcano toomust admit imagination limit predict future crypto know gonna bignfa"
          ],
          [
           "remove red button el salvador user right sell fiat longer necessary use bitcoin directly way behalf lame joke half serious nfa"
          ],
          [
           "bitcoin good money big economy wealthier citizen globally influential government stronger countriesadopting bitcoin patriotic"
          ],
          [
           "sovereign individual use bitcoinsovereign nation use bitcoin"
          ],
          [
           "wish buy low sell high need low somewhere worknot financial advice"
          ],
          [
           "use bitcoin make nation sovereignfew understand least"
          ],
          [
           "dont let short term emotion take look long term technology trend crypto everywhere due timenfa"
          ],
          [
           "unpopular opinion dont tradecapturesell every dip although good exchange revenue hodl usually good strategy peoplenfa"
          ],
          [
           "year ago todaybtc"
          ],
          [
           "imagine power print unlimited amount money buy limitedsupply asset would dotrue story somenfa"
          ],
          [
           "country get bitcoin"
          ],
          [
           "wait till nation start put bitcoin treasuryor well waitnfa"
          ],
          [
           "binance take responsible trading seriously binance blog"
          ],
          [
           "say crypto hard understand yes get vaccinated"
          ],
          [
           "bnb legal tender bsc one popular blockchains daily transaction"
          ],
          [
           "country next recognize bitcoin legal tender"
          ],
          [
           "el salvador beautiful"
          ],
          [
           "believe japan make bitcoin legal tender april take one though"
          ],
          [
           "bitcoin legal tender el salvador"
          ],
          [
           "twitter instagram follower get know nft bsc"
          ],
          [
           "decentralize world many different often bite crazy personality make world interest"
          ],
          [
           "follow rich crazy randomly swing person tweet trade end richnfa"
          ],
          [
           "low fee large network"
          ],
          [
           "bnb"
          ],
          [
           "history unkind fud creator people act"
          ],
          [
           "learn think"
          ],
          [
           "know zero rich people become rich thing accord rich people tweetlet sink"
          ],
          [
           "defi wsj"
          ],
          [
           "tweet hurt people finance funny irresponsible"
          ],
          [
           "great power great responsibility great great power random humor great funny"
          ],
          [
           "dont manipulate hodl financial advice"
          ],
          [
           "want see photo miami real people hang"
          ],
          [
           "ready bnbnfa"
          ]
         ],
         "hovertemplate": "tsne-2d-one=%{x}<br>tsne-2d-two=%{y}<br>text_cleaned=%{customdata[0]}<br>movement=%{marker.color}<extra></extra>",
         "legendgroup": "",
         "marker": {
          "color": [
           1,
           1,
           1,
           1,
           1,
           1,
           1,
           1,
           0,
           0,
           0,
           0,
           0,
           0,
           1,
           1,
           1,
           1,
           1,
           0,
           0,
           0,
           0,
           0,
           0,
           0,
           0,
           0,
           0,
           0,
           0,
           0,
           0,
           0,
           0,
           0,
           0,
           0,
           0,
           0,
           1,
           1,
           1,
           1,
           1,
           1,
           1,
           1,
           1,
           1,
           1,
           1,
           1,
           1,
           1,
           1,
           1,
           1,
           1,
           1,
           1,
           0,
           0,
           0,
           1,
           1,
           1,
           1,
           0,
           0,
           0,
           0,
           0,
           0,
           0,
           0,
           0,
           0,
           0,
           0,
           0,
           0,
           0,
           0,
           0,
           0,
           1,
           1,
           1,
           1,
           1,
           1,
           1,
           1,
           1,
           1,
           1,
           1,
           1,
           1,
           1,
           1,
           1,
           1,
           1,
           1,
           1,
           0,
           0,
           0,
           0,
           0,
           0,
           0,
           0,
           0,
           0,
           0,
           0,
           0,
           0,
           0,
           0,
           0,
           1,
           1,
           1,
           1,
           0,
           0,
           0,
           0,
           0,
           0,
           0,
           0,
           0,
           0,
           0,
           0,
           0,
           0,
           1,
           1,
           1,
           1,
           1,
           1,
           0,
           0,
           0,
           0,
           0,
           0,
           0,
           0,
           0,
           0,
           0,
           0,
           0,
           0,
           0,
           0,
           0,
           0,
           0,
           0,
           0,
           0,
           0,
           0,
           0,
           0,
           0,
           0,
           0,
           0,
           0,
           0,
           0,
           0,
           0,
           0,
           0,
           0,
           0,
           0,
           0,
           1,
           1,
           1,
           1,
           1,
           1,
           1,
           1,
           1,
           1,
           1,
           1,
           0,
           0,
           0,
           0,
           0,
           0,
           0,
           1,
           1,
           1,
           1,
           1,
           1,
           1,
           1,
           1,
           0,
           0,
           0,
           0,
           0,
           0,
           0,
           0,
           1,
           1,
           1,
           1,
           1,
           1,
           1,
           1,
           1,
           0,
           0,
           0,
           0,
           0,
           0,
           0,
           1,
           1,
           1,
           1,
           1,
           0,
           0,
           0,
           0,
           0,
           0,
           0,
           0,
           1,
           1,
           1,
           1,
           1,
           1,
           1,
           1,
           1,
           0,
           0,
           0,
           0,
           0,
           0,
           0,
           0,
           0,
           0,
           0,
           0,
           0,
           0,
           0,
           0,
           0,
           0,
           0,
           1,
           1,
           1,
           1,
           1,
           1,
           1,
           1,
           0,
           0,
           0,
           0,
           0,
           0,
           0,
           0,
           0,
           0,
           0,
           0,
           0,
           0,
           0,
           0,
           0,
           0,
           1,
           1,
           1,
           1,
           1,
           1,
           1,
           1,
           1,
           1,
           1,
           1,
           1,
           1,
           1,
           0,
           0,
           0,
           0,
           0,
           0,
           0,
           0,
           0,
           0,
           0,
           1,
           1,
           1,
           1,
           0,
           0,
           0,
           0,
           1,
           1,
           1,
           1,
           1,
           1,
           1,
           1,
           1,
           1,
           1,
           0,
           0,
           0,
           0,
           0,
           0,
           0,
           0,
           0,
           0,
           0,
           0,
           0,
           0,
           0,
           0,
           0,
           0,
           0,
           1,
           1,
           1,
           1,
           1,
           0,
           0,
           0,
           0,
           0,
           0,
           0,
           1,
           1,
           1,
           1,
           0,
           0,
           1,
           1,
           1,
           1,
           1,
           1,
           1,
           1,
           1,
           1,
           1,
           1,
           1,
           1,
           1,
           1,
           1,
           1,
           1,
           1,
           1,
           1,
           1,
           1,
           1,
           1,
           1,
           1,
           1,
           1,
           1,
           1,
           1,
           1,
           1,
           1,
           1,
           1,
           1,
           1,
           0,
           0,
           0,
           0,
           0,
           0,
           0,
           0,
           1,
           1,
           1,
           1,
           1,
           1,
           1,
           1,
           0,
           0,
           0,
           1,
           0,
           0,
           0,
           0,
           1,
           1,
           1,
           1,
           1,
           1,
           1,
           1,
           1,
           1,
           1,
           1,
           1,
           1,
           1,
           1,
           1,
           1,
           1,
           1,
           1,
           1,
           1,
           1,
           1,
           1,
           1,
           0,
           1,
           1,
           1,
           1,
           1,
           1,
           0,
           0,
           0,
           0,
           0,
           0,
           0,
           1,
           1,
           1,
           1,
           1,
           1,
           0,
           0,
           0,
           0,
           0,
           0,
           0,
           0,
           0,
           0,
           0,
           1,
           1,
           1,
           1,
           1,
           1,
           1,
           1,
           1,
           1,
           0,
           0,
           0,
           0,
           1,
           1,
           1,
           1,
           1,
           0,
           0,
           0,
           1,
           1,
           1,
           1,
           0,
           0,
           0,
           0,
           1,
           1,
           0,
           0,
           0,
           0,
           0,
           0,
           0,
           1,
           1,
           1,
           1,
           1,
           1,
           1,
           1,
           1,
           1,
           1,
           1,
           1,
           1,
           0,
           0,
           0,
           1,
           0,
           0,
           0,
           0,
           0,
           0,
           0,
           0,
           0,
           0,
           0,
           0,
           0,
           0,
           0,
           1,
           1,
           1,
           0,
           0,
           0,
           0,
           0,
           1,
           1,
           1,
           1,
           0,
           0,
           1,
           1,
           1,
           1,
           1,
           1,
           1,
           0,
           0,
           0,
           0,
           0,
           0,
           0,
           0,
           1,
           1,
           0,
           0,
           0,
           0,
           0,
           0,
           0,
           0,
           1,
           0,
           0,
           0,
           1,
           1,
           0,
           0,
           0,
           0,
           0,
           0,
           0,
           0,
           0,
           0,
           0,
           0,
           0,
           0,
           1,
           1,
           1,
           0,
           0,
           0,
           0,
           0,
           0,
           0,
           1,
           1,
           1,
           1,
           1,
           1,
           1,
           1,
           1,
           1,
           1,
           1,
           1,
           1,
           1,
           1,
           1,
           1,
           1,
           1,
           1,
           1,
           0,
           0,
           0,
           0,
           0,
           1,
           1,
           1,
           0,
           0,
           0,
           0,
           1,
           1,
           1,
           1,
           1,
           0,
           0,
           0,
           1,
           1,
           1,
           1,
           1,
           1,
           0,
           0,
           0,
           0,
           0,
           0,
           0,
           0,
           0,
           0,
           0,
           0,
           0,
           0,
           0,
           0,
           0,
           0,
           0,
           1,
           0,
           0,
           0,
           0,
           0,
           0,
           1,
           1,
           0,
           0,
           0,
           0,
           0,
           0,
           1,
           1,
           1,
           1,
           1,
           1,
           1,
           0,
           0,
           0,
           0,
           1,
           1,
           1,
           1,
           1,
           1,
           1,
           1,
           1,
           0,
           0,
           0,
           0,
           0,
           0,
           0,
           0,
           0,
           0,
           0,
           0,
           0,
           0,
           0,
           0,
           0,
           0,
           0,
           0,
           1,
           1,
           0,
           0,
           0,
           0,
           0,
           1,
           1,
           0,
           0,
           0,
           0,
           0,
           0,
           0,
           0,
           0,
           0,
           1,
           1,
           1,
           1,
           1,
           0,
           0,
           0,
           0,
           0,
           0,
           1,
           1,
           1,
           1,
           1,
           1,
           1,
           1,
           1,
           1,
           1,
           1,
           1,
           1,
           1,
           1,
           1,
           1,
           0,
           0,
           0,
           1,
           1,
           1,
           1,
           1,
           0,
           0,
           1,
           1,
           1,
           1,
           1,
           1,
           1,
           1,
           1,
           1,
           0,
           0,
           0,
           0,
           0,
           0,
           0,
           0,
           1,
           1,
           1,
           1,
           1,
           1,
           0,
           1,
           1,
           1,
           1,
           0,
           0,
           0,
           0,
           0,
           0,
           0,
           0,
           0,
           0,
           0,
           0,
           1,
           1,
           1,
           1,
           0,
           0,
           1,
           1,
           1,
           1,
           1,
           1,
           1,
           1,
           1,
           1,
           1,
           1,
           1,
           1,
           1,
           1,
           1,
           1,
           1,
           1,
           1,
           1,
           1,
           0,
           0,
           0,
           1,
           1,
           1,
           1,
           1,
           1,
           0,
           0,
           1,
           1,
           1,
           1,
           0,
           0,
           0,
           0,
           0,
           0,
           0,
           1,
           1,
           1,
           1,
           0,
           0,
           1,
           1,
           1,
           1,
           1,
           1,
           1,
           1,
           0,
           0,
           0,
           0,
           0,
           0,
           1,
           0,
           0,
           0,
           0,
           0,
           1,
           1,
           1,
           1,
           1,
           1,
           1,
           1,
           0,
           0,
           0,
           0,
           0,
           1,
           0,
           0,
           1,
           1,
           1,
           1,
           0,
           0,
           1,
           1,
           1,
           0,
           0,
           0,
           0,
           0,
           1,
           0,
           0,
           0,
           0,
           0,
           0,
           0,
           0,
           0,
           0,
           0,
           0,
           0,
           0,
           1,
           0,
           1,
           1,
           1,
           1,
           0,
           0,
           1,
           1,
           1,
           1,
           1,
           0,
           0,
           0,
           0,
           0,
           0,
           0,
           0,
           0,
           0,
           0,
           0,
           0,
           0,
           0,
           0,
           1,
           1,
           1,
           1,
           1,
           1,
           1,
           0,
           0,
           1,
           1,
           1,
           1,
           1,
           1,
           1,
           1,
           1,
           1,
           1,
           1,
           1,
           1,
           0,
           0,
           0,
           0,
           0,
           0,
           1,
           1,
           1,
           1,
           1,
           1,
           1,
           1,
           1,
           0,
           0,
           0,
           0,
           0,
           1,
           1,
           1,
           1,
           1,
           1,
           1,
           1,
           1,
           1,
           1,
           0,
           0,
           0,
           0,
           1,
           1,
           1,
           1,
           1,
           1,
           1,
           0,
           0,
           0,
           0,
           0,
           0,
           0,
           0,
           0,
           0,
           1,
           1,
           1,
           1,
           1,
           1,
           1,
           0,
           0,
           0,
           1,
           1,
           1,
           1,
           1,
           1,
           1,
           1,
           1,
           1,
           1,
           1,
           1,
           1,
           1,
           1,
           1,
           1,
           1,
           1,
           1,
           1,
           1,
           1,
           1,
           1,
           1,
           1,
           1,
           1,
           1,
           1,
           1,
           0,
           0,
           0,
           0,
           0,
           0,
           1,
           0,
           0,
           0,
           0,
           0,
           0,
           1,
           1,
           1,
           1,
           1,
           1,
           1,
           1,
           1,
           1,
           1,
           1,
           1,
           0,
           1,
           1,
           1,
           1,
           1,
           1,
           1,
           1,
           1,
           1,
           1,
           1,
           1,
           1,
           1,
           1,
           1,
           1,
           0,
           0,
           0,
           0,
           0,
           1,
           1,
           1,
           1,
           1,
           1,
           1,
           1,
           1,
           1,
           1,
           1,
           1,
           1,
           1,
           0,
           0,
           0,
           0,
           0,
           0,
           0,
           0,
           0,
           0,
           0,
           0,
           0,
           0,
           0,
           1,
           0,
           1,
           1,
           1,
           1,
           1,
           1,
           1,
           1,
           1,
           0,
           0,
           0,
           0,
           0,
           0,
           0,
           1,
           1,
           0,
           0,
           0,
           0,
           0,
           0,
           1,
           1,
           1,
           0,
           0,
           0,
           0,
           0,
           0,
           0,
           0,
           0,
           1,
           1,
           0,
           0,
           0,
           1,
           1,
           1,
           1,
           1,
           0,
           0,
           0,
           0,
           0,
           0,
           0,
           0,
           0,
           0,
           0,
           0,
           1,
           1,
           1,
           1,
           1,
           1,
           1,
           1,
           1,
           1,
           0,
           0,
           0,
           0,
           0,
           0,
           0,
           0,
           0,
           1,
           1,
           1,
           1,
           0,
           0,
           0,
           0,
           0,
           0,
           0,
           0,
           0,
           0,
           0,
           0,
           0,
           0,
           1,
           1,
           1,
           1,
           1,
           1,
           1,
           1,
           0,
           0,
           0,
           0,
           0,
           0,
           0,
           0,
           0,
           0,
           0,
           0,
           0,
           0,
           0,
           0,
           0,
           0,
           0,
           0,
           0,
           0,
           1,
           1,
           1,
           1,
           1,
           1,
           1,
           1,
           1,
           1,
           0,
           0,
           0,
           0,
           0,
           1,
           1,
           1,
           0,
           0,
           0,
           0,
           0,
           0,
           0,
           0,
           0,
           0,
           1,
           1,
           1,
           1,
           1,
           0,
           0,
           0,
           0,
           0,
           0,
           1,
           1,
           1,
           1,
           1,
           1,
           1,
           1
          ],
          "coloraxis": "coloraxis",
          "symbol": "circle"
         },
         "mode": "markers",
         "name": "",
         "showlegend": false,
         "type": "scattergl",
         "x": [
          0.6142030954360962,
          -13.264233589172363,
          11.259659767150879,
          -0.5625516176223755,
          -11.062159538269043,
          10.22888469696045,
          -5.846073150634766,
          -0.19507238268852234,
          -5.899552345275879,
          3.0472018718719482,
          -1.5699406862258911,
          -0.3498819172382355,
          -6.076910018920898,
          -11.177139282226562,
          -2.2618932723999023,
          10.583328247070312,
          10.156852722167969,
          5.2424774169921875,
          3.561610460281372,
          2.20914626121521,
          -13.794976234436035,
          -0.5729427933692932,
          -10.705018043518066,
          1.8452534675598145,
          3.4306066036224365,
          0.12187861651182175,
          5.48167610168457,
          -0.7638061046600342,
          0.6297697424888611,
          1.9024779796600342,
          0.6718774437904358,
          -3.1349995136260986,
          -0.6975236535072327,
          7.108239650726318,
          10.738885879516602,
          -11.768108367919922,
          -6.974312782287598,
          3.396851062774658,
          4.324863910675049,
          2.1496522426605225,
          0.02908673882484436,
          -11.727437973022461,
          1.789027214050293,
          9.538904190063477,
          -1.1163668632507324,
          -4.318836212158203,
          3.4448082447052,
          8.976181030273438,
          -3.670924663543701,
          5.166543483734131,
          0.9020735621452332,
          -1.198745846748352,
          -1.6836026906967163,
          -6.898868560791016,
          2.0188136100769043,
          3.084857702255249,
          0.8861753344535828,
          -0.7044617533683777,
          6.708646774291992,
          -6.317601203918457,
          4.616246700286865,
          -1.0529335737228394,
          7.024514675140381,
          6.187784671783447,
          2.071225881576538,
          -0.8711861371994019,
          4.042083263397217,
          -9.29906940460205,
          -3.6280994415283203,
          -4.457095623016357,
          -9.691264152526855,
          0.19437463581562042,
          2.2632815837860107,
          -11.542740821838379,
          -3.1502187252044678,
          10.661189079284668,
          -1.2246230840682983,
          4.737874984741211,
          -7.125442981719971,
          -1.6140540838241577,
          1.5389058589935303,
          -0.5793638825416565,
          -4.0843586921691895,
          -0.35665279626846313,
          0.947026252746582,
          -2.9338831901550293,
          -1.7527574300765991,
          -9.571141242980957,
          7.370419502258301,
          -0.7535103559494019,
          2.24251651763916,
          -1.5996824502944946,
          -1.568284511566162,
          -1.0184118747711182,
          -10.508752822875977,
          -0.6060651540756226,
          1.6581395864486694,
          -0.06147956848144531,
          2.414935350418091,
          8.959817886352539,
          -2.1095874309539795,
          -7.718148231506348,
          4.89907169342041,
          0.09099451452493668,
          2.1264097690582275,
          5.129622936248779,
          -11.479344367980957,
          9.763870239257812,
          9.347464561462402,
          0.060924433171749115,
          -11.874343872070312,
          -0.23994742333889008,
          -2.0528573989868164,
          -6.793867588043213,
          -0.3796708285808563,
          -11.542661666870117,
          -4.189634323120117,
          -2.0972514152526855,
          -6.023388862609863,
          0.44943317770957947,
          4.256766319274902,
          0.43280166387557983,
          -13.248604774475098,
          0.8003363013267517,
          -3.090196371078491,
          -5.677567481994629,
          1.2751623392105103,
          5.259165287017822,
          0.9837568402290344,
          -0.39305487275123596,
          -7.659311771392822,
          -0.6526750326156616,
          -1.6433687210083008,
          0.3045622706413269,
          -0.6955837607383728,
          6.032221794128418,
          5.94261360168457,
          -2.7207608222961426,
          -4.374342918395996,
          -3.542680263519287,
          2.8070948123931885,
          -0.6065371632575989,
          2.4989795684814453,
          -1.6583372354507446,
          -4.112265110015869,
          -0.330448716878891,
          -5.7720770835876465,
          5.630449295043945,
          9.854876518249512,
          -13.106252670288086,
          0.20293933153152466,
          -3.1536660194396973,
          -13.263833045959473,
          -6.893659591674805,
          2.3125247955322266,
          -5.829430103302002,
          7.723440647125244,
          8.15585994720459,
          5.190852165222168,
          7.788800239562988,
          -5.456927299499512,
          0.687526285648346,
          -2.053136110305786,
          -7.907672882080078,
          -7.912996292114258,
          -2.289767265319824,
          -2.8697409629821777,
          4.106105327606201,
          -9.023200988769531,
          0.4647575914859772,
          -3.9283294677734375,
          9.829011917114258,
          -6.786916732788086,
          2.7715065479278564,
          6.057605743408203,
          -5.135838985443115,
          -10.489879608154297,
          -1.8573416471481323,
          3.293706178665161,
          1.6679047346115112,
          -1.6822168827056885,
          -0.46695446968078613,
          -11.246272087097168,
          10.905126571655273,
          -6.1308512687683105,
          -8.372413635253906,
          0.026716656982898712,
          2.3502354621887207,
          -2.6330485343933105,
          2.6574034690856934,
          -1.8066097497940063,
          0.4052979052066803,
          1.0722589492797852,
          2.522923231124878,
          5.026954174041748,
          7.731662750244141,
          -6.283228397369385,
          8.927863121032715,
          10.76207160949707,
          -4.3004984855651855,
          2.039705991744995,
          5.416581630706787,
          -4.317821502685547,
          3.834249973297119,
          4.309206962585449,
          1.5150234699249268,
          -2.218024969100952,
          7.201197147369385,
          10.468591690063477,
          0.002537306398153305,
          1.3658592700958252,
          -11.754679679870605,
          -5.691085338592529,
          7.024305820465088,
          -2.5611119270324707,
          -5.709989070892334,
          -0.3413408398628235,
          -1.413766622543335,
          3.917229652404785,
          2.254694938659668,
          -1.6381083726882935,
          -6.336252212524414,
          2.5514121055603027,
          -0.9440414905548096,
          8.576089859008789,
          -7.125442028045654,
          0.5021435618400574,
          5.514991760253906,
          -13.695752143859863,
          2.9098527431488037,
          1.5722486972808838,
          6.401449203491211,
          -1.8838499784469604,
          -0.9807606339454651,
          2.6565513610839844,
          2.9820845127105713,
          -10.590383529663086,
          -1.129948616027832,
          1.584900140762329,
          -9.249576568603516,
          1.5203114748001099,
          6.94155216217041,
          4.944427490234375,
          -4.829077243804932,
          -1.647270917892456,
          1.7254515886306763,
          2.393819808959961,
          6.738138198852539,
          4.783964157104492,
          -1.374254584312439,
          0.7514339685440063,
          -4.945279598236084,
          2.6609671115875244,
          3.713237762451172,
          -5.6421637535095215,
          10.052871704101562,
          2.409940242767334,
          -0.5794255137443542,
          -7.394063949584961,
          0.5476489663124084,
          2.51762318611145,
          -1.195940613746643,
          0.3764035701751709,
          8.943520545959473,
          -5.655110836029053,
          0.49928849935531616,
          2.2521586418151855,
          0.5058773159980774,
          -3.1729931831359863,
          -9.04360294342041,
          4.686563968658447,
          9.257792472839355,
          1.9742000102996826,
          5.648711204528809,
          1.6629137992858887,
          3.2702925205230713,
          -6.730652332305908,
          -3.6968657970428467,
          -1.0815327167510986,
          4.003833293914795,
          0.3162987232208252,
          4.224340438842773,
          9.49421215057373,
          -0.4673558473587036,
          2.189305067062378,
          -2.937649965286255,
          2.6239678859710693,
          3.1718153953552246,
          -5.812294006347656,
          2.455900192260742,
          -3.7959680557250977,
          -4.360431671142578,
          -0.04392015188932419,
          8.620068550109863,
          -5.9730072021484375,
          -7.928948879241943,
          -1.8235821723937988,
          11.43120002746582,
          -8.3798189163208,
          0.36916428804397583,
          7.077550411224365,
          2.5753002166748047,
          5.761582374572754,
          -8.085732460021973,
          -11.754676818847656,
          5.143857955932617,
          -1.1911031007766724,
          -0.3974418640136719,
          1.414150357246399,
          6.1911940574646,
          -0.24541401863098145,
          0.07749836146831512,
          2.8001530170440674,
          2.418271541595459,
          -1.9432929754257202,
          9.031868934631348,
          -9.065964698791504,
          -3.767749547958374,
          -1.7135032415390015,
          4.972655773162842,
          5.323539733886719,
          -9.550374031066895,
          1.69784677028656,
          7.335659503936768,
          2.949582576751709,
          -8.291572570800781,
          1.8898199796676636,
          -8.315852165222168,
          -2.4383890628814697,
          6.879256725311279,
          -3.426377296447754,
          -8.291568756103516,
          -6.606593608856201,
          10.556539535522461,
          8.981720924377441,
          -2.1971821784973145,
          -1.9349218606948853,
          2.702707529067993,
          -6.056621551513672,
          9.582784652709961,
          7.329900741577148,
          -3.3209726810455322,
          -3.1979494094848633,
          -1.043905258178711,
          -8.828203201293945,
          2.8916547298431396,
          -6.3245649337768555,
          -9.751484870910645,
          7.5011067390441895,
          -1.2708669900894165,
          -11.062816619873047,
          2.8815035820007324,
          4.447395324707031,
          5.118338584899902,
          6.000390529632568,
          4.485168933868408,
          5.249629020690918,
          1.3417649269104004,
          9.729012489318848,
          -12.02197551727295,
          8.426992416381836,
          -6.951205730438232,
          5.605127334594727,
          10.381335258483887,
          3.9838945865631104,
          10.733087539672852,
          -4.345420837402344,
          10.640095710754395,
          9.031333923339844,
          -13.248601913452148,
          2.6219239234924316,
          4.622076034545898,
          3.4158074855804443,
          -6.38796854019165,
          -5.911896228790283,
          2.3166754245758057,
          4.456798553466797,
          2.4369497299194336,
          10.329582214355469,
          4.110776901245117,
          -0.09777911752462387,
          -9.257386207580566,
          0.6095788478851318,
          -2.408376455307007,
          5.712006568908691,
          4.86431884765625,
          -5.877402305603027,
          5.538559436798096,
          -5.795540809631348,
          4.454037666320801,
          -0.6135340929031372,
          9.902875900268555,
          -4.292758941650391,
          -6.023290634155273,
          -4.612184047698975,
          -5.987277984619141,
          1.5661468505859375,
          9.1808443069458,
          -11.553803443908691,
          5.7243523597717285,
          10.423246383666992,
          -7.731431484222412,
          -4.64959192276001,
          -0.34995678067207336,
          10.6275634765625,
          -5.797715663909912,
          2.828432083129883,
          -3.154111623764038,
          1.0606191158294678,
          -0.5647683143615723,
          3.385404586791992,
          1.5115305185317993,
          -1.22551691532135,
          -9.001708984375,
          7.294524192810059,
          -6.247200965881348,
          3.3764588832855225,
          -5.9270920753479,
          4.58588981628418,
          5.999354839324951,
          8.979125022888184,
          -5.54584264755249,
          -3.4468860626220703,
          0.44655197858810425,
          6.295863628387451,
          4.063346862792969,
          10.496843338012695,
          -2.241626739501953,
          -0.38667646050453186,
          -13.248957633972168,
          3.4355294704437256,
          -1.4101749658584595,
          -8.181472778320312,
          4.264279365539551,
          3.9548213481903076,
          4.54344367980957,
          6.5175461769104,
          2.955883502960205,
          -2.1984894275665283,
          1.0018991231918335,
          -11.461536407470703,
          -4.640655994415283,
          8.370416641235352,
          1.195555567741394,
          -1.9588814973831177,
          -11.004117012023926,
          -1.6482876539230347,
          10.334501266479492,
          4.820519924163818,
          5.507761478424072,
          4.984194278717041,
          -5.112056732177734,
          4.198489665985107,
          -4.203763484954834,
          -1.361508846282959,
          -1.84416925907135,
          -1.7230939865112305,
          4.993091583251953,
          -5.47014045715332,
          8.151164054870605,
          3.037581443786621,
          -9.40339469909668,
          4.158019542694092,
          7.444090366363525,
          -3.8730740547180176,
          9.995862007141113,
          -13.232707977294922,
          0.2960694134235382,
          4.709447860717773,
          -11.389568328857422,
          4.1812005043029785,
          1.8636882305145264,
          -3.664804697036743,
          -5.79943323135376,
          -12.9110689163208,
          5.214441299438477,
          4.766315937042236,
          -13.081595420837402,
          -5.1182684898376465,
          -13.299164772033691,
          -5.77843713760376,
          -14.014019012451172,
          5.309128761291504,
          6.6959004402160645,
          5.443803787231445,
          -3.699230909347534,
          2.3025972843170166,
          5.508542060852051,
          -8.356308937072754,
          1.3706023693084717,
          -3.586195945739746,
          -5.811116695404053,
          2.000398635864258,
          -2.3258204460144043,
          1.546332836151123,
          7.32816219329834,
          -4.193860054016113,
          -0.4773715138435364,
          0.7430810928344727,
          8.436349868774414,
          -5.281366348266602,
          -3.265183210372925,
          3.471418857574463,
          4.455550193786621,
          6.977987766265869,
          -1.9482812881469727,
          0.958069384098053,
          -1.5628587007522583,
          1.8625603914260864,
          -2.827664375305176,
          -9.589469909667969,
          5.838745594024658,
          10.198125839233398,
          -2.496464252471924,
          -8.793701171875,
          -6.143705368041992,
          2.536374807357788,
          -1.4050872325897217,
          4.538000583648682,
          -11.245233535766602,
          -2.637035608291626,
          -4.158648490905762,
          -4.905948162078857,
          0.9710330367088318,
          -1.194015383720398,
          7.960219383239746,
          7.3131022453308105,
          7.307146072387695,
          5.817429065704346,
          -0.8058673143386841,
          -5.803399562835693,
          -6.409695625305176,
          -13.248642921447754,
          7.366570949554443,
          2.767334222793579,
          3.3808772563934326,
          3.3232991695404053,
          2.1371898651123047,
          10.250839233398438,
          -1.3769631385803223,
          0.871677041053772,
          7.6864848136901855,
          -3.011708974838257,
          -6.470009803771973,
          -4.371232509613037,
          2.4771769046783447,
          10.212775230407715,
          0.5323959589004517,
          -8.985275268554688,
          0.5675600171089172,
          -0.25564002990722656,
          -3.2446608543395996,
          1.318446397781372,
          -4.577116012573242,
          -0.4740805923938751,
          2.4942984580993652,
          -1.1088027954101562,
          5.516888618469238,
          -4.068877220153809,
          10.331860542297363,
          0.3697527050971985,
          -6.67388391494751,
          3.6783173084259033,
          1.6322180032730103,
          5.408856391906738,
          3.645576238632202,
          -3.9942378997802734,
          5.010453224182129,
          2.213150978088379,
          -3.3016247749328613,
          6.535196781158447,
          -5.827486991882324,
          5.770264148712158,
          -6.180910110473633,
          0.015882059931755066,
          -3.671729326248169,
          0.15346039831638336,
          -4.011227130889893,
          -1.7689839601516724,
          9.602484703063965,
          0.6215330958366394,
          -1.6751055717468262,
          8.697257995605469,
          -6.319875240325928,
          6.769571781158447,
          0.7037202715873718,
          5.086532115936279,
          -13.901448249816895,
          -0.28821611404418945,
          -8.943276405334473,
          -4.00514554977417,
          9.953783988952637,
          -5.781038761138916,
          3.648024559020996,
          -4.084359645843506,
          -2.6474623680114746,
          -2.5278642177581787,
          4.677792549133301,
          10.999856948852539,
          0.2836405038833618,
          4.850870609283447,
          8.67027473449707,
          -1.2526260614395142,
          3.0209975242614746,
          10.384902954101562,
          -2.840233564376831,
          -0.07453344762325287,
          2.120361566543579,
          -2.3943240642547607,
          2.7707042694091797,
          9.170893669128418,
          -1.6317687034606934,
          5.182465553283691,
          -8.853731155395508,
          4.33881950378418,
          -13.234898567199707,
          7.1252288818359375,
          -4.552438259124756,
          5.286491394042969,
          0.09770593047142029,
          -1.635596513748169,
          -4.085533618927002,
          -3.1423120498657227,
          -3.390329599380493,
          8.119051933288574,
          5.662100791931152,
          -2.894289970397949,
          -5.097598552703857,
          -0.10827808082103729,
          -0.1904154270887375,
          4.648858070373535,
          -2.6928508281707764,
          6.766207218170166,
          -2.863313674926758,
          7.616563320159912,
          -13.069229125976562,
          5.140269756317139,
          -7.042297840118408,
          -0.7391977310180664,
          -3.2544126510620117,
          -8.833945274353027,
          -6.0202507972717285,
          -12.190122604370117,
          10.323253631591797,
          -1.1226593255996704,
          -0.35335904359817505,
          9.883947372436523,
          -5.315970420837402,
          4.477002143859863,
          -7.96227502822876,
          -0.47602954506874084,
          -4.3612236976623535,
          -6.243776798248291,
          6.8489203453063965,
          3.2424488067626953,
          -14.077702522277832,
          -4.086623668670654,
          -6.8013224601745605,
          -3.847581624984741,
          0.2071968913078308,
          -1.0409846305847168,
          -0.5478587746620178,
          -4.358740329742432,
          6.990837097167969,
          -0.00529293529689312,
          1.9118586778640747,
          2.2488222122192383,
          -1.3204141855239868,
          -1.973816990852356,
          -9.332952499389648,
          -0.5630226731300354,
          -7.448622226715088,
          -5.878061294555664,
          -5.993915557861328,
          4.593227863311768,
          -8.976726531982422,
          4.913436412811279,
          4.331324100494385,
          -2.704709053039551,
          7.4283623695373535,
          5.260242462158203,
          0.3954401910305023,
          6.0180277824401855,
          0.0043979305773973465,
          4.854544162750244,
          -5.897897243499756,
          -0.7632165551185608,
          0.8605307340621948,
          3.2840380668640137,
          -0.5056569576263428,
          -5.970553874969482,
          -1.1758767366409302,
          1.1856590509414673,
          -3.009744882583618,
          10.204069137573242,
          0.39142709970474243,
          6.561023235321045,
          5.233843803405762,
          4.044938087463379,
          7.405324459075928,
          0.8077863454818726,
          -9.058785438537598,
          -4.660503387451172,
          -7.134681701660156,
          0.08257675915956497,
          5.264917850494385,
          10.367209434509277,
          -8.940511703491211,
          4.895283222198486,
          -4.186862468719482,
          8.559935569763184,
          4.967825889587402,
          -13.073385238647461,
          10.656022071838379,
          -0.09070141613483429,
          5.006608486175537,
          -8.888920783996582,
          4.346088409423828,
          4.937466621398926,
          -7.155438423156738,
          -13.410089492797852,
          2.45415997505188,
          2.2365357875823975,
          2.9864602088928223,
          -6.024938583374023,
          -5.285737037658691,
          -5.958296298980713,
          9.617926597595215,
          -4.112954139709473,
          -5.660730838775635,
          2.346188545227051,
          8.594167709350586,
          -6.20922327041626,
          -5.485076904296875,
          8.84817123413086,
          1.7959040403366089,
          -4.551671028137207,
          -7.16444206237793,
          8.43553352355957,
          -5.827300071716309,
          4.28842306137085,
          -2.6449978351593018,
          -9.827729225158691,
          7.14581823348999,
          0.6148502230644226,
          -14.070625305175781,
          1.7107973098754883,
          -3.6474499702453613,
          5.905189037322998,
          -2.7250540256500244,
          0.5024193525314331,
          3.3967583179473877,
          -4.259700775146484,
          -3.951159954071045,
          1.9869011640548706,
          -2.5950379371643066,
          0.10193507373332977,
          7.0784454345703125,
          -10.554879188537598,
          0.9518378973007202,
          -0.3184405565261841,
          0.5566112995147705,
          -4.250389099121094,
          9.926419258117676,
          -6.576846599578857,
          -4.184981346130371,
          -5.75009822845459,
          -2.1320385932922363,
          2.5647566318511963,
          -8.843151092529297,
          -2.1463992595672607,
          2.976430892944336,
          4.8245744705200195,
          -1.314306378364563,
          5.073432922363281,
          -7.997334957122803,
          4.99416446685791,
          1.7315776348114014,
          -11.727337837219238,
          -5.915709972381592,
          3.6734321117401123,
          2.233013153076172,
          2.7574851512908936,
          9.222529411315918,
          0.14390675723552704,
          4.184040546417236,
          3.392662525177002,
          -9.617630004882812,
          -0.8608105182647705,
          -5.8111395835876465,
          -0.5415006279945374,
          -5.665645122528076,
          -0.004129914566874504,
          -3.2765517234802246,
          1.6521743535995483,
          -13.248604774475098,
          -2.2753679752349854,
          10.230335235595703,
          -0.04391947761178017,
          -14.101794242858887,
          6.600832939147949,
          -4.727880477905273,
          4.866311550140381,
          10.492504119873047,
          4.7894697189331055,
          11.043622016906738,
          -5.869992256164551,
          5.261317729949951,
          -0.860812246799469,
          -7.748637676239014,
          7.32288122177124,
          -8.596091270446777,
          7.509889602661133,
          3.0485212802886963,
          1.306585431098938,
          10.264451026916504,
          -0.7188673615455627,
          -1.8347662687301636,
          0.3369274437427521,
          -5.575466156005859,
          -2.8696670532226562,
          -3.6281440258026123,
          -0.4951300323009491,
          -6.89364767074585,
          -11.636164665222168,
          -0.3148455321788788,
          8.603809356689453,
          -7.554624557495117,
          -6.336251258850098,
          -0.9649984240531921,
          -0.23180736601352692,
          8.742267608642578,
          1.4140446186065674,
          5.609710216522217,
          -1.7825043201446533,
          -6.316471576690674,
          3.4214413166046143,
          7.8839545249938965,
          3.5723609924316406,
          -7.0929694175720215,
          0.992866575717926,
          7.98659086227417,
          9.248334884643555,
          2.18880558013916,
          5.933945178985596,
          1.0903377532958984,
          -6.470006465911865,
          -3.3244829177856445,
          -9.062047958374023,
          -11.381046295166016,
          3.4514031410217285,
          6.651161193847656,
          -13.519681930541992,
          0.5892090201377869,
          -0.8356260061264038,
          -0.5055323243141174,
          0.19424159824848175,
          -2.009984016418457,
          -8.42479419708252,
          4.561398506164551,
          -0.1510654240846634,
          -0.42961931228637695,
          1.2819404602050781,
          -7.335409641265869,
          -8.961978912353516,
          1.4634008407592773,
          4.347309589385986,
          -6.78725004196167,
          -4.40632438659668,
          -2.5163841247558594,
          -2.3337996006011963,
          9.255205154418945,
          -0.5677179098129272,
          -0.26033350825309753,
          -2.675509452819824,
          -13.15250015258789,
          -3.2029123306274414,
          -5.759659767150879,
          -4.829281330108643,
          -5.616325855255127,
          0.9591963291168213,
          3.049464702606201,
          -0.47405558824539185,
          5.067874908447266,
          2.5246198177337646,
          -5.834240913391113,
          -7.190755367279053,
          7.132209300994873,
          10.873926162719727,
          -3.142016887664795,
          6.851027011871338,
          -7.335444927215576,
          8.838367462158203,
          -2.342298746109009,
          0.12022147327661514,
          4.761255264282227,
          2.4475066661834717,
          5.478415489196777,
          7.238602161407471,
          -3.0647828578948975,
          -3.251960277557373,
          0.0748407393693924,
          -0.09338028728961945,
          0.3090488910675049,
          5.5165934562683105,
          3.209913969039917,
          2.420029878616333,
          -7.0312347412109375,
          8.352753639221191,
          -1.3257540464401245,
          -1.3127304315567017,
          1.4596562385559082,
          4.904254913330078,
          1.0914913415908813,
          10.647417068481445,
          2.2857205867767334,
          -9.41916275024414,
          -1.5039219856262207,
          0.7238985300064087,
          -5.38878870010376,
          -5.640783309936523,
          -8.29359245300293,
          -6.195740222930908,
          1.763832926750183,
          -3.752974510192871,
          -7.825990200042725,
          4.645722389221191,
          -5.380231857299805,
          -6.735625743865967,
          2.330620527267456,
          -12.674508094787598,
          -8.135603904724121,
          4.847484588623047,
          2.2911720275878906,
          8.926862716674805,
          -8.320940971374512,
          10.319286346435547,
          -2.0052311420440674,
          -9.470398902893066,
          9.14177417755127,
          -4.388092994689941,
          0.2666165232658386,
          9.119209289550781,
          -1.2802320718765259,
          4.255565643310547,
          2.1359407901763916,
          -9.345353126525879,
          -14.073330879211426,
          10.393494606018066,
          -5.647961139678955,
          0.6681064963340759,
          -5.267083168029785,
          -6.795590400695801,
          0.5209295749664307,
          -2.471604347229004,
          -5.406691074371338,
          -13.24881362915039,
          7.202573299407959,
          2.0397069454193115,
          4.566076755523682,
          0.7474144697189331,
          4.969296932220459,
          5.95393705368042,
          10.170220375061035,
          -6.582366466522217,
          -2.4644529819488525,
          1.258185625076294,
          -2.5726754665374756,
          -13.423807144165039,
          0.9595193266868591,
          -4.588670253753662,
          4.572752952575684,
          -3.3680787086486816,
          0.05775405094027519,
          -1.4886142015457153,
          -4.767448425292969,
          7.395519733428955,
          1.999804973602295,
          0.6905567646026611,
          -6.283440113067627,
          6.771710395812988,
          10.47504711151123,
          2.7927486896514893,
          -2.393749237060547,
          -8.164329528808594,
          -4.551879405975342,
          3.2559750080108643,
          10.374002456665039,
          8.476929664611816,
          -0.0056749507784843445,
          -8.436858177185059,
          0.5390509366989136,
          -11.815438270568848,
          -0.10954073071479797,
          -12.262659072875977,
          -0.4871162474155426,
          8.998626708984375,
          2.525143623352051,
          3.148087739944458,
          -1.4339475631713867,
          2.8621044158935547,
          -11.062507629394531,
          -1.5349518060684204,
          -8.316866874694824,
          8.836504936218262,
          2.92653489112854,
          2.196995735168457,
          2.9385018348693848,
          -0.6464588642120361,
          -9.545732498168945,
          4.647783279418945,
          4.513939380645752,
          -0.9665699005126953,
          2.117074966430664,
          -8.545007705688477,
          9.053956985473633,
          7.763840198516846,
          2.924320697784424,
          4.244131088256836,
          -7.883544445037842,
          -1.2112587690353394,
          1.8618450164794922,
          0.1290741264820099,
          9.928327560424805,
          -3.6180667877197266,
          -6.71233606338501,
          -0.998879075050354,
          9.273050308227539,
          -3.277066946029663,
          -10.401660919189453,
          7.095368385314941,
          9.490233421325684,
          -14.071562767028809,
          -4.6360673904418945,
          6.4105682373046875,
          -2.5145111083984375,
          5.7819037437438965,
          -7.437922954559326,
          0.9860221147537231,
          6.331485271453857,
          0.172638401389122,
          1.4932949542999268,
          -6.304318904876709,
          1.3236852884292603,
          -6.7960896492004395,
          -9.22193431854248,
          7.753040313720703,
          -13.960287094116211,
          6.2902398109436035,
          -11.61961841583252,
          -0.6718471646308899,
          5.154242992401123,
          5.542787075042725,
          11.207183837890625,
          -5.661283016204834,
          8.276241302490234,
          2.9022793769836426,
          -1.026736855506897,
          -6.7356343269348145,
          -0.9730918407440186,
          -3.172933340072632,
          -7.300037384033203,
          7.005634307861328,
          -0.5051390528678894,
          4.654520034790039,
          8.926529884338379,
          -13.460709571838379,
          6.485445499420166,
          -1.6906594038009644,
          -3.9441051483154297,
          9.933096885681152,
          -0.9954333901405334,
          4.754173278808594,
          0.09488588571548462,
          -0.5111327767372131,
          -0.21802636981010437,
          0.06605122238397598,
          -3.9862020015716553,
          10.222957611083984,
          7.121638774871826,
          -3.6368229389190674,
          8.564225196838379,
          11.110381126403809,
          11.407886505126953,
          -5.271963596343994,
          -5.540313243865967,
          -4.2393083572387695,
          9.260892868041992,
          -0.8794968128204346,
          4.536439895629883,
          5.565432548522949,
          5.679029941558838,
          1.1652576923370361,
          -5.781012058258057,
          1.5828137397766113,
          -6.056385517120361,
          5.276628494262695,
          -13.225324630737305,
          6.018390655517578,
          -7.52179479598999,
          -11.815441131591797,
          -9.38226318359375,
          -7.832743167877197,
          -12.10293197631836,
          -4.76131010055542,
          -0.7564229965209961,
          6.728114128112793,
          10.161799430847168,
          6.353477478027344,
          5.095776557922363,
          -3.9914591312408447,
          -13.845871925354004,
          7.569430351257324,
          10.02428913116455,
          -11.313702583312988,
          -4.494781017303467,
          -2.0263562202453613,
          6.1647629737854,
          0.07147093117237091,
          2.1024551391601562,
          4.671422481536865,
          0.5395159125328064,
          -4.3574604988098145,
          -7.606695175170898,
          -12.870576858520508,
          2.7097809314727783,
          5.6252570152282715,
          6.1464080810546875,
          -1.4629744291305542,
          6.074601650238037,
          3.9443202018737793,
          -6.101072788238525,
          -6.6508002281188965,
          -8.291544914245605,
          -7.837522506713867,
          -13.75483226776123,
          -7.441218376159668,
          -9.243749618530273,
          -1.9042497873306274,
          10.284744262695312,
          4.386479377746582,
          1.2777001857757568,
          3.061833381652832,
          7.848199367523193,
          -1.2136638164520264,
          9.41797161102295,
          1.7914501428604126,
          -1.6010851860046387,
          -5.587339878082275,
          -0.4716755747795105,
          -2.748645305633545,
          3.4428534507751465,
          3.6885037422180176,
          -6.044363975524902,
          4.900979995727539,
          6.635485649108887,
          3.126192331314087,
          -11.503500938415527,
          10.379053115844727,
          5.161783695220947,
          -6.189877510070801,
          -13.248214721679688,
          6.678049087524414,
          -8.121953964233398,
          -5.248725891113281,
          3.5647754669189453,
          5.112642765045166,
          10.29086685180664,
          -5.7716569900512695,
          1.979026436805725,
          2.2343735694885254,
          4.917812347412109,
          5.488257884979248,
          -9.234277725219727,
          6.593029499053955,
          -0.31865325570106506,
          -2.0113492012023926,
          -5.584100723266602,
          -2.9300930500030518,
          9.03691577911377,
          10.797637939453125,
          -0.6464647054672241,
          -13.343402862548828,
          -13.549612998962402,
          10.103300094604492,
          0.168455109000206,
          10.225631713867188,
          -9.216659545898438,
          9.845413208007812,
          -2.5201313495635986,
          -3.033754587173462,
          4.997659683227539,
          1.9410566091537476,
          0.20772263407707214,
          -4.45508337020874,
          -1.494616985321045,
          4.8947319984436035,
          -2.2520973682403564,
          5.195090293884277,
          -2.364196538925171,
          5.1564764976501465,
          10.039690017700195,
          7.142804145812988,
          2.005401611328125,
          9.049893379211426,
          -10.51390266418457,
          -7.057272434234619,
          -3.110957384109497,
          3.0604546070098877,
          0.9267627000808716,
          -5.430078029632568,
          -0.5677177309989929,
          -8.6823091506958,
          2.9591970443725586,
          9.12370491027832,
          4.428528785705566,
          -2.1736080646514893,
          -5.914466857910156,
          7.143180847167969,
          5.4183268547058105,
          1.6592161655426025,
          10.2537841796875,
          3.0375587940216064,
          -13.317020416259766,
          0.13523851335048676,
          5.094249725341797,
          -6.212173938751221,
          4.338247299194336,
          3.138028383255005,
          -2.8037075996398926,
          5.883273601531982,
          6.607879161834717,
          -3.276552438735962,
          4.324516296386719,
          -0.9282581210136414,
          3.246838331222534,
          -4.080420017242432,
          -10.1566801071167,
          5.22903299331665,
          -4.113632678985596,
          2.452507972717285,
          -6.735467910766602,
          0.27157479524612427,
          -2.148815393447876,
          10.164306640625,
          -2.411226272583008,
          7.326221466064453,
          -1.1546038389205933,
          -3.105400562286377,
          -0.5909207463264465,
          -8.94044017791748,
          -6.5278000831604,
          -2.4886972904205322,
          -2.8072433471679688,
          -6.514968395233154,
          -6.312294960021973,
          -5.849653244018555,
          -3.7509894371032715,
          -5.596474647521973,
          2.171598196029663,
          -9.589385986328125,
          -3.3848729133605957,
          1.6413630247116089,
          0.5887439846992493,
          -0.00042044371366500854,
          5.711794853210449,
          -1.4107354879379272,
          1.7027766704559326,
          4.010238170623779,
          -3.138658046722412,
          -0.4887233078479767,
          2.499375104904175,
          4.752819061279297,
          -5.802787780761719,
          -0.5183219313621521,
          -1.376347541809082,
          -3.0271081924438477,
          6.278306007385254,
          0.7657962441444397,
          -7.788541793823242,
          -5.7659478187561035,
          -12.190204620361328,
          4.276697635650635,
          -9.860066413879395,
          -0.3205767869949341,
          -0.548069417476654,
          -1.9010874032974243,
          1.992432713508606,
          8.462221145629883,
          1.4220637083053589,
          4.762755870819092,
          10.245430946350098,
          10.2002592086792,
          -0.8665018081665039,
          6.86759614944458,
          0.9652734398841858,
          3.143820285797119,
          6.1508097648620605,
          7.144103527069092,
          -13.516493797302246,
          3.736156702041626,
          -3.3005313873291016,
          7.089472770690918,
          2.5703024864196777,
          -3.689960241317749,
          2.5949716567993164,
          -5.623346328735352,
          -1.7232660055160522,
          7.177212238311768,
          3.2820777893066406,
          9.554459571838379,
          0.06855861097574234,
          -5.995711326599121,
          10.34066390991211,
          -6.324565410614014,
          5.0359625816345215,
          -2.749082088470459,
          -0.31548306345939636,
          4.830897808074951,
          4.094840049743652,
          2.915966510772705,
          0.2465420514345169,
          9.145075798034668,
          -4.792111396789551,
          -1.4463632106781006,
          -13.094812393188477,
          2.262913465499878,
          0.18217089772224426,
          -5.314996242523193,
          -2.0514752864837646,
          4.303804397583008,
          -2.1073386669158936,
          -1.8253321647644043,
          1.6023781299591064,
          2.3877639770507812,
          0.527259111404419,
          5.540980339050293,
          -10.47262954711914,
          -13.258633613586426,
          6.335029125213623,
          5.587644100189209,
          -1.235701560974121,
          -3.562192440032959,
          -14.005266189575195,
          -7.223217487335205,
          -2.413553237915039,
          -2.9257004261016846,
          10.166523933410645,
          3.672269344329834,
          0.926372766494751,
          9.972558975219727,
          7.221328258514404,
          0.02986329421401024,
          1.7376495599746704,
          6.083320617675781,
          3.7287676334381104,
          1.2400243282318115,
          4.1044535636901855,
          4.993072032928467,
          5.902067184448242,
          -6.1123576164245605,
          -1.4740663766860962,
          -0.8766399621963501,
          -7.1383585929870605,
          6.753509998321533,
          -4.6276631355285645,
          10.501992225646973,
          -5.3813252449035645,
          -1.823049783706665,
          1.9166873693466187,
          6.548846244812012,
          2.0282609462738037,
          10.149581909179688,
          -4.1753387451171875,
          -11.17357063293457,
          8.972525596618652,
          7.223642349243164,
          -5.344986915588379,
          3.762873888015747,
          4.7879319190979,
          4.793301582336426,
          -10.28095531463623,
          -2.3123462200164795,
          -0.24625754356384277,
          10.125123977661133,
          3.3415918350219727,
          -3.38356876373291,
          10.236580848693848,
          1.643244743347168,
          8.54928207397461,
          5.142664909362793,
          -14.070998191833496,
          10.381190299987793,
          -0.6359195709228516,
          -9.905620574951172,
          8.728004455566406,
          -4.449070930480957
         ],
         "xaxis": "x",
         "y": [
          0.7910208702087402,
          2.525984048843384,
          -1.540276288986206,
          -1.592565655708313,
          -1.5188404321670532,
          -5.180896759033203,
          -3.1393392086029053,
          6.995431423187256,
          -1.8066567182540894,
          -2.3183517456054688,
          1.7261451482772827,
          -6.083987712860107,
          -5.068156719207764,
          -1.8906216621398926,
          3.5909993648529053,
          -0.6335240006446838,
          5.588786602020264,
          -9.419514656066895,
          -2.690765857696533,
          -4.941344738006592,
          2.404632329940796,
          3.603285312652588,
          -0.32640543580055237,
          6.078606128692627,
          -1.3858163356781006,
          -8.786820411682129,
          0.6664156913757324,
          -1.9828020334243774,
          0.39429399371147156,
          7.631305694580078,
          0.44057124853134155,
          -8.84360408782959,
          2.241178035736084,
          3.476752519607544,
          -0.41919681429862976,
          2.2048773765563965,
          7.05273962020874,
          -1.154218316078186,
          -9.256839752197266,
          2.5758605003356934,
          5.800053596496582,
          -1.45599365234375,
          -0.8988199234008789,
          -3.1144351959228516,
          -2.0978798866271973,
          9.176103591918945,
          -8.53918170928955,
          2.9616549015045166,
          0.7482484579086304,
          4.6150336265563965,
          5.188314914703369,
          -2.520927667617798,
          10.53458023071289,
          4.21990442276001,
          7.812442779541016,
          -1.9650973081588745,
          -8.374117851257324,
          -2.0094499588012695,
          -5.6949687004089355,
          -6.525812149047852,
          -0.4381047487258911,
          0.21143822371959686,
          -4.851385593414307,
          -0.7045437693595886,
          -0.4716436564922333,
          5.969170093536377,
          -1.2292231321334839,
          -0.6611626148223877,
          -8.597573280334473,
          -2.202195405960083,
          1.0459729433059692,
          1.9841105937957764,
          -2.5989086627960205,
          -1.622816801071167,
          9.343646049499512,
          6.621182918548584,
          3.5221147537231445,
          4.834558010101318,
          -5.934617042541504,
          -2.4370946884155273,
          2.04441499710083,
          -3.1953535079956055,
          -8.292427062988281,
          -9.818056106567383,
          -9.815019607543945,
          6.171911239624023,
          1.2513072490692139,
          -3.094043254852295,
          -1.9852981567382812,
          1.7793183326721191,
          7.936144828796387,
          -2.372488021850586,
          5.903554916381836,
          2.8744046688079834,
          -2.1215660572052,
          -1.318874478340149,
          6.006282806396484,
          -0.40942397713661194,
          8.114129066467285,
          0.45383861660957336,
          10.279181480407715,
          0.09321479499340057,
          -1.8192650079727173,
          -3.9886043071746826,
          2.6256566047668457,
          2.0521750450134277,
          0.3888746500015259,
          0.37499383091926575,
          6.48390531539917,
          -0.17416079342365265,
          0.7078547477722168,
          0.9560642838478088,
          -2.532651901245117,
          -6.238504409790039,
          6.698084354400635,
          -1.622705101966858,
          -4.609807968139648,
          3.104903221130371,
          0.6600044369697571,
          -2.4482290744781494,
          3.227360963821411,
          -8.485787391662598,
          0.6507324576377869,
          -2.5217151641845703,
          0.4499504268169403,
          3.2052552700042725,
          -4.018501281738281,
          0.6342577934265137,
          -1.7468751668930054,
          -8.758420944213867,
          -5.480182647705078,
          8.720922470092773,
          -5.814089775085449,
          -4.26882266998291,
          -6.140641212463379,
          -5.063357830047607,
          1.906231164932251,
          5.472349166870117,
          -4.077391147613525,
          -1.8295890092849731,
          -2.2591137886047363,
          2.8813724517822266,
          0.7231155037879944,
          -2.5683722496032715,
          -5.8956146240234375,
          8.878293991088867,
          -2.088911294937134,
          3.0457916259765625,
          1.2357819080352783,
          2.8588528633117676,
          -2.4422900676727295,
          -6.950318336486816,
          2.861361026763916,
          1.07231867313385,
          -7.014678478240967,
          2.331862688064575,
          -5.586950302124023,
          -0.4245908856391907,
          -9.375980377197266,
          8.004117965698242,
          -0.5570032000541687,
          4.22100305557251,
          -7.263514518737793,
          0.4133729040622711,
          3.8150830268859863,
          -1.010215163230896,
          -6.718853950500488,
          2.457350730895996,
          0.8756637573242188,
          0.07304258644580841,
          -6.2763824462890625,
          8.764087677001953,
          -6.233765602111816,
          7.068634033203125,
          0.9678553938865662,
          2.1079318523406982,
          1.8763567209243774,
          1.2843513488769531,
          2.1594154834747314,
          4.534047603607178,
          -3.8384082317352295,
          -1.3007994890213013,
          1.335139513015747,
          -0.8282251358032227,
          -0.48351043462753296,
          -1.9856452941894531,
          -2.753324508666992,
          0.7250984311103821,
          1.0357615947723389,
          -4.284379959106445,
          -2.7174248695373535,
          7.016077518463135,
          -3.9305224418640137,
          -4.1602959632873535,
          -1.7948304414749146,
          -0.7222372889518738,
          -1.8719334602355957,
          7.020111083984375,
          -0.7693597674369812,
          -8.119170188903809,
          4.003594398498535,
          -0.9100016355514526,
          9.189590454101562,
          -5.553760051727295,
          -1.72061026096344,
          5.248591423034668,
          4.280796051025391,
          3.7203481197357178,
          -2.4294042587280273,
          -4.395820617675781,
          -0.8871070742607117,
          -0.7078607678413391,
          -0.27193206548690796,
          3.7093586921691895,
          0.93641197681427,
          -3.165759563446045,
          -1.3730850219726562,
          -5.525422096252441,
          5.957351207733154,
          -2.061676025390625,
          -2.4439890384674072,
          -6.519845008850098,
          3.9037411212921143,
          6.610347270965576,
          0.780572235584259,
          -5.934614181518555,
          -2.3983633518218994,
          -9.738120079040527,
          3.3217661380767822,
          -6.866075038909912,
          -4.311680316925049,
          -5.670470714569092,
          -3.5380423069000244,
          3.3015313148498535,
          0.6743509769439697,
          -2.639559030532837,
          1.916383147239685,
          -1.5164779424667358,
          -3.5464529991149902,
          -1.056153655052185,
          -7.206358432769775,
          1.5959417819976807,
          6.906749725341797,
          -3.322317361831665,
          5.125608444213867,
          -4.346921443939209,
          -7.000268936157227,
          0.7132461667060852,
          -2.94022798538208,
          5.712888717651367,
          0.9003739356994629,
          -2.916764736175537,
          -2.011406421661377,
          7.153531074523926,
          9.396993637084961,
          -0.6523743271827698,
          -1.9907790422439575,
          -1.7307077646255493,
          0.37651777267456055,
          1.5867177248001099,
          8.095527648925781,
          -5.917614459991455,
          -0.669678807258606,
          5.8018951416015625,
          8.734810829162598,
          0.2359938770532608,
          2.1447582244873047,
          -2.392418622970581,
          -8.828781127929688,
          0.37086987495422363,
          -9.180779457092285,
          3.0062808990478516,
          3.3877761363983154,
          -5.514506816864014,
          -1.6209720373153687,
          -5.008993625640869,
          0.12530840933322906,
          -7.951382160186768,
          5.617500305175781,
          7.899937152862549,
          -7.718882083892822,
          2.5580921173095703,
          5.641122817993164,
          2.01808762550354,
          2.176661491394043,
          2.4846296310424805,
          2.5937981605529785,
          2.1180496215820312,
          -7.144697666168213,
          0.7185196876525879,
          -4.182864665985107,
          -2.3618924617767334,
          -1.0959351062774658,
          -1.5282530784606934,
          2.365631103515625,
          -5.236980438232422,
          -8.344841957092285,
          -3.0201549530029297,
          -3.7527434825897217,
          -7.48073148727417,
          3.487528085708618,
          2.4625556468963623,
          1.5472153425216675,
          -2.8305182456970215,
          -0.7078600525856018,
          -0.805879533290863,
          3.5417089462280273,
          -3.7546794414520264,
          -7.298424243927002,
          -3.8270487785339355,
          -9.825703620910645,
          0.10613033920526505,
          -2.3163626194000244,
          -8.597628593444824,
          -3.5148684978485107,
          -6.080366134643555,
          1.7628302574157715,
          0.8333170413970947,
          -2.5035057067871094,
          -0.8727911710739136,
          3.2082765102386475,
          -2.845547676086426,
          5.519227981567383,
          3.431450605392456,
          7.62519645690918,
          0.05113707482814789,
          7.532544136047363,
          -4.840303421020508,
          4.623435020446777,
          -0.2897365987300873,
          8.673654556274414,
          0.051136091351509094,
          -3.8841569423675537,
          -0.9136955738067627,
          5.4794392585754395,
          5.299431324005127,
          -6.34849214553833,
          1.7962849140167236,
          7.899026393890381,
          7.363024711608887,
          3.878726005554199,
          2.815328359603882,
          9.462089538574219,
          6.278240203857422,
          3.6306068897247314,
          -1.2706493139266968,
          -0.08153034001588821,
          1.7733110189437866,
          -6.736447811126709,
          10.424833297729492,
          -1.5194988250732422,
          5.560632705688477,
          -0.9045721292495728,
          0.5355246663093567,
          4.77588415145874,
          2.0889923572540283,
          -9.45481014251709,
          2.1423919200897217,
          -1.1190375089645386,
          1.0755703449249268,
          -0.9752744436264038,
          -6.113490581512451,
          -5.263281345367432,
          -4.911170482635498,
          7.902470588684082,
          -0.8119779825210571,
          7.760838985443115,
          -3.1052000522613525,
          7.058413982391357,
          0.6507226824760437,
          8.1953706741333,
          -1.7218642234802246,
          -1.6726502180099487,
          4.01225471496582,
          -0.6345733404159546,
          0.9268203377723694,
          -9.158326148986816,
          2.6025161743164062,
          3.4080257415771484,
          -3.9843294620513916,
          -4.0946550369262695,
          -0.13809901475906372,
          -3.0745911598205566,
          -1.5561792850494385,
          -9.880595207214355,
          -6.925899505615234,
          -2.5681755542755127,
          2.8446803092956543,
          -1.6856968402862549,
          -0.4639630615711212,
          1.8602266311645508,
          -1.2700265645980835,
          8.292633056640625,
          0.6600558161735535,
          -2.9331843852996826,
          0.7225799560546875,
          3.846600294113159,
          4.50905704498291,
          1.2016758918762207,
          -9.86954402923584,
          6.149483680725098,
          6.75380802154541,
          -3.4180920124053955,
          -9.818144798278809,
          -1.5983202457427979,
          -0.6756836175918579,
          7.745426654815674,
          9.604327201843262,
          -3.1117966175079346,
          5.537403583526611,
          -6.76750373840332,
          2.8416595458984375,
          -5.964010715484619,
          3.7515625953674316,
          -1.7655507326126099,
          2.6739063262939453,
          -9.186907768249512,
          1.3925641775131226,
          -7.768678188323975,
          -8.365132331848145,
          -6.089693546295166,
          8.413203239440918,
          0.7669775485992432,
          -7.4991326332092285,
          0.28105393052101135,
          -1.212189793586731,
          -1.6226379871368408,
          -1.6591742038726807,
          1.7716131210327148,
          0.6506083011627197,
          -8.953617095947266,
          -4.029881477355957,
          6.485220432281494,
          -0.856766939163208,
          -3.292219400405884,
          2.9734604358673096,
          -5.838530540466309,
          5.665098667144775,
          9.17071533203125,
          -4.611001968383789,
          0.3550381660461426,
          2.6851205825805664,
          6.276978969573975,
          -3.4615702629089355,
          2.1603243350982666,
          1.4205892086029053,
          -3.8462026119232178,
          -4.860637664794922,
          -2.923595905303955,
          -0.9497825503349304,
          -0.4063762128353119,
          -1.98350191116333,
          -9.04108715057373,
          10.59261703491211,
          10.593547821044922,
          -9.40489387512207,
          -9.441462516784668,
          -6.994653701782227,
          -3.5805370807647705,
          7.400637626647949,
          -3.9677443504333496,
          0.5069141387939453,
          -9.061967849731445,
          7.837899684906006,
          7.3600382804870605,
          7.472005367279053,
          3.088829755783081,
          -0.4415360987186432,
          2.631721019744873,
          0.5256077647209167,
          -9.335805892944336,
          5.805554389953613,
          7.661738395690918,
          6.688946723937988,
          1.5738142728805542,
          2.2747950553894043,
          2.3869330883026123,
          0.29559966921806335,
          -3.889228582382202,
          2.4755208492279053,
          -2.0960872173309326,
          2.947082996368408,
          6.679017066955566,
          -4.537075042724609,
          3.4226458072662354,
          -8.42914867401123,
          6.376981735229492,
          1.964531660079956,
          6.326025009155273,
          6.978275775909424,
          -6.475413799285889,
          2.2992494106292725,
          -4.936374187469482,
          0.5097699165344238,
          6.167131423950195,
          -5.170378684997559,
          -8.210824966430664,
          -9.802063941955566,
          -2.1934854984283447,
          0.5637562870979309,
          4.5822553634643555,
          -1.235897421836853,
          -8.06721305847168,
          -0.7236689329147339,
          -1.3919638395309448,
          -2.4518165588378906,
          -4.7465338706970215,
          4.872583866119385,
          -4.3582587242126465,
          0.842320442199707,
          1.3249932527542114,
          -1.1413360834121704,
          7.134572505950928,
          9.608296394348145,
          -4.3434529304504395,
          2.0503227710723877,
          7.720834255218506,
          -9.346752166748047,
          2.7814207077026367,
          0.23107992112636566,
          3.600963830947876,
          -6.1773762702941895,
          7.924107074737549,
          -0.8372114896774292,
          -6.925188064575195,
          6.129490852355957,
          -7.012017250061035,
          -5.252985000610352,
          -9.995626449584961,
          -2.622990131378174,
          3.5250658988952637,
          -3.117107629776001,
          0.6507630348205566,
          -5.230894088745117,
          7.499159336090088,
          -8.892316818237305,
          7.261108875274658,
          3.7220089435577393,
          -1.9997249841690063,
          10.439786911010742,
          4.719303607940674,
          6.198142051696777,
          -8.891759872436523,
          2.90126895904541,
          -3.5262093544006348,
          7.383327960968018,
          -4.865346431732178,
          1.5421788692474365,
          -0.5838212966918945,
          -4.912712097167969,
          -3.7069714069366455,
          -6.284543514251709,
          6.009261608123779,
          2.816486358642578,
          -1.6001708507537842,
          8.270059585571289,
          6.047562599182129,
          -0.8266913890838623,
          -0.4681248962879181,
          -4.8278093338012695,
          -7.474380970001221,
          -3.4566662311553955,
          -9.087967872619629,
          -3.645211935043335,
          2.480877161026001,
          7.623212814331055,
          4.219301700592041,
          3.2777516841888428,
          -4.4717936515808105,
          5.2686662673950195,
          0.8383623361587524,
          -1.6192892789840698,
          4.621425151824951,
          -6.233185768127441,
          -0.0013625118881464005,
          2.458014488220215,
          4.572810649871826,
          -1.8829466104507446,
          2.395071506500244,
          -1.0428361892700195,
          0.21904435753822327,
          -9.452973365783691,
          5.718877792358398,
          -3.361984968185425,
          -2.3461437225341797,
          6.61333703994751,
          7.136719703674316,
          2.746614933013916,
          -1.5733088254928589,
          -0.3373425304889679,
          7.534817695617676,
          -2.0750582218170166,
          -1.8038450479507446,
          -8.305940628051758,
          -8.292425155639648,
          1.0701701641082764,
          4.654169082641602,
          6.726315021514893,
          -0.8865993022918701,
          -0.1427319198846817,
          -4.5712151527404785,
          2.237844467163086,
          -8.706695556640625,
          7.621115684509277,
          -2.49810528755188,
          4.215866565704346,
          -2.4421093463897705,
          2.281430959701538,
          4.702432632446289,
          -2.8038179874420166,
          7.111932277679443,
          0.4231210947036743,
          7.183230876922607,
          -4.274014472961426,
          -0.27243393659591675,
          2.269602060317993,
          0.8518721461296082,
          -3.6700968742370605,
          -9.48858642578125,
          -9.832033157348633,
          4.990901470184326,
          -4.274332046508789,
          4.16709041595459,
          -8.311640739440918,
          -1.7772654294967651,
          -5.51417875289917,
          2.642353057861328,
          -3.971761703491211,
          2.005842924118042,
          4.476806640625,
          -9.499881744384766,
          3.585090160369873,
          0.6835490465164185,
          9.651815414428711,
          -0.9711050391197205,
          2.9004385471343994,
          -1.6810760498046875,
          4.205053329467773,
          8.586503982543945,
          -1.2514617443084717,
          -5.527265548706055,
          7.846396446228027,
          -0.9503734111785889,
          3.321455955505371,
          5.929683685302734,
          4.175644874572754,
          6.265605449676514,
          8.030272483825684,
          -1.5745313167572021,
          3.831120252609253,
          2.734894275665283,
          -4.413445472717285,
          -0.10642101615667343,
          -3.705801248550415,
          -3.917393207550049,
          2.335407018661499,
          -0.4983798861503601,
          -6.243965148925781,
          9.195719718933105,
          -3.6473000049591064,
          -4.198936939239502,
          8.831127166748047,
          8.398857116699219,
          -4.831029415130615,
          -6.181421279907227,
          4.174352645874023,
          1.526167869567871,
          4.937558174133301,
          -2.95176100730896,
          1.0558429956436157,
          6.10667610168457,
          4.262980937957764,
          8.040670394897461,
          3.0541088581085205,
          2.747814416885376,
          -4.145672798156738,
          -8.549064636230469,
          -1.6550122499465942,
          0.20572373270988464,
          8.184280395507812,
          -0.9887047410011292,
          1.6509028673171997,
          -8.925650596618652,
          -1.0717673301696777,
          4.347016334533691,
          2.6944081783294678,
          10.603906631469727,
          -0.6705163717269897,
          2.871422052383423,
          -5.551130771636963,
          -3.4840891361236572,
          5.930175304412842,
          -3.4472076892852783,
          -8.859560012817383,
          1.452558159828186,
          -2.383068561553955,
          -5.762968063354492,
          -9.370407104492188,
          -3.960073709487915,
          -7.285994529724121,
          4.089554309844971,
          3.493318557739258,
          -2.79636287689209,
          3.1599433422088623,
          -2.5551915168762207,
          -3.938772439956665,
          3.126014471054077,
          -4.183638572692871,
          -1.2359566688537598,
          8.644190788269043,
          5.9798970222473145,
          6.2729268074035645,
          2.85693359375,
          -1.5902780294418335,
          -0.6323782205581665,
          2.889500141143799,
          -0.47429829835891724,
          -0.2807615399360657,
          -5.46738338470459,
          -5.90657377243042,
          2.107213258743286,
          3.855109214782715,
          1.2647700309753418,
          2.032435417175293,
          -1.0800591707229614,
          -0.23515084385871887,
          3.0840344429016113,
          7.566032409667969,
          -4.178986072540283,
          7.6185503005981445,
          -8.612826347351074,
          1.0238897800445557,
          -5.419565200805664,
          4.079986572265625,
          5.745839595794678,
          4.365540027618408,
          8.245648384094238,
          -5.898200988769531,
          6.244603157043457,
          4.060863018035889,
          -0.2550581097602844,
          0.31664520502090454,
          1.7614532709121704,
          3.5893404483795166,
          4.317081928253174,
          2.3615481853485107,
          7.329331398010254,
          0.7587606310844421,
          -4.915749549865723,
          0.3494572937488556,
          6.608643054962158,
          -6.740731239318848,
          -3.7416369915008545,
          -4.619215488433838,
          3.399925470352173,
          -9.072904586791992,
          5.809512615203857,
          5.714141368865967,
          -2.380937337875366,
          0.2297193855047226,
          -9.817468643188477,
          -9.831093788146973,
          -8.153714179992676,
          -4.477133274078369,
          -3.3932676315307617,
          4.144906997680664,
          -6.987509727478027,
          5.367258071899414,
          7.613595485687256,
          0.37813571095466614,
          -9.281542778015137,
          3.272800922393799,
          -9.199983596801758,
          -3.8786399364471436,
          -7.012646675109863,
          0.6980738639831543,
          -6.957427024841309,
          -1.5155843496322632,
          1.30267333984375,
          -0.31623944640159607,
          2.707282066345215,
          2.533006191253662,
          0.5356041789054871,
          2.0354437828063965,
          6.83099365234375,
          -9.064802169799805,
          2.4382972717285156,
          1.3039711713790894,
          -9.709127426147461,
          2.2992308139801025,
          1.1887054443359375,
          -7.064243793487549,
          -7.243363380432129,
          -8.781140327453613,
          5.292468547821045,
          0.6507321000099182,
          0.7087138891220093,
          2.8814446926116943,
          -1.095934510231018,
          2.9415652751922607,
          -5.769521236419678,
          -2.066314220428467,
          -8.359295845031738,
          -0.7144665122032166,
          8.51530647277832,
          -0.8150085210800171,
          -4.668807029724121,
          -3.9405579566955566,
          -9.709126472473145,
          -5.388127326965332,
          2.9002532958984375,
          -2.0043246746063232,
          -5.748148441314697,
          -2.3076863288879395,
          -2.908745288848877,
          2.8957507610321045,
          -2.1368119716644287,
          0.493033766746521,
          4.271130084991455,
          0.05700560659170151,
          6.1369147300720215,
          -8.597663879394531,
          -2.6265406608581543,
          1.0723085403442383,
          -1.5427981615066528,
          7.030684947967529,
          0.7722318768501282,
          -0.5153756737709045,
          -6.519846439361572,
          5.45675802230835,
          6.264181613922119,
          2.4567296504974365,
          -2.9919426441192627,
          3.14048171043396,
          -2.3931026458740234,
          2.735342502593994,
          -1.672415018081665,
          8.526793479919434,
          -2.831427574157715,
          4.443670749664307,
          6.831299304962158,
          -0.24804851412773132,
          6.954128265380859,
          -4.456914901733398,
          -3.3457601070404053,
          0.41871458292007446,
          2.901268482208252,
          -6.320756435394287,
          -1.1142539978027344,
          -1.3702055215835571,
          2.6442108154296875,
          0.7562800645828247,
          1.266390085220337,
          -9.833189964294434,
          5.1512837409973145,
          4.750112056732178,
          -4.001414775848389,
          0.9105792045593262,
          6.129748821258545,
          5.6048994064331055,
          3.58158016204834,
          6.2129011154174805,
          3.8503830432891846,
          0.4841786324977875,
          0.33648189902305603,
          3.815718412399292,
          -1.5534136295318604,
          -6.234086513519287,
          3.087033987045288,
          3.5785346031188965,
          -1.0965317487716675,
          5.364864349365234,
          6.787912845611572,
          7.677170753479004,
          4.592115879058838,
          0.4207020699977875,
          -6.3290791511535645,
          9.262005805969238,
          -1.2470335960388184,
          -0.5269389152526855,
          5.508793354034424,
          8.104569435119629,
          -1.5489442348480225,
          7.5591278076171875,
          2.1326119899749756,
          1.2475134134292603,
          4.4824652671813965,
          3.0102102756500244,
          -4.967330455780029,
          4.068622589111328,
          -5.744121551513672,
          0.48418766260147095,
          6.567654609680176,
          2.620891809463501,
          -0.7973905205726624,
          -1.7194788455963135,
          -7.891505241394043,
          -1.1672539710998535,
          -7.161344051361084,
          7.193716526031494,
          9.281004905700684,
          -9.59950065612793,
          3.3274149894714355,
          5.818126201629639,
          -9.723176002502441,
          -5.228970527648926,
          5.822543144226074,
          -4.973930835723877,
          6.810257434844971,
          -5.065143585205078,
          -2.0924456119537354,
          3.630668878555298,
          6.579594135284424,
          -7.397362232208252,
          -2.039881944656372,
          7.265446186065674,
          -3.64335036277771,
          2.7564644813537598,
          -2.5399999618530273,
          6.09392786026001,
          -1.613761067390442,
          -0.005890056490898132,
          -5.378486156463623,
          5.538850784301758,
          7.845047950744629,
          -4.289851188659668,
          -1.4828821420669556,
          -0.8208205699920654,
          0.12071172893047333,
          -8.486367225646973,
          -0.3103296458721161,
          -4.617051124572754,
          3.3326900005340576,
          5.689009666442871,
          7.005301475524902,
          -3.800029754638672,
          2.926457405090332,
          10.352957725524902,
          -1.5121263265609741,
          7.14724588394165,
          2.8032143115997314,
          5.219308376312256,
          4.529232501983643,
          -2.1956241130828857,
          1.6239734888076782,
          4.1744537353515625,
          -3.720015048980713,
          2.345522880554199,
          3.426870107650757,
          0.39096376299858093,
          -9.07374095916748,
          4.779947280883789,
          -6.2398905754089355,
          -2.383230209350586,
          0.2028762400150299,
          9.062171936035156,
          0.6506640911102295,
          3.74259877204895,
          4.003593444824219,
          6.160085678100586,
          -5.271751403808594,
          4.479587554931641,
          -8.356515884399414,
          -4.936207294464111,
          -6.268449783325195,
          0.3901093602180481,
          -2.288741111755371,
          9.500718116760254,
          2.1063947677612305,
          -9.81336498260498,
          2.1517786979675293,
          2.8062124252319336,
          2.792924642562866,
          -8.527098655700684,
          4.340168476104736,
          3.628438949584961,
          2.3227100372314453,
          3.359759569168091,
          0.09648049622774124,
          -1.8374407291412354,
          0.6810546517372131,
          6.208014488220215,
          5.1102294921875,
          5.395740509033203,
          -4.98776912689209,
          8.258898735046387,
          -5.218790054321289,
          -1.2422373294830322,
          7.03930139541626,
          -0.3818548619747162,
          6.395942687988281,
          7.217777252197266,
          -1.371366262435913,
          -9.689237594604492,
          -0.6840754151344299,
          3.543704032897949,
          3.0200202465057373,
          1.1745774745941162,
          1.09263014793396,
          -0.12472668290138245,
          -8.832917213439941,
          -1.519131064414978,
          -0.5852499008178711,
          1.1380420923233032,
          6.7290120124816895,
          0.935357391834259,
          -8.49830150604248,
          7.321796894073486,
          -4.085140228271484,
          -1.6364187002182007,
          -8.685256004333496,
          -5.573338031768799,
          2.4883205890655518,
          3.441626787185669,
          1.934112548828125,
          -6.061336994171143,
          6.80576229095459,
          0.9527214765548706,
          -1.2199311256408691,
          -5.294857025146484,
          -3.816448450088501,
          5.207573890686035,
          -0.7337172031402588,
          2.1015872955322266,
          0.47740688920021057,
          7.1485772132873535,
          3.4241082668304443,
          6.258030414581299,
          -1.6934229135513306,
          1.1087188720703125,
          6.478482246398926,
          -1.2688361406326294,
          2.885798454284668,
          -3.0796773433685303,
          4.423362731933594,
          10.432947158813477,
          1.759387493133545,
          0.48839879035949707,
          -0.016346251592040062,
          0.954341471195221,
          -5.144210338592529,
          4.885106086730957,
          7.767322063446045,
          -3.8580563068389893,
          -6.240379333496094,
          -3.8663241863250732,
          7.852831840515137,
          2.8124263286590576,
          5.964416027069092,
          2.1388344764709473,
          6.293583393096924,
          0.40030476450920105,
          3.8780832290649414,
          -1.0511400699615479,
          2.761962890625,
          -6.321997165679932,
          0.7094724774360657,
          6.472337245941162,
          0.12065621465444565,
          7.175137996673584,
          -8.828707695007324,
          3.3736486434936523,
          3.812539577484131,
          1.9916276931762695,
          -1.0872713327407837,
          6.777149200439453,
          2.452385187149048,
          1.0361220836639404,
          -9.007209777832031,
          7.977705955505371,
          2.0909171104431152,
          3.246211290359497,
          3.5340240001678467,
          6.837233543395996,
          -1.4852889776229858,
          8.021854400634766,
          1.9273298978805542,
          1.9443720579147339,
          5.739683628082275,
          -4.561880588531494,
          0.9404773712158203,
          -1.5570933818817139,
          -1.2270363569259644,
          -2.7603087425231934,
          4.015878200531006,
          6.968435287475586,
          8.944032669067383,
          -0.7918320894241333,
          0.7405796051025391,
          -7.9197211265563965,
          -0.7090221643447876,
          4.7596659660339355,
          4.998559474945068,
          6.588293552398682,
          9.902897834777832,
          -6.760054588317871,
          -1.6507254838943481,
          3.085862874984741,
          -8.50135612487793,
          -5.610785007476807,
          -1.371366262435913,
          -0.7564473748207092,
          3.808774471282959,
          -1.0726971626281738,
          -3.6849265098571777,
          6.875847816467285,
          -2.397278070449829,
          5.987958908081055,
          0.15194213390350342,
          0.35646703839302063,
          -0.3715440630912781,
          3.0118696689605713,
          0.9794265627861023,
          2.8588523864746094,
          2.030683994293213,
          -1.3846726417541504,
          -3.0138351917266846,
          0.35379084944725037,
          0.14039389789104462,
          1.122875452041626,
          6.71118688583374,
          -7.467769145965576,
          -2.7401845455169678,
          6.696993350982666,
          0.3535361886024475,
          0.6285254955291748,
          -9.058804512023926,
          -0.7880293130874634,
          4.446822643280029,
          -8.362936019897461,
          6.053131580352783,
          7.915412902832031,
          -0.06666763126850128,
          0.051171328872442245,
          3.871926784515381,
          3.167231559753418,
          -1.4727166891098022,
          1.767129898071289,
          -3.5918848514556885,
          0.894079864025116,
          0.9984244704246521,
          -2.8227806091308594,
          5.729048252105713,
          -5.993295192718506,
          -2.1451001167297363,
          4.022724151611328,
          7.508784294128418,
          -4.057229042053223,
          -2.415649175643921,
          2.460073709487915,
          -7.838757038116455,
          -8.968767166137695,
          6.298436164855957,
          -2.776110887527466,
          -1.8117060661315918,
          0.637286901473999,
          0.6636441349983215,
          0.5987442135810852,
          -4.680041790008545,
          4.61359167098999,
          -4.786850452423096,
          0.650844931602478,
          0.8573442697525024,
          -1.449891448020935,
          -2.4404420852661133,
          7.559844493865967,
          6.967040061950684,
          2.930750608444214,
          -0.40506210923194885,
          3.398592710494995,
          -1.8100792169570923,
          -4.555498123168945,
          -0.5675367712974548,
          2.6384618282318115,
          -0.007140414789319038,
          -9.458027839660645,
          1.698400616645813,
          8.197922706604004,
          -2.5318031311035156,
          3.122159719467163,
          0.5411522388458252,
          2.092200756072998,
          3.099654197692871,
          1.3460155725479126,
          6.751450538635254,
          -8.475900650024414,
          -5.180730819702148,
          3.044196128845215,
          -0.7319121956825256,
          0.5998799204826355,
          -2.1138668060302734,
          -5.690927505493164,
          1.242094874382019,
          0.8499916791915894,
          -1.958075761795044,
          2.1479086875915527,
          4.437839984893799,
          0.2897632122039795,
          -9.378828048706055,
          -7.95778751373291,
          -0.7149540781974792,
          2.870166540145874,
          3.2269492149353027,
          6.623696327209473,
          3.3327910900115967,
          -2.127385377883911,
          6.987786293029785,
          -6.301525592803955,
          7.308671474456787,
          -2.911529541015625,
          -3.0290563106536865,
          6.787912368774414,
          -4.452866554260254,
          -8.897819519042969,
          3.182159900665283,
          -1.3916256427764893,
          5.2655181884765625,
          -1.4291833639144897,
          6.080830097198486,
          -9.6589937210083,
          -2.116889715194702,
          -0.7056496143341064,
          -3.9352474212646484,
          3.081332206726074,
          -9.831599235534668,
          2.048044443130493,
          0.5436453819274902,
          -9.073173522949219,
          5.470268249511719,
          1.4660581350326538,
          5.877207279205322,
          -4.9484944343566895,
          -8.78114128112793,
          -1.4991027116775513,
          6.074939727783203,
          -5.2250237464904785,
          2.272970676422119,
          0.6661173105239868,
          -1.0373667478561401,
          -1.9150797128677368,
          -1.365052580833435,
          0.1210518330335617,
          -7.700160026550293,
          8.268074989318848,
          -1.044270634651184,
          9.210660934448242,
          -1.9908641576766968,
          -1.5071916580200195,
          5.281081676483154,
          0.7726377844810486,
          -4.183452606201172,
          7.414185047149658,
          2.135043144226074,
          3.91178822517395,
          -3.213744640350342,
          3.8269388675689697,
          -1.4322746992111206,
          -6.396718502044678,
          -2.9505085945129395,
          6.942683219909668,
          1.325035810470581,
          -1.065637469291687,
          3.4649288654327393,
          6.111685752868652,
          6.908135414123535,
          4.839905261993408,
          2.367454767227173,
          6.149582386016846,
          -4.515888214111328,
          4.364669322967529,
          -1.3958438634872437,
          -2.4464609622955322,
          -9.171051979064941,
          -1.7833560705184937,
          1.9325190782546997,
          -6.369950294494629,
          -8.721938133239746,
          -3.8049538135528564,
          4.13215446472168,
          -1.9583444595336914,
          2.262824296951294,
          -0.9504010677337646,
          2.502729892730713,
          0.9709678888320923,
          0.8820546865463257,
          -1.7081485986709595,
          0.9990804195404053,
          7.89962911605835,
          0.7748106122016907,
          -3.757556915283203,
          -0.8540662527084351,
          0.9454675912857056,
          -2.460642099380493,
          2.663081645965576,
          5.680001735687256,
          -7.987766742706299,
          -3.4266021251678467,
          -8.369718551635742,
          1.7492563724517822,
          2.4331977367401123,
          -9.202288627624512,
          3.8734829425811768,
          1.757006287574768,
          -2.213808059692383,
          9.337835311889648,
          6.538563251495361,
          -1.5948630571365356,
          -9.441636085510254,
          -1.8890949487686157,
          -7.401009559631348,
          -1.3117411136627197,
          5.824009418487549,
          -1.7992767095565796,
          -4.734183311462402,
          -0.08153083175420761,
          -1.5315128564834595,
          0.7892398238182068,
          -9.438072204589844,
          2.1104235649108887,
          1.453137755393982,
          6.061214447021484,
          -7.105533599853516,
          6.683921813964844,
          8.849272727966309,
          5.310965538024902,
          2.803382396697998,
          1.5086251497268677,
          5.1767988204956055,
          -2.0078845024108887,
          8.6040678024292,
          1.9050610065460205,
          4.029078483581543,
          1.0985722541809082,
          5.292536735534668,
          3.065572738647461,
          6.125343322753906,
          2.985581398010254,
          0.7373623847961426,
          2.3428714275360107,
          5.97493839263916,
          -5.357845783233643,
          3.4328415393829346,
          1.1723697185516357,
          2.3788399696350098,
          4.445634365081787,
          0.3278675079345703,
          0.7304677367210388,
          -1.044636845588684,
          7.207178115844727,
          6.801055908203125,
          5.511585235595703,
          6.6985368728637695,
          -9.272992134094238,
          -0.692870557308197,
          -0.8912023901939392,
          -5.5183281898498535,
          3.678656816482544,
          -1.1938279867172241,
          -8.51806354522705,
          -1.922574758529663,
          -5.2208571434021,
          5.702693939208984,
          -8.552663803100586,
          0.3578110635280609,
          4.201757431030273,
          7.8378801345825195,
          -0.7248220443725586,
          -1.0559327602386475,
          -2.757692813873291,
          -0.8238605260848999,
          -10.233936309814453,
          7.060921669006348,
          -2.396714687347412,
          -6.184528350830078,
          -0.9887219667434692,
          5.303606986999512,
          6.113609790802002,
          -3.869799852371216,
          -5.541406631469727,
          -7.650691986083984,
          -4.57139778137207,
          0.036335527896881104,
          4.698421478271484,
          0.08460410684347153,
          -0.811482846736908,
          5.303084373474121,
          -8.735884666442871,
          -5.17648458480835,
          5.673709869384766,
          1.7171727418899536,
          6.927375793457031,
          2.3343632221221924,
          3.6613893508911133,
          -5.695401191711426,
          -3.049060821533203,
          6.010096549987793,
          9.087891578674316
         ],
         "yaxis": "y"
        }
       ],
       "layout": {
        "coloraxis": {
         "colorbar": {
          "title": {
           "text": "movement"
          }
         },
         "colorscale": [
          [
           0,
           "#0d0887"
          ],
          [
           0.1111111111111111,
           "#46039f"
          ],
          [
           0.2222222222222222,
           "#7201a8"
          ],
          [
           0.3333333333333333,
           "#9c179e"
          ],
          [
           0.4444444444444444,
           "#bd3786"
          ],
          [
           0.5555555555555556,
           "#d8576b"
          ],
          [
           0.6666666666666666,
           "#ed7953"
          ],
          [
           0.7777777777777778,
           "#fb9f3a"
          ],
          [
           0.8888888888888888,
           "#fdca26"
          ],
          [
           1,
           "#f0f921"
          ]
         ]
        },
        "legend": {
         "tracegroupgap": 0
        },
        "margin": {
         "t": 60
        },
        "template": {
         "data": {
          "bar": [
           {
            "error_x": {
             "color": "#2a3f5f"
            },
            "error_y": {
             "color": "#2a3f5f"
            },
            "marker": {
             "line": {
              "color": "#E5ECF6",
              "width": 0.5
             },
             "pattern": {
              "fillmode": "overlay",
              "size": 10,
              "solidity": 0.2
             }
            },
            "type": "bar"
           }
          ],
          "barpolar": [
           {
            "marker": {
             "line": {
              "color": "#E5ECF6",
              "width": 0.5
             },
             "pattern": {
              "fillmode": "overlay",
              "size": 10,
              "solidity": 0.2
             }
            },
            "type": "barpolar"
           }
          ],
          "carpet": [
           {
            "aaxis": {
             "endlinecolor": "#2a3f5f",
             "gridcolor": "white",
             "linecolor": "white",
             "minorgridcolor": "white",
             "startlinecolor": "#2a3f5f"
            },
            "baxis": {
             "endlinecolor": "#2a3f5f",
             "gridcolor": "white",
             "linecolor": "white",
             "minorgridcolor": "white",
             "startlinecolor": "#2a3f5f"
            },
            "type": "carpet"
           }
          ],
          "choropleth": [
           {
            "colorbar": {
             "outlinewidth": 0,
             "ticks": ""
            },
            "type": "choropleth"
           }
          ],
          "contour": [
           {
            "colorbar": {
             "outlinewidth": 0,
             "ticks": ""
            },
            "colorscale": [
             [
              0,
              "#0d0887"
             ],
             [
              0.1111111111111111,
              "#46039f"
             ],
             [
              0.2222222222222222,
              "#7201a8"
             ],
             [
              0.3333333333333333,
              "#9c179e"
             ],
             [
              0.4444444444444444,
              "#bd3786"
             ],
             [
              0.5555555555555556,
              "#d8576b"
             ],
             [
              0.6666666666666666,
              "#ed7953"
             ],
             [
              0.7777777777777778,
              "#fb9f3a"
             ],
             [
              0.8888888888888888,
              "#fdca26"
             ],
             [
              1,
              "#f0f921"
             ]
            ],
            "type": "contour"
           }
          ],
          "contourcarpet": [
           {
            "colorbar": {
             "outlinewidth": 0,
             "ticks": ""
            },
            "type": "contourcarpet"
           }
          ],
          "heatmap": [
           {
            "colorbar": {
             "outlinewidth": 0,
             "ticks": ""
            },
            "colorscale": [
             [
              0,
              "#0d0887"
             ],
             [
              0.1111111111111111,
              "#46039f"
             ],
             [
              0.2222222222222222,
              "#7201a8"
             ],
             [
              0.3333333333333333,
              "#9c179e"
             ],
             [
              0.4444444444444444,
              "#bd3786"
             ],
             [
              0.5555555555555556,
              "#d8576b"
             ],
             [
              0.6666666666666666,
              "#ed7953"
             ],
             [
              0.7777777777777778,
              "#fb9f3a"
             ],
             [
              0.8888888888888888,
              "#fdca26"
             ],
             [
              1,
              "#f0f921"
             ]
            ],
            "type": "heatmap"
           }
          ],
          "heatmapgl": [
           {
            "colorbar": {
             "outlinewidth": 0,
             "ticks": ""
            },
            "colorscale": [
             [
              0,
              "#0d0887"
             ],
             [
              0.1111111111111111,
              "#46039f"
             ],
             [
              0.2222222222222222,
              "#7201a8"
             ],
             [
              0.3333333333333333,
              "#9c179e"
             ],
             [
              0.4444444444444444,
              "#bd3786"
             ],
             [
              0.5555555555555556,
              "#d8576b"
             ],
             [
              0.6666666666666666,
              "#ed7953"
             ],
             [
              0.7777777777777778,
              "#fb9f3a"
             ],
             [
              0.8888888888888888,
              "#fdca26"
             ],
             [
              1,
              "#f0f921"
             ]
            ],
            "type": "heatmapgl"
           }
          ],
          "histogram": [
           {
            "marker": {
             "pattern": {
              "fillmode": "overlay",
              "size": 10,
              "solidity": 0.2
             }
            },
            "type": "histogram"
           }
          ],
          "histogram2d": [
           {
            "colorbar": {
             "outlinewidth": 0,
             "ticks": ""
            },
            "colorscale": [
             [
              0,
              "#0d0887"
             ],
             [
              0.1111111111111111,
              "#46039f"
             ],
             [
              0.2222222222222222,
              "#7201a8"
             ],
             [
              0.3333333333333333,
              "#9c179e"
             ],
             [
              0.4444444444444444,
              "#bd3786"
             ],
             [
              0.5555555555555556,
              "#d8576b"
             ],
             [
              0.6666666666666666,
              "#ed7953"
             ],
             [
              0.7777777777777778,
              "#fb9f3a"
             ],
             [
              0.8888888888888888,
              "#fdca26"
             ],
             [
              1,
              "#f0f921"
             ]
            ],
            "type": "histogram2d"
           }
          ],
          "histogram2dcontour": [
           {
            "colorbar": {
             "outlinewidth": 0,
             "ticks": ""
            },
            "colorscale": [
             [
              0,
              "#0d0887"
             ],
             [
              0.1111111111111111,
              "#46039f"
             ],
             [
              0.2222222222222222,
              "#7201a8"
             ],
             [
              0.3333333333333333,
              "#9c179e"
             ],
             [
              0.4444444444444444,
              "#bd3786"
             ],
             [
              0.5555555555555556,
              "#d8576b"
             ],
             [
              0.6666666666666666,
              "#ed7953"
             ],
             [
              0.7777777777777778,
              "#fb9f3a"
             ],
             [
              0.8888888888888888,
              "#fdca26"
             ],
             [
              1,
              "#f0f921"
             ]
            ],
            "type": "histogram2dcontour"
           }
          ],
          "mesh3d": [
           {
            "colorbar": {
             "outlinewidth": 0,
             "ticks": ""
            },
            "type": "mesh3d"
           }
          ],
          "parcoords": [
           {
            "line": {
             "colorbar": {
              "outlinewidth": 0,
              "ticks": ""
             }
            },
            "type": "parcoords"
           }
          ],
          "pie": [
           {
            "automargin": true,
            "type": "pie"
           }
          ],
          "scatter": [
           {
            "marker": {
             "colorbar": {
              "outlinewidth": 0,
              "ticks": ""
             }
            },
            "type": "scatter"
           }
          ],
          "scatter3d": [
           {
            "line": {
             "colorbar": {
              "outlinewidth": 0,
              "ticks": ""
             }
            },
            "marker": {
             "colorbar": {
              "outlinewidth": 0,
              "ticks": ""
             }
            },
            "type": "scatter3d"
           }
          ],
          "scattercarpet": [
           {
            "marker": {
             "colorbar": {
              "outlinewidth": 0,
              "ticks": ""
             }
            },
            "type": "scattercarpet"
           }
          ],
          "scattergeo": [
           {
            "marker": {
             "colorbar": {
              "outlinewidth": 0,
              "ticks": ""
             }
            },
            "type": "scattergeo"
           }
          ],
          "scattergl": [
           {
            "marker": {
             "colorbar": {
              "outlinewidth": 0,
              "ticks": ""
             }
            },
            "type": "scattergl"
           }
          ],
          "scattermapbox": [
           {
            "marker": {
             "colorbar": {
              "outlinewidth": 0,
              "ticks": ""
             }
            },
            "type": "scattermapbox"
           }
          ],
          "scatterpolar": [
           {
            "marker": {
             "colorbar": {
              "outlinewidth": 0,
              "ticks": ""
             }
            },
            "type": "scatterpolar"
           }
          ],
          "scatterpolargl": [
           {
            "marker": {
             "colorbar": {
              "outlinewidth": 0,
              "ticks": ""
             }
            },
            "type": "scatterpolargl"
           }
          ],
          "scatterternary": [
           {
            "marker": {
             "colorbar": {
              "outlinewidth": 0,
              "ticks": ""
             }
            },
            "type": "scatterternary"
           }
          ],
          "surface": [
           {
            "colorbar": {
             "outlinewidth": 0,
             "ticks": ""
            },
            "colorscale": [
             [
              0,
              "#0d0887"
             ],
             [
              0.1111111111111111,
              "#46039f"
             ],
             [
              0.2222222222222222,
              "#7201a8"
             ],
             [
              0.3333333333333333,
              "#9c179e"
             ],
             [
              0.4444444444444444,
              "#bd3786"
             ],
             [
              0.5555555555555556,
              "#d8576b"
             ],
             [
              0.6666666666666666,
              "#ed7953"
             ],
             [
              0.7777777777777778,
              "#fb9f3a"
             ],
             [
              0.8888888888888888,
              "#fdca26"
             ],
             [
              1,
              "#f0f921"
             ]
            ],
            "type": "surface"
           }
          ],
          "table": [
           {
            "cells": {
             "fill": {
              "color": "#EBF0F8"
             },
             "line": {
              "color": "white"
             }
            },
            "header": {
             "fill": {
              "color": "#C8D4E3"
             },
             "line": {
              "color": "white"
             }
            },
            "type": "table"
           }
          ]
         },
         "layout": {
          "annotationdefaults": {
           "arrowcolor": "#2a3f5f",
           "arrowhead": 0,
           "arrowwidth": 1
          },
          "autotypenumbers": "strict",
          "coloraxis": {
           "colorbar": {
            "outlinewidth": 0,
            "ticks": ""
           }
          },
          "colorscale": {
           "diverging": [
            [
             0,
             "#8e0152"
            ],
            [
             0.1,
             "#c51b7d"
            ],
            [
             0.2,
             "#de77ae"
            ],
            [
             0.3,
             "#f1b6da"
            ],
            [
             0.4,
             "#fde0ef"
            ],
            [
             0.5,
             "#f7f7f7"
            ],
            [
             0.6,
             "#e6f5d0"
            ],
            [
             0.7,
             "#b8e186"
            ],
            [
             0.8,
             "#7fbc41"
            ],
            [
             0.9,
             "#4d9221"
            ],
            [
             1,
             "#276419"
            ]
           ],
           "sequential": [
            [
             0,
             "#0d0887"
            ],
            [
             0.1111111111111111,
             "#46039f"
            ],
            [
             0.2222222222222222,
             "#7201a8"
            ],
            [
             0.3333333333333333,
             "#9c179e"
            ],
            [
             0.4444444444444444,
             "#bd3786"
            ],
            [
             0.5555555555555556,
             "#d8576b"
            ],
            [
             0.6666666666666666,
             "#ed7953"
            ],
            [
             0.7777777777777778,
             "#fb9f3a"
            ],
            [
             0.8888888888888888,
             "#fdca26"
            ],
            [
             1,
             "#f0f921"
            ]
           ],
           "sequentialminus": [
            [
             0,
             "#0d0887"
            ],
            [
             0.1111111111111111,
             "#46039f"
            ],
            [
             0.2222222222222222,
             "#7201a8"
            ],
            [
             0.3333333333333333,
             "#9c179e"
            ],
            [
             0.4444444444444444,
             "#bd3786"
            ],
            [
             0.5555555555555556,
             "#d8576b"
            ],
            [
             0.6666666666666666,
             "#ed7953"
            ],
            [
             0.7777777777777778,
             "#fb9f3a"
            ],
            [
             0.8888888888888888,
             "#fdca26"
            ],
            [
             1,
             "#f0f921"
            ]
           ]
          },
          "colorway": [
           "#636efa",
           "#EF553B",
           "#00cc96",
           "#ab63fa",
           "#FFA15A",
           "#19d3f3",
           "#FF6692",
           "#B6E880",
           "#FF97FF",
           "#FECB52"
          ],
          "font": {
           "color": "#2a3f5f"
          },
          "geo": {
           "bgcolor": "white",
           "lakecolor": "white",
           "landcolor": "#E5ECF6",
           "showlakes": true,
           "showland": true,
           "subunitcolor": "white"
          },
          "hoverlabel": {
           "align": "left"
          },
          "hovermode": "closest",
          "mapbox": {
           "style": "light"
          },
          "paper_bgcolor": "white",
          "plot_bgcolor": "#E5ECF6",
          "polar": {
           "angularaxis": {
            "gridcolor": "white",
            "linecolor": "white",
            "ticks": ""
           },
           "bgcolor": "#E5ECF6",
           "radialaxis": {
            "gridcolor": "white",
            "linecolor": "white",
            "ticks": ""
           }
          },
          "scene": {
           "xaxis": {
            "backgroundcolor": "#E5ECF6",
            "gridcolor": "white",
            "gridwidth": 2,
            "linecolor": "white",
            "showbackground": true,
            "ticks": "",
            "zerolinecolor": "white"
           },
           "yaxis": {
            "backgroundcolor": "#E5ECF6",
            "gridcolor": "white",
            "gridwidth": 2,
            "linecolor": "white",
            "showbackground": true,
            "ticks": "",
            "zerolinecolor": "white"
           },
           "zaxis": {
            "backgroundcolor": "#E5ECF6",
            "gridcolor": "white",
            "gridwidth": 2,
            "linecolor": "white",
            "showbackground": true,
            "ticks": "",
            "zerolinecolor": "white"
           }
          },
          "shapedefaults": {
           "line": {
            "color": "#2a3f5f"
           }
          },
          "ternary": {
           "aaxis": {
            "gridcolor": "white",
            "linecolor": "white",
            "ticks": ""
           },
           "baxis": {
            "gridcolor": "white",
            "linecolor": "white",
            "ticks": ""
           },
           "bgcolor": "#E5ECF6",
           "caxis": {
            "gridcolor": "white",
            "linecolor": "white",
            "ticks": ""
           }
          },
          "title": {
           "x": 0.05
          },
          "xaxis": {
           "automargin": true,
           "gridcolor": "white",
           "linecolor": "white",
           "ticks": "",
           "title": {
            "standoff": 15
           },
           "zerolinecolor": "white",
           "zerolinewidth": 2
          },
          "yaxis": {
           "automargin": true,
           "gridcolor": "white",
           "linecolor": "white",
           "ticks": "",
           "title": {
            "standoff": 15
           },
           "zerolinecolor": "white",
           "zerolinewidth": 2
          }
         }
        },
        "xaxis": {
         "anchor": "y",
         "domain": [
          0,
          1
         ],
         "title": {
          "text": "tsne-2d-one"
         }
        },
        "yaxis": {
         "anchor": "x",
         "domain": [
          0,
          1
         ],
         "title": {
          "text": "tsne-2d-two"
         }
        }
       }
      }
     },
     "metadata": {},
     "output_type": "display_data"
    }
   ],
   "source": [
    "fig = px.scatter(df_subset, x='tsne-2d-one', y='tsne-2d-two', color='movement', hover_data=['text_cleaned'])\n",
    "fig.show()"
   ]
  },
  {
   "cell_type": "markdown",
   "metadata": {},
   "source": [
    "#### PCA"
   ]
  },
  {
   "cell_type": "code",
   "execution_count": 51,
   "metadata": {},
   "outputs": [],
   "source": [
    "pca = PCA(n_components=3)\n",
    "pca_result = pca.fit_transform(X1)\n",
    "df_subset['pca-one'] = pca_result[:,0]\n",
    "df_subset['pca-two'] = pca_result[:,1] \n",
    "df_subset['pca-three'] = pca_result[:,2]\n"
   ]
  },
  {
   "cell_type": "code",
   "execution_count": 52,
   "metadata": {},
   "outputs": [
    {
     "data": {
      "application/vnd.plotly.v1+json": {
       "config": {
        "plotlyServerURL": "https://plot.ly"
       },
       "data": [
        {
         "customdata": [
          [
           "love tihings world hate jet lag"
          ],
          [
           "malaysiaboleh"
          ],
          [
           "finish live interview cnbc squawk box studio haha"
          ],
          [
           "ill speak point zero forum zurich switzerland later month discuss decentralize finance web embed finance sustainable finance"
          ],
          [
           "humble receive cryptowarrior gift malaysia partner"
          ],
          [
           "tweet comment"
          ],
          [
           "continue invest industry"
          ],
          [
           "czinmy"
          ],
          [
           "adoption take time stoppedsiri answer"
          ],
          [
           "author whose name first program language learnt pascal"
          ],
          [
           "lhomme est un roseau pensant"
          ],
          [
           "go get tough builder shine even bright"
          ],
          [
           "shop mall hotel four mixeduse community accept crypto binance payadoption continue bnb"
          ],
          [
           "crypto money launder inconvenient truth spoiler overwhelming majority money launder go traditional banking system crypto"
          ],
          [
           "avoid like plague"
          ],
          [
           "bear market actually easy spot weak project founder money drive instead mission driven"
          ],
          [
           "track hour"
          ],
          [
           "staff el salvador grow long term commitment solve problem"
          ],
          [
           "year ago istanbul"
          ],
          [
           "info"
          ],
          [
           "team work flat distribute luna airdrop binance user big user base please bear process airdrop need bit time execute thanks"
          ],
          [
           "credibility ultimate currency"
          ],
          [
           "binance ottiene la registrazione italia"
          ],
          [
           "blockchain new technology money develop local crypto industry today devastate effect future local economy"
          ],
          [
           "play table tennis minister digital bagdat mussin kazakhstan suitbefore time also play minister dubai oncei lose time well keep job"
          ],
          [
           "action speaks louder word"
          ],
          [
           "binance grant regulatory approval italy"
          ],
          [
           "break binance register italy"
          ],
          [
           "ja hotel one old chain uae hotel dubai maldives seychelles etc sign binance paypushing adoption"
          ],
          [
           "credit"
          ],
          [
           "look like binancepizza"
          ],
          [
           "success come many thing come well select thing focus"
          ],
          [
           "one control bitcoin network"
          ],
          [
           "right thing stress"
          ],
          [
           "know category binance"
          ],
          [
           "gift"
          ],
          [
           "kazakhstan"
          ],
          [
           "crypto music"
          ],
          [
           "push adoption never stop"
          ],
          [
           "president republic kazakhstan kassymjomart tokayev meet ceo binance changpeng zhao"
          ],
          [
           "build"
          ],
          [
           "bnb"
          ],
          [
           "year ago bnb price"
          ],
          [
           "growth exponential halfway mark cross chasm soonin adult hold used crypto mostly investment say used crypto buy something make payment send money friend family"
          ],
          [
           "hodl hold dear lifei learn day ago learn something new everyday"
          ],
          [
           "user shareholdersif problem bye"
          ],
          [
           "quickly slowly dont stop"
          ],
          [
           "alright time upgrade something say"
          ],
          [
           "someone send picture claim know well treat scammersmy real friend dont dont need"
          ],
          [
           "welcome dubaidubai grant exsingapore parliamentarian calvin chengs web company virtual asset license"
          ],
          [
           "hear free pizza"
          ],
          [
           "bless busy sunday"
          ],
          [
           "casually say leadership chat money lol"
          ],
          [
           "see sign tell work extraordinary company usually decision make thing hard say never work anywhere make quickly"
          ],
          [
           "let increase financial inclusion cryptodata source global findex"
          ],
          [
           "saw article insider trading zerotolerance policy hold high standard investigator review wallet none associate binance employeesif see anything suspicious email auditbinancecom"
          ],
          [
           "even try let project team know list sometimes completely avoided require technical assistance wallet integration etcplease use whistleblower email notice suspicious activity"
          ],
          [
           "thanks question answer many could seem reddit take ama thread work get back see answer"
          ],
          [
           "reddit ama start soon ask question"
          ],
          [
           "please help upvote good question downvote blatant spam"
          ],
          [
           "ama reddit later"
          ],
          [
           "thanks mister pizza let use shop teach make pizza"
          ],
          [
           "happy bitcoinpizzaday"
          ],
          [
           "new job binancepizza"
          ],
          [
           "charlieshrem talk year ago finally meet person welcome crypto"
          ],
          [
           "je suis cannes avec davidlisnard merci pour le vin"
          ],
          [
           "bnb chain offer another lifeline terra ecosystem project"
          ],
          [
           "experience withdrawal slow down check blockchain"
          ],
          [
           "maverick great movie must admit watch movie cast beside pretty cool experience"
          ],
          [
           "idol tomcruise cannesfilmfestival"
          ],
          [
           "first time tux life go see movielet bring movie web"
          ],
          [
           "nice nice"
          ],
          [
           "dubai museum future impressive definitely worth visit do twice already usually thing"
          ],
          [
           "dubai museum future binance nft launch firstever nft collection"
          ],
          [
           "good old day"
          ],
          [
           "whole place pack first many people audience"
          ],
          [
           "ask want put make go stage say"
          ],
          [
           "go live"
          ],
          [
           "hour"
          ],
          [
           "meet binance angel germany yesterdaybinance angel community volunteer pay mission driven"
          ],
          [
           "welcome bnb chain rough time bnb community ready welcome project need assistance"
          ],
          [
           "focus help project build grow crypto together"
          ],
          [
           "hire aggressively find apply first testfilter"
          ],
          [
           "diamond hand look like coin never move receive addressthis nontrader hold strategy adopt strategy also diversification nfa"
          ],
          [
           "lot people reassure fact unlike traditional finance even big player like cz end bag holder crypto industry lesson manage risk handle"
          ],
          [
           "poor"
          ],
          [
           "take break different topic tech real use blockchain fund type research manufacturing right"
          ],
          [
           "smh"
          ],
          [
           "protect user"
          ],
          [
           "important partto lead example protect user binance let go ask terra project team compensate retail user first binance last ever binance min discussion fully support proposal"
          ],
          [
           "address ust staking time buy also never move sell"
          ],
          [
           "interest update full transparency lead protect usersas turn ust pair fee begin didnt know team tell much ust therewe"
          ],
          [
           "binance receive luna peak worth billion usd much part original invest return peak still sit address receive never move sell address"
          ],
          [
           "adoption"
          ],
          [
           "francescoberti"
          ],
          [
           "honor chat mp francesco others italy last week many thanks write summary"
          ],
          [
           "ask rumor round investment ust discussion never closedbinance buy ust"
          ],
          [
           "read comment twitter occur havent ask team binance ust dont access admin backend security reason always ask someone get info ask"
          ],
          [
           "probably trading fee probably value close think free trading past haha wasnt mind prioritize thing user first"
          ],
          [
           "regard would like see transparency much include specific onchain transaction txids fund rely party analysis sufficient accurate first thing happen"
          ],
          [
           "always right perspective failure canwill happen transparency speedy communication own responsibility community extremely important"
          ],
          [
           "hop project team rise ash rebuild proper sensible way regardless personal view solution choose end always support community way"
          ],
          [
           "last day try hard support terra community tweet simply point potential issue understand mint fork create value buy back burn require fund fund project team may"
          ],
          [
           "binance lab invest hundred project last year include exchange competitor many compete blockchains fall wayside extremely successful investment work"
          ],
          [
           "past week proven watershed moment crypto industry witness rapid decline major project send ripple across industry also new found resiliency market exist last market downswing"
          ],
          [
           "binance participate round luna fund raise acquire ust binance lab invest usd terra layer blockchain ust come much later initial investment"
          ],
          [
           "first need address falsehood circulate crypto twitter"
          ],
          [
           "dont hold ust never dont know well usually busy thing drag"
          ],
          [
           "shouldnt btc use buy back ust first"
          ],
          [
           "personal opinion nfa wont work fork give new fork value thats wishful think one cannot void transaction old snapshot onchain offchain exchangeswhere btc suppose use reserve"
          ],
          [
           "learn little bit every daydead cat bounce binance academy"
          ],
          [
           "design flaw mint coin print money create value dilute exist coin holder incentives create value bootstrap mechanism build product people use"
          ],
          [
           "million reason thank support million reason fight safety user"
          ],
          [
           "cant mint way bankruptcy time"
          ],
          [
           "many people dont get point didnt push issue terra blockchain may still halt mode bad super minting"
          ],
          [
           "nophone meeting least progressluna blockchain resume mintingand deposit withdrawal trading resume trade important exist holdersplease buy coin trading dyor extreme caution"
          ],
          [
           "nan"
          ],
          [
           "know different opinion community felt suspend trading best way protect user time continue monitor situation closely action announce binance cz"
          ],
          [
           "sharp contrast axie infinity team take accountability plan communicate proactively help"
          ],
          [
           "binance always aim neutral helpful protective user industry peer typically refrain comment project break rule time"
          ],
          [
           "disappointed ustluna incident handle handled terra team request team restore network burn extra mint luna recover ust peg far gotten positive response much response"
          ],
          [
           "user unaware large amount newly mint luna outside exchange start buy luna without understand soon deposit allow price likely crash due significant risk suspend trading"
          ],
          [
           "binance prioritize user protection make decision suspend luna ust trading here thread"
          ],
          [
           "exponential amount new luna mint due flaw design terra protocol validators suspend entire network result deposit withdrawal possible exchange"
          ],
          [
           "fun visit training center lazio pepe reina hand shake like robot arm nothing get hand"
          ],
          [
           "still"
          ],
          [
           "every seller buyer"
          ],
          [
           "think crypto volatile look stock make situation well crypto zoom learn risk management"
          ],
          [
           "end day need go back fundamental build real product reliant short term incentive promotion intrinsic value people use"
          ],
          [
           "anything else need humbly respect market cocky build step step day day leave rest market timestay safu"
          ],
          [
           "new market many innovation algo stable coin one hot rage drop vicious circle innovation become successful many"
          ],
          [
           "many ask market today need respect market level caution go cycle especially fact always make sense"
          ],
          [
           "importance fiat reservebacked stablecoins"
          ],
          [
           "high system blockchain load today binance trading server issue maintenance mode team recover min system spot future fine"
          ],
          [
           "blockchain congestion node sync issue eth also high fee luna deposit withdrawal may take long usual process network work fine team monitor closely fund safu"
          ],
          [
           "forbes incontra changpeng zao il fondatore dellexchange di criptovalue binance"
          ],
          [
           "positive side crypto stay"
          ],
          [
           "one leverage stable coin"
          ],
          [
           "previous wrong post big intern cz"
          ],
          [
           "il di binance cerca spazio italia le crypto rivoluzionano il denaro il sole ore"
          ],
          [
           "il di binance cerca spazio italia le crypto rivoluzionano il denaro il sole ore"
          ],
          [
           "many country want web"
          ],
          [
           "enlightenment"
          ],
          [
           "bit packed high energy though binance meet"
          ],
          [
           "binancians italy early bird see event soon"
          ],
          [
           "buongiorno"
          ],
          [
           "emotion panic dip probably invest try reduce investment size much good position control emotions increase position handle emotion"
          ],
          [
           "might first time painful first time bitcoin look flat look flat year"
          ],
          [
           "last day binance get france registration binance invests twitter elon binance sponsor argentina national football team binance sponsor brasileirão bnb thanks stocksno sweat build continue"
          ],
          [
           "bnb binance new exclusive crypto sponsor brasileirão binance blog"
          ],
          [
           "best super power human ability formlead teamsnegative people dont make far life nice people"
          ],
          [
           "narrativeshaters flee restaurantlovers buy restaurant make accept cryptojoggers run restaurant lunch"
          ],
          [
           "maybe many traditional medium still bitcoin use drug lord narrative head completely false actually look data"
          ],
          [
           "hodl never easy"
          ],
          [
           "bnb"
          ],
          [
           "binance invests twittersupport free speechsmall entrepreneur support big entrepreneursinvest tool use myselfmission alignment bring web web crypto funding societal platform video"
          ],
          [
           "hope dip people sell crypto buy gift mother good son daughtershappy mother day"
          ],
          [
           "adoption haha"
          ],
          [
           "staff el salvador grow"
          ],
          [
           "look forward spot binance miamigp weekend alpinef car"
          ],
          [
           "live ama"
          ],
          [
           "live"
          ],
          [
           "unlimited supply money limit supply money hard choose"
          ],
          [
           "ask anything try cover much see hour"
          ],
          [
           "imagine twitter suggest tweet lol"
          ],
          [
           "havent type email age thing change seem gmail know say"
          ],
          [
           "probably nothing"
          ],
          [
           "web swipe right leave anywhere wish web hold"
          ],
          [
           "get use become strong"
          ],
          [
           "lol blank check smart business instead help web tackle web issue social medium like bot privacy grow adoption crypto blockchain"
          ],
          [
           "burj al arab dubai nice sunny beach shadow"
          ],
          [
           "typo cause"
          ],
          [
           "sometimes feel like journalist wish fight others story write write story cause fight"
          ],
          [
           "good article title viewdo thing binance work closely country let double effort push industry france uk beyond binance warm welcome france financial time"
          ],
          [
           "usually dont read news"
          ],
          [
           "basically people join crypto uae beyond"
          ],
          [
           "good content article choice word try really hard paint negative narrative burj al arab nice sunny beach shadowsmany country embrace crypto tighteningoverall good coverage though"
          ],
          [
           "crypto safer fiatchainalysis transaction involve illicit address represent cryptocurrency transaction volume nation estimate money launder globally one year global gdp trillion usdsources"
          ],
          [
           "know get chart one screen"
          ],
          [
           "crypto shouldnt correlate stock right another moment know right world hasnt caught yet stock plunge trader fret feed quagmire market wrap"
          ],
          [
           "market doesnt make sense later always"
          ],
          [
           "crypto twitter"
          ],
          [
           "small contribution cause"
          ],
          [
           "country move crypto"
          ],
          [
           "nice little video nasdaily story stupid kid conviction"
          ],
          [
           "go live bloomberg min set studio mean laptoplink"
          ],
          [
           "last day sofeb dubai pass virtual asset lawmar issue eo cbdcmar binance get bahrain licensemar binance get dubai licensemar rio accept crypto tax paymentsapr binance get sweden registration"
          ],
          [
           "apr uk plan crypto hubapr sec approve bitcoin future etfapr sweden completes phase cbdc testsapr binance get abu dhabi inprinciple approvalmay binance get france vasp registrationbuild continue"
          ],
          [
           "crypto exchange binance win regulatory approval france"
          ],
          [
           "blockchains stop neither"
          ],
          [
           "binance fully regulate digital asset service provider france binance blog"
          ],
          [
           "binance pick paris regional hub europe wsj"
          ],
          [
           "company binance say would make paris european hub france financial market regulator formally grant binance right offer market service local customer"
          ],
          [
           "hows français"
          ],
          [
           "crypto exchange binance get french regulatory nod european push bloomberg"
          ],
          [
           "small edit binance grant digital asset service provider dasp registration operate france get one letter wrong tweet"
          ],
          [
           "que la force soit avec toi"
          ],
          [
           "binance get approved france vasp virtual asset service provider registration"
          ],
          [
           "dont learn crypto dont care money"
          ],
          [
           "blockchain disruptive potential pay uae"
          ],
          [
           "characteristic money durability portability divisibility uniformity limit supply acceptabilitythink miss freedom transaction invest pretty close"
          ],
          [
           "make plan huge opportunity cost execute"
          ],
          [
           "still omit bnb"
          ],
          [
           "type people know need bitcoin dont know yet"
          ],
          [
           "right place crypto regulator"
          ],
          [
           "read finance relate book min everyday one sure way make richif dont know start economics one lesson henry hazlitt easy read"
          ],
          [
           "revenue anything user spend coin pay developer virtual good network fee etc sustainability revenue incentive"
          ],
          [
           "incentive like playtoearn stake airdrop etc great attract new user project dont revenue model great incentive coin price eventually crash due supplythe key build product people use"
          ],
          [
           "blockchains low fee always available"
          ],
          [
           "someone else want something mean must itjust someone want something mean discard fact opportunity contrarian situation discover understand hold want"
          ],
          [
           "wenbinance want list coin binance read"
          ],
          [
           "need sellpromote bitcoin people already make mind dont want itwe dont need adoption currently adoption probably less teach others may need"
          ],
          [
           "dont need otherwarren enough paper money happybitcoin enough supporter grow"
          ],
          [
           "issue coin coin experienced inflation right"
          ],
          [
           "measure inflation use vague carefully select easily manipulate item priceswhy dont measure inflation directly money supply"
          ],
          [
           "may peace safety good health prosperity eid mubarak"
          ],
          [
           "binance drive crypto blockchain awareness among indian investor"
          ],
          [
           "everything volatile relative"
          ],
          [
           "protect user help grow"
          ],
          [
           "one want first one dare lastmore soon"
          ],
          [
           "call advance specie dont understand money educate"
          ],
          [
           "interesting opinion piece"
          ],
          [
           "poyraz say binance block peskova march try use exchange thirdparty brokerage sanction treasury department march war people"
          ],
          [
           "crypto traceable tigran gambaryan key law enforcement figure story work binance keep crypto safu"
          ],
          [
           "country achieve best balance encourage technology innovation fight bad actor protect user win current fintech evolution advantage result benefit local economy"
          ],
          [
           "binance award reputable crypto exchange turkey i̇tibar akademisi"
          ],
          [
           "btc mining hash rate ath know follow"
          ],
          [
           "damac one large property developer middle east accepts crypto payment"
          ],
          [
           "virtual real right real"
          ],
          [
           "binance introduces new crypto card ukrainian refugee"
          ],
          [
           "wen launchpool"
          ],
          [
           "knew recently follow guy reason know"
          ],
          [
           "twitter feature call quote tweet provide freedom speech comment tweet follower occasionally look evident last tweet"
          ],
          [
           "free speech free economy strong country"
          ],
          [
           "crypto big case heard yet"
          ],
          [
           "let grow industry together"
          ],
          [
           "record chat ft early skip"
          ],
          [
           "legend"
          ],
          [
           "live ft soon anyone public link"
          ],
          [
           "probably nothing fidelity new offering invest bitcoin"
          ],
          [
           "changpeng zhao binance las criptomonedas estarán por toda part economía el país"
          ],
          [
           "two royal family member ambassador binancian hang bar binancian ask hold"
          ],
          [
           "wait clean spam comment"
          ],
          [
           "need crypto strategy"
          ],
          [
           "leonid volkov manage fundraise campaign tell coindesk doesnt believe binance actually share navalny donor data fordinmonitoring believe reuters wrong also multiple inconsistency article"
          ],
          [
           "cant fake good person least long good person"
          ],
          [
           "vive la france"
          ],
          [
           "central african republic adopts bitcoin"
          ],
          [
           "never live different country experience could experience earth life"
          ],
          [
           "know early others still wake follow hold"
          ],
          [
           "vote crypto"
          ],
          [
           "youve never do move different country experience world broaden horizon view world increase value"
          ],
          [
           "pity guy negative focused job change job find something positive passionate life get good thati pity jealousy guy almost hopeless read book infinite game"
          ],
          [
           "lot negative energy miserable lifebe full positive energy let negative go"
          ],
          [
           "web security need overhaul service web"
          ],
          [
           "read article include email exchange journalist find opinion"
          ],
          [
           "share data government law enforcement agency world request user data binance long accompany proper legal authority"
          ],
          [
           "also donate time humanitarian effort help ukrainian desperate need move recognize appreciated person zoom cz mykhailo fedorov minister digital transformation ukraine"
          ],
          [
           "soon war start stop work russia instead aggressively implemented sanction russia today binance crypto exchange world implement late eu package measure russian account holder"
          ],
          [
           "like every blockchain company operate russia prior war ukraine binance actively push russia develop effective crypto regulatory framework effort undertake every market operate"
          ],
          [
           "suggestion binance share user data include alexei navalny russian fsb control agency russian regulator categorically false"
          ],
          [
           "open response recent inaccurate article irresponsible journalist reuters lot detail"
          ],
          [
           "isnt direct measure definition inflationwhy inflation always measure roundabout way"
          ],
          [
           "fred st louis feed"
          ],
          [
           "world leader need necessary put end brutal conflict bring peace region user employee countless blockchain community member"
          ],
          [
           "feel need address announcement yesterday regard regard eus new crypto sanction believe crypto exchange power unilaterally freeze entire nation user account must follow sanction rule old new"
          ],
          [
           "eu take historic aggressive action place cap every russianresident user wallet binance give word global community would implement sanction action live commitment"
          ],
          [
           "hrh crown prince prime minister bahrain meet founder ceo binance together central bank governor"
          ],
          [
           "dprk hack group start move axie infinity steal fund today part make binance spread across account recover do many time project past stay safu"
          ],
          [
           "great chat jerallaire"
          ],
          [
           "bahrain adopt crypto big way honor meet hrh salman bin hamad al khalifa"
          ],
          [
           "emmanuel macron french innovation audacity genius make greatness success"
          ],
          [
           "stablecoin become burn cash faster game remember web"
          ],
          [
           "launch kick new productproject binance ecosystemmy total time spend minmy total word say go"
          ],
          [
           "road iese business school spain"
          ],
          [
           "bnb"
          ],
          [
           "even best intern make mistake fix quickly binance bnb"
          ],
          [
           "great fireside chat iese business school"
          ],
          [
           "put tie btw"
          ],
          [
           "tie non esg friendly invention everwhy tie piece useless rope around neck"
          ],
          [
           "binance"
          ],
          [
           "license"
          ],
          [
           "cloud storage wallet bad idea"
          ],
          [
           "whitepaper commitment"
          ],
          [
           "burn million dollar iykyk bnb"
          ],
          [
           "worth bnb take circulation soon real time info"
          ],
          [
           "country"
          ],
          [
           "see"
          ],
          [
           "สวัสดี gulf energy large energy company thailand large investor thailand telecom buy large chunk bnb publicly list company invest binanceus launch jv binance"
          ],
          [
           "crypto make money meeting celebritiespoliticians matter right thing right reason"
          ],
          [
           "espero que hayas tenido un buen día"
          ],
          [
           "dome run web startup"
          ],
          [
           "long term crypto also improve financial inclusion"
          ],
          [
           "train program learn crypto service community"
          ],
          [
           "hire spanish line roles come"
          ],
          [
           "binance take different approach help gang issue el salvadorcreate job youthlast week hire staff offer opening hopefully get hundred year endlong term solution crypto create job"
          ],
          [
           "business global accept crypto"
          ],
          [
           "totally choose ignore crypto youd look bit date"
          ],
          [
           "amcs let buy ticket crypto surprise surprise"
          ],
          [
           "russia legalize crypto payment surprise surprise"
          ],
          [
           "france great place entrepreneurship"
          ],
          [
           "love public take twitter use twitter"
          ],
          [
           "clean mixer compliant provide privacy never use one interesting"
          ],
          [
           "look worklifebalance year still work hard get good lifelife becomes well work hard early"
          ],
          [
           "video interview crypto france"
          ],
          [
           "binance pool officially support litecoins mimblewimble extension block mweb upgrade"
          ],
          [
           "privatize issue token decentralize itcost per blue tick account reduce spamscam nfts metaverse"
          ],
          [
           "entrepreneurship physical job gotta stamen"
          ],
          [
           "earlier today"
          ],
          [
           "binance booth"
          ],
          [
           "never understood people think fiat money stable nothing stable benchmarked something else something else purchase power"
          ],
          [
           "web sound well crypto ask everyone around still web use web"
          ],
          [
           "become poor hold fiat"
          ],
          [
           "become poor hold fiat"
          ],
          [
           "dont know stock exchange building paris progressive enough let crypto exchange hang banner building"
          ],
          [
           "bitcoin volatile go away"
          ],
          [
           "binance"
          ],
          [
           "good see get top building lol"
          ],
          [
           "crypto startup fund invest startup"
          ],
          [
           "dont say make presentation quick say waste time make quick"
          ],
          [
           "see soon"
          ],
          [
           "titanic sink little float near get drag float eventually come back untethered"
          ],
          [
           "jétudie le français"
          ],
          [
           "abu dhabi"
          ],
          [
           "damn look like need sharesource"
          ],
          [
           "india natural frontrunner web startup binance ceo"
          ],
          [
           "great title good see collaboration industry policymakers crypto industry help write pas agenda state capitol new york time"
          ],
          [
           "join board sit long meeting tweet"
          ],
          [
           "build thing people use"
          ],
          [
           "come bitcoin real like gold valueif something use people value many nonphysical tool value google facebook bitcoin dont physical stuff people use value utility value"
          ],
          [
           "bitcoincrypto use tool transaction domestic international globally fundraise startups donation sell art content hedge inflation provide liquidity earn interest much million people"
          ],
          [
           "come across new term impact invest google put maximize shareholder value low priority guess issue token raise fund dont shareholder token holder likely user maximize user value"
          ],
          [
           "slowly surely binance get abu dhabi crypto nod"
          ],
          [
           "wasnt obvious year ago"
          ],
          [
           "team member bos know havent take vacation yearsme oh didnt youa never didme oha need take vacation man toome ok"
          ],
          [
           "people shanghai really run food havent figure help yet tricky"
          ],
          [
           "binance poaches fca official global regulation head"
          ],
          [
           "bit"
          ],
          [
           "honduran special economic zone adopts bitcoin legal tender"
          ],
          [
           "global food price rise march rise fast rate year publish un food agricultural organisation"
          ],
          [
           "wenbinance"
          ],
          [
           "bitcoin dont pay anyone salaries yet work willingly"
          ],
          [
           "binancebcf"
          ],
          [
           "adoption continue one everyone jump want first one want lastimagine last country adopt crypto legal tender say"
          ],
          [
           "khabib one humble downtoearth smart guy meet perfect fight machine course low key person oh think ask come along mike tyson send slightly ambiguous fun message haha"
          ],
          [
           "ufc pay fighter bonuses cryptophoto take back still hair think appropriate share"
          ],
          [
           "live cnbc soon"
          ],
          [
           "two choice expose early constant stream small disruption wait get shocked big disruption sooner later choice disruption happen"
          ],
          [
           "un accepts crypto"
          ],
          [
           "solution inflation"
          ],
          [
           "yellen havent see significant evasion sanction use crypto decrypt"
          ],
          [
           "fortune changpeng zhao profile learn binance"
          ],
          [
           "iron man bitcoin bull pretty cool"
          ],
          [
           "excited new chapterthanks brianshroder binanceus team bring crypto people keep building"
          ],
          [
           "cefi come defi rescue crypto exchange binance among investor bail victim mln heist reuters"
          ],
          [
           "small step towards"
          ],
          [
           "sky mavis raise round lead binance reimburse ronin attack victim"
          ],
          [
           "protect user protect project protect industry"
          ],
          [
           "new technology money want ignore"
          ],
          [
           "worry wealth ranking opinionsfocus build value building product people use"
          ],
          [
           "dubai lure clutch big crypto firm tailor regulation financial time"
          ],
          [
           "incumbent dont embrace innovation wont exist tomorrow anyway"
          ],
          [
           "protect incumbent winner tomorrow embrace innovationdisruption rarely tomorrow big reward though"
          ],
          [
           "small exchange owner say binance bad good ask real motive people choose binance"
          ],
          [
           "binance"
          ],
          [
           "great chat matthancock month ago london expert crypto forward think mindset great see push crypto adoption"
          ],
          [
           "dont buy dip dont fiat"
          ],
          [
           "many people talk buy dip dip come panic sell oppose buythis"
          ],
          [
           "talk later washingtonpost postlive blockchain security"
          ],
          [
           "dog house finally thank everyones support covid mild sorry miss guy bbw boredom serious"
          ],
          [
           "binance ceo cant use cryptocurrency escape sanction"
          ],
          [
           "security guard wow send money wife use crypto go instantly fee use take day lot feesi smile adoption one time"
          ],
          [
           "uk want crypto hub"
          ],
          [
           "talk miketyson twitter space minute glad virtual wear box wear phew"
          ],
          [
           "music crypto"
          ],
          [
           "beware phishing attack never click link email message bad twitter comment"
          ],
          [
           "mike say respond"
          ],
          [
           "difference narrative"
          ],
          [
           "thing often seem surface dont fool one side narrative"
          ],
          [
           "accord book number dont lie electricity use power ev electric vehicle come fossil carbon still coal car ev tech great still need fix problem source"
          ],
          [
           "unreasonable restriction local economy often cause talent drain smart young kid go work country weaken local economy cause vicious cycle may take decade reverse"
          ],
          [
           "happy ramadan celebrate month"
          ],
          [
           "builder binance product lead mayur kamat help build future web binance blog"
          ],
          [
           "zoom live city country live little ball call earth"
          ],
          [
           "might buy fiat today look like decent investment"
          ],
          [
           "eye opener"
          ],
          [
           "record academy partner binance grammys"
          ],
          [
           "twitter"
          ],
          [
           "traditional medium friend bloomberg ft fortune say crypto article read probably nothing"
          ],
          [
           "really rich honor featured cover fortunemagazine"
          ],
          [
           "wow damn easy playing defense apple meta give user data hacker forge legal request aapl fb bloomberg"
          ],
          [
           "bitcoin mining great planet jason deane quantum economics mar medium"
          ],
          [
           "binance already low fee market lower againme protect user"
          ],
          [
           "crypto terrible avoid sanction simple reason traceablecash hand"
          ],
          [
           "intern let loose binanceblockchainweek"
          ],
          [
           "binance launch binance bridge integrate cefi defi"
          ],
          [
           "tried subscribe online magazine read article payment process take way long accept crypto would year"
          ],
          [
           "team touch axieinfinity team provide assistance track issue"
          ],
          [
           "love panel people different view learn lot"
          ],
          [
           "many people spend much time jealous people success instead work initiative latter way"
          ],
          [
           "win heart user win"
          ],
          [
           "video community contribution think get message"
          ],
          [
           "sell btc"
          ],
          [
           "understated number"
          ],
          [
           "binanceblockchainweek"
          ],
          [
           "imagine country push internet talent year agokeep blockchain talent"
          ],
          [
           "lead follow happy"
          ],
          [
           "tax expert far know country tax crypto transaction transfer today"
          ],
          [
           "bitcoin transaction yesterday start tax today much tax collect today close whythere bird tree bang shoot one many bird leave tree"
          ],
          [
           "welcome dubai"
          ],
          [
           "real estate list company safer crypto rightthis stock price top list real estate company china drop year"
          ],
          [
           "self custody wallets future bnb"
          ],
          [
           "small culture reminder dont cross legs stage wont show sole foot every culture etiquettes"
          ],
          [
           "watch livestream"
          ],
          [
           "imagine crypto"
          ],
          [
           "binanceblockchainweek"
          ],
          [
           "dont let others tell think say opinion almost never correct affected context intentionsthink"
          ],
          [
           "dont tell people thinkdo thing win heartsbitcoin never tell think"
          ],
          [
           "tell people think thing win heartsbitcoin never tell think"
          ],
          [
           "video perridonhldgs"
          ],
          [
           "video mperridon"
          ],
          [
           "entrepreneurship crypto physical job combine exponentially"
          ],
          [
           "edufi bnb"
          ],
          [
           "covid suck miss"
          ],
          [
           "day ago make handshake deal mayor eduardopaes rio de janeiro accept crypto tax payment binance open office rio hes do part work"
          ],
          [
           "overall ok still twitter"
          ],
          [
           "arrive back dubai last night lot people meet need recover quickly"
          ],
          [
           "shit bad timing"
          ],
          [
           "need learn spanish portuguese"
          ],
          [
           "need learn spanish portuguese"
          ],
          [
           "heard dubai"
          ],
          [
           "waste people time bad take money efficient"
          ],
          [
           "many country want embrace new technology money crypto"
          ],
          [
           "effect ban bitcoin mining bitcoin hash rate new ath high ban happen"
          ],
          [
           "nayibbukele"
          ],
          [
           "pic phone come soon sure"
          ],
          [
           "talk bond word never come much talk adoption"
          ],
          [
           "fantastic meeting"
          ],
          [
           "crypto pay world"
          ],
          [
           "bnb coinbase"
          ],
          [
           "pleasure meeting president luislacallepou uruguay day ago strong confident chill give card hold like discussed high level blockchain economy etc specific endorsement"
          ],
          [
           "idol"
          ],
          [
           "idol"
          ],
          [
           "always feel like late crypto still early day"
          ],
          [
           "man number scamspam comment"
          ],
          [
           "keep building bnb"
          ],
          [
           "bitcoin force anything"
          ],
          [
           "tried get financeeconomics book gift teenagerguess dont exist"
          ],
          [
           "state obvious hard rich dont understand money"
          ],
          [
           "argentina"
          ],
          [
           "dont understand bitcoin dont understand money"
          ],
          [
           "moon rio"
          ],
          [
           "let grow rio crypto"
          ],
          [
           "rio beautiful"
          ],
          [
           "grudge let go achieve life"
          ],
          [
           "gm love color"
          ],
          [
           "binance"
          ],
          [
           "binance custody crypto wallet institution multiple approver insurance etc fit corporate need"
          ],
          [
           "binancearabic sponsor firstever nft event bahrain week teambahrain"
          ],
          [
           "week farbinance get bahrain licensebinance get dubai licensebinanceus get louisiana licensebinance acquire brokerage brazilits thursday build"
          ],
          [
           "matter blame inflation fact itbtc inflation bnb deflationary"
          ],
          [
           "let give key mayor rio eduardopaes rio de janeiro blockchain"
          ],
          [
           "bridge defi cex"
          ],
          [
           "bridge tradifi crypto"
          ],
          [
           "spent bit time take selfies strong supporter photos"
          ],
          [
           "people read news doubt meet person like"
          ],
          [
           "binance mention barbados budget prime minister mia mottley miaamormottley thanks effort sirbitt"
          ],
          [
           "binance win first gulf crypto license bahrain"
          ],
          [
           "teambahrainbinance grant first license global cryptoasset provider cooperation council arab state gulf gcc central bank bahrain"
          ],
          [
           "humanity first"
          ],
          [
           "curious want ban pow ever try bitcoin transaction yet"
          ],
          [
           "understand"
          ],
          [
           "binance announces plan buy simpaul brokerage brazil"
          ],
          [
           "wonder"
          ],
          [
           "tesla typo"
          ],
          [
           "something use electricity doesnt make nongreentelsas use electricitylightbulbs use electricitywe need measure efficiency compare alternative determine green"
          ],
          [
           "believe bitcoin efficient financial network existence ever term cost per value transact store cost per level reliability resilienceprove wrong"
          ],
          [
           "come across chart bitcoin use electricity denmark badnot apple appledenmarks gdp market cap total value transact bitcoin last yearand much revenue fee new btcanyone data"
          ],
          [
           "surprised isnt conclusive article debunk bitcoin mining energy use env unfriendly ogs know bitcoin mine efficient id like see data support ask question"
          ],
          [
           "bitcoin bnb inflation"
          ],
          [
           "highly recommend book"
          ],
          [
           "get thirsty keep give wine keep drinking become happy thirsty fked"
          ],
          [
           "amigo"
          ],
          [
           "keep hearing siri background zoom people say help sir"
          ],
          [
           "say hey cz siri pop"
          ],
          [
           "know smart sometimes get feeling must think way dumber"
          ],
          [
           "binance custody obtain cold storage insurance"
          ],
          [
           "blockchain excellent tool charity enable complete fund distribution transparency"
          ],
          [
           "minute response later find single useful response first time twitter fail way might well turn comment"
          ],
          [
           "best article clarifies crypto mining esg"
          ],
          [
           "thing go away tend grow"
          ],
          [
           "guess crypto go away"
          ],
          [
           "regulatory clarity important new virtual asset law dubai great step forward"
          ],
          [
           "bitcoin"
          ],
          [
           "good morning binance"
          ],
          [
           "hand decision"
          ],
          [
           "respect people prototype pay people build real application people use"
          ],
          [
           "binance fully reopen eur gbp deposit withdrawal"
          ],
          [
           "previously politician dont use internet wont winnow politician dont use crypto wont funding thus wont win"
          ],
          [
           "fact bank russia dozen sanction list everyones focus crypto none work crypto exchange"
          ],
          [
           "trend follower contrarian"
          ],
          [
           "chainalysis transaction involve illicit address represent crypto tx volume time low show bad guy move away crypto traceablewhat bank transaction illicit size asset bank vs cryptoanyone know"
          ],
          [
           "binance founder say cryptocurrencies help russia evade sanction cryptocurrencies guardian"
          ],
          [
           "binance charity support unicef effort help child ukraine unicef"
          ],
          [
           "meet binance intern tonight"
          ],
          [
           "base past history view future world never spot sometimes bit often way ability see future matter humility adjust quickly"
          ],
          [
           "factbanks hope follow sanction rulescrypto exchange least binance follow sanction rulesmediacrypto exchange dont sanction russia normal peoplecrypto exchange dont follow sanction rule"
          ],
          [
           "money detail work hard work team make impactful"
          ],
          [
           "read someone news think crazy meet person super nice people"
          ],
          [
           "dont late"
          ],
          [
           "basic thing crypto"
          ],
          [
           "many people never use crypto talk crypto like know dont seem know dont need exchange use cryptoall need wallet opensource software"
          ],
          [
           "war people love russian"
          ],
          [
           "supply low demand hmm"
          ],
          [
           "hello malaysia"
          ],
          [
           "everyone different world view yet still many people try force worldviews onto"
          ],
          [
           "layahheilpern great job explain bitcoin simple understand term book keep good work"
          ],
          [
           "often take week market understand"
          ],
          [
           "didnt typo"
          ],
          [
           "remember may right bitcoin halve everyone ask bitcoin price double immediately bitcoin piece"
          ],
          [
           "anyone post pic claim know supportpartnership etc treat scammersi happily take photo anyone conferences street etc dont know scammer notlearn protect"
          ],
          [
           "wont let scammer prevent take photo many good supporter"
          ],
          [
           "binance donate help humanitarian crisis ukraine binancebcf launch cryptofirst crowdfunding ukraine emergency relief fund focus provide ontheground support care people"
          ],
          [
           "money"
          ],
          [
           "blockchain shine global fundraise even strong method issue new coin future utility benefit icodonation good way let people help new coin bind people emotionally financially globally"
          ],
          [
           "team work multiple charity effort non stop moneycryptofees key issue logistics ground food fuel supply refugees place stay visa etc stay tunedbinance apolitical care people"
          ],
          [
           "sm entertainment collaborate binance businesskorea"
          ],
          [
           "cryptodad book giancarlomkts great read lot insight learn"
          ],
          [
           "contact team member ukraine today ensure safety first priority overwhelming support colleague nearby country offer transportation logistics home stay etc safuly accounted proud binancian"
          ],
          [
           "day like help people way keep building"
          ],
          [
           "people world still dont understand bitcoin"
          ],
          [
           "large korean entertainment company day adoption bnb"
          ],
          [
           "kpop bnb"
          ],
          [
           "crazy world bitcoin bnb neutral"
          ],
          [
           "see museum future dubai"
          ],
          [
           "blackpink fan"
          ],
          [
           "useless tweet"
          ],
          [
           "thing dont understand id thought unpredictable geopolitical situation would increase demand crypto either usually opportunity"
          ],
          [
           "bitcoin borderless"
          ],
          [
           "learn best protection"
          ],
          [
           "binance"
          ],
          [
           "bulgaria stock exchange list bitcoin ethereum etns"
          ],
          [
           "trustwallet support blockchains"
          ],
          [
           "people talk still understand anyone download software generate address keep use word account still early day"
          ],
          [
           "want fintech leader tomorrow allow blockchain disruption today"
          ],
          [
           "kudos jesse transparent user respect binance shoe use cex"
          ],
          [
           "crypto giant binance arm hire new compliance chief wsj"
          ],
          [
           "dex trading volume cex small defi"
          ],
          [
           "crypto increase freedom"
          ],
          [
           "new hairstyle"
          ],
          [
           "financial inclusion good thing right"
          ],
          [
           "bitcoin apolitical always neutral"
          ],
          [
           "bitcoin apolitical always neutral"
          ],
          [
           "see dubai"
          ],
          [
           "since january binance provide free crypto education africans binance masterclass"
          ],
          [
           "bnb partition chainbnb chain defi leaguebnb foundation"
          ],
          [
           "live"
          ],
          [
           "live"
          ],
          [
           "binance take crypto education nigerian university campus"
          ],
          [
           "launchpad fan token race"
          ],
          [
           "binance card"
          ],
          [
           "let post icrypto todayhappy valentine"
          ],
          [
           "value create issue coin value create people use build use case"
          ],
          [
           "new attention good adoption sure people need join space right wayi stand binance message new crypto user research trust"
          ],
          [
           "trust dyor cryptocelebalert"
          ],
          [
           "keep many thing longer need"
          ],
          [
           "hair use mammal keep warmth human longer see reason miss thing"
          ],
          [
           "feel weird talk work person remote work"
          ],
          [
           "live multiple dynamic world"
          ],
          [
           "bonjour"
          ],
          [
           "hire people smarter ceo"
          ],
          [
           "close friend cz talk forbes get deal doneme onea speak dont know thema team deal involve ask go tv take credit"
          ],
          [
           "build bnb"
          ],
          [
           "word people use hope wish predict could planwords people use execute"
          ],
          [
           "blockchain company investment forbes help build web infrastructure come year"
          ],
          [
           "like many fastgrowing innovative company binance use medium scrutiny necessary reality leader disruptive industry"
          ],
          [
           "question dms forbes editorial independence always sacrosanct strength forbes brand investment depend continued independence"
          ],
          [
           "live cnbc min"
          ],
          [
           "bitcoin bnb dont inflation"
          ],
          [
           "crypto longer niche vertical industry base layer powersfunds many industry"
          ],
          [
           "invest new old bridge cryptobinance take million stake forbes"
          ],
          [
           "let bring crypto game way around either way work"
          ],
          [
           "binance"
          ],
          [
           "learn crypto decide"
          ],
          [
           "bitcoin legally recognize russia currency"
          ],
          [
           "old tweet half joke might spot haha bitcoin"
          ],
          [
           "good book ray dalio go lot detail money work doesnt surprised keep refer gold mentioning bitcoin guess history future focus book good read everyone"
          ],
          [
           "crypto tricky sometimes"
          ],
          [
           "didnt time research detail honest question bitfinex lose make money hackif get btc back split leo holder people take loss accept leo time hack sell leo"
          ],
          [
           "crypto easy track fiat"
          ],
          [
           "bring crypto kpop way around either way work"
          ],
          [
           "indirect people waste much time"
          ],
          [
           "trust"
          ],
          [
           "thing quickly drag"
          ],
          [
           "binance"
          ],
          [
           "spend less earn learn invest difference wealth follow"
          ],
          [
           "web blockchain"
          ],
          [
           "bank dont work weekend"
          ],
          [
           "human human communication painfully slow"
          ],
          [
           "little product improvement suggest make detailed good"
          ],
          [
           "massive phishing scam via sms link cancel withdrawal lead phishing website harvest credential screenshot belownever click link sms always go"
          ],
          [
           "advertising good let responsibly super bowl call crypto bowl upstart finance firm spend million tv ad fortune"
          ],
          [
           "meet roughly people report directly person"
          ],
          [
           "watch amaze clip keep ask dont use blockchain fundraise type project push boundary human specie"
          ],
          [
           "blockchain allow global commerce"
          ],
          [
           "dyornew campaign binance urge consumer trust research"
          ],
          [
           "yield farm transaction mining airdrop decent way jump start project attract initial user base still need build real use case otherwise project wont sustainable long run"
          ],
          [
           "early adopter risk get leave behind also risk"
          ],
          [
           "cant blockchain without crypto"
          ],
          [
           "want next fintech industry flourish area embrace blockchain"
          ],
          [
           "crypto legally recognize india tax"
          ],
          [
           "fund safu billion safu insurance fund transparent address blockchain"
          ],
          [
           "say do often successful"
          ],
          [
           "happy chinese new year"
          ],
          [
           "opposite good idea also good idea rory"
          ],
          [
           "good trader might want join binance hiring"
          ],
          [
           "perfect transparent apology inconvenience thank support understanding"
          ],
          [
           "binance nowhere near cod standard team require build regardless haha"
          ],
          [
           "fine saturday write python code first time cod year rusty pun intend"
          ],
          [
           "binance live new product everyday buidl"
          ],
          [
           "liquidity accessibility"
          ],
          [
           "imagine access internet imagine access blockchain"
          ],
          [
           "future decentralize bnb binance"
          ],
          [
           "liquidity king"
          ],
          [
           "nowadays fund invest startup fund invest startup"
          ],
          [
           "way many todo list"
          ],
          [
           "binance"
          ],
          [
           "two exemployers troll twitter follow back adoption"
          ],
          [
           "poor"
          ],
          [
           "tweet come chat friend habit read news every morning like would waste high quality hour thing important"
          ],
          [
           "less know trivia mei read newsi check emailsi check ims except onebeen like year life seem fine never miss much tend get do"
          ],
          [
           "drama execute"
          ],
          [
           "might follower soon"
          ],
          [
           "vitalikbuterin thank time last month let build together eth bnb"
          ],
          [
           "everyone want time limited resource"
          ],
          [
           "build service protect user dont get distract"
          ],
          [
           "suspect bad guy create account bank crypto exchange bank ok crypto exchange badbinance use strong aml tool banksbinance help law enforcement agency world wide case get many thank letter"
          ],
          [
           "fud journalist talk people let go binance partner work try smear focus antimoney laundering transparent welcome regulation action speak loud word thank unwavering support"
          ],
          [
           "binance officially launch trading service connecticut"
          ],
          [
           "cool"
          ],
          [
           "binance world large cryptocurrency platform join aliança portuguesa de blockchain nonprofit association include among company microsoft vodafone bbva everis major law firm operate portugal"
          ],
          [
           "people ask crypto"
          ],
          [
           "finish live interview cnbc talk bitcoin one mention bnb"
          ],
          [
           "guest appearance push crypto adoption everywhere"
          ],
          [
           "binance becomes first company crypto blockchain industry join national cyberforensics train alliance ncfta"
          ],
          [
           "raise money project much easy use crypto"
          ],
          [
           "dubai"
          ],
          [
           "million usd equivalent burn bnb deflationary"
          ],
          [
           "people want crypto"
          ],
          [
           "bitcoin mine hash rate recover hit ath"
          ],
          [
           "epic"
          ],
          [
           "bnb"
          ],
          [
           "meet great people"
          ],
          [
           "control money control wealth bitcoin"
          ],
          [
           "photographer cz"
          ],
          [
           "tell little secret"
          ],
          [
           "dont worry title focus"
          ],
          [
           "nice binance afcon"
          ],
          [
           "bnb"
          ],
          [
           "binance lab back oasis ecosystem fund"
          ],
          [
           "binance incorporates alberta hire exsecurities regulator canadian strategy financial post"
          ],
          [
           "binance tap former government official russia ukraine post"
          ],
          [
           "let work together keep industry clean"
          ],
          [
           "live interview fox news yesterdaytopicsdont worry wealth estimateschinaregulationgrowth adoption minute total"
          ],
          [
           "sponsor organic binance spot"
          ],
          [
           "content crypto user"
          ],
          [
           "live fox business minute sure link though"
          ],
          [
           "get new bookshelf book get"
          ],
          [
           "cant beat inflation wont fight crypto"
          ],
          [
           "spot binance"
          ],
          [
           "bald bold hold"
          ],
          [
           "launchpad"
          ],
          [
           "cz faq make binance successful binance blog"
          ],
          [
           "unpopular opinion instead wealth ranking rank charity philanthropy effort"
          ],
          [
           "intern job writer fortune"
          ],
          [
           "quote friend talk today"
          ],
          [
           "believe decentralization"
          ],
          [
           "finish speak oddo bhf digital forum talk lot bnb crypto"
          ],
          [
           "binance"
          ],
          [
           "dont worry ranking focus many people help"
          ],
          [
           "software eat world crypto sponsor world"
          ],
          [
           "let bring sport crypto crypto world"
          ],
          [
           "binance"
          ],
          [
           "bnb burn info real time"
          ],
          [
           "make useful use"
          ],
          [
           "binance take step right direction compliance mechanism ambcrypto"
          ],
          [
           "fancy ppts waste time use bullet point bar chart"
          ],
          [
           "credibility ultimate currency earn itprotect itdeserve"
          ],
          [
           "guy say gotta really smarti show calendarawkward silence moment"
          ],
          [
           "use"
          ],
          [
           "invest industry"
          ],
          [
           "trade look price really really good trader winif hold look utility growth well life lot simpler"
          ],
          [
           "happy birthday bitcoinstill teen yet early day"
          ],
          [
           "perfect still lot room improve let continue build"
          ],
          [
           "master blockchain crypto nuclio digital school binance"
          ],
          [
           "work hard good others well"
          ],
          [
           "binance hasnt list anything year list"
          ],
          [
           "happy new year binance"
          ],
          [
           "happy new year"
          ],
          [
           "receive feedback keep work new year binance user"
          ],
          [
           "rain dubai"
          ],
          [
           "checked"
          ],
          [
           "altcoin bnb smoke bitcoin ether gain year strait time"
          ],
          [
           "learn crypto self destructive"
          ],
          [
           "elevator without close door button feel serve press anything wtf"
          ],
          [
           "people use crypto"
          ],
          [
           "life simple hodlbnb btc"
          ],
          [
           "like joe"
          ],
          [
           "year ago today bnb eth busy last year"
          ],
          [
           "bahrain little crypto company"
          ],
          [
           "risk warn invest portfolio new crypto take slow"
          ],
          [
           "want waste time use internetif want improve finance use crypto"
          ],
          [
           "follow user"
          ],
          [
           "pay crypto much easy learn use"
          ],
          [
           "tide turn"
          ],
          [
           "boom binance award inprinciple approval cryptoasset service provider kingdom bahrain binance support"
          ],
          [
           "dont plan adapt go flow"
          ],
          [
           "protect user"
          ],
          [
           "cz faq binance embrace regulation binance blog"
          ],
          [
           "box day"
          ],
          [
           "let get adoption"
          ],
          [
           "bnb"
          ],
          [
           "binance moscow"
          ],
          [
           "crypto gift card binance may best gift give love one christmasthey remember thank year come"
          ],
          [
           "christmas eve team dinner way meet couple twitter friends supporter never meet excited work great life thankful"
          ],
          [
           "merry christmas bnb"
          ],
          [
           "many people include senior official talk dont understand important entrepreneur issue coin explain usually whole new perspective crypto important future economy"
          ],
          [
           "binance late agreement show dubai fast become crypto hub"
          ],
          [
           "binance sign dubai deal work international crypto framework garage business time"
          ],
          [
           "big step bnb move close dao structure exchange coinopen transparent burn algorithm base blockchain activity calculate real timefirst industry exchange token lead"
          ],
          [
           "dont enter exclusive contractsbinance"
          ],
          [
           "bnb big binance"
          ],
          [
           "term condition apply also way enter see link detail"
          ],
          [
           "want make wish binance user come true holidayshow share wishretweetfollow binance czbinancetweet wish hashtags mycryptowish binance tag friendour team pick winner bonus point creativity"
          ],
          [
           "tell rich allow invest youd piss rightok accredit investor investhow become accredit investoryou rich protection"
          ],
          [
           "keep building bnb"
          ],
          [
           "dubai"
          ],
          [
           "thought cbdcs get ask lot write"
          ],
          [
           "dubai world trade centre become comprehensive zone regulator virtual asset crypto"
          ],
          [
           "dubai world trade centre become comprehensive zone regulator virtual asset crypto"
          ],
          [
           "thing matter much like hair"
          ],
          [
           "get inspire meme thread"
          ],
          [
           "believe fake news poor"
          ],
          [
           "congratulation justinsuntron appointment ambassador grenada wto crypto og turn ambassador nation let keep go"
          ],
          [
           "winner announce thread"
          ],
          [
           "fake news fud sg ignoretruth binance commit help make sg crypto hub asia"
          ],
          [
           "hope get shake"
          ],
          [
           "respect hustler"
          ],
          [
           "adoption continue binance partner indonesian telco develop new crypto exchange"
          ],
          [
           "crypto adoption progress people heard crypto still really understand yet idea full potential crypto still early day"
          ],
          [
           "trail blazer lead"
          ],
          [
           "user protection measuresproject shield part binance ongoing effort protect user provide access secure project"
          ],
          [
           "intern send"
          ],
          [
           "launchpadnow bnb commit already"
          ],
          [
           "see binance sock"
          ],
          [
           "think guy buy dip get lucky never easy"
          ],
          [
           "endless opportunity work"
          ],
          [
           "congrats nice hair cut man elonmusk"
          ],
          [
           "log scale ladder"
          ],
          [
           "do want get clarification recent news tune watch"
          ],
          [
           "live bloomberg minute"
          ],
          [
           "abu dhabi crazy"
          ],
          [
           "clarification binance make sizable investment regulate exchange hgx last week investment make application somewhat redundant continue work partner grow crypto industry singapore onwards"
          ],
          [
           "read news together one last week different path destination binance acquires stake singaporeregulated hg exchange company market news top story straits time"
          ],
          [
           "dont strategize focus part"
          ],
          [
           "turned radio first time year heard host talk hodl world change"
          ],
          [
           "secret binances success binance angel"
          ],
          [
           "love ai doesnt want"
          ],
          [
           "learn manage risk"
          ],
          [
           "probably werent allow invest internet company seed round reason"
          ],
          [
           "глава криптобиржи binance чанпэн чжао не покупайте то чего не понимаете риа новости"
          ],
          [
           "try improve tiny bit every day learn something change small habit try something new every day get lucky"
          ],
          [
           "go exit crypto positionme crypto exit"
          ],
          [
           "heard bit bsc team future plan"
          ],
          [
           "sell bitcoin cheap saylor always buy panic sell"
          ],
          [
           "follower count follow bitcoin chart seem begin year"
          ],
          [
           "binance acquires stake singaporeregulated hg exchange"
          ],
          [
           "incident happen outside binance help one loyal community member track fund"
          ],
          [
           "protect user"
          ],
          [
           "whats thing think understand others dont"
          ],
          [
           "yellow hoodie want want want"
          ],
          [
           "new productbusiness whole new level security institutional readiness"
          ],
          [
           "never meet bitcoin person need everyone else like"
          ],
          [
           "binance give away crypto gift card christmas stay tune"
          ],
          [
           "old less hair new profile pic"
          ],
          [
           "sure guy remember btc around year ago every dip accompany article like bitcoin use drug lord crash"
          ],
          [
           "still buidling bnb"
          ],
          [
           "type bnb doc type bnb use much twitter"
          ],
          [
           "binance"
          ],
          [
           "sure"
          ],
          [
           "best thing cut hair normally see"
          ],
          [
           "head state tweet see"
          ],
          [
           "covid resilience rank best bad place"
          ],
          [
           "understand"
          ],
          [
           "sell company equity someone dollar company worth issue coin supply sell someone dollar trillion dollar coin valuation without liquidity mean much"
          ],
          [
           "term condition apply see link detail"
          ],
          [
           "im give away doge tesla doge wantto enterretweetfollow elonmusk binance czbinancehave kycd binance accounttweet prize want hashtags dogeortesla binanceour favorite answer team win"
          ],
          [
           "bitcoin never"
          ],
          [
           "get cab driver say cz professor talk lot follow twitter thanks much crypto world floor"
          ],
          [
           "probably nothing"
          ],
          [
           "chat crypto people fascinate"
          ],
          [
           "unpopular opinion center universewe lucky participates make litter bit well"
          ],
          [
           "risk tolerance maximum amount lose without feel bad impacting life style never invest"
          ],
          [
           "follow people investment advice especially public one know specific situation risk tolerance different everyone else"
          ],
          [
           "buidl relentlessly bnb"
          ],
          [
           "unpopular opinion new industry startup success depend much industry succeed startup ie depend competitor succeed success undermine competitor understand"
          ],
          [
           "say without give reason improve"
          ],
          [
           "follow"
          ],
          [
           "meet ivan longestserving binance angel"
          ],
          [
           "good meet finally even voice"
          ],
          [
           "also many genuine people work hard progress innovation"
          ],
          [
           "lot scammer internet look comment learn protect"
          ],
          [
           "human sync information head speed talk slow"
          ],
          [
           "doge update work hard reopen withdrawal"
          ],
          [
           "another day another ath bsc know know"
          ],
          [
           "binance smart chain onchain activity explodes ahead bruno upgrade november"
          ],
          [
           "live video interview yahoo finance min schedule day ago wonder ask"
          ],
          [
           "one team inteam chat"
          ],
          [
           "fairly accurate description happen doge transparent shady thank"
          ],
          [
           "try predict future fight either go along"
          ],
          [
           "need body sleep less"
          ],
          [
           "binance binancefantoken"
          ],
          [
           "list"
          ],
          [
           "early day people use describe amazon digital version barn noblelater people use describe amazon digital version walmart"
          ],
          [
           "book"
          ],
          [
           "read book warren buffett clear one know value stock decade ago maybe even today modelsformulae represent true value calculation arrive one opinion"
          ],
          [
           "change air"
          ],
          [
           "thing risk thing usually big risk"
          ],
          [
           "weve notice small problem causing withdrawal fail work itif withdrawal fail please resubmit withdrawal request sorry inconvenience"
          ],
          [
           "support layer support multiple blockchains inclusive platform"
          ],
          [
           "live bloomberg conference minute"
          ],
          [
           "careful wish"
          ],
          [
           "qa binance ceo bubble meme coin cryptos swing"
          ],
          [
           "busy useful busy bnb"
          ],
          [
           "meet person well live tv flacqua"
          ],
          [
           "old bos bos mr bloomberg ask hope offend ask selfie say would offend great dude"
          ],
          [
           "also talk decentralized organization meet person like hmm meet lot people person"
          ],
          [
           "pm lee mention nft bitcoin gala dinner min ago photo take"
          ],
          [
           "get ig account back thank"
          ],
          [
           "bsc ath txs daily active address user"
          ],
          [
           "many many dip correction bearbull market regardless technology industry continue grow"
          ],
          [
           "bloomberg interview"
          ],
          [
           "binance"
          ],
          [
           "way explain crypto newcomer"
          ],
          [
           "thank follow"
          ],
          [
           "would love blue tick get greedy"
          ],
          [
           "instagram account lock minute give account detail intern week ago anyone know anyone ig help unlock tried official channel luck dont direct channel zuck instagram id changpengzhao"
          ],
          [
           "first ad ever financial time"
          ],
          [
           "binance plan welcome next billion crypto user"
          ],
          [
           "live"
          ],
          [
           "live cnbc minute"
          ],
          [
           "coinmarketcap visit website world accord alexa"
          ],
          [
           "crypto never sleep"
          ],
          [
           "comment twitter useful agree"
          ],
          [
           "learn something new today study earn damn"
          ],
          [
           "spent week france super impress vibrant tech ecosystem talent president macron incredible job much come"
          ],
          [
           "marketing team send binance taxi ukraine"
          ],
          [
           "cto say look internet would probably fire spot cfo look"
          ],
          [
           "spend time attack people spend time people hateinstead spend time building product spend time yourselfsome people still get thistime limited resource"
          ],
          [
           "binance become world large exchange logo color yellow rightme hmm fancyhow basic product service protect usersthere secret sauce"
          ],
          [
           "season extremely well include best project go binance launchpad"
          ],
          [
           "crypto change sport economy"
          ],
          [
           "keep building"
          ],
          [
           "let make trend"
          ],
          [
           "bitcoin"
          ],
          [
           "manchester"
          ],
          [
           "binancebcf blockchain technology help combat modernday slavery"
          ],
          [
           "binanceforall binance"
          ],
          [
           "worry competition make industry big turn help embrace"
          ],
          [
           "probably big deal"
          ],
          [
           "person ama hour see"
          ],
          [
           "kpop nft always secret fan"
          ],
          [
           "fight technology innovation stop"
          ],
          [
           "normal expect dont get overly excited keep building"
          ],
          [
           "want help person day give crypto want help person life time teach crypto"
          ],
          [
           "price take short term analysis approach take slightly longer onebitcoin halve year agodefinftsgamefifan tokensand course etfs much"
          ],
          [
           "surprised didnt ask price"
          ],
          [
           "look like live bloomberg tv london minute put binance polo shirt"
          ],
          [
           "gm"
          ],
          [
           "hate anyone invent tie"
          ],
          [
           "bnb"
          ],
          [
           "ask waiter bill ask back coin"
          ],
          [
           "bnb"
          ],
          [
           "fast quality faster qualityand win"
          ],
          [
           "help grow every blockchain"
          ],
          [
           "probably nothing"
          ],
          [
           "begin scratch surface full potential blockchain"
          ],
          [
           "game"
          ],
          [
           "binance"
          ],
          [
           "follow user"
          ],
          [
           "bsc active address yesterday blockchains"
          ],
          [
           "fomo please"
          ],
          [
           "many museum paris unfathomable much nft"
          ],
          [
           "cofounder binance heyibinance talk regulation global growth crypto market firm search physical headquarters mktsinsider"
          ],
          [
           "binance team member meet say cz happy meet work binance year guy meet person decentralization downside"
          ],
          [
           "brag crypto come long way people meet ups coffee shop livestreaming event directly ministry economy finance keep building"
          ],
          [
           "always big bos"
          ],
          [
           "wifiinternet still dont work well times year build take time focus long term"
          ],
          [
           "nation become leader crypto win simple"
          ],
          [
           "defaultmetaverse crypto bnb"
          ],
          [
           "nan"
          ],
          [
           "fund safu"
          ],
          [
           "new intern listing team brilliant"
          ],
          [
           "photo snowbird utah year ago old"
          ],
          [
           "old photo friend immediately point binance logo come"
          ],
          [
           "want king simple treat user god"
          ],
          [
           "much build"
          ],
          [
           "focus long term"
          ],
          [
           "launchpool"
          ],
          [
           "business communication tip distill message important point say concise manner possible make everything much easy"
          ],
          [
           "voilà"
          ],
          [
           "bonjour"
          ],
          [
           "industry grow"
          ],
          [
           "buy van toyota alphard longer say car"
          ],
          [
           "flatter floor humbled thank"
          ],
          [
           "lot fud around coinmarketcap best knowledge leak cmc partial match email password likely collect mail list etc still investigate"
          ],
          [
           "btc"
          ],
          [
           "top bnb burn commit binance may understand burn make even attractive"
          ],
          [
           "dont late"
          ],
          [
           "billion yesterday binance"
          ],
          [
           "first minute trade lazio usd worth trading increase price launchpad give close billion market capa new chapter begin fan token"
          ],
          [
           "dont get distract keep building"
          ],
          [
           "lazio fan token participate launchpad project ever trading start minute"
          ],
          [
           "expect high volatility crypto next month"
          ],
          [
           "billion trade yesterday binance"
          ],
          [
           "risk management ready enjoy best case ready handle bad case invest lose"
          ],
          [
           "ever sell bitcoin"
          ],
          [
           "ath"
          ],
          [
           "people still bitcoin"
          ],
          [
           "good morning"
          ],
          [
           "ever doubt"
          ],
          [
           "take usd worth bnb circulation permanently"
          ],
          [
           "smell bnb"
          ],
          [
           "happy talk anyone conferences self intro great please pitch project work conference environment look project anyway"
          ],
          [
           "subscribe break fix subscribe disrupt disruptedthe world change fast day"
          ],
          [
           "dont put one leg especially stage"
          ],
          [
           "win officialsslazio"
          ],
          [
           "good morning humble"
          ],
          [
           "work pleasureme"
          ],
          [
           "thank come binance meetup today great see long"
          ],
          [
           "see trend"
          ],
          [
           "finish ama come back later hang want disrupt flow meetup"
          ],
          [
           "yalla join"
          ],
          [
           "burn bnb"
          ],
          [
           "always opportunities future pastdont worry miss opportunitiesdont worry small temporary setbacksideas worthlessexecution keybuild"
          ],
          [
           "yalla"
          ],
          [
           "issue future small number user affect compensate loss incur affect detail announcedcommunicated"
          ],
          [
           "sit beside eljaboom dinner meet person rock finally put face name thank support always"
          ],
          [
           "nan"
          ],
          [
           "bitcoin pretty close though"
          ],
          [
           "bitcoin limit supply asset time"
          ],
          [
           "officialsslazio"
          ],
          [
           "gotta love jersey"
          ],
          [
           "work hard build bnb"
          ],
          [
           "fan token"
          ],
          [
           "crypto cex icoieo defi nfts gamefi metaverse whats next"
          ],
          [
           "billion reason buidl bsc"
          ],
          [
           "coin list increase pair next"
          ],
          [
           "price swing technology innovation progress one direction focus long term bitcoin"
          ],
          [
           "irresponsible learn blockchain"
          ],
          [
           "try"
          ],
          [
           "keep simple keep fast"
          ],
          [
           "need"
          ],
          [
           "first bitcoin"
          ],
          [
           "inshallah"
          ],
          [
           "binance academy available arabic"
          ],
          [
           "interesting discussion put embassy metaverseimmersive experienceeasier access globallytrendy next generationblockchain level authenticitymuch low cost physical buildingswhat else"
          ],
          [
           "coinmarketcap top website world rank alexa thank support"
          ],
          [
           "binance world big cryptocurrency exchange hire former internal revenue service special agent work digitalasset world highprofile investigation"
          ],
          [
           "blockchain future presentquoting traditional investor meet todaydon leave behind"
          ],
          [
           "binance launchpad"
          ],
          [
           "year ago month bitcoin make ath sept crash sept rest well know"
          ],
          [
           "binancesmartchain"
          ],
          [
           "begin spot wild"
          ],
          [
           "purpose single plural typo"
          ],
          [
           "everybody need purpose"
          ],
          [
           "esop typically vest year period usually dont liquidity ipo usually take year best tokens different liquidity soon unlock"
          ],
          [
           "unpopular opinion project founder token unlock year period shorter ie year definitely year period must long term commitment"
          ],
          [
           "yesterday action take treasury department bulletproof exchanger like suex positive development industry future trajectory crypto"
          ],
          [
           "binance partner law enforcement agency across globe daily basis stamp illicit activity crypto ecosystem confident sophisticated process technology place identify thwart bad actor industry"
          ],
          [
           "imperative industry continue partner regulator law enforcement pursuit mutual goal create secure ecosystem user today announcement sign industry stay"
          ],
          [
           "long run call dip"
          ],
          [
           "live"
          ],
          [
           "happy mid autumn moon festival"
          ],
          [
           "still one give away"
          ],
          [
           "bitcoin never anyone"
          ],
          [
           "legend"
          ],
          [
           "bullish"
          ],
          [
           "dont get distract noise"
          ],
          [
           "nan"
          ],
          [
           "invest industry blockchain agnostic"
          ],
          [
           "success get involve"
          ],
          [
           "ama use livestream miniapp binance mini program market place screenshot colleague focus talk thank tune thank support"
          ],
          [
           "ama binance live later today"
          ],
          [
           "live world bad discriminate base color age sex etc ok label someone accredit investor default assumption like say someone smart enough invest manage finance education need"
          ],
          [
           "binance coin return whop financial mirror"
          ],
          [
           "panic"
          ],
          [
           "gocrypto binance pay alliance could boost crypto mass adoption"
          ],
          [
           "red pill always"
          ],
          [
           "last week saw traffic user customer support number close ath let see follow"
          ],
          [
           "bitcoin continue grow"
          ],
          [
           "language add coinmarketcap mobile app last weekportuguesehindichinese traditionalpolishukrainian"
          ],
          [
           "send crypto friend get easy binance pay directly binance app"
          ],
          [
           "nfts create next renaissance art period"
          ],
          [
           "happy birthday binancetr"
          ],
          [
           "much misinformation world believe everything read quite poor"
          ],
          [
           "news binance ban sgfacts binance singapore independent entity operate singapore operate specific exemption ma go license application process"
          ],
          [
           "go live cnbc street sign asia minute wait room probably interesting question"
          ],
          [
           "russian state hermitage raise via binance nft auction"
          ],
          [
           "dont panic likely regret thing panic include panic sell call panic sell reason"
          ],
          [
           "let support decentralize future exchange future"
          ],
          [
           "regardless people panic sell still work build use case crypto"
          ],
          [
           "fun one coauthor bill ukraine wear binance hoodie"
          ],
          [
           "today verkhovna rada ukraine parliament adopt draft law virtual asset regulate operation cryptoregulatory clarity crypto undoubtedly bullish space thanks ukraine"
          ],
          [
           "dexes switch bsc infrastructure"
          ],
          [
           "successful trader need handle two emotion greed fear"
          ],
          [
           "far country world use crypto legal tender beginning"
          ],
          [
           "message keep go binance"
          ],
          [
           "people force use currency unlimited supply print arbitrarily dont complainwhen force use currency limit supply cant print arbitrarily complain"
          ],
          [
           "people force use currency unlimited supply print arbitrarily small group people dont complainwhen force use currency limit supply cant print arbitrarily complainstill early day"
          ],
          [
           "never enough people much"
          ],
          [
           "week binance aug sep binance blog"
          ],
          [
           "invest risk invest also risk cant avoid risk worldlearn risk management"
          ],
          [
           "bitcoin binance"
          ],
          [
           "woke good morning"
          ],
          [
           "sg user please use"
          ],
          [
           "clear binance"
          ],
          [
           "may restriction sg user binance com dont make rule ma follow ask understandingif happen always grace period cancel orderspositions withdrawal fund always safu"
          ],
          [
           "honestly still ton room improve service user simultaneously realtime trading platform easy try thank feedback keep go even sunday"
          ],
          [
           "axie infinity ax binance launchpad project help build industry gamefi"
          ],
          [
           "gm"
          ],
          [
           "binance"
          ],
          [
           "make sure one lose limit downside one win unlimited upside"
          ],
          [
           "crypto smooth love potion"
          ],
          [
           "bitcoin adoption cool"
          ],
          [
           "sorry wrong link july upstairs right link"
          ],
          [
           "solve problem build product people use bnb"
          ],
          [
           "july"
          ],
          [
           "interest exclude binance data graph aug make rest chart readable"
          ],
          [
           "june"
          ],
          [
           "id like thank support binance market share continue grow last monthsjune much little bit time earn user trust key thread"
          ],
          [
           "think slide mean internal"
          ],
          [
           "favorite hashtags trend bitcoin binance metaverse nfts"
          ],
          [
           "metaverse real real economy real money"
          ],
          [
           "unpopular opinion dont ape research"
          ],
          [
           "sorry team say asia"
          ],
          [
           "heard somewhere south america bnb"
          ],
          [
           "bookstore laugh website"
          ],
          [
           "binancesmartchain le year old"
          ],
          [
           "accumulate"
          ],
          [
           "shine binance"
          ],
          [
           "welcome"
          ],
          [
           "never worry protect idea worth anything execution matter bnb"
          ],
          [
           "use case bnb"
          ],
          [
           "poor people try say bad thing binance proven wrong short period time action binance take get people waste time energy reputation like"
          ],
          [
           "apparently international dog day"
          ],
          [
           "yes tweet live streaming"
          ],
          [
           "whether know already live one metaverse"
          ],
          [
           "live"
          ],
          [
           "experience data center issue affect user team fix soon"
          ],
          [
           "solve problem move forward bnb"
          ],
          [
           "positive progress one small step time slowly surely bnb"
          ],
          [
           "august update june fca impose requirement binance market limit firm comply aspect requirement"
          ],
          [
           "shill"
          ],
          [
           "need less meeting think"
          ],
          [
           "build slowly surely bnb"
          ],
          [
           "careful wish bnb"
          ],
          [
           "crypto live video stream"
          ],
          [
           "let use next ama"
          ],
          [
           "make pivot crypto traditional finance company easy one dont leave behind good see visa make transition"
          ],
          [
           "good morning"
          ],
          [
           "binance tap former sgx chief regulatory officer singapore ceo"
          ],
          [
           "like number start right"
          ],
          [
           "richard teng year mas director year sgx chief regulatory officer year adgm ceonow ceo binance singapore welcome"
          ],
          [
           "want rich dont ignore moneyif want rich free dont ignore crypto"
          ],
          [
           "busd voucher verify account binance"
          ],
          [
           "begin"
          ],
          [
           "bnb price year ago"
          ],
          [
           "start weekly yoga class last sunday almost puked shape"
          ],
          [
           "bitcoin neutral"
          ],
          [
           "work hard get lucky"
          ],
          [
           "issue complete kyc binance start chat cs team drop case id always work improve product"
          ],
          [
           "binance australia win digital currency gong finder innovation award restrict derivative option stockhead"
          ],
          [
           "let go home meet metaverse"
          ],
          [
           "look forward"
          ],
          [
           "mandatory kyc service binanceaction speak loud word"
          ],
          [
           "think internet well way send mail"
          ],
          [
           "action speak loud fud"
          ],
          [
           "launchpool"
          ],
          [
           "binance appoints former treasury enforcer antimoney launder role coindesk"
          ],
          [
           "vogue nfts binances helen hai everything need know"
          ],
          [
           "credibility always worth credit money haveearn protect"
          ],
          [
           "credibility always worth credit haveearn protect"
          ],
          [
           "video live streaming mini app binance app market place dont even know make maybe try next time"
          ],
          [
           "work life balance find something give life purpose work"
          ],
          [
           "binanceangel community volunteer pay help user retrieve fundsa competitorpeer say recently binanceangel program killer weapon cant replicate thank angel"
          ],
          [
           "finish detailed question regulation etc"
          ],
          [
           "live bloomberg minute"
          ],
          [
           "doubt learn understand risk know knowbitcoin"
          ],
          [
           "mvb season come secure infra gamefi advance defi legos new focus building infinite game"
          ],
          [
           "binance support new payment method african country binance support"
          ],
          [
           "good morning"
          ],
          [
           "bitcoin doesnt force anything"
          ],
          [
           "choose interest choses youlearn work hard ready lucky"
          ],
          [
           "let river run bitcoin"
          ],
          [
           "happy independence day india"
          ],
          [
           "money make lose short term wealth build long run learn consistently accumulate"
          ],
          [
           "follow"
          ],
          [
           "impartial coinmarketcap see two number bottom right"
          ],
          [
           "build adoption bnb"
          ],
          [
           "slight delay withdrawal open work itfunds safu"
          ],
          [
           "get back work"
          ],
          [
           "something keep busy upgrade market wont move much word safu come"
          ],
          [
           "big upgrade fund safu"
          ],
          [
           "poorly help"
          ],
          [
           "technology right right"
          ],
          [
           "poor guy spend time energy create problem others guy solve problem"
          ],
          [
           "bottom line good hacker responds publicly hope hedo right thing"
          ],
          [
           "midnight cant sleep much build"
          ],
          [
           "bad either nft"
          ],
          [
           "coinmarketcap color chart build"
          ],
          [
           "solve problem build bnb"
          ],
          [
           "typo"
          ],
          [
           "cex ceo busy defi get hack try help cant freeze fund blockchains fund land cex binance try freeze lot blockchain analysis nothing easy try"
          ],
          [
           "unpopular opinion nothing risk free educationlearning best protection read learn risk manage itstay safu"
          ],
          [
           "fiat safer well different judgement inflation high fee bank prevent spending money"
          ],
          [
           "people freeze fund blockchain well depend smart contract write guess even native blockchains without smart contract risk attack kinda tabooed word industry read"
          ],
          [
           "big defi hack bring controversial topic cex defi safer well different different risk characteristic learn use safely use read previous tweet"
          ],
          [
           "long article still miss defi smart contract risk might good time read keep crypto safu czs tip binance blog"
          ],
          [
           "aware"
          ],
          [
           "let go"
          ],
          [
           "congrats sirbitt become ambassador barbados united arab emirates uaefew people know significant contribution crypto people need know"
          ],
          [
           "everyone need learn bitcoin"
          ],
          [
           "live cnbc minute"
          ],
          [
           "nan"
          ],
          [
           "wow well do"
          ],
          [
           "happy national day singapore"
          ],
          [
           "binance smart chain beat ethereum metric thanks late gamefi craze coindesk"
          ],
          [
           "tokenized art state hermitage museum include leonardo da vinci feature binance nft marketplace keep building"
          ],
          [
           "brians work"
          ],
          [
           "short term pain apology long term gain leading volume lead compliance"
          ],
          [
           "new binance user hong kong longer open future account winddown access exist usersthis one many proactive measure binance take help establish crypto compliance best practice worldwide"
          ],
          [
           "binance pivot reactive compliance proactive compliance stay tune"
          ],
          [
           "word dont say crypto"
          ],
          [
           "market say"
          ],
          [
           "another"
          ],
          [
           "fuds die bitcoin"
          ],
          [
           "binance bring bitcoin payment shopify via new partnership"
          ],
          [
           "gamefi way beyond virtual coin buy asset game heavily integrate every aspect game spend earn exchange player acquisition retention everything power cannot ignored game maker go forward"
          ],
          [
           "defi full exchange run blockchain line code without human intervention simplicity beautiful"
          ],
          [
           "probably simplify life factor become productive process"
          ],
          [
           "btc btcits everything else thats volatile"
          ],
          [
           "reason trader fail avoid binance blog"
          ],
          [
           "fund without ability allocate crypto go significant disadvantage"
          ],
          [
           "cant stop bitcoin talk badly talk spread"
          ],
          [
           "compare use crypto fiat send money internationally know differencelower feesfastereasier"
          ],
          [
           "active trader yes please stay chart rest zoom hodl"
          ],
          [
           "cryptocurrency take way pay vacation getaway disclaimer minority investor"
          ],
          [
           "tough time make hero proverb"
          ],
          [
           "expert think find soon enough"
          ],
          [
           "defi gamefi grow"
          ],
          [
           "binancesmartchain handle transaction yesterdayethereum handle"
          ],
          [
           "regulatory compliance must decision lead market access adoption lesscrypto adoption probably around let go get onboard"
          ],
          [
           "sometimes small setback necessary big long term growth keep building bnb"
          ],
          [
           "advisor project project claim scam stay safu"
          ],
          [
           "bitcoin digital real estate udiwertheimer"
          ],
          [
           "binance lab invest nft creatives production company nfkings cryptoninjas"
          ],
          [
           "crypto alter gaming landscape"
          ],
          [
           "gamefi binancesmartchain bnb"
          ],
          [
           "many thing world weird keep buidling bnb"
          ],
          [
           "usually precursor"
          ],
          [
           "love binancesmartchain"
          ],
          [
           "always hire ceosi dont need ceo leave always find way contribute community behind logo tattooed forearmi proud member binance ecosystem let keep grow"
          ],
          [
           "misquote another thread ceosthere immediate plan replace ceoiwe would much like hire strong compliance background ceo show commitment compliance top priority organizationmore"
          ],
          [
           "ceo contingency planning start day rolei feel ceos stay year ideally around year live dynamic world need new think president serve year"
          ],
          [
           "actively hire leadership regulatory compliance experiencethere immediate plan replace ceo journalist like misquote always humbly invite everyone binance outside raise hand job"
          ],
          [
           "come stay tune binance ready assist regulator around world together find optimal way set fair play field consumer protection important want create sustainable ecosystem around blockchain technology"
          ],
          [
           "share earlier week binance future limit new future account open within past day leverage july july extend limit account open within past day"
          ],
          [
           "launch new tax reporting tool api use track crypto activity connect third party tax vendor streamline reporting requirement"
          ],
          [
           "commenced process license approval exist legal framework crypto exchange include ongoing work across asiapacific emea latin americawe actively work regulator cryptospecific framework introduce"
          ],
          [
           "enhance kyc effort leadership areadaily withdrawal limit adjust btc btc roughly usd account pass basic account verification"
          ],
          [
           "binance continue adapt new regulation order best serve user actually thing announce come"
          ],
          [
           "thread host press conference share active step take build upon effort compliant local regulation everywhere like share update"
          ],
          [
           "every time turn comment many czs commentsi follow people guess"
          ],
          [
           "binance say want license everywhere reuters"
          ],
          [
           "fiat crypto bitcoin energy efficient money network"
          ],
          [
           "binance smart chain create million bug bounty fund tighten protocol security technology bitcoin news"
          ],
          [
           "binance australia partner koinly tax report ato ramp compliance"
          ],
          [
           "intern tell liampayne snoopdogg parishilton big follower follow back immediately thank support"
          ],
          [
           "interest transformation necessary one"
          ],
          [
           "think get invited nft poker thingy philivey crazy hope last one hand"
          ],
          [
           "year ago binance ceo predict amazon coin come sooner later ethereum world news"
          ],
          [
           "binance future start limit new user max leverage last monday jul day ago didnt want make thingyin interest consumer protection apply exist user progressively next weeksstay safu"
          ],
          [
           "ok minute seem"
          ],
          [
           "live"
          ],
          [
           "binance nft marketplace launch golden ticket nft virtue poker tournament phil ivey vince vaughn others dailycoin"
          ],
          [
           "seascape network binance nft release exclusive zombie mystery box nfts"
          ],
          [
           "heard bank get crypto"
          ],
          [
           "live mintues"
          ],
          [
           "bitcoin value binance academy"
          ],
          [
           "key difference stablecoins learn mange risk"
          ],
          [
           "first native international currency"
          ],
          [
           "link see video talk"
          ],
          [
           "market like play emotion"
          ],
          [
           "binance"
          ],
          [
           "remember year ago worry bitcoin drop"
          ],
          [
           "cryptocurrency platform binance focus compliance amid global scrutiny ceo bank news top story straits time"
          ],
          [
           "million follower tiktok magician launch first set nonfungible token nfts binance nft platform june"
          ],
          [
           "time crypto guess debate may could bitcoin worth dollar sustainable"
          ],
          [
           "bitcoin fail may price time fail"
          ],
          [
           "say tweet midnight sunday good social engagement let prove wrong"
          ],
          [
           "begin new chapter await embrace compliance regulation"
          ],
          [
           "never easy"
          ],
          [
           "build dex super popular yet binancesmartchain many dexes"
          ],
          [
           "one still progress"
          ],
          [
           "deliver one get discount year onwards never lower"
          ],
          [
           "ramp schedule one guess"
          ],
          [
           "damn even deliver one proud"
          ],
          [
           "look back pro improve time"
          ],
          [
           "always international always wide coverage"
          ],
          [
           "year believe binance tick box white paper year ago"
          ],
          [
           "summary bnb usd burn binancethe remain bnb unlock move team address accord schedule white paperbinance team never use sell single team bnb thus far burn"
          ],
          [
           "bnb"
          ],
          [
           "bnb probably couldnt even make chart yet still early day"
          ],
          [
           "year later best time buy bitcoin nfa"
          ],
          [
           "binance smart chain bsc use blockchain ethereum world news"
          ],
          [
           "top coin market cap stable coin"
          ],
          [
           "favorite colorme bnb yellow"
          ],
          [
           "small pleasure life bnb"
          ],
          [
           "new feature coinmarketcap"
          ],
          [
           "im binancian"
          ],
          [
           "letter ceo celebrate year journey together binance blog"
          ],
          [
           "go actually didnt see cake person saw image one group side decentralize work force"
          ],
          [
           "july"
          ],
          [
           "binancesmartchain"
          ],
          [
           "first season binance incubation year ago turn really well let continue build apply season binance incubation program binance blog"
          ],
          [
           "god trust everything else use blockchain"
          ],
          [
           "relax yourselfmep selfhardest part job photo shoot"
          ],
          [
           "find dress shoe go sneaker"
          ],
          [
           "look regulate already"
          ],
          [
           "let make crypto green"
          ],
          [
           "meet people long business card"
          ],
          [
           "get taxi driver say thank make app honestly make day"
          ],
          [
           "get feeling bloomberg doesnt like much thats ok still thankful exemployer stay compliant work together grow industry"
          ],
          [
           "use twitteryou talk binance bnb bsc crypto retweet"
          ],
          [
           "would like thank read tweet bore tweet thank follow million timesthank support bnb bsc binance crypto"
          ],
          [
           "stable good bad price wise"
          ],
          [
           "let build"
          ],
          [
           "economy able support initiative time make advanced civilization"
          ],
          [
           "fud"
          ],
          [
           "stay humblestay low keyfix problembuidl"
          ],
          [
           "low key celebration time thank support"
          ],
          [
           "many different builderincubation program binance ecosystem cant keep track keep buidling"
          ],
          [
           "inflation make poor bitcoin inflation"
          ],
          [
           "think saw bnb logo"
          ],
          [
           "crypto stay embrace"
          ],
          [
           "build buy burn bnb"
          ],
          [
           "didnt look pancakeswap week much happen go defi"
          ],
          [
           "june month nothing new stood pancakeswap defi bsc rank exchange big many cex amaze"
          ],
          [
           "still money cant use itbitcoin fix"
          ],
          [
           "pay people fiat claim hold cryptome hmm use exchange"
          ],
          [
           "honestly learn efoils recently similar snowboard love less impactful fall less stress back think lose courage post pic social medium unforgiving"
          ],
          [
           "bitcoin bore great thing"
          ],
          [
           "charge list binance list"
          ],
          [
           "stay ground right thing build"
          ],
          [
           "poorly improve"
          ],
          [
           "buildnbuild"
          ],
          [
           "coinmarketcap new token swap feature use defi protocol liqudity"
          ],
          [
           "ape strong together"
          ],
          [
           "dang agree let make binance small decentralize make defi bsc bnb big cool"
          ],
          [
           "followingsupporting know dont engage debatesfights focus solve problem always thank trust support continue grow together"
          ],
          [
           "bnb actually call bnc back name change due conflict another coin almost forget thisi think bnb sound well unbiased opinion"
          ],
          [
           "thing dont changean ico valuable tool use correctlywe plan itwe get lucky lot place also step mine luckily nothing major"
          ],
          [
           "july year ago today finish bnb ico experience write year ago uneditted"
          ],
          [
           "remote work best way reduce call schedule overhead right amount recur call much little"
          ],
          [
           "lot fud lot problem solve lot opportunity"
          ],
          [
           "fast coinmarketcap rank legal tender country go look"
          ],
          [
           "buidl guess come next coinmarketcap launch token swap feature"
          ],
          [
           "impossible delete technology innovation idea people headsthe earlier embrace well bitcoin"
          ],
          [
           "many scammer target people follow instagram follow someone tell first thing watch scammer never send anyone coin without video call confirm stay safu"
          ],
          [
           "bnb binance cex"
          ],
          [
           "fund safu always"
          ],
          [
           "elons mom us bsc"
          ],
          [
           "dont understand something easily influence people opinion understand opinionsyou want opinion money learn bitcoin"
          ],
          [
           "doesnt produce anything virtual move dataelectrons around value yes facebook hit trillion market cap"
          ],
          [
           "dont average uniquenft thebinancenft featuredbinance"
          ],
          [
           "bnb ath dip nfa"
          ],
          [
           "everyone talk bitcoin problem everyone talk bitcoin"
          ],
          [
           "nft leave nft right"
          ],
          [
           "people worry bitcoin"
          ],
          [
           "still worried bitcoin go zerorelax think wont top many reason legal tender country"
          ],
          [
           "binance assist take cybercriminal ring"
          ],
          [
           "binance retrospect inevitable front month"
          ],
          [
           "nan"
          ],
          [
           "binance team autonomous learn organization"
          ],
          [
           "many thanks slightly glorify story appreciate deep dive many place still learn evolve still lots room improve grow"
          ],
          [
           "low fee win"
          ],
          [
           "million people added crypto ecosystem one go"
          ],
          [
           "people el salvador receive bitcoin government isnt money print thin air el salvador also dont currency hard money kudos"
          ],
          [
           "bitcoin right btw"
          ],
          [
           "focus buildingfreedom speech great dont let others say distract youfocus building product people use"
          ],
          [
           "let meme fly bitcoin right btw"
          ],
          [
           "binance receive letter commendation uk south east regional organise crime unit effort help fight bad player cyber spacelets make crypto safu"
          ],
          [
           "binance cex nft marketplace go live bnb"
          ],
          [
           "sad hear officialmcafee deep condolence family forever miss"
          ],
          [
           "low fee win"
          ],
          [
           "try less thing less thing well"
          ],
          [
           "heard coinmarketcap start rank country accept crypto legal tender"
          ],
          [
           "idea worthless execution priceless"
          ],
          [
           "learn past mistake write panic sell bad importantly structure risk dont need"
          ],
          [
           "time dip yet people complain lack opportunity late etc"
          ],
          [
           "sell fud sure way poor"
          ],
          [
           "hard time focus team build thing people use"
          ],
          [
           "want achieve big thing focus big picture want make big money look longer horizon"
          ],
          [
           "probably true heard michaelsaylor satoshi"
          ],
          [
           "michaelsaylor buy bitcoinsfor billion average price next guy want pay lot"
          ],
          [
           "ignore fud keep stack keep building bnb"
          ],
          [
           "people keep ask price prediction keep explain predict itmaybe moderately conservative precise answer make easy like dec utc even name coin"
          ],
          [
           "take multiple dip ath people believe"
          ],
          [
           "dad hold bnb daughter nowbe good dad save kid happy father day"
          ],
          [
           "preview develop app real device developer preview develop app ide help debug real device"
          ],
          [
           "new feature pv uv tracker mini program apps navigation bar set front color animation run background support"
          ],
          [
           "jump mini program developer jump mini program api mini program high permission even jump deeplink inside binance app"
          ],
          [
           "log panel preview trial audit mini program open log panel show log message help developer debug"
          ],
          [
           "native input mini program use new native input instead old web one lots new feature component support auto focus auto height confirm type keyboard"
          ],
          [
           "binance mini program update webview app framework support new type webview app developer directly reuse web app run binance app jssdk developer easily integrate functionality like login binance pay"
          ],
          [
           "binance app updateadd quick entry kline margin tradingadd entry future trade chat roomlite version coinsoptimized workflow forpending order walletongoing deposit withdrawalskyc verificationswallets"
          ],
          [
           "dumb question go back buy bitcoin peak hold multiple year bear cycle till ithodl"
          ],
          [
           "impossible prove something impossible keep building"
          ],
          [
           "binance accepts bitcoin legal tender since"
          ],
          [
           "friday night actually already sat morning follow"
          ],
          [
           "paraguayan congressman introduce bitcoin legislation"
          ],
          [
           "digital money energy efficient physical money obvious right"
          ],
          [
           "stay safu"
          ],
          [
           "lot people work behind scenes increase adoption crypto truly respect"
          ],
          [
           "onchain nft platform endorse binance launch today who avatar"
          ],
          [
           "save tweet"
          ],
          [
           "people use crypto"
          ],
          [
           "binance sendreceive feature cool simple fast easy use maybe promote top level"
          ],
          [
           "know binance exchange support currency payment option use people around world try"
          ],
          [
           "time binance super meetup taiwan hot rush back another venue could make people wait minute expensive time probably wont last time hate short trade love leg"
          ],
          [
           "weak defense short often call bermuda high sock formal wear bermuda go bermudapremiers aide day specifically buy occasion turn everyone else wear long pant"
          ],
          [
           "dont think authority comment"
          ],
          [
           "todayq cz whats difference crypto well one thing back one ct crypto twitter follower"
          ],
          [
           "keep building keep creatingbinance launch nfts street artist lushsux carltons eddie betts aussie stockhead"
          ],
          [
           "el salvador purchase power increase time"
          ],
          [
           "risk reminder stable coin lose purchase power timenfa"
          ],
          [
           "pay bitcoin people convert stable coin wish"
          ],
          [
           "bitcoin wish get earlier wish get earlier wish get earlier wish get earlier wish get earlier wish get earlier wish get earlier wish get earlier"
          ],
          [
           "happy birthday apompliano"
          ],
          [
           "people try front run michaelsaylor"
          ],
          [
           "need hire"
          ],
          [
           "confirm tweet responsibly without move market"
          ],
          [
           "try make mistake twice"
          ],
          [
           "thought"
          ],
          [
           "consider follow comment restrict tweet vs follower ratio ratio vote something"
          ],
          [
           "prefer tweet"
          ],
          [
           "still wonder email largely replace postal mail hard tell"
          ],
          [
           "study show people buy bitcoin bnb people sell less frequently richernfa"
          ],
          [
           "message still message technology transfer improve timemoney still money technology transfer improve"
          ],
          [
           "technology innovation suddenly endnowill crypto suddenly endit technology"
          ],
          [
           "wrong answer nft stand"
          ],
          [
           "nfts get start uganda museum create nfts display binance marketplace"
          ],
          [
           "contrary popular misconception bitcoin incentivizefund new era clean energy research development help advance civilization"
          ],
          [
           "anyone buy volcano yetuntil day ago didnt cross mind crypto provide monetization model volcano toomust admit imagination limit predict future crypto know gonna bignfa"
          ],
          [
           "remove red button el salvador user right sell fiat longer necessary use bitcoin directly way behalf lame joke half serious nfa"
          ],
          [
           "bitcoin good money big economy wealthier citizen globally influential government stronger countriesadopting bitcoin patriotic"
          ],
          [
           "sovereign individual use bitcoinsovereign nation use bitcoin"
          ],
          [
           "wish buy low sell high need low somewhere worknot financial advice"
          ],
          [
           "use bitcoin make nation sovereignfew understand least"
          ],
          [
           "dont let short term emotion take look long term technology trend crypto everywhere due timenfa"
          ],
          [
           "unpopular opinion dont tradecapturesell every dip although good exchange revenue hodl usually good strategy peoplenfa"
          ],
          [
           "year ago todaybtc"
          ],
          [
           "imagine power print unlimited amount money buy limitedsupply asset would dotrue story somenfa"
          ],
          [
           "country get bitcoin"
          ],
          [
           "wait till nation start put bitcoin treasuryor well waitnfa"
          ],
          [
           "binance take responsible trading seriously binance blog"
          ],
          [
           "say crypto hard understand yes get vaccinated"
          ],
          [
           "bnb legal tender bsc one popular blockchains daily transaction"
          ],
          [
           "country next recognize bitcoin legal tender"
          ],
          [
           "el salvador beautiful"
          ],
          [
           "believe japan make bitcoin legal tender april take one though"
          ],
          [
           "bitcoin legal tender el salvador"
          ],
          [
           "twitter instagram follower get know nft bsc"
          ],
          [
           "decentralize world many different often bite crazy personality make world interest"
          ],
          [
           "follow rich crazy randomly swing person tweet trade end richnfa"
          ],
          [
           "low fee large network"
          ],
          [
           "bnb"
          ],
          [
           "history unkind fud creator people act"
          ],
          [
           "learn think"
          ],
          [
           "know zero rich people become rich thing accord rich people tweetlet sink"
          ],
          [
           "defi wsj"
          ],
          [
           "tweet hurt people finance funny irresponsible"
          ],
          [
           "great power great responsibility great great power random humor great funny"
          ],
          [
           "dont manipulate hodl financial advice"
          ],
          [
           "want see photo miami real people hang"
          ],
          [
           "ready bnbnfa"
          ]
         ],
         "hovertemplate": "pca-one=%{x}<br>pca-two=%{y}<br>pca-three=%{z}<br>text_cleaned=%{customdata[0]}<br>vader_sentiment=%{marker.color}<extra></extra>",
         "legendgroup": "",
         "marker": {
          "color": [
           -0.7717,
           0,
           0.4588,
           0,
           0.4404,
           0,
           0,
           0,
           0,
           0,
           0,
           0.2732,
           0.3182,
           -0.0258,
           0.0772,
           -0.0258,
           0,
           0.4588,
           0,
           0,
           0.7088,
           0,
           0,
           -0.6486,
           0.5859,
           0,
           0.6249,
           0,
           0,
           0.3818,
           0.3612,
           0.7003,
           -0.29600000000000004,
           -0.6124,
           0,
           0.4404,
           0,
           0,
           0.2235,
           0,
           0,
           0,
           0,
           0.6908,
           0.3818,
           -0.4019,
           0.2235,
           0.25,
           0.7845,
           0.7712,
           0.5106,
           0.4939,
           0.1779,
           -0.1027,
           0.3182,
           -0.3612,
           -0.7776,
           0.4404,
           0,
           0.6597,
           0,
           0.4404,
           0.6114,
           0,
           0.4588,
           0,
           0,
           0.0258,
           0.8859999999999999,
           0,
           0,
           0.6808,
           0.7845,
           0,
           0.4404,
           0,
           -0.2263,
           0,
           0,
           0,
           0.8313,
           0.29600000000000004,
           -0.3182,
           0.6808,
           0.4767,
           -0.4767,
           0,
           -0.3182,
           0.3818,
           0.5849,
           0,
           0.6486,
           0.4939,
           0,
           0,
           0.75,
           0,
           0.34,
           0.7351,
           0.6696,
           -0.3314,
           0.7783,
           0.4404,
           0.7086,
           0,
           0,
           0,
           0.0644,
           0,
           0.34,
           0,
           -0.5267,
           0.6597,
           0,
           0.2023,
           -0.2462,
           0,
           0.7783,
           0,
           0.4215,
           -0.627,
           -0.7845,
           -0.3182,
           -0.6486,
           0.8074,
           0,
           0,
           0.2023,
           0.5522,
           0.5057,
           -0.29600000000000004,
           0.4767,
           0.3612,
           0.2023,
           0.2023,
           0,
           0.5574,
           0,
           -0.4767,
           0,
           0,
           0.0772,
           0,
           0.2732,
           0,
           0,
           0.2263,
           -0.2382,
           0,
           0.128,
           0.9217,
           0.3818,
           0,
           -0.3412,
           0,
           0.7184,
           0.7263,
           0,
           0.1779,
           0,
           0,
           0,
           -0.3804,
           0,
           0,
           0,
           0,
           0.4019,
           0.3818,
           0.6948,
           0.5267,
           0,
           0,
           0.7783,
           0,
           0,
           -0.214,
           0.4215,
           0,
           0,
           0,
           0,
           0,
           0,
           -0.1531,
           0,
           0.4588,
           0.4019,
           0.7783,
           -0.29600000000000004,
           0.4144,
           0,
           0.25,
           0,
           0,
           0.1027,
           0,
           0.5423,
           -0.3875,
           -0.3182,
           0.705,
           0.6249,
           0,
           0,
           0,
           0.6369,
           0.2263,
           0.6908,
           -0.2732,
           0.3597,
           0.0772,
           -0.3447,
           0.5574,
           0,
           0.4329,
           0.8588,
           0,
           0,
           0.6486,
           -0.5267,
           0.25,
           0.4019,
           -0.6369,
           0,
           0.9152,
           0.4019,
           0,
           0.3182,
           0.2235,
           0,
           0,
           0,
           0.6369,
           0.8481,
           0,
           0,
           0,
           0,
           0,
           0,
           0,
           0,
           0.0516,
           0,
           -0.1779,
           -0.3089,
           0,
           0.1779,
           0,
           0,
           0,
           0.5719,
           0.0507,
           -0.0258,
           0.34,
           0,
           0.5574,
           0.5719,
           -0.7964,
           0.4588,
           0.34,
           -0.4404,
           0,
           0,
           -0.5683,
           0.0516,
           0.25,
           0,
           -0.7003,
           0.6249,
           0.5859,
           0.743,
           0,
           0,
           0,
           0,
           0.2144,
           0.6249,
           0,
           0.1689,
           0,
           0,
           -0.5423,
           0.3818,
           0,
           0.2263,
           0,
           0,
           0.4939,
           0.0258,
           0,
           0,
           0.4215,
           0,
           0,
           0.8428,
           0.3818,
           -0.4144,
           0.4939,
           0.4939,
           0.6249,
           0.6369,
           0.69,
           0.6124,
           0,
           -0.1027,
           0,
           0.29600000000000004,
           0,
           0,
           -0.2235,
           0.4404,
           -0.3612,
           -0.3612,
           0,
           0,
           0,
           0.7579,
           0,
           0,
           0,
           -0.0258,
           0,
           0,
           -0.0516,
           0.3612,
           0.7241,
           0.29600000000000004,
           0,
           0.8669,
           0.4588,
           0.3818,
           0.5927,
           0,
           0.29600000000000004,
           0.2732,
           0,
           0,
           0.5994,
           0,
           0,
           0.0762,
           0,
           0.1531,
           0.8122,
           0.6369,
           0,
           -0.8885,
           0.3182,
           0.3182,
           -0.1511,
           0,
           0.6705,
           0.34,
           0.25,
           0,
           -0.6597,
           0.7783,
           -0.29600000000000004,
           0.4019,
           0,
           -0.2411,
           0.8779,
           -0.2406,
           0,
           0.8481,
           0,
           -0.6652,
           0.34,
           0.5255,
           0.1779,
           0.4019,
           0,
           0.4588,
           0,
           -0.7906,
           0,
           0,
           0.2924,
           -0.25,
           0.1779,
           0.8268,
           0.29600000000000004,
           0,
           0.3612,
           0,
           0,
           0,
           0.4767,
           0.6256,
           0.23399999999999999,
           0.6249,
           -0.25,
           -0.6705,
           -0.3182,
           0,
           0.3919,
           0,
           0.6369,
           0.1779,
           0.8225,
           0,
           0,
           0.0772,
           0,
           0.6808,
           0.5719,
           0,
           -0.4479,
           0.5093,
           0.3612,
           0,
           0,
           0,
           0,
           0,
           -0.1531,
           0.5859,
           0.5859,
           0,
           0,
           0,
           0,
           -0.5719,
           0.3818,
           0.4215,
           0,
           -0.5423,
           0,
           0,
           0,
           -0.5267,
           0.3818,
           0,
           0,
           0.3182,
           0,
           0.5574,
           0,
           0,
           0.8519,
           0,
           0,
           0.1901,
           0.0772,
           0,
           0,
           0.4404,
           0.4939,
           0,
           0,
           0,
           0,
           0.636,
           0,
           0.6696,
           0,
           0,
           0,
           0,
           -0.5423,
           0,
           0,
           0,
           0.7003,
           0,
           0.1779,
           0.5719,
           0.25,
           0,
           -0.3182,
           0,
           0,
           0,
           0,
           0.3612,
           0.3384,
           0.5204,
           0.8595,
           -0.29600000000000004,
           0.4201,
           0.7003,
           0,
           0.4019,
           0,
           -0.4817,
           0,
           0.7579,
           0.1779,
           0.7269,
           0,
           0,
           0.8858,
           0,
           0.4404,
           0,
           0.1154,
           0,
           -0.4717,
           0.3818,
           0,
           -0.4479,
           0.4019,
           0.7906,
           0,
           -0.2173,
           0,
           -0.1027,
           0.6486,
           0,
           0,
           0.5023,
           -0.8057,
           -0.3182,
           0,
           0,
           0.7906,
           0,
           0,
           0,
           0.836,
           0.7096,
           0.6705,
           0,
           0.8689,
           0.5859,
           0.4215,
           0.6249,
           0.8748,
           0.6833,
           0,
           0.4215,
           0,
           -0.34,
           0,
           0.3182,
           -0.4215,
           0.2023,
           0,
           0.6369,
           0,
           0,
           0.3612,
           0,
           -0.0516,
           0.7506,
           0,
           0,
           0.6369,
           0,
           0.4404,
           0,
           0,
           0,
           0.5106,
           0,
           0,
           0,
           0,
           0.4291,
           0,
           0,
           0.6808,
           0.8705,
           0.5106,
           -0.29600000000000004,
           -0.5574,
           -0.3052,
           0.3818,
           0,
           0.4588,
           0.6298,
           0,
           -0.5667,
           0.4019,
           0.4767,
           0.4939,
           0,
           0,
           -0.29600000000000004,
           0,
           0,
           0,
           0,
           0.1027,
           0.6369,
           0.7242,
           -0.1531,
           0.3094,
           0.4215,
           0,
           0,
           0.5106,
           -0.2263,
           0,
           0.4939,
           0,
           0,
           -0.5267,
           0.6352,
           -0.7177,
           0.7783,
           0,
           0.6705,
           0,
           0.5106,
           0,
           -0.4939,
           0,
           0.3818,
           0.1027,
           0,
           0.5859,
           0.6114,
           0.7003,
           0.7384,
           0.4297,
           0.5267,
           0.2023,
           0,
           0,
           0,
           0,
           0,
           0,
           0,
           0,
           0,
           -0.4767,
           -0.0952,
           0.6355,
           -0.29600000000000004,
           0,
           0.4404,
           -0.2944,
           0.5627,
           0.8941,
           0.6965,
           0,
           0.3182,
           0,
           0,
           0,
           0,
           0.29600000000000004,
           0.4215,
           0,
           0,
           -0.0572,
           0,
           0,
           0,
           0.6249,
           0.4939,
           0,
           0,
           0.3412,
           0.4215,
           0,
           -0.0516,
           0,
           0,
           0.4019,
           -0.0572,
           0,
           0,
           -0.2411,
           0,
           0.4168,
           0,
           0.3818,
           0,
           0.5859,
           0.7184,
           0,
           0.4939,
           0,
           0,
           0,
           0.6256,
           0,
           0,
           0,
           0,
           0.4404,
           0,
           -0.4215,
           0,
           0,
           0,
           0,
           0.8004,
           0.5719,
           -0.0253,
           0,
           0.6597,
           0,
           0.5719,
           0.6114,
           0,
           0,
           0,
           0.5267,
           -0.6124,
           -0.7027,
           0,
           0,
           0.3612,
           0,
           0,
           -0.5423,
           0.1779,
           0,
           0.4728,
           0,
           0.8176,
           0,
           0,
           0,
           0,
           0,
           0,
           0,
           0.9468,
           0.8319,
           0.5848,
           0.3818,
           0.4939,
           0,
           0,
           -0.0951,
           0,
           0,
           0.9523,
           0.5204,
           0,
           0,
           0,
           0.4019,
           0.4019,
           0.4364,
           0.4939,
           -0.7351,
           0.5994,
           0.4767,
           -0.3999,
           0.3818,
           0.4767,
           0,
           -0.4215,
           0,
           0.6124,
           0,
           0.2732,
           0,
           -0.2037,
           0.3818,
           0.6588,
           0,
           0.0772,
           0,
           0,
           0,
           0.2023,
           0,
           0,
           0.5719,
           0.3818,
           -0.2732,
           0,
           0,
           0.6908,
           0,
           0,
           -0.5106,
           0,
           0,
           0.4767,
           0,
           0,
           0.2263,
           0.5267,
           0.3612,
           0.6486,
           0,
           0.1376,
           0,
           0,
           0,
           -0.2411,
           0.5719,
           0,
           0.0258,
           0,
           0.2263,
           0,
           0.9153,
           0,
           0.4404,
           0,
           0.5423,
           0.6908,
           -0.031,
           0.0258,
           0,
           0.9118,
           0.2649,
           0,
           0,
           0.4404,
           0.6124,
           0.3818,
           0,
           -0.1027,
           0,
           0.4019,
           0,
           0,
           0.4199,
           -0.3818,
           0,
           0,
           0,
           0.34,
           0,
           0.7906,
           0,
           -0.4939,
           -0.8519,
           0.6597,
           0,
           0.5106,
           0,
           0.4404,
           0.4404,
           0.6444,
           0.3612,
           0,
           0.4199,
           0.5859,
           0,
           0,
           0,
           0,
           0.4199,
           0.4404,
           0.3182,
           0,
           0.4588,
           0,
           0,
           0,
           0,
           -0.5448,
           0,
           0.9246,
           0,
           -0.5574,
           -0.6361,
           -0.3736,
           0.7645,
           0,
           0,
           0,
           0,
           0,
           -0.6705,
           0,
           0.3164,
           0,
           0,
           0.3182,
           -0.29600000000000004,
           -0.2584,
           0.7184,
           0,
           0.2263,
           0.3612,
           0,
           -0.3291,
           0,
           0,
           0,
           0.5859,
           0.4019,
           0,
           0,
           0,
           0,
           0,
           0.4019,
           0.3182,
           0,
           0.3818,
           0.6948,
           0,
           0,
           -0.2057,
           0.5719,
           0,
           0,
           0,
           0.6239,
           0,
           0.4939,
           0.6249,
           0,
           0,
           0,
           0.6335,
           0,
           0,
           0.1779,
           -0.29600000000000004,
           0.6249,
           -0.2577,
           0,
           0.7799,
           0,
           0,
           0.7845,
           0.2584,
           0,
           0,
           0,
           0.5423,
           0,
           0,
           0,
           0.4404,
           -0.3612,
           0.2263,
           0,
           0.7814,
           -0.4767,
           0,
           0.5859,
           0.4404,
           0,
           0.765,
           0,
           0.0772,
           0.29600000000000004,
           0,
           0.7721,
           0,
           -0.5574,
           0.6369,
           0,
           0.4939,
           0.5642,
           0,
           0.6369,
           -0.1027,
           0.3182,
           0,
           0,
           0.3182,
           0.6597,
           -0.4404,
           0,
           0,
           0,
           0,
           0,
           0,
           0.128,
           0.7424,
           0.4019,
           0,
           0,
           0.2732,
           0,
           0,
           0,
           0,
           0,
           0.08800000000000001,
           0.8240000000000001,
           0.5563,
           0.5984,
           0,
           0,
           0.8016,
           0,
           0,
           0,
           0,
           0.2584,
           0,
           0,
           0.5719,
           0.8622,
           0,
           0.2294,
           0,
           0,
           0.3182,
           0,
           0.4019,
           0,
           0,
           0.6705,
           0.2732,
           0.5719,
           -0.5256,
           -0.4588,
           0.4019,
           0,
           0.3412,
           0.4574,
           -0.5106,
           0.5106,
           0.7644,
           0,
           -0.2732,
           0.128,
           0,
           -0.8555,
           -0.7845,
           0,
           0,
           0.0813,
           0,
           0.4404,
           0.3182,
           0.3818,
           0.2023,
           0.6993,
           0.4019,
           0,
           0,
           0.128,
           0.6369,
           0.3744,
           -0.5267,
           -0.2263,
           0,
           0.0772,
           0,
           0.9042,
           0,
           0.4588,
           0,
           0,
           -0.0772,
           0,
           0.4588,
           0,
           0,
           0,
           0.5093,
           0.5277,
           0,
           -0.6369,
           0,
           0.4019,
           0,
           0,
           0,
           -0.2263,
           0.7935,
           -0.29600000000000004,
           0,
           0,
           0.5927,
           0.5106,
           0,
           0,
           0.4848,
           0.4404,
           0,
           0.3612,
           0.5093,
           0.9362,
           0,
           0,
           0,
           -0.3626,
           0,
           0.34,
           0.1779,
           0.7906,
           0,
           0,
           0.0772,
           0.4404,
           -0.2732,
           0,
           0.2023,
           0,
           0.7402,
           0.7402,
           0,
           -0.29600000000000004,
           -0.8775,
           0,
           0,
           -0.5574,
           0.6103,
           0.6369,
           0.4404,
           0,
           0.7096,
           0,
           0.6114,
           0.4939,
           0,
           0,
           0,
           -0.3182,
           0,
           0,
           0,
           0.4696,
           0,
           -0.0772,
           0.7003,
           0,
           0.431,
           0,
           -0.2263,
           0,
           -0.4023,
           0.2987,
           0.5859,
           0.2144,
           0.6369,
           0.4497,
           0,
           0,
           0.807,
           0,
           0,
           0,
           0.7345,
           0.5719,
           0.6124,
           0,
           0,
           0.0258,
           0.8176,
           0.4215,
           0,
           0,
           0,
           -0.5994,
           0,
           0.3944,
           0.5994,
           0,
           0,
           -0.7165,
           -0.4519,
           -0.2987,
           0,
           0.8051,
           -0.1027,
           0.2023,
           0,
           0.1779,
           0,
           0,
           0.3818,
           -0.6077,
           0,
           0,
           0,
           0,
           -0.09,
           0,
           0.6369,
           0.5859,
           0.8062,
           0.6597,
           0.7506,
           0.8834,
           0.4767,
           0.4939,
           0.4215,
           0.0258,
           0.6369,
           0.8225,
           0,
           0,
           0.6674,
           0.7351,
           0,
           0.6369,
           0.4019,
           0.6077,
           0.1779,
           0.4172,
           0.29600000000000004,
           0,
           0.4215,
           0.128,
           0,
           0,
           0.34,
           -0.2732,
           0,
           0,
           0.6369,
           0,
           -0.29600000000000004,
           0.2023,
           0.128,
           0.2263,
           0,
           -0.3624,
           0.3818,
           -0.3412,
           0.7717,
           0,
           0.0951,
           0,
           0.1761,
           0.631,
           0,
           -0.4215,
           0,
           0,
           0,
           0.6369,
           0.4019,
           0.4588,
           0.4588,
           0.4404,
           0,
           0,
           0.5719,
           0,
           0,
           0,
           0.3384,
           0.6597,
           0.4404,
           0,
           0,
           0,
           0,
           0.5093,
           0.8198,
           0,
           0.7845,
           0.5719,
           0,
           0.6115,
           -0.2732,
           -0.2732,
           0.5255,
           0,
           -0.5719,
           0,
           0.3182,
           0,
           0,
           0.5859,
           0,
           -0.1926,
           0.6533,
           0.3403,
           0,
           0,
           0.504,
           0,
           0,
           0.5106,
           0.5859,
           0.7548,
           0.128,
           0.8481,
           0,
           0.6369,
           -0.2342,
           0.2003,
           0,
           0.7783,
           0,
           0,
           0,
           0,
           0.4019,
           0.6249,
           0,
           0,
           -0.4019,
           0,
           -0.29600000000000004,
           -0.3164,
           0,
           0,
           0,
           0,
           0.8957,
           0.4019,
           0,
           0.4926,
           0,
           -0.0644,
           0,
           -0.8126,
           0,
           -0.6801,
           0.3818,
           0.3032,
           0.4767,
           -0.4404,
           -0.6494,
           -0.3612,
           -0.5622,
           -0.1027,
           0.1531,
           -0.1695,
           -0.0258,
           -0.6523,
           0.7876,
           0,
           0.8777,
           0.4019,
           0.4019,
           0,
           0.4019,
           0.3182,
           0.7184,
           0,
           -0.5106,
           0,
           0.4215,
           0,
           0,
           0.6674,
           0,
           0.8221,
           0.3612,
           0.4939,
           0,
           0.8357,
           0.3612,
           0.7845,
           0.128,
           -0.0572,
           -0.0258,
           0,
           0.3182,
           -0.3818,
           0.5423,
           0.9618,
           0.5719,
           0,
           0,
           0,
           -0.34,
           0,
           -0.3818,
           0,
           -0.1761,
           0,
           0.8338,
           0.4515,
           -0.4767,
           0.2732,
           0.8519,
           -0.0129,
           -0.0772,
           0.8974,
           0,
           -0.128,
           0,
           0,
           -0.0332,
           0,
           0.1779,
           0,
           0.4404,
           0.1531,
           0.3182,
           0.5563,
           0.128,
           0.636,
           0.128,
           0.128,
           0,
           0.0772,
           0.29600000000000004,
           -0.2732,
           0,
           -0.6633,
           0,
           0.8957,
           0,
           -0.5267,
           0.9552,
           0.2924,
           0.0772,
           0.3612
          ],
          "coloraxis": "coloraxis",
          "symbol": "circle"
         },
         "mode": "markers",
         "name": "",
         "scene": "scene",
         "showlegend": false,
         "type": "scatter3d",
         "x": [
          -0.029916839866770305,
          -0.020431291551705484,
          -0.02466589286916437,
          -0.024812181324201633,
          -0.02688473692103984,
          -0.03328913300589905,
          -0.03336312413334625,
          -0.020431291551705484,
          -0.019043320229309175,
          -0.03307592267994277,
          -0.020431291551705484,
          -0.04246954393154779,
          0.28402968678282264,
          -0.0441855245685979,
          -0.03646105920484767,
          -0.037773471561457606,
          -0.025032739928051072,
          -0.019843336316477042,
          0.005314046623688025,
          -0.020431291551705484,
          -0.04129342170690667,
          -0.026381794397769456,
          -0.020431291551705484,
          -0.041139621280731876,
          -0.023766787695544522,
          -0.027318344155478857,
          -0.025115353925574624,
          -0.020431291551705484,
          -0.02473775774987838,
          -0.020431291551705484,
          -0.036568099212559935,
          -0.043070952010980115,
          -0.04011134145238046,
          -0.04067064189651587,
          -0.04069307136987811,
          -0.02453801950504713,
          -0.020431291551705484,
          -0.020431291551705484,
          -0.0262825904965829,
          -0.037609065732408,
          0.048609343818881746,
          0.9596992297975022,
          0.34370010257967587,
          -0.04592279081787108,
          -0.04040644045557289,
          -0.027817378556362845,
          -0.035641848095589304,
          -0.034176118880262216,
          -0.05125297030704451,
          -0.02844230760890245,
          -0.02463209334329634,
          -0.00929439414390338,
          -0.049254572838043714,
          -0.052839906477613434,
          -0.0351473653113203,
          -0.03471789182067403,
          -0.037961998189129,
          -0.04568368563657132,
          -0.03473366860111917,
          -0.039229644457588135,
          -0.028322004673275065,
          -0.03900711067162943,
          -0.023651645647842223,
          -0.03987804543476957,
          -0.013459607420945126,
          -0.024194259461932124,
          0.2591298908347479,
          -0.03366221326868076,
          -0.028772071118526418,
          -0.020431291551705484,
          -0.03913598155360148,
          -0.025903758933090014,
          -0.01739457049133615,
          -0.02339914430479717,
          -0.030742164570176988,
          -0.04768275245267819,
          -0.059577947851187314,
          -0.04669787746820596,
          -0.023921467238764902,
          -0.03366448658745872,
          0.36851684874209606,
          -0.010242126961930444,
          -0.03330739356264031,
          -0.03523990322863065,
          -0.03892396612181279,
          -0.02591104797442561,
          -0.035360685535229294,
          -0.020431291551705484,
          -0.041210673735438526,
          -0.05246186029596957,
          -0.02467874472801907,
          -0.03902456027129557,
          -0.01656848687761297,
          -0.013839168675122884,
          -0.020431291551705484,
          -0.03256195241238858,
          -0.03306372077751169,
          -0.05215408025721489,
          -0.03951105164400843,
          -0.04822698256070019,
          -0.035559009613703674,
          -0.03751621558181129,
          -0.02480514996212847,
          -0.0348311220730219,
          -0.04424503598587053,
          -0.03466414968748708,
          -0.03781493511701778,
          -0.04853642866753561,
          -0.03507138198797971,
          -0.041181114436390096,
          -0.04031814722792383,
          -0.029087710509197624,
          -0.025920954237479702,
          -0.028030976673207936,
          -0.04843340858872055,
          -0.036197981322134073,
          -0.02597688035100016,
          -0.04371795009055862,
          -0.035587837559578346,
          -0.03927705129195839,
          -0.009629232962611044,
          -0.0350205664179907,
          -0.04029471671357741,
          -0.0335262054281794,
          -0.038342699845180246,
          0.00748503457306068,
          -0.0274065132283325,
          -0.041138218925633144,
          -0.02714842902439513,
          -0.019120042242958345,
          -0.04490722627777641,
          -0.051625555844557504,
          -0.027719670788974998,
          -0.03187786777345124,
          -0.04621162708390497,
          -0.02350771347895033,
          -0.02422341167438105,
          -0.033213560843756505,
          -0.0220708295806661,
          -0.024194259461932124,
          -0.024194259461932124,
          -0.047566145256438215,
          -0.020431291551705484,
          -0.0346518827213565,
          -0.032246846376499896,
          -0.020431291551705484,
          -0.03950090872343075,
          -0.032181140177312856,
          0.16364510591498815,
          0.2893282106026449,
          -0.04976975503900118,
          -0.027632955610307756,
          -0.02952530935781284,
          -0.032577362363147885,
          0.9596992297975022,
          -0.03360098666210718,
          -0.036601902781076126,
          -0.01793368550550895,
          -0.03075651524672154,
          -0.02780525264168139,
          -0.03772284103437717,
          -0.04111535338997587,
          -0.036156260713546676,
          -0.04169621822329952,
          -0.02955570192152215,
          -0.03726322562171315,
          -0.02794158093738053,
          -0.029285525399817956,
          -0.04192491585412922,
          -0.04450151126595268,
          -0.03202316815006189,
          -0.024635457313590504,
          -0.02696711961862853,
          -0.045130478698380064,
          -0.04367168847705558,
          -0.04350189898413541,
          -0.043259191981283744,
          -0.030690809632700877,
          -0.048969613525495996,
          -0.037564627490232254,
          -0.042477723661971264,
          -0.023312558862796214,
          -0.006858977106428008,
          -0.025403848507781025,
          -0.030875187316031037,
          -0.04077655485867169,
          -0.041435844582592626,
          -0.037048013536166484,
          -0.03593881487941601,
          -0.023657876777396523,
          -0.02593223465884024,
          -0.02406137398282944,
          -0.047006935733372314,
          -0.020431291551705484,
          -0.041794783837210574,
          -0.03701170005794981,
          -0.024972149290867426,
          -0.03771035585667531,
          -0.06610865226396716,
          -0.03992174570868721,
          -0.0365380837902613,
          -0.03268345303474754,
          0.6162563198102944,
          -0.057895450569747174,
          -0.03444314959063548,
          -0.05506122240064928,
          -0.04088221586438577,
          -0.03914240275045474,
          -0.03303399808837606,
          -0.04277548850134371,
          -0.04272915139848912,
          -0.0558426434733113,
          -0.04607864157725895,
          -0.023329442808995866,
          -0.02188677512160538,
          -0.03191045491251046,
          -0.03377760674863385,
          -0.024868109992208245,
          -0.04837060556666932,
          -0.045274177650003196,
          -0.04733088378943308,
          -0.023858255244047787,
          -0.05777862305751472,
          -0.028051804982284524,
          -0.047033357432076074,
          -0.03267064533186406,
          -0.03746462436155193,
          -0.025725590391031544,
          -0.02168233515822643,
          -0.03481982481316639,
          -0.020431291551705484,
          -0.042186441282836856,
          -0.03628791320255682,
          -0.031073690455612844,
          -0.0031490052752074097,
          -0.0389049849158041,
          -0.02728322409016084,
          -0.020431291551705484,
          -0.03639762930559141,
          -0.044279956756801,
          -0.026054376800257115,
          -0.03085658206304479,
          -0.027579065209577088,
          -0.041475959806882366,
          -0.033195738426510926,
          -0.039803034179096655,
          -0.02494155620632197,
          -0.0418394624119248,
          -0.03421519668608516,
          -0.026880200082453995,
          -0.020431291551705484,
          -0.034280105580857825,
          -0.040149017220074135,
          -0.03228221685590949,
          -0.037665084730284,
          -0.034682826149389896,
          -0.034430892128637904,
          -0.03953376536034959,
          -0.04076891167192526,
          -0.04176344640987197,
          -0.03639654085078895,
          -0.028665252360833504,
          -0.021636747343291032,
          -0.020431291551705484,
          -0.042766821809108936,
          -0.05284439933828919,
          -0.042628005540032245,
          -0.03556398426510233,
          -0.03861921190305062,
          -0.03460501592890647,
          -0.03050543547779768,
          -0.03376123337231843,
          -0.0006161087852722723,
          -0.045807310362728185,
          -0.025469316326599743,
          0.9596992297975022,
          0.23121882662370674,
          -0.034707791919274644,
          -0.02683909210845404,
          -0.025902115727984718,
          -0.020431291551705484,
          -0.024863879677297474,
          -0.02686867839934301,
          -0.02240686262361755,
          0.43922372326918024,
          0.2931198047496942,
          -0.032208956378787845,
          -0.03858949992258086,
          0.11200596417223872,
          -0.04402259835979293,
          -0.020431291551705484,
          -0.031259174257222716,
          -0.03171701423324691,
          -0.035617939950770575,
          -0.033156899984128005,
          -0.04206877320604196,
          -0.022389707870788752,
          -0.030832621885720037,
          -0.0290530152652017,
          -0.0276158883105179,
          -0.0333390964362876,
          -0.030834760331359717,
          -0.03731649374302656,
          -0.031115407994975006,
          -0.026232208747868833,
          -0.030021601178510594,
          -0.024571744797372355,
          -0.02762564948012182,
          -0.025558461267190767,
          -0.020431291551705484,
          -0.04152990557700474,
          -0.03136414095880403,
          -0.031276906015585866,
          -0.031276906015585866,
          -0.03613732593739362,
          -0.041646659657023084,
          -0.020431291551705484,
          -0.037798449348797336,
          -0.03090292893154704,
          -0.05210835845947842,
          -0.033827190471578304,
          -0.04430127641134088,
          -0.024194259461932124,
          -0.020431291551705484,
          -0.04407522443476865,
          -0.03207317270016743,
          -0.05068080361065002,
          -0.03224318893814748,
          -0.013381994816774902,
          -0.05445592094153293,
          -0.02468239353972259,
          -0.05508174839228672,
          -0.038296446893495026,
          0.005314046623688025,
          -0.04192933257729398,
          -0.04261564880847337,
          -0.027098259206399435,
          -0.025766269812608288,
          -0.030152254809993295,
          -0.015466245601794134,
          -0.020431291551705484,
          -0.05275058371242875,
          -0.020431291551705484,
          -0.04925858332296242,
          -0.04448183761464033,
          -0.018567829449386654,
          -0.031394286879386085,
          -0.025246984372219318,
          -0.020431291551705484,
          0.005596714794765694,
          -0.03797241620785016,
          -0.04492751250947791,
          -0.031691687768560094,
          -0.01922559052851101,
          -0.031241297685503263,
          -0.009242022715808288,
          -0.024610185728564885,
          -0.03863173648638123,
          -0.05786361171860199,
          -0.012242726961854055,
          -0.02356994594704199,
          -0.04061886110645705,
          -0.022935112431655393,
          -0.04608432001058349,
          -0.020431291551705484,
          -0.027384034027779162,
          -0.043941988868029955,
          -0.03442124635477127,
          -0.031014063697210225,
          -0.03336832808578897,
          -0.03340871691467935,
          -0.040736711454699634,
          -0.037353021495912485,
          -0.026323201549287217,
          -0.020431291551705484,
          -0.0360759198715831,
          -0.044521502145709366,
          -0.020431291551705484,
          -0.04602591209929067,
          -0.027808686341092945,
          -0.038442366062787704,
          -0.021723553556464145,
          -0.002515900214648743,
          -0.0410815491983319,
          -0.037188193228311,
          -0.020431291551705484,
          -0.024541640326066688,
          -0.023312558862796214,
          -0.04025381773046356,
          -0.026569079101108426,
          -0.04026779562358364,
          -0.03738450309709796,
          -0.03690019012792552,
          -0.03063371889588597,
          -0.030428432353474675,
          -0.01911378080613138,
          -0.028855958316449094,
          -0.028154457693808,
          -0.04969348036585575,
          -0.052827209990896684,
          -0.0378042716902955,
          -0.031130423952345138,
          -0.024866687692602328,
          -0.024911725328877938,
          -0.020431291551705484,
          -0.03159561661445118,
          -0.0316795355183597,
          -0.03370934133176861,
          -0.039267945148512826,
          -0.024341994678655672,
          -0.015986700132431593,
          0.5834947042060116,
          -0.030105356470749887,
          -0.023524057378149152,
          -0.02361541130015209,
          -0.020431291551705484,
          -0.04796883033495956,
          -0.04819975532204757,
          -0.035998494677239326,
          -0.027367331680680635,
          -0.027367331680680635,
          -0.02762564948012182,
          0.9596992297975022,
          -0.02478667074802396,
          -0.029886417857387885,
          -0.01003551957012332,
          -0.04856158713968593,
          -0.029309044988330455,
          -0.052690301568646736,
          -0.052690301568646736,
          -0.01799780025564531,
          -0.04440261424131647,
          -0.05861765085063491,
          -0.042607494959819116,
          -0.020431291551705484,
          -0.03042536028524444,
          -0.02686347533264582,
          -0.02386480296292674,
          -0.02970034028541946,
          0.9596992297975022,
          -0.035699640125997856,
          -0.020431291551705484,
          -0.020431291551705484,
          -0.023794245977019884,
          -0.02908359583178929,
          0.3873616689286119,
          -0.03280004170074755,
          -0.048984036860521926,
          -0.046023553322251075,
          -0.020431291551705484,
          -0.052319650863103584,
          -0.024952520882583273,
          -0.03610374246740414,
          -0.024952520882583273,
          -0.034083616865250264,
          -0.028302675996916844,
          -0.020431291551705484,
          -0.03526637175346788,
          -0.022389783850599223,
          -0.030383349773040618,
          0.2449981973035444,
          -0.036725120846945465,
          -0.0016047553081143967,
          -0.020431291551705484,
          -0.025762296326212148,
          -0.053934540970099726,
          -0.025860502702273695,
          -0.03561844486769591,
          -0.034358798069271265,
          -0.03411659621194858,
          -0.043717865883837685,
          -0.030839941444764266,
          -0.023925777056484698,
          -0.020431291551705484,
          -0.024635457313590504,
          -0.040325745775224756,
          -0.038460580559068876,
          -0.049422344823882504,
          -0.05494868020349405,
          0.46228571009046937,
          -0.02803873999103667,
          -0.023232158184829408,
          -0.020431291551705484,
          -0.04380809914705774,
          -0.04066743422285983,
          -0.03980939643206054,
          -0.020431291551705484,
          -0.03795801320499598,
          -0.03909711118495527,
          -0.02766590927877707,
          -0.04132207832442958,
          -0.03364866867694822,
          -0.03810820234761004,
          -0.0418394624119248,
          -0.033859155821226936,
          -0.024386675237730252,
          -0.030018218918089944,
          -0.02620731661038227,
          -0.042501746077123675,
          -0.0410402870569558,
          -0.026309399071305504,
          -0.033024551867143245,
          -0.04493058255039998,
          -0.03953373963869386,
          -0.032725500492940644,
          -0.025333218514644245,
          -0.04638641127053847,
          -0.043042484474841325,
          -0.0416938483469788,
          -0.04156025889077342,
          -0.03368818777110547,
          -0.06787279148530184,
          -0.0481838213313329,
          -0.028299299902031144,
          -0.020431291551705484,
          -0.03625066029046059,
          -0.04497975822852892,
          -0.037024017490452345,
          -0.026673805426872747,
          -0.043481978213223256,
          -0.045552194825472445,
          -0.041227875723486025,
          -0.04765182849372071,
          -0.04135469015450025,
          -0.06107960633875135,
          -0.04608283378146433,
          -0.020431291551705484,
          -0.045815579425519344,
          -0.043055314202937005,
          -0.023726948172310122,
          -0.04564867754193901,
          0.3135194287051065,
          0.9596992297975022,
          0.29714624288707875,
          -0.027114866969785312,
          -0.02402148720829592,
          -0.030784818590833388,
          -0.042748996398650194,
          -0.0418394624119248,
          -0.037576585212382475,
          -0.020431291551705484,
          -0.03889041682912031,
          -0.02883310574061117,
          -0.01785576723019884,
          -0.04362457635830894,
          -0.02389952946883417,
          -0.03934590492304921,
          -0.0031186220319180434,
          -0.025246416679720357,
          -0.044020417315997554,
          -0.045267831184643684,
          -0.03540362806017843,
          -0.03540362806017843,
          -0.04115594022746161,
          -0.026142607034416034,
          0.4075192192200987,
          -0.04111535338997587,
          -0.04111535338997587,
          -0.026115390149449212,
          -0.026483177797897734,
          -0.02416065415511283,
          -0.03144142495023011,
          -0.022598191485259794,
          -0.05940893882531422,
          -0.024998038250053804,
          -0.0332980798626951,
          -0.03393420025475978,
          -0.03701481697756745,
          -0.035345190267868296,
          -0.020431291551705484,
          -0.04500247770666985,
          -0.05105042492772963,
          0.6563005452311164,
          -0.03946594948182533,
          -0.016275957265552362,
          -0.037237837720180245,
          -0.030757516686543692,
          -0.032039183943798434,
          0.39705860508871843,
          -0.03536016731924502,
          -0.030395650037245692,
          -0.042487652283678505,
          -0.020431291551705484,
          -0.04492751250947791,
          -0.03621691082185101,
          -0.03697068417092046,
          -0.04645537673847875,
          -0.020123852318668475,
          -0.04575872051090858,
          -0.030896853539392803,
          -0.03970463991361713,
          -0.038143911777623975,
          -0.024998038250053804,
          -0.027790890331649085,
          -0.020431291551705484,
          -0.04142543948814344,
          -0.039872963807952855,
          -0.04929181764766738,
          -0.023936454356336234,
          -0.03782992492036786,
          -0.03663780677124429,
          -0.028738225498940968,
          -0.04871628601765999,
          -0.03554290647872705,
          -0.03434176774858395,
          -0.026381788582317826,
          -0.01703572273127358,
          -0.03989889041114366,
          -0.0365816882900626,
          -0.04995092122337168,
          -0.02492671121021492,
          -0.037130948054616406,
          -0.03522622765257522,
          -0.02682042817713433,
          -0.031094948439452118,
          -0.040662236846139434,
          -0.030308042230525894,
          0.011132066253287125,
          -0.021117120619038525,
          -0.04472144592231074,
          -0.02317865297389692,
          -0.02999096561779004,
          0.4171205514958037,
          -0.02317865297389692,
          -0.03379485906707104,
          -0.03723919894942512,
          -0.020431291551705484,
          -0.029035347648099556,
          -0.02591104797442561,
          -0.04771108810691259,
          -0.04348476817638437,
          -0.020431291551705484,
          -0.026300145903499866,
          0.26288448660865565,
          -0.035510834221820047,
          -0.03229209236147653,
          -0.045328866036961034,
          -0.04661967265840617,
          -0.02924707843067091,
          -0.02109329516294797,
          -0.030411987530141564,
          -0.05282991135050421,
          0.22331938195252363,
          -0.019387749216632295,
          -0.042012601657077125,
          -0.04000596260121376,
          -0.03188152968389644,
          0.36896965970956513,
          -0.061308615531383,
          -0.02953636115766682,
          -0.020431291551705484,
          0.9596992297975022,
          -0.05549332814742908,
          -0.04282863834043169,
          -0.02699971285175099,
          -0.028836446882538946,
          -0.041326990745964895,
          -0.025903758933090014,
          0.9596992297975022,
          -0.029421377310222343,
          -0.03114763889412884,
          -0.02901195199814269,
          -0.032464259158123066,
          -0.031703531231476026,
          -0.017929526981000372,
          -0.04485217993207461,
          -0.03801399904326602,
          -0.05563647280211431,
          -0.014222642451804766,
          -0.02528000039111348,
          -0.022264582254171942,
          -0.02413223739224681,
          -0.027940928103032617,
          -0.029067443919546906,
          -0.026524885564406762,
          -0.023754452823121084,
          -0.025067430351282432,
          0.2585711598666753,
          -0.020431291551705484,
          -0.05650221653467133,
          -0.018722089052491474,
          -0.032789817867195176,
          -0.020431291551705484,
          0.406051408352362,
          -0.03672990173388971,
          -0.0314693262879118,
          -0.025125001267753525,
          -0.02682921439527538,
          -0.03452807715257351,
          -0.028367685928472882,
          -0.036898346269448296,
          -0.0328472872570882,
          -0.02219576331885716,
          0.006105329079881626,
          -0.032811187166614936,
          -0.03618501660184129,
          -0.02163508802725,
          -0.02682042817713433,
          -0.02682042817713433,
          -0.03360293971134347,
          -0.03188152968389644,
          -0.020431291551705484,
          0.4439948807335202,
          -0.04492751250947791,
          -0.02675300513310602,
          -0.04334816943851678,
          -0.024340175260216552,
          -0.03646105920484767,
          0.24010809260798535,
          -0.026305278192925715,
          -0.04209837493781243,
          -0.0423193562790996,
          -0.04725794504509733,
          -0.04582201985105862,
          -0.02428258817198582,
          -0.0323300030247657,
          -0.04848929820442741,
          -0.041210673735438526,
          -0.026403668037439904,
          -0.02041268574196058,
          -0.03954387935648795,
          0.9596992297975022,
          -0.020431291551705484,
          -0.033689816796674814,
          -0.04731270052871683,
          0.9596992297975022,
          -0.04772224814736301,
          -0.03164098404947599,
          -0.033759237009263324,
          0.14902473278672174,
          -0.05304826797930308,
          0.5776500999481917,
          -0.039391300267166494,
          -0.03435978157278705,
          -0.03333327258844265,
          0.3873616689286119,
          -0.03188152968389644,
          -0.042872942707321955,
          -0.035061686387914764,
          -0.035061686387914764,
          -0.03326007871028895,
          -0.03992617969494896,
          -0.0302917984588623,
          -0.029134815044826557,
          -0.024446910743557388,
          -0.03733125582197954,
          -0.040293754225034284,
          -0.02351190977436973,
          -0.034465676043492266,
          -0.012916962379713525,
          -0.023250456268273285,
          -0.04263702708508012,
          -0.025845936380462006,
          0.49997898179689215,
          -0.03858949992258086,
          -0.034904684610136474,
          -0.03374928206479565,
          -0.026812425145387696,
          -0.020431291551705484,
          -0.0444091011835713,
          -0.03813751265518997,
          -0.017055331944305235,
          -0.0438029435479065,
          -0.03749121659662676,
          -0.042032322140775395,
          -0.015875522388236973,
          -0.025312098017221587,
          -0.04077247476664705,
          -0.040254246859275304,
          -0.030901420926321293,
          -0.020431291551705484,
          -0.04300064156964847,
          -0.03685152132448541,
          -0.009086761410037815,
          -0.031963370241586714,
          -0.032214155990198216,
          -0.032692867661463385,
          -0.03736209843040216,
          -0.041210673735438526,
          -0.04089760282070781,
          -0.04413744967819356,
          -0.03978751859437148,
          -0.056318454866355235,
          -0.03204685950215579,
          -0.035216651339990745,
          -0.028462746920398668,
          0.6162563198102944,
          0.42675765163380547,
          -0.020431291551705484,
          -0.025083240691654296,
          -0.038657449047946095,
          -0.037446125047274084,
          -0.030847120213428125,
          -0.030839941444764266,
          -0.028257750886424314,
          -0.034510744986553495,
          -0.03946238722755605,
          -0.041855244440982486,
          -0.0472017839745546,
          -0.02794158093738053,
          -0.04628455886534261,
          -0.033849625389353544,
          -0.0363860942094129,
          -0.053794265515086696,
          0.9596992297975022,
          -0.04039824820322858,
          -0.03987520616861927,
          -0.03483202366960591,
          -0.03749837340333394,
          -0.03691996809516328,
          -0.040755507696559896,
          -0.043841965568895525,
          -0.020496100255535218,
          -0.029710973562456805,
          -0.021763563323862384,
          -0.015941644530088294,
          -0.03183117389380112,
          -0.03413769226338166,
          -0.025945616271776013,
          -0.027228032410555825,
          -0.03491563899456917,
          -0.020431291551705484,
          -0.026706330229062568,
          -0.0376577209876568,
          -0.02803873999103667,
          -0.038431541835281316,
          -0.019526178536137372,
          -0.03267198484970478,
          -0.02437976289528207,
          -0.03207344045878078,
          -0.03813751265518997,
          -0.009003637656912738,
          -0.03140838298685479,
          0.2702392749600012,
          -0.04534294744374855,
          -0.046142591694353446,
          -0.04927417148268843,
          -0.02825780873137508,
          -0.0408825584940062,
          -0.023626512472312646,
          -0.04108814492903203,
          -0.024205833817073433,
          -0.020431291551705484,
          -0.03373601839830415,
          -0.03362178500203897,
          -0.04213794905563983,
          -0.04302084810145256,
          -0.030793291389370418,
          -0.033841635147677115,
          -0.04111535338997587,
          -0.03407951676819473,
          -0.02654581240759707,
          -0.030953659712689704,
          -0.02819197203057561,
          -0.04624712965564681,
          -0.034168565937550674,
          -0.029539989344528374,
          -0.04045244045019325,
          -0.029811401219339666,
          -0.031279949834010265,
          -0.03438132634663321,
          -0.023501514988943886,
          0.011815928348035742,
          -0.03734276269003396,
          -0.0418394624119248,
          -0.020431291551705484,
          -0.04575053695411912,
          -0.020431291551705484,
          -0.0354037486910103,
          -0.014271419384785072,
          -0.03811280398316272,
          -0.03182138148221591,
          -0.03129268597886891,
          -0.018491867823139198,
          -0.044230751487019875,
          -0.023645424977506536,
          -0.026609876691659734,
          -0.04501459547472781,
          -0.020431291551705484,
          -0.026962108207187547,
          0.9596992297975022,
          -0.03751429123729341,
          0.9596992297975022,
          -0.028711741336270122,
          -0.04600215276119027,
          -0.02794158093738053,
          -0.03304767032285051,
          -0.023436436213001406,
          -0.020431291551705484,
          -0.04725794504509733,
          -0.016966548678169453,
          -0.02474768222870468,
          -0.03089403353137865,
          -0.029945719100303594,
          -0.04666244810857602,
          -0.02938595458914367,
          -0.020474319336809405,
          -0.009865440250595181,
          -0.03237391812584795,
          0.9596992297975022,
          -0.02597688035100016,
          -0.032305312178418644,
          -0.034694001363748846,
          -0.0065691830711118795,
          -0.03235801871454422,
          -0.04766449289971519,
          0.022740714557128346,
          -0.029370771380024197,
          -0.020431291551705484,
          -0.043149073095251685,
          -0.020431291551705484,
          -0.020431291551705484,
          -0.037250947990652775,
          -0.03458748529048908,
          -0.024765504558736433,
          -0.024505731017956847,
          -0.025996278219359507,
          0.2343383303945364,
          -0.04156025889077342,
          -0.024858476609059585,
          -0.032863173645774936,
          -0.018491867823139198,
          -0.033081745074513974,
          -0.02617530099882018,
          -0.02609472770064023,
          -0.023061429030377407,
          -0.032528916745142356,
          -0.019237593946096476,
          -0.03194271640803044,
          -0.033859155821226936,
          -0.02490120296311632,
          0.350804518651142,
          0.9596992297975022,
          -0.03652168475065124,
          -0.020639682786059065,
          -0.04721937477203838,
          -0.029545089812874983,
          -0.033859155821226936,
          -0.03922022869509958,
          -0.04339271899747838,
          -0.03420658842930624,
          -0.03638420336027723,
          -0.025791872798692328,
          0.5696330446386307,
          -0.01799625854386119,
          -0.020431291551705484,
          -0.022496339049542544,
          -0.04517908771056324,
          -0.02597688035100016,
          -0.032577696724095065,
          -0.03146388452889185,
          -0.020431291551705484,
          -0.029968327024741313,
          0.3404939401920012,
          -0.02522357281597479,
          -0.012508731990499412,
          -0.01932020720401349,
          -0.033028133423364844,
          -0.03592806395554849,
          -0.05154395632844021,
          -0.031751028193784156,
          -0.010536505868358163,
          -0.041475959806882366,
          -0.04415924891194053,
          -0.020431291551705484,
          -0.020431291551705484,
          -0.03301775623125641,
          -0.03198820700807584,
          -0.032419738995923285,
          -0.030846018409621447,
          -0.02413223739224681,
          -0.02230772493062283,
          -0.013881393327706382,
          -0.026752643664316456,
          -0.024635457313590504,
          -0.041475959806882366,
          -0.02916481504106863,
          -0.020524740076213258,
          -0.02753836758848951,
          -0.03482444184089957,
          -0.04000285130245323,
          -0.02626923097817498,
          -0.04111535338997587,
          -0.023651645647842223,
          -0.019597031523894557,
          -0.04027147423686208,
          -0.020431291551705484,
          -0.020431291551705484,
          -0.051473044534165145,
          -0.02597688035100016,
          -0.04468650989602158,
          -0.04043367559032376,
          -0.038467804061813986,
          -0.037680607381733275,
          -0.04818478094100943,
          -0.030805265616957678,
          -0.024158112043920862,
          -0.023890705348102354,
          -0.03513473212118321,
          -0.047770693262100525,
          -0.036025769730939544,
          -0.02627093705465679,
          -0.04114872912434624,
          -0.028792408266467482,
          -0.023651645647842223,
          -0.033795552399205966,
          -0.03162989340070908,
          -0.038658215579498605,
          -0.026054379433694454,
          -0.03200499774522225,
          -0.01577926393784359,
          -0.005872501400562255,
          -0.033467878633762896,
          -0.031573125727567694,
          -0.008811385846002964,
          -0.032454862610769075,
          -0.030494731800931384,
          -0.02186720416864739,
          -0.041508900952561135,
          -0.04135090254919873,
          -0.044354017085900706,
          -0.021384419694203394,
          -0.03626060552537162,
          -0.0418394624119248,
          -0.033859155821226936,
          -0.039586546719102056,
          -0.020431291551705484,
          -0.0589299312336532,
          -0.030673726375736333,
          -0.006254532609748389,
          -0.020431291551705484,
          -0.020431291551705484,
          -0.0394543540521489,
          -0.029968327024741313,
          -0.0259450714776889,
          -0.031178575195155617,
          0.20402502210485687,
          -0.021024265488697406,
          -0.030542487662607167,
          -0.020431291551705484,
          -0.045609126425402456,
          -0.011658717335373433,
          -0.033179942173310384,
          -0.02130538585202944,
          -0.036708504232730844,
          -0.0395484130208699,
          0.5143130865402402,
          -0.020431291551705484,
          -0.01616844193095872,
          -0.020431291551705484,
          -0.020431291551705484,
          -0.015677424476316586,
          0.21274372353884768,
          0.43725744865144534,
          -0.057323570152569205,
          -0.02114700550386685,
          -0.04182522041704284,
          -0.03637707642550923,
          -0.04111535338997587,
          -0.03334432723170112,
          0.2594818587323342,
          0.24733859259069146,
          -0.030167376648924098,
          -0.020431291551705484,
          -0.028339933113078628,
          0.6563005452311164,
          0.5128557723222779,
          -0.03867092892309641,
          -0.036968491159518745,
          -0.05210587353732807,
          -0.033859155821226936,
          -0.02852925661187392,
          -0.040290520635923484,
          -0.012750938772709414,
          -0.051046325492337834,
          -0.02609610958888736,
          -0.024537532028249306,
          0.34370010257967587,
          -0.024835043647122895,
          -0.028674393913308446,
          -0.03822207158535705,
          -0.03642279075970465,
          -0.031218150623830244,
          -0.04252511948447857,
          -0.026018963337568705,
          -0.025873293644984488,
          -0.02954328781525343,
          -0.021634942208096933,
          -0.020431291551705484,
          -0.020431291551705484,
          -0.04274780046355634,
          -0.03344455370169836,
          -0.024711154220673624,
          -0.05006310393981772,
          -0.033611514880375115,
          -0.048551282944782774,
          -0.023086630140579694,
          -0.03813751265518997,
          -0.052784292251016766,
          -0.024147839363257834,
          -0.04385577533480938,
          -0.033859155821226936,
          -0.03331050851637895,
          -0.027505619433700817,
          -0.042175399710428524,
          -0.02107118812521531,
          -0.026613655163358656,
          -0.03483202366960591,
          -0.03918454866016578,
          0.49915371695237065,
          -0.03633297588617836,
          -0.050003821070750305,
          -0.028172492439221555,
          -0.025319695840298886,
          -0.03711269712223232,
          -0.038224970253328175,
          -0.01674238549040883,
          -0.04343948330592208,
          0.009172464747081626,
          -0.02848494542699998,
          0.0027138919215615974,
          0.3269056413504854,
          -0.024635457313590504,
          -0.03473683892621605,
          -0.04291203301415414,
          -0.029392089197982144,
          -0.04829875982150959,
          -0.029212266009656405,
          -0.022685499675320703,
          -0.020431291551705484,
          -0.03853254809643055,
          -0.06302625701176567,
          -0.055419414054389375,
          -0.03407951676819473,
          -0.02597688035100016,
          -0.02742319240310364,
          -0.02267398973681315,
          -0.01492546570755077,
          -0.01009165419767175,
          -0.03922022869509958,
          -0.029130503220348936,
          -0.04496177380832917,
          -0.02951137801192829,
          -0.05325027431522202,
          -0.04648939829850638,
          -0.014302768443747043,
          -0.0418394624119248,
          -0.04348907300680759,
          -0.035164112163951586,
          -0.035143322148273766,
          -0.02615514651971446,
          -0.02896672511862931,
          -0.022781607430695062,
          -0.038514721078255446,
          -0.02680429067484671,
          -0.04683792625174168,
          -0.02943447415037131,
          -0.034444605858116886,
          -0.02687404752303936,
          -0.021967672264685992,
          -0.018152779423155765,
          -0.020433230453099596,
          -0.041198432391339454,
          0.20689586203887742,
          -0.028553464244309785,
          -0.025016270225968452,
          -0.027182325775004047,
          -0.020431291551705484,
          0.3761356619547097,
          0.3460245727114775,
          -0.02585354850346749,
          -0.022000765571135526,
          -0.047762709096492086,
          -0.035079758081149666,
          -0.03094268606495737,
          -0.04343866087722523,
          -0.04492310558395184,
          -0.024438956703310123,
          -0.03381496969830819,
          -0.041047707457511726,
          -0.025765570677750444,
          -0.045127793417073625,
          -0.016092942476241292,
          -0.04521676428298004,
          -0.048112830469783124,
          -0.04114204330452433,
          -0.026355936654901144,
          -0.02883836347797234,
          -0.033286858504702144,
          -0.028011609072185983,
          -0.032218606257577685,
          -0.021152869791400145,
          -0.04429129539382176,
          -0.02849298248156506,
          -0.04111535338997587,
          -0.026644988519177713,
          -0.02719111792937605,
          -0.028305362903509303,
          -0.04111535338997587,
          -0.03885918346600623,
          -0.041649397997895486,
          -0.03248002604309935,
          -0.033137162481363,
          -0.040969166320842916,
          -0.020431291551705484,
          -0.01096748304555948,
          -0.03396103894126287,
          -0.026986161189606256,
          -0.023240605738436903,
          -0.023233375417041006,
          -0.04934579322784172,
          -0.037984046379782414,
          -0.033595979987316005,
          0.0023265069492555447,
          -0.010862155415825168,
          -0.03916206086940278,
          -0.0320232940041099,
          -0.027053445266769328,
          -0.02951441972913023,
          -0.034280404514534846,
          -0.0034622728784230684,
          0.4372051401968386,
          0.9596992297975022,
          0.20562429868273766,
          -0.020778737959704467,
          -0.022877570280401504,
          -0.03283331107545688,
          0.9596992297975022,
          0.4179664828961001,
          -0.03654329905992441,
          -0.020431291551705484,
          -0.0171004693347271,
          -0.04126104768683751,
          -0.021024265488697406,
          -0.013881393327706382,
          -0.0051289354046652235,
          -0.03704406775688152,
          -0.028681915979224804,
          -0.03381420891788819,
          -0.017942095358065548,
          -0.0410683872222579,
          -0.04556656319772236,
          -0.04881355880125882,
          -0.044204896553409846,
          0.3856640825717271,
          0.14717374459331514,
          -0.030054191277524196,
          0.018860789941999686,
          -0.033935957062926125,
          -0.02082356132519546,
          -0.03086223463377499,
          -0.03124404018200019,
          -0.019375162671169475,
          -0.01133056292062094,
          0.5818184737351308,
          -0.03067621861169915,
          0.4365437824380301,
          -0.03587593882019506,
          -0.01777655912610729,
          -0.021313410151831597,
          -0.04762072900971553,
          -0.033349019485040564,
          -0.04656278317025407,
          -0.026706330229062568,
          -0.006532930971151566,
          -0.02526504218446938,
          -0.020431291551705484,
          -0.03352012223168811,
          -0.023928568578289143,
          0.20050169157021996,
          -0.03612430623813888,
          0.35901743809447206,
          -0.04854286760611569,
          0.16513916863562414,
          -0.03876431433114866,
          -0.019583389738163905,
          -0.03713671354467469,
          -0.03448609051545286,
          -0.04547503322508548,
          -0.0565738386269345,
          0.520098628052914,
          -0.037615956345484675,
          -0.008811385846002964,
          -0.06428785935272988,
          -0.03250795736583305,
          -0.05304826797930308,
          0.31604009491223806,
          -0.028377074530211436,
          -0.0299897906007038,
          -0.04875920653566111,
          -0.030162738040065275,
          -0.025731757299739453,
          -0.01928378916902965,
          -0.02597688035100016,
          -0.04010295892609248,
          -0.02557433261982254,
          -0.032052697754933766,
          -0.03590683828550708,
          -0.04878744670038699,
          -0.04543198101893397,
          -0.04891649571400149,
          -0.04909265905967169,
          -0.04130932006376446,
          0.31305699821872357,
          -0.02478667074802396,
          -0.032052697754933766,
          -0.0347329621209954,
          -0.023218878246400378,
          -0.020368039116878223,
          -0.04929626883439117,
          -0.03432085347815915,
          -0.030738758933387265,
          -0.01847117945983266,
          -0.0367369391885616,
          -0.013933382326304724,
          -0.03578100359825063,
          0.26960617037879925,
          -0.0326054684017515,
          -0.03564235442240147,
          0.31659419073779155,
          -0.024096794585667245,
          -0.038536117129041404,
          -0.028105944050999275,
          -0.031964653228712954,
          -0.04546352114939067,
          -0.03703500573071724,
          -0.0227788053367758,
          -0.032541271099529846,
          0.003274027325053221,
          -0.030152254809993295,
          -0.02223366972729458,
          -0.0418394624119248,
          -0.04092787034217314,
          -0.03196951017730323,
          -0.039703418375373986,
          -0.027625517679360757,
          -0.030784818590833388,
          -0.04334816943851678,
          -0.030735452301731966,
          -0.05490709321356929,
          -0.034936640297542725,
          -0.03370555435444216,
          -0.03564022094090907,
          -0.04101909096010691,
          0.0020462168461261383,
          -0.027115806853377052,
          -0.033090620936180676,
          -0.04013914889551647,
          -0.028893296178612627,
          -0.023651645647842223,
          -0.0468307399910591,
          -0.038881937221434765,
          -0.03252204305632586,
          -0.03856884273620828,
          -0.020431291551705484,
          -0.0399459170301601,
          -0.030784818590833388,
          -0.01424838404430793,
          0.21155724878845342,
          -0.02211135868784617,
          -0.03127458780667694,
          -0.02607168388665602,
          -0.03538702982401543,
          -0.046605263928543604,
          -0.023665301332862786,
          -0.043449020383324516,
          -0.043162611529726475,
          -0.036112632417016316,
          -0.029893466454686567,
          -0.044289850876895895,
          -0.04083776769125583,
          -0.04483233783104809,
          0.005314046623688025,
          -0.03317542321527923,
          -0.054908511271124075,
          -0.037071506087395296,
          -0.024591133002616943,
          -0.05068037501098582,
          0.22046749267118113,
          -0.03504653911598973,
          -0.026884801628823615,
          -0.03870265242614871,
          -0.03207631790874372,
          -0.036619127999713584,
          -0.027390712179849,
          -0.03534219727743242,
          -0.025589134728361166,
          0.9596992297975022,
          -0.03973383331013041,
          -0.03114778838931919,
          -0.04572573606470387,
          -0.014498190543374465,
          -0.0455265666922695,
          -0.03349237929201327,
          -0.04047270711452337,
          -0.04825506246456213,
          -0.01795782742614336
         ],
         "y": [
          -0.036022474578904486,
          -0.02073943830469077,
          -0.05254266946287228,
          -0.03345808780001739,
          -0.028421796442946894,
          -0.04385709626908851,
          -0.03553202244530774,
          -0.020739438304690983,
          -0.016637798767146723,
          -0.012725218081746759,
          -0.020739438304690987,
          -0.04499301000787272,
          -0.020727704848752086,
          0.005581940402688471,
          -0.028662245230184777,
          -0.02363227517698859,
          -0.02813401176497181,
          -0.015286453902745011,
          0.017987465132099496,
          -0.020739438304690994,
          -0.05536342698009273,
          -0.007463386781494607,
          -0.020739438304690994,
          -0.031159709711148578,
          -0.024443568900308025,
          -0.03080523623733099,
          -0.02808665264624516,
          -0.020739438304690994,
          -0.030612066471044887,
          -0.020739438304690994,
          -0.031078863666566762,
          -0.03320878394942648,
          0.4224073423650463,
          0.01625374966729117,
          -0.02047922423183673,
          -0.025353051805113117,
          -0.020739438304690994,
          -0.020739438304690994,
          -0.00439445810710395,
          -0.03914706044703939,
          -0.04746537226480532,
          -0.007511917221504635,
          0.02633148838264167,
          -0.02477933569472803,
          -0.03367760982926254,
          -0.04267639866223311,
          -0.015596402011140244,
          -0.0313038552343737,
          -0.013371669873711295,
          -0.04065996969790183,
          -0.026078006889463524,
          -0.024827327649902774,
          -0.025251221596359726,
          -0.050529257605113294,
          -0.026140124899463137,
          -0.02483736292129187,
          -0.03462635710034716,
          -0.047141941365497035,
          -0.028220816264624204,
          -0.03177907105673629,
          -0.030117230320954307,
          -0.016086801688586155,
          -0.04207956123948908,
          -0.02357720786001384,
          -0.004969745998709294,
          -0.02715140922001916,
          -0.02975453462520427,
          -0.045658047463324344,
          -0.00009860343706778614,
          -0.020739438304690994,
          -0.020767991081007013,
          -0.02901615993876275,
          -0.04103436279842119,
          -0.046671485258538314,
          -0.034447510729936466,
          -0.005382484026049204,
          -0.0417234673440899,
          -0.09083518754838013,
          -0.02594559172579179,
          -0.03351228915452278,
          -0.022447178711812867,
          -0.05044782389086804,
          -0.02093283876948801,
          -0.022185165421785464,
          -0.03892785970470729,
          -0.021056836806470327,
          -0.008955242943298422,
          -0.020739438304690994,
          -0.0592237018754683,
          -0.05033508034572769,
          0.0020232288449312345,
          -0.04435289193153721,
          -0.016543180760711807,
          -0.017072895872136767,
          -0.020739438304690994,
          -0.03842396435577214,
          -0.012552478757282425,
          -0.03713657874411856,
          -0.02281841836753805,
          -0.03152759605647821,
          0.005534246725902454,
          -0.04551233920543932,
          -0.03636732081741064,
          -0.041083859945881276,
          -0.049458216899452914,
          -0.04759947911076202,
          -0.020360317362905334,
          -0.010339046540640686,
          -0.008505246086081024,
          -0.009983499524807544,
          -0.04075888741089626,
          0.00069378173302443,
          -0.04578369540029533,
          -0.021770755093216573,
          -0.026476782339115594,
          -0.04328465760985983,
          -0.031342691727903334,
          -0.04830424908710263,
          -0.05078279729870103,
          -0.005617783440850072,
          -0.0337483575695716,
          -0.03503218294425059,
          -0.0478316205633482,
          -0.0256385373510989,
          -0.0355758591427198,
          0.0023965444822515954,
          -0.027861361691347394,
          -0.03636290834288605,
          -0.01098625947246882,
          -0.04078164008505493,
          -0.026164672252636745,
          -0.028721808955679017,
          -0.015338896162186979,
          -0.04445477330787519,
          -0.04345018196767898,
          -0.025507257250712692,
          -0.03286241070301736,
          -0.01678051970956703,
          -0.033298544503548945,
          -0.02715140922001916,
          -0.02715140922001916,
          -0.028519065660399304,
          -0.020739438304690994,
          -0.012161338829614848,
          -0.04377971432913217,
          -0.020739438304690994,
          -0.03514785590710728,
          0.15958918667215724,
          -0.05233652083386732,
          -0.027874693057758977,
          -0.014108478978903683,
          -0.014233187413376133,
          0.2185295300920653,
          -0.009172024325402947,
          -0.007511917221504635,
          -0.0356305176773146,
          -0.010114959664186072,
          -0.01775809550273715,
          -0.005803833053741124,
          -0.02710783879769347,
          -0.08601637180161543,
          -0.11322031186334071,
          -0.002471998137759654,
          -0.027849320021286098,
          -0.04560886441864986,
          -0.03513158381224921,
          -0.01889915751503008,
          -0.015009782397641376,
          -0.0326429990362346,
          -0.044884581336120354,
          -0.042328412986878304,
          -0.02800242155817255,
          -0.03188809082246231,
          -0.0330690169521012,
          -0.02648158608938118,
          -0.00603281875861008,
          -0.02356589223048019,
          0.005655547299093002,
          -0.025106700697534127,
          0.007838693467710697,
          -0.016101658326508412,
          -0.0392791640813347,
          -0.031675224982887135,
          -0.013629190568302217,
          -0.03975066378780343,
          -0.06935822606875676,
          -0.0536084773391007,
          0.14435364725119693,
          -0.041207525683794925,
          -0.022833834806235312,
          -0.03272430580737339,
          -0.02623756765828998,
          -0.038441013422835305,
          -0.020739438304690994,
          -0.04743056626804567,
          -0.04094216890509456,
          0.0030318471397423503,
          -0.04181113938965688,
          -0.00005572940419538389,
          -0.04116345934978633,
          -0.004350705771190238,
          -0.029259413290222348,
          0.0055753452862853815,
          0.21877314767412684,
          -0.0005162710947975925,
          -0.0278043065595543,
          -0.020847965042476196,
          -0.016445182039959757,
          -0.021964675747199507,
          -0.02800289351977261,
          -0.032359008718662464,
          0.1357813584825156,
          -0.008202026596476269,
          0.011768653846893852,
          0.0231673032462884,
          -0.0005854610433556361,
          -0.0472029521640037,
          -0.02667283375207618,
          -0.05930525110149293,
          -0.01713366366392731,
          0.017693513321838168,
          -0.0218261076260931,
          -0.025477195047768162,
          -0.04904382565551807,
          -0.03551520771079255,
          -0.03522001698739432,
          -0.0033892789552010826,
          -0.01841601047327968,
          0.007115756635629947,
          -0.025132064470295656,
          -0.020739438304690994,
          -0.03525504564075754,
          -0.05056142614704247,
          -0.018028132063950878,
          -0.019441610858799096,
          -0.03612147741419555,
          -0.031548405914099784,
          -0.020739438304690994,
          -0.05913381031913444,
          0.25224332032356217,
          -0.018082815414049016,
          -0.02655374644510051,
          -0.025764803837789164,
          -0.01586934902420445,
          -0.01812009304755429,
          -0.03051339575168732,
          -0.02795659984708261,
          0.9377438711113485,
          -0.035390942743982134,
          -0.025955018206912473,
          -0.020739438304690994,
          -0.007853346295537616,
          -0.04178624828249812,
          -0.01350294683184174,
          -0.03447595602693952,
          -0.034175340706322124,
          -0.023898672651821606,
          -0.0326940863562509,
          -0.03801662960524321,
          -0.04234595641540404,
          -0.03736984001577524,
          -0.028561324299543382,
          -0.0022276241578974014,
          -0.020739438304690994,
          -0.04484380159793004,
          -0.03650537338082074,
          -0.0684827209532825,
          -0.04380004696064539,
          -0.03772891712011782,
          -0.013372449231850755,
          -0.04207791896133612,
          -0.025377945893381562,
          -0.025175869157053454,
          -0.03542964990282351,
          -0.028307833923097218,
          -0.007511917221504635,
          -0.031067275355047354,
          -0.019581058025228464,
          -0.02117184167200141,
          -0.02429535019573828,
          -0.020739438304690994,
          -0.027455048606202733,
          -0.027081356715596153,
          -0.024137546697493337,
          -0.020490305870771157,
          -0.010794743630964568,
          -0.00377694787057771,
          -0.042267105273516695,
          -0.022256403440100273,
          0.015341941820081157,
          -0.020739438304690994,
          -0.026015321175700726,
          -0.0286804037555041,
          -0.04233542801177871,
          -0.03290335382202796,
          -0.035258634398841755,
          -0.03120118536715097,
          -0.031322816132034144,
          -0.010097666839182865,
          -0.010326418090746546,
          -0.017668100629562224,
          -0.03756145661635238,
          0.0071753986456218844,
          -0.03741803800615485,
          -0.033689236096345,
          -0.034495608124454735,
          -0.02915238601795458,
          -0.023356020251006984,
          -0.030297291582594817,
          -0.020739438304690994,
          -0.0023714700378900124,
          -0.010029042009315927,
          -0.024980507105025966,
          -0.024980507105025966,
          -0.031007176801670276,
          0.3986532848399261,
          -0.020739438304690994,
          -0.05183575283553321,
          -0.03434060031513374,
          -0.0348830966307976,
          -0.044508875631469366,
          -0.04805646341328047,
          -0.02715140922001916,
          -0.020739438304690994,
          -0.02796094914377792,
          -0.038635670564013944,
          -0.038571938934082374,
          -0.039258379481924,
          -0.010467027630886836,
          0.2582659758728907,
          0.004242390196298635,
          -0.025477479936447278,
          -0.03798177838614741,
          0.017987465132099496,
          -0.02800622583372558,
          -0.008983103038218936,
          -0.03053432803729011,
          -0.029661697980989284,
          0.2933917952894143,
          -0.002233943643432664,
          -0.020739438304690994,
          0.28507384735706565,
          -0.020739438304690994,
          0.016801706599751554,
          -0.04169953282091064,
          -0.028505481758604644,
          -0.07234824784075375,
          -0.03329363160327876,
          -0.020739438304690994,
          0.028285027534180426,
          -0.027525516754408508,
          -0.035225181104075534,
          0.49132186720781584,
          -0.04042613621010656,
          -0.043995408629669414,
          -0.032171587586995766,
          -0.029746030628977144,
          -0.059814901279428234,
          -0.005484047216799076,
          0.003514709025352402,
          -0.02886809662421005,
          -0.017591240768498866,
          -0.022915274916522784,
          -0.030465119669157003,
          -0.020739438304690994,
          -0.018510301110919877,
          -0.004916340638078068,
          -0.001671799477264407,
          -0.027256349383666504,
          -0.04412161032753014,
          -0.024851841432772855,
          -0.008399089810400814,
          -0.03165369285876511,
          -0.03408672689754779,
          -0.020739438304690994,
          -0.031772403876929436,
          -0.0541150064854075,
          -0.020739438304690994,
          -0.01559515505038948,
          0.00019682008045654245,
          -0.01656232358208363,
          -0.03499649717835819,
          -0.057692681324538427,
          -0.08019079906101163,
          -0.025492351895213674,
          -0.020739438304690994,
          -0.027208119298376958,
          -0.0392791640813347,
          -0.031113479611365867,
          -0.02690043201162132,
          -0.030419558797185078,
          0.329218854460269,
          -0.05323662577033613,
          -0.030710958697090663,
          -0.025270634746302714,
          -0.03857751425356159,
          -0.02737348772751097,
          -0.04700689647379068,
          -0.028641723706105456,
          -0.019613213974740952,
          -0.04617507385237941,
          -0.05204209487651833,
          -0.004443168342273761,
          -0.026004233679597876,
          -0.020739438304690994,
          -0.022792261386474538,
          -0.04890898328779674,
          -0.0175190186013734,
          0.130072101843584,
          -0.04139314099050142,
          -0.004760129765144427,
          -0.023369252672164283,
          -0.02327220449466303,
          -0.024375365513678086,
          -0.026054135405666402,
          -0.020739438304690994,
          -0.023456310099897255,
          -0.01246547916996794,
          -0.020509599568217088,
          -0.03560480329346517,
          -0.03560480329346517,
          -0.023356020251006984,
          -0.007511917221504635,
          -0.026996631936828278,
          -0.03567729500512921,
          -0.022865575043779632,
          -0.028589288063748344,
          -0.03160145211773126,
          -0.02792836260684328,
          -0.02792836260684328,
          -0.04133019716907113,
          0.009551686467584879,
          -0.006431035107890658,
          0.4837208440080653,
          -0.020739438304690994,
          -0.03466584478957015,
          -0.005299112982917241,
          -0.025178406903548674,
          -0.023387385078079997,
          -0.007511917221504635,
          -0.03601469502920597,
          -0.020739438304690994,
          -0.020739438304690994,
          -0.022240890008989694,
          -0.03236364205789978,
          -0.04702607309478145,
          0.3842515927566299,
          -0.030150551987820764,
          0.004504001202919303,
          -0.020739438304690994,
          0.20733512476670687,
          -0.027970381352714277,
          -0.023124895342957075,
          -0.027970381352714277,
          -0.028737392831963034,
          -0.03363237411295172,
          -0.020739438304690994,
          -0.023531222114181405,
          -0.03834902419447837,
          -0.06476959496021363,
          0.01867789597967083,
          -0.04011176045155075,
          -0.038637200430055384,
          -0.020739438304690994,
          -0.023897272443438124,
          -0.029694497689494878,
          -0.03222069401379318,
          -0.025815480239983937,
          -0.030093679267627495,
          0.0003996082830040826,
          0.2649932440713153,
          0.006193326114773069,
          -0.01855375730790491,
          -0.020739438304690994,
          -0.02800242155817255,
          -0.0028409348364029875,
          0.20802856378689022,
          0.3431812116904159,
          0.3307384248007605,
          0.4693411452885669,
          -0.019347472469016396,
          -0.06389031008719219,
          -0.020739438304690994,
          -0.04528144995274772,
          -0.0504604906626803,
          -0.04519081579176809,
          -0.020739438304690994,
          -0.04567942129572765,
          -0.028357814503154624,
          -0.004508817304291749,
          -0.01734319817513054,
          -0.011914048298506631,
          -0.0336327064264243,
          0.9377438711113485,
          -0.031222875330160695,
          -0.0264219173141498,
          0.006780460648243414,
          -0.030541287294267094,
          -0.01221966469942464,
          -0.037849739768874804,
          -0.017443629309178203,
          -0.021925978213530775,
          -0.044561331289432037,
          -0.0465292783597451,
          -0.037805830231861154,
          -0.03739277059249039,
          -0.03638411920350082,
          -0.04231835052490702,
          -0.032816036611415904,
          -0.016231426542673184,
          -0.02487718499043807,
          0.004445461471250663,
          -0.011093360210889113,
          -0.02299405670958795,
          -0.020739438304690994,
          0.012394400694792427,
          0.1939175620074733,
          -0.024934312081333954,
          -0.029694735892471336,
          0.6332030520940687,
          -0.016273170932118608,
          -0.024613327731871183,
          -0.03792994990104379,
          0.015262145708586392,
          -0.03608805666242825,
          -0.03932286361552831,
          -0.020739438304690994,
          -0.025655430632310332,
          -0.036734568099884304,
          -0.05581163922063846,
          0.3073689611410052,
          -0.03175604188910456,
          -0.007511917221504635,
          0.3267382922212508,
          -0.05167173595217963,
          -0.026251353703735842,
          -0.04234667514300283,
          -0.013529838699399568,
          0.9377438711113485,
          -0.034154979155037464,
          -0.020739438304690994,
          0.3163626166866922,
          -0.03574817455787306,
          -0.0008653784439665114,
          -0.04869215889620956,
          -0.03653790342059581,
          -0.030244905052493956,
          -0.04411489851835331,
          -0.02581866070534501,
          -0.019286757531067053,
          0.0014093931440748587,
          0.4319180989765034,
          0.4319180989765034,
          -0.052662761202183314,
          -0.027817873008773236,
          -0.025558508595312387,
          -0.11322031186334071,
          -0.11322031186334071,
          -0.029938760010240942,
          -0.032221851915949284,
          -0.025178803270684585,
          -0.021401536190741244,
          0.005332956972471065,
          -0.012373316099591691,
          -0.026520614797904088,
          -0.036647646803968106,
          -0.03940038713110127,
          -0.03540951116903936,
          -0.0710093507841083,
          -0.020739438304690994,
          -0.016402259505740435,
          -0.03197717007876117,
          -0.032947373415848594,
          0.0011352982586204025,
          -0.05239058077545686,
          -0.026972161930457688,
          -0.018472378711143985,
          -0.06498263687797531,
          0.4245862882443816,
          -0.04385398929382851,
          -0.031420338635033566,
          -0.03900493879539721,
          -0.020739438304690994,
          -0.035225181104075534,
          0.36969213201772216,
          0.22829656136077983,
          0.12740893776588244,
          -0.02564959061943904,
          -0.004338608764673878,
          -0.025508238904913574,
          -0.04030872575372362,
          -0.0020902768571018577,
          -0.026520614797904088,
          -0.026782666998034943,
          -0.020739438304690994,
          -0.031436231490168616,
          -0.054784692803362706,
          -0.03209368806359255,
          -0.025475041212727874,
          -0.035148869162814754,
          -0.029145262575557163,
          -0.030203677538206047,
          -0.017413145794799814,
          -0.037434205264918946,
          -0.04477176167217962,
          -0.019623010261811027,
          -0.022668873131717306,
          -0.044190580732518574,
          -0.04467080335433891,
          -0.05244484590397542,
          -0.021627038083565732,
          -0.04932334978797762,
          -0.04114749328767155,
          -0.016569280750765202,
          -0.023207032317978556,
          -0.028704442299562212,
          -0.04406642541618769,
          -0.047572835447965915,
          0.008831120440526273,
          -0.07509979052058652,
          -0.024153279943478795,
          -0.03712685121604262,
          -0.025864704950530452,
          -0.024153279943478795,
          -0.0373329071644084,
          -0.03238546778767646,
          -0.020739438304690994,
          -0.04134060159127597,
          -0.021056836806470327,
          -0.04581636165180062,
          -0.022871669082875582,
          -0.020739438304690994,
          -0.02584056243951371,
          -0.03164861107544829,
          0.01469163646948905,
          -0.06504910662565501,
          -0.0513730726997801,
          -0.04038436605163176,
          -0.03928432376364722,
          0.018031440167665544,
          -0.04677033194063332,
          0.003340785803469456,
          0.20027661648317785,
          -0.022401704074353407,
          -0.04472015013963214,
          -0.016855999971180587,
          -0.04431225312756385,
          -0.022486889481190084,
          -0.005587124483733821,
          0.3719548546178192,
          -0.020739438304690994,
          -0.007511917221504635,
          0.0004499035339301807,
          0.41523662743275314,
          -0.03200440831918031,
          -0.033346013205322135,
          -0.00008467268983955242,
          -0.02901615993876275,
          -0.007511917221504635,
          -0.036903679753162555,
          -0.030868945954641683,
          -0.024351763536812905,
          -0.05735015404607515,
          -0.04119009945224935,
          -0.025738208340023022,
          -0.05980594555806458,
          -0.05862705806122707,
          -0.041692632251797486,
          0.0001161108994869825,
          -0.021853905895129425,
          -0.024544349406004654,
          -0.02830280859105457,
          -0.038174728086958286,
          -0.02359342383059308,
          -0.030658254283186512,
          -0.01933037697723456,
          -0.016105438059961633,
          -0.010732113141708823,
          -0.020739438304690994,
          -0.006038697774863171,
          -0.029969842716280774,
          -0.01873764930859999,
          -0.020739438304690994,
          -0.0019548852723808674,
          -0.008898030919413383,
          -0.011516790746956223,
          -0.004159723743155425,
          -0.014030228929119558,
          -0.03792962875171,
          0.0031622988933867444,
          -0.0459128558895957,
          -0.02859922461298263,
          -0.03486845189716121,
          -0.024353295319022757,
          -0.03399922282677668,
          -0.03947466904453215,
          0.00033186961239502053,
          -0.016569280750765202,
          -0.016569280750765202,
          -0.044057720550410524,
          -0.04431225312756385,
          -0.020739438304690994,
          0.45341517467035636,
          -0.035225181104075534,
          -0.01139635366108206,
          0.003998641858474027,
          -0.02764494607780422,
          -0.028662245230184777,
          0.006419761662250656,
          -0.038855405892590046,
          -0.03746759050423126,
          -0.016447250052778313,
          -0.0608872866619584,
          -0.026111674308951057,
          -0.02530778328657902,
          -0.040395304018679704,
          -0.020595669505795822,
          -0.0592237018754683,
          -0.037559477824713514,
          -0.03603618521897292,
          -0.03085994537441278,
          -0.007511917221504635,
          -0.020739438304690994,
          -0.01610921219591933,
          -0.04163492187709281,
          -0.007511917221504635,
          -0.007402748357121236,
          -0.03818144889827999,
          -0.03744738325767669,
          -0.04205187942565221,
          -0.005725288917784865,
          -0.0144799579739874,
          -0.04035967971183679,
          -0.04581436444065006,
          -0.03799557987038457,
          -0.04702607309478145,
          -0.04431225312756385,
          -0.03921446811286728,
          -0.04354358997310519,
          -0.04354358997310519,
          -0.032908031530769724,
          -0.04310808654962505,
          -0.021440309072946855,
          -0.020326491149321432,
          -0.02805026826712724,
          -0.03975691582358739,
          -0.0404623936493703,
          -0.02465914292177137,
          -0.02760371672041967,
          -0.002395102777619872,
          -0.029731440594490677,
          -0.06146237426633205,
          -0.032312702815910116,
          -0.017767793626910153,
          -0.042267105273516695,
          -0.026064235678125127,
          -0.038424542431849375,
          -0.030526616577688778,
          -0.020739438304690994,
          -0.041674965780174204,
          -0.0809527020877737,
          -0.014904714172144116,
          -0.04488640514328022,
          -0.03883023051257422,
          -0.019690286053809285,
          0.00028696666949221074,
          -0.027236734241778852,
          -0.02897692229458943,
          -0.038634992583365356,
          -0.036997327762622816,
          -0.020739438304690994,
          -0.051004761408850886,
          -0.02649375606596124,
          -0.04893302480394344,
          0.22728777520890392,
          0.22891933922378252,
          -0.03251139914814207,
          -0.03493677041052223,
          -0.0592237018754683,
          -0.012812265398545268,
          -0.03171176757664616,
          -0.018456170016503095,
          0.24966083741519635,
          -0.029568340119631255,
          -0.0223921888345763,
          0.17573160573821026,
          0.0055753452862853815,
          -0.01706981060971911,
          -0.020739438304690994,
          -0.023296873196892907,
          -0.03750735482679483,
          -0.046609312856207535,
          -0.032330153477862444,
          0.006193326114773069,
          -0.02429632991222092,
          -0.03453588873921848,
          -0.03903730615641326,
          0.5950494637542454,
          -0.06014107128840269,
          -0.01889915751503008,
          -0.006969814701300831,
          -0.030400078498665887,
          -0.031541660019978005,
          -0.009683367581460552,
          -0.007511917221504635,
          -0.03564304422316051,
          -0.04757375119396429,
          -0.04013194668258774,
          -0.036076602430239454,
          -0.03774732529144365,
          -0.02710009723849037,
          -0.04709950895860782,
          -0.013207917873431304,
          -0.04395783386761704,
          -0.023639026921349542,
          -0.027702512416081602,
          -0.05529663016191789,
          -0.037376891455309036,
          -0.030840235278892607,
          -0.03471188297344177,
          -0.015987998799746824,
          -0.020739438304690994,
          -0.018616340836675717,
          0.000737497778193919,
          -0.019347472469016396,
          0.004419844121767321,
          -0.026252470886418168,
          -0.035782863927675816,
          -0.03868365103486805,
          -0.03646937243420383,
          -0.0809527020877737,
          -0.018448758062218934,
          -0.03283315640341762,
          -0.020878214009792048,
          -0.0680065375654502,
          -0.03197915759305335,
          -0.02822253551548239,
          0.25294441368488035,
          -0.05331222766858178,
          -0.029851950150771828,
          -0.03192813972706662,
          -0.031410001296226814,
          -0.020739438304690994,
          -0.03766889126103658,
          -0.04962259065919151,
          -0.04800389428554147,
          -0.023752787814684,
          0.01196766303371322,
          -0.04443919072201572,
          -0.11322031186334071,
          -0.07490980296288081,
          -0.031004868267008025,
          0.016138449841763384,
          -0.041797622320361806,
          -0.03397611607002305,
          -0.04004934217065742,
          -0.044047510347287065,
          -0.04034578755583909,
          -0.0028727336388982396,
          -0.04709657151657396,
          -0.03552914612607362,
          -0.017906546011247606,
          -0.054760459162613045,
          -0.01666619738050893,
          0.9377438711113485,
          -0.020739438304690994,
          -0.047526188397079845,
          -0.020739438304690994,
          -0.03130595639342067,
          -0.023830527854174086,
          -0.041986670788500796,
          -0.020122563712173393,
          -0.014280896720999463,
          -0.05369050357355512,
          -0.04444973115739075,
          -0.014680609847477436,
          -0.009683228032389102,
          -0.06977694063615919,
          -0.020739438304690994,
          -0.0008896869291743544,
          -0.007511917221504635,
          -0.025694274381193885,
          -0.007511917221504635,
          -0.031998421568805495,
          -0.04984045999948134,
          -0.01889915751503008,
          -0.0385655761637798,
          -0.026638323888486852,
          -0.020739438304690994,
          -0.0608872866619584,
          -0.032536404485742396,
          -0.027105823512899245,
          -0.038050472926422774,
          -0.025945360615193737,
          -0.05572611874330946,
          -0.04285785444131705,
          -0.008070409928406403,
          -0.014641801952035561,
          -0.017786549324270474,
          -0.007511917221504635,
          -0.031342691727903334,
          -0.03817011563519906,
          -0.041282292517685434,
          0.008887105813914283,
          -0.026543977745085226,
          -0.04627311741675861,
          -0.04730489789503671,
          -0.024640084576506016,
          -0.020739438304690994,
          -0.047701755454228854,
          -0.020739438304690994,
          -0.020739438304690994,
          -0.0377159107086278,
          -0.03426144030099612,
          -0.04217886784596098,
          -0.027854215858792844,
          -0.022422601440776933,
          -0.008964229736061093,
          -0.016231426542673184,
          -0.026671520986848187,
          -0.028747299823874754,
          -0.05369050357355512,
          -0.03272304818897544,
          -0.01953549781482464,
          -0.02901889146637789,
          -0.036807971562770915,
          0.4027710334199822,
          0.005730497443261831,
          0.5154229233858572,
          -0.031222875330160695,
          0.004247809682634898,
          -0.020361772480978348,
          -0.007511917221504635,
          -0.028529191685612704,
          -0.03713809510833891,
          -0.010256505609029678,
          -0.03278942156947733,
          -0.031222875330160695,
          -0.04647922227294094,
          -0.03986440475547826,
          -0.028622343974988754,
          -0.036565168305691814,
          -0.026710845812522966,
          -0.018454881206837134,
          -0.006662772022114065,
          -0.020739438304690994,
          -0.05033038404302943,
          -0.03868323718790164,
          -0.031342691727903334,
          0.36678641158761577,
          0.25867517585984995,
          -0.020739438304690994,
          -0.03460148904763882,
          -0.04682924908835019,
          -0.029440850553503463,
          -0.031679651078712956,
          -0.03324852274693852,
          -0.026871398448750174,
          0.18481847182151517,
          -0.05559311389152123,
          -0.02682913633970838,
          -0.04350116669149702,
          -0.01586934902420445,
          0.5657850489664282,
          -0.020739438304690994,
          -0.020739438304690994,
          -0.025494974175979315,
          -0.04337031884011007,
          -0.04125334567009896,
          -0.04523854245948155,
          -0.02830280859105457,
          0.2456681936160834,
          -0.02812442560986701,
          -0.021300570038252205,
          -0.02800242155817255,
          -0.01586934902420445,
          -0.018562197584559962,
          -0.013722877501640262,
          -0.04514739306616568,
          -0.038900554531531815,
          -0.05269653764734908,
          -0.020941110544495704,
          -0.11322031186334071,
          -0.04207956123948908,
          -0.00479606284755058,
          0.4316613905044698,
          -0.020739438304690994,
          -0.020739438304690994,
          -0.032798276833247576,
          -0.031342691727903334,
          -0.06099700969215505,
          -0.04222139700817398,
          -0.041854413675427866,
          -0.07151610983459677,
          -0.062419963369168496,
          -0.026046892109266907,
          -0.018565235776741823,
          -0.01412284407600872,
          -0.00041464988589724874,
          -0.040022673198443076,
          0.40212769826453143,
          -0.033474505478460516,
          -0.03832885416431902,
          -0.022673776895278244,
          -0.04207956123948908,
          -0.03168269167352641,
          -0.03199340370947819,
          -0.05711714045221237,
          -0.0325539510373506,
          -0.010423714755831448,
          -0.03978283404456055,
          -0.00307538784027695,
          -0.023764190785065004,
          -0.03778305200275853,
          -0.031862636777640056,
          -0.02652054261816385,
          0.021311467168990322,
          -0.04260380931581908,
          0.012840297289755042,
          0.008039692251331696,
          0.004028354209165865,
          -0.03681246654309616,
          -0.0395442998382924,
          0.9377438711113485,
          -0.031222875330160695,
          -0.034194653343533644,
          -0.020739438304690994,
          -0.022101918135998624,
          -0.05701698883132638,
          -0.05942659016379397,
          -0.020739438304690994,
          -0.020739438304690994,
          -0.023918643975318836,
          -0.03460148904763882,
          0.4025522962889097,
          -0.012031151704848031,
          -0.015523073308689801,
          -0.024478913138376628,
          -0.015379710887740138,
          -0.020739438304690994,
          -0.04991723824741182,
          -0.03510858416285946,
          0.29197180537099715,
          0.0034475217675758053,
          -0.016298699280278526,
          -0.06350527790032671,
          -0.019430990850825166,
          -0.020739438304690994,
          -0.016046397530480063,
          -0.020739438304690994,
          -0.020739438304690994,
          -0.027634580615835465,
          0.005801536505898006,
          -0.005778341699658632,
          -0.01996851336058591,
          -0.03498417233591476,
          -0.09778301486692206,
          -0.05325467074298669,
          -0.11322031186334071,
          -0.04743564017886978,
          -0.023228317702410253,
          -0.01540251768102498,
          -0.028740808990647945,
          -0.020739438304690994,
          -0.026525690409509063,
          -0.032947373415848594,
          -0.011736356422959853,
          -0.08960026024085851,
          -0.018162457922468806,
          -0.03437643037190916,
          -0.031222875330160695,
          -0.03323843419877579,
          -0.001666327574797514,
          -0.006034183867276346,
          -0.025102783831737387,
          -0.029637058043168425,
          -0.02044464702017029,
          0.02633148838264167,
          -0.024657153150486572,
          0.5079199894022063,
          -0.05148566271325482,
          -0.03915699532838546,
          -0.012518634050239428,
          -0.027071059118315872,
          -0.02782408398343746,
          -0.033988741331678264,
          -0.038607220786805674,
          -0.030962658187409918,
          -0.020739438304690994,
          -0.020739438304690994,
          -0.020730696203505122,
          -0.0026479164811646187,
          -0.018158292094047117,
          -0.05318653421681971,
          -0.046317936561508094,
          -0.06333727406217231,
          -0.023008817308237957,
          -0.0809527020877737,
          -0.021543489404889104,
          -0.042835162001705215,
          -0.021970050932092682,
          -0.031222875330160695,
          0.3227554952486847,
          -0.04115387652002361,
          0.41747205191158915,
          -0.05043201802087153,
          -0.01879896409815296,
          -0.04013194668258774,
          -0.01561455334310937,
          -0.027658786014417517,
          -0.04568820651716139,
          -0.056242201967249085,
          -0.04946896171442174,
          -0.03755531018322495,
          -0.0411157382501224,
          0.02902760861940519,
          -0.016929047865640208,
          -0.0007339699406235621,
          -0.04217111089867598,
          -0.03515259189275629,
          -0.03394009971951471,
          -0.028893125424743545,
          -0.02800242155817255,
          -0.05707504814686248,
          -0.04416472604554193,
          0.007916491154855126,
          -0.04494963002459137,
          -0.037521607910754054,
          -0.03924064190055675,
          -0.020739438304690994,
          -0.02424489100971299,
          -0.0021902892819420563,
          0.3719559047949804,
          -0.07490980296288081,
          -0.031342691727903334,
          -0.023594181190793328,
          -0.04601922391071864,
          -0.031499023963288325,
          -0.051604896815975715,
          -0.04647922227294094,
          -0.02803633868550221,
          -0.0494957503210581,
          -0.03440469105474301,
          -0.037415497224934625,
          -0.052806593864410556,
          -0.02490747884647092,
          0.9377438711113485,
          0.3311593488059532,
          -0.038413501773894014,
          -0.04329905205343149,
          -0.03411191274162956,
          -0.023942748437666198,
          -0.03359569845010906,
          -0.03663489582170538,
          0.25170089138462426,
          -0.0013439932818792664,
          -0.030215551151589963,
          -0.03529718932092509,
          -0.008430464584839705,
          -0.03799219381203066,
          -0.03339829502857345,
          -0.024890307287883124,
          -0.03911542588275636,
          -0.0418993955643981,
          -0.04459467103355748,
          0.3913137258275851,
          -0.040395453291755146,
          -0.020739438304690994,
          -0.02452629115197934,
          -0.037109571976878176,
          -0.02672072341057156,
          -0.03552883461417949,
          -0.02970004006029002,
          -0.041977429811918626,
          -0.03648495840197236,
          -0.021223330551275482,
          -0.05074247039292801,
          -0.040533192478554206,
          -0.022213476973197963,
          -0.0375062532811693,
          -0.03218726608217928,
          -0.036913334415987306,
          -0.043898822967900146,
          -0.01993155347510613,
          -0.04803619014106287,
          0.28229025746753583,
          0.18174013578123854,
          -0.029597365121871107,
          -0.05086474339307752,
          -0.020033639348414227,
          -0.03874802381938384,
          -0.014238244964801404,
          -0.052062545369261574,
          -0.03190283594666207,
          -0.11322031186334071,
          -0.035787577298904936,
          -0.017535419826820702,
          -0.0425043262227455,
          -0.11322031186334071,
          0.5436718672959184,
          -0.04051407158419054,
          -0.004266925417429474,
          -0.03435491772562844,
          -0.03547074270393725,
          -0.020739438304690994,
          0.2997758721916934,
          -0.03369334496713836,
          -0.027937441117041426,
          0.27022322755779166,
          0.3832915513909503,
          -0.04472588053337916,
          -0.027974721841168438,
          -0.0029530742177314197,
          -0.03189824881536395,
          -0.003740517636689849,
          0.005236297017682494,
          -0.012033475942566214,
          -0.02353183618146708,
          -0.02358370694742822,
          -0.00525173073813231,
          0.01242937618763045,
          -0.020031452068569197,
          -0.007511917221504635,
          -0.017439811537739592,
          0.2657822556043134,
          -0.03721081523983383,
          -0.026519620450617624,
          -0.007511917221504635,
          -0.027961736988730862,
          -0.0281001231578996,
          -0.020739438304690994,
          -0.02703156243806815,
          -0.03003330562093251,
          -0.024478913138376628,
          -0.02812442560986701,
          -0.012060438129897967,
          -0.03101167616940881,
          -0.023452242822815387,
          -0.029391032257376628,
          -0.028254054160753602,
          -0.02120433293192353,
          -0.024328282846974157,
          -0.06252726238237949,
          -0.05014199439245829,
          -0.002147799966291828,
          -0.05861786763619759,
          -0.01427900666904374,
          -0.03634721140913839,
          -0.015209239521166425,
          -0.02784327805057767,
          -0.03668553088151042,
          -0.037340805598208765,
          -0.04745244996151248,
          0.26498493826534564,
          -0.02412109011059392,
          -0.03155553148437301,
          -0.02678742175540947,
          -0.03774510374197058,
          -0.03913296469488623,
          0.0087582582870453,
          -0.003513959982502533,
          -0.03178655277627385,
          0.4366937576165944,
          -0.018616340836675717,
          -0.015354107835309133,
          -0.028772200953610497,
          -0.020739438304690994,
          -0.028485269110427733,
          -0.03181034114802175,
          -0.0194199290160794,
          -0.027007822481550543,
          -0.028028952543716047,
          -0.03188888443947804,
          0.006320868074917586,
          -0.028236051713670537,
          -0.03264850214816435,
          0.006285129888559787,
          -0.034216814529756535,
          0.22528427723750039,
          -0.028783162951526945,
          -0.022151105896162628,
          -0.027277955809652765,
          -0.031862636777640056,
          0.18352323321342523,
          -0.00435139826576566,
          -0.005725288917784865,
          0.003030933061493526,
          0.4110028424081608,
          -0.010373655645823118,
          0.4576523454158997,
          0.20297208529999164,
          -0.030492376118213375,
          -0.020775680971484328,
          -0.031342691727903334,
          -0.05014565891425808,
          -0.024626312118532813,
          -0.03306512453853318,
          -0.011990140959436058,
          0.1387810178458742,
          0.5895646437159213,
          -0.015786517762912986,
          0.4758774694942206,
          -0.04483386309934512,
          -0.06801742350694509,
          -0.026996631936828278,
          -0.03306512453853318,
          -0.02256642210139592,
          0.0042759200542009795,
          -0.018478406980327648,
          -0.019990191730471563,
          -0.003938252411596911,
          -0.0209850046509096,
          -0.02074324037809882,
          -0.024745522831832092,
          -0.027337051866418032,
          -0.02074886002268162,
          -0.05123874477285171,
          -0.031772526038122965,
          0.0005334258449111754,
          -0.03962886023913306,
          -0.0250123688206691,
          -0.03085120088297817,
          -0.03215158011787095,
          -0.03658651469174724,
          -0.029350775850836834,
          -0.03448098871701755,
          -0.037841296917294424,
          0.23212124009769913,
          -0.051841880812177075,
          0.2933917952894143,
          -0.034794680682101536,
          0.9377438711113485,
          0.03445454095266421,
          -0.04055484128657503,
          -0.02638356397604047,
          -0.03847119487479479,
          -0.04234667514300283,
          0.003998641858474027,
          -0.00699704258192229,
          -0.011693285080655327,
          -0.016851684885543915,
          -0.0156217157658837,
          -0.029883397544155796,
          -0.03112834712299134,
          -0.05329933231494134,
          -0.004545671566210252,
          -0.027830549427871297,
          0.2409356084086437,
          0.02474161461474282,
          -0.04207956123948908,
          -0.00016335382948183153,
          -0.023990912111731558,
          -0.044823593770073965,
          -0.029242958121577733,
          -0.020739438304690994,
          -0.04577278041268283,
          -0.04234667514300283,
          -0.02206572426624043,
          0.2593774121083746,
          -0.009091513302148472,
          -0.01178270941300086,
          -0.029839821898848318,
          -0.029032559333394783,
          0.2939681932425043,
          -0.02009005214445839,
          0.17215129004946816,
          0.5593984662466415,
          0.3421456605919459,
          -0.012316666050486272,
          0.3464050363172194,
          -0.019428996938245843,
          -0.02836860974479415,
          0.017987465132099496,
          -0.016876479491737543,
          0.4419665307117632,
          0.2518020900748566,
          -0.03925758136866046,
          -0.04019343312621557,
          0.014204088182211408,
          0.25945108122025007,
          -0.004193172839145436,
          0.22584695598923474,
          0.2395278456938168,
          -0.048248215496188684,
          -0.03191150346114797,
          -0.03999029158436624,
          -0.018149530351299643,
          -0.007511917221504635,
          -0.006403525375983898,
          -0.041138570645364955,
          -0.015288685631693139,
          -0.03634558767706452,
          -0.022073532043807156,
          -0.003228508532486293,
          -0.017411161941864397,
          -0.01337543177451082,
          -0.025264843830335924
         ],
         "z": [
          0.006131993833665697,
          0.007967571800084554,
          0.3578303600034258,
          0.007489778163248311,
          0.0027067963227431196,
          0.04097105074301567,
          -0.006877724442498187,
          0.007967571800084745,
          -0.0193358167034646,
          0.006513121711345511,
          0.007967571800084703,
          0.01590713518658571,
          0.0021883199860246233,
          0.001969155766343161,
          -0.0035536908860717433,
          -0.02190785163786263,
          0.00692253303799013,
          -0.007200963176477709,
          0.050088530297120695,
          0.007967571800084726,
          -0.05208763702676755,
          0.00022307901819998755,
          0.007967571800084726,
          -0.010969669860280236,
          -0.036337273749299515,
          0.002891073518943757,
          0.00931584542688093,
          0.007967571800084726,
          0.009098381211755548,
          0.007967571800084726,
          0.013756961075297825,
          -0.051427338365210684,
          0.04726400965956155,
          -0.03171452792366418,
          -0.02638092007728003,
          0.0035531946566437185,
          0.007967571800084726,
          0.007967571800084726,
          -0.00570258020928418,
          0.0010610667670610482,
          -0.06101750213847375,
          0.006131448217909262,
          0.041451935518924225,
          -0.06130045844400434,
          -0.022034987551483302,
          -0.015280002311033939,
          -0.055369862599893814,
          -0.04417272234140902,
          -0.09538717667978858,
          0.003968826430100604,
          0.005803857544417352,
          0.006269505838604594,
          -0.05190925380943766,
          -0.0822248954446127,
          -0.00972989393484374,
          0.0005782159724372407,
          -0.07038866843238108,
          -0.015165991289408183,
          0.04999929345428984,
          -0.017847688603721285,
          0.05929973924547201,
          -0.11770022205222336,
          0.004413833887535492,
          0.009988411692643043,
          0.03616945742296846,
          0.012106680324684007,
          -0.003524064403246948,
          0.005933891129462767,
          0.006954650776596178,
          0.007967571800084726,
          0.015804526340895783,
          0.007129242090189826,
          -0.00821075695493237,
          0.02358568241654022,
          -0.01981654669133557,
          -0.08047093610402536,
          -0.027423572430654825,
          0.6817686579442761,
          0.00961206320668414,
          -0.010519664437489494,
          -0.019770950150918808,
          -0.05558360231160047,
          0.0073010421360788225,
          -0.00881303463955327,
          -0.049479600855461665,
          0.005389990585717956,
          -0.06592069381444415,
          0.007967571800084726,
          -0.015317868730329686,
          -0.0022080203945029774,
          -0.0334691323886004,
          -0.02486571558533644,
          -0.022896517455683954,
          0.004904393896180392,
          0.007967571800084726,
          -0.02472592298223394,
          -0.018337896987653285,
          -0.048937865481256476,
          -0.012326207458937224,
          -0.02445297626665662,
          0.0013450870600220427,
          -0.0226926770530785,
          -0.03947375478552596,
          -0.02575145142386366,
          -0.018063226623638268,
          -0.01285630579941377,
          -0.021424451806638427,
          -0.09440172088425627,
          -0.06445515955728151,
          -0.060822381422849056,
          -0.006169504852719246,
          -0.10611046431839564,
          -0.008233785315498492,
          -0.028167872758411254,
          -0.11149299207171384,
          -0.010369686614192995,
          0.016338646772100906,
          -0.03480508780985077,
          -0.03168639222169953,
          -0.02338134057729035,
          -0.020097309522519466,
          -0.012070410008076432,
          -0.028398124303002092,
          -0.0029244896286947284,
          -0.012970110874189427,
          -0.04469200007605046,
          0.003424000656287427,
          -0.03140252364437729,
          -0.11117054102852883,
          -0.03562955953782062,
          -0.025171118364071404,
          -0.01845823347098757,
          -0.007483407429840065,
          0.011018705202127992,
          -0.02689589827012321,
          0.0071264685651625135,
          0.007280634673033609,
          -0.006633315235923819,
          -0.0020582019149046568,
          0.012106680324684007,
          0.012106680324684007,
          -0.024980517705197006,
          0.007967571800084726,
          0.010321393393165028,
          0.020537745071421823,
          0.007967571800084726,
          -0.027547595518764262,
          0.019828746732670113,
          -0.037032308966247734,
          0.009142808984561407,
          -0.12485264098242263,
          -0.03561199159647439,
          -0.04334092853672445,
          -0.014932754498477118,
          0.006131448217909262,
          -0.0267894555869232,
          -0.08019233342765988,
          0.014667525707855367,
          0.0009763583139769685,
          0.014872605567364696,
          0.573952033303962,
          0.8743151377697235,
          -0.029320512770958436,
          -0.016301363808929065,
          0.03314091228703759,
          -0.04510972959980481,
          0.01216027612040612,
          -0.009899271242203557,
          -0.09430823308301611,
          -0.019063370954142293,
          0.009630973867128752,
          0.011864410016537262,
          -0.0037323222165071123,
          -0.03854064634369297,
          -0.056887328230570695,
          -0.09470288286216083,
          -0.018299073757117958,
          -0.004442111626191152,
          -0.03827772824623937,
          -0.007085894229038024,
          -0.013059866528856207,
          0.0020860476820419704,
          -0.00013785668159782815,
          0.02107313326780936,
          0.04013130314688164,
          0.4585683018914664,
          -0.021735949139956977,
          -0.007728070854207869,
          -0.008237459339469531,
          0.005819073511078316,
          0.00331705689326511,
          0.005437288558133352,
          -0.027190522242734622,
          0.007967571800084726,
          0.010441348288599583,
          0.002779329019077968,
          0.0037302197080398064,
          -0.00837006979212692,
          -0.1385049442426296,
          -0.021490498103898505,
          -0.014329661383039823,
          -0.031144099321558667,
          -0.034189619249371,
          -0.09754768712898962,
          0.0038952125796206357,
          -0.04272617372042297,
          -0.019493698604144002,
          -0.12688437528442667,
          0.00489586669206886,
          -0.03798590714309445,
          -0.029132639492063447,
          -0.10665429048681269,
          -0.061847047610089544,
          -0.01461600164251187,
          -0.07313427913891804,
          -0.016759978105437105,
          -0.003912914043698495,
          0.0027756463179424914,
          -0.02792382285027086,
          0.007143100244866834,
          -0.07637203328305173,
          -0.005246884340213203,
          -0.16136381900817703,
          -0.026429490348965357,
          -0.008579676033125264,
          -0.014657399278208652,
          -0.012978063914281576,
          0.005103605727398155,
          -0.009256367290140172,
          0.008821296346945718,
          0.007967571800084726,
          -0.021540873299540127,
          0.042614385404802724,
          0.008996971701282221,
          -0.012887158545033623,
          -0.025510988834282208,
          -0.00987408565809747,
          0.007967571800084726,
          0.4068788920857564,
          0.03798156157532898,
          0.003520454319632977,
          -0.0060295684205358465,
          0.01509460684284635,
          -0.04563418874532521,
          0.004278811085692623,
          -0.017792426930488443,
          0.007882132210991767,
          0.0961880857914863,
          0.23336118800766906,
          -0.048258470335748635,
          0.007967571800084726,
          0.006765044466598716,
          -0.022925650759860163,
          0.011977554619141436,
          -0.019216436973658338,
          -0.012834644906358115,
          -0.000028106682073240588,
          -0.02907139639758112,
          -0.004678492192148561,
          -0.007191853721651194,
          -0.00590735969957914,
          -0.002883006494018671,
          -0.007173409918308669,
          0.007967571800084726,
          -0.01962022747409037,
          -0.025202633988976264,
          0.16066594971003018,
          -0.004355848436590059,
          -0.030164334539620842,
          -0.011336495465427358,
          -0.011093430367126674,
          -0.0320542330480539,
          -0.0030573791696664448,
          -0.005244343950728957,
          0.01672100904936812,
          0.006131448217909262,
          -0.026193760134955755,
          -0.001877770067578437,
          0.0150331304346333,
          0.006063370571834026,
          0.007967571800084726,
          0.007076012740467721,
          -0.00029806547101094306,
          0.011808485976273306,
          0.0014477239193632792,
          -0.004831424506393468,
          0.03036354578376311,
          0.005862934415239242,
          0.0004390567938204034,
          -0.04288417166664381,
          0.007967571800084726,
          -0.003768289198937224,
          -0.012245869888661283,
          -0.017093032838809873,
          -0.0053443265451692465,
          -0.020929648000377186,
          0.012535674644252322,
          0.00764464156784397,
          -0.02928489117408888,
          0.005483035575852605,
          -0.0019903033238349516,
          -0.05732565221664245,
          -0.07626516375029833,
          -0.05280029863018819,
          0.06689746493971775,
          0.0001888859788063536,
          0.008530935318927157,
          0.005722280659261059,
          0.026117181718840556,
          0.007967571800084726,
          -0.05715744273821366,
          -0.05069276888374305,
          -0.01294635762872368,
          -0.01294635762872368,
          -0.07418997007254324,
          0.09158124746421713,
          0.007967571800084726,
          -0.048750672498843524,
          0.003785470746133376,
          -0.12026270263608292,
          0.03450297206434916,
          -0.019790717807165605,
          0.012106680324684007,
          0.007967571800084726,
          -0.009964023183530643,
          0.0008673968058024286,
          -0.03403009764625344,
          0.021673781522459034,
          -0.2181622464268035,
          -0.12525176052887607,
          -0.08155566631685877,
          -0.037935792889126824,
          -0.0264662820769437,
          0.050088530297120695,
          -0.039731138254748964,
          -0.0716919464965532,
          0.009896543162244614,
          0.005256489663301472,
          0.042815158970040394,
          0.022416864571118036,
          0.007967571800084726,
          -0.03651364083958598,
          0.007967571800084726,
          -0.01879934486857787,
          -0.011729518255643471,
          -0.03866206120481974,
          0.47220621948694075,
          -0.006619417881543918,
          0.007967571800084726,
          0.003764532856635396,
          -0.07588023996966144,
          -0.03519006234251251,
          0.055739754281720434,
          -0.10316766306845221,
          -0.013329661895808271,
          -0.000824790745052707,
          0.005831028377948581,
          -0.01729081317073639,
          -0.03511352148208563,
          -0.12778107363597282,
          -0.010837870115888324,
          -0.05224357600498368,
          0.003907509168286094,
          -0.09298721974210723,
          0.007967571800084726,
          -0.006336961037405441,
          -0.10325308134309592,
          -0.0699459038244538,
          0.010603581711520496,
          -0.007120283760208463,
          -0.06283270581209713,
          -0.09393149845348422,
          -0.019024513312223088,
          0.07096980439796981,
          0.007967571800084726,
          0.005952355694973447,
          -0.047519875158016756,
          0.007967571800084726,
          -0.06595925906544124,
          -0.11223829516306083,
          0.011245186047334146,
          0.0054858680641439,
          -0.0264299917490872,
          0.5614735406542024,
          0.004009811071282231,
          0.007967571800084726,
          0.0070777060829544545,
          0.0020860476820419704,
          0.014223588669077122,
          -0.004072881367598044,
          0.028848815173921346,
          0.02797055648828359,
          -0.0043167508241638616,
          -0.004501002746589977,
          -0.014382814140665914,
          0.004048119692019932,
          -0.0034129372490150156,
          -0.02044109071405428,
          -0.08020548130749691,
          -0.1309814852568531,
          -0.009345494046568892,
          0.0021630590619524073,
          -0.007309840385211639,
          0.005560564312952799,
          0.007967571800084726,
          0.01746050567146167,
          -0.002468831672691686,
          0.006946090257354227,
          0.014197006289361073,
          0.011099391307599234,
          -0.0013575805900441931,
          0.0027911150534368355,
          -0.05257388472914119,
          0.003867695843034685,
          0.01047298782793947,
          0.007967571800084726,
          -0.0909709186690242,
          -0.1100709392279801,
          -0.07425888271200877,
          0.061810655317372336,
          0.061810655317372336,
          0.005722280659261059,
          0.006131448217909262,
          0.004292841719590136,
          -0.013708959600507975,
          -0.02010536104748435,
          -0.06964453448811841,
          -0.0018544402369651616,
          -0.060211775692480374,
          -0.060211775692480374,
          0.009660920376353169,
          -0.09092792853897848,
          -0.031035360535137967,
          0.05454150441248474,
          0.007967571800084726,
          0.02935385017404457,
          -0.01455538996353111,
          0.006557842963139021,
          -0.000016466722449969515,
          0.006131448217909262,
          -0.004376743722019366,
          0.007967571800084726,
          0.007967571800084726,
          -0.03184363991489429,
          0.005070252309190989,
          -0.05541795773622575,
          0.04110824541373422,
          -0.06937429293522465,
          -0.07935249411778582,
          0.007967571800084726,
          -0.0756385364866463,
          0.006876987141256332,
          -0.014859419824806498,
          0.006876987141256332,
          0.02862812404192288,
          0.0010749592439634494,
          0.007967571800084726,
          -0.004315810622881505,
          0.01697457998176089,
          -0.05552964643902948,
          0.002071870629510856,
          -0.010745835862996189,
          0.014531753000894525,
          0.007967571800084726,
          -0.021603860297920847,
          -0.04887439797895156,
          -0.0023861529749258344,
          0.0043558100700386085,
          0.005500083143317525,
          0.010163616735396876,
          0.0010050932073184839,
          -0.03016461430262893,
          -0.009809785585934927,
          0.007967571800084726,
          0.011864410016537262,
          -0.15418796337606355,
          0.01641696553548634,
          -0.01769165129137213,
          -0.008874632557624275,
          0.04514389769299123,
          -0.0034970538623873885,
          -0.052131301290898234,
          0.007967571800084726,
          -0.10869811097386639,
          -0.03286495221446901,
          -0.03821420657339488,
          0.007967571800084726,
          -0.012586607708839032,
          0.035648527786363356,
          0.004090765426586608,
          0.016688917833381414,
          0.046804611512059,
          0.004401458935063932,
          0.0961880857914863,
          -0.01569335361539274,
          0.006694505771995521,
          -0.2107030644107228,
          0.0068634238841983,
          -0.12045056361508528,
          -0.03224831139423415,
          0.009534346542111145,
          -0.01939325611620687,
          -0.03755078973541036,
          -0.014007040944833474,
          0.0010679112252815854,
          -0.007983240911761214,
          -0.05570641657673101,
          -0.07218969340716508,
          -0.04044585313942513,
          -0.07668044316520418,
          -0.04516986886438823,
          -0.18884186258213603,
          -0.10596242618792051,
          -0.00009720253917845654,
          0.007967571800084726,
          -0.0774058455614631,
          -0.0356427770531454,
          -0.021304681777094152,
          0.008026588666859553,
          0.056652281935083953,
          -0.03302688659667164,
          -0.04539217239205672,
          -0.0564514435579773,
          -0.035754854471764824,
          -0.09895526791364961,
          -0.044752364209285876,
          0.007967571800084726,
          -0.036784719542987884,
          0.006472416452377156,
          -0.11732144753276744,
          -0.10726389545991268,
          -0.004961578598849221,
          0.006131448217909262,
          0.04623160915885402,
          0.006268682662785925,
          0.013402874216402943,
          0.05828491698175279,
          -0.05882425861245606,
          0.0961880857914863,
          -0.01921144680181919,
          0.007967571800084726,
          0.023240569395348593,
          0.0015511395744311767,
          -0.11935677643647816,
          -0.011589747117015863,
          -0.05743514176283701,
          0.006933079017302135,
          0.008658230618682157,
          0.004629189120276757,
          0.013980439916423736,
          -0.03825132517399,
          0.05018108341829846,
          0.05018108341829846,
          0.009151207865761095,
          0.0016905154458230803,
          0.0030571357136543937,
          0.8743151377697235,
          0.8743151377697235,
          -0.0032827006889161476,
          0.014025076368679543,
          0.00699859076313502,
          -0.013113140267562096,
          -0.1439843722744088,
          -0.053813486441585026,
          0.0034489359808184245,
          -0.08169562759730375,
          -0.0759960927220448,
          -0.017307609174244225,
          0.4673442370605319,
          0.007967571800084726,
          -0.07729392887245141,
          -0.04153655841126111,
          -0.04642981020949012,
          -0.16780832525192244,
          -0.031995914216684095,
          -0.07030412142355366,
          0.00797764451435288,
          0.46399392088450986,
          -0.021146329641064675,
          -0.0235878231166784,
          0.002597069138623187,
          -0.0270700254040165,
          0.007967571800084726,
          -0.03519006234251251,
          0.0369923886414804,
          0.058717525454844384,
          -0.027216592439165042,
          0.004202107373371997,
          -0.0863767031166414,
          -0.012228965337167311,
          -0.020635159903247734,
          -0.11041920060802717,
          0.0034489359808184245,
          -0.030016941479752056,
          0.007967571800084726,
          -0.018733362664697745,
          -0.01313629172480953,
          -0.08641711947313459,
          -0.000010352781745041625,
          -0.024142378330036938,
          0.05428187136422432,
          -0.01510082172533752,
          -0.06629059158846981,
          -0.10529886845113888,
          -0.0007859918583412006,
          0.0010770489339656018,
          -0.09160906359120283,
          -0.028973721154269317,
          -0.012234232837207554,
          -0.027712266209295826,
          0.0075418124628896,
          -0.008777834260034093,
          -0.019170646888813238,
          0.025571000130828192,
          -0.016301865645490556,
          -0.022868387901645405,
          -0.0038675204469130237,
          -0.03395685998202099,
          0.005428695996400874,
          0.48302036007872184,
          0.006571824572869399,
          0.002997361116095817,
          0.003473640967168723,
          0.006571824572869399,
          0.002222933898415826,
          -0.02595631314425749,
          0.007967571800084726,
          -0.009057125599658407,
          0.005389990585717956,
          -0.012780471229843035,
          -0.03334171873829923,
          0.007967571800084726,
          0.031031678983427215,
          -0.048497110982212065,
          -0.03895112302324632,
          -0.09303769371486072,
          -0.0618063956125969,
          -0.04029077946602404,
          0.004908114802030331,
          0.01227604614612421,
          -0.0011589894606899526,
          -0.113754440196172,
          0.37584280906717,
          0.002309698696985115,
          -0.013519764064999995,
          -0.095785291502823,
          0.01151595597393236,
          0.002271250327745884,
          -0.14156370588041797,
          0.0423209624413166,
          0.007967571800084726,
          0.006131448217909262,
          -0.09321804507683781,
          0.026957633988214453,
          0.0002611126334537023,
          0.008012056998719777,
          -0.07172762966770947,
          0.007129242090189826,
          0.006131448217909262,
          -0.006719305108479143,
          0.000580537240557127,
          0.004533749292299877,
          -0.05925094531865881,
          0.3399193092691492,
          0.010897626704523274,
          -0.02022601413855289,
          0.3634552117533006,
          -0.039506486979552634,
          -0.009885252292915269,
          0.011577804185214743,
          -0.004405691025851762,
          0.01182793071016309,
          -0.020928683067476105,
          -0.0003061589562106971,
          0.004990888233737936,
          0.016568953315127442,
          0.009532881818305744,
          0.009729682112825414,
          0.007967571800084726,
          -0.1337358583316568,
          0.01815623176400638,
          -0.006222261663520866,
          0.007967571800084726,
          -0.025899367299359967,
          -0.15987556563523908,
          -0.003087654489163431,
          -0.07905425204377842,
          0.00048123434662578865,
          -0.02435274712839397,
          -0.16418153459119258,
          -0.005948569336752687,
          -0.00621535183742068,
          -0.019654489621023785,
          -0.06554371705566345,
          -0.01027870621457666,
          -0.043466958635931544,
          0.016926682986685516,
          0.025571000130828192,
          0.025571000130828192,
          -0.028383966789066087,
          0.01151595597393236,
          0.007967571800084726,
          0.042688494586894464,
          -0.03519006234251251,
          0.010082189682494759,
          -0.19072388360742518,
          0.0017708500821832954,
          -0.0035536908860717433,
          0.042978788229852516,
          0.012989413178464622,
          -0.005243695068575332,
          -0.12351996367978997,
          -0.02262861191493922,
          -0.10454007288448192,
          0.0057698684512040846,
          0.0014677946791802614,
          -0.02036087674931647,
          -0.015317868730329686,
          0.0018300395618471264,
          0.009986082049835351,
          -0.04336514455983245,
          0.006131448217909262,
          0.007967571800084726,
          0.00012120905477973083,
          -0.03478437396646637,
          0.006131448217909262,
          -0.08691799779486988,
          -0.004011735851765666,
          -0.010461712898926947,
          -0.024547514629412525,
          -0.13190197081280555,
          -0.0023731232195769118,
          0.007162043390607106,
          -0.047340964657618514,
          -0.009241985562396974,
          -0.05541795773622575,
          0.01151595597393236,
          -0.03324671747831597,
          0.010090129389027952,
          0.010090129389027952,
          -0.03204672110679966,
          -0.02659969924220088,
          0.008464436318988099,
          -0.0016617855643270766,
          0.004798678173652149,
          -0.03326052070359549,
          -0.03284791857838252,
          -0.0027126765860305256,
          -0.006581158047346952,
          -0.07619450102377438,
          0.008238245492235736,
          -0.020887993889255326,
          -0.0024972850347290414,
          0.01738666605057119,
          0.005862934415239242,
          -0.04615472132860237,
          -0.02207909236275696,
          0.003963810209544798,
          0.007967571800084726,
          -0.02670233332344717,
          0.5146145864822094,
          0.008831204490554955,
          -0.047202184762961966,
          -0.020960844742837038,
          -0.07240700195376906,
          0.00929663250270566,
          -0.00043231901020202593,
          -0.023705018207443817,
          -0.022487845132349818,
          0.003630926434870083,
          0.007967571800084726,
          -0.04100768032165804,
          0.08638869598000015,
          -0.011463694880608059,
          0.003589210922082106,
          0.03173410120104868,
          -0.02055667737551342,
          -0.009731162204019485,
          -0.015317868730329686,
          -0.09910199496664426,
          -0.03430555641493094,
          0.010317906868334729,
          -0.002819984418320555,
          0.0068149498457234356,
          0.00160286285770369,
          -0.00024893015372716133,
          -0.034189619249371,
          -0.05272415012194305,
          0.007967571800084726,
          0.018495712700316632,
          -0.02147916745289355,
          0.03381633843105609,
          0.0006800519540162305,
          -0.03016461430262893,
          -0.020749279775348073,
          0.01865554507322359,
          -0.01919432182368901,
          0.04641743591997028,
          -0.04689895951801556,
          0.01216027612040612,
          -0.10328583760732543,
          -0.025241740524577765,
          -0.008097492874418577,
          -0.06456277371299045,
          0.006131448217909262,
          -0.022178041717472622,
          -0.021844239855798836,
          -0.008164209243241684,
          0.00004709819709122203,
          -0.01979747795476766,
          -0.08622300075950229,
          -0.01755386152661956,
          0.0038765550413345524,
          -0.02504847678070489,
          -0.01716327047009835,
          0.0027633291735620594,
          0.2950817913801271,
          -0.016775124371034414,
          0.00026681358030784114,
          0.019092863418347466,
          -0.033481590880046964,
          0.007967571800084726,
          0.005506859190268731,
          -0.1655348207993158,
          -0.0034970538623873885,
          -0.014194302018062967,
          0.006311702101151594,
          -0.04118478183803104,
          -0.008618268303619493,
          0.011015929088157825,
          0.5146145864822094,
          -0.0013919537626600267,
          -0.006901823639645274,
          0.005815736853288828,
          0.34585302309925026,
          0.004340184983336237,
          -0.03700100822613571,
          0.06594487605934596,
          -0.030998212171978703,
          -0.0097626693010441,
          -0.03682631597538721,
          0.09890477754535365,
          0.007967571800084726,
          -0.012024551428790541,
          -0.011086018589035946,
          -0.02681222953207496,
          0.0065295003619146455,
          -0.008496208702739663,
          -0.004276354915155568,
          0.8743151377697235,
          0.5168669783276194,
          0.015898968106264805,
          -0.011687851789416075,
          0.0027362194450301107,
          -0.009590620446051901,
          -0.013577591234309919,
          -0.015945816600442586,
          -0.0008249586395876526,
          -0.10387690801772217,
          -0.0037704359193115617,
          0.025145749698014412,
          0.003741250094314304,
          -0.0599663261197635,
          -0.041936133559541865,
          0.0961880857914863,
          0.007967571800084726,
          -0.02458951126999972,
          0.007967571800084726,
          -0.037590097743334536,
          0.005158077053764452,
          0.03645792231564372,
          0.023803971006383044,
          0.00047850750652249005,
          -0.1134117749459648,
          -0.03876496576819098,
          -0.010420277039659453,
          -0.000952731195028251,
          0.3735603013903828,
          0.007967571800084726,
          0.020292852032477656,
          0.006131448217909262,
          -0.016473278433405476,
          0.006131448217909262,
          0.002864231233455465,
          -0.02372235194924455,
          0.01216027612040612,
          -0.0012575851488899207,
          0.006422146169723822,
          0.007967571800084726,
          -0.02262861191493922,
          0.0011935443119630166,
          0.0012060376739023721,
          -0.011321141329145776,
          0.007142196275225482,
          -0.019045441854919656,
          -0.08676655616439725,
          -0.0015086813284512636,
          -0.09380496253537174,
          -0.007439990435155099,
          0.006131448217909262,
          0.016338646772100906,
          -0.001230538182032138,
          -0.006490263096134511,
          0.03757662073613554,
          -0.003455588082180353,
          -0.031633376700550636,
          -0.061942178322420854,
          -0.0171305317194265,
          0.007967571800084726,
          -0.04364780523201322,
          0.007967571800084726,
          0.007967571800084726,
          -0.012057631448759145,
          -0.037463462673256946,
          -0.0028893613704455284,
          -0.022052216212200836,
          0.0021960965427308765,
          -0.031582420550117396,
          -0.07668044316520418,
          0.008368447764489856,
          0.04025893261306771,
          -0.1134117749459648,
          0.05175462293986142,
          0.008522545019894258,
          0.009074560616099368,
          -0.011145870658117634,
          0.03711941382325153,
          0.009325591058569843,
          -0.08113202294146754,
          -0.01569335361539274,
          0.012221838983327042,
          0.00015914443137804213,
          0.006131448217909262,
          -0.013376044415429833,
          0.0007324193288573725,
          -0.05337011181586343,
          0.0003914269382085639,
          -0.01569335361539274,
          -0.03570046503729031,
          -0.006046158480333899,
          0.006526534006416335,
          0.02632315843426347,
          0.0011004844689126124,
          0.001166588901341916,
          0.0004394676900018447,
          0.007967571800084726,
          -0.013591661226494741,
          0.005469559424750412,
          0.016338646772100906,
          0.052124400296949376,
          0.011155764457948282,
          0.007967571800084726,
          -0.004343823999127811,
          -0.058216715982969694,
          0.0126516340080446,
          0.018119162854713534,
          0.001016642769072818,
          -0.00367396293667131,
          0.004152896262978859,
          -0.03794991430140394,
          -0.015745571902096155,
          -0.034086254177937536,
          -0.04563418874532521,
          0.06215371027376905,
          0.007967571800084726,
          0.007967571800084726,
          0.006091230683300775,
          0.003393791191345721,
          -0.014439095963403223,
          -0.008188536428171743,
          0.01182793071016309,
          0.023365297156146464,
          0.00918714392616415,
          0.012465772183566209,
          0.011864410016537262,
          -0.04563418874532521,
          -0.008158279912487654,
          0.010356341971559756,
          -0.007381243914978918,
          -0.006130184339855422,
          -0.006095244705379956,
          -0.004221474576701097,
          0.8743151377697235,
          0.004413833887535492,
          -0.014172719566910737,
          0.04399935050876488,
          0.007967571800084726,
          0.007967571800084726,
          -0.09669822341855681,
          0.016338646772100906,
          -0.015045723442016103,
          -0.030534343858974224,
          -0.025795355698272942,
          0.4213039802344938,
          0.13631187770757236,
          -0.009874611029899595,
          -0.001731925062617894,
          -0.004030415183809083,
          0.006248631639675957,
          -0.020086510115165077,
          0.03588691460013404,
          0.005629565461469163,
          -0.027510453988073228,
          0.0017324087606912161,
          0.004413833887535492,
          -0.006540313648255984,
          0.029194126383372262,
          0.3774329528841522,
          0.01752734951555131,
          -0.03235529086249249,
          -0.01938240663399761,
          -0.1491078013237359,
          0.003682935419755303,
          0.008310731059341422,
          0.0011207858797360206,
          -0.013784682452133731,
          -0.0340394405694916,
          0.01666526285678059,
          -0.09973428449747786,
          -0.121654871159289,
          -0.08924662055305632,
          0.005039298748986082,
          -0.01243813911049234,
          0.0961880857914863,
          -0.01569335361539274,
          -0.09023901796439171,
          0.007967571800084726,
          -0.05510014990467346,
          -0.02967736107583403,
          -0.03966003583882204,
          0.007967571800084726,
          0.007967571800084726,
          -0.015120287579611362,
          -0.004343823999127811,
          0.04552166229442245,
          0.03347072614519245,
          -0.12048725371972918,
          0.011582010902864702,
          -0.02503323149960032,
          0.007967571800084726,
          -0.026417200276159857,
          -0.013719444081291169,
          0.04473824535101045,
          -0.015593025924237069,
          -0.04725019121002829,
          -0.051512994466899976,
          0.006279997753807032,
          0.007967571800084726,
          0.023097931229648937,
          0.007967571800084726,
          0.007967571800084726,
          0.009035728483673611,
          -0.003301603518158272,
          -0.08658229351403075,
          -0.11556746378559289,
          -0.004523834128663604,
          0.6150263708469955,
          0.34217351684793923,
          0.8743151377697235,
          0.0016686857561732543,
          -0.0012903075257618866,
          -0.013613449950007501,
          0.0018941561179962546,
          0.007967571800084726,
          -0.030860259102098577,
          -0.04642981020949012,
          -0.0009252650241836429,
          0.5859129443705551,
          -0.042879394252602135,
          -0.07248380450536189,
          -0.01569335361539274,
          0.008662335102324894,
          0.0013049264541766309,
          0.031946431958386985,
          -0.08013481390967114,
          0.0027098294829940974,
          0.010735367719232392,
          0.041451935518924225,
          0.006136258292323537,
          0.05964978354442079,
          -0.04977791552845205,
          -0.02571861297365505,
          -0.006519452312863192,
          0.030715628435981152,
          0.01388363907135674,
          -0.0012187805934839454,
          -0.017741811948320665,
          0.00352262374020102,
          0.007967571800084726,
          0.007967571800084726,
          -0.03186385951840682,
          -0.016399835288406432,
          0.0021675107249972078,
          0.13824734452819953,
          -0.019218037091861487,
          -0.04799337694434896,
          0.024771542932245965,
          0.5146145864822094,
          -0.057324309826778504,
          -0.022584314485419945,
          0.010654406600268758,
          -0.01569335361539274,
          0.032758637709378056,
          -0.024686787904782324,
          0.021268910542605806,
          -0.007037001556870119,
          -0.06035012583684883,
          -0.008164209243241684,
          0.0036092347448589347,
          -0.03544003112868342,
          -0.014507330705519277,
          -0.054991624435648465,
          -0.03775559924999034,
          -0.005047712183033982,
          -0.0231824482481118,
          0.0003394506089481165,
          -0.020214700095491686,
          -0.039792700933398935,
          -0.05517318092127655,
          0.01469788448485194,
          -0.021902221246768803,
          -0.02826357776343669,
          0.011864410016537262,
          -0.031177760768669807,
          -0.02394239691827576,
          -0.020041708357612254,
          -0.04922264379705936,
          -0.06178667728197691,
          -0.04801196834592712,
          0.007967571800084726,
          0.03208300463196329,
          -0.13903824796212855,
          -0.007833289326628102,
          0.5168669783276194,
          0.016338646772100906,
          0.003753760806752229,
          -0.0022683425757336977,
          -0.0047125153809255745,
          -0.02170047847687267,
          -0.03570046503729031,
          -0.005036504059776224,
          -0.028449840574239427,
          0.007687618707677548,
          -0.09567197659109611,
          -0.03497840538376051,
          0.006264150765112371,
          0.0961880857914863,
          0.03785352024078351,
          -0.0016335723514372482,
          -0.01838640613675743,
          0.0050877587599168364,
          -0.0024397205233808996,
          0.003802447823183227,
          0.04179382048873433,
          0.02703133977171794,
          -0.10344407724684176,
          0.00429322211229121,
          -0.016407226883180963,
          -0.07109352913562178,
          0.014214741944711652,
          -0.0014373495504210944,
          0.00425758812356761,
          0.004901071656766576,
          -0.04205727663894757,
          -0.008807742084368915,
          0.027725331430869703,
          0.017034755678637388,
          0.007967571800084726,
          0.007123675117370134,
          -0.05544871208039685,
          -0.003465085381255725,
          0.0005878330469754681,
          -0.06045347321509901,
          -0.009239244408868199,
          0.19528651738973682,
          -0.002426444257932035,
          -0.01772798663290619,
          -0.003444782270298246,
          -0.03256079949913233,
          -0.02315045763635117,
          -0.0014031422625922373,
          -0.024835769724212784,
          -0.019075747854095357,
          -0.07357221659973916,
          -0.042965191826682486,
          0.009986440352995823,
          0.016375495029042408,
          0.007474353157134633,
          -0.017026735242298523,
          0.0007483747649087245,
          -0.013898257013276417,
          0.028747553688682023,
          -0.027760057047528187,
          0.07266228550718513,
          0.8743151377697235,
          0.020054851891856514,
          0.027808012021545828,
          -0.023498579171706006,
          0.8743151377697235,
          0.03981968901878997,
          -0.02724778967581733,
          0.0033121952852060658,
          0.05617401576460603,
          -0.004963169126226987,
          0.007967571800084726,
          0.06219814127950297,
          -0.013999080013254677,
          0.01753699277381989,
          0.017571896420874516,
          0.02133796832251453,
          -0.019069454417257378,
          0.009362896850599945,
          -0.018227436327755246,
          -0.04335659143420784,
          -0.024208939612804917,
          -0.015267182932467517,
          0.00539747340140479,
          -0.0005861978504333704,
          -0.018609632833378853,
          0.005544419471145861,
          0.05040914513247072,
          -0.048039777738168025,
          0.006131448217909262,
          -0.04765443777591461,
          0.028347010083229495,
          -0.047448305900363065,
          -0.011979626805633326,
          0.006131448217909262,
          0.002290640935569112,
          0.009225227883114568,
          0.007967571800084726,
          0.01376596190709689,
          0.013250759042754552,
          0.011582010902864702,
          0.00918714392616415,
          -0.0026934812834190107,
          -0.06340725274907409,
          0.0034096992854289842,
          0.05667947086818048,
          0.022237750999182525,
          -0.06432933920290657,
          -0.05447383120781598,
          -0.0790538842334146,
          -0.02502923310197234,
          -0.06751706964759323,
          0.013042210349374883,
          -0.013550525410177571,
          -0.06517234648017586,
          -0.048231741512433146,
          -0.0019158300610778753,
          0.006602119575053268,
          -0.017265789690644698,
          -0.04513469073921606,
          0.005589350501178846,
          -0.010376535158159905,
          0.004057859634237085,
          -0.03953654051297882,
          0.020150493035614662,
          -0.012211009752284289,
          -0.10128467763551117,
          -0.14049348472001186,
          -0.026239112052373337,
          0.00733702209894713,
          0.005506859190268731,
          -0.05196518636312022,
          -0.002949039367042423,
          0.007967571800084726,
          -0.04503632373000748,
          -0.0030191861103600046,
          -0.04366673152646714,
          -0.05582466009745004,
          -0.011090085076810186,
          -0.10241735745471182,
          0.055063332368015486,
          -0.0065999730979743815,
          -0.016021089128071778,
          0.04435423770374116,
          0.0028762154494371196,
          -0.0260033806301608,
          -0.04550005330025185,
          0.01856373535563097,
          -0.001031918375200852,
          0.0011207858797360206,
          -0.10509230479409405,
          -0.004125909373639354,
          -0.13190197081280555,
          -0.0008672423585042496,
          0.04081537672598854,
          0.02339038145258054,
          -0.04087393020341158,
          0.01867884535988225,
          -0.007769379365505641,
          0.00781728640267725,
          0.016338646772100906,
          -0.043079398845839556,
          -0.0588786668477555,
          0.0021235839561051257,
          -0.02796027787230317,
          -0.053996931964161894,
          0.0559829660803432,
          -0.17109557488255575,
          0.0267673475212972,
          -0.033045271425752004,
          0.4202556113621045,
          0.004292841719590136,
          0.0021235839561051257,
          -0.0376299368952112,
          0.020292752087836034,
          0.004908073015621254,
          -0.07083323848410483,
          -0.0741858786167799,
          -0.007466993898238011,
          -0.19682017331069035,
          -0.06036529198590433,
          0.01201593204532304,
          -0.027125659129946675,
          -0.05847313184012335,
          -0.09155231341719776,
          -0.04532575308596686,
          -0.023300565902904462,
          -0.01114554826613468,
          0.001291311188571594,
          0.005255837184651132,
          -0.006029024224299634,
          -0.04067663076653916,
          -0.004133062870149561,
          0.003666663142167253,
          0.06195191204282504,
          -0.059508262275401035,
          0.042815158970040394,
          0.002914642257806095,
          0.0961880857914863,
          -0.022836335852010246,
          0.002026181321031505,
          -0.07109575440734069,
          0.02757589738907898,
          0.05828491698175279,
          -0.19072388360742518,
          -0.04149895122208571,
          -0.10866074928622184,
          -0.035934719675835336,
          0.01005604248390945,
          -0.070336222633721,
          -0.018303478944010236,
          -0.05102174453455354,
          -0.011083379811114012,
          -0.014125623900865473,
          -0.041525102979274475,
          -0.026872794540749798,
          0.004413833887535492,
          -0.09425619330438287,
          -0.03006538013645065,
          0.027127443437932514,
          -0.05397170013618516,
          0.007967571800084726,
          0.015163804285479539,
          0.05828491698175279,
          -0.03779133015935315,
          -0.08679272083436246,
          -0.03308544277043787,
          -0.00017836814270124658,
          0.018005317311921128,
          -0.008796543732079989,
          0.02222677854882947,
          -0.005947037955850477,
          -0.03785849783967161,
          0.024724933507502687,
          -0.09218214644490792,
          -0.022579951509831955,
          -0.07545347020917133,
          -0.040470668466300236,
          -0.05938476912746581,
          0.050088530297120695,
          -0.015194898318275361,
          0.03453982885414926,
          0.037402784798447976,
          0.0002772516513072127,
          -0.07772319213157698,
          0.008123435278064845,
          0.04590506022608065,
          0.005247308676932676,
          0.019464411832919297,
          0.034086425326736725,
          -0.017375555147156434,
          -0.018234262168467043,
          0.015478781573007456,
          0.007113281039878162,
          0.006131448217909262,
          -0.09985607194017382,
          -0.037619613973270995,
          -0.08600925415825354,
          0.002574393746365253,
          -0.042699191132705955,
          -0.010006563569876267,
          -0.057400293011293506,
          -0.08297331962296896,
          0.0066835469623701075
         ]
        }
       ],
       "layout": {
        "coloraxis": {
         "colorbar": {
          "title": {
           "text": "vader_sentiment"
          }
         },
         "colorscale": [
          [
           0,
           "#0d0887"
          ],
          [
           0.1111111111111111,
           "#46039f"
          ],
          [
           0.2222222222222222,
           "#7201a8"
          ],
          [
           0.3333333333333333,
           "#9c179e"
          ],
          [
           0.4444444444444444,
           "#bd3786"
          ],
          [
           0.5555555555555556,
           "#d8576b"
          ],
          [
           0.6666666666666666,
           "#ed7953"
          ],
          [
           0.7777777777777778,
           "#fb9f3a"
          ],
          [
           0.8888888888888888,
           "#fdca26"
          ],
          [
           1,
           "#f0f921"
          ]
         ]
        },
        "legend": {
         "tracegroupgap": 0
        },
        "margin": {
         "t": 60
        },
        "scene": {
         "domain": {
          "x": [
           0,
           1
          ],
          "y": [
           0,
           1
          ]
         },
         "xaxis": {
          "title": {
           "text": "pca-one"
          }
         },
         "yaxis": {
          "title": {
           "text": "pca-two"
          }
         },
         "zaxis": {
          "title": {
           "text": "pca-three"
          }
         }
        },
        "template": {
         "data": {
          "bar": [
           {
            "error_x": {
             "color": "#2a3f5f"
            },
            "error_y": {
             "color": "#2a3f5f"
            },
            "marker": {
             "line": {
              "color": "#E5ECF6",
              "width": 0.5
             },
             "pattern": {
              "fillmode": "overlay",
              "size": 10,
              "solidity": 0.2
             }
            },
            "type": "bar"
           }
          ],
          "barpolar": [
           {
            "marker": {
             "line": {
              "color": "#E5ECF6",
              "width": 0.5
             },
             "pattern": {
              "fillmode": "overlay",
              "size": 10,
              "solidity": 0.2
             }
            },
            "type": "barpolar"
           }
          ],
          "carpet": [
           {
            "aaxis": {
             "endlinecolor": "#2a3f5f",
             "gridcolor": "white",
             "linecolor": "white",
             "minorgridcolor": "white",
             "startlinecolor": "#2a3f5f"
            },
            "baxis": {
             "endlinecolor": "#2a3f5f",
             "gridcolor": "white",
             "linecolor": "white",
             "minorgridcolor": "white",
             "startlinecolor": "#2a3f5f"
            },
            "type": "carpet"
           }
          ],
          "choropleth": [
           {
            "colorbar": {
             "outlinewidth": 0,
             "ticks": ""
            },
            "type": "choropleth"
           }
          ],
          "contour": [
           {
            "colorbar": {
             "outlinewidth": 0,
             "ticks": ""
            },
            "colorscale": [
             [
              0,
              "#0d0887"
             ],
             [
              0.1111111111111111,
              "#46039f"
             ],
             [
              0.2222222222222222,
              "#7201a8"
             ],
             [
              0.3333333333333333,
              "#9c179e"
             ],
             [
              0.4444444444444444,
              "#bd3786"
             ],
             [
              0.5555555555555556,
              "#d8576b"
             ],
             [
              0.6666666666666666,
              "#ed7953"
             ],
             [
              0.7777777777777778,
              "#fb9f3a"
             ],
             [
              0.8888888888888888,
              "#fdca26"
             ],
             [
              1,
              "#f0f921"
             ]
            ],
            "type": "contour"
           }
          ],
          "contourcarpet": [
           {
            "colorbar": {
             "outlinewidth": 0,
             "ticks": ""
            },
            "type": "contourcarpet"
           }
          ],
          "heatmap": [
           {
            "colorbar": {
             "outlinewidth": 0,
             "ticks": ""
            },
            "colorscale": [
             [
              0,
              "#0d0887"
             ],
             [
              0.1111111111111111,
              "#46039f"
             ],
             [
              0.2222222222222222,
              "#7201a8"
             ],
             [
              0.3333333333333333,
              "#9c179e"
             ],
             [
              0.4444444444444444,
              "#bd3786"
             ],
             [
              0.5555555555555556,
              "#d8576b"
             ],
             [
              0.6666666666666666,
              "#ed7953"
             ],
             [
              0.7777777777777778,
              "#fb9f3a"
             ],
             [
              0.8888888888888888,
              "#fdca26"
             ],
             [
              1,
              "#f0f921"
             ]
            ],
            "type": "heatmap"
           }
          ],
          "heatmapgl": [
           {
            "colorbar": {
             "outlinewidth": 0,
             "ticks": ""
            },
            "colorscale": [
             [
              0,
              "#0d0887"
             ],
             [
              0.1111111111111111,
              "#46039f"
             ],
             [
              0.2222222222222222,
              "#7201a8"
             ],
             [
              0.3333333333333333,
              "#9c179e"
             ],
             [
              0.4444444444444444,
              "#bd3786"
             ],
             [
              0.5555555555555556,
              "#d8576b"
             ],
             [
              0.6666666666666666,
              "#ed7953"
             ],
             [
              0.7777777777777778,
              "#fb9f3a"
             ],
             [
              0.8888888888888888,
              "#fdca26"
             ],
             [
              1,
              "#f0f921"
             ]
            ],
            "type": "heatmapgl"
           }
          ],
          "histogram": [
           {
            "marker": {
             "pattern": {
              "fillmode": "overlay",
              "size": 10,
              "solidity": 0.2
             }
            },
            "type": "histogram"
           }
          ],
          "histogram2d": [
           {
            "colorbar": {
             "outlinewidth": 0,
             "ticks": ""
            },
            "colorscale": [
             [
              0,
              "#0d0887"
             ],
             [
              0.1111111111111111,
              "#46039f"
             ],
             [
              0.2222222222222222,
              "#7201a8"
             ],
             [
              0.3333333333333333,
              "#9c179e"
             ],
             [
              0.4444444444444444,
              "#bd3786"
             ],
             [
              0.5555555555555556,
              "#d8576b"
             ],
             [
              0.6666666666666666,
              "#ed7953"
             ],
             [
              0.7777777777777778,
              "#fb9f3a"
             ],
             [
              0.8888888888888888,
              "#fdca26"
             ],
             [
              1,
              "#f0f921"
             ]
            ],
            "type": "histogram2d"
           }
          ],
          "histogram2dcontour": [
           {
            "colorbar": {
             "outlinewidth": 0,
             "ticks": ""
            },
            "colorscale": [
             [
              0,
              "#0d0887"
             ],
             [
              0.1111111111111111,
              "#46039f"
             ],
             [
              0.2222222222222222,
              "#7201a8"
             ],
             [
              0.3333333333333333,
              "#9c179e"
             ],
             [
              0.4444444444444444,
              "#bd3786"
             ],
             [
              0.5555555555555556,
              "#d8576b"
             ],
             [
              0.6666666666666666,
              "#ed7953"
             ],
             [
              0.7777777777777778,
              "#fb9f3a"
             ],
             [
              0.8888888888888888,
              "#fdca26"
             ],
             [
              1,
              "#f0f921"
             ]
            ],
            "type": "histogram2dcontour"
           }
          ],
          "mesh3d": [
           {
            "colorbar": {
             "outlinewidth": 0,
             "ticks": ""
            },
            "type": "mesh3d"
           }
          ],
          "parcoords": [
           {
            "line": {
             "colorbar": {
              "outlinewidth": 0,
              "ticks": ""
             }
            },
            "type": "parcoords"
           }
          ],
          "pie": [
           {
            "automargin": true,
            "type": "pie"
           }
          ],
          "scatter": [
           {
            "marker": {
             "colorbar": {
              "outlinewidth": 0,
              "ticks": ""
             }
            },
            "type": "scatter"
           }
          ],
          "scatter3d": [
           {
            "line": {
             "colorbar": {
              "outlinewidth": 0,
              "ticks": ""
             }
            },
            "marker": {
             "colorbar": {
              "outlinewidth": 0,
              "ticks": ""
             }
            },
            "type": "scatter3d"
           }
          ],
          "scattercarpet": [
           {
            "marker": {
             "colorbar": {
              "outlinewidth": 0,
              "ticks": ""
             }
            },
            "type": "scattercarpet"
           }
          ],
          "scattergeo": [
           {
            "marker": {
             "colorbar": {
              "outlinewidth": 0,
              "ticks": ""
             }
            },
            "type": "scattergeo"
           }
          ],
          "scattergl": [
           {
            "marker": {
             "colorbar": {
              "outlinewidth": 0,
              "ticks": ""
             }
            },
            "type": "scattergl"
           }
          ],
          "scattermapbox": [
           {
            "marker": {
             "colorbar": {
              "outlinewidth": 0,
              "ticks": ""
             }
            },
            "type": "scattermapbox"
           }
          ],
          "scatterpolar": [
           {
            "marker": {
             "colorbar": {
              "outlinewidth": 0,
              "ticks": ""
             }
            },
            "type": "scatterpolar"
           }
          ],
          "scatterpolargl": [
           {
            "marker": {
             "colorbar": {
              "outlinewidth": 0,
              "ticks": ""
             }
            },
            "type": "scatterpolargl"
           }
          ],
          "scatterternary": [
           {
            "marker": {
             "colorbar": {
              "outlinewidth": 0,
              "ticks": ""
             }
            },
            "type": "scatterternary"
           }
          ],
          "surface": [
           {
            "colorbar": {
             "outlinewidth": 0,
             "ticks": ""
            },
            "colorscale": [
             [
              0,
              "#0d0887"
             ],
             [
              0.1111111111111111,
              "#46039f"
             ],
             [
              0.2222222222222222,
              "#7201a8"
             ],
             [
              0.3333333333333333,
              "#9c179e"
             ],
             [
              0.4444444444444444,
              "#bd3786"
             ],
             [
              0.5555555555555556,
              "#d8576b"
             ],
             [
              0.6666666666666666,
              "#ed7953"
             ],
             [
              0.7777777777777778,
              "#fb9f3a"
             ],
             [
              0.8888888888888888,
              "#fdca26"
             ],
             [
              1,
              "#f0f921"
             ]
            ],
            "type": "surface"
           }
          ],
          "table": [
           {
            "cells": {
             "fill": {
              "color": "#EBF0F8"
             },
             "line": {
              "color": "white"
             }
            },
            "header": {
             "fill": {
              "color": "#C8D4E3"
             },
             "line": {
              "color": "white"
             }
            },
            "type": "table"
           }
          ]
         },
         "layout": {
          "annotationdefaults": {
           "arrowcolor": "#2a3f5f",
           "arrowhead": 0,
           "arrowwidth": 1
          },
          "autotypenumbers": "strict",
          "coloraxis": {
           "colorbar": {
            "outlinewidth": 0,
            "ticks": ""
           }
          },
          "colorscale": {
           "diverging": [
            [
             0,
             "#8e0152"
            ],
            [
             0.1,
             "#c51b7d"
            ],
            [
             0.2,
             "#de77ae"
            ],
            [
             0.3,
             "#f1b6da"
            ],
            [
             0.4,
             "#fde0ef"
            ],
            [
             0.5,
             "#f7f7f7"
            ],
            [
             0.6,
             "#e6f5d0"
            ],
            [
             0.7,
             "#b8e186"
            ],
            [
             0.8,
             "#7fbc41"
            ],
            [
             0.9,
             "#4d9221"
            ],
            [
             1,
             "#276419"
            ]
           ],
           "sequential": [
            [
             0,
             "#0d0887"
            ],
            [
             0.1111111111111111,
             "#46039f"
            ],
            [
             0.2222222222222222,
             "#7201a8"
            ],
            [
             0.3333333333333333,
             "#9c179e"
            ],
            [
             0.4444444444444444,
             "#bd3786"
            ],
            [
             0.5555555555555556,
             "#d8576b"
            ],
            [
             0.6666666666666666,
             "#ed7953"
            ],
            [
             0.7777777777777778,
             "#fb9f3a"
            ],
            [
             0.8888888888888888,
             "#fdca26"
            ],
            [
             1,
             "#f0f921"
            ]
           ],
           "sequentialminus": [
            [
             0,
             "#0d0887"
            ],
            [
             0.1111111111111111,
             "#46039f"
            ],
            [
             0.2222222222222222,
             "#7201a8"
            ],
            [
             0.3333333333333333,
             "#9c179e"
            ],
            [
             0.4444444444444444,
             "#bd3786"
            ],
            [
             0.5555555555555556,
             "#d8576b"
            ],
            [
             0.6666666666666666,
             "#ed7953"
            ],
            [
             0.7777777777777778,
             "#fb9f3a"
            ],
            [
             0.8888888888888888,
             "#fdca26"
            ],
            [
             1,
             "#f0f921"
            ]
           ]
          },
          "colorway": [
           "#636efa",
           "#EF553B",
           "#00cc96",
           "#ab63fa",
           "#FFA15A",
           "#19d3f3",
           "#FF6692",
           "#B6E880",
           "#FF97FF",
           "#FECB52"
          ],
          "font": {
           "color": "#2a3f5f"
          },
          "geo": {
           "bgcolor": "white",
           "lakecolor": "white",
           "landcolor": "#E5ECF6",
           "showlakes": true,
           "showland": true,
           "subunitcolor": "white"
          },
          "hoverlabel": {
           "align": "left"
          },
          "hovermode": "closest",
          "mapbox": {
           "style": "light"
          },
          "paper_bgcolor": "white",
          "plot_bgcolor": "#E5ECF6",
          "polar": {
           "angularaxis": {
            "gridcolor": "white",
            "linecolor": "white",
            "ticks": ""
           },
           "bgcolor": "#E5ECF6",
           "radialaxis": {
            "gridcolor": "white",
            "linecolor": "white",
            "ticks": ""
           }
          },
          "scene": {
           "xaxis": {
            "backgroundcolor": "#E5ECF6",
            "gridcolor": "white",
            "gridwidth": 2,
            "linecolor": "white",
            "showbackground": true,
            "ticks": "",
            "zerolinecolor": "white"
           },
           "yaxis": {
            "backgroundcolor": "#E5ECF6",
            "gridcolor": "white",
            "gridwidth": 2,
            "linecolor": "white",
            "showbackground": true,
            "ticks": "",
            "zerolinecolor": "white"
           },
           "zaxis": {
            "backgroundcolor": "#E5ECF6",
            "gridcolor": "white",
            "gridwidth": 2,
            "linecolor": "white",
            "showbackground": true,
            "ticks": "",
            "zerolinecolor": "white"
           }
          },
          "shapedefaults": {
           "line": {
            "color": "#2a3f5f"
           }
          },
          "ternary": {
           "aaxis": {
            "gridcolor": "white",
            "linecolor": "white",
            "ticks": ""
           },
           "baxis": {
            "gridcolor": "white",
            "linecolor": "white",
            "ticks": ""
           },
           "bgcolor": "#E5ECF6",
           "caxis": {
            "gridcolor": "white",
            "linecolor": "white",
            "ticks": ""
           }
          },
          "title": {
           "x": 0.05
          },
          "xaxis": {
           "automargin": true,
           "gridcolor": "white",
           "linecolor": "white",
           "ticks": "",
           "title": {
            "standoff": 15
           },
           "zerolinecolor": "white",
           "zerolinewidth": 2
          },
          "yaxis": {
           "automargin": true,
           "gridcolor": "white",
           "linecolor": "white",
           "ticks": "",
           "title": {
            "standoff": 15
           },
           "zerolinecolor": "white",
           "zerolinewidth": 2
          }
         }
        }
       }
      }
     },
     "metadata": {},
     "output_type": "display_data"
    }
   ],
   "source": [
    "fig = px.scatter_3d(df_subset, x='pca-one', y='pca-two', z='pca-three', color='vader_sentiment', hover_data=['text_cleaned'])\n",
    "fig.show()"
   ]
  },
  {
   "cell_type": "markdown",
   "metadata": {},
   "source": [
    "### Findings\n",
    "- The deep learning model converges after few epochs which implies the data may be insufficient. \n",
    "- The deep learning model does not provide a great benefit for accuracy. There are a few reasons such as the limited amount of data, the quality of the tweets. Generally people use around 1.5GB tweets and perform manual labeling. The complexity of the data is better to be used on a simpler model.\n",
    "- Logistic Regression and SVM is suprisingly better than deep learning with around 60% accuracy.\n",
    "- Manual labelling would be relatively critical for a good accuracy.\n",
    "- Predicting price movement would not be an easy task as the underlying assumption may not be true (i.e. positive sentiment could still lead to drop in price) "
   ]
  },
  {
   "cell_type": "markdown",
   "metadata": {},
   "source": [
    "### Suggestions\n",
    "- Introduce the label for neutral sentiment instead of a binary label\n",
    "- Consider another metrics to label the data such as positive when `price_change` is greater than a certain threshold and vice versa. Tuning can be done on how large `price_change` should be.\n",
    "- Having properly labelled data would likely boost the accuracy to a great extent. It also allow more training samples since vectors do not need to merge into one day and label them by price movement.\n",
    "- Try to use pre-trained model such as `GloVe' and 'Word2Vec'. Reference: https://nadbordrozd.github.io/blog/2016/05/20/text-classification-with-word2vec/ "
   ]
  },
  {
   "cell_type": "markdown",
   "metadata": {},
   "source": [
    "### Reference\n",
    "\n",
    "To build a full-fledged NLP model, https://peltarion.com/knowledge-center/documentation/modeling-view/build-an-ai-model/blocks/bert-encoder is very helpful in understanding how advanced models (BERT) take semantic meaning into account. "
   ]
  }
 ],
 "metadata": {
  "kernelspec": {
   "display_name": "Python 3.6.13 ('tensorflow-use-2')",
   "language": "python",
   "name": "python3"
  },
  "language_info": {
   "codemirror_mode": {
    "name": "ipython",
    "version": 3
   },
   "file_extension": ".py",
   "mimetype": "text/x-python",
   "name": "python",
   "nbconvert_exporter": "python",
   "pygments_lexer": "ipython3",
   "version": "3.6.13"
  },
  "orig_nbformat": 4,
  "vscode": {
   "interpreter": {
    "hash": "e94e7c3326c713ecf6a5c84220451e2994432548d3ba8bd7b0e729c4c1584b32"
   }
  }
 },
 "nbformat": 4,
 "nbformat_minor": 2
}
